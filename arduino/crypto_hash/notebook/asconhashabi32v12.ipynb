{
 "cells": [
  {
   "attachments": {},
   "cell_type": "markdown",
   "metadata": {},
   "source": [
    "# Analisi dei dati raccolti"
   ]
  },
  {
   "attachments": {},
   "cell_type": "markdown",
   "metadata": {},
   "source": [
    "## Setup"
   ]
  },
  {
   "cell_type": "code",
   "execution_count": 1,
   "metadata": {},
   "outputs": [],
   "source": [
    "import pandas as pd"
   ]
  },
  {
   "cell_type": "code",
   "execution_count": 2,
   "metadata": {},
   "outputs": [],
   "source": [
    "def print_data(series: pd.Series) -> None:\n",
    "    print(series.value_counts())\n",
    "    print()\n",
    "    print(f\"Massimo: {series.max()}\\nMinimo: {series.min()}\\nMedia: {series.mean()}\\nVarianza: {series.var()}\")"
   ]
  },
  {
   "attachments": {},
   "cell_type": "markdown",
   "metadata": {},
   "source": [
    "## Asconhashabi32v12"
   ]
  },
  {
   "cell_type": "code",
   "execution_count": 3,
   "metadata": {},
   "outputs": [],
   "source": [
    "path = \"../asconhashabi32v12/data/{}.csv\""
   ]
  },
  {
   "attachments": {},
   "cell_type": "markdown",
   "metadata": {},
   "source": [
    "### Bi32_armv7m"
   ]
  },
  {
   "cell_type": "code",
   "execution_count": 4,
   "metadata": {},
   "outputs": [],
   "source": [
    "with open(path.format(\"bi32_armv7m\"), \"r\") as f:\n",
    "    ahabi32_bi32 = pd.read_csv(f, delimiter=\";\")"
   ]
  },
  {
   "attachments": {},
   "cell_type": "markdown",
   "metadata": {},
   "source": [
    "#### PT vuoto"
   ]
  },
  {
   "cell_type": "code",
   "execution_count": 5,
   "metadata": {},
   "outputs": [
    {
     "name": "stdout",
     "output_type": "stream",
     "text": [
      "0B\n",
      "52    918\n",
      "51     41\n",
      "53     41\n",
      "Name: count, dtype: int64\n",
      "\n",
      "Massimo: 53\n",
      "Minimo: 51\n",
      "Media: 52.0\n",
      "Varianza: 0.08208208208208208\n"
     ]
    }
   ],
   "source": [
    "# Generazione hash\n",
    "data = ahabi32_bi32[\"0B\"]\n",
    "\n",
    "print_data(data)"
   ]
  },
  {
   "attachments": {},
   "cell_type": "markdown",
   "metadata": {},
   "source": [
    "#### PT 8 byte"
   ]
  },
  {
   "cell_type": "code",
   "execution_count": 6,
   "metadata": {},
   "outputs": [
    {
     "name": "stdout",
     "output_type": "stream",
     "text": [
      "8B\n",
      "62    959\n",
      "63     40\n",
      "61      1\n",
      "Name: count, dtype: int64\n",
      "\n",
      "Massimo: 63\n",
      "Minimo: 61\n",
      "Media: 62.039\n",
      "Varianza: 0.03951851851851851\n"
     ]
    }
   ],
   "source": [
    "# Generazione hash\n",
    "data = ahabi32_bi32[\"8B\"]\n",
    "\n",
    "print_data(data)"
   ]
  },
  {
   "attachments": {},
   "cell_type": "markdown",
   "metadata": {},
   "source": [
    "#### PT 16 byte"
   ]
  },
  {
   "cell_type": "code",
   "execution_count": 7,
   "metadata": {},
   "outputs": [
    {
     "name": "stdout",
     "output_type": "stream",
     "text": [
      "16B\n",
      "71    880\n",
      "72    120\n",
      "Name: count, dtype: int64\n",
      "\n",
      "Massimo: 72\n",
      "Minimo: 71\n",
      "Media: 71.12\n",
      "Varianza: 0.1057057057057057\n"
     ]
    }
   ],
   "source": [
    "# Generazione hash\n",
    "data = ahabi32_bi32[\"16B\"]\n",
    "\n",
    "print_data(data)"
   ]
  },
  {
   "attachments": {},
   "cell_type": "markdown",
   "metadata": {},
   "source": [
    "#### PT 32 byte"
   ]
  },
  {
   "cell_type": "code",
   "execution_count": 8,
   "metadata": {},
   "outputs": [
    {
     "name": "stdout",
     "output_type": "stream",
     "text": [
      "32B\n",
      "91    919\n",
      "92     80\n",
      "93      1\n",
      "Name: count, dtype: int64\n",
      "\n",
      "Massimo: 93\n",
      "Minimo: 91\n",
      "Media: 91.082\n",
      "Varianza: 0.07735335335335336\n"
     ]
    }
   ],
   "source": [
    "# Generazione hash\n",
    "data = ahabi32_bi32[\"32B\"]\n",
    "\n",
    "print_data(data)"
   ]
  },
  {
   "attachments": {},
   "cell_type": "markdown",
   "metadata": {},
   "source": [
    "#### PT 64 byte"
   ]
  },
  {
   "cell_type": "code",
   "execution_count": 9,
   "metadata": {},
   "outputs": [
    {
     "name": "stdout",
     "output_type": "stream",
     "text": [
      "64B\n",
      "130    877\n",
      "131    121\n",
      "132      2\n",
      "Name: count, dtype: int64\n",
      "\n",
      "Massimo: 132\n",
      "Minimo: 130\n",
      "Media: 130.125\n",
      "Varianza: 0.11348848848848848\n"
     ]
    }
   ],
   "source": [
    "# Generazione hash\n",
    "data = ahabi32_bi32[\"64B\"]\n",
    "\n",
    "print_data(data)"
   ]
  },
  {
   "attachments": {},
   "cell_type": "markdown",
   "metadata": {},
   "source": [
    "#### PT 128 byte"
   ]
  },
  {
   "cell_type": "code",
   "execution_count": 10,
   "metadata": {},
   "outputs": [
    {
     "name": "stdout",
     "output_type": "stream",
     "text": [
      "128B\n",
      "209    799\n",
      "210    201\n",
      "Name: count, dtype: int64\n",
      "\n",
      "Massimo: 210\n",
      "Minimo: 209\n",
      "Media: 209.201\n",
      "Varianza: 0.16075975975975976\n"
     ]
    }
   ],
   "source": [
    "# Generazione hash\n",
    "data = ahabi32_bi32[\"128B\"]\n",
    "\n",
    "print_data(data)"
   ]
  },
  {
   "attachments": {},
   "cell_type": "markdown",
   "metadata": {},
   "source": [
    "#### PT 256 byte"
   ]
  },
  {
   "cell_type": "code",
   "execution_count": 11,
   "metadata": {},
   "outputs": [
    {
     "name": "stdout",
     "output_type": "stream",
     "text": [
      "256B\n",
      "366    598\n",
      "367    360\n",
      "365     42\n",
      "Name: count, dtype: int64\n",
      "\n",
      "Massimo: 367\n",
      "Minimo: 365\n",
      "Media: 366.318\n",
      "Varianza: 0.3011771771771773\n"
     ]
    }
   ],
   "source": [
    "# Generazione hash\n",
    "data = ahabi32_bi32[\"256B\"]\n",
    "\n",
    "print_data(data)"
   ]
  },
  {
   "attachments": {},
   "cell_type": "markdown",
   "metadata": {},
   "source": [
    "#### PT 512 byte"
   ]
  },
  {
   "cell_type": "code",
   "execution_count": 12,
   "metadata": {},
   "outputs": [
    {
     "name": "stdout",
     "output_type": "stream",
     "text": [
      "512B\n",
      "681    679\n",
      "680    280\n",
      "679     40\n",
      "682      1\n",
      "Name: count, dtype: int64\n",
      "\n",
      "Massimo: 682\n",
      "Minimo: 679\n",
      "Media: 680.641\n",
      "Varianza: 0.31243143143143143\n"
     ]
    }
   ],
   "source": [
    "# Generazione hash\n",
    "data = ahabi32_bi32[\"512B\"]\n",
    "\n",
    "print_data(data)"
   ]
  },
  {
   "attachments": {},
   "cell_type": "markdown",
   "metadata": {},
   "source": [
    "#### PT 1024 byte"
   ]
  },
  {
   "cell_type": "code",
   "execution_count": 13,
   "metadata": {},
   "outputs": [
    {
     "name": "stdout",
     "output_type": "stream",
     "text": [
      "1024B\n",
      "1310    679\n",
      "1311    319\n",
      "1309      1\n",
      "1312      1\n",
      "Name: count, dtype: int64\n",
      "\n",
      "Massimo: 1312\n",
      "Minimo: 1309\n",
      "Media: 1310.32\n",
      "Varianza: 0.22182182182182186\n"
     ]
    }
   ],
   "source": [
    "# Generazione hash\n",
    "data = ahabi32_bi32[\"1024B\"]\n",
    "\n",
    "print_data(data)"
   ]
  },
  {
   "attachments": {},
   "cell_type": "markdown",
   "metadata": {},
   "source": [
    "### Ref"
   ]
  },
  {
   "cell_type": "code",
   "execution_count": 14,
   "metadata": {},
   "outputs": [],
   "source": [
    "with open(path.format(\"ref\"), \"r\") as f:\n",
    "    ahabi32_ref = pd.read_csv(f, delimiter=\";\")"
   ]
  },
  {
   "attachments": {},
   "cell_type": "markdown",
   "metadata": {},
   "source": [
    "#### PT vuoto"
   ]
  },
  {
   "cell_type": "code",
   "execution_count": 15,
   "metadata": {},
   "outputs": [
    {
     "name": "stdout",
     "output_type": "stream",
     "text": [
      "0B\n",
      "514    480\n",
      "515    437\n",
      "516     81\n",
      "513      2\n",
      "Name: count, dtype: int64\n",
      "\n",
      "Massimo: 516\n",
      "Minimo: 513\n",
      "Media: 514.597\n",
      "Varianza: 0.40699799799799813\n"
     ]
    }
   ],
   "source": [
    "# Generazione hash\n",
    "data = ahabi32_ref[\"0B\"]\n",
    "\n",
    "print_data(data)"
   ]
  },
  {
   "attachments": {},
   "cell_type": "markdown",
   "metadata": {},
   "source": [
    "#### PT 8 byte"
   ]
  },
  {
   "cell_type": "code",
   "execution_count": 16,
   "metadata": {},
   "outputs": [
    {
     "name": "stdout",
     "output_type": "stream",
     "text": [
      "8B\n",
      "603    594\n",
      "602    361\n",
      "601     43\n",
      "600      1\n",
      "604      1\n",
      "Name: count, dtype: int64\n",
      "\n",
      "Massimo: 604\n",
      "Minimo: 600\n",
      "Media: 602.551\n",
      "Varianza: 0.34174074074074084\n"
     ]
    }
   ],
   "source": [
    "# Generazione hash\n",
    "data = ahabi32_ref[\"8B\"]\n",
    "\n",
    "print_data(data)"
   ]
  },
  {
   "attachments": {},
   "cell_type": "markdown",
   "metadata": {},
   "source": [
    "#### PT 16 byte"
   ]
  },
  {
   "cell_type": "code",
   "execution_count": 17,
   "metadata": {},
   "outputs": [
    {
     "name": "stdout",
     "output_type": "stream",
     "text": [
      "16B\n",
      "689    677\n",
      "688    319\n",
      "690      4\n",
      "Name: count, dtype: int64\n",
      "\n",
      "Massimo: 690\n",
      "Minimo: 688\n",
      "Media: 688.685\n",
      "Varianza: 0.22399899899899897\n"
     ]
    }
   ],
   "source": [
    "# Generazione hash\n",
    "data = ahabi32_ref[\"16B\"]\n",
    "\n",
    "print_data(data)"
   ]
  },
  {
   "attachments": {},
   "cell_type": "markdown",
   "metadata": {},
   "source": [
    "#### PT 32 byte"
   ]
  },
  {
   "cell_type": "code",
   "execution_count": 18,
   "metadata": {},
   "outputs": [
    {
     "name": "stdout",
     "output_type": "stream",
     "text": [
      "32B\n",
      "865    837\n",
      "864    161\n",
      "866      2\n",
      "Name: count, dtype: int64\n",
      "\n",
      "Massimo: 866\n",
      "Minimo: 864\n",
      "Media: 864.841\n",
      "Varianza: 0.13785685685685692\n"
     ]
    }
   ],
   "source": [
    "# Generazione hash\n",
    "data = ahabi32_ref[\"32B\"]\n",
    "\n",
    "print_data(data)"
   ]
  },
  {
   "attachments": {},
   "cell_type": "markdown",
   "metadata": {},
   "source": [
    "#### PT 64 byte"
   ]
  },
  {
   "cell_type": "code",
   "execution_count": 19,
   "metadata": {},
   "outputs": [
    {
     "name": "stdout",
     "output_type": "stream",
     "text": [
      "64B\n",
      "1215    798\n",
      "1216    200\n",
      "1217      2\n",
      "Name: count, dtype: int64\n",
      "\n",
      "Massimo: 1217\n",
      "Minimo: 1215\n",
      "Media: 1215.204\n",
      "Varianza: 0.16655055055055054\n"
     ]
    }
   ],
   "source": [
    "# Generazione hash\n",
    "data = ahabi32_ref[\"64B\"]\n",
    "\n",
    "print_data(data)"
   ]
  },
  {
   "attachments": {},
   "cell_type": "markdown",
   "metadata": {},
   "source": [
    "#### PT 128 byte"
   ]
  },
  {
   "cell_type": "code",
   "execution_count": 20,
   "metadata": {},
   "outputs": [
    {
     "name": "stdout",
     "output_type": "stream",
     "text": [
      "128B\n",
      "1917    682\n",
      "1916    318\n",
      "Name: count, dtype: int64\n",
      "\n",
      "Massimo: 1917\n",
      "Minimo: 1916\n",
      "Media: 1916.682\n",
      "Varianza: 0.2170930930930932\n"
     ]
    }
   ],
   "source": [
    "# Generazione hash\n",
    "data = ahabi32_ref[\"128B\"]\n",
    "\n",
    "print_data(data)"
   ]
  },
  {
   "attachments": {},
   "cell_type": "markdown",
   "metadata": {},
   "source": [
    "#### PT 256 byte"
   ]
  },
  {
   "cell_type": "code",
   "execution_count": 21,
   "metadata": {},
   "outputs": [
    {
     "name": "stdout",
     "output_type": "stream",
     "text": [
      "256B\n",
      "3318    679\n",
      "3319    319\n",
      "3320      1\n",
      "3321      1\n",
      "Name: count, dtype: int64\n",
      "\n",
      "Massimo: 3321\n",
      "Minimo: 3318\n",
      "Media: 3318.324\n",
      "Varianza: 0.2272512512512512\n"
     ]
    }
   ],
   "source": [
    "# Generazione hash\n",
    "data = ahabi32_ref[\"256B\"]\n",
    "\n",
    "print_data(data)"
   ]
  },
  {
   "attachments": {},
   "cell_type": "markdown",
   "metadata": {},
   "source": [
    "#### PT 512 byte"
   ]
  },
  {
   "cell_type": "code",
   "execution_count": 22,
   "metadata": {},
   "outputs": [
    {
     "name": "stdout",
     "output_type": "stream",
     "text": [
      "512B\n",
      "6123    800\n",
      "6124    119\n",
      "6122     81\n",
      "Name: count, dtype: int64\n",
      "\n",
      "Massimo: 6124\n",
      "Minimo: 6122\n",
      "Media: 6123.038\n",
      "Varianza: 0.19875475475475482\n"
     ]
    }
   ],
   "source": [
    "# Generazione hash\n",
    "data = ahabi32_ref[\"512B\"]\n",
    "\n",
    "print_data(data)"
   ]
  },
  {
   "attachments": {},
   "cell_type": "markdown",
   "metadata": {},
   "source": [
    "#### PT 1024 byte"
   ]
  },
  {
   "cell_type": "code",
   "execution_count": 23,
   "metadata": {},
   "outputs": [
    {
     "name": "stdout",
     "output_type": "stream",
     "text": [
      "1024B\n",
      "11731    559\n",
      "11730    279\n",
      "11732    161\n",
      "11733      1\n",
      "Name: count, dtype: int64\n",
      "\n",
      "Massimo: 11733\n",
      "Minimo: 11730\n",
      "Media: 11730.884\n",
      "Varianza: 0.430974974974975\n"
     ]
    }
   ],
   "source": [
    "# Generazione hash\n",
    "data = ahabi32_ref[\"1024B\"]\n",
    "\n",
    "print_data(data)"
   ]
  }
 ],
 "metadata": {
  "kernelspec": {
   "display_name": "Python 3",
   "language": "python",
   "name": "python3"
  },
  "language_info": {
   "codemirror_mode": {
    "name": "ipython",
    "version": 3
   },
   "file_extension": ".py",
   "mimetype": "text/x-python",
   "name": "python",
   "nbconvert_exporter": "python",
   "pygments_lexer": "ipython3",
   "version": "3.11.2"
  },
  "orig_nbformat": 4
 },
 "nbformat": 4,
 "nbformat_minor": 2
}
