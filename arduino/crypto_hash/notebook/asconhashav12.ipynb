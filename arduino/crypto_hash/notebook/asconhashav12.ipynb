{
 "cells": [
  {
   "attachments": {},
   "cell_type": "markdown",
   "metadata": {},
   "source": [
    "# Analisi dei dati raccolti"
   ]
  },
  {
   "attachments": {},
   "cell_type": "markdown",
   "metadata": {},
   "source": [
    "## Setup"
   ]
  },
  {
   "cell_type": "code",
   "execution_count": 1,
   "metadata": {},
   "outputs": [],
   "source": [
    "import pandas as pd"
   ]
  },
  {
   "cell_type": "code",
   "execution_count": 2,
   "metadata": {},
   "outputs": [],
   "source": [
    "def print_data(series: pd.Series) -> None:\n",
    "    print(series.value_counts())\n",
    "    print()\n",
    "    print(f\"Massimo: {series.max()}\\nMinimo: {series.min()}\\nMedia: {series.mean()}\\nVarianza: {series.var()}\")"
   ]
  },
  {
   "attachments": {},
   "cell_type": "markdown",
   "metadata": {},
   "source": [
    "## Asconhashav12"
   ]
  },
  {
   "cell_type": "code",
   "execution_count": 3,
   "metadata": {},
   "outputs": [],
   "source": [
    "path = \"../asconhashav12/data/{}.csv\""
   ]
  },
  {
   "attachments": {},
   "cell_type": "markdown",
   "metadata": {},
   "source": [
    "### Armv7m"
   ]
  },
  {
   "cell_type": "code",
   "execution_count": 4,
   "metadata": {},
   "outputs": [],
   "source": [
    "with open(path.format(\"armv7m\"), \"r\") as f:\n",
    "    aha_armv7m = pd.read_csv(f, delimiter=\";\")"
   ]
  },
  {
   "attachments": {},
   "cell_type": "markdown",
   "metadata": {},
   "source": [
    "#### PT vuoto"
   ]
  },
  {
   "cell_type": "code",
   "execution_count": 5,
   "metadata": {},
   "outputs": [
    {
     "name": "stdout",
     "output_type": "stream",
     "text": [
      "0B\n",
      "69    999\n",
      "70      1\n",
      "Name: count, dtype: int64\n",
      "\n",
      "Massimo: 70\n",
      "Minimo: 69\n",
      "Media: 69.001\n",
      "Varianza: 0.0010000000000000002\n"
     ]
    }
   ],
   "source": [
    "# Generazione hash\n",
    "data = aha_armv7m[\"0B\"]\n",
    "\n",
    "print_data(data)"
   ]
  },
  {
   "attachments": {},
   "cell_type": "markdown",
   "metadata": {},
   "source": [
    "#### PT 8 byte"
   ]
  },
  {
   "cell_type": "code",
   "execution_count": 6,
   "metadata": {},
   "outputs": [
    {
     "name": "stdout",
     "output_type": "stream",
     "text": [
      "8B\n",
      "83    800\n",
      "84    200\n",
      "Name: count, dtype: int64\n",
      "\n",
      "Massimo: 84\n",
      "Minimo: 83\n",
      "Media: 83.2\n",
      "Varianza: 0.1601601601601601\n"
     ]
    }
   ],
   "source": [
    "# Generazione hash\n",
    "data = aha_armv7m[\"8B\"]\n",
    "\n",
    "print_data(data)"
   ]
  },
  {
   "attachments": {},
   "cell_type": "markdown",
   "metadata": {},
   "source": [
    "#### PT 16 byte"
   ]
  },
  {
   "cell_type": "code",
   "execution_count": 7,
   "metadata": {},
   "outputs": [
    {
     "name": "stdout",
     "output_type": "stream",
     "text": [
      "16B\n",
      "98    798\n",
      "99    199\n",
      "97      3\n",
      "Name: count, dtype: int64\n",
      "\n",
      "Massimo: 99\n",
      "Minimo: 97\n",
      "Media: 98.196\n",
      "Varianza: 0.16374774774774775\n"
     ]
    }
   ],
   "source": [
    "# Generazione hash\n",
    "data = aha_armv7m[\"16B\"]\n",
    "\n",
    "print_data(data)"
   ]
  },
  {
   "attachments": {},
   "cell_type": "markdown",
   "metadata": {},
   "source": [
    "#### PT 32 byte"
   ]
  },
  {
   "cell_type": "code",
   "execution_count": 8,
   "metadata": {},
   "outputs": [
    {
     "name": "stdout",
     "output_type": "stream",
     "text": [
      "32B\n",
      "126    998\n",
      "127      2\n",
      "Name: count, dtype: int64\n",
      "\n",
      "Massimo: 127\n",
      "Minimo: 126\n",
      "Media: 126.002\n",
      "Varianza: 0.001997997997997999\n"
     ]
    }
   ],
   "source": [
    "# Generazione hash\n",
    "data = aha_armv7m[\"32B\"]\n",
    "\n",
    "print_data(data)"
   ]
  },
  {
   "attachments": {},
   "cell_type": "markdown",
   "metadata": {},
   "source": [
    "#### PT 64 byte"
   ]
  },
  {
   "cell_type": "code",
   "execution_count": 9,
   "metadata": {},
   "outputs": [
    {
     "name": "stdout",
     "output_type": "stream",
     "text": [
      "64B\n",
      "183    798\n",
      "185    200\n",
      "184      2\n",
      "Name: count, dtype: int64\n",
      "\n",
      "Massimo: 185\n",
      "Minimo: 183\n",
      "Media: 183.402\n",
      "Varianza: 0.641037037037037\n"
     ]
    }
   ],
   "source": [
    "# Generazione hash\n",
    "data = aha_armv7m[\"64B\"]\n",
    "\n",
    "print_data(data)"
   ]
  },
  {
   "attachments": {},
   "cell_type": "markdown",
   "metadata": {},
   "source": [
    "#### PT 128 byte"
   ]
  },
  {
   "cell_type": "code",
   "execution_count": 10,
   "metadata": {},
   "outputs": [
    {
     "name": "stdout",
     "output_type": "stream",
     "text": [
      "128B\n",
      "298    600\n",
      "299    399\n",
      "300      1\n",
      "Name: count, dtype: int64\n",
      "\n",
      "Massimo: 300\n",
      "Minimo: 298\n",
      "Media: 298.401\n",
      "Varianza: 0.24244144144144134\n"
     ]
    }
   ],
   "source": [
    "# Generazione hash\n",
    "data = aha_armv7m[\"128B\"]\n",
    "\n",
    "print_data(data)"
   ]
  },
  {
   "attachments": {},
   "cell_type": "markdown",
   "metadata": {},
   "source": [
    "#### PT 256 byte"
   ]
  },
  {
   "cell_type": "code",
   "execution_count": 11,
   "metadata": {},
   "outputs": [
    {
     "name": "stdout",
     "output_type": "stream",
     "text": [
      "256B\n",
      "528    601\n",
      "527    398\n",
      "526      1\n",
      "Name: count, dtype: int64\n",
      "\n",
      "Massimo: 528\n",
      "Minimo: 526\n",
      "Media: 527.6\n",
      "Varianza: 0.24224224224224236\n"
     ]
    }
   ],
   "source": [
    "# Generazione hash\n",
    "data = aha_armv7m[\"256B\"]\n",
    "\n",
    "print_data(data)"
   ]
  },
  {
   "attachments": {},
   "cell_type": "markdown",
   "metadata": {},
   "source": [
    "#### PT 512 byte"
   ]
  },
  {
   "cell_type": "code",
   "execution_count": 12,
   "metadata": {},
   "outputs": [
    {
     "name": "stdout",
     "output_type": "stream",
     "text": [
      "512B\n",
      "987    797\n",
      "986    203\n",
      "Name: count, dtype: int64\n",
      "\n",
      "Massimo: 987\n",
      "Minimo: 986\n",
      "Media: 986.797\n",
      "Varianza: 0.1619529529529529\n"
     ]
    }
   ],
   "source": [
    "# Generazione hash\n",
    "data = aha_armv7m[\"512B\"]\n",
    "\n",
    "print_data(data)"
   ]
  },
  {
   "attachments": {},
   "cell_type": "markdown",
   "metadata": {},
   "source": [
    "#### PT 1024 byte"
   ]
  },
  {
   "cell_type": "code",
   "execution_count": 13,
   "metadata": {},
   "outputs": [
    {
     "name": "stdout",
     "output_type": "stream",
     "text": [
      "1024B\n",
      "1903    799\n",
      "1902    200\n",
      "1904      1\n",
      "Name: count, dtype: int64\n",
      "\n",
      "Massimo: 1904\n",
      "Minimo: 1902\n",
      "Media: 1902.801\n",
      "Varianza: 0.16156056056056056\n"
     ]
    }
   ],
   "source": [
    "# Generazione hash\n",
    "data = aha_armv7m[\"1024B\"]\n",
    "\n",
    "print_data(data)"
   ]
  },
  {
   "attachments": {},
   "cell_type": "markdown",
   "metadata": {},
   "source": [
    "### Armv7m_lowsize"
   ]
  },
  {
   "cell_type": "code",
   "execution_count": 14,
   "metadata": {},
   "outputs": [],
   "source": [
    "with open(path.format(\"armv7m_lowsize\"), \"r\") as f:\n",
    "    aha_lowsize = pd.read_csv(f, delimiter=\";\")"
   ]
  },
  {
   "attachments": {},
   "cell_type": "markdown",
   "metadata": {},
   "source": [
    "#### PT vuoto"
   ]
  },
  {
   "cell_type": "code",
   "execution_count": 15,
   "metadata": {},
   "outputs": [
    {
     "name": "stdout",
     "output_type": "stream",
     "text": [
      "0B\n",
      "56    999\n",
      "57      1\n",
      "Name: count, dtype: int64\n",
      "\n",
      "Massimo: 57\n",
      "Minimo: 56\n",
      "Media: 56.001\n",
      "Varianza: 0.0010000000000000002\n"
     ]
    }
   ],
   "source": [
    "# Generazione hash\n",
    "data = aha_lowsize[\"0B\"]\n",
    "\n",
    "print_data(data)"
   ]
  },
  {
   "attachments": {},
   "cell_type": "markdown",
   "metadata": {},
   "source": [
    "#### PT 8 byte"
   ]
  },
  {
   "cell_type": "code",
   "execution_count": 16,
   "metadata": {},
   "outputs": [
    {
     "name": "stdout",
     "output_type": "stream",
     "text": [
      "8B\n",
      "67    998\n",
      "68      1\n",
      "69      1\n",
      "Name: count, dtype: int64\n",
      "\n",
      "Massimo: 69\n",
      "Minimo: 67\n",
      "Media: 67.003\n",
      "Varianza: 0.004995995995995996\n"
     ]
    }
   ],
   "source": [
    "# Generazione hash\n",
    "data = aha_lowsize[\"8B\"]\n",
    "\n",
    "print_data(data)"
   ]
  },
  {
   "attachments": {},
   "cell_type": "markdown",
   "metadata": {},
   "source": [
    "#### PT 16 byte"
   ]
  },
  {
   "cell_type": "code",
   "execution_count": 17,
   "metadata": {},
   "outputs": [
    {
     "name": "stdout",
     "output_type": "stream",
     "text": [
      "16B\n",
      "79    801\n",
      "80    199\n",
      "Name: count, dtype: int64\n",
      "\n",
      "Massimo: 80\n",
      "Minimo: 79\n",
      "Media: 79.199\n",
      "Varianza: 0.1595585585585586\n"
     ]
    }
   ],
   "source": [
    "# Generazione hash\n",
    "data = aha_lowsize[\"16B\"]\n",
    "\n",
    "print_data(data)"
   ]
  },
  {
   "attachments": {},
   "cell_type": "markdown",
   "metadata": {},
   "source": [
    "#### PT 32 byte"
   ]
  },
  {
   "cell_type": "code",
   "execution_count": 18,
   "metadata": {},
   "outputs": [
    {
     "name": "stdout",
     "output_type": "stream",
     "text": [
      "32B\n",
      "102    999\n",
      "103      1\n",
      "Name: count, dtype: int64\n",
      "\n",
      "Massimo: 103\n",
      "Minimo: 102\n",
      "Media: 102.001\n",
      "Varianza: 0.0010000000000000002\n"
     ]
    }
   ],
   "source": [
    "# Generazione hash\n",
    "data = aha_lowsize[\"32B\"]\n",
    "\n",
    "print_data(data)"
   ]
  },
  {
   "attachments": {},
   "cell_type": "markdown",
   "metadata": {},
   "source": [
    "#### PT 64 byte"
   ]
  },
  {
   "cell_type": "code",
   "execution_count": 19,
   "metadata": {},
   "outputs": [
    {
     "name": "stdout",
     "output_type": "stream",
     "text": [
      "64B\n",
      "149    996\n",
      "150      3\n",
      "151      1\n",
      "Name: count, dtype: int64\n",
      "\n",
      "Massimo: 151\n",
      "Minimo: 149\n",
      "Media: 149.005\n",
      "Varianza: 0.006981981981981982\n"
     ]
    }
   ],
   "source": [
    "# Generazione hash\n",
    "data = aha_lowsize[\"64B\"]\n",
    "\n",
    "print_data(data)"
   ]
  },
  {
   "attachments": {},
   "cell_type": "markdown",
   "metadata": {},
   "source": [
    "#### PT 128 byte"
   ]
  },
  {
   "cell_type": "code",
   "execution_count": 20,
   "metadata": {},
   "outputs": [
    {
     "name": "stdout",
     "output_type": "stream",
     "text": [
      "128B\n",
      "243    599\n",
      "244    400\n",
      "245      1\n",
      "Name: count, dtype: int64\n",
      "\n",
      "Massimo: 245\n",
      "Minimo: 243\n",
      "Media: 243.402\n",
      "Varianza: 0.24263863863863866\n"
     ]
    }
   ],
   "source": [
    "# Generazione hash\n",
    "data = aha_lowsize[\"128B\"]\n",
    "\n",
    "print_data(data)"
   ]
  },
  {
   "attachments": {},
   "cell_type": "markdown",
   "metadata": {},
   "source": [
    "#### PT 256 byte"
   ]
  },
  {
   "cell_type": "code",
   "execution_count": 21,
   "metadata": {},
   "outputs": [
    {
     "name": "stdout",
     "output_type": "stream",
     "text": [
      "256B\n",
      "430    598\n",
      "431    401\n",
      "432      1\n",
      "Name: count, dtype: int64\n",
      "\n",
      "Massimo: 432\n",
      "Minimo: 430\n",
      "Media: 430.403\n",
      "Varianza: 0.24283383383383392\n"
     ]
    }
   ],
   "source": [
    "# Generazione hash\n",
    "data = aha_lowsize[\"256B\"]\n",
    "\n",
    "print_data(data)"
   ]
  },
  {
   "attachments": {},
   "cell_type": "markdown",
   "metadata": {},
   "source": [
    "#### PT 512 byte"
   ]
  },
  {
   "cell_type": "code",
   "execution_count": 22,
   "metadata": {},
   "outputs": [
    {
     "name": "stdout",
     "output_type": "stream",
     "text": [
      "512B\n",
      "805    799\n",
      "804    199\n",
      "806      2\n",
      "Name: count, dtype: int64\n",
      "\n",
      "Massimo: 806\n",
      "Minimo: 804\n",
      "Media: 804.803\n",
      "Varianza: 0.16235335335335332\n"
     ]
    }
   ],
   "source": [
    "# Generazione hash\n",
    "data = aha_lowsize[\"512B\"]\n",
    "\n",
    "print_data(data)"
   ]
  },
  {
   "attachments": {},
   "cell_type": "markdown",
   "metadata": {},
   "source": [
    "#### PT 1024 byte"
   ]
  },
  {
   "cell_type": "code",
   "execution_count": 23,
   "metadata": {},
   "outputs": [
    {
     "name": "stdout",
     "output_type": "stream",
     "text": [
      "1024B\n",
      "1555    597\n",
      "1554    400\n",
      "1556      2\n",
      "1557      1\n",
      "Name: count, dtype: int64\n",
      "\n",
      "Massimo: 1557\n",
      "Minimo: 1554\n",
      "Media: 1554.604\n",
      "Varianza: 0.24943343343343338\n"
     ]
    }
   ],
   "source": [
    "# Generazione hash\n",
    "data = aha_lowsize[\"1024B\"]\n",
    "\n",
    "print_data(data)"
   ]
  },
  {
   "attachments": {},
   "cell_type": "markdown",
   "metadata": {},
   "source": [
    "### Armv7m_small"
   ]
  },
  {
   "cell_type": "code",
   "execution_count": 24,
   "metadata": {},
   "outputs": [],
   "source": [
    "with open(path.format(\"armv7m_small\"), \"r\") as f:\n",
    "    aha_small = pd.read_csv(f, delimiter=\";\")"
   ]
  },
  {
   "cell_type": "markdown",
   "metadata": {},
   "source": [
    "#### PT vuoto"
   ]
  },
  {
   "cell_type": "code",
   "execution_count": 25,
   "metadata": {},
   "outputs": [
    {
     "name": "stdout",
     "output_type": "stream",
     "text": [
      "0B\n",
      "56    997\n",
      "55      2\n",
      "57      1\n",
      "Name: count, dtype: int64\n",
      "\n",
      "Massimo: 57\n",
      "Minimo: 55\n",
      "Media: 55.999\n",
      "Varianza: 0.003002002002002001\n"
     ]
    }
   ],
   "source": [
    "# Generazione hash\n",
    "data = aha_small[\"0B\"]\n",
    "\n",
    "print_data(data)"
   ]
  },
  {
   "attachments": {},
   "cell_type": "markdown",
   "metadata": {},
   "source": [
    "#### PT 8 byte"
   ]
  },
  {
   "cell_type": "code",
   "execution_count": 26,
   "metadata": {},
   "outputs": [
    {
     "name": "stdout",
     "output_type": "stream",
     "text": [
      "8B\n",
      "67    997\n",
      "68      2\n",
      "69      1\n",
      "Name: count, dtype: int64\n",
      "\n",
      "Massimo: 69\n",
      "Minimo: 67\n",
      "Media: 67.004\n",
      "Varianza: 0.005989989989989988\n"
     ]
    }
   ],
   "source": [
    "# Generazione hash\n",
    "data = aha_small[\"8B\"]\n",
    "\n",
    "print_data(data)"
   ]
  },
  {
   "attachments": {},
   "cell_type": "markdown",
   "metadata": {},
   "source": [
    "#### PT 16 byte"
   ]
  },
  {
   "cell_type": "code",
   "execution_count": 27,
   "metadata": {},
   "outputs": [
    {
     "name": "stdout",
     "output_type": "stream",
     "text": [
      "16B\n",
      "79    601\n",
      "80    399\n",
      "Name: count, dtype: int64\n",
      "\n",
      "Massimo: 80\n",
      "Minimo: 79\n",
      "Media: 79.399\n",
      "Varianza: 0.24003903903903911\n"
     ]
    }
   ],
   "source": [
    "# Generazione hash\n",
    "data = aha_small[\"16B\"]\n",
    "\n",
    "print_data(data)"
   ]
  },
  {
   "attachments": {},
   "cell_type": "markdown",
   "metadata": {},
   "source": [
    "#### PT 32 byte"
   ]
  },
  {
   "cell_type": "code",
   "execution_count": 28,
   "metadata": {},
   "outputs": [
    {
     "name": "stdout",
     "output_type": "stream",
     "text": [
      "32B\n",
      "102    799\n",
      "103    201\n",
      "Name: count, dtype: int64\n",
      "\n",
      "Massimo: 103\n",
      "Minimo: 102\n",
      "Media: 102.201\n",
      "Varianza: 0.16075975975975976\n"
     ]
    }
   ],
   "source": [
    "# Generazione hash\n",
    "data = aha_small[\"32B\"]\n",
    "\n",
    "print_data(data)"
   ]
  },
  {
   "attachments": {},
   "cell_type": "markdown",
   "metadata": {},
   "source": [
    "#### PT 64 byte"
   ]
  },
  {
   "cell_type": "code",
   "execution_count": 29,
   "metadata": {},
   "outputs": [
    {
     "name": "stdout",
     "output_type": "stream",
     "text": [
      "64B\n",
      "149    999\n",
      "151      1\n",
      "Name: count, dtype: int64\n",
      "\n",
      "Massimo: 151\n",
      "Minimo: 149\n",
      "Media: 149.002\n",
      "Varianza: 0.004000000000000001\n"
     ]
    }
   ],
   "source": [
    "# Generazione hash\n",
    "data = aha_small[\"64B\"]\n",
    "\n",
    "print_data(data)"
   ]
  },
  {
   "attachments": {},
   "cell_type": "markdown",
   "metadata": {},
   "source": [
    "#### PT 128 byte"
   ]
  },
  {
   "cell_type": "code",
   "execution_count": 30,
   "metadata": {},
   "outputs": [
    {
     "name": "stdout",
     "output_type": "stream",
     "text": [
      "128B\n",
      "243    598\n",
      "244    400\n",
      "242      1\n",
      "245      1\n",
      "Name: count, dtype: int64\n",
      "\n",
      "Massimo: 245\n",
      "Minimo: 242\n",
      "Media: 243.401\n",
      "Varianza: 0.24444344344344335\n"
     ]
    }
   ],
   "source": [
    "# Generazione hash\n",
    "data = aha_small[\"128B\"]\n",
    "\n",
    "print_data(data)"
   ]
  },
  {
   "attachments": {},
   "cell_type": "markdown",
   "metadata": {},
   "source": [
    "#### PT 256 byte"
   ]
  },
  {
   "cell_type": "code",
   "execution_count": 31,
   "metadata": {},
   "outputs": [
    {
     "name": "stdout",
     "output_type": "stream",
     "text": [
      "256B\n",
      "430    597\n",
      "431    402\n",
      "429      1\n",
      "Name: count, dtype: int64\n",
      "\n",
      "Massimo: 431\n",
      "Minimo: 429\n",
      "Media: 430.401\n",
      "Varianza: 0.24244144144144134\n"
     ]
    }
   ],
   "source": [
    "# Generazione hash\n",
    "data = aha_small[\"256B\"]\n",
    "\n",
    "print_data(data)"
   ]
  },
  {
   "attachments": {},
   "cell_type": "markdown",
   "metadata": {},
   "source": [
    "#### PT 512 byte"
   ]
  },
  {
   "cell_type": "code",
   "execution_count": 32,
   "metadata": {},
   "outputs": [
    {
     "name": "stdout",
     "output_type": "stream",
     "text": [
      "512B\n",
      "805    799\n",
      "804    199\n",
      "806      2\n",
      "Name: count, dtype: int64\n",
      "\n",
      "Massimo: 806\n",
      "Minimo: 804\n",
      "Media: 804.803\n",
      "Varianza: 0.16235335335335332\n"
     ]
    }
   ],
   "source": [
    "# Generazione hash\n",
    "data = aha_small[\"512B\"]\n",
    "\n",
    "print_data(data)"
   ]
  },
  {
   "attachments": {},
   "cell_type": "markdown",
   "metadata": {},
   "source": [
    "#### PT 1024 byte"
   ]
  },
  {
   "cell_type": "code",
   "execution_count": 33,
   "metadata": {},
   "outputs": [
    {
     "name": "stdout",
     "output_type": "stream",
     "text": [
      "1024B\n",
      "1555    598\n",
      "1556    201\n",
      "1554    200\n",
      "1557      1\n",
      "Name: count, dtype: int64\n",
      "\n",
      "Massimo: 1557\n",
      "Minimo: 1554\n",
      "Media: 1555.003\n",
      "Varianza: 0.40539639639639635\n"
     ]
    }
   ],
   "source": [
    "# Generazione hash\n",
    "data = aha_small[\"1024B\"]\n",
    "\n",
    "print_data(data)"
   ]
  },
  {
   "attachments": {},
   "cell_type": "markdown",
   "metadata": {},
   "source": [
    "### Bi32_armv7m"
   ]
  },
  {
   "cell_type": "code",
   "execution_count": 34,
   "metadata": {},
   "outputs": [],
   "source": [
    "with open(path.format(\"bi32_armv7m\"), \"r\") as f:\n",
    "    aha_bi32 = pd.read_csv(f, delimiter=\";\")"
   ]
  },
  {
   "attachments": {},
   "cell_type": "markdown",
   "metadata": {},
   "source": [
    "#### PT vuoto"
   ]
  },
  {
   "cell_type": "code",
   "execution_count": 35,
   "metadata": {},
   "outputs": [
    {
     "name": "stdout",
     "output_type": "stream",
     "text": [
      "0B\n",
      "56    998\n",
      "57      1\n",
      "58      1\n",
      "Name: count, dtype: int64\n",
      "\n",
      "Massimo: 58\n",
      "Minimo: 56\n",
      "Media: 56.003\n",
      "Varianza: 0.004995995995995996\n"
     ]
    }
   ],
   "source": [
    "# Generazione hash\n",
    "data = aha_bi32[\"0B\"]\n",
    "\n",
    "print_data(data)"
   ]
  },
  {
   "attachments": {},
   "cell_type": "markdown",
   "metadata": {},
   "source": [
    "#### PT 8 byte"
   ]
  },
  {
   "cell_type": "code",
   "execution_count": 36,
   "metadata": {},
   "outputs": [
    {
     "name": "stdout",
     "output_type": "stream",
     "text": [
      "8B\n",
      "67    998\n",
      "68      2\n",
      "Name: count, dtype: int64\n",
      "\n",
      "Massimo: 68\n",
      "Minimo: 67\n",
      "Media: 67.002\n",
      "Varianza: 0.001997997997997999\n"
     ]
    }
   ],
   "source": [
    "# Generazione hash\n",
    "data = aha_bi32[\"8B\"]\n",
    "\n",
    "print_data(data)"
   ]
  },
  {
   "attachments": {},
   "cell_type": "markdown",
   "metadata": {},
   "source": [
    "#### PT 16 byte"
   ]
  },
  {
   "cell_type": "code",
   "execution_count": 37,
   "metadata": {},
   "outputs": [
    {
     "name": "stdout",
     "output_type": "stream",
     "text": [
      "16B\n",
      "78    796\n",
      "79    204\n",
      "Name: count, dtype: int64\n",
      "\n",
      "Massimo: 79\n",
      "Minimo: 78\n",
      "Media: 78.204\n",
      "Varianza: 0.16254654654654652\n"
     ]
    }
   ],
   "source": [
    "# Generazione hash\n",
    "data = aha_bi32[\"16B\"]\n",
    "\n",
    "print_data(data)"
   ]
  },
  {
   "attachments": {},
   "cell_type": "markdown",
   "metadata": {},
   "source": [
    "#### PT 32 byte"
   ]
  },
  {
   "cell_type": "code",
   "execution_count": 38,
   "metadata": {},
   "outputs": [
    {
     "name": "stdout",
     "output_type": "stream",
     "text": [
      "32B\n",
      "101    999\n",
      "102      1\n",
      "Name: count, dtype: int64\n",
      "\n",
      "Massimo: 102\n",
      "Minimo: 101\n",
      "Media: 101.001\n",
      "Varianza: 0.0010000000000000002\n"
     ]
    }
   ],
   "source": [
    "# Generazione hash\n",
    "data = aha_bi32[\"32B\"]\n",
    "\n",
    "print_data(data)"
   ]
  },
  {
   "attachments": {},
   "cell_type": "markdown",
   "metadata": {},
   "source": [
    "#### PT 64 byte"
   ]
  },
  {
   "cell_type": "code",
   "execution_count": 39,
   "metadata": {},
   "outputs": [
    {
     "name": "stdout",
     "output_type": "stream",
     "text": [
      "64B\n",
      "145    598\n",
      "146    402\n",
      "Name: count, dtype: int64\n",
      "\n",
      "Massimo: 146\n",
      "Minimo: 145\n",
      "Media: 145.402\n",
      "Varianza: 0.24063663663663665\n"
     ]
    }
   ],
   "source": [
    "# Generazione hash\n",
    "data = aha_bi32[\"64B\"]\n",
    "\n",
    "print_data(data)"
   ]
  },
  {
   "attachments": {},
   "cell_type": "markdown",
   "metadata": {},
   "source": [
    "#### PT 128 byte"
   ]
  },
  {
   "cell_type": "code",
   "execution_count": 40,
   "metadata": {},
   "outputs": [
    {
     "name": "stdout",
     "output_type": "stream",
     "text": [
      "128B\n",
      "235    598\n",
      "236    401\n",
      "237      1\n",
      "Name: count, dtype: int64\n",
      "\n",
      "Massimo: 237\n",
      "Minimo: 235\n",
      "Media: 235.403\n",
      "Varianza: 0.24283383383383378\n"
     ]
    }
   ],
   "source": [
    "# Generazione hash\n",
    "data = aha_bi32[\"128B\"]\n",
    "\n",
    "print_data(data)"
   ]
  },
  {
   "attachments": {},
   "cell_type": "markdown",
   "metadata": {},
   "source": [
    "#### PT 256 byte"
   ]
  },
  {
   "cell_type": "code",
   "execution_count": 41,
   "metadata": {},
   "outputs": [
    {
     "name": "stdout",
     "output_type": "stream",
     "text": [
      "256B\n",
      "414    597\n",
      "415    400\n",
      "416      3\n",
      "Name: count, dtype: int64\n",
      "\n",
      "Massimo: 416\n",
      "Minimo: 414\n",
      "Media: 414.406\n",
      "Varianza: 0.24741141141141137\n"
     ]
    }
   ],
   "source": [
    "# Generazione hash\n",
    "data = aha_bi32[\"256B\"]\n",
    "\n",
    "print_data(data)"
   ]
  },
  {
   "attachments": {},
   "cell_type": "markdown",
   "metadata": {},
   "source": [
    "#### PT 512 byte"
   ]
  },
  {
   "cell_type": "code",
   "execution_count": 42,
   "metadata": {},
   "outputs": [
    {
     "name": "stdout",
     "output_type": "stream",
     "text": [
      "512B\n",
      "774    798\n",
      "773    200\n",
      "775      2\n",
      "Name: count, dtype: int64\n",
      "\n",
      "Massimo: 775\n",
      "Minimo: 773\n",
      "Media: 773.802\n",
      "Varianza: 0.162958958958959\n"
     ]
    }
   ],
   "source": [
    "# Generazione hash\n",
    "data = aha_bi32[\"512B\"]\n",
    "\n",
    "print_data(data)"
   ]
  },
  {
   "attachments": {},
   "cell_type": "markdown",
   "metadata": {},
   "source": [
    "#### PT 1024 byte"
   ]
  },
  {
   "cell_type": "code",
   "execution_count": 43,
   "metadata": {},
   "outputs": [
    {
     "name": "stdout",
     "output_type": "stream",
     "text": [
      "1024B\n",
      "1492    599\n",
      "1493    399\n",
      "1495      1\n",
      "1494      1\n",
      "Name: count, dtype: int64\n",
      "\n",
      "Massimo: 1495\n",
      "Minimo: 1492\n",
      "Media: 1492.404\n",
      "Varianza: 0.2490330330330331\n"
     ]
    }
   ],
   "source": [
    "# Generazione hash\n",
    "data = aha_bi32[\"1024B\"]\n",
    "\n",
    "print_data(data)"
   ]
  },
  {
   "attachments": {},
   "cell_type": "markdown",
   "metadata": {},
   "source": [
    "### Ref"
   ]
  },
  {
   "cell_type": "code",
   "execution_count": 44,
   "metadata": {},
   "outputs": [],
   "source": [
    "with open(path.format(\"ref\"), \"r\") as f:\n",
    "    aha_ref = pd.read_csv(f, delimiter=\";\")"
   ]
  },
  {
   "attachments": {},
   "cell_type": "markdown",
   "metadata": {},
   "source": [
    "#### PT vuoto"
   ]
  },
  {
   "cell_type": "code",
   "execution_count": 45,
   "metadata": {},
   "outputs": [
    {
     "name": "stdout",
     "output_type": "stream",
     "text": [
      "0B\n",
      "244    798\n",
      "245    202\n",
      "Name: count, dtype: int64\n",
      "\n",
      "Massimo: 245\n",
      "Minimo: 244\n",
      "Media: 244.202\n",
      "Varianza: 0.16135735735735732\n"
     ]
    }
   ],
   "source": [
    "# Generazione hash\n",
    "data = aha_ref[\"0B\"]\n",
    "\n",
    "print_data(data)"
   ]
  },
  {
   "attachments": {},
   "cell_type": "markdown",
   "metadata": {},
   "source": [
    "#### PT 8 byte"
   ]
  },
  {
   "cell_type": "code",
   "execution_count": 46,
   "metadata": {},
   "outputs": [
    {
     "name": "stdout",
     "output_type": "stream",
     "text": [
      "8B\n",
      "287    797\n",
      "288    202\n",
      "289      1\n",
      "Name: count, dtype: int64\n",
      "\n",
      "Massimo: 289\n",
      "Minimo: 287\n",
      "Media: 287.204\n",
      "Varianza: 0.16454854854854856\n"
     ]
    }
   ],
   "source": [
    "# Generazione hash\n",
    "data = aha_ref[\"8B\"]\n",
    "\n",
    "print_data(data)"
   ]
  },
  {
   "attachments": {},
   "cell_type": "markdown",
   "metadata": {},
   "source": [
    "#### PT 16 byte"
   ]
  },
  {
   "cell_type": "code",
   "execution_count": 47,
   "metadata": {},
   "outputs": [
    {
     "name": "stdout",
     "output_type": "stream",
     "text": [
      "16B\n",
      "329    798\n",
      "330    201\n",
      "331      1\n",
      "Name: count, dtype: int64\n",
      "\n",
      "Massimo: 331\n",
      "Minimo: 329\n",
      "Media: 329.203\n",
      "Varianza: 0.1639549549549549\n"
     ]
    }
   ],
   "source": [
    "# Generazione hash\n",
    "data = aha_ref[\"16B\"]\n",
    "\n",
    "print_data(data)"
   ]
  },
  {
   "attachments": {},
   "cell_type": "markdown",
   "metadata": {},
   "source": [
    "#### PT 32 byte"
   ]
  },
  {
   "cell_type": "code",
   "execution_count": 48,
   "metadata": {},
   "outputs": [
    {
     "name": "stdout",
     "output_type": "stream",
     "text": [
      "32B\n",
      "414    597\n",
      "415    401\n",
      "416      2\n",
      "Name: count, dtype: int64\n",
      "\n",
      "Massimo: 416\n",
      "Minimo: 414\n",
      "Media: 414.405\n",
      "Varianza: 0.24522022022022022\n"
     ]
    }
   ],
   "source": [
    "# Generazione hash\n",
    "data = aha_ref[\"32B\"]\n",
    "\n",
    "print_data(data)"
   ]
  },
  {
   "attachments": {},
   "cell_type": "markdown",
   "metadata": {},
   "source": [
    "#### PT 64 byte"
   ]
  },
  {
   "cell_type": "code",
   "execution_count": 49,
   "metadata": {},
   "outputs": [
    {
     "name": "stdout",
     "output_type": "stream",
     "text": [
      "64B\n",
      "585    599\n",
      "584    398\n",
      "586      2\n",
      "587      1\n",
      "Name: count, dtype: int64\n",
      "\n",
      "Massimo: 587\n",
      "Minimo: 584\n",
      "Media: 584.606\n",
      "Varianza: 0.24901301301301304\n"
     ]
    }
   ],
   "source": [
    "# Generazione hash\n",
    "data = aha_ref[\"64B\"]\n",
    "\n",
    "print_data(data)"
   ]
  },
  {
   "attachments": {},
   "cell_type": "markdown",
   "metadata": {},
   "source": [
    "#### PT 128 byte"
   ]
  },
  {
   "cell_type": "code",
   "execution_count": 50,
   "metadata": {},
   "outputs": [
    {
     "name": "stdout",
     "output_type": "stream",
     "text": [
      "128B\n",
      "926    1000\n",
      "Name: count, dtype: int64\n",
      "\n",
      "Massimo: 926\n",
      "Minimo: 926\n",
      "Media: 926.0\n",
      "Varianza: 0.0\n"
     ]
    }
   ],
   "source": [
    "# Generazione hash\n",
    "data = aha_ref[\"128B\"]\n",
    "\n",
    "print_data(data)"
   ]
  },
  {
   "attachments": {},
   "cell_type": "markdown",
   "metadata": {},
   "source": [
    "#### PT 256 byte"
   ]
  },
  {
   "cell_type": "code",
   "execution_count": 51,
   "metadata": {},
   "outputs": [
    {
     "name": "stdout",
     "output_type": "stream",
     "text": [
      "256B\n",
      "1606    598\n",
      "1605    398\n",
      "1608      2\n",
      "1607      2\n",
      "Name: count, dtype: int64\n",
      "\n",
      "Massimo: 1608\n",
      "Minimo: 1605\n",
      "Media: 1605.608\n",
      "Varianza: 0.25459059059059064\n"
     ]
    }
   ],
   "source": [
    "# Generazione hash\n",
    "data = aha_ref[\"256B\"]\n",
    "\n",
    "print_data(data)"
   ]
  },
  {
   "attachments": {},
   "cell_type": "markdown",
   "metadata": {},
   "source": [
    "#### PT 512 byte"
   ]
  },
  {
   "cell_type": "code",
   "execution_count": 52,
   "metadata": {},
   "outputs": [
    {
     "name": "stdout",
     "output_type": "stream",
     "text": [
      "512B\n",
      "2969    998\n",
      "2968      2\n",
      "Name: count, dtype: int64\n",
      "\n",
      "Massimo: 2969\n",
      "Minimo: 2968\n",
      "Media: 2968.998\n",
      "Varianza: 0.0019979979979979972\n"
     ]
    }
   ],
   "source": [
    "# Generazione hash\n",
    "data = aha_ref[\"512B\"]\n",
    "\n",
    "print_data(data)"
   ]
  },
  {
   "attachments": {},
   "cell_type": "markdown",
   "metadata": {},
   "source": [
    "#### PT 1024 byte"
   ]
  },
  {
   "cell_type": "code",
   "execution_count": 53,
   "metadata": {},
   "outputs": [
    {
     "name": "stdout",
     "output_type": "stream",
     "text": [
      "1024B\n",
      "5692    597\n",
      "5693    400\n",
      "5694      2\n",
      "5691      1\n",
      "Name: count, dtype: int64\n",
      "\n",
      "Massimo: 5694\n",
      "Minimo: 5691\n",
      "Media: 5692.403\n",
      "Varianza: 0.24683783783783775\n"
     ]
    }
   ],
   "source": [
    "# Generazione hash\n",
    "data = aha_ref[\"1024B\"]\n",
    "\n",
    "print_data(data)"
   ]
  }
 ],
 "metadata": {
  "kernelspec": {
   "display_name": "Python 3",
   "language": "python",
   "name": "python3"
  },
  "language_info": {
   "codemirror_mode": {
    "name": "ipython",
    "version": 3
   },
   "file_extension": ".py",
   "mimetype": "text/x-python",
   "name": "python",
   "nbconvert_exporter": "python",
   "pygments_lexer": "ipython3",
   "version": "3.11.2"
  },
  "orig_nbformat": 4
 },
 "nbformat": 4,
 "nbformat_minor": 2
}
