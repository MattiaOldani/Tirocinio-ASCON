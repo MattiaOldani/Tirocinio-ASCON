{
 "cells": [
  {
   "attachments": {},
   "cell_type": "markdown",
   "metadata": {},
   "source": [
    "# Analisi dei dati raccolti"
   ]
  },
  {
   "attachments": {},
   "cell_type": "markdown",
   "metadata": {},
   "source": [
    "## Setup"
   ]
  },
  {
   "cell_type": "code",
   "execution_count": 38,
   "metadata": {},
   "outputs": [],
   "source": [
    "import pandas as pd"
   ]
  },
  {
   "cell_type": "code",
   "execution_count": 39,
   "metadata": {},
   "outputs": [],
   "source": [
    "def print_data(series: pd.Series) -> None:\n",
    "    print(series.value_counts())\n",
    "    print()\n",
    "    print(f\"Massimo: {series.max()}\\nMinimo: {series.min()}\\nMedia: {series.mean()}\\nVarianza: {series.var()}\")"
   ]
  },
  {
   "attachments": {},
   "cell_type": "markdown",
   "metadata": {},
   "source": [
    "## Asconxofv12"
   ]
  },
  {
   "cell_type": "code",
   "execution_count": 40,
   "metadata": {},
   "outputs": [],
   "source": [
    "path = \"../asconxofv12/data/{}.csv\""
   ]
  },
  {
   "attachments": {},
   "cell_type": "markdown",
   "metadata": {},
   "source": [
    "### Armv7m"
   ]
  },
  {
   "cell_type": "code",
   "execution_count": 41,
   "metadata": {},
   "outputs": [],
   "source": [
    "with open(path.format(\"armv7m\"), \"r\") as f:\n",
    "    axof_armv7m = pd.read_csv(f, delimiter=\";\")"
   ]
  },
  {
   "attachments": {},
   "cell_type": "markdown",
   "metadata": {},
   "source": [
    "#### PT vuoto"
   ]
  },
  {
   "cell_type": "code",
   "execution_count": 42,
   "metadata": {},
   "outputs": [
    {
     "name": "stdout",
     "output_type": "stream",
     "text": [
      "0B\n",
      "86    917\n",
      "87     79\n",
      "85      4\n",
      "Name: count, dtype: int64\n",
      "\n",
      "Massimo: 87\n",
      "Minimo: 85\n",
      "Media: 86.075\n",
      "Varianza: 0.07745245245245246\n"
     ]
    }
   ],
   "source": [
    "# Generazione hash\n",
    "data = axof_armv7m[\"0B\"]\n",
    "\n",
    "print_data(data)"
   ]
  },
  {
   "attachments": {},
   "cell_type": "markdown",
   "metadata": {},
   "source": [
    "#### PT 8 byte"
   ]
  },
  {
   "cell_type": "code",
   "execution_count": 43,
   "metadata": {},
   "outputs": [
    {
     "name": "stdout",
     "output_type": "stream",
     "text": [
      "8B\n",
      "106    875\n",
      "107    121\n",
      "105      4\n",
      "Name: count, dtype: int64\n",
      "\n",
      "Massimo: 107\n",
      "Minimo: 105\n",
      "Media: 106.117\n",
      "Varianza: 0.11142242242242241\n"
     ]
    }
   ],
   "source": [
    "# Generazione hash\n",
    "data = axof_armv7m[\"8B\"]\n",
    "\n",
    "print_data(data)"
   ]
  },
  {
   "attachments": {},
   "cell_type": "markdown",
   "metadata": {},
   "source": [
    "#### PT 16 byte"
   ]
  },
  {
   "cell_type": "code",
   "execution_count": 44,
   "metadata": {},
   "outputs": [
    {
     "name": "stdout",
     "output_type": "stream",
     "text": [
      "16B\n",
      "125    759\n",
      "127    121\n",
      "126    120\n",
      "Name: count, dtype: int64\n",
      "\n",
      "Massimo: 127\n",
      "Minimo: 125\n",
      "Media: 125.362\n",
      "Varianza: 0.4734294294294295\n"
     ]
    }
   ],
   "source": [
    "# Generazione hash\n",
    "data = axof_armv7m[\"16B\"]\n",
    "\n",
    "print_data(data)"
   ]
  },
  {
   "attachments": {},
   "cell_type": "markdown",
   "metadata": {},
   "source": [
    "#### PT 32 byte"
   ]
  },
  {
   "cell_type": "code",
   "execution_count": 45,
   "metadata": {},
   "outputs": [
    {
     "name": "stdout",
     "output_type": "stream",
     "text": [
      "32B\n",
      "165    838\n",
      "166    161\n",
      "167      1\n",
      "Name: count, dtype: int64\n",
      "\n",
      "Massimo: 167\n",
      "Minimo: 165\n",
      "Media: 165.163\n",
      "Varianza: 0.13856956956956956\n"
     ]
    }
   ],
   "source": [
    "# Generazione hash\n",
    "data = axof_armv7m[\"32B\"]\n",
    "\n",
    "print_data(data)"
   ]
  },
  {
   "attachments": {},
   "cell_type": "markdown",
   "metadata": {},
   "source": [
    "#### PT 64 byte"
   ]
  },
  {
   "cell_type": "code",
   "execution_count": 46,
   "metadata": {},
   "outputs": [
    {
     "name": "stdout",
     "output_type": "stream",
     "text": [
      "64B\n",
      "244    760\n",
      "245    239\n",
      "243      1\n",
      "Name: count, dtype: int64\n",
      "\n",
      "Massimo: 245\n",
      "Minimo: 243\n",
      "Media: 244.238\n",
      "Varianza: 0.18353953953953953\n"
     ]
    }
   ],
   "source": [
    "# Generazione hash\n",
    "data = axof_armv7m[\"64B\"]\n",
    "\n",
    "print_data(data)"
   ]
  },
  {
   "attachments": {},
   "cell_type": "markdown",
   "metadata": {},
   "source": [
    "#### PT 128 byte"
   ]
  },
  {
   "cell_type": "code",
   "execution_count": 47,
   "metadata": {},
   "outputs": [
    {
     "name": "stdout",
     "output_type": "stream",
     "text": [
      "128B\n",
      "402    479\n",
      "404    400\n",
      "403    120\n",
      "405      1\n",
      "Name: count, dtype: int64\n",
      "\n",
      "Massimo: 405\n",
      "Minimo: 402\n",
      "Media: 402.923\n",
      "Varianza: 0.8779489489489491\n"
     ]
    }
   ],
   "source": [
    "# Generazione hash\n",
    "data = axof_armv7m[\"128B\"]\n",
    "\n",
    "print_data(data)"
   ]
  },
  {
   "attachments": {},
   "cell_type": "markdown",
   "metadata": {},
   "source": [
    "#### PT 256 byte"
   ]
  },
  {
   "cell_type": "code",
   "execution_count": 48,
   "metadata": {},
   "outputs": [
    {
     "name": "stdout",
     "output_type": "stream",
     "text": [
      "256B\n",
      "720    719\n",
      "719    281\n",
      "Name: count, dtype: int64\n",
      "\n",
      "Massimo: 720\n",
      "Minimo: 719\n",
      "Media: 719.719\n",
      "Varianza: 0.20224124124124118\n"
     ]
    }
   ],
   "source": [
    "# Generazione hash\n",
    "data = axof_armv7m[\"256B\"]\n",
    "\n",
    "print_data(data)"
   ]
  },
  {
   "attachments": {},
   "cell_type": "markdown",
   "metadata": {},
   "source": [
    "#### PT 512 byte"
   ]
  },
  {
   "cell_type": "code",
   "execution_count": 49,
   "metadata": {},
   "outputs": [
    {
     "name": "stdout",
     "output_type": "stream",
     "text": [
      "512B\n",
      "1354    398\n",
      "1356    361\n",
      "1355    241\n",
      "Name: count, dtype: int64\n",
      "\n",
      "Massimo: 1356\n",
      "Minimo: 1354\n",
      "Media: 1354.963\n",
      "Varianza: 0.7583893893893893\n"
     ]
    }
   ],
   "source": [
    "# Generazione hash\n",
    "data = axof_armv7m[\"512B\"]\n",
    "\n",
    "print_data(data)"
   ]
  },
  {
   "attachments": {},
   "cell_type": "markdown",
   "metadata": {},
   "source": [
    "#### PT 1024 byte"
   ]
  },
  {
   "cell_type": "code",
   "execution_count": 50,
   "metadata": {},
   "outputs": [
    {
     "name": "stdout",
     "output_type": "stream",
     "text": [
      "1024B\n",
      "2624    640\n",
      "2623    358\n",
      "2626      2\n",
      "Name: count, dtype: int64\n",
      "\n",
      "Massimo: 2626\n",
      "Minimo: 2623\n",
      "Media: 2623.646\n",
      "Varianza: 0.240924924924925\n"
     ]
    }
   ],
   "source": [
    "# Generazione hash\n",
    "data = axof_armv7m[\"1024B\"]\n",
    "\n",
    "print_data(data)"
   ]
  },
  {
   "attachments": {},
   "cell_type": "markdown",
   "metadata": {},
   "source": [
    "### Armv7m_lowsize"
   ]
  },
  {
   "cell_type": "code",
   "execution_count": 51,
   "metadata": {},
   "outputs": [],
   "source": [
    "with open(path.format(\"armv7m_lowsize\"), \"r\") as f:\n",
    "    axof_lowsize = pd.read_csv(f, delimiter=\";\")"
   ]
  },
  {
   "attachments": {},
   "cell_type": "markdown",
   "metadata": {},
   "source": [
    "#### PT vuoto"
   ]
  },
  {
   "cell_type": "code",
   "execution_count": 52,
   "metadata": {},
   "outputs": [
    {
     "name": "stdout",
     "output_type": "stream",
     "text": [
      "0B\n",
      "70    917\n",
      "71     43\n",
      "72     40\n",
      "Name: count, dtype: int64\n",
      "\n",
      "Massimo: 72\n",
      "Minimo: 70\n",
      "Media: 70.123\n",
      "Varianza: 0.18805905905905906\n"
     ]
    }
   ],
   "source": [
    "# Generazione hash\n",
    "data = axof_lowsize[\"0B\"]\n",
    "\n",
    "print_data(data)"
   ]
  },
  {
   "attachments": {},
   "cell_type": "markdown",
   "metadata": {},
   "source": [
    "#### PT 8 byte"
   ]
  },
  {
   "cell_type": "code",
   "execution_count": 53,
   "metadata": {},
   "outputs": [
    {
     "name": "stdout",
     "output_type": "stream",
     "text": [
      "8B\n",
      "87    880\n",
      "88    120\n",
      "Name: count, dtype: int64\n",
      "\n",
      "Massimo: 88\n",
      "Minimo: 87\n",
      "Media: 87.12\n",
      "Varianza: 0.1057057057057057\n"
     ]
    }
   ],
   "source": [
    "# Generazione hash\n",
    "data = axof_lowsize[\"8B\"]\n",
    "\n",
    "print_data(data)"
   ]
  },
  {
   "attachments": {},
   "cell_type": "markdown",
   "metadata": {},
   "source": [
    "#### PT 16 byte"
   ]
  },
  {
   "cell_type": "code",
   "execution_count": 54,
   "metadata": {},
   "outputs": [
    {
     "name": "stdout",
     "output_type": "stream",
     "text": [
      "16B\n",
      "103    839\n",
      "105     81\n",
      "104     80\n",
      "Name: count, dtype: int64\n",
      "\n",
      "Massimo: 105\n",
      "Minimo: 103\n",
      "Media: 103.242\n",
      "Varianza: 0.3457817817817818\n"
     ]
    }
   ],
   "source": [
    "# Generazione hash\n",
    "data = axof_lowsize[\"16B\"]\n",
    "\n",
    "print_data(data)"
   ]
  },
  {
   "attachments": {},
   "cell_type": "markdown",
   "metadata": {},
   "source": [
    "#### PT 32 byte"
   ]
  },
  {
   "cell_type": "code",
   "execution_count": 55,
   "metadata": {},
   "outputs": [
    {
     "name": "stdout",
     "output_type": "stream",
     "text": [
      "32B\n",
      "136    758\n",
      "138    160\n",
      "137     82\n",
      "Name: count, dtype: int64\n",
      "\n",
      "Massimo: 138\n",
      "Minimo: 136\n",
      "Media: 136.402\n",
      "Varianza: 0.5609569569569569\n"
     ]
    }
   ],
   "source": [
    "# Generazione hash\n",
    "data = axof_lowsize[\"32B\"]\n",
    "\n",
    "print_data(data)"
   ]
  },
  {
   "attachments": {},
   "cell_type": "markdown",
   "metadata": {},
   "source": [
    "#### PT 64 byte"
   ]
  },
  {
   "cell_type": "code",
   "execution_count": 56,
   "metadata": {},
   "outputs": [
    {
     "name": "stdout",
     "output_type": "stream",
     "text": [
      "64B\n",
      "203    760\n",
      "204    198\n",
      "202     42\n",
      "Name: count, dtype: int64\n",
      "\n",
      "Massimo: 204\n",
      "Minimo: 202\n",
      "Media: 203.156\n",
      "Varianza: 0.21587987987987983\n"
     ]
    }
   ],
   "source": [
    "# Generazione hash\n",
    "data = axof_lowsize[\"64B\"]\n",
    "\n",
    "print_data(data)"
   ]
  },
  {
   "attachments": {},
   "cell_type": "markdown",
   "metadata": {},
   "source": [
    "#### PT 128 byte"
   ]
  },
  {
   "cell_type": "code",
   "execution_count": 57,
   "metadata": {},
   "outputs": [
    {
     "name": "stdout",
     "output_type": "stream",
     "text": [
      "128B\n",
      "335    637\n",
      "336    361\n",
      "338      1\n",
      "337      1\n",
      "Name: count, dtype: int64\n",
      "\n",
      "Massimo: 338\n",
      "Minimo: 335\n",
      "Media: 335.366\n",
      "Varianza: 0.2402842842842843\n"
     ]
    }
   ],
   "source": [
    "# Generazione hash\n",
    "data = axof_lowsize[\"128B\"]\n",
    "\n",
    "print_data(data)"
   ]
  },
  {
   "attachments": {},
   "cell_type": "markdown",
   "metadata": {},
   "source": [
    "#### PT 256 byte"
   ]
  },
  {
   "cell_type": "code",
   "execution_count": 58,
   "metadata": {},
   "outputs": [
    {
     "name": "stdout",
     "output_type": "stream",
     "text": [
      "256B\n",
      "601    600\n",
      "600    399\n",
      "602      1\n",
      "Name: count, dtype: int64\n",
      "\n",
      "Massimo: 602\n",
      "Minimo: 600\n",
      "Media: 600.602\n",
      "Varianza: 0.24183783783783785\n"
     ]
    }
   ],
   "source": [
    "# Generazione hash\n",
    "data = axof_lowsize[\"256B\"]\n",
    "\n",
    "print_data(data)"
   ]
  },
  {
   "attachments": {},
   "cell_type": "markdown",
   "metadata": {},
   "source": [
    "#### PT 512 byte"
   ]
  },
  {
   "cell_type": "code",
   "execution_count": 59,
   "metadata": {},
   "outputs": [
    {
     "name": "stdout",
     "output_type": "stream",
     "text": [
      "512B\n",
      "1132    801\n",
      "1133    159\n",
      "1131     40\n",
      "Name: count, dtype: int64\n",
      "\n",
      "Massimo: 1133\n",
      "Minimo: 1131\n",
      "Media: 1132.119\n",
      "Varianza: 0.18502402402402401\n"
     ]
    }
   ],
   "source": [
    "# Generazione hash\n",
    "data = axof_lowsize[\"512B\"]\n",
    "\n",
    "print_data(data)"
   ]
  },
  {
   "attachments": {},
   "cell_type": "markdown",
   "metadata": {},
   "source": [
    "#### PT 1024 byte"
   ]
  },
  {
   "cell_type": "code",
   "execution_count": 60,
   "metadata": {},
   "outputs": [
    {
     "name": "stdout",
     "output_type": "stream",
     "text": [
      "1024B\n",
      "2193    798\n",
      "2194    201\n",
      "2195      1\n",
      "Name: count, dtype: int64\n",
      "\n",
      "Massimo: 2195\n",
      "Minimo: 2193\n",
      "Media: 2193.203\n",
      "Varianza: 0.1639549549549549\n"
     ]
    }
   ],
   "source": [
    "# Generazione hash\n",
    "data = axof_lowsize[\"1024B\"]\n",
    "\n",
    "print_data(data)"
   ]
  },
  {
   "attachments": {},
   "cell_type": "markdown",
   "metadata": {},
   "source": [
    "### Armv7m_small"
   ]
  },
  {
   "cell_type": "code",
   "execution_count": 61,
   "metadata": {},
   "outputs": [],
   "source": [
    "with open(path.format(\"armv7m_small\"), \"r\") as f:\n",
    "    axof_small = pd.read_csv(f, delimiter=\";\")"
   ]
  },
  {
   "cell_type": "markdown",
   "metadata": {},
   "source": [
    "#### PT vuoto"
   ]
  },
  {
   "cell_type": "code",
   "execution_count": 62,
   "metadata": {},
   "outputs": [
    {
     "name": "stdout",
     "output_type": "stream",
     "text": [
      "0B\n",
      "70    918\n",
      "71     81\n",
      "72      1\n",
      "Name: count, dtype: int64\n",
      "\n",
      "Massimo: 72\n",
      "Minimo: 70\n",
      "Media: 70.083\n",
      "Varianza: 0.07818918918918918\n"
     ]
    }
   ],
   "source": [
    "# Generazione hash\n",
    "data = axof_small[\"0B\"]\n",
    "\n",
    "print_data(data)"
   ]
  },
  {
   "attachments": {},
   "cell_type": "markdown",
   "metadata": {},
   "source": [
    "#### PT 8 byte"
   ]
  },
  {
   "cell_type": "code",
   "execution_count": 63,
   "metadata": {},
   "outputs": [
    {
     "name": "stdout",
     "output_type": "stream",
     "text": [
      "8B\n",
      "87    880\n",
      "88    120\n",
      "Name: count, dtype: int64\n",
      "\n",
      "Massimo: 88\n",
      "Minimo: 87\n",
      "Media: 87.12\n",
      "Varianza: 0.1057057057057057\n"
     ]
    }
   ],
   "source": [
    "# Generazione hash\n",
    "data = axof_small[\"8B\"]\n",
    "\n",
    "print_data(data)"
   ]
  },
  {
   "attachments": {},
   "cell_type": "markdown",
   "metadata": {},
   "source": [
    "#### PT 16 byte"
   ]
  },
  {
   "cell_type": "code",
   "execution_count": 64,
   "metadata": {},
   "outputs": [
    {
     "name": "stdout",
     "output_type": "stream",
     "text": [
      "16B\n",
      "103    840\n",
      "105    121\n",
      "104     39\n",
      "Name: count, dtype: int64\n",
      "\n",
      "Massimo: 105\n",
      "Minimo: 103\n",
      "Media: 103.281\n",
      "Varianza: 0.4444834834834834\n"
     ]
    }
   ],
   "source": [
    "# Generazione hash\n",
    "data = axof_small[\"16B\"]\n",
    "\n",
    "print_data(data)"
   ]
  },
  {
   "attachments": {},
   "cell_type": "markdown",
   "metadata": {},
   "source": [
    "#### PT 32 byte"
   ]
  },
  {
   "cell_type": "code",
   "execution_count": 65,
   "metadata": {},
   "outputs": [
    {
     "name": "stdout",
     "output_type": "stream",
     "text": [
      "32B\n",
      "136    479\n",
      "137    361\n",
      "138    160\n",
      "Name: count, dtype: int64\n",
      "\n",
      "Massimo: 138\n",
      "Minimo: 136\n",
      "Media: 136.681\n",
      "Varianza: 0.5377767767767768\n"
     ]
    }
   ],
   "source": [
    "# Generazione hash\n",
    "data = axof_small[\"32B\"]\n",
    "\n",
    "print_data(data)"
   ]
  },
  {
   "attachments": {},
   "cell_type": "markdown",
   "metadata": {},
   "source": [
    "#### PT 64 byte"
   ]
  },
  {
   "cell_type": "code",
   "execution_count": 66,
   "metadata": {},
   "outputs": [
    {
     "name": "stdout",
     "output_type": "stream",
     "text": [
      "64B\n",
      "203    800\n",
      "204    198\n",
      "202      2\n",
      "Name: count, dtype: int64\n",
      "\n",
      "Massimo: 204\n",
      "Minimo: 202\n",
      "Media: 203.196\n",
      "Varianza: 0.16174574574574574\n"
     ]
    }
   ],
   "source": [
    "# Generazione hash\n",
    "data = axof_small[\"64B\"]\n",
    "\n",
    "print_data(data)"
   ]
  },
  {
   "attachments": {},
   "cell_type": "markdown",
   "metadata": {},
   "source": [
    "#### PT 128 byte"
   ]
  },
  {
   "cell_type": "code",
   "execution_count": 67,
   "metadata": {},
   "outputs": [
    {
     "name": "stdout",
     "output_type": "stream",
     "text": [
      "128B\n",
      "335    637\n",
      "336    361\n",
      "338      1\n",
      "337      1\n",
      "Name: count, dtype: int64\n",
      "\n",
      "Massimo: 338\n",
      "Minimo: 335\n",
      "Media: 335.366\n",
      "Varianza: 0.2402842842842843\n"
     ]
    }
   ],
   "source": [
    "# Generazione hash\n",
    "data = axof_small[\"128B\"]\n",
    "\n",
    "print_data(data)"
   ]
  },
  {
   "attachments": {},
   "cell_type": "markdown",
   "metadata": {},
   "source": [
    "#### PT 256 byte"
   ]
  },
  {
   "cell_type": "code",
   "execution_count": 68,
   "metadata": {},
   "outputs": [
    {
     "name": "stdout",
     "output_type": "stream",
     "text": [
      "256B\n",
      "601    600\n",
      "600    399\n",
      "602      1\n",
      "Name: count, dtype: int64\n",
      "\n",
      "Massimo: 602\n",
      "Minimo: 600\n",
      "Media: 600.602\n",
      "Varianza: 0.24183783783783785\n"
     ]
    }
   ],
   "source": [
    "# Generazione hash\n",
    "data = axof_small[\"256B\"]\n",
    "\n",
    "print_data(data)"
   ]
  },
  {
   "attachments": {},
   "cell_type": "markdown",
   "metadata": {},
   "source": [
    "#### PT 512 byte"
   ]
  },
  {
   "cell_type": "code",
   "execution_count": 69,
   "metadata": {},
   "outputs": [
    {
     "name": "stdout",
     "output_type": "stream",
     "text": [
      "512B\n",
      "1132    840\n",
      "1133    159\n",
      "1131      1\n",
      "Name: count, dtype: int64\n",
      "\n",
      "Massimo: 1133\n",
      "Minimo: 1131\n",
      "Media: 1132.158\n",
      "Varianza: 0.13517117117117117\n"
     ]
    }
   ],
   "source": [
    "# Generazione hash\n",
    "data = axof_small[\"512B\"]\n",
    "\n",
    "print_data(data)"
   ]
  },
  {
   "attachments": {},
   "cell_type": "markdown",
   "metadata": {},
   "source": [
    "#### PT 1024 byte"
   ]
  },
  {
   "cell_type": "code",
   "execution_count": 70,
   "metadata": {},
   "outputs": [
    {
     "name": "stdout",
     "output_type": "stream",
     "text": [
      "1024B\n",
      "2193    798\n",
      "2194    201\n",
      "2195      1\n",
      "Name: count, dtype: int64\n",
      "\n",
      "Massimo: 2195\n",
      "Minimo: 2193\n",
      "Media: 2193.203\n",
      "Varianza: 0.1639549549549549\n"
     ]
    }
   ],
   "source": [
    "# Generazione hash\n",
    "data = axof_small[\"1024B\"]\n",
    "\n",
    "print_data(data)"
   ]
  },
  {
   "attachments": {},
   "cell_type": "markdown",
   "metadata": {},
   "source": [
    "### Bi32_armv7m"
   ]
  },
  {
   "cell_type": "code",
   "execution_count": 71,
   "metadata": {},
   "outputs": [],
   "source": [
    "with open(path.format(\"bi32_armv7m\"), \"r\") as f:\n",
    "    axof_bi32 = pd.read_csv(f, delimiter=\";\")"
   ]
  },
  {
   "attachments": {},
   "cell_type": "markdown",
   "metadata": {},
   "source": [
    "#### PT vuoto"
   ]
  },
  {
   "cell_type": "code",
   "execution_count": 72,
   "metadata": {},
   "outputs": [
    {
     "name": "stdout",
     "output_type": "stream",
     "text": [
      "0B\n",
      "71    920\n",
      "72     80\n",
      "Name: count, dtype: int64\n",
      "\n",
      "Massimo: 72\n",
      "Minimo: 71\n",
      "Media: 71.08\n",
      "Varianza: 0.0736736736736737\n"
     ]
    }
   ],
   "source": [
    "# Generazione hash\n",
    "data = axof_bi32[\"0B\"]\n",
    "\n",
    "print_data(data)"
   ]
  },
  {
   "attachments": {},
   "cell_type": "markdown",
   "metadata": {},
   "source": [
    "#### PT 8 byte"
   ]
  },
  {
   "cell_type": "code",
   "execution_count": 73,
   "metadata": {},
   "outputs": [
    {
     "name": "stdout",
     "output_type": "stream",
     "text": [
      "8B\n",
      "86    917\n",
      "87     83\n",
      "Name: count, dtype: int64\n",
      "\n",
      "Massimo: 87\n",
      "Minimo: 86\n",
      "Media: 86.083\n",
      "Varianza: 0.07618718718718716\n"
     ]
    }
   ],
   "source": [
    "# Generazione hash\n",
    "data = axof_bi32[\"8B\"]\n",
    "\n",
    "print_data(data)"
   ]
  },
  {
   "attachments": {},
   "cell_type": "markdown",
   "metadata": {},
   "source": [
    "#### PT 16 byte"
   ]
  },
  {
   "cell_type": "code",
   "execution_count": 74,
   "metadata": {},
   "outputs": [
    {
     "name": "stdout",
     "output_type": "stream",
     "text": [
      "16B\n",
      "102    877\n",
      "103    121\n",
      "101      2\n",
      "Name: count, dtype: int64\n",
      "\n",
      "Massimo: 103\n",
      "Minimo: 101\n",
      "Media: 102.119\n",
      "Varianza: 0.10894794794794795\n"
     ]
    }
   ],
   "source": [
    "# Generazione hash\n",
    "data = axof_bi32[\"16B\"]\n",
    "\n",
    "print_data(data)"
   ]
  },
  {
   "attachments": {},
   "cell_type": "markdown",
   "metadata": {},
   "source": [
    "#### PT 32 byte"
   ]
  },
  {
   "cell_type": "code",
   "execution_count": 75,
   "metadata": {},
   "outputs": [
    {
     "name": "stdout",
     "output_type": "stream",
     "text": [
      "32B\n",
      "132    880\n",
      "133    120\n",
      "Name: count, dtype: int64\n",
      "\n",
      "Massimo: 133\n",
      "Minimo: 132\n",
      "Media: 132.12\n",
      "Varianza: 0.1057057057057057\n"
     ]
    }
   ],
   "source": [
    "# Generazione hash\n",
    "data = axof_bi32[\"32B\"]\n",
    "\n",
    "print_data(data)"
   ]
  },
  {
   "attachments": {},
   "cell_type": "markdown",
   "metadata": {},
   "source": [
    "#### PT 64 byte"
   ]
  },
  {
   "cell_type": "code",
   "execution_count": 76,
   "metadata": {},
   "outputs": [
    {
     "name": "stdout",
     "output_type": "stream",
     "text": [
      "64B\n",
      "193    799\n",
      "194    200\n",
      "195      1\n",
      "Name: count, dtype: int64\n",
      "\n",
      "Massimo: 195\n",
      "Minimo: 193\n",
      "Media: 193.202\n",
      "Varianza: 0.16335935935935933\n"
     ]
    }
   ],
   "source": [
    "# Generazione hash\n",
    "data = axof_bi32[\"64B\"]\n",
    "\n",
    "print_data(data)"
   ]
  },
  {
   "attachments": {},
   "cell_type": "markdown",
   "metadata": {},
   "source": [
    "#### PT 128 byte"
   ]
  },
  {
   "cell_type": "code",
   "execution_count": 77,
   "metadata": {},
   "outputs": [
    {
     "name": "stdout",
     "output_type": "stream",
     "text": [
      "128B\n",
      "315    681\n",
      "316    319\n",
      "Name: count, dtype: int64\n",
      "\n",
      "Massimo: 316\n",
      "Minimo: 315\n",
      "Media: 315.319\n",
      "Varianza: 0.21745645645645648\n"
     ]
    }
   ],
   "source": [
    "# Generazione hash\n",
    "data = axof_bi32[\"128B\"]\n",
    "\n",
    "print_data(data)"
   ]
  },
  {
   "attachments": {},
   "cell_type": "markdown",
   "metadata": {},
   "source": [
    "#### PT 256 byte"
   ]
  },
  {
   "cell_type": "code",
   "execution_count": 78,
   "metadata": {},
   "outputs": [
    {
     "name": "stdout",
     "output_type": "stream",
     "text": [
      "256B\n",
      "560    558\n",
      "559    440\n",
      "562      1\n",
      "561      1\n",
      "Name: count, dtype: int64\n",
      "\n",
      "Massimo: 562\n",
      "Minimo: 559\n",
      "Media: 559.563\n",
      "Varianza: 0.2542852852852852\n"
     ]
    }
   ],
   "source": [
    "# Generazione hash\n",
    "data = axof_bi32[\"256B\"]\n",
    "\n",
    "print_data(data)"
   ]
  },
  {
   "attachments": {},
   "cell_type": "markdown",
   "metadata": {},
   "source": [
    "#### PT 512 byte"
   ]
  },
  {
   "cell_type": "code",
   "execution_count": 79,
   "metadata": {},
   "outputs": [
    {
     "name": "stdout",
     "output_type": "stream",
     "text": [
      "512B\n",
      "1049    721\n",
      "1050    239\n",
      "1051     40\n",
      "Name: count, dtype: int64\n",
      "\n",
      "Massimo: 1051\n",
      "Minimo: 1049\n",
      "Media: 1049.319\n",
      "Varianza: 0.2975365365365366\n"
     ]
    }
   ],
   "source": [
    "# Generazione hash\n",
    "data = axof_bi32[\"512B\"]\n",
    "\n",
    "print_data(data)"
   ]
  },
  {
   "attachments": {},
   "cell_type": "markdown",
   "metadata": {},
   "source": [
    "#### PT 1024 byte"
   ]
  },
  {
   "cell_type": "code",
   "execution_count": 80,
   "metadata": {},
   "outputs": [
    {
     "name": "stdout",
     "output_type": "stream",
     "text": [
      "1024B\n",
      "2028    960\n",
      "2029     40\n",
      "Name: count, dtype: int64\n",
      "\n",
      "Massimo: 2029\n",
      "Minimo: 2028\n",
      "Media: 2028.04\n",
      "Varianza: 0.03843843843843842\n"
     ]
    }
   ],
   "source": [
    "# Generazione hash\n",
    "data = axof_bi32[\"1024B\"]\n",
    "\n",
    "print_data(data)"
   ]
  },
  {
   "attachments": {},
   "cell_type": "markdown",
   "metadata": {},
   "source": [
    "### Ref"
   ]
  },
  {
   "cell_type": "code",
   "execution_count": 81,
   "metadata": {},
   "outputs": [],
   "source": [
    "with open(path.format(\"ref\"), \"r\") as f:\n",
    "    axof_ref = pd.read_csv(f, delimiter=\";\")"
   ]
  },
  {
   "attachments": {},
   "cell_type": "markdown",
   "metadata": {},
   "source": [
    "#### PT vuoto"
   ]
  },
  {
   "cell_type": "code",
   "execution_count": 82,
   "metadata": {},
   "outputs": [
    {
     "name": "stdout",
     "output_type": "stream",
     "text": [
      "0B\n",
      "298    599\n",
      "299    242\n",
      "300    159\n",
      "Name: count, dtype: int64\n",
      "\n",
      "Massimo: 300\n",
      "Minimo: 298\n",
      "Media: 298.56\n",
      "Varianza: 0.5649649649649651\n"
     ]
    }
   ],
   "source": [
    "# Generazione hash\n",
    "data = axof_ref[\"0B\"]\n",
    "\n",
    "print_data(data)"
   ]
  },
  {
   "attachments": {},
   "cell_type": "markdown",
   "metadata": {},
   "source": [
    "#### PT 8 byte"
   ]
  },
  {
   "cell_type": "code",
   "execution_count": 83,
   "metadata": {},
   "outputs": [
    {
     "name": "stdout",
     "output_type": "stream",
     "text": [
      "8B\n",
      "359    398\n",
      "361    361\n",
      "360    240\n",
      "362      1\n",
      "Name: count, dtype: int64\n",
      "\n",
      "Massimo: 362\n",
      "Minimo: 359\n",
      "Media: 359.965\n",
      "Varianza: 0.7625375375375375\n"
     ]
    }
   ],
   "source": [
    "# Generazione hash\n",
    "data = axof_ref[\"8B\"]\n",
    "\n",
    "print_data(data)"
   ]
  },
  {
   "attachments": {},
   "cell_type": "markdown",
   "metadata": {},
   "source": [
    "#### PT 16 byte"
   ]
  },
  {
   "cell_type": "code",
   "execution_count": 84,
   "metadata": {},
   "outputs": [
    {
     "name": "stdout",
     "output_type": "stream",
     "text": [
      "16B\n",
      "421    598\n",
      "422    401\n",
      "424      1\n",
      "Name: count, dtype: int64\n",
      "\n",
      "Massimo: 424\n",
      "Minimo: 421\n",
      "Media: 421.404\n",
      "Varianza: 0.24703103103103108\n"
     ]
    }
   ],
   "source": [
    "# Generazione hash\n",
    "data = axof_ref[\"16B\"]\n",
    "\n",
    "print_data(data)"
   ]
  },
  {
   "attachments": {},
   "cell_type": "markdown",
   "metadata": {},
   "source": [
    "#### PT 32 byte"
   ]
  },
  {
   "cell_type": "code",
   "execution_count": 85,
   "metadata": {},
   "outputs": [
    {
     "name": "stdout",
     "output_type": "stream",
     "text": [
      "32B\n",
      "545    519\n",
      "543    240\n",
      "544    240\n",
      "546      1\n",
      "Name: count, dtype: int64\n",
      "\n",
      "Massimo: 546\n",
      "Minimo: 543\n",
      "Media: 544.281\n",
      "Varianza: 0.6847237237237236\n"
     ]
    }
   ],
   "source": [
    "# Generazione hash\n",
    "data = axof_ref[\"32B\"]\n",
    "\n",
    "print_data(data)"
   ]
  },
  {
   "attachments": {},
   "cell_type": "markdown",
   "metadata": {},
   "source": [
    "#### PT 64 byte"
   ]
  },
  {
   "cell_type": "code",
   "execution_count": 86,
   "metadata": {},
   "outputs": [
    {
     "name": "stdout",
     "output_type": "stream",
     "text": [
      "64B\n",
      "790    758\n",
      "789    239\n",
      "791      3\n",
      "Name: count, dtype: int64\n",
      "\n",
      "Massimo: 791\n",
      "Minimo: 789\n",
      "Media: 789.764\n",
      "Varianza: 0.18649049049049052\n"
     ]
    }
   ],
   "source": [
    "# Generazione hash\n",
    "data = axof_ref[\"64B\"]\n",
    "\n",
    "print_data(data)"
   ]
  },
  {
   "attachments": {},
   "cell_type": "markdown",
   "metadata": {},
   "source": [
    "#### PT 128 byte"
   ]
  },
  {
   "cell_type": "code",
   "execution_count": 87,
   "metadata": {},
   "outputs": [
    {
     "name": "stdout",
     "output_type": "stream",
     "text": [
      "128B\n",
      "1282    719\n",
      "1283    280\n",
      "1284      1\n",
      "Name: count, dtype: int64\n",
      "\n",
      "Massimo: 1284\n",
      "Minimo: 1282\n",
      "Media: 1282.282\n",
      "Varianza: 0.20468068068068068\n"
     ]
    }
   ],
   "source": [
    "# Generazione hash\n",
    "data = axof_ref[\"128B\"]\n",
    "\n",
    "print_data(data)"
   ]
  },
  {
   "attachments": {},
   "cell_type": "markdown",
   "metadata": {},
   "source": [
    "#### PT 256 byte"
   ]
  },
  {
   "cell_type": "code",
   "execution_count": 88,
   "metadata": {},
   "outputs": [
    {
     "name": "stdout",
     "output_type": "stream",
     "text": [
      "256B\n",
      "2266    600\n",
      "2267    241\n",
      "2265    159\n",
      "Name: count, dtype: int64\n",
      "\n",
      "Massimo: 2267\n",
      "Minimo: 2265\n",
      "Media: 2266.082\n",
      "Varianza: 0.39366966966966976\n"
     ]
    }
   ],
   "source": [
    "# Generazione hash\n",
    "data = axof_ref[\"256B\"]\n",
    "\n",
    "print_data(data)"
   ]
  },
  {
   "attachments": {},
   "cell_type": "markdown",
   "metadata": {},
   "source": [
    "#### PT 512 byte"
   ]
  },
  {
   "cell_type": "code",
   "execution_count": 89,
   "metadata": {},
   "outputs": [
    {
     "name": "stdout",
     "output_type": "stream",
     "text": [
      "512B\n",
      "4233    800\n",
      "4234    200\n",
      "Name: count, dtype: int64\n",
      "\n",
      "Massimo: 4234\n",
      "Minimo: 4233\n",
      "Media: 4233.2\n",
      "Varianza: 0.1601601601601601\n"
     ]
    }
   ],
   "source": [
    "# Generazione hash\n",
    "data = axof_ref[\"512B\"]\n",
    "\n",
    "print_data(data)"
   ]
  },
  {
   "attachments": {},
   "cell_type": "markdown",
   "metadata": {},
   "source": [
    "#### PT 1024 byte"
   ]
  },
  {
   "cell_type": "code",
   "execution_count": 90,
   "metadata": {},
   "outputs": [
    {
     "name": "stdout",
     "output_type": "stream",
     "text": [
      "1024B\n",
      "8168    841\n",
      "8169    159\n",
      "Name: count, dtype: int64\n",
      "\n",
      "Massimo: 8169\n",
      "Minimo: 8168\n",
      "Media: 8168.159\n",
      "Varianza: 0.13385285285285287\n"
     ]
    }
   ],
   "source": [
    "# Generazione hash\n",
    "data = axof_ref[\"1024B\"]\n",
    "\n",
    "print_data(data)"
   ]
  }
 ],
 "metadata": {
  "kernelspec": {
   "display_name": "Python 3",
   "language": "python",
   "name": "python3"
  },
  "language_info": {
   "codemirror_mode": {
    "name": "ipython",
    "version": 3
   },
   "file_extension": ".py",
   "mimetype": "text/x-python",
   "name": "python",
   "nbconvert_exporter": "python",
   "pygments_lexer": "ipython3",
   "version": "3.11.2"
  },
  "orig_nbformat": 4
 },
 "nbformat": 4,
 "nbformat_minor": 2
}
