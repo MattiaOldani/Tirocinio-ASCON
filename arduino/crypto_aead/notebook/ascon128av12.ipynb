{
 "cells": [
  {
   "attachments": {},
   "cell_type": "markdown",
   "metadata": {},
   "source": [
    "# Analisi dei dati raccolti"
   ]
  },
  {
   "attachments": {},
   "cell_type": "markdown",
   "metadata": {},
   "source": [
    "## Setup"
   ]
  },
  {
   "cell_type": "code",
   "execution_count": 58,
   "metadata": {},
   "outputs": [],
   "source": [
    "import pandas as pd"
   ]
  },
  {
   "cell_type": "code",
   "execution_count": 59,
   "metadata": {},
   "outputs": [],
   "source": [
    "def print_data(series: pd.Series) -> None:\n",
    "    print(series.value_counts())\n",
    "    print()\n",
    "    print(f\"Massimo: {series.max()}\\nMinimo: {series.min()}\\nMedia: {series.mean()}\\nVarianza: {series.var()}\")"
   ]
  },
  {
   "attachments": {},
   "cell_type": "markdown",
   "metadata": {},
   "source": [
    "## Ascon128av12"
   ]
  },
  {
   "cell_type": "code",
   "execution_count": 60,
   "metadata": {},
   "outputs": [],
   "source": [
    "path = \"../ascon128av12/data/{}.csv\""
   ]
  },
  {
   "attachments": {},
   "cell_type": "markdown",
   "metadata": {},
   "source": [
    "### Armv7m"
   ]
  },
  {
   "cell_type": "code",
   "execution_count": 61,
   "metadata": {},
   "outputs": [],
   "source": [
    "with open(path.format(\"armv7m\"), \"r\") as f:\n",
    "    a128a_armv7m = pd.read_csv(f, delimiter=\";\")"
   ]
  },
  {
   "attachments": {},
   "cell_type": "markdown",
   "metadata": {},
   "source": [
    "#### PT vuoto"
   ]
  },
  {
   "cell_type": "code",
   "execution_count": 62,
   "metadata": {},
   "outputs": [
    {
     "name": "stdout",
     "output_type": "stream",
     "text": [
      "0B-E\n",
      "47    1000\n",
      "Name: count, dtype: int64\n",
      "\n",
      "Massimo: 47\n",
      "Minimo: 47\n",
      "Media: 47.0\n",
      "Varianza: 0.0\n"
     ]
    }
   ],
   "source": [
    "# Cifratura\n",
    "data = a128a_armv7m[\"0B-E\"]\n",
    "\n",
    "print_data(data)"
   ]
  },
  {
   "cell_type": "code",
   "execution_count": 63,
   "metadata": {},
   "outputs": [
    {
     "name": "stdout",
     "output_type": "stream",
     "text": [
      "0B-D\n",
      "94    801\n",
      "96    199\n",
      "Name: count, dtype: int64\n",
      "\n",
      "Massimo: 96\n",
      "Minimo: 94\n",
      "Media: 94.398\n",
      "Varianza: 0.6382342342342344\n"
     ]
    }
   ],
   "source": [
    "# Decifratura\n",
    "data = a128a_armv7m[\"0B-D\"]\n",
    "\n",
    "print_data(data)"
   ]
  },
  {
   "attachments": {},
   "cell_type": "markdown",
   "metadata": {},
   "source": [
    "#### PT 1 byte"
   ]
  },
  {
   "cell_type": "code",
   "execution_count": 64,
   "metadata": {},
   "outputs": [
    {
     "name": "stdout",
     "output_type": "stream",
     "text": [
      "1B-E\n",
      "64    1000\n",
      "Name: count, dtype: int64\n",
      "\n",
      "Massimo: 64\n",
      "Minimo: 64\n",
      "Media: 64.0\n",
      "Varianza: 0.0\n"
     ]
    }
   ],
   "source": [
    "# Cifratura\n",
    "data = a128a_armv7m[\"1B-E\"]\n",
    "\n",
    "print_data(data)"
   ]
  },
  {
   "cell_type": "code",
   "execution_count": 65,
   "metadata": {},
   "outputs": [
    {
     "name": "stdout",
     "output_type": "stream",
     "text": [
      "1B-D\n",
      "131    999\n",
      "132      1\n",
      "Name: count, dtype: int64\n",
      "\n",
      "Massimo: 132\n",
      "Minimo: 131\n",
      "Media: 131.001\n",
      "Varianza: 0.0010000000000000002\n"
     ]
    }
   ],
   "source": [
    "# Decifratura\n",
    "data = a128a_armv7m[\"1B-D\"]\n",
    "\n",
    "print_data(data)"
   ]
  },
  {
   "attachments": {},
   "cell_type": "markdown",
   "metadata": {},
   "source": [
    "#### PT 16 byte"
   ]
  },
  {
   "cell_type": "code",
   "execution_count": 66,
   "metadata": {},
   "outputs": [
    {
     "name": "stdout",
     "output_type": "stream",
     "text": [
      "16B-E\n",
      "90    799\n",
      "91    201\n",
      "Name: count, dtype: int64\n",
      "\n",
      "Massimo: 91\n",
      "Minimo: 90\n",
      "Media: 90.201\n",
      "Varianza: 0.16075975975975976\n"
     ]
    }
   ],
   "source": [
    "# Cifratura\n",
    "data = a128a_armv7m[\"16B-E\"]\n",
    "\n",
    "print_data(data)"
   ]
  },
  {
   "cell_type": "code",
   "execution_count": 67,
   "metadata": {},
   "outputs": [
    {
     "name": "stdout",
     "output_type": "stream",
     "text": [
      "16B-D\n",
      "183    798\n",
      "184    202\n",
      "Name: count, dtype: int64\n",
      "\n",
      "Massimo: 184\n",
      "Minimo: 183\n",
      "Media: 183.202\n",
      "Varianza: 0.16135735735735732\n"
     ]
    }
   ],
   "source": [
    "# Decifratura\n",
    "data = a128a_armv7m[\"16B-D\"]\n",
    "\n",
    "print_data(data)"
   ]
  },
  {
   "attachments": {},
   "cell_type": "markdown",
   "metadata": {},
   "source": [
    "#### PT 32 byte"
   ]
  },
  {
   "cell_type": "code",
   "execution_count": 68,
   "metadata": {},
   "outputs": [
    {
     "name": "stdout",
     "output_type": "stream",
     "text": [
      "32B-E\n",
      "119    800\n",
      "121    199\n",
      "120      1\n",
      "Name: count, dtype: int64\n",
      "\n",
      "Massimo: 121\n",
      "Minimo: 119\n",
      "Media: 119.399\n",
      "Varianza: 0.6384374374374374\n"
     ]
    }
   ],
   "source": [
    "# Cifratura\n",
    "data = a128a_armv7m[\"32B-E\"]\n",
    "\n",
    "print_data(data)"
   ]
  },
  {
   "cell_type": "code",
   "execution_count": 69,
   "metadata": {},
   "outputs": [
    {
     "name": "stdout",
     "output_type": "stream",
     "text": [
      "32B-D\n",
      "242    799\n",
      "243    201\n",
      "Name: count, dtype: int64\n",
      "\n",
      "Massimo: 243\n",
      "Minimo: 242\n",
      "Media: 242.201\n",
      "Varianza: 0.16075975975975976\n"
     ]
    }
   ],
   "source": [
    "# Decifratura\n",
    "data = a128a_armv7m[\"32B-D\"]\n",
    "\n",
    "print_data(data)"
   ]
  },
  {
   "attachments": {},
   "cell_type": "markdown",
   "metadata": {},
   "source": [
    "#### PT 48 byte"
   ]
  },
  {
   "cell_type": "code",
   "execution_count": 70,
   "metadata": {},
   "outputs": [
    {
     "name": "stdout",
     "output_type": "stream",
     "text": [
      "48B-E\n",
      "148    798\n",
      "149    201\n",
      "150      1\n",
      "Name: count, dtype: int64\n",
      "\n",
      "Massimo: 150\n",
      "Minimo: 148\n",
      "Media: 148.203\n",
      "Varianza: 0.1639549549549549\n"
     ]
    }
   ],
   "source": [
    "# Cifratura\n",
    "data = a128a_armv7m[\"48B-E\"]\n",
    "\n",
    "print_data(data)"
   ]
  },
  {
   "cell_type": "code",
   "execution_count": 71,
   "metadata": {},
   "outputs": [
    {
     "name": "stdout",
     "output_type": "stream",
     "text": [
      "32B-D\n",
      "242    799\n",
      "243    201\n",
      "Name: count, dtype: int64\n",
      "\n",
      "Massimo: 243\n",
      "Minimo: 242\n",
      "Media: 242.201\n",
      "Varianza: 0.16075975975975976\n"
     ]
    }
   ],
   "source": [
    "# Decifratura\n",
    "data = a128a_armv7m[\"32B-D\"]\n",
    "\n",
    "print_data(data)"
   ]
  },
  {
   "attachments": {},
   "cell_type": "markdown",
   "metadata": {},
   "source": [
    "#### PT 64 byte"
   ]
  },
  {
   "cell_type": "code",
   "execution_count": 72,
   "metadata": {},
   "outputs": [
    {
     "name": "stdout",
     "output_type": "stream",
     "text": [
      "64B-E\n",
      "177    798\n",
      "179    201\n",
      "178      1\n",
      "Name: count, dtype: int64\n",
      "\n",
      "Massimo: 179\n",
      "Minimo: 177\n",
      "Media: 177.403\n",
      "Varianza: 0.6432342342342341\n"
     ]
    }
   ],
   "source": [
    "# Cifratura\n",
    "data = a128a_armv7m[\"64B-E\"]\n",
    "\n",
    "print_data(data)"
   ]
  },
  {
   "cell_type": "code",
   "execution_count": 73,
   "metadata": {},
   "outputs": [
    {
     "name": "stdout",
     "output_type": "stream",
     "text": [
      "64B-D\n",
      "360    598\n",
      "361    401\n",
      "362      1\n",
      "Name: count, dtype: int64\n",
      "\n",
      "Massimo: 362\n",
      "Minimo: 360\n",
      "Media: 360.403\n",
      "Varianza: 0.24283383383383392\n"
     ]
    }
   ],
   "source": [
    "# Decifratura\n",
    "data = a128a_armv7m[\"64B-D\"]\n",
    "\n",
    "print_data(data)"
   ]
  },
  {
   "attachments": {},
   "cell_type": "markdown",
   "metadata": {},
   "source": [
    "### Armv7m_lowsize"
   ]
  },
  {
   "cell_type": "code",
   "execution_count": 74,
   "metadata": {},
   "outputs": [],
   "source": [
    "with open(path.format(\"armv7m_lowsize\"), \"r\") as f:\n",
    "    a128a_lowsize = pd.read_csv(f, delimiter=\";\")"
   ]
  },
  {
   "cell_type": "markdown",
   "metadata": {},
   "source": [
    "#### PT vuoto"
   ]
  },
  {
   "cell_type": "code",
   "execution_count": 75,
   "metadata": {},
   "outputs": [
    {
     "name": "stdout",
     "output_type": "stream",
     "text": [
      "0B-E\n",
      "45    997\n",
      "44      3\n",
      "Name: count, dtype: int64\n",
      "\n",
      "Massimo: 45\n",
      "Minimo: 44\n",
      "Media: 44.997\n",
      "Varianza: 0.002993993993993996\n"
     ]
    }
   ],
   "source": [
    "# Cifratura\n",
    "data = a128a_lowsize[\"0B-E\"]\n",
    "\n",
    "print_data(data)"
   ]
  },
  {
   "cell_type": "code",
   "execution_count": 76,
   "metadata": {},
   "outputs": [
    {
     "name": "stdout",
     "output_type": "stream",
     "text": [
      "0B-D\n",
      "86    799\n",
      "88    199\n",
      "87      2\n",
      "Name: count, dtype: int64\n",
      "\n",
      "Massimo: 88\n",
      "Minimo: 86\n",
      "Media: 86.4\n",
      "Varianza: 0.6386386386386385\n"
     ]
    }
   ],
   "source": [
    "# Decifratura\n",
    "data = a128a_lowsize[\"0B-D\"]\n",
    "\n",
    "print_data(data)"
   ]
  },
  {
   "attachments": {},
   "cell_type": "markdown",
   "metadata": {},
   "source": [
    "#### PT 1 byte"
   ]
  },
  {
   "cell_type": "code",
   "execution_count": 77,
   "metadata": {},
   "outputs": [
    {
     "name": "stdout",
     "output_type": "stream",
     "text": [
      "1B-E\n",
      "58    998\n",
      "59      2\n",
      "Name: count, dtype: int64\n",
      "\n",
      "Massimo: 59\n",
      "Minimo: 58\n",
      "Media: 58.002\n",
      "Varianza: 0.0019979979979979977\n"
     ]
    }
   ],
   "source": [
    "# Cifratura\n",
    "data = a128a_lowsize[\"1B-E\"]\n",
    "\n",
    "print_data(data)"
   ]
  },
  {
   "cell_type": "code",
   "execution_count": 78,
   "metadata": {},
   "outputs": [
    {
     "name": "stdout",
     "output_type": "stream",
     "text": [
      "1B-D\n",
      "114    1000\n",
      "Name: count, dtype: int64\n",
      "\n",
      "Massimo: 114\n",
      "Minimo: 114\n",
      "Media: 114.0\n",
      "Varianza: 0.0\n"
     ]
    }
   ],
   "source": [
    "# Decifratura\n",
    "data = a128a_lowsize[\"1B-D\"]\n",
    "\n",
    "print_data(data)"
   ]
  },
  {
   "attachments": {},
   "cell_type": "markdown",
   "metadata": {},
   "source": [
    "#### PT 16 byte"
   ]
  },
  {
   "cell_type": "code",
   "execution_count": 79,
   "metadata": {},
   "outputs": [
    {
     "name": "stdout",
     "output_type": "stream",
     "text": [
      "16B-E\n",
      "85    797\n",
      "86    200\n",
      "84      3\n",
      "Name: count, dtype: int64\n",
      "\n",
      "Massimo: 86\n",
      "Minimo: 84\n",
      "Media: 85.197\n",
      "Varianza: 0.16435535535535534\n"
     ]
    }
   ],
   "source": [
    "# Cifratura\n",
    "data = a128a_lowsize[\"16B-E\"]\n",
    "\n",
    "print_data(data)"
   ]
  },
  {
   "cell_type": "code",
   "execution_count": 80,
   "metadata": {},
   "outputs": [
    {
     "name": "stdout",
     "output_type": "stream",
     "text": [
      "16B-D\n",
      "168    797\n",
      "169    200\n",
      "167      3\n",
      "Name: count, dtype: int64\n",
      "\n",
      "Massimo: 169\n",
      "Minimo: 167\n",
      "Media: 168.197\n",
      "Varianza: 0.16435535535535534\n"
     ]
    }
   ],
   "source": [
    "# Decifratura\n",
    "data = a128a_lowsize[\"16B-D\"]\n",
    "\n",
    "print_data(data)"
   ]
  },
  {
   "attachments": {},
   "cell_type": "markdown",
   "metadata": {},
   "source": [
    "#### PT 32 byte"
   ]
  },
  {
   "cell_type": "code",
   "execution_count": 81,
   "metadata": {},
   "outputs": [
    {
     "name": "stdout",
     "output_type": "stream",
     "text": [
      "32B-E\n",
      "111    997\n",
      "110      3\n",
      "Name: count, dtype: int64\n",
      "\n",
      "Massimo: 111\n",
      "Minimo: 110\n",
      "Media: 110.997\n",
      "Varianza: 0.002993993993993996\n"
     ]
    }
   ],
   "source": [
    "# Cifratura\n",
    "data = a128a_lowsize[\"32B-E\"]\n",
    "\n",
    "print_data(data)"
   ]
  },
  {
   "cell_type": "code",
   "execution_count": 82,
   "metadata": {},
   "outputs": [
    {
     "name": "stdout",
     "output_type": "stream",
     "text": [
      "32B-D\n",
      "221    798\n",
      "222    202\n",
      "Name: count, dtype: int64\n",
      "\n",
      "Massimo: 222\n",
      "Minimo: 221\n",
      "Media: 221.202\n",
      "Varianza: 0.16135735735735732\n"
     ]
    }
   ],
   "source": [
    "# Decifratura\n",
    "data = a128a_lowsize[\"32B-D\"]\n",
    "\n",
    "print_data(data)"
   ]
  },
  {
   "attachments": {},
   "cell_type": "markdown",
   "metadata": {},
   "source": [
    "#### PT 48 byte"
   ]
  },
  {
   "cell_type": "code",
   "execution_count": 83,
   "metadata": {},
   "outputs": [
    {
     "name": "stdout",
     "output_type": "stream",
     "text": [
      "48B-E\n",
      "137    798\n",
      "138    199\n",
      "136      3\n",
      "Name: count, dtype: int64\n",
      "\n",
      "Massimo: 138\n",
      "Minimo: 136\n",
      "Media: 137.196\n",
      "Varianza: 0.16374774774774775\n"
     ]
    }
   ],
   "source": [
    "# Cifratura\n",
    "data = a128a_lowsize[\"48B-E\"]\n",
    "\n",
    "print_data(data)"
   ]
  },
  {
   "cell_type": "code",
   "execution_count": 84,
   "metadata": {},
   "outputs": [
    {
     "name": "stdout",
     "output_type": "stream",
     "text": [
      "48B-D\n",
      "275    598\n",
      "276    402\n",
      "Name: count, dtype: int64\n",
      "\n",
      "Massimo: 276\n",
      "Minimo: 275\n",
      "Media: 275.402\n",
      "Varianza: 0.24063663663663665\n"
     ]
    }
   ],
   "source": [
    "# Decifratura\n",
    "data = a128a_lowsize[\"48B-D\"]\n",
    "\n",
    "print_data(data)"
   ]
  },
  {
   "attachments": {},
   "cell_type": "markdown",
   "metadata": {},
   "source": [
    "#### PT 64 byte"
   ]
  },
  {
   "cell_type": "code",
   "execution_count": 85,
   "metadata": {},
   "outputs": [
    {
     "name": "stdout",
     "output_type": "stream",
     "text": [
      "64B-E\n",
      "163    800\n",
      "164    200\n",
      "Name: count, dtype: int64\n",
      "\n",
      "Massimo: 164\n",
      "Minimo: 163\n",
      "Media: 163.2\n",
      "Varianza: 0.1601601601601602\n"
     ]
    }
   ],
   "source": [
    "# Cifratura\n",
    "data = a128a_lowsize[\"64B-E\"]\n",
    "\n",
    "print_data(data)"
   ]
  },
  {
   "cell_type": "code",
   "execution_count": 86,
   "metadata": {},
   "outputs": [
    {
     "name": "stdout",
     "output_type": "stream",
     "text": [
      "64B-D\n",
      "328    797\n",
      "330    200\n",
      "329      3\n",
      "Name: count, dtype: int64\n",
      "\n",
      "Massimo: 330\n",
      "Minimo: 328\n",
      "Media: 328.403\n",
      "Varianza: 0.6412322322322324\n"
     ]
    }
   ],
   "source": [
    "# Decifratura\n",
    "data = a128a_lowsize[\"64B-D\"]\n",
    "\n",
    "print_data(data)"
   ]
  },
  {
   "attachments": {},
   "cell_type": "markdown",
   "metadata": {},
   "source": [
    "### Armv7m_small"
   ]
  },
  {
   "cell_type": "code",
   "execution_count": 87,
   "metadata": {},
   "outputs": [],
   "source": [
    "with open(path.format(\"armv7m_small\"), \"r\") as f:\n",
    "    a128a_small = pd.read_csv(f, delimiter=\";\")"
   ]
  },
  {
   "attachments": {},
   "cell_type": "markdown",
   "metadata": {},
   "source": [
    "#### PT vuoto"
   ]
  },
  {
   "cell_type": "code",
   "execution_count": 88,
   "metadata": {},
   "outputs": [
    {
     "name": "stdout",
     "output_type": "stream",
     "text": [
      "0B-E\n",
      "38    951\n",
      "40     49\n",
      "Name: count, dtype: int64\n",
      "\n",
      "Massimo: 40\n",
      "Minimo: 38\n",
      "Media: 38.098\n",
      "Varianza: 0.18658258258258262\n"
     ]
    }
   ],
   "source": [
    "# Cifratura\n",
    "data = a128a_small[\"0B-E\"]\n",
    "\n",
    "print_data(data)"
   ]
  },
  {
   "cell_type": "code",
   "execution_count": 89,
   "metadata": {},
   "outputs": [
    {
     "name": "stdout",
     "output_type": "stream",
     "text": [
      "0B-D\n",
      "78    953\n",
      "79     47\n",
      "Name: count, dtype: int64\n",
      "\n",
      "Massimo: 79\n",
      "Minimo: 78\n",
      "Media: 78.047\n",
      "Varianza: 0.04483583583583583\n"
     ]
    }
   ],
   "source": [
    "# Decifratura\n",
    "data = a128a_small[\"0B-D\"]\n",
    "\n",
    "print_data(data)"
   ]
  },
  {
   "attachments": {},
   "cell_type": "markdown",
   "metadata": {},
   "source": [
    "#### PT 1 byte"
   ]
  },
  {
   "cell_type": "code",
   "execution_count": 90,
   "metadata": {},
   "outputs": [
    {
     "name": "stdout",
     "output_type": "stream",
     "text": [
      "1B-E\n",
      "53    950\n",
      "54     48\n",
      "52      2\n",
      "Name: count, dtype: int64\n",
      "\n",
      "Massimo: 54\n",
      "Minimo: 52\n",
      "Media: 53.046\n",
      "Varianza: 0.04793193193193192\n"
     ]
    }
   ],
   "source": [
    "# Cifratura\n",
    "data = a128a_small[\"1B-E\"]\n",
    "\n",
    "print_data(data)"
   ]
  },
  {
   "cell_type": "code",
   "execution_count": 91,
   "metadata": {},
   "outputs": [
    {
     "name": "stdout",
     "output_type": "stream",
     "text": [
      "1B-D\n",
      "108    951\n",
      "109     48\n",
      "107      1\n",
      "Name: count, dtype: int64\n",
      "\n",
      "Massimo: 109\n",
      "Minimo: 107\n",
      "Media: 108.047\n",
      "Varianza: 0.04683783783783782\n"
     ]
    }
   ],
   "source": [
    "# Decifratura\n",
    "data = a128a_small[\"1B-D\"]\n",
    "\n",
    "print_data(data)"
   ]
  },
  {
   "attachments": {},
   "cell_type": "markdown",
   "metadata": {},
   "source": [
    "#### PT 16 byte"
   ]
  },
  {
   "cell_type": "code",
   "execution_count": 92,
   "metadata": {},
   "outputs": [
    {
     "name": "stdout",
     "output_type": "stream",
     "text": [
      "16B-E\n",
      "75    950\n",
      "76     48\n",
      "74      2\n",
      "Name: count, dtype: int64\n",
      "\n",
      "Massimo: 76\n",
      "Minimo: 74\n",
      "Media: 75.046\n",
      "Varianza: 0.04793193193193192\n"
     ]
    }
   ],
   "source": [
    "# Cifratura\n",
    "data = a128a_small[\"16B-E\"]\n",
    "\n",
    "print_data(data)"
   ]
  },
  {
   "cell_type": "code",
   "execution_count": 93,
   "metadata": {},
   "outputs": [
    {
     "name": "stdout",
     "output_type": "stream",
     "text": [
      "16B-D\n",
      "151    809\n",
      "152    143\n",
      "153     48\n",
      "Name: count, dtype: int64\n",
      "\n",
      "Massimo: 153\n",
      "Minimo: 151\n",
      "Media: 151.239\n",
      "Varianza: 0.27815715715715716\n"
     ]
    }
   ],
   "source": [
    "# Decifratura\n",
    "data = a128a_small[\"16B-D\"]\n",
    "\n",
    "print_data(data)"
   ]
  },
  {
   "attachments": {},
   "cell_type": "markdown",
   "metadata": {},
   "source": [
    "#### PT 32 byte"
   ]
  },
  {
   "cell_type": "code",
   "execution_count": 94,
   "metadata": {},
   "outputs": [
    {
     "name": "stdout",
     "output_type": "stream",
     "text": [
      "32B-E\n",
      "99     950\n",
      "100     48\n",
      "98       2\n",
      "Name: count, dtype: int64\n",
      "\n",
      "Massimo: 100\n",
      "Minimo: 98\n",
      "Media: 99.046\n",
      "Varianza: 0.04793193193193192\n"
     ]
    }
   ],
   "source": [
    "# Cifratura\n",
    "data = a128a_small[\"32B-E\"]\n",
    "\n",
    "print_data(data)"
   ]
  },
  {
   "cell_type": "code",
   "execution_count": 95,
   "metadata": {},
   "outputs": [
    {
     "name": "stdout",
     "output_type": "stream",
     "text": [
      "32B-D\n",
      "200    761\n",
      "201    191\n",
      "202     48\n",
      "Name: count, dtype: int64\n",
      "\n",
      "Massimo: 202\n",
      "Minimo: 200\n",
      "Media: 200.287\n",
      "Varianza: 0.3009319319319319\n"
     ]
    }
   ],
   "source": [
    "# Decifratura\n",
    "data = a128a_small[\"32B-D\"]\n",
    "\n",
    "print_data(data)"
   ]
  },
  {
   "attachments": {},
   "cell_type": "markdown",
   "metadata": {},
   "source": [
    "#### PT 48 byte"
   ]
  },
  {
   "cell_type": "code",
   "execution_count": 96,
   "metadata": {},
   "outputs": [
    {
     "name": "stdout",
     "output_type": "stream",
     "text": [
      "48B-E\n",
      "122    857\n",
      "124     94\n",
      "123     49\n",
      "Name: count, dtype: int64\n",
      "\n",
      "Massimo: 124\n",
      "Minimo: 122\n",
      "Media: 122.237\n",
      "Varianza: 0.3692002002002003\n"
     ]
    }
   ],
   "source": [
    "# Cifratura\n",
    "data = a128a_small[\"48B-E\"]\n",
    "\n",
    "print_data(data)"
   ]
  },
  {
   "cell_type": "code",
   "execution_count": 97,
   "metadata": {},
   "outputs": [
    {
     "name": "stdout",
     "output_type": "stream",
     "text": [
      "48B-D\n",
      "249    760\n",
      "250    144\n",
      "251     96\n",
      "Name: count, dtype: int64\n",
      "\n",
      "Massimo: 251\n",
      "Minimo: 249\n",
      "Media: 249.336\n",
      "Varianza: 0.41551951951951965\n"
     ]
    }
   ],
   "source": [
    "# Decifratura\n",
    "data = a128a_small[\"48B-D\"]\n",
    "\n",
    "print_data(data)"
   ]
  },
  {
   "attachments": {},
   "cell_type": "markdown",
   "metadata": {},
   "source": [
    "#### PT 64 byte"
   ]
  },
  {
   "cell_type": "code",
   "execution_count": 98,
   "metadata": {},
   "outputs": [
    {
     "name": "stdout",
     "output_type": "stream",
     "text": [
      "64B-E\n",
      "146    811\n",
      "148    142\n",
      "147     47\n",
      "Name: count, dtype: int64\n",
      "\n",
      "Massimo: 148\n",
      "Minimo: 146\n",
      "Media: 146.331\n",
      "Varianza: 0.5059449449449448\n"
     ]
    }
   ],
   "source": [
    "# Cifratura\n",
    "data = a128a_small[\"64B-E\"]\n",
    "\n",
    "print_data(data)"
   ]
  },
  {
   "cell_type": "code",
   "execution_count": 99,
   "metadata": {},
   "outputs": [
    {
     "name": "stdout",
     "output_type": "stream",
     "text": [
      "64B-D\n",
      "298    713\n",
      "299    191\n",
      "300     96\n",
      "Name: count, dtype: int64\n",
      "\n",
      "Massimo: 300\n",
      "Minimo: 298\n",
      "Media: 298.383\n",
      "Varianza: 0.4287397397397399\n"
     ]
    }
   ],
   "source": [
    "# Decifratura\n",
    "data = a128a_small[\"64B-D\"]\n",
    "\n",
    "print_data(data)"
   ]
  },
  {
   "attachments": {},
   "cell_type": "markdown",
   "metadata": {},
   "source": [
    "### Bi32_armv7m"
   ]
  },
  {
   "cell_type": "code",
   "execution_count": 100,
   "metadata": {},
   "outputs": [],
   "source": [
    "with open(path.format(\"bi32_armv7m\"), \"r\") as f:\n",
    "    a128a_bi32 = pd.read_csv(f, delimiter=\";\")"
   ]
  },
  {
   "attachments": {},
   "cell_type": "markdown",
   "metadata": {},
   "source": [
    "#### PT vuoto"
   ]
  },
  {
   "cell_type": "code",
   "execution_count": 101,
   "metadata": {},
   "outputs": [
    {
     "name": "stdout",
     "output_type": "stream",
     "text": [
      "0B-E\n",
      "40    999\n",
      "41      1\n",
      "Name: count, dtype: int64\n",
      "\n",
      "Massimo: 41\n",
      "Minimo: 40\n",
      "Media: 40.001\n",
      "Varianza: 0.0010000000000000002\n"
     ]
    }
   ],
   "source": [
    "# Cifratura\n",
    "data = a128a_bi32[\"0B-E\"]\n",
    "\n",
    "print_data(data)"
   ]
  },
  {
   "cell_type": "code",
   "execution_count": 102,
   "metadata": {},
   "outputs": [
    {
     "name": "stdout",
     "output_type": "stream",
     "text": [
      "0B-D\n",
      "81    798\n",
      "83    199\n",
      "82      3\n",
      "Name: count, dtype: int64\n",
      "\n",
      "Massimo: 83\n",
      "Minimo: 81\n",
      "Media: 81.401\n",
      "Varianza: 0.6388378378378379\n"
     ]
    }
   ],
   "source": [
    "# Decifratura\n",
    "data = a128a_bi32[\"0B-D\"]\n",
    "\n",
    "print_data(data)"
   ]
  },
  {
   "attachments": {},
   "cell_type": "markdown",
   "metadata": {},
   "source": [
    "#### PT 1 byte"
   ]
  },
  {
   "cell_type": "code",
   "execution_count": 103,
   "metadata": {},
   "outputs": [
    {
     "name": "stdout",
     "output_type": "stream",
     "text": [
      "1B-E\n",
      "57    998\n",
      "58      1\n",
      "56      1\n",
      "Name: count, dtype: int64\n",
      "\n",
      "Massimo: 58\n",
      "Minimo: 56\n",
      "Media: 57.0\n",
      "Varianza: 0.002002002002002002\n"
     ]
    }
   ],
   "source": [
    "# Cifratura\n",
    "data = a128a_bi32[\"1B-E\"]\n",
    "\n",
    "print_data(data)"
   ]
  },
  {
   "cell_type": "code",
   "execution_count": 104,
   "metadata": {},
   "outputs": [
    {
     "name": "stdout",
     "output_type": "stream",
     "text": [
      "1B-D\n",
      "115    998\n",
      "116      1\n",
      "117      1\n",
      "Name: count, dtype: int64\n",
      "\n",
      "Massimo: 117\n",
      "Minimo: 115\n",
      "Media: 115.003\n",
      "Varianza: 0.004995995995995996\n"
     ]
    }
   ],
   "source": [
    "# Cifratura\n",
    "data = a128a_bi32[\"1B-D\"]\n",
    "\n",
    "print_data(data)"
   ]
  },
  {
   "attachments": {},
   "cell_type": "markdown",
   "metadata": {},
   "source": [
    "#### PT 16 byte"
   ]
  },
  {
   "cell_type": "code",
   "execution_count": 105,
   "metadata": {},
   "outputs": [
    {
     "name": "stdout",
     "output_type": "stream",
     "text": [
      "16B-E\n",
      "80    797\n",
      "81    200\n",
      "79      3\n",
      "Name: count, dtype: int64\n",
      "\n",
      "Massimo: 81\n",
      "Minimo: 79\n",
      "Media: 80.197\n",
      "Varianza: 0.16435535535535534\n"
     ]
    }
   ],
   "source": [
    "# Cifratura\n",
    "data = a128a_bi32[\"16B-E\"]\n",
    "\n",
    "print_data(data)"
   ]
  },
  {
   "cell_type": "code",
   "execution_count": 106,
   "metadata": {},
   "outputs": [
    {
     "name": "stdout",
     "output_type": "stream",
     "text": [
      "16B-D\n",
      "160    798\n",
      "161    202\n",
      "Name: count, dtype: int64\n",
      "\n",
      "Massimo: 161\n",
      "Minimo: 160\n",
      "Media: 160.202\n",
      "Varianza: 0.16135735735735732\n"
     ]
    }
   ],
   "source": [
    "# Decifratura\n",
    "data = a128a_bi32[\"16B-D\"]\n",
    "\n",
    "print_data(data)"
   ]
  },
  {
   "attachments": {},
   "cell_type": "markdown",
   "metadata": {},
   "source": [
    "#### PT 32 byte"
   ]
  },
  {
   "cell_type": "code",
   "execution_count": 107,
   "metadata": {},
   "outputs": [
    {
     "name": "stdout",
     "output_type": "stream",
     "text": [
      "32B-E\n",
      "107    997\n",
      "106      3\n",
      "Name: count, dtype: int64\n",
      "\n",
      "Massimo: 107\n",
      "Minimo: 106\n",
      "Media: 106.997\n",
      "Varianza: 0.002993993993993996\n"
     ]
    }
   ],
   "source": [
    "# Cifratura\n",
    "data = a128a_bi32[\"32B-E\"]\n",
    "\n",
    "print_data(data)"
   ]
  },
  {
   "cell_type": "code",
   "execution_count": 108,
   "metadata": {},
   "outputs": [
    {
     "name": "stdout",
     "output_type": "stream",
     "text": [
      "32B-D\n",
      "215    798\n",
      "216    200\n",
      "217      2\n",
      "Name: count, dtype: int64\n",
      "\n",
      "Massimo: 217\n",
      "Minimo: 215\n",
      "Media: 215.204\n",
      "Varianza: 0.16655055055055057\n"
     ]
    }
   ],
   "source": [
    "# Decifratura\n",
    "data = a128a_bi32[\"32B-D\"]\n",
    "\n",
    "print_data(data)"
   ]
  },
  {
   "attachments": {},
   "cell_type": "markdown",
   "metadata": {},
   "source": [
    "#### PT 48 byte"
   ]
  },
  {
   "cell_type": "code",
   "execution_count": 109,
   "metadata": {},
   "outputs": [
    {
     "name": "stdout",
     "output_type": "stream",
     "text": [
      "48B-E\n",
      "134    800\n",
      "135    199\n",
      "133      1\n",
      "Name: count, dtype: int64\n",
      "\n",
      "Massimo: 135\n",
      "Minimo: 133\n",
      "Media: 134.198\n",
      "Varianza: 0.16095695695695694\n"
     ]
    }
   ],
   "source": [
    "# Cifratura\n",
    "data = a128a_bi32[\"48B-E\"]\n",
    "\n",
    "print_data(data)"
   ]
  },
  {
   "cell_type": "code",
   "execution_count": 110,
   "metadata": {},
   "outputs": [
    {
     "name": "stdout",
     "output_type": "stream",
     "text": [
      "48B-D\n",
      "270    598\n",
      "271    400\n",
      "272      2\n",
      "Name: count, dtype: int64\n",
      "\n",
      "Massimo: 272\n",
      "Minimo: 270\n",
      "Media: 270.404\n",
      "Varianza: 0.24502902902902907\n"
     ]
    }
   ],
   "source": [
    "# Decifratura\n",
    "data = a128a_bi32[\"48B-D\"]\n",
    "\n",
    "print_data(data)"
   ]
  },
  {
   "attachments": {},
   "cell_type": "markdown",
   "metadata": {},
   "source": [
    "#### PT 64 byte"
   ]
  },
  {
   "cell_type": "code",
   "execution_count": 111,
   "metadata": {},
   "outputs": [
    {
     "name": "stdout",
     "output_type": "stream",
     "text": [
      "64B-E\n",
      "161    799\n",
      "162    200\n",
      "160      1\n",
      "Name: count, dtype: int64\n",
      "\n",
      "Massimo: 162\n",
      "Minimo: 160\n",
      "Media: 161.199\n",
      "Varianza: 0.16156056056056062\n"
     ]
    }
   ],
   "source": [
    "# Cifratura\n",
    "data = a128a_bi32[\"64B-E\"]\n",
    "\n",
    "print_data(data)"
   ]
  },
  {
   "cell_type": "code",
   "execution_count": 112,
   "metadata": {},
   "outputs": [
    {
     "name": "stdout",
     "output_type": "stream",
     "text": [
      "64B-D\n",
      "325    797\n",
      "326    200\n",
      "327      3\n",
      "Name: count, dtype: int64\n",
      "\n",
      "Massimo: 327\n",
      "Minimo: 325\n",
      "Media: 325.206\n",
      "Varianza: 0.1697337337337337\n"
     ]
    }
   ],
   "source": [
    "# Decifratura\n",
    "data = a128a_bi32[\"64B-D\"]\n",
    "\n",
    "print_data(data)"
   ]
  },
  {
   "attachments": {},
   "cell_type": "markdown",
   "metadata": {},
   "source": [
    "### Ref"
   ]
  },
  {
   "cell_type": "code",
   "execution_count": 113,
   "metadata": {},
   "outputs": [],
   "source": [
    "with open(path.format(\"ref\"), \"r\") as f:\n",
    "    a128a_ref = pd.read_csv(f, delimiter=\";\")"
   ]
  },
  {
   "attachments": {},
   "cell_type": "markdown",
   "metadata": {},
   "source": [
    "#### PT vuoto"
   ]
  },
  {
   "cell_type": "code",
   "execution_count": 114,
   "metadata": {},
   "outputs": [
    {
     "name": "stdout",
     "output_type": "stream",
     "text": [
      "0B-E\n",
      "146    999\n",
      "145      1\n",
      "Name: count, dtype: int64\n",
      "\n",
      "Massimo: 146\n",
      "Minimo: 145\n",
      "Media: 145.999\n",
      "Varianza: 0.0010000000000000002\n"
     ]
    }
   ],
   "source": [
    "# Cifratura\n",
    "data = a128a_ref[\"0B-E\"]\n",
    "\n",
    "print_data(data)"
   ]
  },
  {
   "cell_type": "code",
   "execution_count": 115,
   "metadata": {},
   "outputs": [
    {
     "name": "stdout",
     "output_type": "stream",
     "text": [
      "0B-D\n",
      "296    999\n",
      "297      1\n",
      "Name: count, dtype: int64\n",
      "\n",
      "Massimo: 297\n",
      "Minimo: 296\n",
      "Media: 296.001\n",
      "Varianza: 0.0009999999999999994\n"
     ]
    }
   ],
   "source": [
    "# Decifratura\n",
    "data = a128a_ref[\"0B-D\"]\n",
    "\n",
    "print_data(data)"
   ]
  },
  {
   "attachments": {},
   "cell_type": "markdown",
   "metadata": {},
   "source": [
    "#### PT 1 byte"
   ]
  },
  {
   "cell_type": "code",
   "execution_count": 116,
   "metadata": {},
   "outputs": [
    {
     "name": "stdout",
     "output_type": "stream",
     "text": [
      "1B-E\n",
      "186    999\n",
      "188      1\n",
      "Name: count, dtype: int64\n",
      "\n",
      "Massimo: 188\n",
      "Minimo: 186\n",
      "Media: 186.002\n",
      "Varianza: 0.004000000000000001\n"
     ]
    }
   ],
   "source": [
    "# Cifratura\n",
    "data = a128a_ref[\"1B-E\"]\n",
    "\n",
    "print_data(data)"
   ]
  },
  {
   "cell_type": "code",
   "execution_count": 117,
   "metadata": {},
   "outputs": [
    {
     "name": "stdout",
     "output_type": "stream",
     "text": [
      "1B-D\n",
      "379    999\n",
      "378      1\n",
      "Name: count, dtype: int64\n",
      "\n",
      "Massimo: 379\n",
      "Minimo: 378\n",
      "Media: 378.999\n",
      "Varianza: 0.0009999999999999994\n"
     ]
    }
   ],
   "source": [
    "# Decifratura\n",
    "data = a128a_ref[\"1B-D\"]\n",
    "\n",
    "print_data(data)"
   ]
  },
  {
   "attachments": {},
   "cell_type": "markdown",
   "metadata": {},
   "source": [
    "#### PT 16 byte"
   ]
  },
  {
   "cell_type": "code",
   "execution_count": 118,
   "metadata": {},
   "outputs": [
    {
     "name": "stdout",
     "output_type": "stream",
     "text": [
      "16B-E\n",
      "289    998\n",
      "288      2\n",
      "Name: count, dtype: int64\n",
      "\n",
      "Massimo: 289\n",
      "Minimo: 288\n",
      "Media: 288.998\n",
      "Varianza: 0.0019979979979979972\n"
     ]
    }
   ],
   "source": [
    "# Cifratura\n",
    "data = a128a_ref[\"16B-E\"]\n",
    "\n",
    "print_data(data)"
   ]
  },
  {
   "cell_type": "code",
   "execution_count": 119,
   "metadata": {},
   "outputs": [
    {
     "name": "stdout",
     "output_type": "stream",
     "text": [
      "16B-D\n",
      "582    998\n",
      "581      1\n",
      "583      1\n",
      "Name: count, dtype: int64\n",
      "\n",
      "Massimo: 583\n",
      "Minimo: 581\n",
      "Media: 582.0\n",
      "Varianza: 0.002002002002002002\n"
     ]
    }
   ],
   "source": [
    "# Decifratura\n",
    "data = a128a_ref[\"16B-D\"]\n",
    "\n",
    "print_data(data)"
   ]
  },
  {
   "attachments": {},
   "cell_type": "markdown",
   "metadata": {},
   "source": [
    "#### PT 32 byte"
   ]
  },
  {
   "cell_type": "code",
   "execution_count": 120,
   "metadata": {},
   "outputs": [
    {
     "name": "stdout",
     "output_type": "stream",
     "text": [
      "32B-E\n",
      "391    998\n",
      "392      2\n",
      "Name: count, dtype: int64\n",
      "\n",
      "Massimo: 392\n",
      "Minimo: 391\n",
      "Media: 391.002\n",
      "Varianza: 0.0019979979979979972\n"
     ]
    }
   ],
   "source": [
    "# Cifratura\n",
    "data = a128a_ref[\"32B-E\"]\n",
    "\n",
    "print_data(data)"
   ]
  },
  {
   "cell_type": "code",
   "execution_count": 121,
   "metadata": {},
   "outputs": [
    {
     "name": "stdout",
     "output_type": "stream",
     "text": [
      "32B-D\n",
      "789    999\n",
      "790      1\n",
      "Name: count, dtype: int64\n",
      "\n",
      "Massimo: 790\n",
      "Minimo: 789\n",
      "Media: 789.001\n",
      "Varianza: 0.0009999999999999994\n"
     ]
    }
   ],
   "source": [
    "# Decifratura\n",
    "data = a128a_ref[\"32B-D\"]\n",
    "\n",
    "print_data(data)"
   ]
  },
  {
   "attachments": {},
   "cell_type": "markdown",
   "metadata": {},
   "source": [
    "#### PT 48 byte"
   ]
  },
  {
   "cell_type": "code",
   "execution_count": 122,
   "metadata": {},
   "outputs": [
    {
     "name": "stdout",
     "output_type": "stream",
     "text": [
      "48B-E\n",
      "493    997\n",
      "495      2\n",
      "496      1\n",
      "Name: count, dtype: int64\n",
      "\n",
      "Massimo: 496\n",
      "Minimo: 493\n",
      "Media: 493.007\n",
      "Varianza: 0.016967967967967984\n"
     ]
    }
   ],
   "source": [
    "# Cifratura\n",
    "data = a128a_ref[\"48B-E\"]\n",
    "\n",
    "print_data(data)"
   ]
  },
  {
   "cell_type": "code",
   "execution_count": 123,
   "metadata": {},
   "outputs": [
    {
     "name": "stdout",
     "output_type": "stream",
     "text": [
      "48B-D\n",
      "996    997\n",
      "997      3\n",
      "Name: count, dtype: int64\n",
      "\n",
      "Massimo: 997\n",
      "Minimo: 996\n",
      "Media: 996.003\n",
      "Varianza: 0.0029939939939939942\n"
     ]
    }
   ],
   "source": [
    "# Decifratura\n",
    "data = a128a_ref[\"48B-D\"]\n",
    "\n",
    "print_data(data)"
   ]
  },
  {
   "attachments": {},
   "cell_type": "markdown",
   "metadata": {},
   "source": [
    "#### PT 64 byte"
   ]
  },
  {
   "cell_type": "code",
   "execution_count": 124,
   "metadata": {},
   "outputs": [
    {
     "name": "stdout",
     "output_type": "stream",
     "text": [
      "64B-E\n",
      "598    998\n",
      "597      2\n",
      "Name: count, dtype: int64\n",
      "\n",
      "Massimo: 598\n",
      "Minimo: 597\n",
      "Media: 597.998\n",
      "Varianza: 0.0019979979979979972\n"
     ]
    }
   ],
   "source": [
    "# Cifratura\n",
    "data = a128a_ref[\"64B-E\"]\n",
    "\n",
    "print_data(data)"
   ]
  },
  {
   "cell_type": "code",
   "execution_count": 125,
   "metadata": {},
   "outputs": [
    {
     "name": "stdout",
     "output_type": "stream",
     "text": [
      "64B-D\n",
      "1206    998\n",
      "1204      2\n",
      "Name: count, dtype: int64\n",
      "\n",
      "Massimo: 1206\n",
      "Minimo: 1204\n",
      "Media: 1205.996\n",
      "Varianza: 0.007991991991991989\n"
     ]
    }
   ],
   "source": [
    "# Decifratura\n",
    "data = a128a_ref[\"64B-D\"]\n",
    "\n",
    "print_data(data)"
   ]
  }
 ],
 "metadata": {
  "kernelspec": {
   "display_name": "Python 3",
   "language": "python",
   "name": "python3"
  },
  "language_info": {
   "codemirror_mode": {
    "name": "ipython",
    "version": 3
   },
   "file_extension": ".py",
   "mimetype": "text/x-python",
   "name": "python",
   "nbconvert_exporter": "python",
   "pygments_lexer": "ipython3",
   "version": "3.11.2"
  },
  "orig_nbformat": 4
 },
 "nbformat": 4,
 "nbformat_minor": 2
}
