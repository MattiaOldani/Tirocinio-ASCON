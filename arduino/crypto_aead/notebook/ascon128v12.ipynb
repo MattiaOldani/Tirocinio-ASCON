{
 "cells": [
  {
   "attachments": {},
   "cell_type": "markdown",
   "metadata": {},
   "source": [
    "# Analisi dei dati raccolti"
   ]
  },
  {
   "attachments": {},
   "cell_type": "markdown",
   "metadata": {},
   "source": [
    "## Setup"
   ]
  },
  {
   "cell_type": "code",
   "execution_count": 1,
   "metadata": {},
   "outputs": [],
   "source": [
    "import pandas as pd"
   ]
  },
  {
   "cell_type": "code",
   "execution_count": 2,
   "metadata": {},
   "outputs": [],
   "source": [
    "def print_data(series: pd.Series) -> None:\n",
    "    print(series.value_counts())\n",
    "    print()\n",
    "    print(f\"Massimo: {series.max()}\\nMinimo: {series.min()}\\nMedia: {series.mean()}\\nVarianza: {series.var()}\")"
   ]
  },
  {
   "attachments": {},
   "cell_type": "markdown",
   "metadata": {},
   "source": [
    "## Ascon128v12"
   ]
  },
  {
   "cell_type": "code",
   "execution_count": 3,
   "metadata": {},
   "outputs": [],
   "source": [
    "path = \"../ascon128v12/data/{}.csv\""
   ]
  },
  {
   "attachments": {},
   "cell_type": "markdown",
   "metadata": {},
   "source": [
    "### Armv7m"
   ]
  },
  {
   "cell_type": "code",
   "execution_count": 4,
   "metadata": {},
   "outputs": [],
   "source": [
    "with open(path.format(\"armv7m\"), \"r\") as f:\n",
    "    a128_armv7m = pd.read_csv(f, delimiter=\";\")"
   ]
  },
  {
   "attachments": {},
   "cell_type": "markdown",
   "metadata": {},
   "source": [
    "#### PT vuoto"
   ]
  },
  {
   "cell_type": "code",
   "execution_count": 5,
   "metadata": {},
   "outputs": [
    {
     "name": "stdout",
     "output_type": "stream",
     "text": [
      "0B-E\n",
      "47    999\n",
      "46      1\n",
      "Name: count, dtype: int64\n",
      "\n",
      "Massimo: 47\n",
      "Minimo: 46\n",
      "Media: 46.999\n",
      "Varianza: 0.0010000000000000002\n"
     ]
    }
   ],
   "source": [
    "# Cifratura\n",
    "data = a128_armv7m[\"0B-E\"]\n",
    "\n",
    "print_data(data)"
   ]
  },
  {
   "cell_type": "code",
   "execution_count": 6,
   "metadata": {},
   "outputs": [
    {
     "name": "stdout",
     "output_type": "stream",
     "text": [
      "0B-D\n",
      "94    799\n",
      "95    200\n",
      "93      1\n",
      "Name: count, dtype: int64\n",
      "\n",
      "Massimo: 95\n",
      "Minimo: 93\n",
      "Media: 94.199\n",
      "Varianza: 0.16156056056056062\n"
     ]
    }
   ],
   "source": [
    "# Decifratura\n",
    "data = a128_armv7m[\"0B-D\"]\n",
    "\n",
    "print_data(data)"
   ]
  },
  {
   "attachments": {},
   "cell_type": "markdown",
   "metadata": {},
   "source": [
    "#### PT 1 byte"
   ]
  },
  {
   "cell_type": "code",
   "execution_count": 7,
   "metadata": {},
   "outputs": [
    {
     "name": "stdout",
     "output_type": "stream",
     "text": [
      "1B-E\n",
      "60    999\n",
      "61      1\n",
      "Name: count, dtype: int64\n",
      "\n",
      "Massimo: 61\n",
      "Minimo: 60\n",
      "Media: 60.001\n",
      "Varianza: 0.0010000000000000002\n"
     ]
    }
   ],
   "source": [
    "# Cifratura\n",
    "data = a128_armv7m[\"1B-E\"]\n",
    "\n",
    "print_data(data)"
   ]
  },
  {
   "cell_type": "code",
   "execution_count": 8,
   "metadata": {},
   "outputs": [
    {
     "name": "stdout",
     "output_type": "stream",
     "text": [
      "1B-D\n",
      "125    999\n",
      "126      1\n",
      "Name: count, dtype: int64\n",
      "\n",
      "Massimo: 126\n",
      "Minimo: 125\n",
      "Media: 125.001\n",
      "Varianza: 0.0010000000000000002\n"
     ]
    }
   ],
   "source": [
    "# Decifratura\n",
    "data = a128_armv7m[\"1B-D\"]\n",
    "\n",
    "print_data(data)"
   ]
  },
  {
   "attachments": {},
   "cell_type": "markdown",
   "metadata": {},
   "source": [
    "#### PT 8 byte"
   ]
  },
  {
   "cell_type": "code",
   "execution_count": 9,
   "metadata": {},
   "outputs": [
    {
     "name": "stdout",
     "output_type": "stream",
     "text": [
      "8B-E\n",
      "80    800\n",
      "81    200\n",
      "Name: count, dtype: int64\n",
      "\n",
      "Massimo: 81\n",
      "Minimo: 80\n",
      "Media: 80.2\n",
      "Varianza: 0.1601601601601601\n"
     ]
    }
   ],
   "source": [
    "# Cifratura\n",
    "data = a128_armv7m[\"8B-E\"]\n",
    "\n",
    "print_data(data)"
   ]
  },
  {
   "cell_type": "code",
   "execution_count": 10,
   "metadata": {},
   "outputs": [
    {
     "name": "stdout",
     "output_type": "stream",
     "text": [
      "8B-D\n",
      "162    799\n",
      "163    201\n",
      "Name: count, dtype: int64\n",
      "\n",
      "Massimo: 163\n",
      "Minimo: 162\n",
      "Media: 162.201\n",
      "Varianza: 0.16075975975975976\n"
     ]
    }
   ],
   "source": [
    "# Decifratura\n",
    "data = a128_armv7m[\"8B-D\"]\n",
    "\n",
    "print_data(data)"
   ]
  },
  {
   "attachments": {},
   "cell_type": "markdown",
   "metadata": {},
   "source": [
    "#### PT 16 byte"
   ]
  },
  {
   "cell_type": "code",
   "execution_count": 11,
   "metadata": {},
   "outputs": [
    {
     "name": "stdout",
     "output_type": "stream",
     "text": [
      "16B-E\n",
      "102    997\n",
      "103      3\n",
      "Name: count, dtype: int64\n",
      "\n",
      "Massimo: 103\n",
      "Minimo: 102\n",
      "Media: 102.003\n",
      "Varianza: 0.002993993993993996\n"
     ]
    }
   ],
   "source": [
    "# Cifratura\n",
    "data = a128_armv7m[\"16B-E\"]\n",
    "\n",
    "print_data(data)"
   ]
  },
  {
   "cell_type": "code",
   "execution_count": 12,
   "metadata": {},
   "outputs": [
    {
     "name": "stdout",
     "output_type": "stream",
     "text": [
      "16B-D\n",
      "207    800\n",
      "208    200\n",
      "Name: count, dtype: int64\n",
      "\n",
      "Massimo: 208\n",
      "Minimo: 207\n",
      "Media: 207.2\n",
      "Varianza: 0.1601601601601602\n"
     ]
    }
   ],
   "source": [
    "# Decifratura\n",
    "data = a128_armv7m[\"16B-D\"]\n",
    "\n",
    "print_data(data)"
   ]
  },
  {
   "attachments": {},
   "cell_type": "markdown",
   "metadata": {},
   "source": [
    "#### PT 24 byte"
   ]
  },
  {
   "cell_type": "code",
   "execution_count": 13,
   "metadata": {},
   "outputs": [
    {
     "name": "stdout",
     "output_type": "stream",
     "text": [
      "24B-E\n",
      "125    799\n",
      "126    201\n",
      "Name: count, dtype: int64\n",
      "\n",
      "Massimo: 126\n",
      "Minimo: 125\n",
      "Media: 125.201\n",
      "Varianza: 0.16075975975975976\n"
     ]
    }
   ],
   "source": [
    "# Cifratura\n",
    "data = a128_armv7m[\"24B-E\"]\n",
    "\n",
    "print_data(data)"
   ]
  },
  {
   "cell_type": "code",
   "execution_count": 14,
   "metadata": {},
   "outputs": [
    {
     "name": "stdout",
     "output_type": "stream",
     "text": [
      "24B-D\n",
      "252    799\n",
      "253    201\n",
      "Name: count, dtype: int64\n",
      "\n",
      "Massimo: 253\n",
      "Minimo: 252\n",
      "Media: 252.201\n",
      "Varianza: 0.16075975975975976\n"
     ]
    }
   ],
   "source": [
    "# Decifratura\n",
    "data = a128_armv7m[\"24B-D\"]\n",
    "\n",
    "print_data(data)"
   ]
  },
  {
   "attachments": {},
   "cell_type": "markdown",
   "metadata": {},
   "source": [
    "#### PT 32 byte"
   ]
  },
  {
   "cell_type": "code",
   "execution_count": 15,
   "metadata": {},
   "outputs": [
    {
     "name": "stdout",
     "output_type": "stream",
     "text": [
      "32B-E\n",
      "147    799\n",
      "148    201\n",
      "Name: count, dtype: int64\n",
      "\n",
      "Massimo: 148\n",
      "Minimo: 147\n",
      "Media: 147.201\n",
      "Varianza: 0.16075975975975976\n"
     ]
    }
   ],
   "source": [
    "# Cifratura\n",
    "data = a128_armv7m[\"32B-E\"]\n",
    "\n",
    "print_data(data)"
   ]
  },
  {
   "cell_type": "code",
   "execution_count": 16,
   "metadata": {},
   "outputs": [
    {
     "name": "stdout",
     "output_type": "stream",
     "text": [
      "32B-D\n",
      "297    800\n",
      "298    200\n",
      "Name: count, dtype: int64\n",
      "\n",
      "Massimo: 298\n",
      "Minimo: 297\n",
      "Media: 297.2\n",
      "Varianza: 0.1601601601601602\n"
     ]
    }
   ],
   "source": [
    "# Decifratura\n",
    "data = a128_armv7m[\"32B-D\"]\n",
    "\n",
    "print_data(data)"
   ]
  },
  {
   "attachments": {},
   "cell_type": "markdown",
   "metadata": {},
   "source": [
    "### Armv7m_lowsize"
   ]
  },
  {
   "cell_type": "code",
   "execution_count": 17,
   "metadata": {},
   "outputs": [],
   "source": [
    "with open(path.format(\"armv7m_lowsize\"), \"r\") as f:\n",
    "    a128_lowsize = pd.read_csv(f, delimiter=\";\")"
   ]
  },
  {
   "cell_type": "markdown",
   "metadata": {},
   "source": [
    "#### PT vuoto"
   ]
  },
  {
   "cell_type": "code",
   "execution_count": 18,
   "metadata": {},
   "outputs": [
    {
     "name": "stdout",
     "output_type": "stream",
     "text": [
      "0B-E\n",
      "44    957\n",
      "45     43\n",
      "Name: count, dtype: int64\n",
      "\n",
      "Massimo: 45\n",
      "Minimo: 44\n",
      "Media: 44.043\n",
      "Varianza: 0.0411921921921922\n"
     ]
    }
   ],
   "source": [
    "# Cifratura\n",
    "data = a128_lowsize[\"0B-E\"]\n",
    "\n",
    "print_data(data)"
   ]
  },
  {
   "cell_type": "code",
   "execution_count": 19,
   "metadata": {},
   "outputs": [
    {
     "name": "stdout",
     "output_type": "stream",
     "text": [
      "0B-D\n",
      "86    921\n",
      "88     79\n",
      "Name: count, dtype: int64\n",
      "\n",
      "Massimo: 88\n",
      "Minimo: 86\n",
      "Media: 86.158\n",
      "Varianza: 0.29132732732732725\n"
     ]
    }
   ],
   "source": [
    "# Decifratura\n",
    "data = a128_lowsize[\"0B-D\"]\n",
    "\n",
    "print_data(data)"
   ]
  },
  {
   "attachments": {},
   "cell_type": "markdown",
   "metadata": {},
   "source": [
    "#### PT 1 byte"
   ]
  },
  {
   "cell_type": "code",
   "execution_count": 20,
   "metadata": {},
   "outputs": [
    {
     "name": "stdout",
     "output_type": "stream",
     "text": [
      "1B-E\n",
      "56    919\n",
      "57     81\n",
      "Name: count, dtype: int64\n",
      "\n",
      "Massimo: 57\n",
      "Minimo: 56\n",
      "Media: 56.081\n",
      "Varianza: 0.07451351351351351\n"
     ]
    }
   ],
   "source": [
    "# Cifratura\n",
    "data = a128_lowsize[\"1B-E\"]\n",
    "\n",
    "print_data(data)"
   ]
  },
  {
   "cell_type": "code",
   "execution_count": 21,
   "metadata": {},
   "outputs": [
    {
     "name": "stdout",
     "output_type": "stream",
     "text": [
      "1B-D\n",
      "110    880\n",
      "111    120\n",
      "Name: count, dtype: int64\n",
      "\n",
      "Massimo: 111\n",
      "Minimo: 110\n",
      "Media: 110.12\n",
      "Varianza: 0.1057057057057057\n"
     ]
    }
   ],
   "source": [
    "# Decifratura\n",
    "data = a128_lowsize[\"1B-D\"]\n",
    "\n",
    "print_data(data)"
   ]
  },
  {
   "attachments": {},
   "cell_type": "markdown",
   "metadata": {},
   "source": [
    "#### PT 8 byte"
   ]
  },
  {
   "cell_type": "code",
   "execution_count": 22,
   "metadata": {},
   "outputs": [
    {
     "name": "stdout",
     "output_type": "stream",
     "text": [
      "8B-E\n",
      "75    920\n",
      "76     80\n",
      "Name: count, dtype: int64\n",
      "\n",
      "Massimo: 76\n",
      "Minimo: 75\n",
      "Media: 75.08\n",
      "Varianza: 0.0736736736736737\n"
     ]
    }
   ],
   "source": [
    "# Cifratura\n",
    "data = a128_lowsize[\"8B-E\"]\n",
    "\n",
    "print_data(data)"
   ]
  },
  {
   "cell_type": "code",
   "execution_count": 23,
   "metadata": {},
   "outputs": [
    {
     "name": "stdout",
     "output_type": "stream",
     "text": [
      "8B-D\n",
      "148    878\n",
      "149    122\n",
      "Name: count, dtype: int64\n",
      "\n",
      "Massimo: 149\n",
      "Minimo: 148\n",
      "Media: 148.122\n",
      "Varianza: 0.10722322322322324\n"
     ]
    }
   ],
   "source": [
    "# Decifratura\n",
    "data = a128_lowsize[\"8B-D\"]\n",
    "\n",
    "print_data(data)"
   ]
  },
  {
   "attachments": {},
   "cell_type": "markdown",
   "metadata": {},
   "source": [
    "#### PT 16 byte"
   ]
  },
  {
   "cell_type": "code",
   "execution_count": 24,
   "metadata": {},
   "outputs": [
    {
     "name": "stdout",
     "output_type": "stream",
     "text": [
      "16B-E\n",
      "93    918\n",
      "95     80\n",
      "94      2\n",
      "Name: count, dtype: int64\n",
      "\n",
      "Massimo: 95\n",
      "Minimo: 93\n",
      "Media: 93.162\n",
      "Varianza: 0.29605205205205204\n"
     ]
    }
   ],
   "source": [
    "# Cifratura\n",
    "data = a128_lowsize[\"16B-E\"]\n",
    "\n",
    "print_data(data)"
   ]
  },
  {
   "cell_type": "code",
   "execution_count": 25,
   "metadata": {},
   "outputs": [
    {
     "name": "stdout",
     "output_type": "stream",
     "text": [
      "16B-D\n",
      "186    840\n",
      "187    160\n",
      "Name: count, dtype: int64\n",
      "\n",
      "Massimo: 187\n",
      "Minimo: 186\n",
      "Media: 186.16\n",
      "Varianza: 0.13453453453453457\n"
     ]
    }
   ],
   "source": [
    "# Decifratura\n",
    "data = a128_lowsize[\"16B-D\"]\n",
    "\n",
    "print_data(data)"
   ]
  },
  {
   "attachments": {},
   "cell_type": "markdown",
   "metadata": {},
   "source": [
    "#### PT 24 byte"
   ]
  },
  {
   "cell_type": "code",
   "execution_count": 26,
   "metadata": {},
   "outputs": [
    {
     "name": "stdout",
     "output_type": "stream",
     "text": [
      "24B-E\n",
      "112    880\n",
      "113    119\n",
      "114      1\n",
      "Name: count, dtype: int64\n",
      "\n",
      "Massimo: 114\n",
      "Minimo: 112\n",
      "Media: 112.121\n",
      "Varianza: 0.10846746746746745\n"
     ]
    }
   ],
   "source": [
    "# Cifratura\n",
    "data = a128_lowsize[\"24B-E\"]\n",
    "\n",
    "print_data(data)"
   ]
  },
  {
   "cell_type": "code",
   "execution_count": 27,
   "metadata": {},
   "outputs": [
    {
     "name": "stdout",
     "output_type": "stream",
     "text": [
      "24B-D\n",
      "224    799\n",
      "226    199\n",
      "225      2\n",
      "Name: count, dtype: int64\n",
      "\n",
      "Massimo: 226\n",
      "Minimo: 224\n",
      "Media: 224.4\n",
      "Varianza: 0.6386386386386385\n"
     ]
    }
   ],
   "source": [
    "# Decifratura\n",
    "data = a128_lowsize[\"24B-D\"]\n",
    "\n",
    "print_data(data)"
   ]
  },
  {
   "attachments": {},
   "cell_type": "markdown",
   "metadata": {},
   "source": [
    "#### PT 32 byte"
   ]
  },
  {
   "cell_type": "code",
   "execution_count": 28,
   "metadata": {},
   "outputs": [
    {
     "name": "stdout",
     "output_type": "stream",
     "text": [
      "32B-E\n",
      "131    881\n",
      "132    119\n",
      "Name: count, dtype: int64\n",
      "\n",
      "Massimo: 132\n",
      "Minimo: 131\n",
      "Media: 131.119\n",
      "Varianza: 0.10494394394394395\n"
     ]
    }
   ],
   "source": [
    "# Cifratura\n",
    "data = a128_lowsize[\"32B-E\"]\n",
    "\n",
    "print_data(data)"
   ]
  },
  {
   "cell_type": "code",
   "execution_count": 29,
   "metadata": {},
   "outputs": [
    {
     "name": "stdout",
     "output_type": "stream",
     "text": [
      "32B-D\n",
      "263    759\n",
      "264    240\n",
      "262      1\n",
      "Name: count, dtype: int64\n",
      "\n",
      "Massimo: 264\n",
      "Minimo: 262\n",
      "Media: 263.239\n",
      "Varianza: 0.18406306306306303\n"
     ]
    }
   ],
   "source": [
    "# Decifratura\n",
    "data = a128_lowsize[\"32B-D\"]\n",
    "\n",
    "print_data(data)"
   ]
  },
  {
   "attachments": {},
   "cell_type": "markdown",
   "metadata": {},
   "source": [
    "### Armv7m_small"
   ]
  },
  {
   "cell_type": "code",
   "execution_count": 30,
   "metadata": {},
   "outputs": [],
   "source": [
    "with open(path.format(\"armv7m_small\"), \"r\") as f:\n",
    "    a128_small = pd.read_csv(f, delimiter=\";\")"
   ]
  },
  {
   "attachments": {},
   "cell_type": "markdown",
   "metadata": {},
   "source": [
    "#### PT vuoto"
   ]
  },
  {
   "cell_type": "code",
   "execution_count": 31,
   "metadata": {},
   "outputs": [
    {
     "name": "stdout",
     "output_type": "stream",
     "text": [
      "0B-E\n",
      "38    959\n",
      "39     40\n",
      "37      1\n",
      "Name: count, dtype: int64\n",
      "\n",
      "Massimo: 39\n",
      "Minimo: 37\n",
      "Media: 38.039\n",
      "Varianza: 0.03951851851851851\n"
     ]
    }
   ],
   "source": [
    "# Cifratura\n",
    "data = a128_small[\"0B-E\"]\n",
    "\n",
    "print_data(data)"
   ]
  },
  {
   "cell_type": "code",
   "execution_count": 32,
   "metadata": {},
   "outputs": [
    {
     "name": "stdout",
     "output_type": "stream",
     "text": [
      "0B-D\n",
      "77    918\n",
      "78     79\n",
      "76      3\n",
      "Name: count, dtype: int64\n",
      "\n",
      "Massimo: 78\n",
      "Minimo: 76\n",
      "Media: 77.076\n",
      "Varianza: 0.0763003003003003\n"
     ]
    }
   ],
   "source": [
    "# Decifratura\n",
    "data = a128_small[\"0B-D\"]\n",
    "\n",
    "print_data(data)"
   ]
  },
  {
   "attachments": {},
   "cell_type": "markdown",
   "metadata": {},
   "source": [
    "#### PT 1 byte"
   ]
  },
  {
   "cell_type": "code",
   "execution_count": 33,
   "metadata": {},
   "outputs": [
    {
     "name": "stdout",
     "output_type": "stream",
     "text": [
      "1B-E\n",
      "49    919\n",
      "50     80\n",
      "51      1\n",
      "Name: count, dtype: int64\n",
      "\n",
      "Massimo: 51\n",
      "Minimo: 49\n",
      "Media: 49.082\n",
      "Varianza: 0.07735335335335337\n"
     ]
    }
   ],
   "source": [
    "# Cifratura\n",
    "data = a128_small[\"1B-E\"]\n",
    "\n",
    "print_data(data)"
   ]
  },
  {
   "cell_type": "code",
   "execution_count": 34,
   "metadata": {},
   "outputs": [
    {
     "name": "stdout",
     "output_type": "stream",
     "text": [
      "1B-D\n",
      "102    919\n",
      "103     80\n",
      "101      1\n",
      "Name: count, dtype: int64\n",
      "\n",
      "Massimo: 103\n",
      "Minimo: 101\n",
      "Media: 102.079\n",
      "Varianza: 0.07483383383383382\n"
     ]
    }
   ],
   "source": [
    "# Decifratura\n",
    "data = a128_small[\"1B-D\"]\n",
    "\n",
    "print_data(data)"
   ]
  },
  {
   "attachments": {},
   "cell_type": "markdown",
   "metadata": {},
   "source": [
    "#### PT 8 byte"
   ]
  },
  {
   "cell_type": "code",
   "execution_count": 35,
   "metadata": {},
   "outputs": [
    {
     "name": "stdout",
     "output_type": "stream",
     "text": [
      "8B-E\n",
      "66    920\n",
      "67     80\n",
      "Name: count, dtype: int64\n",
      "\n",
      "Massimo: 67\n",
      "Minimo: 66\n",
      "Media: 66.08\n",
      "Varianza: 0.0736736736736737\n"
     ]
    }
   ],
   "source": [
    "# Cifratura\n",
    "data = a128_small[\"8B-E\"]\n",
    "\n",
    "print_data(data)"
   ]
  },
  {
   "cell_type": "code",
   "execution_count": 36,
   "metadata": {},
   "outputs": [
    {
     "name": "stdout",
     "output_type": "stream",
     "text": [
      "8B-D\n",
      "133    879\n",
      "134    120\n",
      "132      1\n",
      "Name: count, dtype: int64\n",
      "\n",
      "Massimo: 134\n",
      "Minimo: 132\n",
      "Media: 133.119\n",
      "Varianza: 0.10694594594594596\n"
     ]
    }
   ],
   "source": [
    "# Decifratura\n",
    "data = a128_small[\"8B-D\"]\n",
    "\n",
    "print_data(data)"
   ]
  },
  {
   "attachments": {},
   "cell_type": "markdown",
   "metadata": {},
   "source": [
    "#### PT 16 byte"
   ]
  },
  {
   "cell_type": "code",
   "execution_count": 37,
   "metadata": {},
   "outputs": [
    {
     "name": "stdout",
     "output_type": "stream",
     "text": [
      "16B-E\n",
      "84    879\n",
      "85     81\n",
      "86     40\n",
      "Name: count, dtype: int64\n",
      "\n",
      "Massimo: 86\n",
      "Minimo: 84\n",
      "Media: 84.161\n",
      "Varianza: 0.21529429429429428\n"
     ]
    }
   ],
   "source": [
    "# Cifratura\n",
    "data = a128_small[\"16B-E\"]\n",
    "\n",
    "print_data(data)"
   ]
  },
  {
   "cell_type": "code",
   "execution_count": 38,
   "metadata": {},
   "outputs": [
    {
     "name": "stdout",
     "output_type": "stream",
     "text": [
      "16B-D\n",
      "170    841\n",
      "171    159\n",
      "Name: count, dtype: int64\n",
      "\n",
      "Massimo: 171\n",
      "Minimo: 170\n",
      "Media: 170.159\n",
      "Varianza: 0.1338528528528529\n"
     ]
    }
   ],
   "source": [
    "# Decifratura\n",
    "data = a128_small[\"16B-D\"]\n",
    "\n",
    "print_data(data)"
   ]
  },
  {
   "attachments": {},
   "cell_type": "markdown",
   "metadata": {},
   "source": [
    "#### PT 24 byte"
   ]
  },
  {
   "cell_type": "code",
   "execution_count": 39,
   "metadata": {},
   "outputs": [
    {
     "name": "stdout",
     "output_type": "stream",
     "text": [
      "24B-E\n",
      "102    879\n",
      "104    120\n",
      "103      1\n",
      "Name: count, dtype: int64\n",
      "\n",
      "Massimo: 104\n",
      "Minimo: 102\n",
      "Media: 102.241\n",
      "Varianza: 0.42334234234234236\n"
     ]
    }
   ],
   "source": [
    "# Cifratura\n",
    "data = a128_small[\"24B-E\"]\n",
    "\n",
    "print_data(data)"
   ]
  },
  {
   "cell_type": "code",
   "execution_count": 40,
   "metadata": {},
   "outputs": [
    {
     "name": "stdout",
     "output_type": "stream",
     "text": [
      "24B-D\n",
      "207    800\n",
      "208    200\n",
      "Name: count, dtype: int64\n",
      "\n",
      "Massimo: 208\n",
      "Minimo: 207\n",
      "Media: 207.2\n",
      "Varianza: 0.1601601601601602\n"
     ]
    }
   ],
   "source": [
    "# Decifratura\n",
    "data = a128_small[\"24B-D\"]\n",
    "\n",
    "print_data(data)"
   ]
  },
  {
   "attachments": {},
   "cell_type": "markdown",
   "metadata": {},
   "source": [
    "#### PT 32 byte"
   ]
  },
  {
   "cell_type": "code",
   "execution_count": 41,
   "metadata": {},
   "outputs": [
    {
     "name": "stdout",
     "output_type": "stream",
     "text": [
      "32B-E\n",
      "121    880\n",
      "122    120\n",
      "Name: count, dtype: int64\n",
      "\n",
      "Massimo: 122\n",
      "Minimo: 121\n",
      "Media: 121.12\n",
      "Varianza: 0.1057057057057057\n"
     ]
    }
   ],
   "source": [
    "# Cifratura\n",
    "data = a128_small[\"32B-E\"]\n",
    "\n",
    "print_data(data)"
   ]
  },
  {
   "cell_type": "code",
   "execution_count": 42,
   "metadata": {},
   "outputs": [
    {
     "name": "stdout",
     "output_type": "stream",
     "text": [
      "32B-D\n",
      "244    758\n",
      "246    241\n",
      "245      1\n",
      "Name: count, dtype: int64\n",
      "\n",
      "Massimo: 246\n",
      "Minimo: 244\n",
      "Media: 244.483\n",
      "Varianza: 0.7324434434434437\n"
     ]
    }
   ],
   "source": [
    "# Decifratura\n",
    "data = a128_small[\"32B-D\"]\n",
    "\n",
    "print_data(data)"
   ]
  },
  {
   "attachments": {},
   "cell_type": "markdown",
   "metadata": {},
   "source": [
    "### Bi32_armv7m"
   ]
  },
  {
   "cell_type": "code",
   "execution_count": 43,
   "metadata": {},
   "outputs": [],
   "source": [
    "with open(path.format(\"bi32_armv7m\"), \"r\") as f:\n",
    "    a128_bi32 = pd.read_csv(f, delimiter=\";\")"
   ]
  },
  {
   "attachments": {},
   "cell_type": "markdown",
   "metadata": {},
   "source": [
    "#### PT vuoto"
   ]
  },
  {
   "cell_type": "code",
   "execution_count": 44,
   "metadata": {},
   "outputs": [
    {
     "name": "stdout",
     "output_type": "stream",
     "text": [
      "0B-E\n",
      "39    959\n",
      "41     40\n",
      "40      1\n",
      "Name: count, dtype: int64\n",
      "\n",
      "Massimo: 41\n",
      "Minimo: 39\n",
      "Media: 39.081\n",
      "Varianza: 0.15459359359359356\n"
     ]
    }
   ],
   "source": [
    "# Cifratura\n",
    "data = a128_bi32[\"0B-E\"]\n",
    "\n",
    "print_data(data)"
   ]
  },
  {
   "cell_type": "code",
   "execution_count": 45,
   "metadata": {},
   "outputs": [
    {
     "name": "stdout",
     "output_type": "stream",
     "text": [
      "0B-D\n",
      "79    921\n",
      "80     79\n",
      "Name: count, dtype: int64\n",
      "\n",
      "Massimo: 80\n",
      "Minimo: 79\n",
      "Media: 79.079\n",
      "Varianza: 0.07283183183183181\n"
     ]
    }
   ],
   "source": [
    "# Decifratura\n",
    "data = a128_bi32[\"0B-D\"]\n",
    "\n",
    "print_data(data)"
   ]
  },
  {
   "attachments": {},
   "cell_type": "markdown",
   "metadata": {},
   "source": [
    "#### PT 1 byte"
   ]
  },
  {
   "cell_type": "code",
   "execution_count": 46,
   "metadata": {},
   "outputs": [
    {
     "name": "stdout",
     "output_type": "stream",
     "text": [
      "1B-E\n",
      "53    959\n",
      "54     41\n",
      "Name: count, dtype: int64\n",
      "\n",
      "Massimo: 54\n",
      "Minimo: 53\n",
      "Media: 53.041\n",
      "Varianza: 0.039358358358358346\n"
     ]
    }
   ],
   "source": [
    "# Cifratura\n",
    "data = a128_bi32[\"1B-E\"]\n",
    "\n",
    "print_data(data)"
   ]
  },
  {
   "cell_type": "code",
   "execution_count": 47,
   "metadata": {},
   "outputs": [
    {
     "name": "stdout",
     "output_type": "stream",
     "text": [
      "1B-D\n",
      "107    878\n",
      "109    120\n",
      "108      2\n",
      "Name: count, dtype: int64\n",
      "\n",
      "Massimo: 109\n",
      "Minimo: 107\n",
      "Media: 107.242\n",
      "Varianza: 0.42385985985986\n"
     ]
    }
   ],
   "source": [
    "# Cifratura\n",
    "data = a128_bi32[\"1B-D\"]\n",
    "\n",
    "print_data(data)"
   ]
  },
  {
   "attachments": {},
   "cell_type": "markdown",
   "metadata": {},
   "source": [
    "#### PT 8 byte"
   ]
  },
  {
   "cell_type": "code",
   "execution_count": 48,
   "metadata": {},
   "outputs": [
    {
     "name": "stdout",
     "output_type": "stream",
     "text": [
      "8B-E\n",
      "68    918\n",
      "69     80\n",
      "67      2\n",
      "Name: count, dtype: int64\n",
      "\n",
      "Massimo: 69\n",
      "Minimo: 67\n",
      "Media: 68.078\n",
      "Varianza: 0.07599199199199196\n"
     ]
    }
   ],
   "source": [
    "# Cifratura\n",
    "data = a128_bi32[\"8B-E\"]\n",
    "\n",
    "print_data(data)"
   ]
  },
  {
   "cell_type": "code",
   "execution_count": 49,
   "metadata": {},
   "outputs": [
    {
     "name": "stdout",
     "output_type": "stream",
     "text": [
      "8B-D\n",
      "137    877\n",
      "139    120\n",
      "138      3\n",
      "Name: count, dtype: int64\n",
      "\n",
      "Massimo: 139\n",
      "Minimo: 137\n",
      "Media: 137.243\n",
      "Varianza: 0.4243753753753754\n"
     ]
    }
   ],
   "source": [
    "# Decifratura\n",
    "data = a128_bi32[\"8B-D\"]\n",
    "\n",
    "print_data(data)"
   ]
  },
  {
   "attachments": {},
   "cell_type": "markdown",
   "metadata": {},
   "source": [
    "#### PT 16 byte"
   ]
  },
  {
   "cell_type": "code",
   "execution_count": 50,
   "metadata": {},
   "outputs": [
    {
     "name": "stdout",
     "output_type": "stream",
     "text": [
      "16B-E\n",
      "88    918\n",
      "89     81\n",
      "87      1\n",
      "Name: count, dtype: int64\n",
      "\n",
      "Massimo: 89\n",
      "Minimo: 87\n",
      "Media: 88.08\n",
      "Varianza: 0.0756756756756757\n"
     ]
    }
   ],
   "source": [
    "# Cifratura\n",
    "data = a128_bi32[\"16B-E\"]\n",
    "\n",
    "print_data(data)"
   ]
  },
  {
   "cell_type": "code",
   "execution_count": 51,
   "metadata": {},
   "outputs": [
    {
     "name": "stdout",
     "output_type": "stream",
     "text": [
      "16B-D\n",
      "178    838\n",
      "179    162\n",
      "Name: count, dtype: int64\n",
      "\n",
      "Massimo: 179\n",
      "Minimo: 178\n",
      "Media: 178.162\n",
      "Varianza: 0.13589189189189188\n"
     ]
    }
   ],
   "source": [
    "# Decifratura\n",
    "data = a128_bi32[\"16B-D\"]\n",
    "\n",
    "print_data(data)"
   ]
  },
  {
   "attachments": {},
   "cell_type": "markdown",
   "metadata": {},
   "source": [
    "#### PT 24 byte"
   ]
  },
  {
   "cell_type": "code",
   "execution_count": 52,
   "metadata": {},
   "outputs": [
    {
     "name": "stdout",
     "output_type": "stream",
     "text": [
      "24B-E\n",
      "107    879\n",
      "108     79\n",
      "109     42\n",
      "Name: count, dtype: int64\n",
      "\n",
      "Massimo: 109\n",
      "Minimo: 107\n",
      "Media: 107.163\n",
      "Varianza: 0.22065165165165165\n"
     ]
    }
   ],
   "source": [
    "# Cifratura\n",
    "data = a128_bi32[\"24B-E\"]\n",
    "\n",
    "print_data(data)"
   ]
  },
  {
   "cell_type": "code",
   "execution_count": 53,
   "metadata": {},
   "outputs": [
    {
     "name": "stdout",
     "output_type": "stream",
     "text": [
      "24B-D\n",
      "218    798\n",
      "220    200\n",
      "219      2\n",
      "Name: count, dtype: int64\n",
      "\n",
      "Massimo: 220\n",
      "Minimo: 218\n",
      "Media: 218.402\n",
      "Varianza: 0.641037037037037\n"
     ]
    }
   ],
   "source": [
    "# Decifratura\n",
    "data = a128_bi32[\"24B-D\"]\n",
    "\n",
    "print_data(data)"
   ]
  },
  {
   "attachments": {},
   "cell_type": "markdown",
   "metadata": {},
   "source": [
    "#### PT 32 byte"
   ]
  },
  {
   "cell_type": "code",
   "execution_count": 54,
   "metadata": {},
   "outputs": [
    {
     "name": "stdout",
     "output_type": "stream",
     "text": [
      "32B-E\n",
      "127    879\n",
      "128    120\n",
      "126      1\n",
      "Name: count, dtype: int64\n",
      "\n",
      "Massimo: 128\n",
      "Minimo: 126\n",
      "Media: 127.119\n",
      "Varianza: 0.10694594594594595\n"
     ]
    }
   ],
   "source": [
    "# Cifratura\n",
    "data = a128_bi32[\"32B-E\"]\n",
    "\n",
    "print_data(data)"
   ]
  },
  {
   "cell_type": "code",
   "execution_count": 55,
   "metadata": {},
   "outputs": [
    {
     "name": "stdout",
     "output_type": "stream",
     "text": [
      "32B-D\n",
      "259    758\n",
      "260    240\n",
      "261      2\n",
      "Name: count, dtype: int64\n",
      "\n",
      "Massimo: 261\n",
      "Minimo: 259\n",
      "Media: 259.244\n",
      "Varianza: 0.1886526526526527\n"
     ]
    }
   ],
   "source": [
    "# Decifratura\n",
    "data = a128_bi32[\"32B-D\"]\n",
    "\n",
    "print_data(data)"
   ]
  },
  {
   "attachments": {},
   "cell_type": "markdown",
   "metadata": {},
   "source": [
    "### Ref"
   ]
  },
  {
   "cell_type": "code",
   "execution_count": 56,
   "metadata": {},
   "outputs": [],
   "source": [
    "with open(path.format(\"ref\"), \"r\") as f:\n",
    "    a128_ref = pd.read_csv(f, delimiter=\";\")"
   ]
  },
  {
   "attachments": {},
   "cell_type": "markdown",
   "metadata": {},
   "source": [
    "#### PT vuoto"
   ]
  },
  {
   "cell_type": "code",
   "execution_count": 57,
   "metadata": {},
   "outputs": [
    {
     "name": "stdout",
     "output_type": "stream",
     "text": [
      "0B-E\n",
      "147    880\n",
      "148    120\n",
      "Name: count, dtype: int64\n",
      "\n",
      "Massimo: 148\n",
      "Minimo: 147\n",
      "Media: 147.12\n",
      "Varianza: 0.1057057057057057\n"
     ]
    }
   ],
   "source": [
    "# Cifratura\n",
    "data = a128_ref[\"0B-E\"]\n",
    "\n",
    "print_data(data)"
   ]
  },
  {
   "cell_type": "code",
   "execution_count": 58,
   "metadata": {},
   "outputs": [
    {
     "name": "stdout",
     "output_type": "stream",
     "text": [
      "0B-D\n",
      "301    678\n",
      "303    240\n",
      "302     82\n",
      "Name: count, dtype: int64\n",
      "\n",
      "Massimo: 303\n",
      "Minimo: 301\n",
      "Media: 301.562\n",
      "Varianza: 0.7268828828828827\n"
     ]
    }
   ],
   "source": [
    "# Decifratura\n",
    "data = a128_ref[\"0B-D\"]\n",
    "\n",
    "print_data(data)"
   ]
  },
  {
   "attachments": {},
   "cell_type": "markdown",
   "metadata": {},
   "source": [
    "#### PT 1 byte"
   ]
  },
  {
   "cell_type": "code",
   "execution_count": 59,
   "metadata": {},
   "outputs": [
    {
     "name": "stdout",
     "output_type": "stream",
     "text": [
      "1B-E\n",
      "178    839\n",
      "179    160\n",
      "177      1\n",
      "Name: count, dtype: int64\n",
      "\n",
      "Massimo: 179\n",
      "Minimo: 177\n",
      "Media: 178.159\n",
      "Varianza: 0.1358548548548549\n"
     ]
    }
   ],
   "source": [
    "# Cifratura\n",
    "data = a128_ref[\"1B-E\"]\n",
    "\n",
    "print_data(data)"
   ]
  },
  {
   "cell_type": "code",
   "execution_count": 60,
   "metadata": {},
   "outputs": [
    {
     "name": "stdout",
     "output_type": "stream",
     "text": [
      "1B-D\n",
      "364    598\n",
      "366    319\n",
      "365     82\n",
      "367      1\n",
      "Name: count, dtype: int64\n",
      "\n",
      "Massimo: 367\n",
      "Minimo: 364\n",
      "Media: 364.723\n",
      "Varianza: 0.8451161161161163\n"
     ]
    }
   ],
   "source": [
    "# Decifratura\n",
    "data = a128_ref[\"1B-D\"]\n",
    "\n",
    "print_data(data)"
   ]
  },
  {
   "attachments": {},
   "cell_type": "markdown",
   "metadata": {},
   "source": [
    "#### PT 8 byte"
   ]
  },
  {
   "cell_type": "code",
   "execution_count": 61,
   "metadata": {},
   "outputs": [
    {
     "name": "stdout",
     "output_type": "stream",
     "text": [
      "8B-E\n",
      "247    762\n",
      "248    238\n",
      "Name: count, dtype: int64\n",
      "\n",
      "Massimo: 248\n",
      "Minimo: 247\n",
      "Media: 247.238\n",
      "Varianza: 0.1815375375375376\n"
     ]
    }
   ],
   "source": [
    "# Cifratura\n",
    "data = a128_ref[\"8B-E\"]\n",
    "\n",
    "print_data(data)"
   ]
  },
  {
   "cell_type": "code",
   "execution_count": 62,
   "metadata": {},
   "outputs": [
    {
     "name": "stdout",
     "output_type": "stream",
     "text": [
      "8B-D\n",
      "504    519\n",
      "503    481\n",
      "Name: count, dtype: int64\n",
      "\n",
      "Massimo: 504\n",
      "Minimo: 503\n",
      "Media: 503.519\n",
      "Varianza: 0.2498888888888889\n"
     ]
    }
   ],
   "source": [
    "# Decifratura\n",
    "data = a128_ref[\"8B-D\"]\n",
    "\n",
    "print_data(data)"
   ]
  },
  {
   "attachments": {},
   "cell_type": "markdown",
   "metadata": {},
   "source": [
    "#### PT 16 byte"
   ]
  },
  {
   "cell_type": "code",
   "execution_count": 63,
   "metadata": {},
   "outputs": [
    {
     "name": "stdout",
     "output_type": "stream",
     "text": [
      "16B-E\n",
      "318    637\n",
      "319    362\n",
      "320      1\n",
      "Name: count, dtype: int64\n",
      "\n",
      "Massimo: 320\n",
      "Minimo: 318\n",
      "Media: 318.364\n",
      "Varianza: 0.2337377377377377\n"
     ]
    }
   ],
   "source": [
    "# Cifratura\n",
    "data = a128_ref[\"16B-E\"]\n",
    "\n",
    "print_data(data)"
   ]
  },
  {
   "cell_type": "code",
   "execution_count": 64,
   "metadata": {},
   "outputs": [
    {
     "name": "stdout",
     "output_type": "stream",
     "text": [
      "16B-D\n",
      "647    681\n",
      "646    319\n",
      "Name: count, dtype: int64\n",
      "\n",
      "Massimo: 647\n",
      "Minimo: 646\n",
      "Media: 646.681\n",
      "Varianza: 0.21745645645645642\n"
     ]
    }
   ],
   "source": [
    "# Decifratura\n",
    "data = a128_ref[\"16B-D\"]\n",
    "\n",
    "print_data(data)"
   ]
  },
  {
   "attachments": {},
   "cell_type": "markdown",
   "metadata": {},
   "source": [
    "#### PT 24 byte"
   ]
  },
  {
   "cell_type": "code",
   "execution_count": 65,
   "metadata": {},
   "outputs": [
    {
     "name": "stdout",
     "output_type": "stream",
     "text": [
      "24B-E\n",
      "389    557\n",
      "390    401\n",
      "391     42\n",
      "Name: count, dtype: int64\n",
      "\n",
      "Massimo: 391\n",
      "Minimo: 389\n",
      "Media: 389.485\n",
      "Varianza: 0.33410910910910896\n"
     ]
    }
   ],
   "source": [
    "# Cifratura\n",
    "data = a128_ref[\"24B-E\"]\n",
    "\n",
    "print_data(data)"
   ]
  },
  {
   "cell_type": "code",
   "execution_count": 66,
   "metadata": {},
   "outputs": [
    {
     "name": "stdout",
     "output_type": "stream",
     "text": [
      "24B-D\n",
      "790    678\n",
      "788    200\n",
      "789    121\n",
      "791      1\n",
      "Name: count, dtype: int64\n",
      "\n",
      "Massimo: 791\n",
      "Minimo: 788\n",
      "Media: 789.48\n",
      "Varianza: 0.652252252252252\n"
     ]
    }
   ],
   "source": [
    "# Decifratura\n",
    "data = a128_ref[\"24B-D\"]\n",
    "\n",
    "print_data(data)"
   ]
  },
  {
   "attachments": {},
   "cell_type": "markdown",
   "metadata": {},
   "source": [
    "#### PT 32 byte"
   ]
  },
  {
   "cell_type": "code",
   "execution_count": 67,
   "metadata": {},
   "outputs": [
    {
     "name": "stdout",
     "output_type": "stream",
     "text": [
      "32B-E\n",
      "460    521\n",
      "461    437\n",
      "462     41\n",
      "463      1\n",
      "Name: count, dtype: int64\n",
      "\n",
      "Massimo: 463\n",
      "Minimo: 460\n",
      "Media: 460.522\n",
      "Varianza: 0.3378538538538538\n"
     ]
    }
   ],
   "source": [
    "# Cifratura\n",
    "data = a128_ref[\"32B-E\"]\n",
    "\n",
    "print_data(data)"
   ]
  },
  {
   "cell_type": "code",
   "execution_count": 68,
   "metadata": {},
   "outputs": [
    {
     "name": "stdout",
     "output_type": "stream",
     "text": [
      "32B-D\n",
      "932    958\n",
      "931     40\n",
      "933      1\n",
      "934      1\n",
      "Name: count, dtype: int64\n",
      "\n",
      "Massimo: 934\n",
      "Minimo: 931\n",
      "Media: 931.963\n",
      "Varianza: 0.04367467467467465\n"
     ]
    }
   ],
   "source": [
    "# Decifratura\n",
    "data = a128_ref[\"32B-D\"]\n",
    "\n",
    "print_data(data)"
   ]
  }
 ],
 "metadata": {
  "kernelspec": {
   "display_name": "Python 3",
   "language": "python",
   "name": "python3"
  },
  "language_info": {
   "codemirror_mode": {
    "name": "ipython",
    "version": 3
   },
   "file_extension": ".py",
   "mimetype": "text/x-python",
   "name": "python",
   "nbconvert_exporter": "python",
   "pygments_lexer": "ipython3",
   "version": "3.11.2"
  },
  "orig_nbformat": 4
 },
 "nbformat": 4,
 "nbformat_minor": 2
}
