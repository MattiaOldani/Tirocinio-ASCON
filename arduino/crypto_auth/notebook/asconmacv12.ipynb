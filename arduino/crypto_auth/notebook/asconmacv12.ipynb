{
 "cells": [
  {
   "attachments": {},
   "cell_type": "markdown",
   "metadata": {},
   "source": [
    "# Analisi dei dati raccolti"
   ]
  },
  {
   "attachments": {},
   "cell_type": "markdown",
   "metadata": {},
   "source": [
    "## Setup"
   ]
  },
  {
   "cell_type": "code",
   "execution_count": 1,
   "metadata": {},
   "outputs": [],
   "source": [
    "import pandas as pd"
   ]
  },
  {
   "cell_type": "code",
   "execution_count": 2,
   "metadata": {},
   "outputs": [],
   "source": [
    "def print_data(series: pd.Series) -> None:\n",
    "    print(series.value_counts())\n",
    "    print()\n",
    "    print(f\"Massimo: {series.max()}\\nMinimo: {series.min()}\\nMedia: {series.mean()}\\nVarianza: {series.var()}\")"
   ]
  },
  {
   "attachments": {},
   "cell_type": "markdown",
   "metadata": {},
   "source": [
    "## Asconmacv12"
   ]
  },
  {
   "cell_type": "code",
   "execution_count": 3,
   "metadata": {},
   "outputs": [],
   "source": [
    "path = \"../asconmacv12/data/{}.csv\""
   ]
  },
  {
   "attachments": {},
   "cell_type": "markdown",
   "metadata": {},
   "source": [
    "### Armv7m"
   ]
  },
  {
   "cell_type": "code",
   "execution_count": 4,
   "metadata": {},
   "outputs": [],
   "source": [
    "with open(path.format(\"armv7m\"), \"r\") as f:\n",
    "    amac_armv7m = pd.read_csv(f, delimiter=\";\")"
   ]
  },
  {
   "attachments": {},
   "cell_type": "markdown",
   "metadata": {},
   "source": [
    "#### PT vuoto"
   ]
  },
  {
   "cell_type": "code",
   "execution_count": 5,
   "metadata": {},
   "outputs": [
    {
     "name": "stdout",
     "output_type": "stream",
     "text": [
      "0B-A\n",
      "45    958\n",
      "46     40\n",
      "44      2\n",
      "Name: count, dtype: int64\n",
      "\n",
      "Massimo: 46\n",
      "Minimo: 44\n",
      "Media: 45.038\n",
      "Varianza: 0.04059659659659661\n"
     ]
    }
   ],
   "source": [
    "# Generazione tag\n",
    "data = amac_armv7m[\"0B-A\"]\n",
    "\n",
    "print_data(data)"
   ]
  },
  {
   "cell_type": "code",
   "execution_count": 6,
   "metadata": {},
   "outputs": [
    {
     "name": "stdout",
     "output_type": "stream",
     "text": [
      "0B-V\n",
      "93    918\n",
      "94     81\n",
      "95      1\n",
      "Name: count, dtype: int64\n",
      "\n",
      "Massimo: 95\n",
      "Minimo: 93\n",
      "Media: 93.083\n",
      "Varianza: 0.07818918918918917\n"
     ]
    }
   ],
   "source": [
    "# Verifica tag\n",
    "data = amac_armv7m[\"0B-V\"]\n",
    "\n",
    "print_data(data)"
   ]
  },
  {
   "attachments": {},
   "cell_type": "markdown",
   "metadata": {},
   "source": [
    "#### PT 8 byte"
   ]
  },
  {
   "cell_type": "code",
   "execution_count": 7,
   "metadata": {},
   "outputs": [
    {
     "name": "stdout",
     "output_type": "stream",
     "text": [
      "8B-A\n",
      "45    960\n",
      "46     40\n",
      "Name: count, dtype: int64\n",
      "\n",
      "Massimo: 46\n",
      "Minimo: 45\n",
      "Media: 45.04\n",
      "Varianza: 0.038438438438438444\n"
     ]
    }
   ],
   "source": [
    "# Generazione tag\n",
    "data = amac_armv7m[\"8B-A\"]\n",
    "\n",
    "print_data(data)"
   ]
  },
  {
   "cell_type": "code",
   "execution_count": 8,
   "metadata": {},
   "outputs": [
    {
     "name": "stdout",
     "output_type": "stream",
     "text": [
      "8B-V\n",
      "94    918\n",
      "95     82\n",
      "Name: count, dtype: int64\n",
      "\n",
      "Massimo: 95\n",
      "Minimo: 94\n",
      "Media: 94.082\n",
      "Varianza: 0.07535135135135136\n"
     ]
    }
   ],
   "source": [
    "# Verifica tag\n",
    "data = amac_armv7m[\"8B-V\"]\n",
    "\n",
    "print_data(data)"
   ]
  },
  {
   "attachments": {},
   "cell_type": "markdown",
   "metadata": {},
   "source": [
    "#### PT 16 byte"
   ]
  },
  {
   "cell_type": "code",
   "execution_count": 9,
   "metadata": {},
   "outputs": [
    {
     "name": "stdout",
     "output_type": "stream",
     "text": [
      "16B-A\n",
      "46    959\n",
      "47     40\n",
      "45      1\n",
      "Name: count, dtype: int64\n",
      "\n",
      "Massimo: 47\n",
      "Minimo: 45\n",
      "Media: 46.039\n",
      "Varianza: 0.03951851851851851\n"
     ]
    }
   ],
   "source": [
    "# Generazione tag\n",
    "data = amac_armv7m[\"16B-A\"]\n",
    "\n",
    "print_data(data)"
   ]
  },
  {
   "cell_type": "code",
   "execution_count": 10,
   "metadata": {},
   "outputs": [
    {
     "name": "stdout",
     "output_type": "stream",
     "text": [
      "16B-V\n",
      "95    918\n",
      "97     80\n",
      "96      2\n",
      "Name: count, dtype: int64\n",
      "\n",
      "Massimo: 97\n",
      "Minimo: 95\n",
      "Media: 95.162\n",
      "Varianza: 0.29605205205205204\n"
     ]
    }
   ],
   "source": [
    "# Verifica tag\n",
    "data = amac_armv7m[\"16B-V\"]\n",
    "\n",
    "print_data(data)"
   ]
  },
  {
   "attachments": {},
   "cell_type": "markdown",
   "metadata": {},
   "source": [
    "#### PT 32 byte"
   ]
  },
  {
   "cell_type": "code",
   "execution_count": 11,
   "metadata": {},
   "outputs": [
    {
     "name": "stdout",
     "output_type": "stream",
     "text": [
      "32B-A\n",
      "66    919\n",
      "67     81\n",
      "Name: count, dtype: int64\n",
      "\n",
      "Massimo: 67\n",
      "Minimo: 66\n",
      "Media: 66.081\n",
      "Varianza: 0.07451351351351351\n"
     ]
    }
   ],
   "source": [
    "# Generazione tag\n",
    "data = amac_armv7m[\"32B-A\"]\n",
    "\n",
    "print_data(data)"
   ]
  },
  {
   "cell_type": "code",
   "execution_count": 12,
   "metadata": {},
   "outputs": [
    {
     "name": "stdout",
     "output_type": "stream",
     "text": [
      "32B-V\n",
      "136    879\n",
      "138    120\n",
      "137      1\n",
      "Name: count, dtype: int64\n",
      "\n",
      "Massimo: 138\n",
      "Minimo: 136\n",
      "Media: 136.241\n",
      "Varianza: 0.4233423423423423\n"
     ]
    }
   ],
   "source": [
    "# Verifica tag\n",
    "data = amac_armv7m[\"32B-V\"]\n",
    "\n",
    "print_data(data)"
   ]
  },
  {
   "attachments": {},
   "cell_type": "markdown",
   "metadata": {},
   "source": [
    "#### PT 64 byte"
   ]
  },
  {
   "cell_type": "code",
   "execution_count": 13,
   "metadata": {},
   "outputs": [
    {
     "name": "stdout",
     "output_type": "stream",
     "text": [
      "64B-A\n",
      "88    920\n",
      "89     80\n",
      "Name: count, dtype: int64\n",
      "\n",
      "Massimo: 89\n",
      "Minimo: 88\n",
      "Media: 88.08\n",
      "Varianza: 0.0736736736736737\n"
     ]
    }
   ],
   "source": [
    "# Generazione tag\n",
    "data = amac_armv7m[\"64B-A\"]\n",
    "\n",
    "print_data(data)"
   ]
  },
  {
   "cell_type": "code",
   "execution_count": 14,
   "metadata": {},
   "outputs": [
    {
     "name": "stdout",
     "output_type": "stream",
     "text": [
      "64B-V\n",
      "180    798\n",
      "181    202\n",
      "Name: count, dtype: int64\n",
      "\n",
      "Massimo: 181\n",
      "Minimo: 180\n",
      "Media: 180.202\n",
      "Varianza: 0.16135735735735732\n"
     ]
    }
   ],
   "source": [
    "# Verifica tag\n",
    "data = amac_armv7m[\"64B-V\"]\n",
    "\n",
    "print_data(data)"
   ]
  },
  {
   "attachments": {},
   "cell_type": "markdown",
   "metadata": {},
   "source": [
    "#### PT 128 byte"
   ]
  },
  {
   "cell_type": "code",
   "execution_count": 15,
   "metadata": {},
   "outputs": [
    {
     "name": "stdout",
     "output_type": "stream",
     "text": [
      "128B-A\n",
      "131    879\n",
      "132    121\n",
      "Name: count, dtype: int64\n",
      "\n",
      "Massimo: 132\n",
      "Minimo: 131\n",
      "Media: 131.121\n",
      "Varianza: 0.10646546546546548\n"
     ]
    }
   ],
   "source": [
    "# Generazione tag\n",
    "data = amac_armv7m[\"128B-A\"]\n",
    "\n",
    "print_data(data)"
   ]
  },
  {
   "cell_type": "code",
   "execution_count": 16,
   "metadata": {},
   "outputs": [
    {
     "name": "stdout",
     "output_type": "stream",
     "text": [
      "128B-V\n",
      "266    718\n",
      "268    280\n",
      "267      2\n",
      "Name: count, dtype: int64\n",
      "\n",
      "Massimo: 268\n",
      "Minimo: 266\n",
      "Media: 266.562\n",
      "Varianza: 0.8069629629629628\n"
     ]
    }
   ],
   "source": [
    "# Verifica tag\n",
    "data = amac_armv7m[\"128B-V\"]\n",
    "\n",
    "print_data(data)"
   ]
  },
  {
   "attachments": {},
   "cell_type": "markdown",
   "metadata": {},
   "source": [
    "#### PT 256 byte"
   ]
  },
  {
   "cell_type": "code",
   "execution_count": 17,
   "metadata": {},
   "outputs": [
    {
     "name": "stdout",
     "output_type": "stream",
     "text": [
      "256B-A\n",
      "218    799\n",
      "219    201\n",
      "Name: count, dtype: int64\n",
      "\n",
      "Massimo: 219\n",
      "Minimo: 218\n",
      "Media: 218.201\n",
      "Varianza: 0.16075975975975976\n"
     ]
    }
   ],
   "source": [
    "# Generazione tag\n",
    "data = amac_armv7m[\"256B-A\"]\n",
    "\n",
    "print_data(data)"
   ]
  },
  {
   "cell_type": "code",
   "execution_count": 18,
   "metadata": {},
   "outputs": [
    {
     "name": "stdout",
     "output_type": "stream",
     "text": [
      "256B-V\n",
      "440    560\n",
      "441    440\n",
      "Name: count, dtype: int64\n",
      "\n",
      "Massimo: 441\n",
      "Minimo: 440\n",
      "Media: 440.44\n",
      "Varianza: 0.24664664664664673\n"
     ]
    }
   ],
   "source": [
    "# Verifica tag\n",
    "data = amac_armv7m[\"256B-V\"]\n",
    "\n",
    "print_data(data)"
   ]
  },
  {
   "attachments": {},
   "cell_type": "markdown",
   "metadata": {},
   "source": [
    "#### PT 512 byte"
   ]
  },
  {
   "cell_type": "code",
   "execution_count": 19,
   "metadata": {},
   "outputs": [
    {
     "name": "stdout",
     "output_type": "stream",
     "text": [
      "512B-A\n",
      "391    599\n",
      "392    400\n",
      "393      1\n",
      "Name: count, dtype: int64\n",
      "\n",
      "Massimo: 393\n",
      "Minimo: 391\n",
      "Media: 391.402\n",
      "Varianza: 0.24263863863863866\n"
     ]
    }
   ],
   "source": [
    "# Generazione tag\n",
    "data = amac_armv7m[\"512B-A\"]\n",
    "\n",
    "print_data(data)"
   ]
  },
  {
   "cell_type": "code",
   "execution_count": 20,
   "metadata": {},
   "outputs": [
    {
     "name": "stdout",
     "output_type": "stream",
     "text": [
      "512B-V\n",
      "788    798\n",
      "786    200\n",
      "789      1\n",
      "787      1\n",
      "Name: count, dtype: int64\n",
      "\n",
      "Massimo: 789\n",
      "Minimo: 786\n",
      "Media: 787.6\n",
      "Varianza: 0.6426426426426427\n"
     ]
    }
   ],
   "source": [
    "# Verifica tag\n",
    "data = amac_armv7m[\"512B-V\"]\n",
    "\n",
    "print_data(data)"
   ]
  },
  {
   "attachments": {},
   "cell_type": "markdown",
   "metadata": {},
   "source": [
    "#### PT 1024 byte"
   ]
  },
  {
   "cell_type": "code",
   "execution_count": 21,
   "metadata": {},
   "outputs": [
    {
     "name": "stdout",
     "output_type": "stream",
     "text": [
      "1024B-A\n",
      "739    718\n",
      "738    281\n",
      "740      1\n",
      "Name: count, dtype: int64\n",
      "\n",
      "Massimo: 740\n",
      "Minimo: 738\n",
      "Media: 738.72\n",
      "Varianza: 0.2038038038038038\n"
     ]
    }
   ],
   "source": [
    "# Generazione tag\n",
    "data = amac_armv7m[\"1024B-A\"]\n",
    "\n",
    "print_data(data)"
   ]
  },
  {
   "cell_type": "code",
   "execution_count": 22,
   "metadata": {},
   "outputs": [
    {
     "name": "stdout",
     "output_type": "stream",
     "text": [
      "1024B-V\n",
      "1482    519\n",
      "1483    400\n",
      "1484     80\n",
      "1485      1\n",
      "Name: count, dtype: int64\n",
      "\n",
      "Massimo: 1485\n",
      "Minimo: 1482\n",
      "Media: 1482.563\n",
      "Varianza: 0.4124434434434435\n"
     ]
    }
   ],
   "source": [
    "# Verifica tag\n",
    "data = amac_armv7m[\"1024B-V\"]\n",
    "\n",
    "print_data(data)"
   ]
  },
  {
   "attachments": {},
   "cell_type": "markdown",
   "metadata": {},
   "source": [
    "### Armv7m_small"
   ]
  },
  {
   "cell_type": "code",
   "execution_count": 23,
   "metadata": {},
   "outputs": [],
   "source": [
    "with open(path.format(\"armv7m_small\"), \"r\") as f:\n",
    "    amac_small = pd.read_csv(f, delimiter=\";\")"
   ]
  },
  {
   "cell_type": "markdown",
   "metadata": {},
   "source": [
    "#### PT vuoto"
   ]
  },
  {
   "cell_type": "code",
   "execution_count": 24,
   "metadata": {},
   "outputs": [
    {
     "name": "stdout",
     "output_type": "stream",
     "text": [
      "0B-A\n",
      "39    960\n",
      "40     40\n",
      "Name: count, dtype: int64\n",
      "\n",
      "Massimo: 40\n",
      "Minimo: 39\n",
      "Media: 39.04\n",
      "Varianza: 0.038438438438438444\n"
     ]
    }
   ],
   "source": [
    "# Generazione tag\n",
    "data = amac_small[\"0B-A\"]\n",
    "\n",
    "print_data(data)"
   ]
  },
  {
   "cell_type": "code",
   "execution_count": 25,
   "metadata": {},
   "outputs": [
    {
     "name": "stdout",
     "output_type": "stream",
     "text": [
      "0B-V\n",
      "82    920\n",
      "83     80\n",
      "Name: count, dtype: int64\n",
      "\n",
      "Massimo: 83\n",
      "Minimo: 82\n",
      "Media: 82.08\n",
      "Varianza: 0.0736736736736737\n"
     ]
    }
   ],
   "source": [
    "# Verifica tag\n",
    "data = amac_small[\"0B-V\"]\n",
    "\n",
    "print_data(data)"
   ]
  },
  {
   "attachments": {},
   "cell_type": "markdown",
   "metadata": {},
   "source": [
    "#### PT 8 byte"
   ]
  },
  {
   "cell_type": "code",
   "execution_count": 26,
   "metadata": {},
   "outputs": [
    {
     "name": "stdout",
     "output_type": "stream",
     "text": [
      "8B-A\n",
      "39    960\n",
      "40     40\n",
      "Name: count, dtype: int64\n",
      "\n",
      "Massimo: 40\n",
      "Minimo: 39\n",
      "Media: 39.04\n",
      "Varianza: 0.038438438438438444\n"
     ]
    }
   ],
   "source": [
    "# Generazione tag\n",
    "data = amac_small[\"8B-A\"]\n",
    "\n",
    "print_data(data)"
   ]
  },
  {
   "cell_type": "code",
   "execution_count": 27,
   "metadata": {},
   "outputs": [
    {
     "name": "stdout",
     "output_type": "stream",
     "text": [
      "8B-V\n",
      "83    918\n",
      "84     80\n",
      "82      2\n",
      "Name: count, dtype: int64\n",
      "\n",
      "Massimo: 84\n",
      "Minimo: 82\n",
      "Media: 83.078\n",
      "Varianza: 0.07599199199199196\n"
     ]
    }
   ],
   "source": [
    "# Verifica tag\n",
    "data = amac_small[\"8B-V\"]\n",
    "\n",
    "print_data(data)"
   ]
  },
  {
   "attachments": {},
   "cell_type": "markdown",
   "metadata": {},
   "source": [
    "#### PT 16 byte"
   ]
  },
  {
   "cell_type": "code",
   "execution_count": 28,
   "metadata": {},
   "outputs": [
    {
     "name": "stdout",
     "output_type": "stream",
     "text": [
      "16B-A\n",
      "39    800\n",
      "40    161\n",
      "41     39\n",
      "Name: count, dtype: int64\n",
      "\n",
      "Massimo: 41\n",
      "Minimo: 39\n",
      "Media: 39.239\n",
      "Varianza: 0.26013913913913916\n"
     ]
    }
   ],
   "source": [
    "# Generazione tag\n",
    "data = amac_small[\"16B-A\"]\n",
    "\n",
    "print_data(data)"
   ]
  },
  {
   "cell_type": "code",
   "execution_count": 29,
   "metadata": {},
   "outputs": [
    {
     "name": "stdout",
     "output_type": "stream",
     "text": [
      "16B-V\n",
      "84    918\n",
      "85     81\n",
      "83      1\n",
      "Name: count, dtype: int64\n",
      "\n",
      "Massimo: 85\n",
      "Minimo: 83\n",
      "Media: 84.08\n",
      "Varianza: 0.0756756756756757\n"
     ]
    }
   ],
   "source": [
    "# Verifica tag\n",
    "data = amac_small[\"16B-V\"]\n",
    "\n",
    "print_data(data)"
   ]
  },
  {
   "attachments": {},
   "cell_type": "markdown",
   "metadata": {},
   "source": [
    "#### PT 32 byte"
   ]
  },
  {
   "cell_type": "code",
   "execution_count": 30,
   "metadata": {},
   "outputs": [
    {
     "name": "stdout",
     "output_type": "stream",
     "text": [
      "32B-A\n",
      "57    960\n",
      "58     40\n",
      "Name: count, dtype: int64\n",
      "\n",
      "Massimo: 58\n",
      "Minimo: 57\n",
      "Media: 57.04\n",
      "Varianza: 0.038438438438438444\n"
     ]
    }
   ],
   "source": [
    "# Generazione tag\n",
    "data = amac_small[\"32B-A\"]\n",
    "\n",
    "print_data(data)"
   ]
  },
  {
   "cell_type": "code",
   "execution_count": 31,
   "metadata": {},
   "outputs": [
    {
     "name": "stdout",
     "output_type": "stream",
     "text": [
      "32B-V\n",
      "119    879\n",
      "120    121\n",
      "Name: count, dtype: int64\n",
      "\n",
      "Massimo: 120\n",
      "Minimo: 119\n",
      "Media: 119.121\n",
      "Varianza: 0.10646546546546544\n"
     ]
    }
   ],
   "source": [
    "# Verifica tag\n",
    "data = amac_small[\"32B-V\"]\n",
    "\n",
    "print_data(data)"
   ]
  },
  {
   "attachments": {},
   "cell_type": "markdown",
   "metadata": {},
   "source": [
    "#### PT 64 byte"
   ]
  },
  {
   "cell_type": "code",
   "execution_count": 32,
   "metadata": {},
   "outputs": [
    {
     "name": "stdout",
     "output_type": "stream",
     "text": [
      "64B-A\n",
      "75    879\n",
      "77     80\n",
      "76     41\n",
      "Name: count, dtype: int64\n",
      "\n",
      "Massimo: 77\n",
      "Minimo: 75\n",
      "Media: 75.201\n",
      "Varianza: 0.32091991991991997\n"
     ]
    }
   ],
   "source": [
    "# Generazione tag\n",
    "data = amac_small[\"64B-A\"]\n",
    "\n",
    "print_data(data)"
   ]
  },
  {
   "cell_type": "code",
   "execution_count": 33,
   "metadata": {},
   "outputs": [
    {
     "name": "stdout",
     "output_type": "stream",
     "text": [
      "64B-V\n",
      "156    838\n",
      "157    161\n",
      "155      1\n",
      "Name: count, dtype: int64\n",
      "\n",
      "Massimo: 157\n",
      "Minimo: 155\n",
      "Media: 156.16\n",
      "Varianza: 0.13653653653653658\n"
     ]
    }
   ],
   "source": [
    "# Verifica tag\n",
    "data = amac_small[\"64B-V\"]\n",
    "\n",
    "print_data(data)"
   ]
  },
  {
   "attachments": {},
   "cell_type": "markdown",
   "metadata": {},
   "source": [
    "#### PT 128 byte"
   ]
  },
  {
   "cell_type": "code",
   "execution_count": 34,
   "metadata": {},
   "outputs": [
    {
     "name": "stdout",
     "output_type": "stream",
     "text": [
      "128B-A\n",
      "112    878\n",
      "114     80\n",
      "113     42\n",
      "Name: count, dtype: int64\n",
      "\n",
      "Massimo: 114\n",
      "Minimo: 112\n",
      "Media: 112.202\n",
      "Varianza: 0.32151751751751756\n"
     ]
    }
   ],
   "source": [
    "# Generazione tag\n",
    "data = amac_small[\"128B-A\"]\n",
    "\n",
    "print_data(data)"
   ]
  },
  {
   "cell_type": "code",
   "execution_count": 35,
   "metadata": {},
   "outputs": [
    {
     "name": "stdout",
     "output_type": "stream",
     "text": [
      "128B-V\n",
      "230    758\n",
      "231    241\n",
      "229      1\n",
      "Name: count, dtype: int64\n",
      "\n",
      "Massimo: 231\n",
      "Minimo: 229\n",
      "Media: 230.24\n",
      "Varianza: 0.18458458458458454\n"
     ]
    }
   ],
   "source": [
    "# Verifica tag\n",
    "data = amac_small[\"128B-V\"]\n",
    "\n",
    "print_data(data)"
   ]
  },
  {
   "attachments": {},
   "cell_type": "markdown",
   "metadata": {},
   "source": [
    "#### PT 256 byte"
   ]
  },
  {
   "cell_type": "code",
   "execution_count": 36,
   "metadata": {},
   "outputs": [
    {
     "name": "stdout",
     "output_type": "stream",
     "text": [
      "256B-A\n",
      "186    758\n",
      "187    160\n",
      "188     82\n",
      "Name: count, dtype: int64\n",
      "\n",
      "Massimo: 188\n",
      "Minimo: 186\n",
      "Media: 186.324\n",
      "Varianza: 0.3834074074074073\n"
     ]
    }
   ],
   "source": [
    "# Generazione tag\n",
    "data = amac_small[\"256B-A\"]\n",
    "\n",
    "print_data(data)"
   ]
  },
  {
   "cell_type": "code",
   "execution_count": 37,
   "metadata": {},
   "outputs": [
    {
     "name": "stdout",
     "output_type": "stream",
     "text": [
      "256B-V\n",
      "378    641\n",
      "379    359\n",
      "Name: count, dtype: int64\n",
      "\n",
      "Massimo: 379\n",
      "Minimo: 378\n",
      "Media: 378.359\n",
      "Varianza: 0.23034934934934936\n"
     ]
    }
   ],
   "source": [
    "# Verifica tag\n",
    "data = amac_small[\"256B-V\"]\n",
    "\n",
    "print_data(data)"
   ]
  },
  {
   "attachments": {},
   "cell_type": "markdown",
   "metadata": {},
   "source": [
    "#### PT 512 byte"
   ]
  },
  {
   "cell_type": "code",
   "execution_count": 38,
   "metadata": {},
   "outputs": [
    {
     "name": "stdout",
     "output_type": "stream",
     "text": [
      "512B-A\n",
      "334    678\n",
      "335    320\n",
      "336      1\n",
      "337      1\n",
      "Name: count, dtype: int64\n",
      "\n",
      "Massimo: 337\n",
      "Minimo: 334\n",
      "Media: 334.325\n",
      "Varianza: 0.22760260260260262\n"
     ]
    }
   ],
   "source": [
    "# Generazione tag\n",
    "data = amac_small[\"512B-A\"]\n",
    "\n",
    "print_data(data)"
   ]
  },
  {
   "cell_type": "code",
   "execution_count": 39,
   "metadata": {},
   "outputs": [
    {
     "name": "stdout",
     "output_type": "stream",
     "text": [
      "512B-V\n",
      "675    679\n",
      "674    321\n",
      "Name: count, dtype: int64\n",
      "\n",
      "Massimo: 675\n",
      "Minimo: 674\n",
      "Media: 674.679\n",
      "Varianza: 0.21817717717717725\n"
     ]
    }
   ],
   "source": [
    "# Verifica tag\n",
    "data = amac_small[\"512B-V\"]\n",
    "\n",
    "print_data(data)"
   ]
  },
  {
   "attachments": {},
   "cell_type": "markdown",
   "metadata": {},
   "source": [
    "#### PT 1024 byte"
   ]
  },
  {
   "cell_type": "code",
   "execution_count": 40,
   "metadata": {},
   "outputs": [
    {
     "name": "stdout",
     "output_type": "stream",
     "text": [
      "1024B-A\n",
      "631    638\n",
      "630    360\n",
      "632      2\n",
      "Name: count, dtype: int64\n",
      "\n",
      "Massimo: 632\n",
      "Minimo: 630\n",
      "Media: 630.642\n",
      "Varianza: 0.23407007007007008\n"
     ]
    }
   ],
   "source": [
    "# Generazione tag\n",
    "data = amac_small[\"1024B-A\"]\n",
    "\n",
    "print_data(data)"
   ]
  },
  {
   "cell_type": "code",
   "execution_count": 41,
   "metadata": {},
   "outputs": [
    {
     "name": "stdout",
     "output_type": "stream",
     "text": [
      "1024B-V\n",
      "1268    719\n",
      "1269    280\n",
      "1267      1\n",
      "Name: count, dtype: int64\n",
      "\n",
      "Massimo: 1269\n",
      "Minimo: 1267\n",
      "Media: 1268.279\n",
      "Varianza: 0.2033623623623624\n"
     ]
    }
   ],
   "source": [
    "# Verifica tag\n",
    "data = amac_small[\"1024B-V\"]\n",
    "\n",
    "print_data(data)"
   ]
  },
  {
   "attachments": {},
   "cell_type": "markdown",
   "metadata": {},
   "source": [
    "### Bi32_armv7m"
   ]
  },
  {
   "cell_type": "code",
   "execution_count": 42,
   "metadata": {},
   "outputs": [],
   "source": [
    "with open(path.format(\"bi32_armv7m\"), \"r\") as f:\n",
    "    amac_bi32 = pd.read_csv(f, delimiter=\";\")"
   ]
  },
  {
   "attachments": {},
   "cell_type": "markdown",
   "metadata": {},
   "source": [
    "#### PT vuoto"
   ]
  },
  {
   "cell_type": "code",
   "execution_count": 43,
   "metadata": {},
   "outputs": [
    {
     "name": "stdout",
     "output_type": "stream",
     "text": [
      "0B-A\n",
      "37    959\n",
      "38     40\n",
      "39      1\n",
      "Name: count, dtype: int64\n",
      "\n",
      "Massimo: 39\n",
      "Minimo: 37\n",
      "Media: 37.042\n",
      "Varianza: 0.04227827827827827\n"
     ]
    }
   ],
   "source": [
    "# Generazione tag\n",
    "data = amac_bi32[\"0B-A\"]\n",
    "\n",
    "print_data(data)"
   ]
  },
  {
   "cell_type": "code",
   "execution_count": 44,
   "metadata": {},
   "outputs": [
    {
     "name": "stdout",
     "output_type": "stream",
     "text": [
      "0B-V\n",
      "78    918\n",
      "79     82\n",
      "Name: count, dtype: int64\n",
      "\n",
      "Massimo: 79\n",
      "Minimo: 78\n",
      "Media: 78.082\n",
      "Varianza: 0.07535135135135136\n"
     ]
    }
   ],
   "source": [
    "# Verifica tag\n",
    "data = amac_bi32[\"0B-V\"]\n",
    "\n",
    "print_data(data)"
   ]
  },
  {
   "attachments": {},
   "cell_type": "markdown",
   "metadata": {},
   "source": [
    "#### PT 8 byte"
   ]
  },
  {
   "cell_type": "code",
   "execution_count": 45,
   "metadata": {},
   "outputs": [
    {
     "name": "stdout",
     "output_type": "stream",
     "text": [
      "8B-A\n",
      "38    721\n",
      "39    239\n",
      "40     40\n",
      "Name: count, dtype: int64\n",
      "\n",
      "Massimo: 40\n",
      "Minimo: 38\n",
      "Media: 38.319\n",
      "Varianza: 0.2975365365365365\n"
     ]
    }
   ],
   "source": [
    "# Generazione tag\n",
    "data = amac_bi32[\"8B-A\"]\n",
    "\n",
    "print_data(data)"
   ]
  },
  {
   "cell_type": "code",
   "execution_count": 46,
   "metadata": {},
   "outputs": [
    {
     "name": "stdout",
     "output_type": "stream",
     "text": [
      "8B-V\n",
      "81    919\n",
      "82     81\n",
      "Name: count, dtype: int64\n",
      "\n",
      "Massimo: 82\n",
      "Minimo: 81\n",
      "Media: 81.081\n",
      "Varianza: 0.07451351351351351\n"
     ]
    }
   ],
   "source": [
    "# Verifica tag\n",
    "data = amac_bi32[\"8B-V\"]\n",
    "\n",
    "print_data(data)"
   ]
  },
  {
   "attachments": {},
   "cell_type": "markdown",
   "metadata": {},
   "source": [
    "#### PT 16 byte"
   ]
  },
  {
   "cell_type": "code",
   "execution_count": 47,
   "metadata": {},
   "outputs": [
    {
     "name": "stdout",
     "output_type": "stream",
     "text": [
      "16B-A\n",
      "40    960\n",
      "41     40\n",
      "Name: count, dtype: int64\n",
      "\n",
      "Massimo: 41\n",
      "Minimo: 40\n",
      "Media: 40.04\n",
      "Varianza: 0.038438438438438444\n"
     ]
    }
   ],
   "source": [
    "# Generazione tag\n",
    "data = amac_bi32[\"16B-A\"]\n",
    "\n",
    "print_data(data)"
   ]
  },
  {
   "cell_type": "code",
   "execution_count": 48,
   "metadata": {},
   "outputs": [
    {
     "name": "stdout",
     "output_type": "stream",
     "text": [
      "16B-V\n",
      "84    919\n",
      "86     80\n",
      "85      1\n",
      "Name: count, dtype: int64\n",
      "\n",
      "Massimo: 86\n",
      "Minimo: 84\n",
      "Media: 84.161\n",
      "Varianza: 0.2953743743743742\n"
     ]
    }
   ],
   "source": [
    "# Verifica tag\n",
    "data = amac_bi32[\"16B-V\"]\n",
    "\n",
    "print_data(data)"
   ]
  },
  {
   "attachments": {},
   "cell_type": "markdown",
   "metadata": {},
   "source": [
    "#### PT 32 byte"
   ]
  },
  {
   "cell_type": "code",
   "execution_count": 49,
   "metadata": {},
   "outputs": [
    {
     "name": "stdout",
     "output_type": "stream",
     "text": [
      "32B-A\n",
      "58    959\n",
      "59     41\n",
      "Name: count, dtype: int64\n",
      "\n",
      "Massimo: 59\n",
      "Minimo: 58\n",
      "Media: 58.041\n",
      "Varianza: 0.039358358358358346\n"
     ]
    }
   ],
   "source": [
    "# Generazione tag\n",
    "data = amac_bi32[\"32B-A\"]\n",
    "\n",
    "print_data(data)"
   ]
  },
  {
   "cell_type": "code",
   "execution_count": 50,
   "metadata": {},
   "outputs": [
    {
     "name": "stdout",
     "output_type": "stream",
     "text": [
      "32B-V\n",
      "120    879\n",
      "122    121\n",
      "Name: count, dtype: int64\n",
      "\n",
      "Massimo: 122\n",
      "Minimo: 120\n",
      "Media: 120.242\n",
      "Varianza: 0.42586186186186203\n"
     ]
    }
   ],
   "source": [
    "# Verifica tag\n",
    "data = amac_bi32[\"32B-V\"]\n",
    "\n",
    "print_data(data)"
   ]
  },
  {
   "attachments": {},
   "cell_type": "markdown",
   "metadata": {},
   "source": [
    "#### PT 64 byte"
   ]
  },
  {
   "cell_type": "code",
   "execution_count": 51,
   "metadata": {},
   "outputs": [
    {
     "name": "stdout",
     "output_type": "stream",
     "text": [
      "64B-A\n",
      "79    879\n",
      "80     81\n",
      "81     40\n",
      "Name: count, dtype: int64\n",
      "\n",
      "Massimo: 81\n",
      "Minimo: 79\n",
      "Media: 79.161\n",
      "Varianza: 0.21529429429429428\n"
     ]
    }
   ],
   "source": [
    "# Generazione tag\n",
    "data = amac_bi32[\"64B-A\"]\n",
    "\n",
    "print_data(data)"
   ]
  },
  {
   "cell_type": "code",
   "execution_count": 52,
   "metadata": {},
   "outputs": [
    {
     "name": "stdout",
     "output_type": "stream",
     "text": [
      "64B-V\n",
      "163    838\n",
      "164    162\n",
      "Name: count, dtype: int64\n",
      "\n",
      "Massimo: 164\n",
      "Minimo: 163\n",
      "Media: 163.162\n",
      "Varianza: 0.13589189189189185\n"
     ]
    }
   ],
   "source": [
    "# Verifica tag\n",
    "data = amac_bi32[\"64B-V\"]\n",
    "\n",
    "print_data(data)"
   ]
  },
  {
   "attachments": {},
   "cell_type": "markdown",
   "metadata": {},
   "source": [
    "#### PT 128 byte"
   ]
  },
  {
   "cell_type": "code",
   "execution_count": 53,
   "metadata": {},
   "outputs": [
    {
     "name": "stdout",
     "output_type": "stream",
     "text": [
      "128B-A\n",
      "122    879\n",
      "123    121\n",
      "Name: count, dtype: int64\n",
      "\n",
      "Massimo: 123\n",
      "Minimo: 122\n",
      "Media: 122.121\n",
      "Varianza: 0.10646546546546544\n"
     ]
    }
   ],
   "source": [
    "# Generazione tag\n",
    "data = amac_bi32[\"128B-A\"]\n",
    "\n",
    "print_data(data)"
   ]
  },
  {
   "cell_type": "code",
   "execution_count": 54,
   "metadata": {},
   "outputs": [
    {
     "name": "stdout",
     "output_type": "stream",
     "text": [
      "128B-V\n",
      "248    758\n",
      "249    242\n",
      "Name: count, dtype: int64\n",
      "\n",
      "Massimo: 249\n",
      "Minimo: 248\n",
      "Media: 248.242\n",
      "Varianza: 0.1836196196196196\n"
     ]
    }
   ],
   "source": [
    "# Verifica tag\n",
    "data = amac_bi32[\"128B-V\"]\n",
    "\n",
    "print_data(data)"
   ]
  },
  {
   "attachments": {},
   "cell_type": "markdown",
   "metadata": {},
   "source": [
    "#### PT 256 byte"
   ]
  },
  {
   "cell_type": "code",
   "execution_count": 55,
   "metadata": {},
   "outputs": [
    {
     "name": "stdout",
     "output_type": "stream",
     "text": [
      "256B-A\n",
      "207    799\n",
      "208    201\n",
      "Name: count, dtype: int64\n",
      "\n",
      "Massimo: 208\n",
      "Minimo: 207\n",
      "Media: 207.201\n",
      "Varianza: 0.16075975975975976\n"
     ]
    }
   ],
   "source": [
    "# Generazione tag\n",
    "data = amac_bi32[\"256B-A\"]\n",
    "\n",
    "print_data(data)"
   ]
  },
  {
   "cell_type": "code",
   "execution_count": 56,
   "metadata": {},
   "outputs": [
    {
     "name": "stdout",
     "output_type": "stream",
     "text": [
      "256B-V\n",
      "418    599\n",
      "419    399\n",
      "420      2\n",
      "Name: count, dtype: int64\n",
      "\n",
      "Massimo: 420\n",
      "Minimo: 418\n",
      "Media: 418.403\n",
      "Varianza: 0.2448358358358359\n"
     ]
    }
   ],
   "source": [
    "# Verifica tag\n",
    "data = amac_bi32[\"256B-V\"]\n",
    "\n",
    "print_data(data)"
   ]
  },
  {
   "attachments": {},
   "cell_type": "markdown",
   "metadata": {},
   "source": [
    "#### PT 512 byte"
   ]
  },
  {
   "cell_type": "code",
   "execution_count": 57,
   "metadata": {},
   "outputs": [
    {
     "name": "stdout",
     "output_type": "stream",
     "text": [
      "512B-A\n",
      "377    639\n",
      "378    361\n",
      "Name: count, dtype: int64\n",
      "\n",
      "Massimo: 378\n",
      "Minimo: 377\n",
      "Media: 377.361\n",
      "Varianza: 0.23090990990990995\n"
     ]
    }
   ],
   "source": [
    "# Generazione tag\n",
    "data = amac_bi32[\"512B-A\"]\n",
    "\n",
    "print_data(data)"
   ]
  },
  {
   "cell_type": "code",
   "execution_count": 58,
   "metadata": {},
   "outputs": [
    {
     "name": "stdout",
     "output_type": "stream",
     "text": [
      "512B-V\n",
      "759    759\n",
      "758    240\n",
      "761      1\n",
      "Name: count, dtype: int64\n",
      "\n",
      "Massimo: 761\n",
      "Minimo: 758\n",
      "Media: 758.762\n",
      "Varianza: 0.1875435435435436\n"
     ]
    }
   ],
   "source": [
    "# Verifica tag\n",
    "data = amac_bi32[\"512B-V\"]\n",
    "\n",
    "print_data(data)"
   ]
  },
  {
   "attachments": {},
   "cell_type": "markdown",
   "metadata": {},
   "source": [
    "#### PT 1024 byte"
   ]
  },
  {
   "cell_type": "code",
   "execution_count": 59,
   "metadata": {},
   "outputs": [
    {
     "name": "stdout",
     "output_type": "stream",
     "text": [
      "1024B-A\n",
      "718    719\n",
      "717    280\n",
      "719      1\n",
      "Name: count, dtype: int64\n",
      "\n",
      "Massimo: 719\n",
      "Minimo: 717\n",
      "Media: 717.721\n",
      "Varianza: 0.2033623623623624\n"
     ]
    }
   ],
   "source": [
    "# Generazione tag\n",
    "data = amac_bi32[\"1024B-A\"]\n",
    "\n",
    "print_data(data)"
   ]
  },
  {
   "cell_type": "code",
   "execution_count": 60,
   "metadata": {},
   "outputs": [
    {
     "name": "stdout",
     "output_type": "stream",
     "text": [
      "1024B-V\n",
      "1440    559\n",
      "1441    400\n",
      "1442     41\n",
      "Name: count, dtype: int64\n",
      "\n",
      "Massimo: 1442\n",
      "Minimo: 1440\n",
      "Media: 1440.482\n",
      "Varianza: 0.33200800800800795\n"
     ]
    }
   ],
   "source": [
    "# Verifica tag\n",
    "data = amac_bi32[\"1024B-V\"]\n",
    "\n",
    "print_data(data)"
   ]
  },
  {
   "attachments": {},
   "cell_type": "markdown",
   "metadata": {},
   "source": [
    "### Ref"
   ]
  },
  {
   "cell_type": "code",
   "execution_count": 61,
   "metadata": {},
   "outputs": [],
   "source": [
    "with open(path.format(\"ref\"), \"r\") as f:\n",
    "    amac_ref = pd.read_csv(f, delimiter=\";\")"
   ]
  },
  {
   "attachments": {},
   "cell_type": "markdown",
   "metadata": {},
   "source": [
    "#### PT vuoto"
   ]
  },
  {
   "cell_type": "code",
   "execution_count": 62,
   "metadata": {},
   "outputs": [
    {
     "name": "stdout",
     "output_type": "stream",
     "text": [
      "0B-A\n",
      "136    879\n",
      "137    120\n",
      "135      1\n",
      "Name: count, dtype: int64\n",
      "\n",
      "Massimo: 137\n",
      "Minimo: 135\n",
      "Media: 136.119\n",
      "Varianza: 0.10694594594594597\n"
     ]
    }
   ],
   "source": [
    "# Generazione tag\n",
    "data = amac_ref[\"0B-A\"]\n",
    "\n",
    "print_data(data)"
   ]
  },
  {
   "cell_type": "code",
   "execution_count": 63,
   "metadata": {},
   "outputs": [
    {
     "name": "stdout",
     "output_type": "stream",
     "text": [
      "0B-V\n",
      "275    718\n",
      "277    200\n",
      "276     81\n",
      "278      1\n",
      "Name: count, dtype: int64\n",
      "\n",
      "Massimo: 278\n",
      "Minimo: 275\n",
      "Media: 275.484\n",
      "Varianza: 0.6564004004004003\n"
     ]
    }
   ],
   "source": [
    "# Verifica tag\n",
    "data = amac_ref[\"0B-V\"]\n",
    "\n",
    "print_data(data)"
   ]
  },
  {
   "attachments": {},
   "cell_type": "markdown",
   "metadata": {},
   "source": [
    "#### PT 8 byte"
   ]
  },
  {
   "cell_type": "code",
   "execution_count": 64,
   "metadata": {},
   "outputs": [
    {
     "name": "stdout",
     "output_type": "stream",
     "text": [
      "8B-A\n",
      "142    880\n",
      "143    120\n",
      "Name: count, dtype: int64\n",
      "\n",
      "Massimo: 143\n",
      "Minimo: 142\n",
      "Media: 142.12\n",
      "Varianza: 0.1057057057057057\n"
     ]
    }
   ],
   "source": [
    "# Generazione tag\n",
    "data = amac_ref[\"8B-A\"]\n",
    "\n",
    "print_data(data)"
   ]
  },
  {
   "cell_type": "code",
   "execution_count": 65,
   "metadata": {},
   "outputs": [
    {
     "name": "stdout",
     "output_type": "stream",
     "text": [
      "8B-V\n",
      "287    721\n",
      "289    200\n",
      "288     79\n",
      "Name: count, dtype: int64\n",
      "\n",
      "Massimo: 289\n",
      "Minimo: 287\n",
      "Media: 287.479\n",
      "Varianza: 0.6502092092092092\n"
     ]
    }
   ],
   "source": [
    "# Verifica tag\n",
    "data = amac_ref[\"8B-V\"]\n",
    "\n",
    "print_data(data)"
   ]
  },
  {
   "attachments": {},
   "cell_type": "markdown",
   "metadata": {},
   "source": [
    "#### PT 16 byte"
   ]
  },
  {
   "cell_type": "code",
   "execution_count": 66,
   "metadata": {},
   "outputs": [
    {
     "name": "stdout",
     "output_type": "stream",
     "text": [
      "16B-A\n",
      "148    879\n",
      "149    121\n",
      "Name: count, dtype: int64\n",
      "\n",
      "Massimo: 149\n",
      "Minimo: 148\n",
      "Media: 148.121\n",
      "Varianza: 0.1064654654654655\n"
     ]
    }
   ],
   "source": [
    "# Generazione tag\n",
    "data = amac_ref[\"16B-A\"]\n",
    "\n",
    "print_data(data)"
   ]
  },
  {
   "cell_type": "code",
   "execution_count": 67,
   "metadata": {},
   "outputs": [
    {
     "name": "stdout",
     "output_type": "stream",
     "text": [
      "16B-V\n",
      "299    718\n",
      "301    241\n",
      "300     41\n",
      "Name: count, dtype: int64\n",
      "\n",
      "Massimo: 301\n",
      "Minimo: 299\n",
      "Media: 299.523\n",
      "Varianza: 0.732203203203203\n"
     ]
    }
   ],
   "source": [
    "# Verifica tag\n",
    "data = amac_ref[\"16B-V\"]\n",
    "\n",
    "print_data(data)"
   ]
  },
  {
   "attachments": {},
   "cell_type": "markdown",
   "metadata": {},
   "source": [
    "#### PT 32 byte"
   ]
  },
  {
   "cell_type": "code",
   "execution_count": 68,
   "metadata": {},
   "outputs": [
    {
     "name": "stdout",
     "output_type": "stream",
     "text": [
      "32B-A\n",
      "215    599\n",
      "216    201\n",
      "217    200\n",
      "Name: count, dtype: int64\n",
      "\n",
      "Massimo: 217\n",
      "Minimo: 215\n",
      "Media: 215.601\n",
      "Varianza: 0.6404394394394396\n"
     ]
    }
   ],
   "source": [
    "# Generazione tag\n",
    "data = amac_ref[\"32B-A\"]\n",
    "\n",
    "print_data(data)"
   ]
  },
  {
   "cell_type": "code",
   "execution_count": 69,
   "metadata": {},
   "outputs": [
    {
     "name": "stdout",
     "output_type": "stream",
     "text": [
      "32B-V\n",
      "435    559\n",
      "436    401\n",
      "437     40\n",
      "Name: count, dtype: int64\n",
      "\n",
      "Massimo: 437\n",
      "Minimo: 435\n",
      "Media: 435.481\n",
      "Varianza: 0.329968968968969\n"
     ]
    }
   ],
   "source": [
    "# Verifica tag\n",
    "data = amac_ref[\"32B-V\"]\n",
    "\n",
    "print_data(data)"
   ]
  },
  {
   "attachments": {},
   "cell_type": "markdown",
   "metadata": {},
   "source": [
    "#### PT 64 byte"
   ]
  },
  {
   "cell_type": "code",
   "execution_count": 70,
   "metadata": {},
   "outputs": [
    {
     "name": "stdout",
     "output_type": "stream",
     "text": [
      "64B-A\n",
      "295    721\n",
      "296    279\n",
      "Name: count, dtype: int64\n",
      "\n",
      "Massimo: 296\n",
      "Minimo: 295\n",
      "Media: 295.279\n",
      "Varianza: 0.20136036036036034\n"
     ]
    }
   ],
   "source": [
    "# Generazione tag\n",
    "data = amac_ref[\"64B-A\"]\n",
    "\n",
    "print_data(data)"
   ]
  },
  {
   "cell_type": "code",
   "execution_count": 71,
   "metadata": {},
   "outputs": [
    {
     "name": "stdout",
     "output_type": "stream",
     "text": [
      "64B-V\n",
      "596    558\n",
      "595    440\n",
      "597      2\n",
      "Name: count, dtype: int64\n",
      "\n",
      "Massimo: 597\n",
      "Minimo: 595\n",
      "Media: 595.562\n",
      "Varianza: 0.2504064064064064\n"
     ]
    }
   ],
   "source": [
    "# Verifica tag\n",
    "data = amac_ref[\"64B-V\"]\n",
    "\n",
    "print_data(data)"
   ]
  },
  {
   "attachments": {},
   "cell_type": "markdown",
   "metadata": {},
   "source": [
    "#### PT 128 byte"
   ]
  },
  {
   "cell_type": "code",
   "execution_count": 72,
   "metadata": {},
   "outputs": [
    {
     "name": "stdout",
     "output_type": "stream",
     "text": [
      "128B-A\n",
      "455    558\n",
      "456    442\n",
      "Name: count, dtype: int64\n",
      "\n",
      "Massimo: 456\n",
      "Minimo: 455\n",
      "Media: 455.442\n",
      "Varianza: 0.24688288288288282\n"
     ]
    }
   ],
   "source": [
    "# Generazione tag\n",
    "data = amac_ref[\"128B-A\"]\n",
    "\n",
    "print_data(data)"
   ]
  },
  {
   "cell_type": "code",
   "execution_count": 73,
   "metadata": {},
   "outputs": [
    {
     "name": "stdout",
     "output_type": "stream",
     "text": [
      "128B-V\n",
      "915    878\n",
      "914    120\n",
      "917      2\n",
      "Name: count, dtype: int64\n",
      "\n",
      "Massimo: 917\n",
      "Minimo: 914\n",
      "Media: 914.884\n",
      "Varianza: 0.11465865865865865\n"
     ]
    }
   ],
   "source": [
    "# Verifica tag\n",
    "data = amac_ref[\"128B-V\"]\n",
    "\n",
    "print_data(data)"
   ]
  },
  {
   "attachments": {},
   "cell_type": "markdown",
   "metadata": {},
   "source": [
    "#### PT 256 byte"
   ]
  },
  {
   "cell_type": "code",
   "execution_count": 74,
   "metadata": {},
   "outputs": [
    {
     "name": "stdout",
     "output_type": "stream",
     "text": [
      "256B-A\n",
      "775    719\n",
      "774    240\n",
      "776     41\n",
      "Name: count, dtype: int64\n",
      "\n",
      "Massimo: 776\n",
      "Minimo: 774\n",
      "Media: 774.801\n",
      "Varianza: 0.2416406406406407\n"
     ]
    }
   ],
   "source": [
    "# Generazione tag\n",
    "data = amac_ref[\"256B-A\"]\n",
    "\n",
    "print_data(data)"
   ]
  },
  {
   "cell_type": "code",
   "execution_count": 75,
   "metadata": {},
   "outputs": [
    {
     "name": "stdout",
     "output_type": "stream",
     "text": [
      "256B-V\n",
      "1556    520\n",
      "1555    440\n",
      "1557     40\n",
      "Name: count, dtype: int64\n",
      "\n",
      "Massimo: 1557\n",
      "Minimo: 1555\n",
      "Media: 1555.6\n",
      "Varianza: 0.32032032032032043\n"
     ]
    }
   ],
   "source": [
    "# Verifica tag\n",
    "data = amac_ref[\"256B-V\"]\n",
    "\n",
    "print_data(data)"
   ]
  },
  {
   "attachments": {},
   "cell_type": "markdown",
   "metadata": {},
   "source": [
    "#### PT 512 byte"
   ]
  },
  {
   "cell_type": "code",
   "execution_count": 76,
   "metadata": {},
   "outputs": [
    {
     "name": "stdout",
     "output_type": "stream",
     "text": [
      "512B-A\n",
      "1415    599\n",
      "1416    319\n",
      "1417     82\n",
      "Name: count, dtype: int64\n",
      "\n",
      "Massimo: 1417\n",
      "Minimo: 1415\n",
      "Media: 1415.483\n",
      "Varianza: 0.4141251251251252\n"
     ]
    }
   ],
   "source": [
    "# Generazione tag\n",
    "data = amac_ref[\"512B-A\"]\n",
    "\n",
    "print_data(data)"
   ]
  },
  {
   "cell_type": "code",
   "execution_count": 77,
   "metadata": {},
   "outputs": [
    {
     "name": "stdout",
     "output_type": "stream",
     "text": [
      "512B-V\n",
      "2836    798\n",
      "2835    201\n",
      "2838      1\n",
      "Name: count, dtype: int64\n",
      "\n",
      "Massimo: 2838\n",
      "Minimo: 2835\n",
      "Media: 2835.801\n",
      "Varianza: 0.1655645645645645\n"
     ]
    }
   ],
   "source": [
    "# Verifica tag\n",
    "data = amac_ref[\"512B-V\"]\n",
    "\n",
    "print_data(data)"
   ]
  },
  {
   "attachments": {},
   "cell_type": "markdown",
   "metadata": {},
   "source": [
    "#### PT 1024 byte"
   ]
  },
  {
   "cell_type": "code",
   "execution_count": 78,
   "metadata": {},
   "outputs": [
    {
     "name": "stdout",
     "output_type": "stream",
     "text": [
      "1024B-A\n",
      "2696    679\n",
      "2695    320\n",
      "2698      1\n",
      "Name: count, dtype: int64\n",
      "\n",
      "Massimo: 2698\n",
      "Minimo: 2695\n",
      "Media: 2695.682\n",
      "Varianza: 0.22309909909909909\n"
     ]
    }
   ],
   "source": [
    "# Generazione tag\n",
    "data = amac_ref[\"1024B-A\"]\n",
    "\n",
    "print_data(data)"
   ]
  },
  {
   "cell_type": "code",
   "execution_count": 79,
   "metadata": {},
   "outputs": [
    {
     "name": "stdout",
     "output_type": "stream",
     "text": [
      "1024B-V\n",
      "5397    439\n",
      "5396    280\n",
      "5398    280\n",
      "5399      1\n",
      "Name: count, dtype: int64\n",
      "\n",
      "Massimo: 5399\n",
      "Minimo: 5396\n",
      "Media: 5397.002\n",
      "Varianza: 0.5645605605605606\n"
     ]
    }
   ],
   "source": [
    "# Verifica tag\n",
    "data = amac_ref[\"1024B-V\"]\n",
    "\n",
    "print_data(data)"
   ]
  }
 ],
 "metadata": {
  "kernelspec": {
   "display_name": "Python 3",
   "language": "python",
   "name": "python3"
  },
  "language_info": {
   "codemirror_mode": {
    "name": "ipython",
    "version": 3
   },
   "file_extension": ".py",
   "mimetype": "text/x-python",
   "name": "python",
   "nbconvert_exporter": "python",
   "pygments_lexer": "ipython3",
   "version": "3.11.2"
  },
  "orig_nbformat": 4
 },
 "nbformat": 4,
 "nbformat_minor": 2
}
