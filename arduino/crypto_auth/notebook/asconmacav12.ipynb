{
 "cells": [
  {
   "attachments": {},
   "cell_type": "markdown",
   "metadata": {},
   "source": [
    "# Analisi dei dati raccolti"
   ]
  },
  {
   "attachments": {},
   "cell_type": "markdown",
   "metadata": {},
   "source": [
    "## Setup"
   ]
  },
  {
   "cell_type": "code",
   "execution_count": 1,
   "metadata": {},
   "outputs": [],
   "source": [
    "import pandas as pd"
   ]
  },
  {
   "cell_type": "code",
   "execution_count": 2,
   "metadata": {},
   "outputs": [],
   "source": [
    "def print_data(series: pd.Series) -> None:\n",
    "    print(series.value_counts())\n",
    "    print()\n",
    "    print(f\"Massimo: {series.max()}\\nMinimo: {series.min()}\\nMedia: {series.mean()}\\nVarianza: {series.var()}\")"
   ]
  },
  {
   "attachments": {},
   "cell_type": "markdown",
   "metadata": {},
   "source": [
    "## Asconmacav12"
   ]
  },
  {
   "cell_type": "code",
   "execution_count": 3,
   "metadata": {},
   "outputs": [],
   "source": [
    "path = \"../asconmacav12/data/{}.csv\""
   ]
  },
  {
   "attachments": {},
   "cell_type": "markdown",
   "metadata": {},
   "source": [
    "### Armv7m"
   ]
  },
  {
   "cell_type": "code",
   "execution_count": 4,
   "metadata": {},
   "outputs": [],
   "source": [
    "with open(path.format(\"armv7m\"), \"r\") as f:\n",
    "    amaca_armv7m = pd.read_csv(f, delimiter=\";\")"
   ]
  },
  {
   "attachments": {},
   "cell_type": "markdown",
   "metadata": {},
   "source": [
    "#### PT vuoto"
   ]
  },
  {
   "cell_type": "code",
   "execution_count": 5,
   "metadata": {},
   "outputs": [
    {
     "name": "stdout",
     "output_type": "stream",
     "text": [
      "0B-A\n",
      "44    955\n",
      "45     45\n",
      "Name: count, dtype: int64\n",
      "\n",
      "Massimo: 45\n",
      "Minimo: 44\n",
      "Media: 44.045\n",
      "Varianza: 0.04301801801801802\n"
     ]
    }
   ],
   "source": [
    "# Generazione tag\n",
    "data = amaca_armv7m[\"0B-A\"]\n",
    "\n",
    "print_data(data)"
   ]
  },
  {
   "cell_type": "code",
   "execution_count": 6,
   "metadata": {},
   "outputs": [
    {
     "name": "stdout",
     "output_type": "stream",
     "text": [
      "0B-V\n",
      "94    909\n",
      "96     88\n",
      "95      3\n",
      "Name: count, dtype: int64\n",
      "\n",
      "Massimo: 96\n",
      "Minimo: 94\n",
      "Media: 94.179\n",
      "Varianza: 0.32328228228228234\n"
     ]
    }
   ],
   "source": [
    "# Verifica tag\n",
    "data = amaca_armv7m[\"0B-V\"]\n",
    "\n",
    "print_data(data)"
   ]
  },
  {
   "attachments": {},
   "cell_type": "markdown",
   "metadata": {},
   "source": [
    "#### PT 8 byte"
   ]
  },
  {
   "cell_type": "code",
   "execution_count": 7,
   "metadata": {},
   "outputs": [
    {
     "name": "stdout",
     "output_type": "stream",
     "text": [
      "8B-A\n",
      "45    957\n",
      "46     43\n",
      "Name: count, dtype: int64\n",
      "\n",
      "Massimo: 46\n",
      "Minimo: 45\n",
      "Media: 45.043\n",
      "Varianza: 0.04119219219219221\n"
     ]
    }
   ],
   "source": [
    "# Generazione tag\n",
    "data = amaca_armv7m[\"8B-A\"]\n",
    "\n",
    "print_data(data)"
   ]
  },
  {
   "cell_type": "code",
   "execution_count": 8,
   "metadata": {},
   "outputs": [
    {
     "name": "stdout",
     "output_type": "stream",
     "text": [
      "8B-V\n",
      "95    954\n",
      "97     44\n",
      "96      2\n",
      "Name: count, dtype: int64\n",
      "\n",
      "Massimo: 97\n",
      "Minimo: 95\n",
      "Media: 95.09\n",
      "Varianza: 0.17007007007007008\n"
     ]
    }
   ],
   "source": [
    "# Verifica tag\n",
    "data = amaca_armv7m[\"8B-V\"]\n",
    "\n",
    "print_data(data)"
   ]
  },
  {
   "attachments": {},
   "cell_type": "markdown",
   "metadata": {},
   "source": [
    "#### PT 16 byte"
   ]
  },
  {
   "cell_type": "code",
   "execution_count": 9,
   "metadata": {},
   "outputs": [
    {
     "name": "stdout",
     "output_type": "stream",
     "text": [
      "16B-A\n",
      "45    955\n",
      "46     45\n",
      "Name: count, dtype: int64\n",
      "\n",
      "Massimo: 46\n",
      "Minimo: 45\n",
      "Media: 45.045\n",
      "Varianza: 0.04301801801801803\n"
     ]
    }
   ],
   "source": [
    "# Generazione tag\n",
    "data = amaca_armv7m[\"16B-A\"]\n",
    "\n",
    "print_data(data)"
   ]
  },
  {
   "cell_type": "code",
   "execution_count": 10,
   "metadata": {},
   "outputs": [
    {
     "name": "stdout",
     "output_type": "stream",
     "text": [
      "16B-V\n",
      "96    909\n",
      "98     89\n",
      "97      2\n",
      "Name: count, dtype: int64\n",
      "\n",
      "Massimo: 98\n",
      "Minimo: 96\n",
      "Media: 96.18\n",
      "Varianza: 0.325925925925926\n"
     ]
    }
   ],
   "source": [
    "# Verifica tag\n",
    "data = amaca_armv7m[\"16B-V\"]\n",
    "\n",
    "print_data(data)"
   ]
  },
  {
   "attachments": {},
   "cell_type": "markdown",
   "metadata": {},
   "source": [
    "#### PT 32 byte"
   ]
  },
  {
   "cell_type": "code",
   "execution_count": 11,
   "metadata": {},
   "outputs": [
    {
     "name": "stdout",
     "output_type": "stream",
     "text": [
      "32B-A\n",
      "46    956\n",
      "47     43\n",
      "48      1\n",
      "Name: count, dtype: int64\n",
      "\n",
      "Massimo: 48\n",
      "Minimo: 46\n",
      "Media: 46.045\n",
      "Varianza: 0.04502002002002002\n"
     ]
    }
   ],
   "source": [
    "# Generazione tag\n",
    "data = amaca_armv7m[\"32B-A\"]\n",
    "\n",
    "print_data(data)"
   ]
  },
  {
   "cell_type": "code",
   "execution_count": 12,
   "metadata": {},
   "outputs": [
    {
     "name": "stdout",
     "output_type": "stream",
     "text": [
      "32B-V\n",
      "98     956\n",
      "100     43\n",
      "99       1\n",
      "Name: count, dtype: int64\n",
      "\n",
      "Massimo: 100\n",
      "Minimo: 98\n",
      "Media: 98.087\n",
      "Varianza: 0.16559659659659662\n"
     ]
    }
   ],
   "source": [
    "# Verifica tag\n",
    "data = amaca_armv7m[\"32B-V\"]\n",
    "\n",
    "print_data(data)"
   ]
  },
  {
   "attachments": {},
   "cell_type": "markdown",
   "metadata": {},
   "source": [
    "#### PT 64 byte"
   ]
  },
  {
   "cell_type": "code",
   "execution_count": 13,
   "metadata": {},
   "outputs": [
    {
     "name": "stdout",
     "output_type": "stream",
     "text": [
      "64B-A\n",
      "62    957\n",
      "63     43\n",
      "Name: count, dtype: int64\n",
      "\n",
      "Massimo: 63\n",
      "Minimo: 62\n",
      "Media: 62.043\n",
      "Varianza: 0.041192192192192216\n"
     ]
    }
   ],
   "source": [
    "# Generazione tag\n",
    "data = amaca_armv7m[\"64B-A\"]\n",
    "\n",
    "print_data(data)"
   ]
  },
  {
   "cell_type": "code",
   "execution_count": 14,
   "metadata": {},
   "outputs": [
    {
     "name": "stdout",
     "output_type": "stream",
     "text": [
      "64B-V\n",
      "130    867\n",
      "131    132\n",
      "132      1\n",
      "Name: count, dtype: int64\n",
      "\n",
      "Massimo: 132\n",
      "Minimo: 130\n",
      "Media: 130.134\n",
      "Varianza: 0.11816216216216219\n"
     ]
    }
   ],
   "source": [
    "# Verifica tag\n",
    "data = amaca_armv7m[\"64B-V\"]\n",
    "\n",
    "print_data(data)"
   ]
  },
  {
   "attachments": {},
   "cell_type": "markdown",
   "metadata": {},
   "source": [
    "#### PT 128 byte"
   ]
  },
  {
   "cell_type": "code",
   "execution_count": 15,
   "metadata": {},
   "outputs": [
    {
     "name": "stdout",
     "output_type": "stream",
     "text": [
      "128B-A\n",
      "94    913\n",
      "95     87\n",
      "Name: count, dtype: int64\n",
      "\n",
      "Massimo: 95\n",
      "Minimo: 94\n",
      "Media: 94.087\n",
      "Varianza: 0.07951051051051052\n"
     ]
    }
   ],
   "source": [
    "# Generazione tag\n",
    "data = amaca_armv7m[\"128B-A\"]\n",
    "\n",
    "print_data(data)"
   ]
  },
  {
   "cell_type": "code",
   "execution_count": 16,
   "metadata": {},
   "outputs": [
    {
     "name": "stdout",
     "output_type": "stream",
     "text": [
      "128B-V\n",
      "193    825\n",
      "194    175\n",
      "Name: count, dtype: int64\n",
      "\n",
      "Massimo: 194\n",
      "Minimo: 193\n",
      "Media: 193.175\n",
      "Varianza: 0.14451951951951952\n"
     ]
    }
   ],
   "source": [
    "# Verifica tag\n",
    "data = amaca_armv7m[\"128B-V\"]\n",
    "\n",
    "print_data(data)"
   ]
  },
  {
   "attachments": {},
   "cell_type": "markdown",
   "metadata": {},
   "source": [
    "#### PT 256 byte"
   ]
  },
  {
   "cell_type": "code",
   "execution_count": 17,
   "metadata": {},
   "outputs": [
    {
     "name": "stdout",
     "output_type": "stream",
     "text": [
      "256B-A\n",
      "143    871\n",
      "144    129\n",
      "Name: count, dtype: int64\n",
      "\n",
      "Massimo: 144\n",
      "Minimo: 143\n",
      "Media: 143.129\n",
      "Varianza: 0.11247147147147148\n"
     ]
    }
   ],
   "source": [
    "# Generazione tag\n",
    "data = amaca_armv7m[\"256B-A\"]\n",
    "\n",
    "print_data(data)"
   ]
  },
  {
   "cell_type": "code",
   "execution_count": 18,
   "metadata": {},
   "outputs": [
    {
     "name": "stdout",
     "output_type": "stream",
     "text": [
      "256B-V\n",
      "292    739\n",
      "293    260\n",
      "294      1\n",
      "Name: count, dtype: int64\n",
      "\n",
      "Massimo: 294\n",
      "Minimo: 292\n",
      "Media: 292.262\n",
      "Varianza: 0.19555155155155157\n"
     ]
    }
   ],
   "source": [
    "# Verifica tag\n",
    "data = amaca_armv7m[\"256B-V\"]\n",
    "\n",
    "print_data(data)"
   ]
  },
  {
   "attachments": {},
   "cell_type": "markdown",
   "metadata": {},
   "source": [
    "#### PT 512 byte"
   ]
  },
  {
   "cell_type": "code",
   "execution_count": 19,
   "metadata": {},
   "outputs": [
    {
     "name": "stdout",
     "output_type": "stream",
     "text": [
      "512B-A\n",
      "242    738\n",
      "243    262\n",
      "Name: count, dtype: int64\n",
      "\n",
      "Massimo: 243\n",
      "Minimo: 242\n",
      "Media: 242.262\n",
      "Varianza: 0.1935495495495496\n"
     ]
    }
   ],
   "source": [
    "# Generazione tag\n",
    "data = amaca_armv7m[\"512B-A\"]\n",
    "\n",
    "print_data(data)"
   ]
  },
  {
   "cell_type": "code",
   "execution_count": 20,
   "metadata": {},
   "outputs": [
    {
     "name": "stdout",
     "output_type": "stream",
     "text": [
      "512B-V\n",
      "489    521\n",
      "490    477\n",
      "491      1\n",
      "492      1\n",
      "Name: count, dtype: int64\n",
      "\n",
      "Massimo: 492\n",
      "Minimo: 489\n",
      "Media: 489.482\n",
      "Varianza: 0.257933933933934\n"
     ]
    }
   ],
   "source": [
    "# Verifica tag\n",
    "data = amaca_armv7m[\"512B-V\"]\n",
    "\n",
    "print_data(data)"
   ]
  },
  {
   "attachments": {},
   "cell_type": "markdown",
   "metadata": {},
   "source": [
    "#### PT 1024 byte"
   ]
  },
  {
   "cell_type": "code",
   "execution_count": 21,
   "metadata": {},
   "outputs": [
    {
     "name": "stdout",
     "output_type": "stream",
     "text": [
      "1024B-A\n",
      "453    520\n",
      "454    479\n",
      "455      1\n",
      "Name: count, dtype: int64\n",
      "\n",
      "Massimo: 455\n",
      "Minimo: 453\n",
      "Media: 453.481\n",
      "Varianza: 0.2518908908908909\n"
     ]
    }
   ],
   "source": [
    "# Generazione tag\n",
    "data = amaca_armv7m[\"1024B-A\"]\n",
    "\n",
    "print_data(data)"
   ]
  },
  {
   "cell_type": "code",
   "execution_count": 22,
   "metadata": {},
   "outputs": [
    {
     "name": "stdout",
     "output_type": "stream",
     "text": [
      "1024B-V\n",
      "913    913\n",
      "912     86\n",
      "915      1\n",
      "Name: count, dtype: int64\n",
      "\n",
      "Massimo: 915\n",
      "Minimo: 912\n",
      "Media: 912.916\n",
      "Varianza: 0.08302702702702701\n"
     ]
    }
   ],
   "source": [
    "# Verifica tag\n",
    "data = amaca_armv7m[\"1024B-V\"]\n",
    "\n",
    "print_data(data)"
   ]
  },
  {
   "attachments": {},
   "cell_type": "markdown",
   "metadata": {},
   "source": [
    "### Armv7m_small"
   ]
  },
  {
   "cell_type": "code",
   "execution_count": 23,
   "metadata": {},
   "outputs": [],
   "source": [
    "with open(path.format(\"armv7m_small\"), \"r\") as f:\n",
    "    amaca_small = pd.read_csv(f, delimiter=\";\")"
   ]
  },
  {
   "cell_type": "markdown",
   "metadata": {},
   "source": [
    "#### PT vuoto"
   ]
  },
  {
   "cell_type": "code",
   "execution_count": 24,
   "metadata": {},
   "outputs": [
    {
     "name": "stdout",
     "output_type": "stream",
     "text": [
      "0B-A\n",
      "38    958\n",
      "39     40\n",
      "40      2\n",
      "Name: count, dtype: int64\n",
      "\n",
      "Massimo: 40\n",
      "Minimo: 38\n",
      "Media: 38.044\n",
      "Varianza: 0.046110110110110104\n"
     ]
    }
   ],
   "source": [
    "# Generazione tag\n",
    "data = amaca_small[\"0B-A\"]\n",
    "\n",
    "print_data(data)"
   ]
  },
  {
   "cell_type": "code",
   "execution_count": 25,
   "metadata": {},
   "outputs": [
    {
     "name": "stdout",
     "output_type": "stream",
     "text": [
      "0B-V\n",
      "80    917\n",
      "81     80\n",
      "79      3\n",
      "Name: count, dtype: int64\n",
      "\n",
      "Massimo: 81\n",
      "Minimo: 79\n",
      "Media: 80.077\n",
      "Varianza: 0.07714814814814813\n"
     ]
    }
   ],
   "source": [
    "# Verifica tag\n",
    "data = amaca_small[\"0B-V\"]\n",
    "\n",
    "print_data(data)"
   ]
  },
  {
   "attachments": {},
   "cell_type": "markdown",
   "metadata": {},
   "source": [
    "#### PT 8 byte"
   ]
  },
  {
   "cell_type": "code",
   "execution_count": 26,
   "metadata": {},
   "outputs": [
    {
     "name": "stdout",
     "output_type": "stream",
     "text": [
      "8B-A\n",
      "38    958\n",
      "39     42\n",
      "Name: count, dtype: int64\n",
      "\n",
      "Massimo: 39\n",
      "Minimo: 38\n",
      "Media: 38.042\n",
      "Varianza: 0.040276276276276265\n"
     ]
    }
   ],
   "source": [
    "# Generazione tag\n",
    "data = amaca_small[\"8B-A\"]\n",
    "\n",
    "print_data(data)"
   ]
  },
  {
   "cell_type": "code",
   "execution_count": 27,
   "metadata": {},
   "outputs": [
    {
     "name": "stdout",
     "output_type": "stream",
     "text": [
      "8B-V\n",
      "81    918\n",
      "82     80\n",
      "80      2\n",
      "Name: count, dtype: int64\n",
      "\n",
      "Massimo: 82\n",
      "Minimo: 80\n",
      "Media: 81.078\n",
      "Varianza: 0.07599199199199197\n"
     ]
    }
   ],
   "source": [
    "# Verifica tag\n",
    "data = amaca_small[\"8B-V\"]\n",
    "\n",
    "print_data(data)"
   ]
  },
  {
   "attachments": {},
   "cell_type": "markdown",
   "metadata": {},
   "source": [
    "#### PT 16 byte"
   ]
  },
  {
   "cell_type": "code",
   "execution_count": 28,
   "metadata": {},
   "outputs": [
    {
     "name": "stdout",
     "output_type": "stream",
     "text": [
      "16B-A\n",
      "39    959\n",
      "40     41\n",
      "Name: count, dtype: int64\n",
      "\n",
      "Massimo: 40\n",
      "Minimo: 39\n",
      "Media: 39.041\n",
      "Varianza: 0.039358358358358346\n"
     ]
    }
   ],
   "source": [
    "# Generazione tag\n",
    "data = amaca_small[\"16B-A\"]\n",
    "\n",
    "print_data(data)"
   ]
  },
  {
   "cell_type": "code",
   "execution_count": 29,
   "metadata": {},
   "outputs": [
    {
     "name": "stdout",
     "output_type": "stream",
     "text": [
      "16B-V\n",
      "81    920\n",
      "83     80\n",
      "Name: count, dtype: int64\n",
      "\n",
      "Massimo: 83\n",
      "Minimo: 81\n",
      "Media: 81.16\n",
      "Varianza: 0.2946946946946948\n"
     ]
    }
   ],
   "source": [
    "# Verifica tag\n",
    "data = amaca_small[\"16B-V\"]\n",
    "\n",
    "print_data(data)"
   ]
  },
  {
   "attachments": {},
   "cell_type": "markdown",
   "metadata": {},
   "source": [
    "#### PT 32 byte"
   ]
  },
  {
   "cell_type": "code",
   "execution_count": 30,
   "metadata": {},
   "outputs": [
    {
     "name": "stdout",
     "output_type": "stream",
     "text": [
      "32B-A\n",
      "40    960\n",
      "41     40\n",
      "Name: count, dtype: int64\n",
      "\n",
      "Massimo: 41\n",
      "Minimo: 40\n",
      "Media: 40.04\n",
      "Varianza: 0.038438438438438444\n"
     ]
    }
   ],
   "source": [
    "# Generazione tag\n",
    "data = amaca_small[\"32B-A\"]\n",
    "\n",
    "print_data(data)"
   ]
  },
  {
   "cell_type": "code",
   "execution_count": 31,
   "metadata": {},
   "outputs": [
    {
     "name": "stdout",
     "output_type": "stream",
     "text": [
      "32B-V\n",
      "83    919\n",
      "84     81\n",
      "Name: count, dtype: int64\n",
      "\n",
      "Massimo: 84\n",
      "Minimo: 83\n",
      "Media: 83.081\n",
      "Varianza: 0.07451351351351351\n"
     ]
    }
   ],
   "source": [
    "# Verifica tag\n",
    "data = amaca_small[\"32B-V\"]\n",
    "\n",
    "print_data(data)"
   ]
  },
  {
   "attachments": {},
   "cell_type": "markdown",
   "metadata": {},
   "source": [
    "#### PT 64 byte"
   ]
  },
  {
   "cell_type": "code",
   "execution_count": 32,
   "metadata": {},
   "outputs": [
    {
     "name": "stdout",
     "output_type": "stream",
     "text": [
      "64B-A\n",
      "53    960\n",
      "54     40\n",
      "Name: count, dtype: int64\n",
      "\n",
      "Massimo: 54\n",
      "Minimo: 53\n",
      "Media: 53.04\n",
      "Varianza: 0.038438438438438444\n"
     ]
    }
   ],
   "source": [
    "# Generazione tag\n",
    "data = amaca_small[\"64B-A\"]\n",
    "\n",
    "print_data(data)"
   ]
  },
  {
   "cell_type": "code",
   "execution_count": 33,
   "metadata": {},
   "outputs": [
    {
     "name": "stdout",
     "output_type": "stream",
     "text": [
      "64B-V\n",
      "110    879\n",
      "111    120\n",
      "109      1\n",
      "Name: count, dtype: int64\n",
      "\n",
      "Massimo: 111\n",
      "Minimo: 109\n",
      "Media: 110.119\n",
      "Varianza: 0.10694594594594595\n"
     ]
    }
   ],
   "source": [
    "# Verifica tag\n",
    "data = amaca_small[\"64B-V\"]\n",
    "\n",
    "print_data(data)"
   ]
  },
  {
   "attachments": {},
   "cell_type": "markdown",
   "metadata": {},
   "source": [
    "#### PT 128 byte"
   ]
  },
  {
   "cell_type": "code",
   "execution_count": 34,
   "metadata": {},
   "outputs": [
    {
     "name": "stdout",
     "output_type": "stream",
     "text": [
      "128B-A\n",
      "80    920\n",
      "81     80\n",
      "Name: count, dtype: int64\n",
      "\n",
      "Massimo: 81\n",
      "Minimo: 80\n",
      "Media: 80.08\n",
      "Varianza: 0.0736736736736737\n"
     ]
    }
   ],
   "source": [
    "# Generazione tag\n",
    "data = amaca_small[\"128B-A\"]\n",
    "\n",
    "print_data(data)"
   ]
  },
  {
   "cell_type": "code",
   "execution_count": 35,
   "metadata": {},
   "outputs": [
    {
     "name": "stdout",
     "output_type": "stream",
     "text": [
      "128B-V\n",
      "163    839\n",
      "165    120\n",
      "164     41\n",
      "Name: count, dtype: int64\n",
      "\n",
      "Massimo: 165\n",
      "Minimo: 163\n",
      "Media: 163.281\n",
      "Varianza: 0.44248148148148136\n"
     ]
    }
   ],
   "source": [
    "# Verifica tag\n",
    "data = amaca_small[\"128B-V\"]\n",
    "\n",
    "print_data(data)"
   ]
  },
  {
   "attachments": {},
   "cell_type": "markdown",
   "metadata": {},
   "source": [
    "#### PT 256 byte"
   ]
  },
  {
   "cell_type": "code",
   "execution_count": 36,
   "metadata": {},
   "outputs": [
    {
     "name": "stdout",
     "output_type": "stream",
     "text": [
      "256B-A\n",
      "122    880\n",
      "123    120\n",
      "Name: count, dtype: int64\n",
      "\n",
      "Massimo: 123\n",
      "Minimo: 122\n",
      "Media: 122.12\n",
      "Varianza: 0.1057057057057057\n"
     ]
    }
   ],
   "source": [
    "# Generazione tag\n",
    "data = amaca_small[\"256B-A\"]\n",
    "\n",
    "print_data(data)"
   ]
  },
  {
   "cell_type": "code",
   "execution_count": 37,
   "metadata": {},
   "outputs": [
    {
     "name": "stdout",
     "output_type": "stream",
     "text": [
      "256B-V\n",
      "247    760\n",
      "248    240\n",
      "Name: count, dtype: int64\n",
      "\n",
      "Massimo: 248\n",
      "Minimo: 247\n",
      "Media: 247.24\n",
      "Varianza: 0.18258258258258253\n"
     ]
    }
   ],
   "source": [
    "# Verifica tag\n",
    "data = amaca_small[\"256B-V\"]\n",
    "\n",
    "print_data(data)"
   ]
  },
  {
   "attachments": {},
   "cell_type": "markdown",
   "metadata": {},
   "source": [
    "#### PT 512 byte"
   ]
  },
  {
   "cell_type": "code",
   "execution_count": 38,
   "metadata": {},
   "outputs": [
    {
     "name": "stdout",
     "output_type": "stream",
     "text": [
      "512B-A\n",
      "205    799\n",
      "206    200\n",
      "207      1\n",
      "Name: count, dtype: int64\n",
      "\n",
      "Massimo: 207\n",
      "Minimo: 205\n",
      "Media: 205.202\n",
      "Varianza: 0.16335935935935933\n"
     ]
    }
   ],
   "source": [
    "# Generazione tag\n",
    "data = amaca_small[\"512B-A\"]\n",
    "\n",
    "print_data(data)"
   ]
  },
  {
   "cell_type": "code",
   "execution_count": 39,
   "metadata": {},
   "outputs": [
    {
     "name": "stdout",
     "output_type": "stream",
     "text": [
      "512B-V\n",
      "414    599\n",
      "416    400\n",
      "415      1\n",
      "Name: count, dtype: int64\n",
      "\n",
      "Massimo: 416\n",
      "Minimo: 414\n",
      "Media: 414.801\n",
      "Varianza: 0.9603593593593593\n"
     ]
    }
   ],
   "source": [
    "# Verifica tag\n",
    "data = amaca_small[\"512B-V\"]\n",
    "\n",
    "print_data(data)"
   ]
  },
  {
   "attachments": {},
   "cell_type": "markdown",
   "metadata": {},
   "source": [
    "#### PT 1024 byte"
   ]
  },
  {
   "cell_type": "code",
   "execution_count": 40,
   "metadata": {},
   "outputs": [
    {
     "name": "stdout",
     "output_type": "stream",
     "text": [
      "1024B-A\n",
      "384    599\n",
      "385    400\n",
      "386      1\n",
      "Name: count, dtype: int64\n",
      "\n",
      "Massimo: 386\n",
      "Minimo: 384\n",
      "Media: 384.402\n",
      "Varianza: 0.24263863863863866\n"
     ]
    }
   ],
   "source": [
    "# Generazione tag\n",
    "data = amaca_small[\"1024B-A\"]\n",
    "\n",
    "print_data(data)"
   ]
  },
  {
   "cell_type": "code",
   "execution_count": 41,
   "metadata": {},
   "outputs": [
    {
     "name": "stdout",
     "output_type": "stream",
     "text": [
      "1024B-V\n",
      "773    761\n",
      "772    239\n",
      "Name: count, dtype: int64\n",
      "\n",
      "Massimo: 773\n",
      "Minimo: 772\n",
      "Media: 772.761\n",
      "Varianza: 0.182061061061061\n"
     ]
    }
   ],
   "source": [
    "# Verifica tag\n",
    "data = amaca_small[\"1024B-V\"]\n",
    "\n",
    "print_data(data)"
   ]
  },
  {
   "attachments": {},
   "cell_type": "markdown",
   "metadata": {},
   "source": [
    "### Bi32_armv7m"
   ]
  },
  {
   "cell_type": "code",
   "execution_count": 42,
   "metadata": {},
   "outputs": [],
   "source": [
    "with open(path.format(\"bi32_armv7m\"), \"r\") as f:\n",
    "    amaca_bi32 = pd.read_csv(f, delimiter=\";\")"
   ]
  },
  {
   "attachments": {},
   "cell_type": "markdown",
   "metadata": {},
   "source": [
    "#### PT vuoto"
   ]
  },
  {
   "cell_type": "code",
   "execution_count": 43,
   "metadata": {},
   "outputs": [
    {
     "name": "stdout",
     "output_type": "stream",
     "text": [
      "0B-A\n",
      "36    799\n",
      "37    161\n",
      "38     40\n",
      "Name: count, dtype: int64\n",
      "\n",
      "Massimo: 38\n",
      "Minimo: 36\n",
      "Media: 36.241\n",
      "Varianza: 0.26318218218218214\n"
     ]
    }
   ],
   "source": [
    "# Generazione tag\n",
    "data = amaca_bi32[\"0B-A\"]\n",
    "\n",
    "print_data(data)"
   ]
  },
  {
   "cell_type": "code",
   "execution_count": 44,
   "metadata": {},
   "outputs": [
    {
     "name": "stdout",
     "output_type": "stream",
     "text": [
      "0B-V\n",
      "77    919\n",
      "78     80\n",
      "76      1\n",
      "Name: count, dtype: int64\n",
      "\n",
      "Massimo: 78\n",
      "Minimo: 76\n",
      "Media: 77.079\n",
      "Varianza: 0.07483383383383382\n"
     ]
    }
   ],
   "source": [
    "# Verifica tag\n",
    "data = amaca_bi32[\"0B-V\"]\n",
    "\n",
    "print_data(data)"
   ]
  },
  {
   "attachments": {},
   "cell_type": "markdown",
   "metadata": {},
   "source": [
    "#### PT 8 byte"
   ]
  },
  {
   "cell_type": "code",
   "execution_count": 45,
   "metadata": {},
   "outputs": [
    {
     "name": "stdout",
     "output_type": "stream",
     "text": [
      "8B-A\n",
      "38    959\n",
      "39     41\n",
      "Name: count, dtype: int64\n",
      "\n",
      "Massimo: 39\n",
      "Minimo: 38\n",
      "Media: 38.041\n",
      "Varianza: 0.039358358358358346\n"
     ]
    }
   ],
   "source": [
    "# Generazione tag\n",
    "data = amaca_bi32[\"8B-A\"]\n",
    "\n",
    "print_data(data)"
   ]
  },
  {
   "cell_type": "code",
   "execution_count": 46,
   "metadata": {},
   "outputs": [
    {
     "name": "stdout",
     "output_type": "stream",
     "text": [
      "8B-V\n",
      "80    920\n",
      "81     80\n",
      "Name: count, dtype: int64\n",
      "\n",
      "Massimo: 81\n",
      "Minimo: 80\n",
      "Media: 80.08\n",
      "Varianza: 0.0736736736736737\n"
     ]
    }
   ],
   "source": [
    "# Verifica tag\n",
    "data = amaca_bi32[\"8B-V\"]\n",
    "\n",
    "print_data(data)"
   ]
  },
  {
   "attachments": {},
   "cell_type": "markdown",
   "metadata": {},
   "source": [
    "#### PT 16 byte"
   ]
  },
  {
   "cell_type": "code",
   "execution_count": 47,
   "metadata": {},
   "outputs": [
    {
     "name": "stdout",
     "output_type": "stream",
     "text": [
      "16B-A\n",
      "40    960\n",
      "41     40\n",
      "Name: count, dtype: int64\n",
      "\n",
      "Massimo: 41\n",
      "Minimo: 40\n",
      "Media: 40.04\n",
      "Varianza: 0.038438438438438444\n"
     ]
    }
   ],
   "source": [
    "# Generazione tag\n",
    "data = amaca_bi32[\"16B-A\"]\n",
    "\n",
    "print_data(data)"
   ]
  },
  {
   "cell_type": "code",
   "execution_count": 48,
   "metadata": {},
   "outputs": [
    {
     "name": "stdout",
     "output_type": "stream",
     "text": [
      "16B-V\n",
      "83    919\n",
      "84     81\n",
      "Name: count, dtype: int64\n",
      "\n",
      "Massimo: 84\n",
      "Minimo: 83\n",
      "Media: 83.081\n",
      "Varianza: 0.07451351351351351\n"
     ]
    }
   ],
   "source": [
    "# Verifica tag\n",
    "data = amaca_bi32[\"16B-V\"]\n",
    "\n",
    "print_data(data)"
   ]
  },
  {
   "attachments": {},
   "cell_type": "markdown",
   "metadata": {},
   "source": [
    "#### PT 32 byte"
   ]
  },
  {
   "cell_type": "code",
   "execution_count": 49,
   "metadata": {},
   "outputs": [
    {
     "name": "stdout",
     "output_type": "stream",
     "text": [
      "32B-A\n",
      "43    959\n",
      "44     41\n",
      "Name: count, dtype: int64\n",
      "\n",
      "Massimo: 44\n",
      "Minimo: 43\n",
      "Media: 43.041\n",
      "Varianza: 0.039358358358358346\n"
     ]
    }
   ],
   "source": [
    "# Generazione tag\n",
    "data = amaca_bi32[\"32B-A\"]\n",
    "\n",
    "print_data(data)"
   ]
  },
  {
   "cell_type": "code",
   "execution_count": 50,
   "metadata": {},
   "outputs": [
    {
     "name": "stdout",
     "output_type": "stream",
     "text": [
      "32B-V\n",
      "89    919\n",
      "91     80\n",
      "90      1\n",
      "Name: count, dtype: int64\n",
      "\n",
      "Massimo: 91\n",
      "Minimo: 89\n",
      "Media: 89.161\n",
      "Varianza: 0.2953743743743743\n"
     ]
    }
   ],
   "source": [
    "# Verifica tag\n",
    "data = amaca_bi32[\"32B-V\"]\n",
    "\n",
    "print_data(data)"
   ]
  },
  {
   "attachments": {},
   "cell_type": "markdown",
   "metadata": {},
   "source": [
    "#### PT 64 byte"
   ]
  },
  {
   "cell_type": "code",
   "execution_count": 51,
   "metadata": {},
   "outputs": [
    {
     "name": "stdout",
     "output_type": "stream",
     "text": [
      "64B-A\n",
      "59    960\n",
      "60     40\n",
      "Name: count, dtype: int64\n",
      "\n",
      "Massimo: 60\n",
      "Minimo: 59\n",
      "Media: 59.04\n",
      "Varianza: 0.038438438438438444\n"
     ]
    }
   ],
   "source": [
    "# Generazione tag\n",
    "data = amaca_bi32[\"64B-A\"]\n",
    "\n",
    "print_data(data)"
   ]
  },
  {
   "cell_type": "code",
   "execution_count": 52,
   "metadata": {},
   "outputs": [
    {
     "name": "stdout",
     "output_type": "stream",
     "text": [
      "64B-V\n",
      "121    880\n",
      "122    120\n",
      "Name: count, dtype: int64\n",
      "\n",
      "Massimo: 122\n",
      "Minimo: 121\n",
      "Media: 121.12\n",
      "Varianza: 0.1057057057057057\n"
     ]
    }
   ],
   "source": [
    "# Verifica tag\n",
    "data = amaca_bi32[\"64B-V\"]\n",
    "\n",
    "print_data(data)"
   ]
  },
  {
   "attachments": {},
   "cell_type": "markdown",
   "metadata": {},
   "source": [
    "#### PT 128 byte"
   ]
  },
  {
   "cell_type": "code",
   "execution_count": 53,
   "metadata": {},
   "outputs": [
    {
     "name": "stdout",
     "output_type": "stream",
     "text": [
      "128B-A\n",
      "90    838\n",
      "91    162\n",
      "Name: count, dtype: int64\n",
      "\n",
      "Massimo: 91\n",
      "Minimo: 90\n",
      "Media: 90.162\n",
      "Varianza: 0.13589189189189188\n"
     ]
    }
   ],
   "source": [
    "# Generazione tag\n",
    "data = amaca_bi32[\"128B-A\"]\n",
    "\n",
    "print_data(data)"
   ]
  },
  {
   "cell_type": "code",
   "execution_count": 54,
   "metadata": {},
   "outputs": [
    {
     "name": "stdout",
     "output_type": "stream",
     "text": [
      "128B-V\n",
      "185    798\n",
      "186    200\n",
      "184      2\n",
      "Name: count, dtype: int64\n",
      "\n",
      "Massimo: 186\n",
      "Minimo: 184\n",
      "Media: 185.198\n",
      "Varianza: 0.16295895895895895\n"
     ]
    }
   ],
   "source": [
    "# Verifica tag\n",
    "data = amaca_bi32[\"128B-V\"]\n",
    "\n",
    "print_data(data)"
   ]
  },
  {
   "attachments": {},
   "cell_type": "markdown",
   "metadata": {},
   "source": [
    "#### PT 256 byte"
   ]
  },
  {
   "cell_type": "code",
   "execution_count": 55,
   "metadata": {},
   "outputs": [
    {
     "name": "stdout",
     "output_type": "stream",
     "text": [
      "256B-A\n",
      "144    599\n",
      "145    240\n",
      "146    161\n",
      "Name: count, dtype: int64\n",
      "\n",
      "Massimo: 146\n",
      "Minimo: 144\n",
      "Media: 144.562\n",
      "Varianza: 0.5687247247247248\n"
     ]
    }
   ],
   "source": [
    "# Generazione tag\n",
    "data = amaca_bi32[\"256B-A\"]\n",
    "\n",
    "print_data(data)"
   ]
  },
  {
   "cell_type": "code",
   "execution_count": 56,
   "metadata": {},
   "outputs": [
    {
     "name": "stdout",
     "output_type": "stream",
     "text": [
      "256B-V\n",
      "293    721\n",
      "294    279\n",
      "Name: count, dtype: int64\n",
      "\n",
      "Massimo: 294\n",
      "Minimo: 293\n",
      "Media: 293.279\n",
      "Varianza: 0.2013603603603604\n"
     ]
    }
   ],
   "source": [
    "# Verifica tag\n",
    "data = amaca_bi32[\"256B-V\"]\n",
    "\n",
    "print_data(data)"
   ]
  },
  {
   "attachments": {},
   "cell_type": "markdown",
   "metadata": {},
   "source": [
    "#### PT 512 byte"
   ]
  },
  {
   "cell_type": "code",
   "execution_count": 57,
   "metadata": {},
   "outputs": [
    {
     "name": "stdout",
     "output_type": "stream",
     "text": [
      "512B-A\n",
      "253    760\n",
      "254    239\n",
      "255      1\n",
      "Name: count, dtype: int64\n",
      "\n",
      "Massimo: 255\n",
      "Minimo: 253\n",
      "Media: 253.241\n",
      "Varianza: 0.18510410410410413\n"
     ]
    }
   ],
   "source": [
    "# Generazione tag\n",
    "data = amaca_bi32[\"512B-A\"]\n",
    "\n",
    "print_data(data)"
   ]
  },
  {
   "cell_type": "code",
   "execution_count": 58,
   "metadata": {},
   "outputs": [
    {
     "name": "stdout",
     "output_type": "stream",
     "text": [
      "512B-V\n",
      "510    520\n",
      "509    479\n",
      "511      1\n",
      "Name: count, dtype: int64\n",
      "\n",
      "Massimo: 511\n",
      "Minimo: 509\n",
      "Media: 509.522\n",
      "Varianza: 0.25176776776776777\n"
     ]
    }
   ],
   "source": [
    "# Verifica tag\n",
    "data = amaca_bi32[\"512B-V\"]\n",
    "\n",
    "print_data(data)"
   ]
  },
  {
   "attachments": {},
   "cell_type": "markdown",
   "metadata": {},
   "source": [
    "#### PT 1024 byte"
   ]
  },
  {
   "cell_type": "code",
   "execution_count": 59,
   "metadata": {},
   "outputs": [
    {
     "name": "stdout",
     "output_type": "stream",
     "text": [
      "1024B-A\n",
      "478    519\n",
      "479    359\n",
      "480    122\n",
      "Name: count, dtype: int64\n",
      "\n",
      "Massimo: 480\n",
      "Minimo: 478\n",
      "Media: 478.603\n",
      "Varianza: 0.48387487487487485\n"
     ]
    }
   ],
   "source": [
    "# Generazione tag\n",
    "data = amaca_bi32[\"1024B-A\"]\n",
    "\n",
    "print_data(data)"
   ]
  },
  {
   "cell_type": "code",
   "execution_count": 60,
   "metadata": {},
   "outputs": [
    {
     "name": "stdout",
     "output_type": "stream",
     "text": [
      "1024B-V\n",
      "962    959\n",
      "961     40\n",
      "963      1\n",
      "Name: count, dtype: int64\n",
      "\n",
      "Massimo: 963\n",
      "Minimo: 961\n",
      "Media: 961.961\n",
      "Varianza: 0.039518518518518515\n"
     ]
    }
   ],
   "source": [
    "# Verifica tag\n",
    "data = amaca_bi32[\"1024B-V\"]\n",
    "\n",
    "print_data(data)"
   ]
  },
  {
   "attachments": {},
   "cell_type": "markdown",
   "metadata": {},
   "source": [
    "### Ref"
   ]
  },
  {
   "cell_type": "code",
   "execution_count": 61,
   "metadata": {},
   "outputs": [],
   "source": [
    "with open(path.format(\"ref\"), \"r\") as f:\n",
    "    amaca_ref = pd.read_csv(f, delimiter=\";\")"
   ]
  },
  {
   "attachments": {},
   "cell_type": "markdown",
   "metadata": {},
   "source": [
    "#### PT vuoto"
   ]
  },
  {
   "cell_type": "code",
   "execution_count": 62,
   "metadata": {},
   "outputs": [
    {
     "name": "stdout",
     "output_type": "stream",
     "text": [
      "0B-A\n",
      "134    878\n",
      "135    121\n",
      "136      1\n",
      "Name: count, dtype: int64\n",
      "\n",
      "Massimo: 136\n",
      "Minimo: 134\n",
      "Media: 134.123\n",
      "Varianza: 0.109980980980981\n"
     ]
    }
   ],
   "source": [
    "# Generazione tag\n",
    "data = amaca_ref[\"0B-A\"]\n",
    "\n",
    "print_data(data)"
   ]
  },
  {
   "cell_type": "code",
   "execution_count": 63,
   "metadata": {},
   "outputs": [
    {
     "name": "stdout",
     "output_type": "stream",
     "text": [
      "0B-V\n",
      "271    759\n",
      "272    240\n",
      "273      1\n",
      "Name: count, dtype: int64\n",
      "\n",
      "Massimo: 273\n",
      "Minimo: 271\n",
      "Media: 271.242\n",
      "Varianza: 0.1856216216216216\n"
     ]
    }
   ],
   "source": [
    "# Verifica tag\n",
    "data = amaca_ref[\"0B-V\"]\n",
    "\n",
    "print_data(data)"
   ]
  },
  {
   "attachments": {},
   "cell_type": "markdown",
   "metadata": {},
   "source": [
    "#### PT 8 byte"
   ]
  },
  {
   "cell_type": "code",
   "execution_count": 64,
   "metadata": {},
   "outputs": [
    {
     "name": "stdout",
     "output_type": "stream",
     "text": [
      "8B-A\n",
      "139    799\n",
      "141    120\n",
      "140     81\n",
      "Name: count, dtype: int64\n",
      "\n",
      "Massimo: 141\n",
      "Minimo: 139\n",
      "Media: 139.321\n",
      "Varianza: 0.45841741741741737\n"
     ]
    }
   ],
   "source": [
    "# Generazione tag\n",
    "data = amaca_ref[\"8B-A\"]\n",
    "\n",
    "print_data(data)"
   ]
  },
  {
   "cell_type": "code",
   "execution_count": 65,
   "metadata": {},
   "outputs": [
    {
     "name": "stdout",
     "output_type": "stream",
     "text": [
      "8B-V\n",
      "281    720\n",
      "283    278\n",
      "282      2\n",
      "Name: count, dtype: int64\n",
      "\n",
      "Massimo: 283\n",
      "Minimo: 281\n",
      "Media: 281.558\n",
      "Varianza: 0.8034394394394396\n"
     ]
    }
   ],
   "source": [
    "# Verifica tag\n",
    "data = amaca_ref[\"8B-V\"]\n",
    "\n",
    "print_data(data)"
   ]
  },
  {
   "attachments": {},
   "cell_type": "markdown",
   "metadata": {},
   "source": [
    "#### PT 16 byte"
   ]
  },
  {
   "cell_type": "code",
   "execution_count": 66,
   "metadata": {},
   "outputs": [
    {
     "name": "stdout",
     "output_type": "stream",
     "text": [
      "16B-A\n",
      "145    878\n",
      "146    121\n",
      "144      1\n",
      "Name: count, dtype: int64\n",
      "\n",
      "Massimo: 146\n",
      "Minimo: 144\n",
      "Media: 145.12\n",
      "Varianza: 0.1077077077077077\n"
     ]
    }
   ],
   "source": [
    "# Generazione tag\n",
    "data = amaca_ref[\"16B-A\"]\n",
    "\n",
    "print_data(data)"
   ]
  },
  {
   "cell_type": "code",
   "execution_count": 67,
   "metadata": {},
   "outputs": [
    {
     "name": "stdout",
     "output_type": "stream",
     "text": [
      "16B-V\n",
      "292    718\n",
      "293    280\n",
      "294      2\n",
      "Name: count, dtype: int64\n",
      "\n",
      "Massimo: 294\n",
      "Minimo: 292\n",
      "Media: 292.284\n",
      "Varianza: 0.2075515515515516\n"
     ]
    }
   ],
   "source": [
    "# Verifica tag\n",
    "data = amaca_ref[\"16B-V\"]\n",
    "\n",
    "print_data(data)"
   ]
  },
  {
   "attachments": {},
   "cell_type": "markdown",
   "metadata": {},
   "source": [
    "#### PT 32 byte"
   ]
  },
  {
   "cell_type": "code",
   "execution_count": 68,
   "metadata": {},
   "outputs": [
    {
     "name": "stdout",
     "output_type": "stream",
     "text": [
      "32B-A\n",
      "155    879\n",
      "156    121\n",
      "Name: count, dtype: int64\n",
      "\n",
      "Massimo: 156\n",
      "Minimo: 155\n",
      "Media: 155.121\n",
      "Varianza: 0.10646546546546548\n"
     ]
    }
   ],
   "source": [
    "# Generazione tag\n",
    "data = amaca_ref[\"32B-A\"]\n",
    "\n",
    "print_data(data)"
   ]
  },
  {
   "cell_type": "code",
   "execution_count": 69,
   "metadata": {},
   "outputs": [
    {
     "name": "stdout",
     "output_type": "stream",
     "text": [
      "32B-V\n",
      "313    718\n",
      "314    281\n",
      "315      1\n",
      "Name: count, dtype: int64\n",
      "\n",
      "Massimo: 315\n",
      "Minimo: 313\n",
      "Media: 313.283\n",
      "Varianza: 0.2051161161161162\n"
     ]
    }
   ],
   "source": [
    "# Verifica tag\n",
    "data = amaca_ref[\"32B-V\"]\n",
    "\n",
    "print_data(data)"
   ]
  },
  {
   "attachments": {},
   "cell_type": "markdown",
   "metadata": {},
   "source": [
    "#### PT 64 byte"
   ]
  },
  {
   "cell_type": "code",
   "execution_count": 70,
   "metadata": {},
   "outputs": [
    {
     "name": "stdout",
     "output_type": "stream",
     "text": [
      "64B-A\n",
      "213    601\n",
      "214    201\n",
      "215    198\n",
      "Name: count, dtype: int64\n",
      "\n",
      "Massimo: 215\n",
      "Minimo: 213\n",
      "Media: 213.597\n",
      "Varianza: 0.6372282282282281\n"
     ]
    }
   ],
   "source": [
    "# Generazione tag\n",
    "data = amaca_ref[\"64B-A\"]\n",
    "\n",
    "print_data(data)"
   ]
  },
  {
   "cell_type": "code",
   "execution_count": 71,
   "metadata": {},
   "outputs": [
    {
     "name": "stdout",
     "output_type": "stream",
     "text": [
      "64B-V\n",
      "429    600\n",
      "431    398\n",
      "432      1\n",
      "430      1\n",
      "Name: count, dtype: int64\n",
      "\n",
      "Massimo: 432\n",
      "Minimo: 429\n",
      "Media: 429.8\n",
      "Varianza: 0.9629629629629629\n"
     ]
    }
   ],
   "source": [
    "# Verifica tag\n",
    "data = amaca_ref[\"64B-V\"]\n",
    "\n",
    "print_data(data)"
   ]
  },
  {
   "attachments": {},
   "cell_type": "markdown",
   "metadata": {},
   "source": [
    "#### PT 128 byte"
   ]
  },
  {
   "cell_type": "code",
   "execution_count": 72,
   "metadata": {},
   "outputs": [
    {
     "name": "stdout",
     "output_type": "stream",
     "text": [
      "128B-A\n",
      "330    679\n",
      "331    320\n",
      "332      1\n",
      "Name: count, dtype: int64\n",
      "\n",
      "Massimo: 332\n",
      "Minimo: 330\n",
      "Media: 330.322\n",
      "Varianza: 0.22053653653653651\n"
     ]
    }
   ],
   "source": [
    "# Generazione tag\n",
    "data = amaca_ref[\"128B-A\"]\n",
    "\n",
    "print_data(data)"
   ]
  },
  {
   "cell_type": "code",
   "execution_count": 73,
   "metadata": {},
   "outputs": [
    {
     "name": "stdout",
     "output_type": "stream",
     "text": [
      "128B-V\n",
      "664    640\n",
      "663    358\n",
      "665      2\n",
      "Name: count, dtype: int64\n",
      "\n",
      "Massimo: 665\n",
      "Minimo: 663\n",
      "Media: 663.644\n",
      "Varianza: 0.23349749749749754\n"
     ]
    }
   ],
   "source": [
    "# Verifica tag\n",
    "data = amaca_ref[\"128B-V\"]\n",
    "\n",
    "print_data(data)"
   ]
  },
  {
   "attachments": {},
   "cell_type": "markdown",
   "metadata": {},
   "source": [
    "#### PT 256 byte"
   ]
  },
  {
   "cell_type": "code",
   "execution_count": 74,
   "metadata": {},
   "outputs": [
    {
     "name": "stdout",
     "output_type": "stream",
     "text": [
      "256B-A\n",
      "527    518\n",
      "526    481\n",
      "528      1\n",
      "Name: count, dtype: int64\n",
      "\n",
      "Massimo: 528\n",
      "Minimo: 526\n",
      "Media: 526.52\n",
      "Varianza: 0.25185185185185177\n"
     ]
    }
   ],
   "source": [
    "# Generazione tag\n",
    "data = amaca_ref[\"256B-A\"]\n",
    "\n",
    "print_data(data)"
   ]
  },
  {
   "cell_type": "code",
   "execution_count": 75,
   "metadata": {},
   "outputs": [
    {
     "name": "stdout",
     "output_type": "stream",
     "text": [
      "256B-V\n",
      "1057    959\n",
      "1058     41\n",
      "Name: count, dtype: int64\n",
      "\n",
      "Massimo: 1058\n",
      "Minimo: 1057\n",
      "Media: 1057.041\n",
      "Varianza: 0.039358358358358346\n"
     ]
    }
   ],
   "source": [
    "# Verifica tag\n",
    "data = amaca_ref[\"256B-V\"]\n",
    "\n",
    "print_data(data)"
   ]
  },
  {
   "attachments": {},
   "cell_type": "markdown",
   "metadata": {},
   "source": [
    "#### PT 512 byte"
   ]
  },
  {
   "cell_type": "code",
   "execution_count": 76,
   "metadata": {},
   "outputs": [
    {
     "name": "stdout",
     "output_type": "stream",
     "text": [
      "512B-A\n",
      "920    878\n",
      "919     81\n",
      "921     41\n",
      "Name: count, dtype: int64\n",
      "\n",
      "Massimo: 921\n",
      "Minimo: 919\n",
      "Media: 919.96\n",
      "Varianza: 0.12052052052052052\n"
     ]
    }
   ],
   "source": [
    "# Generazione tag\n",
    "data = amaca_ref[\"512B-A\"]\n",
    "\n",
    "print_data(data)"
   ]
  },
  {
   "cell_type": "code",
   "execution_count": 77,
   "metadata": {},
   "outputs": [
    {
     "name": "stdout",
     "output_type": "stream",
     "text": [
      "512B-V\n",
      "1842    838\n",
      "1841    160\n",
      "1843      1\n",
      "1844      1\n",
      "Name: count, dtype: int64\n",
      "\n",
      "Massimo: 1844\n",
      "Minimo: 1841\n",
      "Media: 1841.843\n",
      "Varianza: 0.14049149149149148\n"
     ]
    }
   ],
   "source": [
    "# Verifica tag\n",
    "data = amaca_ref[\"512B-V\"]\n",
    "\n",
    "print_data(data)"
   ]
  },
  {
   "attachments": {},
   "cell_type": "markdown",
   "metadata": {},
   "source": [
    "#### PT 1024 byte"
   ]
  },
  {
   "cell_type": "code",
   "execution_count": 78,
   "metadata": {},
   "outputs": [
    {
     "name": "stdout",
     "output_type": "stream",
     "text": [
      "1024B-A\n",
      "1743    719\n",
      "1742    279\n",
      "1741      1\n",
      "1744      1\n",
      "Name: count, dtype: int64\n",
      "\n",
      "Massimo: 1744\n",
      "Minimo: 1741\n",
      "Media: 1742.72\n",
      "Varianza: 0.2058058058058058\n"
     ]
    }
   ],
   "source": [
    "# Generazione tag\n",
    "data = amaca_ref[\"1024B-A\"]\n",
    "\n",
    "print_data(data)"
   ]
  },
  {
   "cell_type": "code",
   "execution_count": 79,
   "metadata": {},
   "outputs": [
    {
     "name": "stdout",
     "output_type": "stream",
     "text": [
      "1024B-V\n",
      "3488    519\n",
      "3489    480\n",
      "3491      1\n",
      "Name: count, dtype: int64\n",
      "\n",
      "Massimo: 3491\n",
      "Minimo: 3488\n",
      "Media: 3488.483\n",
      "Varianza: 0.25596696696696697\n"
     ]
    }
   ],
   "source": [
    "# Verifica tag\n",
    "data = amaca_ref[\"1024B-V\"]\n",
    "\n",
    "print_data(data)"
   ]
  }
 ],
 "metadata": {
  "kernelspec": {
   "display_name": "Python 3",
   "language": "python",
   "name": "python3"
  },
  "language_info": {
   "codemirror_mode": {
    "name": "ipython",
    "version": 3
   },
   "file_extension": ".py",
   "mimetype": "text/x-python",
   "name": "python",
   "nbconvert_exporter": "python",
   "pygments_lexer": "ipython3",
   "version": "3.11.2"
  },
  "orig_nbformat": 4
 },
 "nbformat": 4,
 "nbformat_minor": 2
}
