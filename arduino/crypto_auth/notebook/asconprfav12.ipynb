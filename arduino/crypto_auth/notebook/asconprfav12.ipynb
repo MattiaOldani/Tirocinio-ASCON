{
 "cells": [
  {
   "attachments": {},
   "cell_type": "markdown",
   "metadata": {},
   "source": [
    "# Analisi dei dati raccolti"
   ]
  },
  {
   "attachments": {},
   "cell_type": "markdown",
   "metadata": {},
   "source": [
    "## Setup"
   ]
  },
  {
   "cell_type": "code",
   "execution_count": 1,
   "metadata": {},
   "outputs": [],
   "source": [
    "import pandas as pd"
   ]
  },
  {
   "cell_type": "code",
   "execution_count": 2,
   "metadata": {},
   "outputs": [],
   "source": [
    "def print_data(series: pd.Series) -> None:\n",
    "    print(series.value_counts())\n",
    "    print()\n",
    "    print(f\"Massimo: {series.max()}\\nMinimo: {series.min()}\\nMedia: {series.mean()}\\nVarianza: {series.var()}\")"
   ]
  },
  {
   "attachments": {},
   "cell_type": "markdown",
   "metadata": {},
   "source": [
    "## Asconprfav12"
   ]
  },
  {
   "cell_type": "code",
   "execution_count": 3,
   "metadata": {},
   "outputs": [],
   "source": [
    "path = \"../asconprfav12/data/{}.csv\""
   ]
  },
  {
   "attachments": {},
   "cell_type": "markdown",
   "metadata": {},
   "source": [
    "### Armv7m"
   ]
  },
  {
   "cell_type": "code",
   "execution_count": 4,
   "metadata": {},
   "outputs": [],
   "source": [
    "with open(path.format(\"armv7m\"), \"r\") as f:\n",
    "    aprfa_armv7m = pd.read_csv(f, delimiter=\";\")"
   ]
  },
  {
   "attachments": {},
   "cell_type": "markdown",
   "metadata": {},
   "source": [
    "#### PT vuoto"
   ]
  },
  {
   "cell_type": "code",
   "execution_count": 5,
   "metadata": {},
   "outputs": [
    {
     "name": "stdout",
     "output_type": "stream",
     "text": [
      "0B-A\n",
      "44    956\n",
      "45     44\n",
      "Name: count, dtype: int64\n",
      "\n",
      "Massimo: 45\n",
      "Minimo: 44\n",
      "Media: 44.044\n",
      "Varianza: 0.04210610610610611\n"
     ]
    }
   ],
   "source": [
    "# Generazione tag\n",
    "data = aprfa_armv7m[\"0B-A\"]\n",
    "\n",
    "print_data(data)"
   ]
  },
  {
   "cell_type": "code",
   "execution_count": 6,
   "metadata": {},
   "outputs": [
    {
     "name": "stdout",
     "output_type": "stream",
     "text": [
      "0B-V\n",
      "95    912\n",
      "96     88\n",
      "Name: count, dtype: int64\n",
      "\n",
      "Massimo: 96\n",
      "Minimo: 95\n",
      "Media: 95.088\n",
      "Varianza: 0.08033633633633637\n"
     ]
    }
   ],
   "source": [
    "# Verifica tag\n",
    "data = aprfa_armv7m[\"0B-V\"]\n",
    "\n",
    "print_data(data)"
   ]
  },
  {
   "attachments": {},
   "cell_type": "markdown",
   "metadata": {},
   "source": [
    "#### PT 8 byte"
   ]
  },
  {
   "cell_type": "code",
   "execution_count": 7,
   "metadata": {},
   "outputs": [
    {
     "name": "stdout",
     "output_type": "stream",
     "text": [
      "8B-A\n",
      "44    955\n",
      "45     45\n",
      "Name: count, dtype: int64\n",
      "\n",
      "Massimo: 45\n",
      "Minimo: 44\n",
      "Media: 44.045\n",
      "Varianza: 0.04301801801801802\n"
     ]
    }
   ],
   "source": [
    "# Generazione tag\n",
    "data = aprfa_armv7m[\"8B-A\"]\n",
    "\n",
    "print_data(data)"
   ]
  },
  {
   "cell_type": "code",
   "execution_count": 8,
   "metadata": {},
   "outputs": [
    {
     "name": "stdout",
     "output_type": "stream",
     "text": [
      "8B-V\n",
      "96    955\n",
      "97     44\n",
      "95      1\n",
      "Name: count, dtype: int64\n",
      "\n",
      "Massimo: 97\n",
      "Minimo: 95\n",
      "Media: 96.043\n",
      "Varianza: 0.043194194194194194\n"
     ]
    }
   ],
   "source": [
    "# Verifica tag\n",
    "data = aprfa_armv7m[\"8B-V\"]\n",
    "\n",
    "print_data(data)"
   ]
  },
  {
   "attachments": {},
   "cell_type": "markdown",
   "metadata": {},
   "source": [
    "#### PT 16 byte"
   ]
  },
  {
   "cell_type": "code",
   "execution_count": 9,
   "metadata": {},
   "outputs": [
    {
     "name": "stdout",
     "output_type": "stream",
     "text": [
      "16B-A\n",
      "45    955\n",
      "46     45\n",
      "Name: count, dtype: int64\n",
      "\n",
      "Massimo: 46\n",
      "Minimo: 45\n",
      "Media: 45.045\n",
      "Varianza: 0.04301801801801803\n"
     ]
    }
   ],
   "source": [
    "# Generazione tag\n",
    "data = aprfa_armv7m[\"16B-A\"]\n",
    "\n",
    "print_data(data)"
   ]
  },
  {
   "cell_type": "code",
   "execution_count": 10,
   "metadata": {},
   "outputs": [
    {
     "name": "stdout",
     "output_type": "stream",
     "text": [
      "16B-V\n",
      "97    910\n",
      "98     89\n",
      "96      1\n",
      "Name: count, dtype: int64\n",
      "\n",
      "Massimo: 98\n",
      "Minimo: 96\n",
      "Media: 97.088\n",
      "Varianza: 0.08233833833833837\n"
     ]
    }
   ],
   "source": [
    "# Verifica tag\n",
    "data = aprfa_armv7m[\"16B-V\"]\n",
    "\n",
    "print_data(data)"
   ]
  },
  {
   "attachments": {},
   "cell_type": "markdown",
   "metadata": {},
   "source": [
    "#### PT 32 byte"
   ]
  },
  {
   "cell_type": "code",
   "execution_count": 11,
   "metadata": {},
   "outputs": [
    {
     "name": "stdout",
     "output_type": "stream",
     "text": [
      "32B-A\n",
      "46    955\n",
      "47     45\n",
      "Name: count, dtype: int64\n",
      "\n",
      "Massimo: 47\n",
      "Minimo: 46\n",
      "Media: 46.045\n",
      "Varianza: 0.04301801801801802\n"
     ]
    }
   ],
   "source": [
    "# Generazione tag\n",
    "data = aprfa_armv7m[\"32B-A\"]\n",
    "\n",
    "print_data(data)"
   ]
  },
  {
   "cell_type": "code",
   "execution_count": 12,
   "metadata": {},
   "outputs": [
    {
     "name": "stdout",
     "output_type": "stream",
     "text": [
      "32B-V\n",
      "99     957\n",
      "100     43\n",
      "Name: count, dtype: int64\n",
      "\n",
      "Massimo: 100\n",
      "Minimo: 99\n",
      "Media: 99.043\n",
      "Varianza: 0.04119219219219219\n"
     ]
    }
   ],
   "source": [
    "# Verifica tag\n",
    "data = aprfa_armv7m[\"32B-V\"]\n",
    "\n",
    "print_data(data)"
   ]
  },
  {
   "attachments": {},
   "cell_type": "markdown",
   "metadata": {},
   "source": [
    "#### PT 64 byte"
   ]
  },
  {
   "cell_type": "code",
   "execution_count": 13,
   "metadata": {},
   "outputs": [
    {
     "name": "stdout",
     "output_type": "stream",
     "text": [
      "64B-A\n",
      "62    957\n",
      "63     43\n",
      "Name: count, dtype: int64\n",
      "\n",
      "Massimo: 63\n",
      "Minimo: 62\n",
      "Media: 62.043\n",
      "Varianza: 0.041192192192192216\n"
     ]
    }
   ],
   "source": [
    "# Generazione tag\n",
    "data = aprfa_armv7m[\"64B-A\"]\n",
    "\n",
    "print_data(data)"
   ]
  },
  {
   "cell_type": "code",
   "execution_count": 14,
   "metadata": {},
   "outputs": [
    {
     "name": "stdout",
     "output_type": "stream",
     "text": [
      "64B-V\n",
      "131    867\n",
      "132    133\n",
      "Name: count, dtype: int64\n",
      "\n",
      "Massimo: 132\n",
      "Minimo: 131\n",
      "Media: 131.133\n",
      "Varianza: 0.11542642642642642\n"
     ]
    }
   ],
   "source": [
    "# Verifica tag\n",
    "data = aprfa_armv7m[\"64B-V\"]\n",
    "\n",
    "print_data(data)"
   ]
  },
  {
   "attachments": {},
   "cell_type": "markdown",
   "metadata": {},
   "source": [
    "#### PT 128 byte"
   ]
  },
  {
   "cell_type": "code",
   "execution_count": 15,
   "metadata": {},
   "outputs": [
    {
     "name": "stdout",
     "output_type": "stream",
     "text": [
      "128B-A\n",
      "93    912\n",
      "94     88\n",
      "Name: count, dtype: int64\n",
      "\n",
      "Massimo: 94\n",
      "Minimo: 93\n",
      "Media: 93.088\n",
      "Varianza: 0.08033633633633637\n"
     ]
    }
   ],
   "source": [
    "# Generazione tag\n",
    "data = aprfa_armv7m[\"128B-A\"]\n",
    "\n",
    "print_data(data)"
   ]
  },
  {
   "cell_type": "code",
   "execution_count": 16,
   "metadata": {},
   "outputs": [
    {
     "name": "stdout",
     "output_type": "stream",
     "text": [
      "128B-V\n",
      "194    826\n",
      "195    173\n",
      "193      1\n",
      "Name: count, dtype: int64\n",
      "\n",
      "Massimo: 195\n",
      "Minimo: 193\n",
      "Media: 194.172\n",
      "Varianza: 0.1445605605605605\n"
     ]
    }
   ],
   "source": [
    "# Verifica tag\n",
    "data = aprfa_armv7m[\"128B-V\"]\n",
    "\n",
    "print_data(data)"
   ]
  },
  {
   "attachments": {},
   "cell_type": "markdown",
   "metadata": {},
   "source": [
    "#### PT 256 byte"
   ]
  },
  {
   "cell_type": "code",
   "execution_count": 17,
   "metadata": {},
   "outputs": [
    {
     "name": "stdout",
     "output_type": "stream",
     "text": [
      "256B-A\n",
      "143    871\n",
      "144    129\n",
      "Name: count, dtype: int64\n",
      "\n",
      "Massimo: 144\n",
      "Minimo: 143\n",
      "Media: 143.129\n",
      "Varianza: 0.11247147147147148\n"
     ]
    }
   ],
   "source": [
    "# Generazione tag\n",
    "data = aprfa_armv7m[\"256B-A\"]\n",
    "\n",
    "print_data(data)"
   ]
  },
  {
   "cell_type": "code",
   "execution_count": 18,
   "metadata": {},
   "outputs": [
    {
     "name": "stdout",
     "output_type": "stream",
     "text": [
      "256B-V\n",
      "292    739\n",
      "294    261\n",
      "Name: count, dtype: int64\n",
      "\n",
      "Massimo: 294\n",
      "Minimo: 292\n",
      "Media: 292.522\n",
      "Varianza: 0.7722882882882883\n"
     ]
    }
   ],
   "source": [
    "# Verifica tag\n",
    "data = aprfa_armv7m[\"256B-V\"]\n",
    "\n",
    "print_data(data)"
   ]
  },
  {
   "attachments": {},
   "cell_type": "markdown",
   "metadata": {},
   "source": [
    "#### PT 512 byte"
   ]
  },
  {
   "cell_type": "code",
   "execution_count": 19,
   "metadata": {},
   "outputs": [
    {
     "name": "stdout",
     "output_type": "stream",
     "text": [
      "512B-A\n",
      "241    737\n",
      "242    262\n",
      "243      1\n",
      "Name: count, dtype: int64\n",
      "\n",
      "Massimo: 243\n",
      "Minimo: 241\n",
      "Media: 241.264\n",
      "Varianza: 0.19650050050050052\n"
     ]
    }
   ],
   "source": [
    "# Generazione tag\n",
    "data = aprfa_armv7m[\"512B-A\"]\n",
    "\n",
    "print_data(data)"
   ]
  },
  {
   "cell_type": "code",
   "execution_count": 20,
   "metadata": {},
   "outputs": [
    {
     "name": "stdout",
     "output_type": "stream",
     "text": [
      "512B-V\n",
      "490    521\n",
      "491    478\n",
      "492      1\n",
      "Name: count, dtype: int64\n",
      "\n",
      "Massimo: 492\n",
      "Minimo: 490\n",
      "Media: 490.48\n",
      "Varianza: 0.25185185185185177\n"
     ]
    }
   ],
   "source": [
    "# Verifica tag\n",
    "data = aprfa_armv7m[\"512B-V\"]\n",
    "\n",
    "print_data(data)"
   ]
  },
  {
   "attachments": {},
   "cell_type": "markdown",
   "metadata": {},
   "source": [
    "#### PT 1024 byte"
   ]
  },
  {
   "cell_type": "code",
   "execution_count": 21,
   "metadata": {},
   "outputs": [
    {
     "name": "stdout",
     "output_type": "stream",
     "text": [
      "1024B-A\n",
      "454    480\n",
      "452    304\n",
      "453    216\n",
      "Name: count, dtype: int64\n",
      "\n",
      "Massimo: 454\n",
      "Minimo: 452\n",
      "Media: 453.176\n",
      "Varianza: 0.7537777777777777\n"
     ]
    }
   ],
   "source": [
    "# Generazione tag\n",
    "data = aprfa_armv7m[\"1024B-A\"]\n",
    "\n",
    "print_data(data)"
   ]
  },
  {
   "cell_type": "code",
   "execution_count": 22,
   "metadata": {},
   "outputs": [
    {
     "name": "stdout",
     "output_type": "stream",
     "text": [
      "1024B-V\n",
      "913    565\n",
      "914    349\n",
      "912     86\n",
      "Name: count, dtype: int64\n",
      "\n",
      "Massimo: 914\n",
      "Minimo: 912\n",
      "Media: 913.263\n",
      "Varianza: 0.3661971971971971\n"
     ]
    }
   ],
   "source": [
    "# Verifica tag\n",
    "data = aprfa_armv7m[\"1024B-V\"]\n",
    "\n",
    "print_data(data)"
   ]
  },
  {
   "attachments": {},
   "cell_type": "markdown",
   "metadata": {},
   "source": [
    "### Armv7m_small"
   ]
  },
  {
   "cell_type": "code",
   "execution_count": 23,
   "metadata": {},
   "outputs": [],
   "source": [
    "with open(path.format(\"armv7m_small\"), \"r\") as f:\n",
    "    aprfa_small = pd.read_csv(f, delimiter=\";\")"
   ]
  },
  {
   "cell_type": "markdown",
   "metadata": {},
   "source": [
    "#### PT vuoto"
   ]
  },
  {
   "cell_type": "code",
   "execution_count": 24,
   "metadata": {},
   "outputs": [
    {
     "name": "stdout",
     "output_type": "stream",
     "text": [
      "0B-A\n",
      "38    958\n",
      "39     41\n",
      "40      1\n",
      "Name: count, dtype: int64\n",
      "\n",
      "Massimo: 40\n",
      "Minimo: 38\n",
      "Media: 38.043\n",
      "Varianza: 0.04319419419419422\n"
     ]
    }
   ],
   "source": [
    "# Generazione tag\n",
    "data = aprfa_small[\"0B-A\"]\n",
    "\n",
    "print_data(data)"
   ]
  },
  {
   "cell_type": "code",
   "execution_count": 25,
   "metadata": {},
   "outputs": [
    {
     "name": "stdout",
     "output_type": "stream",
     "text": [
      "0B-V\n",
      "80    918\n",
      "81     80\n",
      "79      2\n",
      "Name: count, dtype: int64\n",
      "\n",
      "Massimo: 81\n",
      "Minimo: 79\n",
      "Media: 80.078\n",
      "Varianza: 0.07599199199199196\n"
     ]
    }
   ],
   "source": [
    "# Verifica tag\n",
    "data = aprfa_small[\"0B-V\"]\n",
    "\n",
    "print_data(data)"
   ]
  },
  {
   "attachments": {},
   "cell_type": "markdown",
   "metadata": {},
   "source": [
    "#### PT 8 byte"
   ]
  },
  {
   "cell_type": "code",
   "execution_count": 26,
   "metadata": {},
   "outputs": [
    {
     "name": "stdout",
     "output_type": "stream",
     "text": [
      "8B-A\n",
      "38    957\n",
      "40     40\n",
      "39      3\n",
      "Name: count, dtype: int64\n",
      "\n",
      "Massimo: 40\n",
      "Minimo: 38\n",
      "Media: 38.083\n",
      "Varianza: 0.15626726726726725\n"
     ]
    }
   ],
   "source": [
    "# Generazione tag\n",
    "data = aprfa_small[\"8B-A\"]\n",
    "\n",
    "print_data(data)"
   ]
  },
  {
   "cell_type": "code",
   "execution_count": 27,
   "metadata": {},
   "outputs": [
    {
     "name": "stdout",
     "output_type": "stream",
     "text": [
      "8B-V\n",
      "81    918\n",
      "82     80\n",
      "80      2\n",
      "Name: count, dtype: int64\n",
      "\n",
      "Massimo: 82\n",
      "Minimo: 80\n",
      "Media: 81.078\n",
      "Varianza: 0.07599199199199197\n"
     ]
    }
   ],
   "source": [
    "# Verifica tag\n",
    "data = aprfa_small[\"8B-V\"]\n",
    "\n",
    "print_data(data)"
   ]
  },
  {
   "attachments": {},
   "cell_type": "markdown",
   "metadata": {},
   "source": [
    "#### PT 16 byte"
   ]
  },
  {
   "cell_type": "code",
   "execution_count": 28,
   "metadata": {},
   "outputs": [
    {
     "name": "stdout",
     "output_type": "stream",
     "text": [
      "16B-A\n",
      "39    960\n",
      "40     40\n",
      "Name: count, dtype: int64\n",
      "\n",
      "Massimo: 40\n",
      "Minimo: 39\n",
      "Media: 39.04\n",
      "Varianza: 0.038438438438438444\n"
     ]
    }
   ],
   "source": [
    "# Generazione tag\n",
    "data = aprfa_small[\"16B-A\"]\n",
    "\n",
    "print_data(data)"
   ]
  },
  {
   "cell_type": "code",
   "execution_count": 29,
   "metadata": {},
   "outputs": [
    {
     "name": "stdout",
     "output_type": "stream",
     "text": [
      "16B-V\n",
      "81    920\n",
      "83     80\n",
      "Name: count, dtype: int64\n",
      "\n",
      "Massimo: 83\n",
      "Minimo: 81\n",
      "Media: 81.16\n",
      "Varianza: 0.2946946946946948\n"
     ]
    }
   ],
   "source": [
    "# Verifica tag\n",
    "data = aprfa_small[\"16B-V\"]\n",
    "\n",
    "print_data(data)"
   ]
  },
  {
   "attachments": {},
   "cell_type": "markdown",
   "metadata": {},
   "source": [
    "#### PT 32 byte"
   ]
  },
  {
   "cell_type": "code",
   "execution_count": 30,
   "metadata": {},
   "outputs": [
    {
     "name": "stdout",
     "output_type": "stream",
     "text": [
      "32B-A\n",
      "40    960\n",
      "41     40\n",
      "Name: count, dtype: int64\n",
      "\n",
      "Massimo: 41\n",
      "Minimo: 40\n",
      "Media: 40.04\n",
      "Varianza: 0.038438438438438444\n"
     ]
    }
   ],
   "source": [
    "# Generazione tag\n",
    "data = aprfa_small[\"32B-A\"]\n",
    "\n",
    "print_data(data)"
   ]
  },
  {
   "cell_type": "code",
   "execution_count": 31,
   "metadata": {},
   "outputs": [
    {
     "name": "stdout",
     "output_type": "stream",
     "text": [
      "32B-V\n",
      "83    918\n",
      "84     81\n",
      "82      1\n",
      "Name: count, dtype: int64\n",
      "\n",
      "Massimo: 84\n",
      "Minimo: 82\n",
      "Media: 83.08\n",
      "Varianza: 0.0756756756756757\n"
     ]
    }
   ],
   "source": [
    "# Verifica tag\n",
    "data = aprfa_small[\"32B-V\"]\n",
    "\n",
    "print_data(data)"
   ]
  },
  {
   "attachments": {},
   "cell_type": "markdown",
   "metadata": {},
   "source": [
    "#### PT 64 byte"
   ]
  },
  {
   "cell_type": "code",
   "execution_count": 32,
   "metadata": {},
   "outputs": [
    {
     "name": "stdout",
     "output_type": "stream",
     "text": [
      "64B-A\n",
      "53    960\n",
      "54     40\n",
      "Name: count, dtype: int64\n",
      "\n",
      "Massimo: 54\n",
      "Minimo: 53\n",
      "Media: 53.04\n",
      "Varianza: 0.038438438438438444\n"
     ]
    }
   ],
   "source": [
    "# Generazione tag\n",
    "data = aprfa_small[\"64B-A\"]\n",
    "\n",
    "print_data(data)"
   ]
  },
  {
   "cell_type": "code",
   "execution_count": 33,
   "metadata": {},
   "outputs": [
    {
     "name": "stdout",
     "output_type": "stream",
     "text": [
      "64B-V\n",
      "110    879\n",
      "111    120\n",
      "109      1\n",
      "Name: count, dtype: int64\n",
      "\n",
      "Massimo: 111\n",
      "Minimo: 109\n",
      "Media: 110.119\n",
      "Varianza: 0.10694594594594595\n"
     ]
    }
   ],
   "source": [
    "# Verifica tag\n",
    "data = aprfa_small[\"64B-V\"]\n",
    "\n",
    "print_data(data)"
   ]
  },
  {
   "attachments": {},
   "cell_type": "markdown",
   "metadata": {},
   "source": [
    "#### PT 128 byte"
   ]
  },
  {
   "cell_type": "code",
   "execution_count": 34,
   "metadata": {},
   "outputs": [
    {
     "name": "stdout",
     "output_type": "stream",
     "text": [
      "128B-A\n",
      "80    919\n",
      "81     81\n",
      "Name: count, dtype: int64\n",
      "\n",
      "Massimo: 81\n",
      "Minimo: 80\n",
      "Media: 80.081\n",
      "Varianza: 0.07451351351351351\n"
     ]
    }
   ],
   "source": [
    "# Generazione tag\n",
    "data = aprfa_small[\"128B-A\"]\n",
    "\n",
    "print_data(data)"
   ]
  },
  {
   "cell_type": "code",
   "execution_count": 35,
   "metadata": {},
   "outputs": [
    {
     "name": "stdout",
     "output_type": "stream",
     "text": [
      "128B-V\n",
      "163    839\n",
      "164    161\n",
      "Name: count, dtype: int64\n",
      "\n",
      "Massimo: 164\n",
      "Minimo: 163\n",
      "Media: 163.161\n",
      "Varianza: 0.13521421421421423\n"
     ]
    }
   ],
   "source": [
    "# Verifica tag\n",
    "data = aprfa_small[\"128B-V\"]\n",
    "\n",
    "print_data(data)"
   ]
  },
  {
   "attachments": {},
   "cell_type": "markdown",
   "metadata": {},
   "source": [
    "#### PT 256 byte"
   ]
  },
  {
   "cell_type": "code",
   "execution_count": 36,
   "metadata": {},
   "outputs": [
    {
     "name": "stdout",
     "output_type": "stream",
     "text": [
      "256B-A\n",
      "122    880\n",
      "123    120\n",
      "Name: count, dtype: int64\n",
      "\n",
      "Massimo: 123\n",
      "Minimo: 122\n",
      "Media: 122.12\n",
      "Varianza: 0.1057057057057057\n"
     ]
    }
   ],
   "source": [
    "# Generazione tag\n",
    "data = aprfa_small[\"256B-A\"]\n",
    "\n",
    "print_data(data)"
   ]
  },
  {
   "cell_type": "code",
   "execution_count": 37,
   "metadata": {},
   "outputs": [
    {
     "name": "stdout",
     "output_type": "stream",
     "text": [
      "256B-V\n",
      "247    760\n",
      "248    240\n",
      "Name: count, dtype: int64\n",
      "\n",
      "Massimo: 248\n",
      "Minimo: 247\n",
      "Media: 247.24\n",
      "Varianza: 0.18258258258258253\n"
     ]
    }
   ],
   "source": [
    "# Verifica tag\n",
    "data = aprfa_small[\"256B-V\"]\n",
    "\n",
    "print_data(data)"
   ]
  },
  {
   "attachments": {},
   "cell_type": "markdown",
   "metadata": {},
   "source": [
    "#### PT 512 byte"
   ]
  },
  {
   "cell_type": "code",
   "execution_count": 38,
   "metadata": {},
   "outputs": [
    {
     "name": "stdout",
     "output_type": "stream",
     "text": [
      "512B-A\n",
      "205    799\n",
      "206    200\n",
      "207      1\n",
      "Name: count, dtype: int64\n",
      "\n",
      "Massimo: 207\n",
      "Minimo: 205\n",
      "Media: 205.202\n",
      "Varianza: 0.16335935935935933\n"
     ]
    }
   ],
   "source": [
    "# Generazione tag\n",
    "data = aprfa_small[\"512B-A\"]\n",
    "\n",
    "print_data(data)"
   ]
  },
  {
   "cell_type": "code",
   "execution_count": 39,
   "metadata": {},
   "outputs": [
    {
     "name": "stdout",
     "output_type": "stream",
     "text": [
      "512B-V\n",
      "414    599\n",
      "416    400\n",
      "415      1\n",
      "Name: count, dtype: int64\n",
      "\n",
      "Massimo: 416\n",
      "Minimo: 414\n",
      "Media: 414.801\n",
      "Varianza: 0.9603593593593593\n"
     ]
    }
   ],
   "source": [
    "# Verifica tag\n",
    "data = aprfa_small[\"512B-V\"]\n",
    "\n",
    "print_data(data)"
   ]
  },
  {
   "attachments": {},
   "cell_type": "markdown",
   "metadata": {},
   "source": [
    "#### PT 1024 byte"
   ]
  },
  {
   "cell_type": "code",
   "execution_count": 40,
   "metadata": {},
   "outputs": [
    {
     "name": "stdout",
     "output_type": "stream",
     "text": [
      "1024B-A\n",
      "384    599\n",
      "385    400\n",
      "386      1\n",
      "Name: count, dtype: int64\n",
      "\n",
      "Massimo: 386\n",
      "Minimo: 384\n",
      "Media: 384.402\n",
      "Varianza: 0.24263863863863866\n"
     ]
    }
   ],
   "source": [
    "# Generazione tag\n",
    "data = aprfa_small[\"1024B-A\"]\n",
    "\n",
    "print_data(data)"
   ]
  },
  {
   "cell_type": "code",
   "execution_count": 41,
   "metadata": {},
   "outputs": [
    {
     "name": "stdout",
     "output_type": "stream",
     "text": [
      "1024B-V\n",
      "773    761\n",
      "772    239\n",
      "Name: count, dtype: int64\n",
      "\n",
      "Massimo: 773\n",
      "Minimo: 772\n",
      "Media: 772.761\n",
      "Varianza: 0.182061061061061\n"
     ]
    }
   ],
   "source": [
    "# Verifica tag\n",
    "data = aprfa_small[\"1024B-V\"]\n",
    "\n",
    "print_data(data)"
   ]
  },
  {
   "attachments": {},
   "cell_type": "markdown",
   "metadata": {},
   "source": [
    "### Bi32_armv7m"
   ]
  },
  {
   "cell_type": "code",
   "execution_count": 42,
   "metadata": {},
   "outputs": [],
   "source": [
    "with open(path.format(\"bi32_armv7m\"), \"r\") as f:\n",
    "    aprfa_bi32 = pd.read_csv(f, delimiter=\";\")"
   ]
  },
  {
   "attachments": {},
   "cell_type": "markdown",
   "metadata": {},
   "source": [
    "#### PT vuoto"
   ]
  },
  {
   "cell_type": "code",
   "execution_count": 43,
   "metadata": {},
   "outputs": [
    {
     "name": "stdout",
     "output_type": "stream",
     "text": [
      "0B-A\n",
      "36    838\n",
      "37    122\n",
      "38     40\n",
      "Name: count, dtype: int64\n",
      "\n",
      "Massimo: 38\n",
      "Minimo: 36\n",
      "Media: 36.202\n",
      "Varianza: 0.2414374374374375\n"
     ]
    }
   ],
   "source": [
    "# Generazione tag\n",
    "data = aprfa_bi32[\"0B-A\"]\n",
    "\n",
    "print_data(data)"
   ]
  },
  {
   "cell_type": "code",
   "execution_count": 44,
   "metadata": {},
   "outputs": [
    {
     "name": "stdout",
     "output_type": "stream",
     "text": [
      "0B-V\n",
      "80    920\n",
      "81     80\n",
      "Name: count, dtype: int64\n",
      "\n",
      "Massimo: 81\n",
      "Minimo: 80\n",
      "Media: 80.08\n",
      "Varianza: 0.0736736736736737\n"
     ]
    }
   ],
   "source": [
    "# Verifica tag\n",
    "data = aprfa_bi32[\"0B-V\"]\n",
    "\n",
    "print_data(data)"
   ]
  },
  {
   "attachments": {},
   "cell_type": "markdown",
   "metadata": {},
   "source": [
    "#### PT 8 byte"
   ]
  },
  {
   "cell_type": "code",
   "execution_count": 45,
   "metadata": {},
   "outputs": [
    {
     "name": "stdout",
     "output_type": "stream",
     "text": [
      "8B-A\n",
      "38    957\n",
      "39     43\n",
      "Name: count, dtype: int64\n",
      "\n",
      "Massimo: 39\n",
      "Minimo: 38\n",
      "Media: 38.043\n",
      "Varianza: 0.04119219219219221\n"
     ]
    }
   ],
   "source": [
    "# Generazione tag\n",
    "data = aprfa_bi32[\"8B-A\"]\n",
    "\n",
    "print_data(data)"
   ]
  },
  {
   "cell_type": "code",
   "execution_count": 46,
   "metadata": {},
   "outputs": [
    {
     "name": "stdout",
     "output_type": "stream",
     "text": [
      "8B-V\n",
      "83    917\n",
      "84     81\n",
      "82      2\n",
      "Name: count, dtype: int64\n",
      "\n",
      "Massimo: 84\n",
      "Minimo: 82\n",
      "Media: 83.079\n",
      "Varianza: 0.07683583583583582\n"
     ]
    }
   ],
   "source": [
    "# Verifica tag\n",
    "data = aprfa_bi32[\"8B-V\"]\n",
    "\n",
    "print_data(data)"
   ]
  },
  {
   "attachments": {},
   "cell_type": "markdown",
   "metadata": {},
   "source": [
    "#### PT 16 byte"
   ]
  },
  {
   "cell_type": "code",
   "execution_count": 47,
   "metadata": {},
   "outputs": [
    {
     "name": "stdout",
     "output_type": "stream",
     "text": [
      "16B-A\n",
      "39    719\n",
      "40    240\n",
      "41     41\n",
      "Name: count, dtype: int64\n",
      "\n",
      "Massimo: 41\n",
      "Minimo: 39\n",
      "Media: 39.322\n",
      "Varianza: 0.30061661661661665\n"
     ]
    }
   ],
   "source": [
    "# Generazione tag\n",
    "data = aprfa_bi32[\"16B-A\"]\n",
    "\n",
    "print_data(data)"
   ]
  },
  {
   "cell_type": "code",
   "execution_count": 48,
   "metadata": {},
   "outputs": [
    {
     "name": "stdout",
     "output_type": "stream",
     "text": [
      "16B-V\n",
      "86    918\n",
      "88     80\n",
      "87      2\n",
      "Name: count, dtype: int64\n",
      "\n",
      "Massimo: 88\n",
      "Minimo: 86\n",
      "Media: 86.162\n",
      "Varianza: 0.29605205205205204\n"
     ]
    }
   ],
   "source": [
    "# Verifica tag\n",
    "data = aprfa_bi32[\"16B-V\"]\n",
    "\n",
    "print_data(data)"
   ]
  },
  {
   "attachments": {},
   "cell_type": "markdown",
   "metadata": {},
   "source": [
    "#### PT 32 byte"
   ]
  },
  {
   "cell_type": "code",
   "execution_count": 49,
   "metadata": {},
   "outputs": [
    {
     "name": "stdout",
     "output_type": "stream",
     "text": [
      "32B-A\n",
      "43    960\n",
      "44     40\n",
      "Name: count, dtype: int64\n",
      "\n",
      "Massimo: 44\n",
      "Minimo: 43\n",
      "Media: 43.04\n",
      "Varianza: 0.038438438438438444\n"
     ]
    }
   ],
   "source": [
    "# Generazione tag\n",
    "data = aprfa_bi32[\"32B-A\"]\n",
    "\n",
    "print_data(data)"
   ]
  },
  {
   "cell_type": "code",
   "execution_count": 50,
   "metadata": {},
   "outputs": [
    {
     "name": "stdout",
     "output_type": "stream",
     "text": [
      "32B-V\n",
      "93    919\n",
      "94     80\n",
      "92      1\n",
      "Name: count, dtype: int64\n",
      "\n",
      "Massimo: 94\n",
      "Minimo: 92\n",
      "Media: 93.079\n",
      "Varianza: 0.07483383383383382\n"
     ]
    }
   ],
   "source": [
    "# Verifica tag\n",
    "data = aprfa_bi32[\"32B-V\"]\n",
    "\n",
    "print_data(data)"
   ]
  },
  {
   "attachments": {},
   "cell_type": "markdown",
   "metadata": {},
   "source": [
    "#### PT 64 byte"
   ]
  },
  {
   "cell_type": "code",
   "execution_count": 51,
   "metadata": {},
   "outputs": [
    {
     "name": "stdout",
     "output_type": "stream",
     "text": [
      "64B-A\n",
      "59    961\n",
      "60     39\n",
      "Name: count, dtype: int64\n",
      "\n",
      "Massimo: 60\n",
      "Minimo: 59\n",
      "Media: 59.039\n",
      "Varianza: 0.03751651651651652\n"
     ]
    }
   ],
   "source": [
    "# Generazione tag\n",
    "data = aprfa_bi32[\"64B-A\"]\n",
    "\n",
    "print_data(data)"
   ]
  },
  {
   "cell_type": "code",
   "execution_count": 52,
   "metadata": {},
   "outputs": [
    {
     "name": "stdout",
     "output_type": "stream",
     "text": [
      "64B-V\n",
      "124    880\n",
      "126    120\n",
      "Name: count, dtype: int64\n",
      "\n",
      "Massimo: 126\n",
      "Minimo: 124\n",
      "Media: 124.24\n",
      "Varianza: 0.4228228228228228\n"
     ]
    }
   ],
   "source": [
    "# Verifica tag\n",
    "data = aprfa_bi32[\"64B-V\"]\n",
    "\n",
    "print_data(data)"
   ]
  },
  {
   "attachments": {},
   "cell_type": "markdown",
   "metadata": {},
   "source": [
    "#### PT 128 byte"
   ]
  },
  {
   "cell_type": "code",
   "execution_count": 53,
   "metadata": {},
   "outputs": [
    {
     "name": "stdout",
     "output_type": "stream",
     "text": [
      "128B-A\n",
      "90    918\n",
      "91     82\n",
      "Name: count, dtype: int64\n",
      "\n",
      "Massimo: 91\n",
      "Minimo: 90\n",
      "Media: 90.082\n",
      "Varianza: 0.07535135135135136\n"
     ]
    }
   ],
   "source": [
    "# Generazione tag\n",
    "data = aprfa_bi32[\"128B-A\"]\n",
    "\n",
    "print_data(data)"
   ]
  },
  {
   "cell_type": "code",
   "execution_count": 54,
   "metadata": {},
   "outputs": [
    {
     "name": "stdout",
     "output_type": "stream",
     "text": [
      "128B-V\n",
      "188    798\n",
      "189    201\n",
      "187      1\n",
      "Name: count, dtype: int64\n",
      "\n",
      "Massimo: 189\n",
      "Minimo: 187\n",
      "Media: 188.2\n",
      "Varianza: 0.1621621621621622\n"
     ]
    }
   ],
   "source": [
    "# Verifica tag\n",
    "data = aprfa_bi32[\"128B-V\"]\n",
    "\n",
    "print_data(data)"
   ]
  },
  {
   "attachments": {},
   "cell_type": "markdown",
   "metadata": {},
   "source": [
    "#### PT 256 byte"
   ]
  },
  {
   "cell_type": "code",
   "execution_count": 55,
   "metadata": {},
   "outputs": [
    {
     "name": "stdout",
     "output_type": "stream",
     "text": [
      "256B-A\n",
      "144    719\n",
      "146    161\n",
      "145    120\n",
      "Name: count, dtype: int64\n",
      "\n",
      "Massimo: 146\n",
      "Minimo: 144\n",
      "Media: 144.442\n",
      "Varianza: 0.5692052052052053\n"
     ]
    }
   ],
   "source": [
    "# Generazione tag\n",
    "data = aprfa_bi32[\"256B-A\"]\n",
    "\n",
    "print_data(data)"
   ]
  },
  {
   "cell_type": "code",
   "execution_count": 56,
   "metadata": {},
   "outputs": [
    {
     "name": "stdout",
     "output_type": "stream",
     "text": [
      "256B-V\n",
      "296    719\n",
      "297    281\n",
      "Name: count, dtype: int64\n",
      "\n",
      "Massimo: 297\n",
      "Minimo: 296\n",
      "Media: 296.281\n",
      "Varianza: 0.2022412412412412\n"
     ]
    }
   ],
   "source": [
    "# Verifica tag\n",
    "data = aprfa_bi32[\"256B-V\"]\n",
    "\n",
    "print_data(data)"
   ]
  },
  {
   "attachments": {},
   "cell_type": "markdown",
   "metadata": {},
   "source": [
    "#### PT 512 byte"
   ]
  },
  {
   "cell_type": "code",
   "execution_count": 57,
   "metadata": {},
   "outputs": [
    {
     "name": "stdout",
     "output_type": "stream",
     "text": [
      "512B-A\n",
      "253    759\n",
      "254    240\n",
      "252      1\n",
      "Name: count, dtype: int64\n",
      "\n",
      "Massimo: 254\n",
      "Minimo: 252\n",
      "Media: 253.239\n",
      "Varianza: 0.18406306306306308\n"
     ]
    }
   ],
   "source": [
    "# Generazione tag\n",
    "data = aprfa_bi32[\"512B-A\"]\n",
    "\n",
    "print_data(data)"
   ]
  },
  {
   "cell_type": "code",
   "execution_count": 58,
   "metadata": {},
   "outputs": [
    {
     "name": "stdout",
     "output_type": "stream",
     "text": [
      "512B-V\n",
      "514    520\n",
      "512    479\n",
      "513      1\n",
      "Name: count, dtype: int64\n",
      "\n",
      "Massimo: 514\n",
      "Minimo: 512\n",
      "Media: 513.041\n",
      "Varianza: 0.9983173173173177\n"
     ]
    }
   ],
   "source": [
    "# Verifica tag\n",
    "data = aprfa_bi32[\"512B-V\"]\n",
    "\n",
    "print_data(data)"
   ]
  },
  {
   "attachments": {},
   "cell_type": "markdown",
   "metadata": {},
   "source": [
    "#### PT 1024 byte"
   ]
  },
  {
   "cell_type": "code",
   "execution_count": 59,
   "metadata": {},
   "outputs": [
    {
     "name": "stdout",
     "output_type": "stream",
     "text": [
      "1024B-A\n",
      "478    519\n",
      "479    479\n",
      "480      2\n",
      "Name: count, dtype: int64\n",
      "\n",
      "Massimo: 480\n",
      "Minimo: 478\n",
      "Media: 478.483\n",
      "Varianza: 0.253964964964965\n"
     ]
    }
   ],
   "source": [
    "# Generazione tag\n",
    "data = aprfa_bi32[\"1024B-A\"]\n",
    "\n",
    "print_data(data)"
   ]
  },
  {
   "cell_type": "code",
   "execution_count": 60,
   "metadata": {},
   "outputs": [
    {
     "name": "stdout",
     "output_type": "stream",
     "text": [
      "1024B-V\n",
      "965    958\n",
      "964     40\n",
      "966      2\n",
      "Name: count, dtype: int64\n",
      "\n",
      "Massimo: 966\n",
      "Minimo: 964\n",
      "Media: 964.962\n",
      "Varianza: 0.040596596596596576\n"
     ]
    }
   ],
   "source": [
    "# Verifica tag\n",
    "data = aprfa_bi32[\"1024B-V\"]\n",
    "\n",
    "print_data(data)"
   ]
  },
  {
   "attachments": {},
   "cell_type": "markdown",
   "metadata": {},
   "source": [
    "### Ref"
   ]
  },
  {
   "cell_type": "code",
   "execution_count": 61,
   "metadata": {},
   "outputs": [],
   "source": [
    "with open(path.format(\"ref\"), \"r\") as f:\n",
    "    aprfa_ref = pd.read_csv(f, delimiter=\";\")"
   ]
  },
  {
   "attachments": {},
   "cell_type": "markdown",
   "metadata": {},
   "source": [
    "#### PT vuoto"
   ]
  },
  {
   "cell_type": "code",
   "execution_count": 62,
   "metadata": {},
   "outputs": [
    {
     "name": "stdout",
     "output_type": "stream",
     "text": [
      "0B-A\n",
      "134    878\n",
      "135    121\n",
      "136      1\n",
      "Name: count, dtype: int64\n",
      "\n",
      "Massimo: 136\n",
      "Minimo: 134\n",
      "Media: 134.123\n",
      "Varianza: 0.109980980980981\n"
     ]
    }
   ],
   "source": [
    "# Generazione tag\n",
    "data = aprfa_ref[\"0B-A\"]\n",
    "\n",
    "print_data(data)"
   ]
  },
  {
   "cell_type": "code",
   "execution_count": 63,
   "metadata": {},
   "outputs": [
    {
     "name": "stdout",
     "output_type": "stream",
     "text": [
      "0B-V\n",
      "271    759\n",
      "272    240\n",
      "273      1\n",
      "Name: count, dtype: int64\n",
      "\n",
      "Massimo: 273\n",
      "Minimo: 271\n",
      "Media: 271.242\n",
      "Varianza: 0.1856216216216216\n"
     ]
    }
   ],
   "source": [
    "# Verifica tag\n",
    "data = aprfa_ref[\"0B-V\"]\n",
    "\n",
    "print_data(data)"
   ]
  },
  {
   "attachments": {},
   "cell_type": "markdown",
   "metadata": {},
   "source": [
    "#### PT 8 byte"
   ]
  },
  {
   "cell_type": "code",
   "execution_count": 64,
   "metadata": {},
   "outputs": [
    {
     "name": "stdout",
     "output_type": "stream",
     "text": [
      "8B-A\n",
      "139    799\n",
      "141    120\n",
      "140     81\n",
      "Name: count, dtype: int64\n",
      "\n",
      "Massimo: 141\n",
      "Minimo: 139\n",
      "Media: 139.321\n",
      "Varianza: 0.45841741741741737\n"
     ]
    }
   ],
   "source": [
    "# Generazione tag\n",
    "data = aprfa_ref[\"8B-A\"]\n",
    "\n",
    "print_data(data)"
   ]
  },
  {
   "cell_type": "code",
   "execution_count": 65,
   "metadata": {},
   "outputs": [
    {
     "name": "stdout",
     "output_type": "stream",
     "text": [
      "8B-V\n",
      "281    720\n",
      "283    278\n",
      "282      2\n",
      "Name: count, dtype: int64\n",
      "\n",
      "Massimo: 283\n",
      "Minimo: 281\n",
      "Media: 281.558\n",
      "Varianza: 0.8034394394394396\n"
     ]
    }
   ],
   "source": [
    "# Verifica tag\n",
    "data = aprfa_ref[\"8B-V\"]\n",
    "\n",
    "print_data(data)"
   ]
  },
  {
   "attachments": {},
   "cell_type": "markdown",
   "metadata": {},
   "source": [
    "#### PT 16 byte"
   ]
  },
  {
   "cell_type": "code",
   "execution_count": 66,
   "metadata": {},
   "outputs": [
    {
     "name": "stdout",
     "output_type": "stream",
     "text": [
      "16B-A\n",
      "145    878\n",
      "146    121\n",
      "144      1\n",
      "Name: count, dtype: int64\n",
      "\n",
      "Massimo: 146\n",
      "Minimo: 144\n",
      "Media: 145.12\n",
      "Varianza: 0.1077077077077077\n"
     ]
    }
   ],
   "source": [
    "# Generazione tag\n",
    "data = aprfa_ref[\"16B-A\"]\n",
    "\n",
    "print_data(data)"
   ]
  },
  {
   "cell_type": "code",
   "execution_count": 67,
   "metadata": {},
   "outputs": [
    {
     "name": "stdout",
     "output_type": "stream",
     "text": [
      "16B-V\n",
      "292    718\n",
      "293    280\n",
      "294      2\n",
      "Name: count, dtype: int64\n",
      "\n",
      "Massimo: 294\n",
      "Minimo: 292\n",
      "Media: 292.284\n",
      "Varianza: 0.2075515515515516\n"
     ]
    }
   ],
   "source": [
    "# Verifica tag\n",
    "data = aprfa_ref[\"16B-V\"]\n",
    "\n",
    "print_data(data)"
   ]
  },
  {
   "attachments": {},
   "cell_type": "markdown",
   "metadata": {},
   "source": [
    "#### PT 32 byte"
   ]
  },
  {
   "cell_type": "code",
   "execution_count": 68,
   "metadata": {},
   "outputs": [
    {
     "name": "stdout",
     "output_type": "stream",
     "text": [
      "32B-A\n",
      "155    879\n",
      "156    121\n",
      "Name: count, dtype: int64\n",
      "\n",
      "Massimo: 156\n",
      "Minimo: 155\n",
      "Media: 155.121\n",
      "Varianza: 0.10646546546546548\n"
     ]
    }
   ],
   "source": [
    "# Generazione tag\n",
    "data = aprfa_ref[\"32B-A\"]\n",
    "\n",
    "print_data(data)"
   ]
  },
  {
   "cell_type": "code",
   "execution_count": 69,
   "metadata": {},
   "outputs": [
    {
     "name": "stdout",
     "output_type": "stream",
     "text": [
      "32B-V\n",
      "313    718\n",
      "314    281\n",
      "315      1\n",
      "Name: count, dtype: int64\n",
      "\n",
      "Massimo: 315\n",
      "Minimo: 313\n",
      "Media: 313.283\n",
      "Varianza: 0.2051161161161162\n"
     ]
    }
   ],
   "source": [
    "# Verifica tag\n",
    "data = aprfa_ref[\"32B-V\"]\n",
    "\n",
    "print_data(data)"
   ]
  },
  {
   "attachments": {},
   "cell_type": "markdown",
   "metadata": {},
   "source": [
    "#### PT 64 byte"
   ]
  },
  {
   "cell_type": "code",
   "execution_count": 70,
   "metadata": {},
   "outputs": [
    {
     "name": "stdout",
     "output_type": "stream",
     "text": [
      "64B-A\n",
      "213    601\n",
      "214    201\n",
      "215    198\n",
      "Name: count, dtype: int64\n",
      "\n",
      "Massimo: 215\n",
      "Minimo: 213\n",
      "Media: 213.597\n",
      "Varianza: 0.6372282282282281\n"
     ]
    }
   ],
   "source": [
    "# Generazione tag\n",
    "data = aprfa_ref[\"64B-A\"]\n",
    "\n",
    "print_data(data)"
   ]
  },
  {
   "cell_type": "code",
   "execution_count": 71,
   "metadata": {},
   "outputs": [
    {
     "name": "stdout",
     "output_type": "stream",
     "text": [
      "64B-V\n",
      "429    600\n",
      "431    398\n",
      "432      1\n",
      "430      1\n",
      "Name: count, dtype: int64\n",
      "\n",
      "Massimo: 432\n",
      "Minimo: 429\n",
      "Media: 429.8\n",
      "Varianza: 0.9629629629629629\n"
     ]
    }
   ],
   "source": [
    "# Verifica tag\n",
    "data = aprfa_ref[\"64B-V\"]\n",
    "\n",
    "print_data(data)"
   ]
  },
  {
   "attachments": {},
   "cell_type": "markdown",
   "metadata": {},
   "source": [
    "#### PT 128 byte"
   ]
  },
  {
   "cell_type": "code",
   "execution_count": 72,
   "metadata": {},
   "outputs": [
    {
     "name": "stdout",
     "output_type": "stream",
     "text": [
      "128B-A\n",
      "330    679\n",
      "331    320\n",
      "332      1\n",
      "Name: count, dtype: int64\n",
      "\n",
      "Massimo: 332\n",
      "Minimo: 330\n",
      "Media: 330.322\n",
      "Varianza: 0.22053653653653651\n"
     ]
    }
   ],
   "source": [
    "# Generazione tag\n",
    "data = aprfa_ref[\"128B-A\"]\n",
    "\n",
    "print_data(data)"
   ]
  },
  {
   "cell_type": "code",
   "execution_count": 73,
   "metadata": {},
   "outputs": [
    {
     "name": "stdout",
     "output_type": "stream",
     "text": [
      "128B-V\n",
      "664    640\n",
      "663    358\n",
      "665      2\n",
      "Name: count, dtype: int64\n",
      "\n",
      "Massimo: 665\n",
      "Minimo: 663\n",
      "Media: 663.644\n",
      "Varianza: 0.23349749749749754\n"
     ]
    }
   ],
   "source": [
    "# Verifica tag\n",
    "data = aprfa_ref[\"128B-V\"]\n",
    "\n",
    "print_data(data)"
   ]
  },
  {
   "attachments": {},
   "cell_type": "markdown",
   "metadata": {},
   "source": [
    "#### PT 256 byte"
   ]
  },
  {
   "cell_type": "code",
   "execution_count": 74,
   "metadata": {},
   "outputs": [
    {
     "name": "stdout",
     "output_type": "stream",
     "text": [
      "256B-A\n",
      "527    518\n",
      "526    481\n",
      "528      1\n",
      "Name: count, dtype: int64\n",
      "\n",
      "Massimo: 528\n",
      "Minimo: 526\n",
      "Media: 526.52\n",
      "Varianza: 0.25185185185185177\n"
     ]
    }
   ],
   "source": [
    "# Generazione tag\n",
    "data = aprfa_ref[\"256B-A\"]\n",
    "\n",
    "print_data(data)"
   ]
  },
  {
   "cell_type": "code",
   "execution_count": 75,
   "metadata": {},
   "outputs": [
    {
     "name": "stdout",
     "output_type": "stream",
     "text": [
      "256B-V\n",
      "1057    959\n",
      "1058     41\n",
      "Name: count, dtype: int64\n",
      "\n",
      "Massimo: 1058\n",
      "Minimo: 1057\n",
      "Media: 1057.041\n",
      "Varianza: 0.039358358358358346\n"
     ]
    }
   ],
   "source": [
    "# Verifica tag\n",
    "data = aprfa_ref[\"256B-V\"]\n",
    "\n",
    "print_data(data)"
   ]
  },
  {
   "attachments": {},
   "cell_type": "markdown",
   "metadata": {},
   "source": [
    "#### PT 512 byte"
   ]
  },
  {
   "cell_type": "code",
   "execution_count": 76,
   "metadata": {},
   "outputs": [
    {
     "name": "stdout",
     "output_type": "stream",
     "text": [
      "512B-A\n",
      "920    878\n",
      "919     81\n",
      "921     41\n",
      "Name: count, dtype: int64\n",
      "\n",
      "Massimo: 921\n",
      "Minimo: 919\n",
      "Media: 919.96\n",
      "Varianza: 0.12052052052052052\n"
     ]
    }
   ],
   "source": [
    "# Generazione tag\n",
    "data = aprfa_ref[\"512B-A\"]\n",
    "\n",
    "print_data(data)"
   ]
  },
  {
   "cell_type": "code",
   "execution_count": 77,
   "metadata": {},
   "outputs": [
    {
     "name": "stdout",
     "output_type": "stream",
     "text": [
      "512B-V\n",
      "1842    838\n",
      "1841    160\n",
      "1843      1\n",
      "1844      1\n",
      "Name: count, dtype: int64\n",
      "\n",
      "Massimo: 1844\n",
      "Minimo: 1841\n",
      "Media: 1841.843\n",
      "Varianza: 0.14049149149149148\n"
     ]
    }
   ],
   "source": [
    "# Verifica tag\n",
    "data = aprfa_ref[\"512B-V\"]\n",
    "\n",
    "print_data(data)"
   ]
  },
  {
   "attachments": {},
   "cell_type": "markdown",
   "metadata": {},
   "source": [
    "#### PT 1024 byte"
   ]
  },
  {
   "cell_type": "code",
   "execution_count": 78,
   "metadata": {},
   "outputs": [
    {
     "name": "stdout",
     "output_type": "stream",
     "text": [
      "1024B-A\n",
      "1743    719\n",
      "1742    279\n",
      "1741      1\n",
      "1744      1\n",
      "Name: count, dtype: int64\n",
      "\n",
      "Massimo: 1744\n",
      "Minimo: 1741\n",
      "Media: 1742.72\n",
      "Varianza: 0.2058058058058058\n"
     ]
    }
   ],
   "source": [
    "# Generazione tag\n",
    "data = aprfa_ref[\"1024B-A\"]\n",
    "\n",
    "print_data(data)"
   ]
  },
  {
   "cell_type": "code",
   "execution_count": 79,
   "metadata": {},
   "outputs": [
    {
     "name": "stdout",
     "output_type": "stream",
     "text": [
      "1024B-V\n",
      "3488    519\n",
      "3489    480\n",
      "3491      1\n",
      "Name: count, dtype: int64\n",
      "\n",
      "Massimo: 3491\n",
      "Minimo: 3488\n",
      "Media: 3488.483\n",
      "Varianza: 0.25596696696696697\n"
     ]
    }
   ],
   "source": [
    "# Verifica tag\n",
    "data = aprfa_ref[\"1024B-V\"]\n",
    "\n",
    "print_data(data)"
   ]
  }
 ],
 "metadata": {
  "kernelspec": {
   "display_name": "Python 3",
   "language": "python",
   "name": "python3"
  },
  "language_info": {
   "codemirror_mode": {
    "name": "ipython",
    "version": 3
   },
   "file_extension": ".py",
   "mimetype": "text/x-python",
   "name": "python",
   "nbconvert_exporter": "python",
   "pygments_lexer": "ipython3",
   "version": "3.11.2"
  },
  "orig_nbformat": 4
 },
 "nbformat": 4,
 "nbformat_minor": 2
}
