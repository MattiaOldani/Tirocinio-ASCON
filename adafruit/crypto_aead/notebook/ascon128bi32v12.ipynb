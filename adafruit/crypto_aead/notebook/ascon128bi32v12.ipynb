{
 "cells": [
  {
   "attachments": {},
   "cell_type": "markdown",
   "metadata": {},
   "source": [
    "# Analisi dei dati raccolti"
   ]
  },
  {
   "attachments": {},
   "cell_type": "markdown",
   "metadata": {},
   "source": [
    "## Setup"
   ]
  },
  {
   "cell_type": "code",
   "execution_count": 5,
   "metadata": {},
   "outputs": [],
   "source": [
    "import pandas as pd"
   ]
  },
  {
   "cell_type": "code",
   "execution_count": 6,
   "metadata": {},
   "outputs": [],
   "source": [
    "def print_data(series: pd.Series) -> None:\n",
    "    print(series.value_counts())\n",
    "    print()\n",
    "    print(f\"Massimo: {series.max()}\\nMinimo: {series.min()}\\nMedia: {series.mean()}\\nVarianza: {series.var()}\")"
   ]
  },
  {
   "attachments": {},
   "cell_type": "markdown",
   "metadata": {},
   "source": [
    "## Ascon128bi32v12"
   ]
  },
  {
   "cell_type": "code",
   "execution_count": 7,
   "metadata": {},
   "outputs": [],
   "source": [
    "path = \"../ascon128bi32v12/data/{}.csv\""
   ]
  },
  {
   "attachments": {},
   "cell_type": "markdown",
   "metadata": {},
   "source": [
    "### Bi32_armv7m"
   ]
  },
  {
   "cell_type": "code",
   "execution_count": 8,
   "metadata": {},
   "outputs": [],
   "source": [
    "with open(path.format(\"bi32_armv7m\"), \"r\") as f:\n",
    "    a128bi32_bi32 = pd.read_csv(f, delimiter=\";\")"
   ]
  },
  {
   "attachments": {},
   "cell_type": "markdown",
   "metadata": {},
   "source": [
    "#### PT vuoto"
   ]
  },
  {
   "cell_type": "code",
   "execution_count": 9,
   "metadata": {},
   "outputs": [
    {
     "name": "stdout",
     "output_type": "stream",
     "text": [
      "0B-E\n",
      "34    959\n",
      "36     40\n",
      "35      1\n",
      "Name: count, dtype: int64\n",
      "\n",
      "Massimo: 36\n",
      "Minimo: 34\n",
      "Media: 34.081\n",
      "Varianza: 0.15459359359359356\n"
     ]
    }
   ],
   "source": [
    "# Cifratura\n",
    "data = a128bi32_bi32[\"0B-E\"]\n",
    "\n",
    "print_data(data)"
   ]
  },
  {
   "cell_type": "code",
   "execution_count": 10,
   "metadata": {},
   "outputs": [
    {
     "name": "stdout",
     "output_type": "stream",
     "text": [
      "0B-D\n",
      "70    920\n",
      "71     80\n",
      "Name: count, dtype: int64\n",
      "\n",
      "Massimo: 71\n",
      "Minimo: 70\n",
      "Media: 70.08\n",
      "Varianza: 0.0736736736736737\n"
     ]
    }
   ],
   "source": [
    "# Decifratura\n",
    "data = a128bi32_bi32[\"0B-D\"]\n",
    "\n",
    "print_data(data)"
   ]
  },
  {
   "attachments": {},
   "cell_type": "markdown",
   "metadata": {},
   "source": [
    "#### PT 1 byte"
   ]
  },
  {
   "cell_type": "code",
   "execution_count": 11,
   "metadata": {},
   "outputs": [
    {
     "name": "stdout",
     "output_type": "stream",
     "text": [
      "1B-E\n",
      "45    920\n",
      "46     80\n",
      "Name: count, dtype: int64\n",
      "\n",
      "Massimo: 46\n",
      "Minimo: 45\n",
      "Media: 45.08\n",
      "Varianza: 0.0736736736736737\n"
     ]
    }
   ],
   "source": [
    "# Cifratura\n",
    "data = a128bi32_bi32[\"1B-E\"]\n",
    "\n",
    "print_data(data)"
   ]
  },
  {
   "cell_type": "code",
   "execution_count": 12,
   "metadata": {},
   "outputs": [
    {
     "name": "stdout",
     "output_type": "stream",
     "text": [
      "1B-D\n",
      "93    919\n",
      "94     81\n",
      "Name: count, dtype: int64\n",
      "\n",
      "Massimo: 94\n",
      "Minimo: 93\n",
      "Media: 93.081\n",
      "Varianza: 0.07451351351351351\n"
     ]
    }
   ],
   "source": [
    "# Cifratura\n",
    "data = a128bi32_bi32[\"1B-D\"]\n",
    "\n",
    "print_data(data)"
   ]
  },
  {
   "attachments": {},
   "cell_type": "markdown",
   "metadata": {},
   "source": [
    "#### PT 8 byte"
   ]
  },
  {
   "cell_type": "code",
   "execution_count": 13,
   "metadata": {},
   "outputs": [
    {
     "name": "stdout",
     "output_type": "stream",
     "text": [
      "8B-E\n",
      "59    920\n",
      "60     80\n",
      "Name: count, dtype: int64\n",
      "\n",
      "Massimo: 60\n",
      "Minimo: 59\n",
      "Media: 59.08\n",
      "Varianza: 0.0736736736736737\n"
     ]
    }
   ],
   "source": [
    "# Cifratura\n",
    "data = a128bi32_bi32[\"8B-E\"]\n",
    "\n",
    "print_data(data)"
   ]
  },
  {
   "cell_type": "code",
   "execution_count": 14,
   "metadata": {},
   "outputs": [
    {
     "name": "stdout",
     "output_type": "stream",
     "text": [
      "8B-D\n",
      "120    878\n",
      "122    120\n",
      "121      2\n",
      "Name: count, dtype: int64\n",
      "\n",
      "Massimo: 122\n",
      "Minimo: 120\n",
      "Media: 120.242\n",
      "Varianza: 0.42385985985986\n"
     ]
    }
   ],
   "source": [
    "# Decifratura\n",
    "data = a128bi32_bi32[\"8B-D\"]\n",
    "\n",
    "print_data(data)"
   ]
  },
  {
   "attachments": {},
   "cell_type": "markdown",
   "metadata": {},
   "source": [
    "#### PT 16 byte"
   ]
  },
  {
   "cell_type": "code",
   "execution_count": 15,
   "metadata": {},
   "outputs": [
    {
     "name": "stdout",
     "output_type": "stream",
     "text": [
      "16B-E\n",
      "75    920\n",
      "76     80\n",
      "Name: count, dtype: int64\n",
      "\n",
      "Massimo: 76\n",
      "Minimo: 75\n",
      "Media: 75.08\n",
      "Varianza: 0.0736736736736737\n"
     ]
    }
   ],
   "source": [
    "# Cifratura\n",
    "data = a128bi32_bi32[\"16B-E\"]\n",
    "\n",
    "print_data(data)"
   ]
  },
  {
   "cell_type": "code",
   "execution_count": 16,
   "metadata": {},
   "outputs": [
    {
     "name": "stdout",
     "output_type": "stream",
     "text": [
      "16B-D\n",
      "153    840\n",
      "155    160\n",
      "Name: count, dtype: int64\n",
      "\n",
      "Massimo: 155\n",
      "Minimo: 153\n",
      "Media: 153.32\n",
      "Varianza: 0.5381381381381383\n"
     ]
    }
   ],
   "source": [
    "# Decifratura\n",
    "data = a128bi32_bi32[\"16B-D\"]\n",
    "\n",
    "print_data(data)"
   ]
  },
  {
   "attachments": {},
   "cell_type": "markdown",
   "metadata": {},
   "source": [
    "#### PT 24 byte"
   ]
  },
  {
   "cell_type": "code",
   "execution_count": 17,
   "metadata": {},
   "outputs": [
    {
     "name": "stdout",
     "output_type": "stream",
     "text": [
      "24B-E\n",
      "91    878\n",
      "92    122\n",
      "Name: count, dtype: int64\n",
      "\n",
      "Massimo: 92\n",
      "Minimo: 91\n",
      "Media: 91.122\n",
      "Varianza: 0.10722322322322322\n"
     ]
    }
   ],
   "source": [
    "# Cifratura\n",
    "data = a128bi32_bi32[\"24B-E\"]\n",
    "\n",
    "print_data(data)"
   ]
  },
  {
   "cell_type": "code",
   "execution_count": 18,
   "metadata": {},
   "outputs": [
    {
     "name": "stdout",
     "output_type": "stream",
     "text": [
      "24B-D\n",
      "186    840\n",
      "188    120\n",
      "187     40\n",
      "Name: count, dtype: int64\n",
      "\n",
      "Massimo: 188\n",
      "Minimo: 186\n",
      "Media: 186.28\n",
      "Varianza: 0.44204204204204195\n"
     ]
    }
   ],
   "source": [
    "# Decifratura\n",
    "data = a128bi32_bi32[\"24B-D\"]\n",
    "\n",
    "print_data(data)"
   ]
  },
  {
   "attachments": {},
   "cell_type": "markdown",
   "metadata": {},
   "source": [
    "#### PT 32 byte"
   ]
  },
  {
   "cell_type": "code",
   "execution_count": 19,
   "metadata": {},
   "outputs": [
    {
     "name": "stdout",
     "output_type": "stream",
     "text": [
      "32B-E\n",
      "107    878\n",
      "108    122\n",
      "Name: count, dtype: int64\n",
      "\n",
      "Massimo: 108\n",
      "Minimo: 107\n",
      "Media: 107.122\n",
      "Varianza: 0.10722322322322322\n"
     ]
    }
   ],
   "source": [
    "# Cifratura\n",
    "data = a128bi32_bi32[\"32B-E\"]\n",
    "\n",
    "print_data(data)"
   ]
  },
  {
   "cell_type": "code",
   "execution_count": 20,
   "metadata": {},
   "outputs": [
    {
     "name": "stdout",
     "output_type": "stream",
     "text": [
      "32B-D\n",
      "219    799\n",
      "221    120\n",
      "220     81\n",
      "Name: count, dtype: int64\n",
      "\n",
      "Massimo: 221\n",
      "Minimo: 219\n",
      "Media: 219.321\n",
      "Varianza: 0.45841741741741737\n"
     ]
    }
   ],
   "source": [
    "# Decifratura\n",
    "data = a128bi32_bi32[\"32B-D\"]\n",
    "\n",
    "print_data(data)"
   ]
  },
  {
   "attachments": {},
   "cell_type": "markdown",
   "metadata": {},
   "source": [
    "### Ref"
   ]
  },
  {
   "cell_type": "code",
   "execution_count": 21,
   "metadata": {},
   "outputs": [],
   "source": [
    "with open(path.format(\"ref\"), \"r\") as f:\n",
    "    a128bi32_ref = pd.read_csv(f, delimiter=\";\")"
   ]
  },
  {
   "attachments": {},
   "cell_type": "markdown",
   "metadata": {},
   "source": [
    "#### PT vuoto"
   ]
  },
  {
   "cell_type": "code",
   "execution_count": 22,
   "metadata": {},
   "outputs": [
    {
     "name": "stdout",
     "output_type": "stream",
     "text": [
      "0B-E\n",
      "294    681\n",
      "295    319\n",
      "Name: count, dtype: int64\n",
      "\n",
      "Massimo: 295\n",
      "Minimo: 294\n",
      "Media: 294.319\n",
      "Varianza: 0.21745645645645648\n"
     ]
    }
   ],
   "source": [
    "# Cifratura\n",
    "data = a128bi32_ref[\"0B-E\"]\n",
    "\n",
    "print_data(data)"
   ]
  },
  {
   "cell_type": "code",
   "execution_count": 23,
   "metadata": {},
   "outputs": [
    {
     "name": "stdout",
     "output_type": "stream",
     "text": [
      "0B-D\n",
      "594    559\n",
      "593    440\n",
      "592      1\n",
      "Name: count, dtype: int64\n",
      "\n",
      "Massimo: 594\n",
      "Minimo: 592\n",
      "Media: 593.558\n",
      "Varianza: 0.24888488488488486\n"
     ]
    }
   ],
   "source": [
    "# Decifratura\n",
    "data = a128bi32_ref[\"0B-D\"]\n",
    "\n",
    "print_data(data)"
   ]
  },
  {
   "attachments": {},
   "cell_type": "markdown",
   "metadata": {},
   "source": [
    "#### PT 1 byte"
   ]
  },
  {
   "cell_type": "code",
   "execution_count": 24,
   "metadata": {},
   "outputs": [
    {
     "name": "stdout",
     "output_type": "stream",
     "text": [
      "1B-E\n",
      "362    641\n",
      "363    358\n",
      "364      1\n",
      "Name: count, dtype: int64\n",
      "\n",
      "Massimo: 364\n",
      "Minimo: 362\n",
      "Media: 362.36\n",
      "Varianza: 0.23263263263263256\n"
     ]
    }
   ],
   "source": [
    "# Cifratura\n",
    "data = a128bi32_ref[\"1B-E\"]\n",
    "\n",
    "print_data(data)"
   ]
  },
  {
   "cell_type": "code",
   "execution_count": 25,
   "metadata": {},
   "outputs": [
    {
     "name": "stdout",
     "output_type": "stream",
     "text": [
      "1B-D\n",
      "731    718\n",
      "730    279\n",
      "732      3\n",
      "Name: count, dtype: int64\n",
      "\n",
      "Massimo: 732\n",
      "Minimo: 730\n",
      "Media: 730.724\n",
      "Varianza: 0.20603003003003006\n"
     ]
    }
   ],
   "source": [
    "# Decifratura\n",
    "data = a128bi32_ref[\"1B-D\"]\n",
    "\n",
    "print_data(data)"
   ]
  },
  {
   "attachments": {},
   "cell_type": "markdown",
   "metadata": {},
   "source": [
    "#### PT 8 byte"
   ]
  },
  {
   "cell_type": "code",
   "execution_count": 26,
   "metadata": {},
   "outputs": [
    {
     "name": "stdout",
     "output_type": "stream",
     "text": [
      "8B-E\n",
      "506    522\n",
      "505    477\n",
      "507      1\n",
      "Name: count, dtype: int64\n",
      "\n",
      "Massimo: 507\n",
      "Minimo: 505\n",
      "Media: 505.524\n",
      "Varianza: 0.2516756756756757\n"
     ]
    }
   ],
   "source": [
    "# Cifratura\n",
    "data = a128bi32_ref[\"8B-E\"]\n",
    "\n",
    "print_data(data)"
   ]
  },
  {
   "cell_type": "code",
   "execution_count": 27,
   "metadata": {},
   "outputs": [
    {
     "name": "stdout",
     "output_type": "stream",
     "text": [
      "8B-D\n",
      "1017    997\n",
      "1018      3\n",
      "Name: count, dtype: int64\n",
      "\n",
      "Massimo: 1018\n",
      "Minimo: 1017\n",
      "Media: 1017.003\n",
      "Varianza: 0.0029939939939939942\n"
     ]
    }
   ],
   "source": [
    "# Decifratura\n",
    "data = a128bi32_ref[\"8B-D\"]\n",
    "\n",
    "print_data(data)"
   ]
  },
  {
   "attachments": {},
   "cell_type": "markdown",
   "metadata": {},
   "source": [
    "#### PT 16 byte"
   ]
  },
  {
   "cell_type": "code",
   "execution_count": 28,
   "metadata": {},
   "outputs": [
    {
     "name": "stdout",
     "output_type": "stream",
     "text": [
      "16B-E\n",
      "651    638\n",
      "650    360\n",
      "653      1\n",
      "652      1\n",
      "Name: count, dtype: int64\n",
      "\n",
      "Massimo: 653\n",
      "Minimo: 650\n",
      "Media: 650.643\n",
      "Varianza: 0.23778878878878873\n"
     ]
    }
   ],
   "source": [
    "# Cifratura\n",
    "data = a128bi32_ref[\"16B-E\"]\n",
    "\n",
    "print_data(data)"
   ]
  },
  {
   "cell_type": "code",
   "execution_count": 29,
   "metadata": {},
   "outputs": [
    {
     "name": "stdout",
     "output_type": "stream",
     "text": [
      "16B-D\n",
      "1309    720\n",
      "1310    160\n",
      "1311    120\n",
      "Name: count, dtype: int64\n",
      "\n",
      "Massimo: 1311\n",
      "Minimo: 1309\n",
      "Media: 1309.4\n",
      "Varianza: 0.4804804804804806\n"
     ]
    }
   ],
   "source": [
    "# Decifratura\n",
    "data = a128bi32_ref[\"16B-D\"]\n",
    "\n",
    "print_data(data)"
   ]
  },
  {
   "attachments": {},
   "cell_type": "markdown",
   "metadata": {},
   "source": [
    "#### PT 24 byte"
   ]
  },
  {
   "cell_type": "code",
   "execution_count": 30,
   "metadata": {},
   "outputs": [
    {
     "name": "stdout",
     "output_type": "stream",
     "text": [
      "24B-E\n",
      "796    797\n",
      "795    200\n",
      "798      2\n",
      "797      1\n",
      "Name: count, dtype: int64\n",
      "\n",
      "Massimo: 798\n",
      "Minimo: 795\n",
      "Media: 795.805\n",
      "Varianza: 0.17114614614614612\n"
     ]
    }
   ],
   "source": [
    "# Cifratura\n",
    "data = a128bi32_ref[\"24B-E\"]\n",
    "\n",
    "print_data(data)"
   ]
  },
  {
   "cell_type": "code",
   "execution_count": 31,
   "metadata": {},
   "outputs": [
    {
     "name": "stdout",
     "output_type": "stream",
     "text": [
      "24B-D\n",
      "1601    560\n",
      "1600    398\n",
      "1602     41\n",
      "1603      1\n",
      "Name: count, dtype: int64\n",
      "\n",
      "Massimo: 1603\n",
      "Minimo: 1600\n",
      "Media: 1600.645\n",
      "Varianza: 0.3172922922922922\n"
     ]
    }
   ],
   "source": [
    "# Decifratura\n",
    "data = a128bi32_ref[\"24B-D\"]\n",
    "\n",
    "print_data(data)"
   ]
  },
  {
   "attachments": {},
   "cell_type": "markdown",
   "metadata": {},
   "source": [
    "#### PT 32 byte"
   ]
  },
  {
   "cell_type": "code",
   "execution_count": 32,
   "metadata": {},
   "outputs": [
    {
     "name": "stdout",
     "output_type": "stream",
     "text": [
      "32B-E\n",
      "941    957\n",
      "940     40\n",
      "943      2\n",
      "942      1\n",
      "Name: count, dtype: int64\n",
      "\n",
      "Massimo: 943\n",
      "Minimo: 940\n",
      "Media: 940.965\n",
      "Varianza: 0.047822822822822846\n"
     ]
    }
   ],
   "source": [
    "# Cifratura\n",
    "data = a128bi32_ref[\"32B-E\"]\n",
    "\n",
    "print_data(data)"
   ]
  },
  {
   "cell_type": "code",
   "execution_count": 33,
   "metadata": {},
   "outputs": [
    {
     "name": "stdout",
     "output_type": "stream",
     "text": [
      "32B-D\n",
      "1892    880\n",
      "1891    120\n",
      "Name: count, dtype: int64\n",
      "\n",
      "Massimo: 1892\n",
      "Minimo: 1891\n",
      "Media: 1891.88\n",
      "Varianza: 0.10570570570570573\n"
     ]
    }
   ],
   "source": [
    "# Decifratura\n",
    "data = a128bi32_ref[\"32B-D\"]\n",
    "\n",
    "print_data(data)"
   ]
  }
 ],
 "metadata": {
  "kernelspec": {
   "display_name": "Python 3",
   "language": "python",
   "name": "python3"
  },
  "language_info": {
   "codemirror_mode": {
    "name": "ipython",
    "version": 3
   },
   "file_extension": ".py",
   "mimetype": "text/x-python",
   "name": "python",
   "nbconvert_exporter": "python",
   "pygments_lexer": "ipython3",
   "version": "3.11.2"
  },
  "orig_nbformat": 4
 },
 "nbformat": 4,
 "nbformat_minor": 2
}
