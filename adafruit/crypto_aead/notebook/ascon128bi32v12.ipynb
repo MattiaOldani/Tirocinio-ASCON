{
 "cells": [
  {
   "attachments": {},
   "cell_type": "markdown",
   "metadata": {},
   "source": [
    "# Analisi dei dati raccolti"
   ]
  },
  {
   "attachments": {},
   "cell_type": "markdown",
   "metadata": {},
   "source": [
    "## Setup"
   ]
  },
  {
   "cell_type": "code",
   "execution_count": 1,
   "metadata": {},
   "outputs": [],
   "source": [
    "import pandas as pd"
   ]
  },
  {
   "cell_type": "code",
   "execution_count": 2,
   "metadata": {},
   "outputs": [],
   "source": [
    "def print_data(series: pd.Series) -> None:\n",
    "    print(series.value_counts())\n",
    "    print()\n",
    "    print(f\"Massimo: {series.max()}\\nMinimo: {series.min()}\\nMedia: {series.mean()}\\nVarianza: {series.var()}\")"
   ]
  },
  {
   "attachments": {},
   "cell_type": "markdown",
   "metadata": {},
   "source": [
    "## Ascon128bi32v12"
   ]
  },
  {
   "cell_type": "code",
   "execution_count": 3,
   "metadata": {},
   "outputs": [],
   "source": [
    "path = \"../ascon128bi32v12/data/{}.csv\""
   ]
  },
  {
   "attachments": {},
   "cell_type": "markdown",
   "metadata": {},
   "source": [
    "### Bi32_armv6m"
   ]
  },
  {
   "cell_type": "code",
   "execution_count": 4,
   "metadata": {},
   "outputs": [],
   "source": [
    "with open(path.format(\"bi32_armv6m\"), \"r\") as f:\n",
    "    a128bi32_bi32 = pd.read_csv(f, delimiter=\";\")"
   ]
  },
  {
   "attachments": {},
   "cell_type": "markdown",
   "metadata": {},
   "source": [
    "#### PT vuoto"
   ]
  },
  {
   "cell_type": "code",
   "execution_count": 5,
   "metadata": {},
   "outputs": [
    {
     "name": "stdout",
     "output_type": "stream",
     "text": [
      "0B-E\n",
      "117    677\n",
      "116    160\n",
      "119     87\n",
      "124     37\n",
      "118     34\n",
      "125      5\n",
      "Name: count, dtype: int64\n",
      "\n",
      "Massimo: 125\n",
      "Minimo: 116\n",
      "Media: 117.347\n",
      "Varianza: 2.5571481481481477\n"
     ]
    }
   ],
   "source": [
    "# Cifratura\n",
    "data = a128bi32_bi32[\"0B-E\"]\n",
    "\n",
    "print_data(data)"
   ]
  },
  {
   "cell_type": "code",
   "execution_count": 6,
   "metadata": {},
   "outputs": [
    {
     "name": "stdout",
     "output_type": "stream",
     "text": [
      "0B-D\n",
      "235    562\n",
      "237    211\n",
      "242    108\n",
      "243     56\n",
      "236     51\n",
      "238     10\n",
      "244      2\n",
      "Name: count, dtype: int64\n",
      "\n",
      "Massimo: 244\n",
      "Minimo: 235\n",
      "Media: 236.725\n",
      "Varianza: 7.054429429429429\n"
     ]
    }
   ],
   "source": [
    "# Decifratura\n",
    "data = a128bi32_bi32[\"0B-D\"]\n",
    "\n",
    "print_data(data)"
   ]
  },
  {
   "attachments": {},
   "cell_type": "markdown",
   "metadata": {},
   "source": [
    "#### PT 1 byte"
   ]
  },
  {
   "cell_type": "code",
   "execution_count": 7,
   "metadata": {},
   "outputs": [
    {
     "name": "stdout",
     "output_type": "stream",
     "text": [
      "1B-E\n",
      "149    410\n",
      "150    339\n",
      "157    103\n",
      "151     49\n",
      "152     47\n",
      "156     47\n",
      "158      4\n",
      "153      1\n",
      "Name: count, dtype: int64\n",
      "\n",
      "Massimo: 158\n",
      "Minimo: 149\n",
      "Media: 150.771\n",
      "Varianza: 7.063622622622623\n"
     ]
    }
   ],
   "source": [
    "# Cifratura\n",
    "data = a128bi32_bi32[\"1B-E\"]\n",
    "\n",
    "print_data(data)"
   ]
  },
  {
   "cell_type": "code",
   "execution_count": 8,
   "metadata": {},
   "outputs": [
    {
     "name": "stdout",
     "output_type": "stream",
     "text": [
      "1B-D\n",
      "305    238\n",
      "303    206\n",
      "311    187\n",
      "304    131\n",
      "306    126\n",
      "310    104\n",
      "312      8\n",
      "Name: count, dtype: int64\n",
      "\n",
      "Massimo: 312\n",
      "Minimo: 303\n",
      "Media: 306.281\n",
      "Varianza: 9.173212212212214\n"
     ]
    }
   ],
   "source": [
    "# Cifratura\n",
    "data = a128bi32_bi32[\"1B-D\"]\n",
    "\n",
    "print_data(data)"
   ]
  },
  {
   "attachments": {},
   "cell_type": "markdown",
   "metadata": {},
   "source": [
    "#### PT 8 byte"
   ]
  },
  {
   "cell_type": "code",
   "execution_count": 9,
   "metadata": {},
   "outputs": [
    {
     "name": "stdout",
     "output_type": "stream",
     "text": [
      "8B-E\n",
      "203    485\n",
      "205    232\n",
      "204    101\n",
      "210     80\n",
      "211     66\n",
      "206     34\n",
      "212      2\n",
      "Name: count, dtype: int64\n",
      "\n",
      "Massimo: 212\n",
      "Minimo: 203\n",
      "Media: 204.773\n",
      "Varianza: 6.503974974974975\n"
     ]
    }
   ],
   "source": [
    "# Cifratura\n",
    "data = a128bi32_bi32[\"8B-E\"]\n",
    "\n",
    "print_data(data)"
   ]
  },
  {
   "cell_type": "code",
   "execution_count": 10,
   "metadata": {},
   "outputs": [
    {
     "name": "stdout",
     "output_type": "stream",
     "text": [
      "8B-D\n",
      "410    209\n",
      "418    184\n",
      "412    180\n",
      "411    145\n",
      "417    110\n",
      "413     66\n",
      "420     63\n",
      "419     40\n",
      "421      3\n",
      "Name: count, dtype: int64\n",
      "\n",
      "Massimo: 421\n",
      "Minimo: 410\n",
      "Media: 413.968\n",
      "Varianza: 12.795771771771772\n"
     ]
    }
   ],
   "source": [
    "# Decifratura\n",
    "data = a128bi32_bi32[\"8B-D\"]\n",
    "\n",
    "print_data(data)"
   ]
  },
  {
   "attachments": {},
   "cell_type": "markdown",
   "metadata": {},
   "source": [
    "#### PT 16 byte"
   ]
  },
  {
   "cell_type": "code",
   "execution_count": 11,
   "metadata": {},
   "outputs": [
    {
     "name": "stdout",
     "output_type": "stream",
     "text": [
      "16B-E\n",
      "261    351\n",
      "263    289\n",
      "268    188\n",
      "269    102\n",
      "262     49\n",
      "264     18\n",
      "270      3\n",
      "Name: count, dtype: int64\n",
      "\n",
      "Massimo: 270\n",
      "Minimo: 261\n",
      "Media: 263.84\n",
      "Varianza: 9.293693693693696\n"
     ]
    }
   ],
   "source": [
    "# Cifratura\n",
    "data = a128bi32_bi32[\"16B-E\"]\n",
    "\n",
    "print_data(data)"
   ]
  },
  {
   "cell_type": "code",
   "execution_count": 12,
   "metadata": {},
   "outputs": [
    {
     "name": "stdout",
     "output_type": "stream",
     "text": [
      "16B-D\n",
      "531    327\n",
      "536    223\n",
      "529    160\n",
      "538    149\n",
      "537     75\n",
      "530     35\n",
      "539     22\n",
      "528      9\n",
      "Name: count, dtype: int64\n",
      "\n",
      "Massimo: 539\n",
      "Minimo: 528\n",
      "Media: 533.402\n",
      "Varianza: 11.982378378378378\n"
     ]
    }
   ],
   "source": [
    "# Decifratura\n",
    "data = a128bi32_bi32[\"16B-D\"]\n",
    "\n",
    "print_data(data)"
   ]
  },
  {
   "attachments": {},
   "cell_type": "markdown",
   "metadata": {},
   "source": [
    "#### PT 24 byte"
   ]
  },
  {
   "cell_type": "code",
   "execution_count": 13,
   "metadata": {},
   "outputs": [
    {
     "name": "stdout",
     "output_type": "stream",
     "text": [
      "24B-E\n",
      "321    321\n",
      "319    292\n",
      "326    226\n",
      "327     93\n",
      "320     33\n",
      "328     27\n",
      "329      8\n",
      "Name: count, dtype: int64\n",
      "\n",
      "Massimo: 329\n",
      "Minimo: 319\n",
      "Media: 322.324\n",
      "Varianza: 10.291315315315316\n"
     ]
    }
   ],
   "source": [
    "# Cifratura\n",
    "data = a128bi32_bi32[\"24B-E\"]\n",
    "\n",
    "print_data(data)"
   ]
  },
  {
   "cell_type": "code",
   "execution_count": 14,
   "metadata": {},
   "outputs": [
    {
     "name": "stdout",
     "output_type": "stream",
     "text": [
      "24B-D\n",
      "657    195\n",
      "649    190\n",
      "655    189\n",
      "650    174\n",
      "656     91\n",
      "654     89\n",
      "647     34\n",
      "648     27\n",
      "658     11\n",
      "Name: count, dtype: int64\n",
      "\n",
      "Massimo: 658\n",
      "Minimo: 647\n",
      "Media: 652.954\n",
      "Varianza: 11.573457457457456\n"
     ]
    }
   ],
   "source": [
    "# Decifratura\n",
    "data = a128bi32_bi32[\"24B-D\"]\n",
    "\n",
    "print_data(data)"
   ]
  },
  {
   "attachments": {},
   "cell_type": "markdown",
   "metadata": {},
   "source": [
    "#### PT 32 byte"
   ]
  },
  {
   "cell_type": "code",
   "execution_count": 15,
   "metadata": {},
   "outputs": [
    {
     "name": "stdout",
     "output_type": "stream",
     "text": [
      "32B-E\n",
      "377    301\n",
      "379    289\n",
      "384    218\n",
      "386     74\n",
      "385     66\n",
      "378     25\n",
      "387     20\n",
      "376      7\n",
      "Name: count, dtype: int64\n",
      "\n",
      "Massimo: 387\n",
      "Minimo: 376\n",
      "Media: 380.516\n",
      "Varianza: 11.737481481481487\n"
     ]
    }
   ],
   "source": [
    "# Cifratura\n",
    "data = a128bi32_bi32[\"32B-E\"]\n",
    "\n",
    "print_data(data)"
   ]
  },
  {
   "cell_type": "code",
   "execution_count": 16,
   "metadata": {},
   "outputs": [
    {
     "name": "stdout",
     "output_type": "stream",
     "text": [
      "32B-D\n",
      "775    383\n",
      "768    200\n",
      "776    169\n",
      "773    147\n",
      "774     87\n",
      "769     12\n",
      "777      2\n",
      "Name: count, dtype: int64\n",
      "\n",
      "Massimo: 777\n",
      "Minimo: 768\n",
      "Media: 773.32\n",
      "Varianza: 8.26986986986987\n"
     ]
    }
   ],
   "source": [
    "# Decifratura\n",
    "data = a128bi32_bi32[\"32B-D\"]\n",
    "\n",
    "print_data(data)"
   ]
  },
  {
   "attachments": {},
   "cell_type": "markdown",
   "metadata": {},
   "source": [
    "### Ref"
   ]
  },
  {
   "cell_type": "code",
   "execution_count": 17,
   "metadata": {},
   "outputs": [],
   "source": [
    "with open(path.format(\"ref\"), \"r\") as f:\n",
    "    a128bi32_ref = pd.read_csv(f, delimiter=\";\")"
   ]
  },
  {
   "attachments": {},
   "cell_type": "markdown",
   "metadata": {},
   "source": [
    "#### PT vuoto"
   ]
  },
  {
   "cell_type": "code",
   "execution_count": 18,
   "metadata": {},
   "outputs": [
    {
     "name": "stdout",
     "output_type": "stream",
     "text": [
      "0B-E\n",
      "176    322\n",
      "177    309\n",
      "184    118\n",
      "178    115\n",
      "179     90\n",
      "183     43\n",
      "180      2\n",
      "185      1\n",
      "Name: count, dtype: int64\n",
      "\n",
      "Massimo: 185\n",
      "Minimo: 176\n",
      "Media: 178.071\n",
      "Varianza: 7.069028028028029\n"
     ]
    }
   ],
   "source": [
    "# Cifratura\n",
    "data = a128bi32_ref[\"0B-E\"]\n",
    "\n",
    "print_data(data)"
   ]
  },
  {
   "cell_type": "code",
   "execution_count": 19,
   "metadata": {},
   "outputs": [
    {
     "name": "stdout",
     "output_type": "stream",
     "text": [
      "0B-D\n",
      "374    351\n",
      "372    307\n",
      "379    234\n",
      "380     91\n",
      "373     16\n",
      "381      1\n",
      "Name: count, dtype: int64\n",
      "\n",
      "Massimo: 381\n",
      "Minimo: 372\n",
      "Media: 375.093\n",
      "Varianza: 9.233584584584584\n"
     ]
    }
   ],
   "source": [
    "# Decifratura\n",
    "data = a128bi32_ref[\"0B-D\"]\n",
    "\n",
    "print_data(data)"
   ]
  },
  {
   "attachments": {},
   "cell_type": "markdown",
   "metadata": {},
   "source": [
    "#### PT 1 byte"
   ]
  },
  {
   "cell_type": "code",
   "execution_count": 20,
   "metadata": {},
   "outputs": [
    {
     "name": "stdout",
     "output_type": "stream",
     "text": [
      "1B-E\n",
      "222    456\n",
      "224    163\n",
      "223    137\n",
      "229    110\n",
      "230     84\n",
      "225     46\n",
      "231      4\n",
      "Name: count, dtype: int64\n",
      "\n",
      "Massimo: 231\n",
      "Minimo: 222\n",
      "Media: 224.079\n",
      "Varianza: 7.978737737737737\n"
     ]
    }
   ],
   "source": [
    "# Cifratura\n",
    "data = a128bi32_ref[\"1B-E\"]\n",
    "\n",
    "print_data(data)"
   ]
  },
  {
   "cell_type": "code",
   "execution_count": 21,
   "metadata": {},
   "outputs": [
    {
     "name": "stdout",
     "output_type": "stream",
     "text": [
      "1B-D\n",
      "467    351\n",
      "472    311\n",
      "465    125\n",
      "466    103\n",
      "474     40\n",
      "464     35\n",
      "473     31\n",
      "475      3\n",
      "468      1\n",
      "Name: count, dtype: int64\n",
      "\n",
      "Massimo: 475\n",
      "Minimo: 464\n",
      "Media: 468.588\n",
      "Varianza: 9.449705705705703\n"
     ]
    }
   ],
   "source": [
    "# Decifratura\n",
    "data = a128bi32_ref[\"1B-D\"]\n",
    "\n",
    "print_data(data)"
   ]
  },
  {
   "attachments": {},
   "cell_type": "markdown",
   "metadata": {},
   "source": [
    "#### PT 8 byte"
   ]
  },
  {
   "cell_type": "code",
   "execution_count": 22,
   "metadata": {},
   "outputs": [
    {
     "name": "stdout",
     "output_type": "stream",
     "text": [
      "8B-E\n",
      "305    307\n",
      "303    243\n",
      "310    174\n",
      "311    139\n",
      "304     68\n",
      "306     63\n",
      "312      6\n",
      "Name: count, dtype: int64\n",
      "\n",
      "Massimo: 312\n",
      "Minimo: 303\n",
      "Media: 306.255\n",
      "Varianza: 9.185160160160159\n"
     ]
    }
   ],
   "source": [
    "# Cifratura\n",
    "data = a128bi32_ref[\"8B-E\"]\n",
    "\n",
    "print_data(data)"
   ]
  },
  {
   "cell_type": "code",
   "execution_count": 23,
   "metadata": {},
   "outputs": [
    {
     "name": "stdout",
     "output_type": "stream",
     "text": [
      "8B-D\n",
      "628    295\n",
      "634    201\n",
      "633    183\n",
      "635    136\n",
      "629     94\n",
      "636     86\n",
      "637      5\n",
      "Name: count, dtype: int64\n",
      "\n",
      "Massimo: 637\n",
      "Minimo: 628\n",
      "Media: 631.9\n",
      "Varianza: 9.277277277277276\n"
     ]
    }
   ],
   "source": [
    "# Decifratura\n",
    "data = a128bi32_ref[\"8B-D\"]\n",
    "\n",
    "print_data(data)"
   ]
  },
  {
   "attachments": {},
   "cell_type": "markdown",
   "metadata": {},
   "source": [
    "#### PT 16 byte"
   ]
  },
  {
   "cell_type": "code",
   "execution_count": 24,
   "metadata": {},
   "outputs": [
    {
     "name": "stdout",
     "output_type": "stream",
     "text": [
      "16B-E\n",
      "393    317\n",
      "387    173\n",
      "386    159\n",
      "388    157\n",
      "385    120\n",
      "392     62\n",
      "394     12\n",
      "Name: count, dtype: int64\n",
      "\n",
      "Massimo: 394\n",
      "Minimo: 385\n",
      "Media: 389.054\n",
      "Varianza: 10.13722122122122\n"
     ]
    }
   ],
   "source": [
    "# Cifratura\n",
    "data = a128bi32_ref[\"16B-E\"]\n",
    "\n",
    "print_data(data)"
   ]
  },
  {
   "cell_type": "code",
   "execution_count": 25,
   "metadata": {},
   "outputs": [
    {
     "name": "stdout",
     "output_type": "stream",
     "text": [
      "16B-D\n",
      "801    490\n",
      "794    162\n",
      "799    153\n",
      "793     92\n",
      "800     73\n",
      "802     24\n",
      "798      6\n",
      "Name: count, dtype: int64\n",
      "\n",
      "Massimo: 802\n",
      "Minimo: 793\n",
      "Media: 798.757\n",
      "Varianza: 9.56751851851852\n"
     ]
    }
   ],
   "source": [
    "# Decifratura\n",
    "data = a128bi32_ref[\"16B-D\"]\n",
    "\n",
    "print_data(data)"
   ]
  },
  {
   "attachments": {},
   "cell_type": "markdown",
   "metadata": {},
   "source": [
    "#### PT 24 byte"
   ]
  },
  {
   "cell_type": "code",
   "execution_count": 26,
   "metadata": {},
   "outputs": [
    {
     "name": "stdout",
     "output_type": "stream",
     "text": [
      "24B-E\n",
      "470    382\n",
      "475    317\n",
      "468    117\n",
      "476     87\n",
      "469     52\n",
      "477     21\n",
      "467     15\n",
      "478      9\n",
      "Name: count, dtype: int64\n",
      "\n",
      "Massimo: 478\n",
      "Minimo: 467\n",
      "Media: 471.995\n",
      "Varianza: 9.34632132132132\n"
     ]
    }
   ],
   "source": [
    "# Cifratura\n",
    "data = a128bi32_ref[\"24B-E\"]\n",
    "\n",
    "print_data(data)"
   ]
  },
  {
   "cell_type": "code",
   "execution_count": 27,
   "metadata": {},
   "outputs": [
    {
     "name": "stdout",
     "output_type": "stream",
     "text": [
      "24B-D\n",
      "966    587\n",
      "967    274\n",
      "959     97\n",
      "964     19\n",
      "965     12\n",
      "968      6\n",
      "960      5\n",
      "Name: count, dtype: int64\n",
      "\n",
      "Massimo: 968\n",
      "Minimo: 959\n",
      "Media: 965.527\n",
      "Varianza: 5.100371371371371\n"
     ]
    }
   ],
   "source": [
    "# Decifratura\n",
    "data = a128bi32_ref[\"24B-D\"]\n",
    "\n",
    "print_data(data)"
   ]
  },
  {
   "attachments": {},
   "cell_type": "markdown",
   "metadata": {},
   "source": [
    "#### PT 32 byte"
   ]
  },
  {
   "cell_type": "code",
   "execution_count": 28,
   "metadata": {},
   "outputs": [
    {
     "name": "stdout",
     "output_type": "stream",
     "text": [
      "32B-E\n",
      "552    319\n",
      "558    232\n",
      "557    208\n",
      "553     89\n",
      "559     75\n",
      "560     72\n",
      "561      5\n",
      "Name: count, dtype: int64\n",
      "\n",
      "Massimo: 561\n",
      "Minimo: 552\n",
      "Media: 555.667\n",
      "Varianza: 8.891002002002004\n"
     ]
    }
   ],
   "source": [
    "# Cifratura\n",
    "data = a128bi32_ref[\"32B-E\"]\n",
    "\n",
    "print_data(data)"
   ]
  },
  {
   "cell_type": "code",
   "execution_count": 29,
   "metadata": {},
   "outputs": [
    {
     "name": "stdout",
     "output_type": "stream",
     "text": [
      "32B-D\n",
      "1132    554\n",
      "1131    195\n",
      "1134     84\n",
      "1139     73\n",
      "1133     71\n",
      "1140      9\n",
      "1135      7\n",
      "1138      7\n",
      "Name: count, dtype: int64\n",
      "\n",
      "Massimo: 1140\n",
      "Minimo: 1131\n",
      "Media: 1132.69\n",
      "Varianza: 4.598498498498498\n"
     ]
    }
   ],
   "source": [
    "# Decifratura\n",
    "data = a128bi32_ref[\"32B-D\"]\n",
    "\n",
    "print_data(data)"
   ]
  }
 ],
 "metadata": {
  "kernelspec": {
   "display_name": "Python 3",
   "language": "python",
   "name": "python3"
  },
  "language_info": {
   "codemirror_mode": {
    "name": "ipython",
    "version": 3
   },
   "file_extension": ".py",
   "mimetype": "text/x-python",
   "name": "python",
   "nbconvert_exporter": "python",
   "pygments_lexer": "ipython3",
   "version": "3.11.2"
  },
  "orig_nbformat": 4
 },
 "nbformat": 4,
 "nbformat_minor": 2
}
