{
 "cells": [
  {
   "attachments": {},
   "cell_type": "markdown",
   "metadata": {},
   "source": [
    "# Analisi dei dati raccolti"
   ]
  },
  {
   "attachments": {},
   "cell_type": "markdown",
   "metadata": {},
   "source": [
    "## Setup"
   ]
  },
  {
   "cell_type": "code",
   "execution_count": 1,
   "metadata": {},
   "outputs": [],
   "source": [
    "import pandas as pd"
   ]
  },
  {
   "cell_type": "code",
   "execution_count": 2,
   "metadata": {},
   "outputs": [],
   "source": [
    "def print_data(series: pd.Series) -> None:\n",
    "    print(series.value_counts())\n",
    "    print()\n",
    "    print(f\"Massimo: {series.max()}\\nMinimo: {series.min()}\\nMedia: {series.mean()}\\nVarianza: {series.var()}\")"
   ]
  },
  {
   "attachments": {},
   "cell_type": "markdown",
   "metadata": {},
   "source": [
    "## Ascon128v12"
   ]
  },
  {
   "cell_type": "code",
   "execution_count": 3,
   "metadata": {},
   "outputs": [],
   "source": [
    "path = \"../ascon128v12/data/{}.csv\""
   ]
  },
  {
   "attachments": {},
   "cell_type": "markdown",
   "metadata": {},
   "source": [
    "### Armv6m"
   ]
  },
  {
   "cell_type": "code",
   "execution_count": 4,
   "metadata": {},
   "outputs": [],
   "source": [
    "with open(path.format(\"armv6m\"), \"r\") as f:\n",
    "    a128_armv6m = pd.read_csv(f, delimiter=\";\")"
   ]
  },
  {
   "attachments": {},
   "cell_type": "markdown",
   "metadata": {},
   "source": [
    "#### PT vuoto"
   ]
  },
  {
   "cell_type": "code",
   "execution_count": 5,
   "metadata": {},
   "outputs": [
    {
     "name": "stdout",
     "output_type": "stream",
     "text": [
      "0B-E\n",
      "119    548\n",
      "120    274\n",
      "121    102\n",
      "122     32\n",
      "127     20\n",
      "126     20\n",
      "128      4\n",
      "Name: count, dtype: int64\n",
      "\n",
      "Massimo: 128\n",
      "Minimo: 119\n",
      "Media: 119.91\n",
      "Varianza: 2.7286286286286283\n"
     ]
    }
   ],
   "source": [
    "# Cifratura\n",
    "data = a128_armv6m[\"0B-E\"]\n",
    "\n",
    "print_data(data)"
   ]
  },
  {
   "cell_type": "code",
   "execution_count": 6,
   "metadata": {},
   "outputs": [
    {
     "name": "stdout",
     "output_type": "stream",
     "text": [
      "0B-D\n",
      "241    585\n",
      "243    173\n",
      "248     77\n",
      "250     58\n",
      "242     48\n",
      "249     40\n",
      "251     18\n",
      "244      1\n",
      "Name: count, dtype: int64\n",
      "\n",
      "Massimo: 251\n",
      "Minimo: 241\n",
      "Media: 242.958\n",
      "Varianza: 9.755991991991992\n"
     ]
    }
   ],
   "source": [
    "# Decifratura\n",
    "data = a128_armv6m[\"0B-D\"]\n",
    "\n",
    "print_data(data)"
   ]
  },
  {
   "attachments": {},
   "cell_type": "markdown",
   "metadata": {},
   "source": [
    "#### PT 1 byte"
   ]
  },
  {
   "cell_type": "code",
   "execution_count": 7,
   "metadata": {},
   "outputs": [
    {
     "name": "stdout",
     "output_type": "stream",
     "text": [
      "1B-E\n",
      "152    721\n",
      "154    173\n",
      "159     66\n",
      "153     22\n",
      "160     16\n",
      "155      2\n",
      "Name: count, dtype: int64\n",
      "\n",
      "Massimo: 160\n",
      "Minimo: 152\n",
      "Media: 152.964\n",
      "Varianza: 4.0647687687687695\n"
     ]
    }
   ],
   "source": [
    "# Cifratura\n",
    "data = a128_armv6m[\"1B-E\"]\n",
    "\n",
    "print_data(data)"
   ]
  },
  {
   "cell_type": "code",
   "execution_count": 8,
   "metadata": {},
   "outputs": [
    {
     "name": "stdout",
     "output_type": "stream",
     "text": [
      "1B-D\n",
      "309    439\n",
      "311    208\n",
      "310    121\n",
      "316     63\n",
      "318     61\n",
      "317     61\n",
      "319     30\n",
      "312     16\n",
      "320      1\n",
      "Name: count, dtype: int64\n",
      "\n",
      "Massimo: 320\n",
      "Minimo: 309\n",
      "Media: 311.374\n",
      "Varianza: 10.524648648648645\n"
     ]
    }
   ],
   "source": [
    "# Decifratura\n",
    "data = a128_armv6m[\"1B-D\"]\n",
    "\n",
    "print_data(data)"
   ]
  },
  {
   "attachments": {},
   "cell_type": "markdown",
   "metadata": {},
   "source": [
    "#### PT 8 byte"
   ]
  },
  {
   "cell_type": "code",
   "execution_count": 9,
   "metadata": {},
   "outputs": [
    {
     "name": "stdout",
     "output_type": "stream",
     "text": [
      "8B-E\n",
      "207    344\n",
      "206    289\n",
      "208    147\n",
      "209    113\n",
      "214     65\n",
      "213     24\n",
      "215     10\n",
      "216      7\n",
      "210      1\n",
      "Name: count, dtype: int64\n",
      "\n",
      "Massimo: 216\n",
      "Minimo: 206\n",
      "Media: 207.829\n",
      "Varianza: 5.47123023023023\n"
     ]
    }
   ],
   "source": [
    "# Cifratura\n",
    "data = a128_armv6m[\"8B-E\"]\n",
    "\n",
    "print_data(data)"
   ]
  },
  {
   "cell_type": "code",
   "execution_count": 10,
   "metadata": {},
   "outputs": [
    {
     "name": "stdout",
     "output_type": "stream",
     "text": [
      "8B-D\n",
      "418    354\n",
      "427    173\n",
      "420    142\n",
      "425    102\n",
      "426     90\n",
      "419     73\n",
      "428     53\n",
      "421     13\n",
      "Name: count, dtype: int64\n",
      "\n",
      "Massimo: 428\n",
      "Minimo: 418\n",
      "Media: 421.917\n",
      "Varianza: 15.50161261261261\n"
     ]
    }
   ],
   "source": [
    "# Decifratura\n",
    "data = a128_armv6m[\"8B-D\"]\n",
    "\n",
    "print_data(data)"
   ]
  },
  {
   "attachments": {},
   "cell_type": "markdown",
   "metadata": {},
   "source": [
    "#### PT 16 byte"
   ]
  },
  {
   "cell_type": "code",
   "execution_count": 11,
   "metadata": {},
   "outputs": [
    {
     "name": "stdout",
     "output_type": "stream",
     "text": [
      "16B-E\n",
      "265    396\n",
      "266    202\n",
      "273    112\n",
      "267    105\n",
      "272     76\n",
      "274     57\n",
      "275     32\n",
      "268     20\n",
      "Name: count, dtype: int64\n",
      "\n",
      "Massimo: 275\n",
      "Minimo: 265\n",
      "Media: 267.733\n",
      "Varianza: 12.053764764764766\n"
     ]
    }
   ],
   "source": [
    "# Cifratura\n",
    "data = a128_armv6m[\"16B-E\"]\n",
    "\n",
    "print_data(data)"
   ]
  },
  {
   "cell_type": "code",
   "execution_count": 12,
   "metadata": {},
   "outputs": [
    {
     "name": "stdout",
     "output_type": "stream",
     "text": [
      "16B-D\n",
      "547    216\n",
      "538    206\n",
      "548    155\n",
      "540    152\n",
      "539    126\n",
      "541     50\n",
      "545     47\n",
      "546     46\n",
      "542      1\n",
      "549      1\n",
      "Name: count, dtype: int64\n",
      "\n",
      "Massimo: 549\n",
      "Minimo: 538\n",
      "Media: 542.786\n",
      "Varianza: 16.674878878878875\n"
     ]
    }
   ],
   "source": [
    "# Decifratura\n",
    "data = a128_armv6m[\"16B-D\"]\n",
    "\n",
    "print_data(data)"
   ]
  },
  {
   "attachments": {},
   "cell_type": "markdown",
   "metadata": {},
   "source": [
    "#### PT 24 byte"
   ]
  },
  {
   "cell_type": "code",
   "execution_count": 13,
   "metadata": {},
   "outputs": [
    {
     "name": "stdout",
     "output_type": "stream",
     "text": [
      "24B-E\n",
      "324    495\n",
      "333    166\n",
      "326    106\n",
      "325     70\n",
      "331     69\n",
      "334     50\n",
      "332     42\n",
      "327      2\n",
      "Name: count, dtype: int64\n",
      "\n",
      "Massimo: 334\n",
      "Minimo: 324\n",
      "Media: 327.101\n",
      "Varianza: 15.426225225225224\n"
     ]
    }
   ],
   "source": [
    "# Cifratura\n",
    "data = a128_armv6m[\"24B-E\"]\n",
    "\n",
    "print_data(data)"
   ]
  },
  {
   "cell_type": "code",
   "execution_count": 14,
   "metadata": {},
   "outputs": [
    {
     "name": "stdout",
     "output_type": "stream",
     "text": [
      "24B-D\n",
      "668    338\n",
      "667    191\n",
      "659    113\n",
      "660    100\n",
      "658     96\n",
      "661     70\n",
      "666     58\n",
      "665     25\n",
      "669      9\n",
      "Name: count, dtype: int64\n",
      "\n",
      "Massimo: 669\n",
      "Minimo: 658\n",
      "Media: 664.36\n",
      "Varianza: 16.00640640640641\n"
     ]
    }
   ],
   "source": [
    "# Decifratura\n",
    "data = a128_armv6m[\"24B-D\"]\n",
    "\n",
    "print_data(data)"
   ]
  },
  {
   "attachments": {},
   "cell_type": "markdown",
   "metadata": {},
   "source": [
    "#### PT 32 byte"
   ]
  },
  {
   "cell_type": "code",
   "execution_count": 15,
   "metadata": {},
   "outputs": [
    {
     "name": "stdout",
     "output_type": "stream",
     "text": [
      "32B-E\n",
      "383    369\n",
      "390    196\n",
      "385    186\n",
      "392     90\n",
      "391     56\n",
      "384     51\n",
      "382     43\n",
      "393      8\n",
      "386      1\n",
      "Name: count, dtype: int64\n",
      "\n",
      "Massimo: 393\n",
      "Minimo: 382\n",
      "Media: 386.093\n",
      "Varianza: 12.57092192192192\n"
     ]
    }
   ],
   "source": [
    "# Cifratura\n",
    "data = a128_armv6m[\"32B-E\"]\n",
    "\n",
    "print_data(data)"
   ]
  },
  {
   "cell_type": "code",
   "execution_count": 16,
   "metadata": {},
   "outputs": [
    {
     "name": "stdout",
     "output_type": "stream",
     "text": [
      "32B-D\n",
      "788    486\n",
      "786    138\n",
      "787    123\n",
      "781     75\n",
      "780     62\n",
      "779     51\n",
      "785     23\n",
      "789     22\n",
      "778     20\n",
      "Name: count, dtype: int64\n",
      "\n",
      "Massimo: 789\n",
      "Minimo: 778\n",
      "Media: 785.874\n",
      "Varianza: 10.168292292292291\n"
     ]
    }
   ],
   "source": [
    "# Decifratura\n",
    "data = a128_armv6m[\"32B-D\"]\n",
    "\n",
    "print_data(data)"
   ]
  },
  {
   "attachments": {},
   "cell_type": "markdown",
   "metadata": {},
   "source": [
    "### Armv6m_lowsize"
   ]
  },
  {
   "cell_type": "code",
   "execution_count": 17,
   "metadata": {},
   "outputs": [],
   "source": [
    "with open(path.format(\"armv6m_lowsize\"), \"r\") as f:\n",
    "    a128_lowsize = pd.read_csv(f, delimiter=\";\")"
   ]
  },
  {
   "cell_type": "markdown",
   "metadata": {},
   "source": [
    "#### PT vuoto"
   ]
  },
  {
   "cell_type": "code",
   "execution_count": 18,
   "metadata": {},
   "outputs": [
    {
     "name": "stdout",
     "output_type": "stream",
     "text": [
      "0B-E\n",
      "130    408\n",
      "129    357\n",
      "131     76\n",
      "137     68\n",
      "132     65\n",
      "136     22\n",
      "138      3\n",
      "133      1\n",
      "Name: count, dtype: int64\n",
      "\n",
      "Massimo: 138\n",
      "Minimo: 129\n",
      "Media: 130.484\n",
      "Varianza: 4.788532532532531\n"
     ]
    }
   ],
   "source": [
    "# Cifratura\n",
    "data = a128_lowsize[\"0B-E\"]\n",
    "\n",
    "print_data(data)"
   ]
  },
  {
   "cell_type": "code",
   "execution_count": 19,
   "metadata": {},
   "outputs": [
    {
     "name": "stdout",
     "output_type": "stream",
     "text": [
      "0B-D\n",
      "264    286\n",
      "271    231\n",
      "263    167\n",
      "266    145\n",
      "265    130\n",
      "270     31\n",
      "272     10\n",
      "Name: count, dtype: int64\n",
      "\n",
      "Massimo: 272\n",
      "Minimo: 263\n",
      "Media: 266.136\n",
      "Varianza: 9.398902902902904\n"
     ]
    }
   ],
   "source": [
    "# Decifratura\n",
    "data = a128_lowsize[\"0B-D\"]\n",
    "\n",
    "print_data(data)"
   ]
  },
  {
   "attachments": {},
   "cell_type": "markdown",
   "metadata": {},
   "source": [
    "#### PT 1 byte"
   ]
  },
  {
   "cell_type": "code",
   "execution_count": 20,
   "metadata": {},
   "outputs": [
    {
     "name": "stdout",
     "output_type": "stream",
     "text": [
      "1B-E\n",
      "162    494\n",
      "163    235\n",
      "164    115\n",
      "170     70\n",
      "169     48\n",
      "165     37\n",
      "166      1\n",
      "Name: count, dtype: int64\n",
      "\n",
      "Massimo: 170\n",
      "Minimo: 162\n",
      "Media: 163.476\n",
      "Varianza: 5.703127127127126\n"
     ]
    }
   ],
   "source": [
    "# Cifratura\n",
    "data = a128_lowsize[\"1B-E\"]\n",
    "\n",
    "print_data(data)"
   ]
  },
  {
   "cell_type": "code",
   "execution_count": 21,
   "metadata": {},
   "outputs": [
    {
     "name": "stdout",
     "output_type": "stream",
     "text": [
      "1B-D\n",
      "337    259\n",
      "330    230\n",
      "332    169\n",
      "331    144\n",
      "329    138\n",
      "336     51\n",
      "338      9\n",
      "Name: count, dtype: int64\n",
      "\n",
      "Massimo: 338\n",
      "Minimo: 329\n",
      "Media: 332.535\n",
      "Varianza: 9.644419419419421\n"
     ]
    }
   ],
   "source": [
    "# Decifratura\n",
    "data = a128_lowsize[\"1B-D\"]\n",
    "\n",
    "print_data(data)"
   ]
  },
  {
   "attachments": {},
   "cell_type": "markdown",
   "metadata": {},
   "source": [
    "#### PT 8 byte"
   ]
  },
  {
   "cell_type": "code",
   "execution_count": 22,
   "metadata": {},
   "outputs": [
    {
     "name": "stdout",
     "output_type": "stream",
     "text": [
      "8B-E\n",
      "223    573\n",
      "225    215\n",
      "230    138\n",
      "231     43\n",
      "224     30\n",
      "226      1\n",
      "Name: count, dtype: int64\n",
      "\n",
      "Massimo: 231\n",
      "Minimo: 223\n",
      "Media: 224.773\n",
      "Varianza: 7.276747747747748\n"
     ]
    }
   ],
   "source": [
    "# Cifratura\n",
    "data = a128_lowsize[\"8B-E\"]\n",
    "\n",
    "print_data(data)"
   ]
  },
  {
   "cell_type": "code",
   "execution_count": 23,
   "metadata": {},
   "outputs": [
    {
     "name": "stdout",
     "output_type": "stream",
     "text": [
      "8B-D\n",
      "455    351\n",
      "453    230\n",
      "460    146\n",
      "461    137\n",
      "462     57\n",
      "454     41\n",
      "456     25\n",
      "463     13\n",
      "Name: count, dtype: int64\n",
      "\n",
      "Massimo: 463\n",
      "Minimo: 453\n",
      "Media: 456.579\n",
      "Varianza: 10.710469469469468\n"
     ]
    }
   ],
   "source": [
    "# Decifratura\n",
    "data = a128_lowsize[\"8B-D\"]\n",
    "\n",
    "print_data(data)"
   ]
  },
  {
   "attachments": {},
   "cell_type": "markdown",
   "metadata": {},
   "source": [
    "#### PT 16 byte"
   ]
  },
  {
   "cell_type": "code",
   "execution_count": 24,
   "metadata": {},
   "outputs": [
    {
     "name": "stdout",
     "output_type": "stream",
     "text": [
      "16B-E\n",
      "284    295\n",
      "286    254\n",
      "285    150\n",
      "291    114\n",
      "292    106\n",
      "287     78\n",
      "293      2\n",
      "288      1\n",
      "Name: count, dtype: int64\n",
      "\n",
      "Massimo: 293\n",
      "Minimo: 284\n",
      "Media: 286.56\n",
      "Varianza: 7.8702702702702725\n"
     ]
    }
   ],
   "source": [
    "# Cifratura\n",
    "data = a128_lowsize[\"16B-E\"]\n",
    "\n",
    "print_data(data)"
   ]
  },
  {
   "cell_type": "code",
   "execution_count": 25,
   "metadata": {},
   "outputs": [
    {
     "name": "stdout",
     "output_type": "stream",
     "text": [
      "16B-D\n",
      "580    212\n",
      "586    156\n",
      "588    143\n",
      "587    114\n",
      "585    114\n",
      "578    101\n",
      "581     93\n",
      "579     63\n",
      "589      4\n",
      "Name: count, dtype: int64\n",
      "\n",
      "Massimo: 589\n",
      "Minimo: 578\n",
      "Media: 583.312\n",
      "Varianza: 13.13178778778779\n"
     ]
    }
   ],
   "source": [
    "# Decifratura\n",
    "data = a128_lowsize[\"16B-D\"]\n",
    "\n",
    "print_data(data)"
   ]
  },
  {
   "attachments": {},
   "cell_type": "markdown",
   "metadata": {},
   "source": [
    "#### PT 24 byte"
   ]
  },
  {
   "cell_type": "code",
   "execution_count": 26,
   "metadata": {},
   "outputs": [
    {
     "name": "stdout",
     "output_type": "stream",
     "text": [
      "24B-E\n",
      "353    251\n",
      "346    219\n",
      "348    202\n",
      "347    154\n",
      "345    107\n",
      "352     31\n",
      "355     18\n",
      "354     16\n",
      "356      2\n",
      "Name: count, dtype: int64\n",
      "\n",
      "Massimo: 356\n",
      "Minimo: 345\n",
      "Media: 348.704\n",
      "Varianza: 9.86424824824825\n"
     ]
    }
   ],
   "source": [
    "# Cifratura\n",
    "data = a128_lowsize[\"24B-E\"]\n",
    "\n",
    "print_data(data)"
   ]
  },
  {
   "cell_type": "code",
   "execution_count": 27,
   "metadata": {},
   "outputs": [
    {
     "name": "stdout",
     "output_type": "stream",
     "text": [
      "24B-D\n",
      "711    240\n",
      "713    231\n",
      "705    170\n",
      "706    148\n",
      "712    124\n",
      "710     80\n",
      "714      7\n",
      "Name: count, dtype: int64\n",
      "\n",
      "Massimo: 714\n",
      "Minimo: 705\n",
      "Media: 709.767\n",
      "Varianza: 9.500211211211212\n"
     ]
    }
   ],
   "source": [
    "# Decifratura\n",
    "data = a128_lowsize[\"24B-D\"]\n",
    "\n",
    "print_data(data)"
   ]
  },
  {
   "attachments": {},
   "cell_type": "markdown",
   "metadata": {},
   "source": [
    "#### PT 32 byte"
   ]
  },
  {
   "cell_type": "code",
   "execution_count": 28,
   "metadata": {},
   "outputs": [
    {
     "name": "stdout",
     "output_type": "stream",
     "text": [
      "32B-E\n",
      "409    335\n",
      "414    267\n",
      "407    222\n",
      "415     88\n",
      "408     43\n",
      "416     38\n",
      "417      7\n",
      "Name: count, dtype: int64\n",
      "\n",
      "Massimo: 417\n",
      "Minimo: 407\n",
      "Media: 410.698\n",
      "Varianza: 10.211007007007005\n"
     ]
    }
   ],
   "source": [
    "# Cifratura\n",
    "data = a128_lowsize[\"32B-E\"]\n",
    "\n",
    "print_data(data)"
   ]
  },
  {
   "cell_type": "code",
   "execution_count": 29,
   "metadata": {},
   "outputs": [
    {
     "name": "stdout",
     "output_type": "stream",
     "text": [
      "32B-D\n",
      "838    562\n",
      "831    144\n",
      "836    101\n",
      "830     91\n",
      "837     80\n",
      "839     20\n",
      "835      2\n",
      "Name: count, dtype: int64\n",
      "\n",
      "Massimo: 839\n",
      "Minimo: 830\n",
      "Media: 835.996\n",
      "Varianza: 9.395379379379378\n"
     ]
    }
   ],
   "source": [
    "# Decifratura\n",
    "data = a128_lowsize[\"32B-D\"]\n",
    "\n",
    "print_data(data)"
   ]
  },
  {
   "attachments": {},
   "cell_type": "markdown",
   "metadata": {},
   "source": [
    "### Bi32_armv6m"
   ]
  },
  {
   "cell_type": "code",
   "execution_count": 30,
   "metadata": {},
   "outputs": [],
   "source": [
    "with open(path.format(\"bi32_armv6m\"), \"r\") as f:\n",
    "    a128_bi32 = pd.read_csv(f, delimiter=\";\")"
   ]
  },
  {
   "attachments": {},
   "cell_type": "markdown",
   "metadata": {},
   "source": [
    "#### PT vuoto"
   ]
  },
  {
   "cell_type": "code",
   "execution_count": 31,
   "metadata": {},
   "outputs": [
    {
     "name": "stdout",
     "output_type": "stream",
     "text": [
      "0B-E\n",
      "127    564\n",
      "128    220\n",
      "129     93\n",
      "134     58\n",
      "135     44\n",
      "130     19\n",
      "136      1\n",
      "131      1\n",
      "Name: count, dtype: int64\n",
      "\n",
      "Massimo: 136\n",
      "Minimo: 127\n",
      "Media: 128.234\n",
      "Varianza: 5.000244244244244\n"
     ]
    }
   ],
   "source": [
    "# Cifratura\n",
    "data = a128_bi32[\"0B-E\"]\n",
    "\n",
    "print_data(data)"
   ]
  },
  {
   "cell_type": "code",
   "execution_count": 32,
   "metadata": {},
   "outputs": [
    {
     "name": "stdout",
     "output_type": "stream",
     "text": [
      "0B-D\n",
      "257    538\n",
      "259    218\n",
      "264    153\n",
      "265     46\n",
      "258     34\n",
      "256     11\n",
      "Name: count, dtype: int64\n",
      "\n",
      "Massimo: 265\n",
      "Minimo: 256\n",
      "Media: 258.898\n",
      "Varianza: 7.763359359359358\n"
     ]
    }
   ],
   "source": [
    "# Decifratura\n",
    "data = a128_bi32[\"0B-D\"]\n",
    "\n",
    "print_data(data)"
   ]
  },
  {
   "attachments": {},
   "cell_type": "markdown",
   "metadata": {},
   "source": [
    "#### PT 1 byte"
   ]
  },
  {
   "cell_type": "code",
   "execution_count": 33,
   "metadata": {},
   "outputs": [
    {
     "name": "stdout",
     "output_type": "stream",
     "text": [
      "1B-E\n",
      "166    702\n",
      "168    107\n",
      "173    105\n",
      "167     50\n",
      "174     36\n",
      "Name: count, dtype: int64\n",
      "\n",
      "Massimo: 174\n",
      "Minimo: 166\n",
      "Media: 167.287\n",
      "Varianza: 6.2769079079079075\n"
     ]
    }
   ],
   "source": [
    "# Cifratura\n",
    "data = a128_bi32[\"1B-E\"]\n",
    "\n",
    "print_data(data)"
   ]
  },
  {
   "cell_type": "code",
   "execution_count": 34,
   "metadata": {},
   "outputs": [
    {
     "name": "stdout",
     "output_type": "stream",
     "text": [
      "1B-D\n",
      "336    283\n",
      "343    275\n",
      "338    229\n",
      "337    104\n",
      "335     91\n",
      "344     11\n",
      "342      7\n",
      "Name: count, dtype: int64\n",
      "\n",
      "Massimo: 344\n",
      "Minimo: 335\n",
      "Media: 338.526\n",
      "Varianza: 9.170494494494495\n"
     ]
    }
   ],
   "source": [
    "# Cifratura\n",
    "data = a128_bi32[\"1B-D\"]\n",
    "\n",
    "print_data(data)"
   ]
  },
  {
   "attachments": {},
   "cell_type": "markdown",
   "metadata": {},
   "source": [
    "#### PT 8 byte"
   ]
  },
  {
   "cell_type": "code",
   "execution_count": 35,
   "metadata": {},
   "outputs": [
    {
     "name": "stdout",
     "output_type": "stream",
     "text": [
      "8B-E\n",
      "219    348\n",
      "218    282\n",
      "226    144\n",
      "220     92\n",
      "221     81\n",
      "225     50\n",
      "227      3\n",
      "Name: count, dtype: int64\n",
      "\n",
      "Massimo: 227\n",
      "Minimo: 218\n",
      "Media: 220.304\n",
      "Varianza: 8.053637637637639\n"
     ]
    }
   ],
   "source": [
    "# Cifratura\n",
    "data = a128_bi32[\"8B-E\"]\n",
    "\n",
    "print_data(data)"
   ]
  },
  {
   "cell_type": "code",
   "execution_count": 36,
   "metadata": {},
   "outputs": [
    {
     "name": "stdout",
     "output_type": "stream",
     "text": [
      "8B-D\n",
      "449    350\n",
      "444    347\n",
      "442    122\n",
      "443    111\n",
      "450     55\n",
      "441     15\n",
      "Name: count, dtype: int64\n",
      "\n",
      "Massimo: 450\n",
      "Minimo: 441\n",
      "Media: 445.68\n",
      "Varianza: 8.650250250250249\n"
     ]
    }
   ],
   "source": [
    "# Decifratura\n",
    "data = a128_bi32[\"8B-D\"]\n",
    "\n",
    "print_data(data)"
   ]
  },
  {
   "attachments": {},
   "cell_type": "markdown",
   "metadata": {},
   "source": [
    "#### PT 16 byte"
   ]
  },
  {
   "cell_type": "code",
   "execution_count": 37,
   "metadata": {},
   "outputs": [
    {
     "name": "stdout",
     "output_type": "stream",
     "text": [
      "16B-E\n",
      "282    311\n",
      "289    232\n",
      "284    153\n",
      "281    138\n",
      "283    111\n",
      "288     42\n",
      "290     10\n",
      "285      3\n",
      "Name: count, dtype: int64\n",
      "\n",
      "Massimo: 290\n",
      "Minimo: 281\n",
      "Media: 284.244\n",
      "Varianza: 9.381845845845842\n"
     ]
    }
   ],
   "source": [
    "# Cifratura\n",
    "data = a128_bi32[\"16B-E\"]\n",
    "\n",
    "print_data(data)"
   ]
  },
  {
   "cell_type": "code",
   "execution_count": 38,
   "metadata": {},
   "outputs": [
    {
     "name": "stdout",
     "output_type": "stream",
     "text": [
      "16B-D\n",
      "578    321\n",
      "573    252\n",
      "572    186\n",
      "580    137\n",
      "579     43\n",
      "571     25\n",
      "577     18\n",
      "570     10\n",
      "581      8\n",
      "Name: count, dtype: int64\n",
      "\n",
      "Massimo: 581\n",
      "Minimo: 570\n",
      "Media: 575.692\n",
      "Varianza: 10.225361361361363\n"
     ]
    }
   ],
   "source": [
    "# Decifratura\n",
    "data = a128_bi32[\"16B-D\"]\n",
    "\n",
    "print_data(data)"
   ]
  },
  {
   "attachments": {},
   "cell_type": "markdown",
   "metadata": {},
   "source": [
    "#### PT 24 byte"
   ]
  },
  {
   "cell_type": "code",
   "execution_count": 39,
   "metadata": {},
   "outputs": [
    {
     "name": "stdout",
     "output_type": "stream",
     "text": [
      "24B-E\n",
      "352    324\n",
      "345    266\n",
      "347    230\n",
      "346     97\n",
      "344     53\n",
      "353     30\n",
      "Name: count, dtype: int64\n",
      "\n",
      "Massimo: 353\n",
      "Minimo: 344\n",
      "Media: 348.012\n",
      "Varianza: 9.803659659659663\n"
     ]
    }
   ],
   "source": [
    "# Cifratura\n",
    "data = a128_bi32[\"24B-E\"]\n",
    "\n",
    "print_data(data)"
   ]
  },
  {
   "cell_type": "code",
   "execution_count": 40,
   "metadata": {},
   "outputs": [
    {
     "name": "stdout",
     "output_type": "stream",
     "text": [
      "24B-D\n",
      "707    261\n",
      "709    213\n",
      "701    187\n",
      "702    145\n",
      "708    115\n",
      "706     68\n",
      "710     11\n",
      "Name: count, dtype: int64\n",
      "\n",
      "Massimo: 710\n",
      "Minimo: 701\n",
      "Media: 705.659\n",
      "Varianza: 9.702421421421421\n"
     ]
    }
   ],
   "source": [
    "# Decifratura\n",
    "data = a128_bi32[\"24B-D\"]\n",
    "\n",
    "print_data(data)"
   ]
  },
  {
   "attachments": {},
   "cell_type": "markdown",
   "metadata": {},
   "source": [
    "#### PT 32 byte"
   ]
  },
  {
   "cell_type": "code",
   "execution_count": 41,
   "metadata": {},
   "outputs": [
    {
     "name": "stdout",
     "output_type": "stream",
     "text": [
      "32B-E\n",
      "410    383\n",
      "415    306\n",
      "408    141\n",
      "416     91\n",
      "409     77\n",
      "407      2\n",
      "Name: count, dtype: int64\n",
      "\n",
      "Massimo: 416\n",
      "Minimo: 407\n",
      "Media: 411.711\n",
      "Varianza: 8.666145145145144\n"
     ]
    }
   ],
   "source": [
    "# Cifratura\n",
    "data = a128_bi32[\"32B-E\"]\n",
    "\n",
    "print_data(data)"
   ]
  },
  {
   "cell_type": "code",
   "execution_count": 42,
   "metadata": {},
   "outputs": [
    {
     "name": "stdout",
     "output_type": "stream",
     "text": [
      "32B-D\n",
      "837    296\n",
      "838    275\n",
      "830    174\n",
      "836    108\n",
      "831     72\n",
      "835     67\n",
      "839      8\n",
      "Name: count, dtype: int64\n",
      "\n",
      "Massimo: 839\n",
      "Minimo: 830\n",
      "Media: 835.399\n",
      "Varianza: 9.247046046046044\n"
     ]
    }
   ],
   "source": [
    "# Decifratura\n",
    "data = a128_bi32[\"32B-D\"]\n",
    "\n",
    "print_data(data)"
   ]
  },
  {
   "attachments": {},
   "cell_type": "markdown",
   "metadata": {},
   "source": [
    "### Ref"
   ]
  },
  {
   "cell_type": "code",
   "execution_count": 43,
   "metadata": {},
   "outputs": [],
   "source": [
    "with open(path.format(\"ref\"), \"r\") as f:\n",
    "    a128_ref = pd.read_csv(f, delimiter=\";\")"
   ]
  },
  {
   "attachments": {},
   "cell_type": "markdown",
   "metadata": {},
   "source": [
    "#### PT vuoto"
   ]
  },
  {
   "cell_type": "code",
   "execution_count": 44,
   "metadata": {},
   "outputs": [
    {
     "name": "stdout",
     "output_type": "stream",
     "text": [
      "0B-E\n",
      "174    408\n",
      "173    289\n",
      "181    131\n",
      "176     84\n",
      "175     61\n",
      "180     24\n",
      "182      3\n",
      "Name: count, dtype: int64\n",
      "\n",
      "Massimo: 182\n",
      "Minimo: 173\n",
      "Media: 175.025\n",
      "Varianza: 7.1174924924924925\n"
     ]
    }
   ],
   "source": [
    "# Cifratura\n",
    "data = a128_ref[\"0B-E\"]\n",
    "\n",
    "print_data(data)"
   ]
  },
  {
   "cell_type": "code",
   "execution_count": 45,
   "metadata": {},
   "outputs": [
    {
     "name": "stdout",
     "output_type": "stream",
     "text": [
      "0B-D\n",
      "362    394\n",
      "364    184\n",
      "369    150\n",
      "371    123\n",
      "361     75\n",
      "363     36\n",
      "370     28\n",
      "372     10\n",
      "Name: count, dtype: int64\n",
      "\n",
      "Massimo: 372\n",
      "Minimo: 361\n",
      "Media: 364.81\n",
      "Varianza: 13.06896896896897\n"
     ]
    }
   ],
   "source": [
    "# Decifratura\n",
    "data = a128_ref[\"0B-D\"]\n",
    "\n",
    "print_data(data)"
   ]
  },
  {
   "attachments": {},
   "cell_type": "markdown",
   "metadata": {},
   "source": [
    "#### PT 1 byte"
   ]
  },
  {
   "cell_type": "code",
   "execution_count": 46,
   "metadata": {},
   "outputs": [
    {
     "name": "stdout",
     "output_type": "stream",
     "text": [
      "1B-E\n",
      "213    529\n",
      "215    215\n",
      "220    111\n",
      "214     67\n",
      "221     56\n",
      "216      8\n",
      "222      7\n",
      "223      7\n",
      "Name: count, dtype: int64\n",
      "\n",
      "Massimo: 223\n",
      "Minimo: 213\n",
      "Media: 214.879\n",
      "Varianza: 7.766125125125125\n"
     ]
    }
   ],
   "source": [
    "# Cifratura\n",
    "data = a128_ref[\"1B-E\"]\n",
    "\n",
    "print_data(data)"
   ]
  },
  {
   "cell_type": "code",
   "execution_count": 47,
   "metadata": {},
   "outputs": [
    {
     "name": "stdout",
     "output_type": "stream",
     "text": [
      "1B-D\n",
      "443    409\n",
      "445    199\n",
      "452    142\n",
      "450    124\n",
      "453     45\n",
      "451     30\n",
      "444     29\n",
      "442     22\n",
      "Name: count, dtype: int64\n",
      "\n",
      "Massimo: 453\n",
      "Minimo: 442\n",
      "Media: 446.241\n",
      "Varianza: 14.355274274274272\n"
     ]
    }
   ],
   "source": [
    "# Decifratura\n",
    "data = a128_ref[\"1B-D\"]\n",
    "\n",
    "print_data(data)"
   ]
  },
  {
   "attachments": {},
   "cell_type": "markdown",
   "metadata": {},
   "source": [
    "#### PT 8 byte"
   ]
  },
  {
   "cell_type": "code",
   "execution_count": 48,
   "metadata": {},
   "outputs": [
    {
     "name": "stdout",
     "output_type": "stream",
     "text": [
      "8B-E\n",
      "299    440\n",
      "301    229\n",
      "306    152\n",
      "308     66\n",
      "307     65\n",
      "300     26\n",
      "309     21\n",
      "302      1\n",
      "Name: count, dtype: int64\n",
      "\n",
      "Massimo: 309\n",
      "Minimo: 299\n",
      "Media: 301.875\n",
      "Varianza: 11.751126126126126\n"
     ]
    }
   ],
   "source": [
    "# Cifratura\n",
    "data = a128_ref[\"8B-E\"]\n",
    "\n",
    "print_data(data)"
   ]
  },
  {
   "cell_type": "code",
   "execution_count": 49,
   "metadata": {},
   "outputs": [
    {
     "name": "stdout",
     "output_type": "stream",
     "text": [
      "8B-D\n",
      "626    286\n",
      "625    151\n",
      "616    117\n",
      "624    117\n",
      "618    108\n",
      "617     81\n",
      "619     65\n",
      "623     61\n",
      "627     14\n",
      "Name: count, dtype: int64\n",
      "\n",
      "Massimo: 627\n",
      "Minimo: 616\n",
      "Media: 622.228\n",
      "Varianza: 15.327343343343342\n"
     ]
    }
   ],
   "source": [
    "# Decifratura\n",
    "data = a128_ref[\"8B-D\"]\n",
    "\n",
    "print_data(data)"
   ]
  },
  {
   "attachments": {},
   "cell_type": "markdown",
   "metadata": {},
   "source": [
    "#### PT 16 byte"
   ]
  },
  {
   "cell_type": "code",
   "execution_count": 50,
   "metadata": {},
   "outputs": [
    {
     "name": "stdout",
     "output_type": "stream",
     "text": [
      "16B-E\n",
      "386    253\n",
      "387    178\n",
      "388    129\n",
      "394    118\n",
      "389     90\n",
      "396     84\n",
      "393     74\n",
      "395     70\n",
      "397      3\n",
      "390      1\n",
      "Name: count, dtype: int64\n",
      "\n",
      "Massimo: 397\n",
      "Minimo: 386\n",
      "Media: 389.675\n",
      "Varianza: 13.639014014014014\n"
     ]
    }
   ],
   "source": [
    "# Cifratura\n",
    "data = a128_ref[\"16B-E\"]\n",
    "\n",
    "print_data(data)"
   ]
  },
  {
   "cell_type": "code",
   "execution_count": 51,
   "metadata": {},
   "outputs": [
    {
     "name": "stdout",
     "output_type": "stream",
     "text": [
      "16B-D\n",
      "803    436\n",
      "796    252\n",
      "804    151\n",
      "801    104\n",
      "802     46\n",
      "795      4\n",
      "797      4\n",
      "794      2\n",
      "805      1\n",
      "Name: count, dtype: int64\n",
      "\n",
      "Massimo: 805\n",
      "Minimo: 794\n",
      "Media: 801.061\n",
      "Varianza: 9.777056056056058\n"
     ]
    }
   ],
   "source": [
    "# Decifratura\n",
    "data = a128_ref[\"16B-D\"]\n",
    "\n",
    "print_data(data)"
   ]
  },
  {
   "attachments": {},
   "cell_type": "markdown",
   "metadata": {},
   "source": [
    "#### PT 24 byte"
   ]
  },
  {
   "cell_type": "code",
   "execution_count": 52,
   "metadata": {},
   "outputs": [
    {
     "name": "stdout",
     "output_type": "stream",
     "text": [
      "24B-E\n",
      "474    250\n",
      "483    235\n",
      "481    181\n",
      "476    165\n",
      "475     72\n",
      "473     64\n",
      "482     17\n",
      "484     16\n",
      "Name: count, dtype: int64\n",
      "\n",
      "Massimo: 484\n",
      "Minimo: 473\n",
      "Media: 478.016\n",
      "Varianza: 15.275019019019021\n"
     ]
    }
   ],
   "source": [
    "# Cifratura\n",
    "data = a128_ref[\"24B-E\"]\n",
    "\n",
    "print_data(data)"
   ]
  },
  {
   "cell_type": "code",
   "execution_count": 53,
   "metadata": {},
   "outputs": [
    {
     "name": "stdout",
     "output_type": "stream",
     "text": [
      "24B-D\n",
      "981    694\n",
      "980    167\n",
      "974     52\n",
      "973     38\n",
      "982     37\n",
      "979      9\n",
      "978      3\n",
      "Name: count, dtype: int64\n",
      "\n",
      "Massimo: 982\n",
      "Minimo: 973\n",
      "Media: 980.175\n",
      "Varianza: 4.570945945945947\n"
     ]
    }
   ],
   "source": [
    "# Decifratura\n",
    "data = a128_ref[\"24B-D\"]\n",
    "\n",
    "print_data(data)"
   ]
  },
  {
   "attachments": {},
   "cell_type": "markdown",
   "metadata": {},
   "source": [
    "#### PT 32 byte"
   ]
  },
  {
   "cell_type": "code",
   "execution_count": 54,
   "metadata": {},
   "outputs": [
    {
     "name": "stdout",
     "output_type": "stream",
     "text": [
      "32B-E\n",
      "570    265\n",
      "561    197\n",
      "571    160\n",
      "563    148\n",
      "568    103\n",
      "569     76\n",
      "562     31\n",
      "564     17\n",
      "572      3\n",
      "Name: count, dtype: int64\n",
      "\n",
      "Massimo: 572\n",
      "Minimo: 561\n",
      "Media: 566.725\n",
      "Varianza: 15.755130130130134\n"
     ]
    }
   ],
   "source": [
    "# Cifratura\n",
    "data = a128_ref[\"32B-E\"]\n",
    "\n",
    "print_data(data)"
   ]
  },
  {
   "cell_type": "code",
   "execution_count": 55,
   "metadata": {},
   "outputs": [
    {
     "name": "stdout",
     "output_type": "stream",
     "text": [
      "32B-D\n",
      "1158    390\n",
      "1159    262\n",
      "1160    143\n",
      "1166     74\n",
      "1161     65\n",
      "1165     56\n",
      "1167      9\n",
      "1162      1\n",
      "Name: count, dtype: int64\n",
      "\n",
      "Massimo: 1167\n",
      "Minimo: 1158\n",
      "Media: 1159.812\n",
      "Varianza: 6.367023023023022\n"
     ]
    }
   ],
   "source": [
    "# Decifratura\n",
    "data = a128_ref[\"32B-D\"]\n",
    "\n",
    "print_data(data)"
   ]
  }
 ],
 "metadata": {
  "kernelspec": {
   "display_name": "Python 3",
   "language": "python",
   "name": "python3"
  },
  "language_info": {
   "codemirror_mode": {
    "name": "ipython",
    "version": 3
   },
   "file_extension": ".py",
   "mimetype": "text/x-python",
   "name": "python",
   "nbconvert_exporter": "python",
   "pygments_lexer": "ipython3",
   "version": "3.11.2"
  },
  "orig_nbformat": 4
 },
 "nbformat": 4,
 "nbformat_minor": 2
}
