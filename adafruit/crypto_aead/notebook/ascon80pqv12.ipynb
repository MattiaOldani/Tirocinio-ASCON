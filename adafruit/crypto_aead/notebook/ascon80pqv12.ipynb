{
 "cells": [
  {
   "attachments": {},
   "cell_type": "markdown",
   "metadata": {},
   "source": [
    "# Analisi dei dati raccolti"
   ]
  },
  {
   "attachments": {},
   "cell_type": "markdown",
   "metadata": {},
   "source": [
    "## Setup"
   ]
  },
  {
   "cell_type": "code",
   "execution_count": 5,
   "metadata": {},
   "outputs": [],
   "source": [
    "import pandas as pd"
   ]
  },
  {
   "cell_type": "code",
   "execution_count": 6,
   "metadata": {},
   "outputs": [],
   "source": [
    "def print_data(series: pd.Series) -> None:\n",
    "    print(series.value_counts())\n",
    "    print()\n",
    "    print(f\"Massimo: {series.max()}\\nMinimo: {series.min()}\\nMedia: {series.mean()}\\nVarianza: {series.var()}\")"
   ]
  },
  {
   "attachments": {},
   "cell_type": "markdown",
   "metadata": {},
   "source": [
    "## Ascon80pqv12"
   ]
  },
  {
   "cell_type": "code",
   "execution_count": 7,
   "metadata": {},
   "outputs": [],
   "source": [
    "path = \"../ascon80pqv12/data/{}.csv\""
   ]
  },
  {
   "attachments": {},
   "cell_type": "markdown",
   "metadata": {},
   "source": [
    "### Armv6m"
   ]
  },
  {
   "cell_type": "code",
   "execution_count": 8,
   "metadata": {},
   "outputs": [],
   "source": [
    "with open(path.format(\"armv6m\"), \"r\") as f:\n",
    "    a80_armv6m = pd.read_csv(f, delimiter=\";\")"
   ]
  },
  {
   "attachments": {},
   "cell_type": "markdown",
   "metadata": {},
   "source": [
    "#### PT vuoto"
   ]
  },
  {
   "cell_type": "code",
   "execution_count": 9,
   "metadata": {},
   "outputs": [
    {
     "name": "stdout",
     "output_type": "stream",
     "text": [
      "0B-E\n",
      "126    524\n",
      "127    217\n",
      "134     97\n",
      "133     97\n",
      "128     45\n",
      "135      9\n",
      "129      7\n",
      "136      3\n",
      "137      1\n",
      "Name: count, dtype: int64\n",
      "\n",
      "Massimo: 137\n",
      "Minimo: 126\n",
      "Media: 127.905\n",
      "Varianza: 8.950925925925926\n"
     ]
    }
   ],
   "source": [
    "# Cifratura\n",
    "data = a80_armv6m[\"0B-E\"]\n",
    "\n",
    "print_data(data)"
   ]
  },
  {
   "cell_type": "code",
   "execution_count": 10,
   "metadata": {},
   "outputs": [
    {
     "name": "stdout",
     "output_type": "stream",
     "text": [
      "0B-D\n",
      "256    477\n",
      "255    233\n",
      "263     91\n",
      "257     60\n",
      "265     55\n",
      "258     54\n",
      "264     20\n",
      "262      6\n",
      "266      4\n",
      "Name: count, dtype: int64\n",
      "\n",
      "Massimo: 266\n",
      "Minimo: 255\n",
      "Media: 257.303\n",
      "Varianza: 9.630821821821824\n"
     ]
    }
   ],
   "source": [
    "# Decifratura\n",
    "data = a80_armv6m[\"0B-D\"]\n",
    "\n",
    "print_data(data)"
   ]
  },
  {
   "attachments": {},
   "cell_type": "markdown",
   "metadata": {},
   "source": [
    "#### PT 1 byte"
   ]
  },
  {
   "cell_type": "code",
   "execution_count": 11,
   "metadata": {},
   "outputs": [
    {
     "name": "stdout",
     "output_type": "stream",
     "text": [
      "1B-E\n",
      "159    720\n",
      "161    130\n",
      "166     65\n",
      "168     36\n",
      "160     25\n",
      "167     17\n",
      "169      7\n",
      "Name: count, dtype: int64\n",
      "\n",
      "Massimo: 169\n",
      "Minimo: 159\n",
      "Media: 160.27\n",
      "Varianza: 6.827927927927927\n"
     ]
    }
   ],
   "source": [
    "# Cifratura\n",
    "data = a80_armv6m[\"1B-E\"]\n",
    "\n",
    "print_data(data)"
   ]
  },
  {
   "cell_type": "code",
   "execution_count": 12,
   "metadata": {},
   "outputs": [
    {
     "name": "stdout",
     "output_type": "stream",
     "text": [
      "1B-D\n",
      "324    487\n",
      "333    156\n",
      "323    133\n",
      "326     81\n",
      "331     79\n",
      "325     38\n",
      "332     16\n",
      "334     10\n",
      "Name: count, dtype: int64\n",
      "\n",
      "Massimo: 334\n",
      "Minimo: 323\n",
      "Media: 326.252\n",
      "Varianza: 13.968464464464462\n"
     ]
    }
   ],
   "source": [
    "# Decifratura\n",
    "data = a80_armv6m[\"1B-D\"]\n",
    "\n",
    "print_data(data)"
   ]
  },
  {
   "attachments": {},
   "cell_type": "markdown",
   "metadata": {},
   "source": [
    "#### PT 8 byte"
   ]
  },
  {
   "cell_type": "code",
   "execution_count": 13,
   "metadata": {},
   "outputs": [
    {
     "name": "stdout",
     "output_type": "stream",
     "text": [
      "8B-E\n",
      "214    369\n",
      "213    327\n",
      "215     95\n",
      "216     73\n",
      "221     46\n",
      "223     41\n",
      "222     27\n",
      "220     19\n",
      "224      3\n",
      "Name: count, dtype: int64\n",
      "\n",
      "Massimo: 224\n",
      "Minimo: 213\n",
      "Media: 214.965\n",
      "Varianza: 8.077852852852855\n"
     ]
    }
   ],
   "source": [
    "# Cifratura\n",
    "data = a80_armv6m[\"8B-E\"]\n",
    "\n",
    "print_data(data)"
   ]
  },
  {
   "cell_type": "code",
   "execution_count": 14,
   "metadata": {},
   "outputs": [
    {
     "name": "stdout",
     "output_type": "stream",
     "text": [
      "8B-D\n",
      "432    253\n",
      "433    210\n",
      "442    203\n",
      "441    119\n",
      "434     84\n",
      "440     50\n",
      "435     48\n",
      "439     27\n",
      "443      6\n",
      "Name: count, dtype: int64\n",
      "\n",
      "Massimo: 443\n",
      "Minimo: 432\n",
      "Media: 436.278\n",
      "Varianza: 17.8825985985986\n"
     ]
    }
   ],
   "source": [
    "# Decifratura\n",
    "data = a80_armv6m[\"8B-D\"]\n",
    "\n",
    "print_data(data)"
   ]
  },
  {
   "attachments": {},
   "cell_type": "markdown",
   "metadata": {},
   "source": [
    "#### PT 16 byte"
   ]
  },
  {
   "cell_type": "code",
   "execution_count": 15,
   "metadata": {},
   "outputs": [
    {
     "name": "stdout",
     "output_type": "stream",
     "text": [
      "16B-E\n",
      "272    386\n",
      "273    204\n",
      "281    127\n",
      "282     98\n",
      "274     83\n",
      "280     51\n",
      "279     30\n",
      "275     19\n",
      "283      2\n",
      "Name: count, dtype: int64\n",
      "\n",
      "Massimo: 283\n",
      "Minimo: 272\n",
      "Media: 275.19\n",
      "Varianza: 15.609509509509511\n"
     ]
    }
   ],
   "source": [
    "# Cifratura\n",
    "data = a80_armv6m[\"16B-E\"]\n",
    "\n",
    "print_data(data)"
   ]
  },
  {
   "cell_type": "code",
   "execution_count": 16,
   "metadata": {},
   "outputs": [
    {
     "name": "stdout",
     "output_type": "stream",
     "text": [
      "16B-D\n",
      "552    250\n",
      "561    212\n",
      "562    188\n",
      "553    162\n",
      "554     72\n",
      "560     56\n",
      "559     39\n",
      "555     15\n",
      "563      6\n",
      "Name: count, dtype: int64\n",
      "\n",
      "Massimo: 563\n",
      "Minimo: 552\n",
      "Media: 556.926\n",
      "Varianza: 18.531055055055052\n"
     ]
    }
   ],
   "source": [
    "# Decifratura\n",
    "data = a80_armv6m[\"16B-D\"]\n",
    "\n",
    "print_data(data)"
   ]
  },
  {
   "attachments": {},
   "cell_type": "markdown",
   "metadata": {},
   "source": [
    "#### PT 24 byte"
   ]
  },
  {
   "cell_type": "code",
   "execution_count": 17,
   "metadata": {},
   "outputs": [
    {
     "name": "stdout",
     "output_type": "stream",
     "text": [
      "24B-E\n",
      "331    460\n",
      "340    188\n",
      "333    135\n",
      "332     82\n",
      "341     62\n",
      "338     54\n",
      "339     19\n",
      "Name: count, dtype: int64\n",
      "\n",
      "Massimo: 341\n",
      "Minimo: 331\n",
      "Media: 334.194\n",
      "Varianza: 15.726090090090095\n"
     ]
    }
   ],
   "source": [
    "# Cifratura\n",
    "data = a80_armv6m[\"24B-E\"]\n",
    "\n",
    "print_data(data)"
   ]
  },
  {
   "cell_type": "code",
   "execution_count": 18,
   "metadata": {},
   "outputs": [
    {
     "name": "stdout",
     "output_type": "stream",
     "text": [
      "24B-D\n",
      "681    357\n",
      "672    225\n",
      "682    221\n",
      "674     79\n",
      "673     58\n",
      "679     27\n",
      "680     21\n",
      "675     11\n",
      "683      1\n",
      "Name: count, dtype: int64\n",
      "\n",
      "Massimo: 683\n",
      "Minimo: 672\n",
      "Media: 678.04\n",
      "Varianza: 17.81421421421421\n"
     ]
    }
   ],
   "source": [
    "# Decifratura\n",
    "data = a80_armv6m[\"24B-D\"]\n",
    "\n",
    "print_data(data)"
   ]
  },
  {
   "attachments": {},
   "cell_type": "markdown",
   "metadata": {},
   "source": [
    "#### PT 32 byte"
   ]
  },
  {
   "cell_type": "code",
   "execution_count": 19,
   "metadata": {},
   "outputs": [
    {
     "name": "stdout",
     "output_type": "stream",
     "text": [
      "32B-E\n",
      "390    487\n",
      "399    257\n",
      "392     76\n",
      "397     73\n",
      "389     51\n",
      "391     20\n",
      "398     20\n",
      "400     16\n",
      "Name: count, dtype: int64\n",
      "\n",
      "Massimo: 400\n",
      "Minimo: 389\n",
      "Media: 393.265\n",
      "Varianza: 17.005780780780782\n"
     ]
    }
   ],
   "source": [
    "# Cifratura\n",
    "data = a80_armv6m[\"32B-E\"]\n",
    "\n",
    "print_data(data)"
   ]
  },
  {
   "cell_type": "code",
   "execution_count": 20,
   "metadata": {},
   "outputs": [
    {
     "name": "stdout",
     "output_type": "stream",
     "text": [
      "32B-D\n",
      "801    541\n",
      "794    193\n",
      "802    137\n",
      "799     57\n",
      "792     36\n",
      "800     26\n",
      "793     10\n",
      "Name: count, dtype: int64\n",
      "\n",
      "Massimo: 802\n",
      "Minimo: 792\n",
      "Media: 799.242\n",
      "Varianza: 10.32375975975976\n"
     ]
    }
   ],
   "source": [
    "# Decifratura\n",
    "data = a80_armv6m[\"32B-D\"]\n",
    "\n",
    "print_data(data)"
   ]
  },
  {
   "attachments": {},
   "cell_type": "markdown",
   "metadata": {},
   "source": [
    "### Armv6m_lowsize"
   ]
  },
  {
   "cell_type": "code",
   "execution_count": 21,
   "metadata": {},
   "outputs": [],
   "source": [
    "with open(path.format(\"armv6m_lowsize\"), \"r\") as f:\n",
    "    a80_lowsize = pd.read_csv(f, delimiter=\";\")"
   ]
  },
  {
   "cell_type": "markdown",
   "metadata": {},
   "source": [
    "#### PT vuoto"
   ]
  },
  {
   "cell_type": "code",
   "execution_count": 22,
   "metadata": {},
   "outputs": [
    {
     "name": "stdout",
     "output_type": "stream",
     "text": [
      "0B-E\n",
      "136    509\n",
      "135    290\n",
      "143     91\n",
      "138     49\n",
      "137     39\n",
      "142     18\n",
      "144      4\n",
      "Name: count, dtype: int64\n",
      "\n",
      "Massimo: 144\n",
      "Minimo: 135\n",
      "Media: 136.624\n",
      "Varianza: 5.504128128128128\n"
     ]
    }
   ],
   "source": [
    "# Cifratura\n",
    "data = a80_lowsize[\"0B-E\"]\n",
    "\n",
    "print_data(data)"
   ]
  },
  {
   "cell_type": "code",
   "execution_count": 23,
   "metadata": {},
   "outputs": [
    {
     "name": "stdout",
     "output_type": "stream",
     "text": [
      "0B-D\n",
      "276    499\n",
      "278    164\n",
      "283    103\n",
      "275     87\n",
      "285     72\n",
      "277     60\n",
      "284     11\n",
      "286      4\n",
      "Name: count, dtype: int64\n",
      "\n",
      "Massimo: 286\n",
      "Minimo: 275\n",
      "Media: 277.798\n",
      "Varianza: 9.56275875875876\n"
     ]
    }
   ],
   "source": [
    "# Decifratura\n",
    "data = a80_lowsize[\"0B-D\"]\n",
    "\n",
    "print_data(data)"
   ]
  },
  {
   "attachments": {},
   "cell_type": "markdown",
   "metadata": {},
   "source": [
    "#### PT 1 byte"
   ]
  },
  {
   "cell_type": "code",
   "execution_count": 24,
   "metadata": {},
   "outputs": [
    {
     "name": "stdout",
     "output_type": "stream",
     "text": [
      "1B-E\n",
      "168    386\n",
      "169    279\n",
      "170    144\n",
      "176     89\n",
      "175     52\n",
      "171     47\n",
      "177      3\n",
      "Name: count, dtype: int64\n",
      "\n",
      "Massimo: 177\n",
      "Minimo: 168\n",
      "Media: 169.811\n",
      "Varianza: 6.49177077077077\n"
     ]
    }
   ],
   "source": [
    "# Cifratura\n",
    "data = a80_lowsize[\"1B-E\"]\n",
    "\n",
    "print_data(data)"
   ]
  },
  {
   "cell_type": "code",
   "execution_count": 25,
   "metadata": {},
   "outputs": [
    {
     "name": "stdout",
     "output_type": "stream",
     "text": [
      "1B-D\n",
      "342    388\n",
      "341    179\n",
      "351    127\n",
      "344    108\n",
      "349     77\n",
      "343     66\n",
      "350     37\n",
      "348      9\n",
      "352      9\n",
      "Name: count, dtype: int64\n",
      "\n",
      "Massimo: 352\n",
      "Minimo: 341\n",
      "Media: 344.225\n",
      "Varianza: 13.391766766766766\n"
     ]
    }
   ],
   "source": [
    "# Decifratura\n",
    "data = a80_lowsize[\"1B-D\"]\n",
    "\n",
    "print_data(data)"
   ]
  },
  {
   "attachments": {},
   "cell_type": "markdown",
   "metadata": {},
   "source": [
    "#### PT 8 byte"
   ]
  },
  {
   "cell_type": "code",
   "execution_count": 26,
   "metadata": {},
   "outputs": [
    {
     "name": "stdout",
     "output_type": "stream",
     "text": [
      "8B-E\n",
      "229    607\n",
      "231    199\n",
      "236     78\n",
      "238     45\n",
      "230     39\n",
      "237     25\n",
      "239      6\n",
      "232      1\n",
      "Name: count, dtype: int64\n",
      "\n",
      "Massimo: 239\n",
      "Minimo: 229\n",
      "Media: 230.651\n",
      "Varianza: 7.792991991991993\n"
     ]
    }
   ],
   "source": [
    "# Cifratura\n",
    "data = a80_lowsize[\"8B-E\"]\n",
    "\n",
    "print_data(data)"
   ]
  },
  {
   "cell_type": "code",
   "execution_count": 27,
   "metadata": {},
   "outputs": [
    {
     "name": "stdout",
     "output_type": "stream",
     "text": [
      "8B-D\n",
      "465    327\n",
      "467    166\n",
      "474    159\n",
      "466    108\n",
      "475     95\n",
      "473     67\n",
      "472     53\n",
      "468     22\n",
      "476      2\n",
      "469      1\n",
      "Name: count, dtype: int64\n",
      "\n",
      "Massimo: 476\n",
      "Minimo: 465\n",
      "Media: 468.82\n",
      "Varianza: 15.91551551551551\n"
     ]
    }
   ],
   "source": [
    "# Decifratura\n",
    "data = a80_lowsize[\"8B-D\"]\n",
    "\n",
    "print_data(data)"
   ]
  },
  {
   "attachments": {},
   "cell_type": "markdown",
   "metadata": {},
   "source": [
    "#### PT 16 byte"
   ]
  },
  {
   "cell_type": "code",
   "execution_count": 28,
   "metadata": {},
   "outputs": [
    {
     "name": "stdout",
     "output_type": "stream",
     "text": [
      "16B-E\n",
      "290    283\n",
      "292    196\n",
      "291    179\n",
      "298    149\n",
      "297     82\n",
      "293     66\n",
      "299     28\n",
      "300     17\n",
      "Name: count, dtype: int64\n",
      "\n",
      "Massimo: 300\n",
      "Minimo: 290\n",
      "Media: 292.957\n",
      "Varianza: 10.345496496496494\n"
     ]
    }
   ],
   "source": [
    "# Cifratura\n",
    "data = a80_lowsize[\"16B-E\"]\n",
    "\n",
    "print_data(data)"
   ]
  },
  {
   "cell_type": "code",
   "execution_count": 29,
   "metadata": {},
   "outputs": [
    {
     "name": "stdout",
     "output_type": "stream",
     "text": [
      "16B-D\n",
      "600    201\n",
      "599    161\n",
      "590    127\n",
      "591    126\n",
      "592    124\n",
      "598    109\n",
      "593     74\n",
      "597     69\n",
      "601      8\n",
      "594      1\n",
      "Name: count, dtype: int64\n",
      "\n",
      "Massimo: 601\n",
      "Minimo: 590\n",
      "Media: 595.502\n",
      "Varianza: 15.513509509509507\n"
     ]
    }
   ],
   "source": [
    "# Decifratura\n",
    "data = a80_lowsize[\"16B-D\"]\n",
    "\n",
    "print_data(data)"
   ]
  },
  {
   "attachments": {},
   "cell_type": "markdown",
   "metadata": {},
   "source": [
    "#### PT 24 byte"
   ]
  },
  {
   "cell_type": "code",
   "execution_count": 30,
   "metadata": {},
   "outputs": [
    {
     "name": "stdout",
     "output_type": "stream",
     "text": [
      "24B-E\n",
      "352    312\n",
      "359    201\n",
      "351    132\n",
      "354    116\n",
      "361    106\n",
      "353     76\n",
      "360     36\n",
      "358     18\n",
      "362      3\n",
      "Name: count, dtype: int64\n",
      "\n",
      "Massimo: 362\n",
      "Minimo: 351\n",
      "Media: 354.963\n",
      "Varianza: 13.59322422422423\n"
     ]
    }
   ],
   "source": [
    "# Cifratura\n",
    "data = a80_lowsize[\"24B-E\"]\n",
    "\n",
    "print_data(data)"
   ]
  },
  {
   "cell_type": "code",
   "execution_count": 31,
   "metadata": {},
   "outputs": [
    {
     "name": "stdout",
     "output_type": "stream",
     "text": [
      "24B-D\n",
      "725    411\n",
      "716    147\n",
      "724    121\n",
      "715     85\n",
      "717     80\n",
      "718     74\n",
      "723     57\n",
      "726     14\n",
      "722     11\n",
      "Name: count, dtype: int64\n",
      "\n",
      "Massimo: 726\n",
      "Minimo: 715\n",
      "Media: 721.415\n",
      "Varianza: 16.77955455455455\n"
     ]
    }
   ],
   "source": [
    "# Decifratura\n",
    "data = a80_lowsize[\"24B-D\"]\n",
    "\n",
    "print_data(data)"
   ]
  },
  {
   "attachments": {},
   "cell_type": "markdown",
   "metadata": {},
   "source": [
    "#### PT 32 byte"
   ]
  },
  {
   "cell_type": "code",
   "execution_count": 32,
   "metadata": {},
   "outputs": [
    {
     "name": "stdout",
     "output_type": "stream",
     "text": [
      "32B-E\n",
      "413    376\n",
      "415    206\n",
      "422    158\n",
      "420    143\n",
      "421     60\n",
      "414     31\n",
      "423     25\n",
      "416      1\n",
      "Name: count, dtype: int64\n",
      "\n",
      "Massimo: 423\n",
      "Minimo: 413\n",
      "Media: 416.599\n",
      "Varianza: 14.070269269269273\n"
     ]
    }
   ],
   "source": [
    "# Cifratura\n",
    "data = a80_lowsize[\"32B-E\"]\n",
    "\n",
    "print_data(data)"
   ]
  },
  {
   "cell_type": "code",
   "execution_count": 33,
   "metadata": {},
   "outputs": [
    {
     "name": "stdout",
     "output_type": "stream",
     "text": [
      "32B-D\n",
      "850    620\n",
      "848    138\n",
      "843    130\n",
      "849     48\n",
      "842     40\n",
      "851     24\n",
      "Name: count, dtype: int64\n",
      "\n",
      "Massimo: 851\n",
      "Minimo: 842\n",
      "Media: 848.47\n",
      "Varianza: 7.220320320320322\n"
     ]
    }
   ],
   "source": [
    "# Decifratura\n",
    "data = a80_lowsize[\"32B-D\"]\n",
    "\n",
    "print_data(data)"
   ]
  },
  {
   "attachments": {},
   "cell_type": "markdown",
   "metadata": {},
   "source": [
    "### Bi32_armv6m"
   ]
  },
  {
   "cell_type": "code",
   "execution_count": 34,
   "metadata": {},
   "outputs": [],
   "source": [
    "with open(path.format(\"bi32_armv6m\"), \"r\") as f:\n",
    "    a80_bi32 = pd.read_csv(f, delimiter=\";\")"
   ]
  },
  {
   "attachments": {},
   "cell_type": "markdown",
   "metadata": {},
   "source": [
    "#### PT vuoto"
   ]
  },
  {
   "cell_type": "code",
   "execution_count": 35,
   "metadata": {},
   "outputs": [
    {
     "name": "stdout",
     "output_type": "stream",
     "text": [
      "0B-E\n",
      "135    411\n",
      "136    350\n",
      "143     88\n",
      "137     71\n",
      "138     43\n",
      "142     37\n",
      "Name: count, dtype: int64\n",
      "\n",
      "Massimo: 143\n",
      "Minimo: 135\n",
      "Media: 136.584\n",
      "Varianza: 5.962906906906908\n"
     ]
    }
   ],
   "source": [
    "# Cifratura\n",
    "data = a80_bi32[\"0B-E\"]\n",
    "\n",
    "print_data(data)"
   ]
  },
  {
   "cell_type": "code",
   "execution_count": 36,
   "metadata": {},
   "outputs": [
    {
     "name": "stdout",
     "output_type": "stream",
     "text": [
      "0B-D\n",
      "273    261\n",
      "272    258\n",
      "274    176\n",
      "280    148\n",
      "275    103\n",
      "279     52\n",
      "281      2\n",
      "Name: count, dtype: int64\n",
      "\n",
      "Massimo: 281\n",
      "Minimo: 272\n",
      "Media: 274.488\n",
      "Varianza: 7.89174774774775\n"
     ]
    }
   ],
   "source": [
    "# Decifratura\n",
    "data = a80_bi32[\"0B-D\"]\n",
    "\n",
    "print_data(data)"
   ]
  },
  {
   "attachments": {},
   "cell_type": "markdown",
   "metadata": {},
   "source": [
    "#### PT 1 byte"
   ]
  },
  {
   "cell_type": "code",
   "execution_count": 37,
   "metadata": {},
   "outputs": [
    {
     "name": "stdout",
     "output_type": "stream",
     "text": [
      "1B-E\n",
      "174    490\n",
      "175    172\n",
      "176    140\n",
      "181     86\n",
      "182     84\n",
      "177     27\n",
      "183      1\n",
      "Name: count, dtype: int64\n",
      "\n",
      "Massimo: 183\n",
      "Minimo: 174\n",
      "Media: 175.816\n",
      "Varianza: 7.3554994994994995\n"
     ]
    }
   ],
   "source": [
    "# Cifratura\n",
    "data = a80_bi32[\"1B-E\"]\n",
    "\n",
    "print_data(data)"
   ]
  },
  {
   "cell_type": "code",
   "execution_count": 38,
   "metadata": {},
   "outputs": [
    {
     "name": "stdout",
     "output_type": "stream",
     "text": [
      "1B-D\n",
      "353    222\n",
      "359    189\n",
      "352    171\n",
      "351    170\n",
      "354    137\n",
      "358    102\n",
      "360      9\n",
      "Name: count, dtype: int64\n",
      "\n",
      "Massimo: 360\n",
      "Minimo: 351\n",
      "Media: 354.333\n",
      "Varianza: 9.015126126126125\n"
     ]
    }
   ],
   "source": [
    "# Cifratura\n",
    "data = a80_bi32[\"1B-D\"]\n",
    "\n",
    "print_data(data)"
   ]
  },
  {
   "attachments": {},
   "cell_type": "markdown",
   "metadata": {},
   "source": [
    "#### PT 8 byte"
   ]
  },
  {
   "cell_type": "code",
   "execution_count": 39,
   "metadata": {},
   "outputs": [
    {
     "name": "stdout",
     "output_type": "stream",
     "text": [
      "8B-E\n",
      "227    392\n",
      "226    271\n",
      "234    131\n",
      "228     98\n",
      "229     70\n",
      "233     31\n",
      "235      4\n",
      "230      3\n",
      "Name: count, dtype: int64\n",
      "\n",
      "Massimo: 235\n",
      "Minimo: 226\n",
      "Media: 228.111\n",
      "Varianza: 7.239918918918919\n"
     ]
    }
   ],
   "source": [
    "# Cifratura\n",
    "data = a80_bi32[\"8B-E\"]\n",
    "\n",
    "print_data(data)"
   ]
  },
  {
   "cell_type": "code",
   "execution_count": 40,
   "metadata": {},
   "outputs": [
    {
     "name": "stdout",
     "output_type": "stream",
     "text": [
      "8B-D\n",
      "459    432\n",
      "464    202\n",
      "465    158\n",
      "457    126\n",
      "460     50\n",
      "458     29\n",
      "466      2\n",
      "467      1\n",
      "Name: count, dtype: int64\n",
      "\n",
      "Massimo: 467\n",
      "Minimo: 457\n",
      "Media: 460.749\n",
      "Varianza: 8.43243143143143\n"
     ]
    }
   ],
   "source": [
    "# Decifratura\n",
    "data = a80_bi32[\"8B-D\"]\n",
    "\n",
    "print_data(data)"
   ]
  },
  {
   "attachments": {},
   "cell_type": "markdown",
   "metadata": {},
   "source": [
    "#### PT 16 byte"
   ]
  },
  {
   "cell_type": "code",
   "execution_count": 41,
   "metadata": {},
   "outputs": [
    {
     "name": "stdout",
     "output_type": "stream",
     "text": [
      "16B-E\n",
      "290    310\n",
      "297    230\n",
      "289    163\n",
      "292    137\n",
      "291    127\n",
      "296     24\n",
      "298      9\n",
      "Name: count, dtype: int64\n",
      "\n",
      "Massimo: 298\n",
      "Minimo: 289\n",
      "Media: 292.064\n",
      "Varianza: 9.297201201201203\n"
     ]
    }
   ],
   "source": [
    "# Cifratura\n",
    "data = a80_bi32[\"16B-E\"]\n",
    "\n",
    "print_data(data)"
   ]
  },
  {
   "cell_type": "code",
   "execution_count": 42,
   "metadata": {},
   "outputs": [
    {
     "name": "stdout",
     "output_type": "stream",
     "text": [
      "16B-D\n",
      "593    326\n",
      "588    284\n",
      "587    167\n",
      "595    125\n",
      "594     45\n",
      "592     21\n",
      "586     20\n",
      "596      8\n",
      "585      4\n",
      "Name: count, dtype: int64\n",
      "\n",
      "Massimo: 596\n",
      "Minimo: 585\n",
      "Media: 590.704\n",
      "Varianza: 9.724108108108107\n"
     ]
    }
   ],
   "source": [
    "# Decifratura\n",
    "data = a80_bi32[\"16B-D\"]\n",
    "\n",
    "print_data(data)"
   ]
  },
  {
   "attachments": {},
   "cell_type": "markdown",
   "metadata": {},
   "source": [
    "#### PT 24 byte"
   ]
  },
  {
   "cell_type": "code",
   "execution_count": 43,
   "metadata": {},
   "outputs": [
    {
     "name": "stdout",
     "output_type": "stream",
     "text": [
      "24B-E\n",
      "360    343\n",
      "355    248\n",
      "353    177\n",
      "354    145\n",
      "352     53\n",
      "361     18\n",
      "359     14\n",
      "356      2\n",
      "Name: count, dtype: int64\n",
      "\n",
      "Massimo: 361\n",
      "Minimo: 352\n",
      "Media: 356.223\n",
      "Varianza: 9.292563563563565\n"
     ]
    }
   ],
   "source": [
    "# Cifratura\n",
    "data = a80_bi32[\"24B-E\"]\n",
    "\n",
    "print_data(data)"
   ]
  },
  {
   "cell_type": "code",
   "execution_count": 44,
   "metadata": {},
   "outputs": [
    {
     "name": "stdout",
     "output_type": "stream",
     "text": [
      "24B-D\n",
      "716    332\n",
      "723    228\n",
      "721    159\n",
      "722    127\n",
      "724    114\n",
      "717     40\n",
      "Name: count, dtype: int64\n",
      "\n",
      "Massimo: 724\n",
      "Minimo: 716\n",
      "Media: 720.105\n",
      "Varianza: 10.214189189189192\n"
     ]
    }
   ],
   "source": [
    "# Decifratura\n",
    "data = a80_bi32[\"24B-D\"]\n",
    "\n",
    "print_data(data)"
   ]
  },
  {
   "attachments": {},
   "cell_type": "markdown",
   "metadata": {},
   "source": [
    "#### PT 32 byte"
   ]
  },
  {
   "cell_type": "code",
   "execution_count": 45,
   "metadata": {},
   "outputs": [
    {
     "name": "stdout",
     "output_type": "stream",
     "text": [
      "32B-E\n",
      "423    345\n",
      "418    297\n",
      "416    181\n",
      "417    120\n",
      "415     34\n",
      "424     22\n",
      "425      1\n",
      "Name: count, dtype: int64\n",
      "\n",
      "Massimo: 425\n",
      "Minimo: 415\n",
      "Media: 419.28\n",
      "Varianza: 8.986586586586586\n"
     ]
    }
   ],
   "source": [
    "# Cifratura\n",
    "data = a80_bi32[\"32B-E\"]\n",
    "\n",
    "print_data(data)"
   ]
  },
  {
   "cell_type": "code",
   "execution_count": 46,
   "metadata": {},
   "outputs": [
    {
     "name": "stdout",
     "output_type": "stream",
     "text": [
      "32B-D\n",
      "852    539\n",
      "851    147\n",
      "850    110\n",
      "845    101\n",
      "844     71\n",
      "853     22\n",
      "849     10\n",
      "Name: count, dtype: int64\n",
      "\n",
      "Massimo: 853\n",
      "Minimo: 844\n",
      "Media: 850.35\n",
      "Varianza: 7.476976976976977\n"
     ]
    }
   ],
   "source": [
    "# Decifratura\n",
    "data = a80_bi32[\"32B-D\"]\n",
    "\n",
    "print_data(data)"
   ]
  },
  {
   "attachments": {},
   "cell_type": "markdown",
   "metadata": {},
   "source": [
    "### Ref"
   ]
  },
  {
   "cell_type": "code",
   "execution_count": 47,
   "metadata": {},
   "outputs": [],
   "source": [
    "with open(path.format(\"ref\"), \"r\") as f:\n",
    "    a80_ref = pd.read_csv(f, delimiter=\";\")"
   ]
  },
  {
   "attachments": {},
   "cell_type": "markdown",
   "metadata": {},
   "source": [
    "#### PT vuoto"
   ]
  },
  {
   "cell_type": "code",
   "execution_count": 48,
   "metadata": {},
   "outputs": [
    {
     "name": "stdout",
     "output_type": "stream",
     "text": [
      "0B-E\n",
      "177    493\n",
      "176    299\n",
      "186    132\n",
      "185     63\n",
      "187      8\n",
      "184      5\n",
      "Name: count, dtype: int64\n",
      "\n",
      "Massimo: 187\n",
      "Minimo: 176\n",
      "Media: 178.508\n",
      "Varianza: 13.807743743743746\n"
     ]
    }
   ],
   "source": [
    "# Cifratura\n",
    "data = a80_ref[\"0B-E\"]\n",
    "\n",
    "print_data(data)"
   ]
  },
  {
   "cell_type": "code",
   "execution_count": 49,
   "metadata": {},
   "outputs": [
    {
     "name": "stdout",
     "output_type": "stream",
     "text": [
      "0B-D\n",
      "364    566\n",
      "373    271\n",
      "363     98\n",
      "372     31\n",
      "366     16\n",
      "374     15\n",
      "371      2\n",
      "365      1\n",
      "Name: count, dtype: int64\n",
      "\n",
      "Massimo: 374\n",
      "Minimo: 363\n",
      "Media: 366.786\n",
      "Varianza: 17.952156156156153\n"
     ]
    }
   ],
   "source": [
    "# Decifratura\n",
    "data = a80_ref[\"0B-D\"]\n",
    "\n",
    "print_data(data)"
   ]
  },
  {
   "attachments": {},
   "cell_type": "markdown",
   "metadata": {},
   "source": [
    "#### PT 1 byte"
   ]
  },
  {
   "cell_type": "code",
   "execution_count": 50,
   "metadata": {},
   "outputs": [
    {
     "name": "stdout",
     "output_type": "stream",
     "text": [
      "1B-E\n",
      "216    750\n",
      "225    171\n",
      "215     37\n",
      "226     28\n",
      "224     12\n",
      "223      2\n",
      "Name: count, dtype: int64\n",
      "\n",
      "Massimo: 226\n",
      "Minimo: 215\n",
      "Media: 217.892\n",
      "Varianza: 13.988324324324324\n"
     ]
    }
   ],
   "source": [
    "# Cifratura\n",
    "data = a80_ref[\"1B-E\"]\n",
    "\n",
    "print_data(data)"
   ]
  },
  {
   "cell_type": "code",
   "execution_count": 51,
   "metadata": {},
   "outputs": [
    {
     "name": "stdout",
     "output_type": "stream",
     "text": [
      "1B-D\n",
      "445    530\n",
      "454    304\n",
      "444     74\n",
      "455     38\n",
      "453     33\n",
      "447     16\n",
      "452      3\n",
      "446      2\n",
      "Name: count, dtype: int64\n",
      "\n",
      "Massimo: 455\n",
      "Minimo: 444\n",
      "Media: 448.361\n",
      "Varianza: 19.54622522522522\n"
     ]
    }
   ],
   "source": [
    "# Decifratura\n",
    "data = a80_ref[\"1B-D\"]\n",
    "\n",
    "print_data(data)"
   ]
  },
  {
   "attachments": {},
   "cell_type": "markdown",
   "metadata": {},
   "source": [
    "#### PT 8 byte"
   ]
  },
  {
   "cell_type": "code",
   "execution_count": 52,
   "metadata": {},
   "outputs": [
    {
     "name": "stdout",
     "output_type": "stream",
     "text": [
      "8B-E\n",
      "303    523\n",
      "312    237\n",
      "302    162\n",
      "311     58\n",
      "313     12\n",
      "310      8\n",
      "Name: count, dtype: int64\n",
      "\n",
      "Massimo: 313\n",
      "Minimo: 302\n",
      "Media: 305.611\n",
      "Varianza: 17.86354254254254\n"
     ]
    }
   ],
   "source": [
    "# Cifratura\n",
    "data = a80_ref[\"8B-E\"]\n",
    "\n",
    "print_data(data)"
   ]
  },
  {
   "cell_type": "code",
   "execution_count": 53,
   "metadata": {},
   "outputs": [
    {
     "name": "stdout",
     "output_type": "stream",
     "text": [
      "8B-D\n",
      "629    386\n",
      "620    226\n",
      "628    180\n",
      "619    162\n",
      "630     19\n",
      "622     14\n",
      "627      6\n",
      "621      6\n",
      "626      1\n",
      "Name: count, dtype: int64\n",
      "\n",
      "Massimo: 630\n",
      "Minimo: 619\n",
      "Media: 625.024\n",
      "Varianza: 20.019443443443446\n"
     ]
    }
   ],
   "source": [
    "# Decifratura\n",
    "data = a80_ref[\"8B-D\"]\n",
    "\n",
    "print_data(data)"
   ]
  },
  {
   "attachments": {},
   "cell_type": "markdown",
   "metadata": {},
   "source": [
    "#### PT 16 byte"
   ]
  },
  {
   "cell_type": "code",
   "execution_count": 54,
   "metadata": {},
   "outputs": [
    {
     "name": "stdout",
     "output_type": "stream",
     "text": [
      "16B-E\n",
      "391    584\n",
      "400    309\n",
      "401     40\n",
      "399     35\n",
      "390     27\n",
      "398      5\n",
      "Name: count, dtype: int64\n",
      "\n",
      "Massimo: 401\n",
      "Minimo: 390\n",
      "Media: 394.469\n",
      "Varianza: 19.526565565565566\n"
     ]
    }
   ],
   "source": [
    "# Cifratura\n",
    "data = a80_ref[\"16B-E\"]\n",
    "\n",
    "print_data(data)"
   ]
  },
  {
   "cell_type": "code",
   "execution_count": 55,
   "metadata": {},
   "outputs": [
    {
     "name": "stdout",
     "output_type": "stream",
     "text": [
      "16B-D\n",
      "808    385\n",
      "807    360\n",
      "798    129\n",
      "799     97\n",
      "809     13\n",
      "801      7\n",
      "800      5\n",
      "806      4\n",
      "Name: count, dtype: int64\n",
      "\n",
      "Massimo: 809\n",
      "Minimo: 798\n",
      "Media: 805.393\n",
      "Varianza: 15.027578578578579\n"
     ]
    }
   ],
   "source": [
    "# Decifratura\n",
    "data = a80_ref[\"16B-D\"]\n",
    "\n",
    "print_data(data)"
   ]
  },
  {
   "attachments": {},
   "cell_type": "markdown",
   "metadata": {},
   "source": [
    "#### PT 24 byte"
   ]
  },
  {
   "cell_type": "code",
   "execution_count": 56,
   "metadata": {},
   "outputs": [
    {
     "name": "stdout",
     "output_type": "stream",
     "text": [
      "24B-E\n",
      "479    516\n",
      "488    311\n",
      "489    102\n",
      "480     66\n",
      "486      2\n",
      "487      2\n",
      "490      1\n",
      "Name: count, dtype: int64\n",
      "\n",
      "Massimo: 490\n",
      "Minimo: 479\n",
      "Media: 482.926\n",
      "Varianza: 20.410934934934925\n"
     ]
    }
   ],
   "source": [
    "# Cifratura\n",
    "data = a80_ref[\"24B-E\"]\n",
    "\n",
    "print_data(data)"
   ]
  },
  {
   "cell_type": "code",
   "execution_count": 57,
   "metadata": {},
   "outputs": [
    {
     "name": "stdout",
     "output_type": "stream",
     "text": [
      "24B-D\n",
      "986    603\n",
      "987    269\n",
      "977     69\n",
      "979     35\n",
      "978     13\n",
      "988      7\n",
      "980      4\n",
      "Name: count, dtype: int64\n",
      "\n",
      "Massimo: 988\n",
      "Minimo: 977\n",
      "Media: 985.289\n",
      "Varianza: 8.079558558558556\n"
     ]
    }
   ],
   "source": [
    "# Decifratura\n",
    "data = a80_ref[\"24B-D\"]\n",
    "\n",
    "print_data(data)"
   ]
  },
  {
   "attachments": {},
   "cell_type": "markdown",
   "metadata": {},
   "source": [
    "#### PT 32 byte"
   ]
  },
  {
   "cell_type": "code",
   "execution_count": 58,
   "metadata": {},
   "outputs": [
    {
     "name": "stdout",
     "output_type": "stream",
     "text": [
      "32B-E\n",
      "567    322\n",
      "576    321\n",
      "577    204\n",
      "568    146\n",
      "578      7\n",
      "Name: count, dtype: int64\n",
      "\n",
      "Massimo: 578\n",
      "Minimo: 567\n",
      "Media: 572.152\n",
      "Varianza: 20.871767767767768\n"
     ]
    }
   ],
   "source": [
    "# Cifratura\n",
    "data = a80_ref[\"32B-E\"]\n",
    "\n",
    "print_data(data)"
   ]
  },
  {
   "cell_type": "code",
   "execution_count": 59,
   "metadata": {},
   "outputs": [
    {
     "name": "stdout",
     "output_type": "stream",
     "text": [
      "32B-D\n",
      "1165    668\n",
      "1166    156\n",
      "1174     55\n",
      "1164     38\n",
      "1175     34\n",
      "1167     29\n",
      "1168      9\n",
      "1173      7\n",
      "1172      3\n",
      "1176      1\n",
      "Name: count, dtype: int64\n",
      "\n",
      "Massimo: 1176\n",
      "Minimo: 1164\n",
      "Media: 1166.126\n",
      "Varianza: 7.701825825825824\n"
     ]
    }
   ],
   "source": [
    "# Decifratura\n",
    "data = a80_ref[\"32B-D\"]\n",
    "\n",
    "print_data(data)"
   ]
  }
 ],
 "metadata": {
  "kernelspec": {
   "display_name": "Python 3",
   "language": "python",
   "name": "python3"
  },
  "language_info": {
   "codemirror_mode": {
    "name": "ipython",
    "version": 3
   },
   "file_extension": ".py",
   "mimetype": "text/x-python",
   "name": "python",
   "nbconvert_exporter": "python",
   "pygments_lexer": "ipython3",
   "version": "3.11.2"
  },
  "orig_nbformat": 4
 },
 "nbformat": 4,
 "nbformat_minor": 2
}
