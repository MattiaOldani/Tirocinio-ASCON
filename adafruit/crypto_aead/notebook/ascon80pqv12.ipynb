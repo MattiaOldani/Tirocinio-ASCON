{
 "cells": [
  {
   "attachments": {},
   "cell_type": "markdown",
   "metadata": {},
   "source": [
    "# Analisi dei dati raccolti"
   ]
  },
  {
   "attachments": {},
   "cell_type": "markdown",
   "metadata": {},
   "source": [
    "## Setup"
   ]
  },
  {
   "cell_type": "code",
   "execution_count": 1,
   "metadata": {},
   "outputs": [],
   "source": [
    "import pandas as pd"
   ]
  },
  {
   "cell_type": "code",
   "execution_count": 2,
   "metadata": {},
   "outputs": [],
   "source": [
    "def print_data(series: pd.Series) -> None:\n",
    "    print(series.value_counts())\n",
    "    print()\n",
    "    print(f\"Massimo: {series.max()}\\nMinimo: {series.min()}\\nMedia: {series.mean()}\\nVarianza: {series.var()}\")"
   ]
  },
  {
   "attachments": {},
   "cell_type": "markdown",
   "metadata": {},
   "source": [
    "## Ascon80pqv12"
   ]
  },
  {
   "cell_type": "code",
   "execution_count": 3,
   "metadata": {},
   "outputs": [],
   "source": [
    "path = \"../ascon80pqv12/data/{}.csv\""
   ]
  },
  {
   "attachments": {},
   "cell_type": "markdown",
   "metadata": {},
   "source": [
    "### Armv7m"
   ]
  },
  {
   "cell_type": "code",
   "execution_count": 4,
   "metadata": {},
   "outputs": [],
   "source": [
    "with open(path.format(\"armv7m\"), \"r\") as f:\n",
    "    a80_armv7m = pd.read_csv(f, delimiter=\";\")"
   ]
  },
  {
   "attachments": {},
   "cell_type": "markdown",
   "metadata": {},
   "source": [
    "#### PT vuoto"
   ]
  },
  {
   "cell_type": "code",
   "execution_count": 5,
   "metadata": {},
   "outputs": [
    {
     "name": "stdout",
     "output_type": "stream",
     "text": [
      "0B-E\n",
      "48    998\n",
      "49      1\n",
      "47      1\n",
      "Name: count, dtype: int64\n",
      "\n",
      "Massimo: 49\n",
      "Minimo: 47\n",
      "Media: 48.0\n",
      "Varianza: 0.002002002002002002\n"
     ]
    }
   ],
   "source": [
    "# Cifratura\n",
    "data = a80_armv7m[\"0B-E\"]\n",
    "\n",
    "print_data(data)"
   ]
  },
  {
   "cell_type": "code",
   "execution_count": 6,
   "metadata": {},
   "outputs": [
    {
     "name": "stdout",
     "output_type": "stream",
     "text": [
      "0B-D\n",
      "96    800\n",
      "97    200\n",
      "Name: count, dtype: int64\n",
      "\n",
      "Massimo: 97\n",
      "Minimo: 96\n",
      "Media: 96.2\n",
      "Varianza: 0.1601601601601601\n"
     ]
    }
   ],
   "source": [
    "# Decifratura\n",
    "data = a80_armv7m[\"0B-D\"]\n",
    "\n",
    "print_data(data)"
   ]
  },
  {
   "attachments": {},
   "cell_type": "markdown",
   "metadata": {},
   "source": [
    "#### PT 1 byte"
   ]
  },
  {
   "cell_type": "code",
   "execution_count": 7,
   "metadata": {},
   "outputs": [
    {
     "name": "stdout",
     "output_type": "stream",
     "text": [
      "1B-E\n",
      "62    997\n",
      "61      2\n",
      "63      1\n",
      "Name: count, dtype: int64\n",
      "\n",
      "Massimo: 63\n",
      "Minimo: 61\n",
      "Media: 61.999\n",
      "Varianza: 0.003002002002002001\n"
     ]
    }
   ],
   "source": [
    "# Cifratura\n",
    "data = a80_armv7m[\"1B-E\"]\n",
    "\n",
    "print_data(data)"
   ]
  },
  {
   "cell_type": "code",
   "execution_count": 8,
   "metadata": {},
   "outputs": [
    {
     "name": "stdout",
     "output_type": "stream",
     "text": [
      "1B-D\n",
      "127    998\n",
      "128      1\n",
      "126      1\n",
      "Name: count, dtype: int64\n",
      "\n",
      "Massimo: 128\n",
      "Minimo: 126\n",
      "Media: 127.0\n",
      "Varianza: 0.002002002002002002\n"
     ]
    }
   ],
   "source": [
    "# Decifratura\n",
    "data = a80_armv7m[\"1B-D\"]\n",
    "\n",
    "print_data(data)"
   ]
  },
  {
   "attachments": {},
   "cell_type": "markdown",
   "metadata": {},
   "source": [
    "#### PT 8 byte"
   ]
  },
  {
   "cell_type": "code",
   "execution_count": 9,
   "metadata": {},
   "outputs": [
    {
     "name": "stdout",
     "output_type": "stream",
     "text": [
      "8B-E\n",
      "82    798\n",
      "83    201\n",
      "81      1\n",
      "Name: count, dtype: int64\n",
      "\n",
      "Massimo: 83\n",
      "Minimo: 81\n",
      "Media: 82.2\n",
      "Varianza: 0.16216216216216212\n"
     ]
    }
   ],
   "source": [
    "# Cifratura\n",
    "data = a80_armv7m[\"8B-E\"]\n",
    "\n",
    "print_data(data)"
   ]
  },
  {
   "cell_type": "code",
   "execution_count": 10,
   "metadata": {},
   "outputs": [
    {
     "name": "stdout",
     "output_type": "stream",
     "text": [
      "8B-D\n",
      "164    799\n",
      "165    200\n",
      "163      1\n",
      "Name: count, dtype: int64\n",
      "\n",
      "Massimo: 165\n",
      "Minimo: 163\n",
      "Media: 164.199\n",
      "Varianza: 0.16156056056056062\n"
     ]
    }
   ],
   "source": [
    "# Decifratura\n",
    "data = a80_armv7m[\"8B-D\"]\n",
    "\n",
    "print_data(data)"
   ]
  },
  {
   "attachments": {},
   "cell_type": "markdown",
   "metadata": {},
   "source": [
    "#### PT 16 byte"
   ]
  },
  {
   "cell_type": "code",
   "execution_count": 11,
   "metadata": {},
   "outputs": [
    {
     "name": "stdout",
     "output_type": "stream",
     "text": [
      "16B-E\n",
      "104    1000\n",
      "Name: count, dtype: int64\n",
      "\n",
      "Massimo: 104\n",
      "Minimo: 104\n",
      "Media: 104.0\n",
      "Varianza: 0.0\n"
     ]
    }
   ],
   "source": [
    "# Cifratura\n",
    "data = a80_armv7m[\"16B-E\"]\n",
    "\n",
    "print_data(data)"
   ]
  },
  {
   "cell_type": "code",
   "execution_count": 12,
   "metadata": {},
   "outputs": [
    {
     "name": "stdout",
     "output_type": "stream",
     "text": [
      "16B-D\n",
      "209    801\n",
      "210    199\n",
      "Name: count, dtype: int64\n",
      "\n",
      "Massimo: 210\n",
      "Minimo: 209\n",
      "Media: 209.199\n",
      "Varianza: 0.1595585585585586\n"
     ]
    }
   ],
   "source": [
    "# Decifratura\n",
    "data = a80_armv7m[\"16B-D\"]\n",
    "\n",
    "print_data(data)"
   ]
  },
  {
   "attachments": {},
   "cell_type": "markdown",
   "metadata": {},
   "source": [
    "#### PT 24 byte"
   ]
  },
  {
   "cell_type": "code",
   "execution_count": 13,
   "metadata": {},
   "outputs": [
    {
     "name": "stdout",
     "output_type": "stream",
     "text": [
      "24B-E\n",
      "126    800\n",
      "127    200\n",
      "Name: count, dtype: int64\n",
      "\n",
      "Massimo: 127\n",
      "Minimo: 126\n",
      "Media: 126.2\n",
      "Varianza: 0.1601601601601601\n"
     ]
    }
   ],
   "source": [
    "# Cifratura\n",
    "data = a80_armv7m[\"24B-E\"]\n",
    "\n",
    "print_data(data)"
   ]
  },
  {
   "cell_type": "code",
   "execution_count": 14,
   "metadata": {},
   "outputs": [
    {
     "name": "stdout",
     "output_type": "stream",
     "text": [
      "24B-D\n",
      "254    799\n",
      "255    201\n",
      "Name: count, dtype: int64\n",
      "\n",
      "Massimo: 255\n",
      "Minimo: 254\n",
      "Media: 254.201\n",
      "Varianza: 0.16075975975975976\n"
     ]
    }
   ],
   "source": [
    "# Decifratura\n",
    "data = a80_armv7m[\"24B-D\"]\n",
    "\n",
    "print_data(data)"
   ]
  },
  {
   "attachments": {},
   "cell_type": "markdown",
   "metadata": {},
   "source": [
    "#### PT 32 byte"
   ]
  },
  {
   "cell_type": "code",
   "execution_count": 15,
   "metadata": {},
   "outputs": [
    {
     "name": "stdout",
     "output_type": "stream",
     "text": [
      "32B-E\n",
      "148    799\n",
      "150    200\n",
      "149      1\n",
      "Name: count, dtype: int64\n",
      "\n",
      "Massimo: 150\n",
      "Minimo: 148\n",
      "Media: 148.401\n",
      "Varianza: 0.6408398398398397\n"
     ]
    }
   ],
   "source": [
    "# Cifratura\n",
    "data = a80_armv7m[\"32B-E\"]\n",
    "\n",
    "print_data(data)"
   ]
  },
  {
   "cell_type": "code",
   "execution_count": 16,
   "metadata": {},
   "outputs": [
    {
     "name": "stdout",
     "output_type": "stream",
     "text": [
      "32B-D\n",
      "299    800\n",
      "301    200\n",
      "Name: count, dtype: int64\n",
      "\n",
      "Massimo: 301\n",
      "Minimo: 299\n",
      "Media: 299.4\n",
      "Varianza: 0.6406406406406407\n"
     ]
    }
   ],
   "source": [
    "# Decifratura\n",
    "data = a80_armv7m[\"32B-D\"]\n",
    "\n",
    "print_data(data)"
   ]
  },
  {
   "attachments": {},
   "cell_type": "markdown",
   "metadata": {},
   "source": [
    "### Armv7m_lowsize"
   ]
  },
  {
   "cell_type": "code",
   "execution_count": 17,
   "metadata": {},
   "outputs": [],
   "source": [
    "with open(path.format(\"armv7m_lowsize\"), \"r\") as f:\n",
    "    a80_lowsize = pd.read_csv(f, delimiter=\";\")"
   ]
  },
  {
   "cell_type": "markdown",
   "metadata": {},
   "source": [
    "#### PT vuoto"
   ]
  },
  {
   "cell_type": "code",
   "execution_count": 18,
   "metadata": {},
   "outputs": [
    {
     "name": "stdout",
     "output_type": "stream",
     "text": [
      "0B-E\n",
      "44    919\n",
      "45     81\n",
      "Name: count, dtype: int64\n",
      "\n",
      "Massimo: 45\n",
      "Minimo: 44\n",
      "Media: 44.081\n",
      "Varianza: 0.07451351351351351\n"
     ]
    }
   ],
   "source": [
    "# Cifratura\n",
    "data = a80_lowsize[\"0B-E\"]\n",
    "\n",
    "print_data(data)"
   ]
  },
  {
   "cell_type": "code",
   "execution_count": 19,
   "metadata": {},
   "outputs": [
    {
     "name": "stdout",
     "output_type": "stream",
     "text": [
      "0B-D\n",
      "91    918\n",
      "92     41\n",
      "93     41\n",
      "Name: count, dtype: int64\n",
      "\n",
      "Massimo: 93\n",
      "Minimo: 91\n",
      "Media: 91.123\n",
      "Varianza: 0.1900610610610611\n"
     ]
    }
   ],
   "source": [
    "# Decifratura\n",
    "data = a80_lowsize[\"0B-D\"]\n",
    "\n",
    "print_data(data)"
   ]
  },
  {
   "attachments": {},
   "cell_type": "markdown",
   "metadata": {},
   "source": [
    "#### PT 1 byte"
   ]
  },
  {
   "cell_type": "code",
   "execution_count": 20,
   "metadata": {},
   "outputs": [
    {
     "name": "stdout",
     "output_type": "stream",
     "text": [
      "1B-E\n",
      "56    919\n",
      "57     80\n",
      "55      1\n",
      "Name: count, dtype: int64\n",
      "\n",
      "Massimo: 57\n",
      "Minimo: 55\n",
      "Media: 56.079\n",
      "Varianza: 0.07483383383383382\n"
     ]
    }
   ],
   "source": [
    "# Cifratura\n",
    "data = a80_lowsize[\"1B-E\"]\n",
    "\n",
    "print_data(data)"
   ]
  },
  {
   "cell_type": "code",
   "execution_count": 21,
   "metadata": {},
   "outputs": [
    {
     "name": "stdout",
     "output_type": "stream",
     "text": [
      "1B-D\n",
      "115    880\n",
      "116    120\n",
      "Name: count, dtype: int64\n",
      "\n",
      "Massimo: 116\n",
      "Minimo: 115\n",
      "Media: 115.12\n",
      "Varianza: 0.1057057057057057\n"
     ]
    }
   ],
   "source": [
    "# Decifratura\n",
    "data = a80_lowsize[\"1B-D\"]\n",
    "\n",
    "print_data(data)"
   ]
  },
  {
   "attachments": {},
   "cell_type": "markdown",
   "metadata": {},
   "source": [
    "#### PT 8 byte"
   ]
  },
  {
   "cell_type": "code",
   "execution_count": 22,
   "metadata": {},
   "outputs": [
    {
     "name": "stdout",
     "output_type": "stream",
     "text": [
      "8B-E\n",
      "75    920\n",
      "76     80\n",
      "Name: count, dtype: int64\n",
      "\n",
      "Massimo: 76\n",
      "Minimo: 75\n",
      "Media: 75.08\n",
      "Varianza: 0.0736736736736737\n"
     ]
    }
   ],
   "source": [
    "# Cifratura\n",
    "data = a80_lowsize[\"8B-E\"]\n",
    "\n",
    "print_data(data)"
   ]
  },
  {
   "cell_type": "code",
   "execution_count": 23,
   "metadata": {},
   "outputs": [
    {
     "name": "stdout",
     "output_type": "stream",
     "text": [
      "8B-D\n",
      "153    837\n",
      "154    162\n",
      "155      1\n",
      "Name: count, dtype: int64\n",
      "\n",
      "Massimo: 155\n",
      "Minimo: 153\n",
      "Media: 153.164\n",
      "Varianza: 0.13924324324324322\n"
     ]
    }
   ],
   "source": [
    "# Decifratura\n",
    "data = a80_lowsize[\"8B-D\"]\n",
    "\n",
    "print_data(data)"
   ]
  },
  {
   "attachments": {},
   "cell_type": "markdown",
   "metadata": {},
   "source": [
    "#### PT 16 byte"
   ]
  },
  {
   "cell_type": "code",
   "execution_count": 24,
   "metadata": {},
   "outputs": [
    {
     "name": "stdout",
     "output_type": "stream",
     "text": [
      "16B-E\n",
      "94    879\n",
      "95    120\n",
      "93      1\n",
      "Name: count, dtype: int64\n",
      "\n",
      "Massimo: 95\n",
      "Minimo: 93\n",
      "Media: 94.119\n",
      "Varianza: 0.10694594594594593\n"
     ]
    }
   ],
   "source": [
    "# Cifratura\n",
    "data = a80_lowsize[\"16B-E\"]\n",
    "\n",
    "print_data(data)"
   ]
  },
  {
   "cell_type": "code",
   "execution_count": 25,
   "metadata": {},
   "outputs": [
    {
     "name": "stdout",
     "output_type": "stream",
     "text": [
      "16B-D\n",
      "192    800\n",
      "193    200\n",
      "Name: count, dtype: int64\n",
      "\n",
      "Massimo: 193\n",
      "Minimo: 192\n",
      "Media: 192.2\n",
      "Varianza: 0.1601601601601602\n"
     ]
    }
   ],
   "source": [
    "# Decifratura\n",
    "data = a80_lowsize[\"16B-D\"]\n",
    "\n",
    "print_data(data)"
   ]
  },
  {
   "attachments": {},
   "cell_type": "markdown",
   "metadata": {},
   "source": [
    "#### PT 24 byte"
   ]
  },
  {
   "cell_type": "code",
   "execution_count": 26,
   "metadata": {},
   "outputs": [
    {
     "name": "stdout",
     "output_type": "stream",
     "text": [
      "24B-E\n",
      "113    879\n",
      "114    120\n",
      "112      1\n",
      "Name: count, dtype: int64\n",
      "\n",
      "Massimo: 114\n",
      "Minimo: 112\n",
      "Media: 113.119\n",
      "Varianza: 0.10694594594594595\n"
     ]
    }
   ],
   "source": [
    "# Cifratura\n",
    "data = a80_lowsize[\"24B-E\"]\n",
    "\n",
    "print_data(data)"
   ]
  },
  {
   "cell_type": "code",
   "execution_count": 27,
   "metadata": {},
   "outputs": [
    {
     "name": "stdout",
     "output_type": "stream",
     "text": [
      "24B-D\n",
      "230    758\n",
      "232    200\n",
      "231     41\n",
      "233      1\n",
      "Name: count, dtype: int64\n",
      "\n",
      "Massimo: 233\n",
      "Minimo: 230\n",
      "Media: 230.444\n",
      "Varianza: 0.6535175175175175\n"
     ]
    }
   ],
   "source": [
    "# Decifratura\n",
    "data = a80_lowsize[\"24B-D\"]\n",
    "\n",
    "print_data(data)"
   ]
  },
  {
   "attachments": {},
   "cell_type": "markdown",
   "metadata": {},
   "source": [
    "#### PT 32 byte"
   ]
  },
  {
   "cell_type": "code",
   "execution_count": 28,
   "metadata": {},
   "outputs": [
    {
     "name": "stdout",
     "output_type": "stream",
     "text": [
      "32B-E\n",
      "132    839\n",
      "133    160\n",
      "131      1\n",
      "Name: count, dtype: int64\n",
      "\n",
      "Massimo: 133\n",
      "Minimo: 131\n",
      "Media: 132.159\n",
      "Varianza: 0.1358548548548549\n"
     ]
    }
   ],
   "source": [
    "# Cifratura\n",
    "data = a80_lowsize[\"32B-E\"]\n",
    "\n",
    "print_data(data)"
   ]
  },
  {
   "cell_type": "code",
   "execution_count": 29,
   "metadata": {},
   "outputs": [
    {
     "name": "stdout",
     "output_type": "stream",
     "text": [
      "32B-D\n",
      "269    719\n",
      "270    280\n",
      "271      1\n",
      "Name: count, dtype: int64\n",
      "\n",
      "Massimo: 271\n",
      "Minimo: 269\n",
      "Media: 269.282\n",
      "Varianza: 0.20468068068068065\n"
     ]
    }
   ],
   "source": [
    "# Decifratura\n",
    "data = a80_lowsize[\"32B-D\"]\n",
    "\n",
    "print_data(data)"
   ]
  },
  {
   "attachments": {},
   "cell_type": "markdown",
   "metadata": {},
   "source": [
    "### Armv7m_small"
   ]
  },
  {
   "cell_type": "code",
   "execution_count": 41,
   "metadata": {},
   "outputs": [],
   "source": [
    "with open(path.format(\"armv7m_small\"), \"r\") as f:\n",
    "    a80_small = pd.read_csv(f, delimiter=\";\")"
   ]
  },
  {
   "attachments": {},
   "cell_type": "markdown",
   "metadata": {},
   "source": [
    "#### PT vuoto"
   ]
  },
  {
   "cell_type": "code",
   "execution_count": 33,
   "metadata": {},
   "outputs": [
    {
     "name": "stdout",
     "output_type": "stream",
     "text": [
      "0B-E\n",
      "39    959\n",
      "40     40\n",
      "38      1\n",
      "Name: count, dtype: int64\n",
      "\n",
      "Massimo: 40\n",
      "Minimo: 38\n",
      "Media: 39.039\n",
      "Varianza: 0.03951851851851851\n"
     ]
    }
   ],
   "source": [
    "# Cifratura\n",
    "data = a80_small[\"0B-E\"]\n",
    "\n",
    "print_data(data)"
   ]
  },
  {
   "cell_type": "code",
   "execution_count": 34,
   "metadata": {},
   "outputs": [
    {
     "name": "stdout",
     "output_type": "stream",
     "text": [
      "0B-D\n",
      "79    921\n",
      "80     79\n",
      "Name: count, dtype: int64\n",
      "\n",
      "Massimo: 80\n",
      "Minimo: 79\n",
      "Media: 79.079\n",
      "Varianza: 0.07283183183183181\n"
     ]
    }
   ],
   "source": [
    "# Decifratura\n",
    "data = a80_small[\"0B-D\"]\n",
    "\n",
    "print_data(data)"
   ]
  },
  {
   "attachments": {},
   "cell_type": "markdown",
   "metadata": {},
   "source": [
    "#### PT 1 byte"
   ]
  },
  {
   "cell_type": "code",
   "execution_count": 35,
   "metadata": {},
   "outputs": [
    {
     "name": "stdout",
     "output_type": "stream",
     "text": [
      "1B-E\n",
      "50    919\n",
      "51     80\n",
      "52      1\n",
      "Name: count, dtype: int64\n",
      "\n",
      "Massimo: 52\n",
      "Minimo: 50\n",
      "Media: 50.082\n",
      "Varianza: 0.07735335335335337\n"
     ]
    }
   ],
   "source": [
    "# Cifratura\n",
    "data = a80_small[\"1B-E\"]\n",
    "\n",
    "print_data(data)"
   ]
  },
  {
   "cell_type": "code",
   "execution_count": 36,
   "metadata": {},
   "outputs": [
    {
     "name": "stdout",
     "output_type": "stream",
     "text": [
      "1B-D\n",
      "104    919\n",
      "105     79\n",
      "103      2\n",
      "Name: count, dtype: int64\n",
      "\n",
      "Massimo: 105\n",
      "Minimo: 103\n",
      "Media: 104.077\n",
      "Varianza: 0.07514614614614616\n"
     ]
    }
   ],
   "source": [
    "# Decifratura\n",
    "data = a80_small[\"1B-D\"]\n",
    "\n",
    "print_data(data)"
   ]
  },
  {
   "attachments": {},
   "cell_type": "markdown",
   "metadata": {},
   "source": [
    "#### PT 8 byte"
   ]
  },
  {
   "cell_type": "code",
   "execution_count": 37,
   "metadata": {},
   "outputs": [
    {
     "name": "stdout",
     "output_type": "stream",
     "text": [
      "8B-E\n",
      "85    880\n",
      "86    120\n",
      "Name: count, dtype: int64\n",
      "\n",
      "Massimo: 86\n",
      "Minimo: 85\n",
      "Media: 85.12\n",
      "Varianza: 0.1057057057057057\n"
     ]
    }
   ],
   "source": [
    "# Cifratura\n",
    "data = a80_small[\"8B-E\"]\n",
    "\n",
    "print_data(data)"
   ]
  },
  {
   "cell_type": "code",
   "execution_count": 38,
   "metadata": {},
   "outputs": [
    {
     "name": "stdout",
     "output_type": "stream",
     "text": [
      "8B-D\n",
      "172    840\n",
      "173    159\n",
      "171      1\n",
      "Name: count, dtype: int64\n",
      "\n",
      "Massimo: 173\n",
      "Minimo: 171\n",
      "Media: 172.158\n",
      "Varianza: 0.13517117117117117\n"
     ]
    }
   ],
   "source": [
    "# Decifratura\n",
    "data = a80_small[\"8B-D\"]\n",
    "\n",
    "print_data(data)"
   ]
  },
  {
   "attachments": {},
   "cell_type": "markdown",
   "metadata": {},
   "source": [
    "#### PT 16 byte"
   ]
  },
  {
   "cell_type": "code",
   "execution_count": 39,
   "metadata": {},
   "outputs": [
    {
     "name": "stdout",
     "output_type": "stream",
     "text": [
      "16B-E\n",
      "103    879\n",
      "104    120\n",
      "105      1\n",
      "Name: count, dtype: int64\n",
      "\n",
      "Massimo: 105\n",
      "Minimo: 103\n",
      "Media: 103.122\n",
      "Varianza: 0.10922522522522522\n"
     ]
    }
   ],
   "source": [
    "# Cifratura\n",
    "data = a80_small[\"16B-E\"]\n",
    "\n",
    "print_data(data)"
   ]
  },
  {
   "cell_type": "code",
   "execution_count": 40,
   "metadata": {},
   "outputs": [
    {
     "name": "stdout",
     "output_type": "stream",
     "text": [
      "16B-D\n",
      "209    799\n",
      "210    200\n",
      "208      1\n",
      "Name: count, dtype: int64\n",
      "\n",
      "Massimo: 210\n",
      "Minimo: 208\n",
      "Media: 209.199\n",
      "Varianza: 0.16156056056056062\n"
     ]
    }
   ],
   "source": [
    "# Decifratura\n",
    "data = a80_small[\"16B-D\"]\n",
    "\n",
    "print_data(data)"
   ]
  },
  {
   "attachments": {},
   "cell_type": "markdown",
   "metadata": {},
   "source": [
    "#### PT 24 byte"
   ]
  },
  {
   "cell_type": "code",
   "execution_count": 42,
   "metadata": {},
   "outputs": [
    {
     "name": "stdout",
     "output_type": "stream",
     "text": [
      "24B-E\n",
      "103    879\n",
      "104    120\n",
      "105      1\n",
      "Name: count, dtype: int64\n",
      "\n",
      "Massimo: 105\n",
      "Minimo: 103\n",
      "Media: 103.122\n",
      "Varianza: 0.10922522522522522\n"
     ]
    }
   ],
   "source": [
    "# Cifratura\n",
    "data = a80_small[\"24B-E\"]\n",
    "\n",
    "print_data(data)"
   ]
  },
  {
   "cell_type": "code",
   "execution_count": 43,
   "metadata": {},
   "outputs": [
    {
     "name": "stdout",
     "output_type": "stream",
     "text": [
      "24B-D\n",
      "209    799\n",
      "210    200\n",
      "208      1\n",
      "Name: count, dtype: int64\n",
      "\n",
      "Massimo: 210\n",
      "Minimo: 208\n",
      "Media: 209.199\n",
      "Varianza: 0.16156056056056062\n"
     ]
    }
   ],
   "source": [
    "# Decifratura\n",
    "data = a80_small[\"24B-D\"]\n",
    "\n",
    "print_data(data)"
   ]
  },
  {
   "attachments": {},
   "cell_type": "markdown",
   "metadata": {},
   "source": [
    "#### PT 32 byte"
   ]
  },
  {
   "cell_type": "code",
   "execution_count": 44,
   "metadata": {},
   "outputs": [
    {
     "name": "stdout",
     "output_type": "stream",
     "text": [
      "32B-E\n",
      "121    878\n",
      "122    122\n",
      "Name: count, dtype: int64\n",
      "\n",
      "Massimo: 122\n",
      "Minimo: 121\n",
      "Media: 121.122\n",
      "Varianza: 0.10722322322322322\n"
     ]
    }
   ],
   "source": [
    "# Cifratura\n",
    "data = a80_small[\"32B-E\"]\n",
    "\n",
    "print_data(data)"
   ]
  },
  {
   "cell_type": "code",
   "execution_count": 45,
   "metadata": {},
   "outputs": [
    {
     "name": "stdout",
     "output_type": "stream",
     "text": [
      "32B-D\n",
      "246    758\n",
      "247    242\n",
      "Name: count, dtype: int64\n",
      "\n",
      "Massimo: 247\n",
      "Minimo: 246\n",
      "Media: 246.242\n",
      "Varianza: 0.1836196196196196\n"
     ]
    }
   ],
   "source": [
    "# Decifratura\n",
    "data = a80_small[\"32B-D\"]\n",
    "\n",
    "print_data(data)"
   ]
  },
  {
   "attachments": {},
   "cell_type": "markdown",
   "metadata": {},
   "source": [
    "### Bi32_armv7m"
   ]
  },
  {
   "cell_type": "code",
   "execution_count": 46,
   "metadata": {},
   "outputs": [],
   "source": [
    "with open(path.format(\"bi32_armv7m\"), \"r\") as f:\n",
    "    a80_bi32 = pd.read_csv(f, delimiter=\";\")"
   ]
  },
  {
   "attachments": {},
   "cell_type": "markdown",
   "metadata": {},
   "source": [
    "#### PT vuoto"
   ]
  },
  {
   "cell_type": "code",
   "execution_count": 47,
   "metadata": {},
   "outputs": [
    {
     "name": "stdout",
     "output_type": "stream",
     "text": [
      "0B-E\n",
      "41    960\n",
      "42     40\n",
      "Name: count, dtype: int64\n",
      "\n",
      "Massimo: 42\n",
      "Minimo: 41\n",
      "Media: 41.04\n",
      "Varianza: 0.038438438438438444\n"
     ]
    }
   ],
   "source": [
    "# Cifratura\n",
    "data = a80_bi32[\"0B-E\"]\n",
    "\n",
    "print_data(data)"
   ]
  },
  {
   "cell_type": "code",
   "execution_count": 48,
   "metadata": {},
   "outputs": [
    {
     "name": "stdout",
     "output_type": "stream",
     "text": [
      "0B-D\n",
      "84    918\n",
      "85     79\n",
      "83      3\n",
      "Name: count, dtype: int64\n",
      "\n",
      "Massimo: 85\n",
      "Minimo: 83\n",
      "Media: 84.076\n",
      "Varianza: 0.0763003003003003\n"
     ]
    }
   ],
   "source": [
    "# Decifratura\n",
    "data = a80_bi32[\"0B-D\"]\n",
    "\n",
    "print_data(data)"
   ]
  },
  {
   "attachments": {},
   "cell_type": "markdown",
   "metadata": {},
   "source": [
    "#### PT 1 byte"
   ]
  },
  {
   "cell_type": "code",
   "execution_count": 49,
   "metadata": {},
   "outputs": [
    {
     "name": "stdout",
     "output_type": "stream",
     "text": [
      "1B-E\n",
      "54    918\n",
      "55     82\n",
      "Name: count, dtype: int64\n",
      "\n",
      "Massimo: 55\n",
      "Minimo: 54\n",
      "Media: 54.082\n",
      "Varianza: 0.07535135135135138\n"
     ]
    }
   ],
   "source": [
    "# Cifratura\n",
    "data = a80_bi32[\"1B-E\"]\n",
    "\n",
    "print_data(data)"
   ]
  },
  {
   "cell_type": "code",
   "execution_count": 50,
   "metadata": {},
   "outputs": [
    {
     "name": "stdout",
     "output_type": "stream",
     "text": [
      "1B-D\n",
      "112    879\n",
      "113    119\n",
      "111      2\n",
      "Name: count, dtype: int64\n",
      "\n",
      "Massimo: 113\n",
      "Minimo: 111\n",
      "Media: 112.117\n",
      "Varianza: 0.10741841841841841\n"
     ]
    }
   ],
   "source": [
    "# Cifratura\n",
    "data = a80_bi32[\"1B-D\"]\n",
    "\n",
    "print_data(data)"
   ]
  },
  {
   "attachments": {},
   "cell_type": "markdown",
   "metadata": {},
   "source": [
    "#### PT 8 byte"
   ]
  },
  {
   "cell_type": "code",
   "execution_count": 51,
   "metadata": {},
   "outputs": [
    {
     "name": "stdout",
     "output_type": "stream",
     "text": [
      "8B-E\n",
      "69    919\n",
      "70     81\n",
      "Name: count, dtype: int64\n",
      "\n",
      "Massimo: 70\n",
      "Minimo: 69\n",
      "Media: 69.081\n",
      "Varianza: 0.07451351351351351\n"
     ]
    }
   ],
   "source": [
    "# Cifratura\n",
    "data = a80_bi32[\"8B-E\"]\n",
    "\n",
    "print_data(data)"
   ]
  },
  {
   "cell_type": "code",
   "execution_count": 52,
   "metadata": {},
   "outputs": [
    {
     "name": "stdout",
     "output_type": "stream",
     "text": [
      "8B-D\n",
      "142    878\n",
      "143    120\n",
      "141      2\n",
      "Name: count, dtype: int64\n",
      "\n",
      "Massimo: 143\n",
      "Minimo: 141\n",
      "Media: 142.118\n",
      "Varianza: 0.10818418418418418\n"
     ]
    }
   ],
   "source": [
    "# Decifratura\n",
    "data = a80_bi32[\"8B-D\"]\n",
    "\n",
    "print_data(data)"
   ]
  },
  {
   "attachments": {},
   "cell_type": "markdown",
   "metadata": {},
   "source": [
    "#### PT 16 byte"
   ]
  },
  {
   "cell_type": "code",
   "execution_count": 53,
   "metadata": {},
   "outputs": [
    {
     "name": "stdout",
     "output_type": "stream",
     "text": [
      "16B-E\n",
      "88    880\n",
      "90    120\n",
      "Name: count, dtype: int64\n",
      "\n",
      "Massimo: 90\n",
      "Minimo: 88\n",
      "Media: 88.24\n",
      "Varianza: 0.4228228228228228\n"
     ]
    }
   ],
   "source": [
    "# Cifratura\n",
    "data = a80_bi32[\"16B-E\"]\n",
    "\n",
    "print_data(data)"
   ]
  },
  {
   "cell_type": "code",
   "execution_count": 54,
   "metadata": {},
   "outputs": [
    {
     "name": "stdout",
     "output_type": "stream",
     "text": [
      "16B-D\n",
      "182    839\n",
      "183    160\n",
      "181      1\n",
      "Name: count, dtype: int64\n",
      "\n",
      "Massimo: 183\n",
      "Minimo: 181\n",
      "Media: 182.159\n",
      "Varianza: 0.1358548548548549\n"
     ]
    }
   ],
   "source": [
    "# Decifratura\n",
    "data = a80_bi32[\"16B-D\"]\n",
    "\n",
    "print_data(data)"
   ]
  },
  {
   "attachments": {},
   "cell_type": "markdown",
   "metadata": {},
   "source": [
    "#### PT 24 byte"
   ]
  },
  {
   "cell_type": "code",
   "execution_count": 55,
   "metadata": {},
   "outputs": [
    {
     "name": "stdout",
     "output_type": "stream",
     "text": [
      "24B-E\n",
      "108    880\n",
      "109    120\n",
      "Name: count, dtype: int64\n",
      "\n",
      "Massimo: 109\n",
      "Minimo: 108\n",
      "Media: 108.12\n",
      "Varianza: 0.1057057057057057\n"
     ]
    }
   ],
   "source": [
    "# Cifratura\n",
    "data = a80_bi32[\"24B-E\"]\n",
    "\n",
    "print_data(data)"
   ]
  },
  {
   "cell_type": "code",
   "execution_count": 56,
   "metadata": {},
   "outputs": [
    {
     "name": "stdout",
     "output_type": "stream",
     "text": [
      "24B-D\n",
      "222    798\n",
      "223    201\n",
      "221      1\n",
      "Name: count, dtype: int64\n",
      "\n",
      "Massimo: 223\n",
      "Minimo: 221\n",
      "Media: 222.2\n",
      "Varianza: 0.1621621621621622\n"
     ]
    }
   ],
   "source": [
    "# Decifratura\n",
    "data = a80_bi32[\"24B-D\"]\n",
    "\n",
    "print_data(data)"
   ]
  },
  {
   "attachments": {},
   "cell_type": "markdown",
   "metadata": {},
   "source": [
    "#### PT 32 byte"
   ]
  },
  {
   "cell_type": "code",
   "execution_count": 57,
   "metadata": {},
   "outputs": [
    {
     "name": "stdout",
     "output_type": "stream",
     "text": [
      "32B-E\n",
      "128    840\n",
      "129    160\n",
      "Name: count, dtype: int64\n",
      "\n",
      "Massimo: 129\n",
      "Minimo: 128\n",
      "Media: 128.16\n",
      "Varianza: 0.13453453453453457\n"
     ]
    }
   ],
   "source": [
    "# Cifratura\n",
    "data = a80_bi32[\"32B-E\"]\n",
    "\n",
    "print_data(data)"
   ]
  },
  {
   "cell_type": "code",
   "execution_count": 58,
   "metadata": {},
   "outputs": [
    {
     "name": "stdout",
     "output_type": "stream",
     "text": [
      "32B-D\n",
      "262    759\n",
      "263    241\n",
      "Name: count, dtype: int64\n",
      "\n",
      "Massimo: 263\n",
      "Minimo: 262\n",
      "Media: 262.241\n",
      "Varianza: 0.1831021021021021\n"
     ]
    }
   ],
   "source": [
    "# Decifratura\n",
    "data = a80_bi32[\"32B-D\"]\n",
    "\n",
    "print_data(data)"
   ]
  },
  {
   "attachments": {},
   "cell_type": "markdown",
   "metadata": {},
   "source": [
    "### Ref"
   ]
  },
  {
   "cell_type": "code",
   "execution_count": 59,
   "metadata": {},
   "outputs": [],
   "source": [
    "with open(path.format(\"ref\"), \"r\") as f:\n",
    "    a80_ref = pd.read_csv(f, delimiter=\";\")"
   ]
  },
  {
   "attachments": {},
   "cell_type": "markdown",
   "metadata": {},
   "source": [
    "#### PT vuoto"
   ]
  },
  {
   "cell_type": "code",
   "execution_count": 60,
   "metadata": {},
   "outputs": [
    {
     "name": "stdout",
     "output_type": "stream",
     "text": [
      "0B-E\n",
      "150    840\n",
      "151    120\n",
      "152     40\n",
      "Name: count, dtype: int64\n",
      "\n",
      "Massimo: 152\n",
      "Minimo: 150\n",
      "Media: 150.2\n",
      "Varianza: 0.24024024024024027\n"
     ]
    }
   ],
   "source": [
    "# Cifratura\n",
    "data = a80_ref[\"0B-E\"]\n",
    "\n",
    "print_data(data)"
   ]
  },
  {
   "cell_type": "code",
   "execution_count": 61,
   "metadata": {},
   "outputs": [
    {
     "name": "stdout",
     "output_type": "stream",
     "text": [
      "0B-D\n",
      "305    640\n",
      "306    320\n",
      "304     40\n",
      "Name: count, dtype: int64\n",
      "\n",
      "Massimo: 306\n",
      "Minimo: 304\n",
      "Media: 305.28\n",
      "Varianza: 0.2818818818818819\n"
     ]
    }
   ],
   "source": [
    "# Decifratura\n",
    "data = a80_ref[\"0B-D\"]\n",
    "\n",
    "print_data(data)"
   ]
  },
  {
   "attachments": {},
   "cell_type": "markdown",
   "metadata": {},
   "source": [
    "#### PT 1 byte"
   ]
  },
  {
   "cell_type": "code",
   "execution_count": 62,
   "metadata": {},
   "outputs": [
    {
     "name": "stdout",
     "output_type": "stream",
     "text": [
      "1B-E\n",
      "181    800\n",
      "182    200\n",
      "Name: count, dtype: int64\n",
      "\n",
      "Massimo: 182\n",
      "Minimo: 181\n",
      "Media: 181.2\n",
      "Varianza: 0.1601601601601602\n"
     ]
    }
   ],
   "source": [
    "# Cifratura\n",
    "data = a80_ref[\"1B-E\"]\n",
    "\n",
    "print_data(data)"
   ]
  },
  {
   "cell_type": "code",
   "execution_count": 63,
   "metadata": {},
   "outputs": [
    {
     "name": "stdout",
     "output_type": "stream",
     "text": [
      "1B-D\n",
      "368    558\n",
      "369    402\n",
      "367     40\n",
      "Name: count, dtype: int64\n",
      "\n",
      "Massimo: 369\n",
      "Minimo: 367\n",
      "Media: 368.362\n",
      "Varianza: 0.3112672672672673\n"
     ]
    }
   ],
   "source": [
    "# Decifratura\n",
    "data = a80_ref[\"1B-D\"]\n",
    "\n",
    "print_data(data)"
   ]
  },
  {
   "attachments": {},
   "cell_type": "markdown",
   "metadata": {},
   "source": [
    "#### PT 8 byte"
   ]
  },
  {
   "cell_type": "code",
   "execution_count": 64,
   "metadata": {},
   "outputs": [
    {
     "name": "stdout",
     "output_type": "stream",
     "text": [
      "8B-E\n",
      "251    760\n",
      "252    239\n",
      "250      1\n",
      "Name: count, dtype: int64\n",
      "\n",
      "Massimo: 252\n",
      "Minimo: 250\n",
      "Media: 251.238\n",
      "Varianza: 0.18353953953953958\n"
     ]
    }
   ],
   "source": [
    "# Cifratura\n",
    "data = a80_ref[\"8B-E\"]\n",
    "\n",
    "print_data(data)"
   ]
  },
  {
   "cell_type": "code",
   "execution_count": 65,
   "metadata": {},
   "outputs": [
    {
     "name": "stdout",
     "output_type": "stream",
     "text": [
      "8B-D\n",
      "506    442\n",
      "508    398\n",
      "507    120\n",
      "505     40\n",
      "Name: count, dtype: int64\n",
      "\n",
      "Massimo: 508\n",
      "Minimo: 505\n",
      "Media: 506.876\n",
      "Varianza: 0.9856096096096094\n"
     ]
    }
   ],
   "source": [
    "# Decifratura\n",
    "data = a80_ref[\"8B-D\"]\n",
    "\n",
    "print_data(data)"
   ]
  },
  {
   "attachments": {},
   "cell_type": "markdown",
   "metadata": {},
   "source": [
    "#### PT 16 byte"
   ]
  },
  {
   "cell_type": "code",
   "execution_count": 66,
   "metadata": {},
   "outputs": [
    {
     "name": "stdout",
     "output_type": "stream",
     "text": [
      "16B-E\n",
      "322    678\n",
      "323    322\n",
      "Name: count, dtype: int64\n",
      "\n",
      "Massimo: 323\n",
      "Minimo: 322\n",
      "Media: 322.322\n",
      "Varianza: 0.2185345345345345\n"
     ]
    }
   ],
   "source": [
    "# Cifratura\n",
    "data = a80_ref[\"16B-E\"]\n",
    "\n",
    "print_data(data)"
   ]
  },
  {
   "cell_type": "code",
   "execution_count": 67,
   "metadata": {},
   "outputs": [
    {
     "name": "stdout",
     "output_type": "stream",
     "text": [
      "16B-D\n",
      "650    682\n",
      "649    277\n",
      "648     40\n",
      "651      1\n",
      "Name: count, dtype: int64\n",
      "\n",
      "Massimo: 651\n",
      "Minimo: 648\n",
      "Media: 649.644\n",
      "Varianza: 0.3115755755755755\n"
     ]
    }
   ],
   "source": [
    "# Decifratura\n",
    "data = a80_ref[\"16B-D\"]\n",
    "\n",
    "print_data(data)"
   ]
  },
  {
   "attachments": {},
   "cell_type": "markdown",
   "metadata": {},
   "source": [
    "#### PT 24 byte"
   ]
  },
  {
   "cell_type": "code",
   "execution_count": 68,
   "metadata": {},
   "outputs": [
    {
     "name": "stdout",
     "output_type": "stream",
     "text": [
      "24B-E\n",
      "393    598\n",
      "394    402\n",
      "Name: count, dtype: int64\n",
      "\n",
      "Massimo: 394\n",
      "Minimo: 393\n",
      "Media: 393.402\n",
      "Varianza: 0.24063663663663665\n"
     ]
    }
   ],
   "source": [
    "# Cifratura\n",
    "data = a80_ref[\"24B-E\"]\n",
    "\n",
    "print_data(data)"
   ]
  },
  {
   "cell_type": "code",
   "execution_count": 69,
   "metadata": {},
   "outputs": [
    {
     "name": "stdout",
     "output_type": "stream",
     "text": [
      "24B-D\n",
      "793    798\n",
      "792    160\n",
      "791     40\n",
      "794      2\n",
      "Name: count, dtype: int64\n",
      "\n",
      "Massimo: 794\n",
      "Minimo: 791\n",
      "Media: 792.762\n",
      "Varianza: 0.2656216216216217\n"
     ]
    }
   ],
   "source": [
    "# Decifratura\n",
    "data = a80_ref[\"24B-D\"]\n",
    "\n",
    "print_data(data)"
   ]
  },
  {
   "attachments": {},
   "cell_type": "markdown",
   "metadata": {},
   "source": [
    "#### PT 32 byte"
   ]
  },
  {
   "cell_type": "code",
   "execution_count": 70,
   "metadata": {},
   "outputs": [
    {
     "name": "stdout",
     "output_type": "stream",
     "text": [
      "32B-E\n",
      "464    521\n",
      "465    479\n",
      "Name: count, dtype: int64\n",
      "\n",
      "Massimo: 465\n",
      "Minimo: 464\n",
      "Media: 464.479\n",
      "Varianza: 0.2498088088088089\n"
     ]
    }
   ],
   "source": [
    "# Cifratura\n",
    "data = a80_ref[\"32B-E\"]\n",
    "\n",
    "print_data(data)"
   ]
  },
  {
   "cell_type": "code",
   "execution_count": 71,
   "metadata": {},
   "outputs": [
    {
     "name": "stdout",
     "output_type": "stream",
     "text": [
      "32B-D\n",
      "936    959\n",
      "934     40\n",
      "937      1\n",
      "Name: count, dtype: int64\n",
      "\n",
      "Massimo: 937\n",
      "Minimo: 934\n",
      "Media: 935.921\n",
      "Varianza: 0.1549139139139139\n"
     ]
    }
   ],
   "source": [
    "# Decifratura\n",
    "data = a80_ref[\"32B-D\"]\n",
    "\n",
    "print_data(data)"
   ]
  }
 ],
 "metadata": {
  "kernelspec": {
   "display_name": "Python 3",
   "language": "python",
   "name": "python3"
  },
  "language_info": {
   "codemirror_mode": {
    "name": "ipython",
    "version": 3
   },
   "file_extension": ".py",
   "mimetype": "text/x-python",
   "name": "python",
   "nbconvert_exporter": "python",
   "pygments_lexer": "ipython3",
   "version": "3.11.2"
  },
  "orig_nbformat": 4
 },
 "nbformat": 4,
 "nbformat_minor": 2
}
