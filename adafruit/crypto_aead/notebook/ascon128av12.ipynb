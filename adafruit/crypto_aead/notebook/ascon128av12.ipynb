{
 "cells": [
  {
   "attachments": {},
   "cell_type": "markdown",
   "metadata": {},
   "source": [
    "# Analisi dei dati raccolti"
   ]
  },
  {
   "attachments": {},
   "cell_type": "markdown",
   "metadata": {},
   "source": [
    "## Setup"
   ]
  },
  {
   "cell_type": "code",
   "execution_count": 1,
   "metadata": {},
   "outputs": [],
   "source": [
    "import pandas as pd"
   ]
  },
  {
   "cell_type": "code",
   "execution_count": 2,
   "metadata": {},
   "outputs": [],
   "source": [
    "def print_data(series: pd.Series) -> None:\n",
    "    print(series.value_counts())\n",
    "    print()\n",
    "    print(f\"Massimo: {series.max()}\\nMinimo: {series.min()}\\nMedia: {series.mean()}\\nVarianza: {series.var()}\")"
   ]
  },
  {
   "attachments": {},
   "cell_type": "markdown",
   "metadata": {},
   "source": [
    "## Ascon128av12"
   ]
  },
  {
   "cell_type": "code",
   "execution_count": 3,
   "metadata": {},
   "outputs": [],
   "source": [
    "path = \"../ascon128av12/data/{}.csv\""
   ]
  },
  {
   "attachments": {},
   "cell_type": "markdown",
   "metadata": {},
   "source": [
    "### Armv6m"
   ]
  },
  {
   "cell_type": "code",
   "execution_count": 4,
   "metadata": {},
   "outputs": [],
   "source": [
    "with open(path.format(\"armv6m\"), \"r\") as f:\n",
    "    a128a_armv6m = pd.read_csv(f, delimiter=\";\")"
   ]
  },
  {
   "attachments": {},
   "cell_type": "markdown",
   "metadata": {},
   "source": [
    "#### PT vuoto"
   ]
  },
  {
   "cell_type": "code",
   "execution_count": 5,
   "metadata": {},
   "outputs": [
    {
     "name": "stdout",
     "output_type": "stream",
     "text": [
      "0B-E\n",
      "122    637\n",
      "121    190\n",
      "124     70\n",
      "129     59\n",
      "123     36\n",
      "130      7\n",
      "128      1\n",
      "Name: count, dtype: int64\n",
      "\n",
      "Massimo: 130\n",
      "Minimo: 121\n",
      "Media: 122.461\n",
      "Varianza: 3.6721511511511506\n"
     ]
    }
   ],
   "source": [
    "# Cifratura\n",
    "data = a128a_armv6m[\"0B-E\"]\n",
    "\n",
    "print_data(data)"
   ]
  },
  {
   "cell_type": "code",
   "execution_count": 6,
   "metadata": {},
   "outputs": [
    {
     "name": "stdout",
     "output_type": "stream",
     "text": [
      "0B-D\n",
      "245    556\n",
      "247    239\n",
      "252    138\n",
      "253     38\n",
      "246     23\n",
      "244      6\n",
      "Name: count, dtype: int64\n",
      "\n",
      "Massimo: 253\n",
      "Minimo: 244\n",
      "Media: 246.765\n",
      "Varianza: 7.070845845845846\n"
     ]
    }
   ],
   "source": [
    "# Decifratura\n",
    "data = a128a_armv6m[\"0B-D\"]\n",
    "\n",
    "print_data(data)"
   ]
  },
  {
   "attachments": {},
   "cell_type": "markdown",
   "metadata": {},
   "source": [
    "#### PT 1 byte"
   ]
  },
  {
   "cell_type": "code",
   "execution_count": 7,
   "metadata": {},
   "outputs": [
    {
     "name": "stdout",
     "output_type": "stream",
     "text": [
      "1B-E\n",
      "163    427\n",
      "164    203\n",
      "165    170\n",
      "171     84\n",
      "170     69\n",
      "166     45\n",
      "172      2\n",
      "Name: count, dtype: int64\n",
      "\n",
      "Massimo: 172\n",
      "Minimo: 163\n",
      "Media: 164.851\n",
      "Varianza: 6.787586586586586\n"
     ]
    }
   ],
   "source": [
    "# Cifratura\n",
    "data = a128a_armv6m[\"1B-E\"]\n",
    "\n",
    "print_data(data)"
   ]
  },
  {
   "cell_type": "code",
   "execution_count": 8,
   "metadata": {},
   "outputs": [
    {
     "name": "stdout",
     "output_type": "stream",
     "text": [
      "1B-D\n",
      "332    285\n",
      "339    253\n",
      "334    208\n",
      "331    100\n",
      "333     92\n",
      "341     34\n",
      "340     19\n",
      "338      5\n",
      "342      4\n",
      "Name: count, dtype: int64\n",
      "\n",
      "Massimo: 342\n",
      "Minimo: 331\n",
      "Media: 334.707\n",
      "Varianza: 10.653804804804803\n"
     ]
    }
   ],
   "source": [
    "# Decifratura\n",
    "data = a128a_armv6m[\"1B-D\"]\n",
    "\n",
    "print_data(data)"
   ]
  },
  {
   "attachments": {},
   "cell_type": "markdown",
   "metadata": {},
   "source": [
    "#### PT 16 byte"
   ]
  },
  {
   "cell_type": "code",
   "execution_count": 9,
   "metadata": {},
   "outputs": [
    {
     "name": "stdout",
     "output_type": "stream",
     "text": [
      "16B-E\n",
      "237    542\n",
      "239    199\n",
      "244    174\n",
      "245     58\n",
      "238     17\n",
      "236     10\n",
      "Name: count, dtype: int64\n",
      "\n",
      "Massimo: 245\n",
      "Minimo: 236\n",
      "Media: 239.087\n",
      "Varianza: 8.714145145145146\n"
     ]
    }
   ],
   "source": [
    "# Cifratura\n",
    "data = a128a_armv6m[\"16B-E\"]\n",
    "\n",
    "print_data(data)"
   ]
  },
  {
   "cell_type": "code",
   "execution_count": 10,
   "metadata": {},
   "outputs": [
    {
     "name": "stdout",
     "output_type": "stream",
     "text": [
      "16B-D\n",
      "482    177\n",
      "488    147\n",
      "480    144\n",
      "490    126\n",
      "481    119\n",
      "489    114\n",
      "487     93\n",
      "483     78\n",
      "491      2\n",
      "Name: count, dtype: int64\n",
      "\n",
      "Massimo: 491\n",
      "Minimo: 480\n",
      "Media: 484.842\n",
      "Varianza: 14.139175175175179\n"
     ]
    }
   ],
   "source": [
    "# Decifratura\n",
    "data = a128a_armv6m[\"16B-D\"]\n",
    "\n",
    "print_data(data)"
   ]
  },
  {
   "attachments": {},
   "cell_type": "markdown",
   "metadata": {},
   "source": [
    "#### PT 32 byte"
   ]
  },
  {
   "cell_type": "code",
   "execution_count": 11,
   "metadata": {},
   "outputs": [
    {
     "name": "stdout",
     "output_type": "stream",
     "text": [
      "32B-E\n",
      "315    431\n",
      "317    201\n",
      "322    177\n",
      "323    103\n",
      "316     34\n",
      "324     31\n",
      "325     16\n",
      "318      7\n",
      "Name: count, dtype: int64\n",
      "\n",
      "Massimo: 325\n",
      "Minimo: 315\n",
      "Media: 317.959\n",
      "Varianza: 11.532851851851852\n"
     ]
    }
   ],
   "source": [
    "# Cifratura\n",
    "data = a128a_armv6m[\"32B-E\"]\n",
    "\n",
    "print_data(data)"
   ]
  },
  {
   "cell_type": "code",
   "execution_count": 12,
   "metadata": {},
   "outputs": [
    {
     "name": "stdout",
     "output_type": "stream",
     "text": [
      "32B-D\n",
      "650    221\n",
      "651    204\n",
      "643    201\n",
      "641     93\n",
      "644     79\n",
      "649     76\n",
      "648     67\n",
      "642     53\n",
      "652      5\n",
      "645      1\n",
      "Name: count, dtype: int64\n",
      "\n",
      "Massimo: 652\n",
      "Minimo: 641\n",
      "Media: 646.857\n",
      "Varianza: 14.3468978978979\n"
     ]
    }
   ],
   "source": [
    "# Decifratura\n",
    "data = a128a_armv6m[\"32B-D\"]\n",
    "\n",
    "print_data(data)"
   ]
  },
  {
   "attachments": {},
   "cell_type": "markdown",
   "metadata": {},
   "source": [
    "#### PT 48 byte"
   ]
  },
  {
   "cell_type": "code",
   "execution_count": 13,
   "metadata": {},
   "outputs": [
    {
     "name": "stdout",
     "output_type": "stream",
     "text": [
      "48B-E\n",
      "395    278\n",
      "393    276\n",
      "400    168\n",
      "401    143\n",
      "394     68\n",
      "396     44\n",
      "403     12\n",
      "402     10\n",
      "404      1\n",
      "Name: count, dtype: int64\n",
      "\n",
      "Massimo: 404\n",
      "Minimo: 393\n",
      "Media: 396.297\n",
      "Varianza: 10.231022022022021\n"
     ]
    }
   ],
   "source": [
    "# Cifratura\n",
    "data = a128a_armv6m[\"48B-E\"]\n",
    "\n",
    "print_data(data)"
   ]
  },
  {
   "cell_type": "code",
   "execution_count": 14,
   "metadata": {},
   "outputs": [
    {
     "name": "stdout",
     "output_type": "stream",
     "text": [
      "32B-D\n",
      "650    221\n",
      "651    204\n",
      "643    201\n",
      "641     93\n",
      "644     79\n",
      "649     76\n",
      "648     67\n",
      "642     53\n",
      "652      5\n",
      "645      1\n",
      "Name: count, dtype: int64\n",
      "\n",
      "Massimo: 652\n",
      "Minimo: 641\n",
      "Media: 646.857\n",
      "Varianza: 14.3468978978979\n"
     ]
    }
   ],
   "source": [
    "# Decifratura\n",
    "data = a128a_armv6m[\"32B-D\"]\n",
    "\n",
    "print_data(data)"
   ]
  },
  {
   "attachments": {},
   "cell_type": "markdown",
   "metadata": {},
   "source": [
    "#### PT 64 byte"
   ]
  },
  {
   "cell_type": "code",
   "execution_count": 15,
   "metadata": {},
   "outputs": [
    {
     "name": "stdout",
     "output_type": "stream",
     "text": [
      "64B-E\n",
      "471    176\n",
      "473    172\n",
      "479    149\n",
      "480    128\n",
      "481    117\n",
      "478    115\n",
      "472     74\n",
      "474     63\n",
      "482      6\n",
      "Name: count, dtype: int64\n",
      "\n",
      "Massimo: 482\n",
      "Minimo: 471\n",
      "Media: 475.992\n",
      "Varianza: 14.388324324324326\n"
     ]
    }
   ],
   "source": [
    "# Cifratura\n",
    "data = a128a_armv6m[\"64B-E\"]\n",
    "\n",
    "print_data(data)"
   ]
  },
  {
   "cell_type": "code",
   "execution_count": 16,
   "metadata": {},
   "outputs": [
    {
     "name": "stdout",
     "output_type": "stream",
     "text": [
      "64B-D\n",
      "972    491\n",
      "973    403\n",
      "965     54\n",
      "970     18\n",
      "974     14\n",
      "971     11\n",
      "966      9\n",
      "Name: count, dtype: int64\n",
      "\n",
      "Massimo: 974\n",
      "Minimo: 965\n",
      "Media: 971.952\n",
      "Varianza: 3.51320920920921\n"
     ]
    }
   ],
   "source": [
    "# Decifratura\n",
    "data = a128a_armv6m[\"64B-D\"]\n",
    "\n",
    "print_data(data)"
   ]
  },
  {
   "attachments": {},
   "cell_type": "markdown",
   "metadata": {},
   "source": [
    "### Armv6m_lowsize"
   ]
  },
  {
   "cell_type": "code",
   "execution_count": 17,
   "metadata": {},
   "outputs": [],
   "source": [
    "with open(path.format(\"armv6m_lowsize\"), \"r\") as f:\n",
    "    a128a_lowsize = pd.read_csv(f, delimiter=\";\")"
   ]
  },
  {
   "cell_type": "markdown",
   "metadata": {},
   "source": [
    "#### PT vuoto"
   ]
  },
  {
   "cell_type": "code",
   "execution_count": 18,
   "metadata": {},
   "outputs": [
    {
     "name": "stdout",
     "output_type": "stream",
     "text": [
      "0B-E\n",
      "130    675\n",
      "129    114\n",
      "132     88\n",
      "137     82\n",
      "131     33\n",
      "138      8\n",
      "Name: count, dtype: int64\n",
      "\n",
      "Massimo: 138\n",
      "Minimo: 129\n",
      "Media: 130.733\n",
      "Varianza: 4.496207207207207\n"
     ]
    }
   ],
   "source": [
    "# Cifratura\n",
    "data = a128a_lowsize[\"0B-E\"]\n",
    "\n",
    "print_data(data)"
   ]
  },
  {
   "cell_type": "code",
   "execution_count": 19,
   "metadata": {},
   "outputs": [
    {
     "name": "stdout",
     "output_type": "stream",
     "text": [
      "0B-D\n",
      "265    440\n",
      "264    145\n",
      "272    118\n",
      "267    110\n",
      "274     83\n",
      "266     77\n",
      "273     19\n",
      "271      4\n",
      "275      3\n",
      "268      1\n",
      "Name: count, dtype: int64\n",
      "\n",
      "Massimo: 275\n",
      "Minimo: 264\n",
      "Media: 266.934\n",
      "Varianza: 11.106750750750752\n"
     ]
    }
   ],
   "source": [
    "# Decifratura\n",
    "data = a128a_lowsize[\"0B-D\"]\n",
    "\n",
    "print_data(data)"
   ]
  },
  {
   "attachments": {},
   "cell_type": "markdown",
   "metadata": {},
   "source": [
    "#### PT 1 byte"
   ]
  },
  {
   "cell_type": "code",
   "execution_count": 20,
   "metadata": {},
   "outputs": [
    {
     "name": "stdout",
     "output_type": "stream",
     "text": [
      "1B-E\n",
      "171    439\n",
      "172    222\n",
      "173    122\n",
      "179     93\n",
      "178     75\n",
      "174     46\n",
      "180      3\n",
      "Name: count, dtype: int64\n",
      "\n",
      "Massimo: 180\n",
      "Minimo: 171\n",
      "Media: 172.9\n",
      "Varianza: 7.391391391391392\n"
     ]
    }
   ],
   "source": [
    "# Cifratura\n",
    "data = a128a_lowsize[\"1B-E\"]\n",
    "\n",
    "print_data(data)"
   ]
  },
  {
   "cell_type": "code",
   "execution_count": 21,
   "metadata": {},
   "outputs": [
    {
     "name": "stdout",
     "output_type": "stream",
     "text": [
      "1B-D\n",
      "348    472\n",
      "357    149\n",
      "350    139\n",
      "355    106\n",
      "349     55\n",
      "356     40\n",
      "358     39\n",
      "Name: count, dtype: int64\n",
      "\n",
      "Massimo: 358\n",
      "Minimo: 348\n",
      "Media: 351.126\n",
      "Varianza: 14.576700700700696\n"
     ]
    }
   ],
   "source": [
    "# Decifratura\n",
    "data = a128a_lowsize[\"1B-D\"]\n",
    "\n",
    "print_data(data)"
   ]
  },
  {
   "attachments": {},
   "cell_type": "markdown",
   "metadata": {},
   "source": [
    "#### PT 16 byte"
   ]
  },
  {
   "cell_type": "code",
   "execution_count": 22,
   "metadata": {},
   "outputs": [
    {
     "name": "stdout",
     "output_type": "stream",
     "text": [
      "16B-E\n",
      "256    536\n",
      "258    161\n",
      "263    146\n",
      "265     65\n",
      "264     37\n",
      "257     28\n",
      "255     22\n",
      "266      3\n",
      "259      2\n",
      "Name: count, dtype: int64\n",
      "\n",
      "Massimo: 266\n",
      "Minimo: 255\n",
      "Media: 258.267\n",
      "Varianza: 10.670381381381382\n"
     ]
    }
   ],
   "source": [
    "# Cifratura\n",
    "data = a128a_lowsize[\"16B-E\"]\n",
    "\n",
    "print_data(data)"
   ]
  },
  {
   "cell_type": "code",
   "execution_count": 23,
   "metadata": {},
   "outputs": [
    {
     "name": "stdout",
     "output_type": "stream",
     "text": [
      "16B-D\n",
      "522    191\n",
      "532    156\n",
      "531    156\n",
      "523    150\n",
      "524    134\n",
      "530     90\n",
      "525     78\n",
      "529     43\n",
      "533      2\n",
      "Name: count, dtype: int64\n",
      "\n",
      "Massimo: 533\n",
      "Minimo: 522\n",
      "Media: 526.659\n",
      "Varianza: 16.042761761761763\n"
     ]
    }
   ],
   "source": [
    "# Decifratura\n",
    "data = a128a_lowsize[\"16B-D\"]\n",
    "\n",
    "print_data(data)"
   ]
  },
  {
   "attachments": {},
   "cell_type": "markdown",
   "metadata": {},
   "source": [
    "#### PT 32 byte"
   ]
  },
  {
   "cell_type": "code",
   "execution_count": 24,
   "metadata": {},
   "outputs": [
    {
     "name": "stdout",
     "output_type": "stream",
     "text": [
      "32B-E\n",
      "341    375\n",
      "343    145\n",
      "342    131\n",
      "350    119\n",
      "351     77\n",
      "348     66\n",
      "349     61\n",
      "344     25\n",
      "352      1\n",
      "Name: count, dtype: int64\n",
      "\n",
      "Massimo: 352\n",
      "Minimo: 341\n",
      "Media: 344.298\n",
      "Varianza: 14.67186786786787\n"
     ]
    }
   ],
   "source": [
    "# Cifratura\n",
    "data = a128a_lowsize[\"32B-E\"]\n",
    "\n",
    "print_data(data)"
   ]
  },
  {
   "cell_type": "code",
   "execution_count": 25,
   "metadata": {},
   "outputs": [
    {
     "name": "stdout",
     "output_type": "stream",
     "text": [
      "32B-D\n",
      "708    272\n",
      "707    235\n",
      "700    150\n",
      "706     81\n",
      "698     77\n",
      "701     71\n",
      "699     60\n",
      "705     46\n",
      "709      8\n",
      "Name: count, dtype: int64\n",
      "\n",
      "Massimo: 709\n",
      "Minimo: 698\n",
      "Media: 704.466\n",
      "Varianza: 14.14498898898899\n"
     ]
    }
   ],
   "source": [
    "# Decifratura\n",
    "data = a128a_lowsize[\"32B-D\"]\n",
    "\n",
    "print_data(data)"
   ]
  },
  {
   "attachments": {},
   "cell_type": "markdown",
   "metadata": {},
   "source": [
    "#### PT 48 byte"
   ]
  },
  {
   "cell_type": "code",
   "execution_count": 26,
   "metadata": {},
   "outputs": [
    {
     "name": "stdout",
     "output_type": "stream",
     "text": [
      "48B-E\n",
      "434    194\n",
      "427    181\n",
      "426    163\n",
      "436    131\n",
      "428     97\n",
      "435     84\n",
      "433     76\n",
      "429     70\n",
      "437      3\n",
      "430      1\n",
      "Name: count, dtype: int64\n",
      "\n",
      "Massimo: 437\n",
      "Minimo: 426\n",
      "Media: 430.772\n",
      "Varianza: 14.86488088088088\n"
     ]
    }
   ],
   "source": [
    "# Cifratura\n",
    "data = a128a_lowsize[\"48B-E\"]\n",
    "\n",
    "print_data(data)"
   ]
  },
  {
   "cell_type": "code",
   "execution_count": 27,
   "metadata": {},
   "outputs": [
    {
     "name": "stdout",
     "output_type": "stream",
     "text": [
      "48B-D\n",
      "884    382\n",
      "883    309\n",
      "876    123\n",
      "882     70\n",
      "877     64\n",
      "881     42\n",
      "885     10\n",
      "Name: count, dtype: int64\n",
      "\n",
      "Massimo: 885\n",
      "Minimo: 876\n",
      "Media: 882.003\n",
      "Varianza: 8.004995995995998\n"
     ]
    }
   ],
   "source": [
    "# Decifratura\n",
    "data = a128a_lowsize[\"48B-D\"]\n",
    "\n",
    "print_data(data)"
   ]
  },
  {
   "attachments": {},
   "cell_type": "markdown",
   "metadata": {},
   "source": [
    "#### PT 64 byte"
   ]
  },
  {
   "cell_type": "code",
   "execution_count": 28,
   "metadata": {},
   "outputs": [
    {
     "name": "stdout",
     "output_type": "stream",
     "text": [
      "64B-E\n",
      "521    285\n",
      "512    221\n",
      "519    163\n",
      "514    158\n",
      "513     77\n",
      "520     44\n",
      "511     39\n",
      "522     13\n",
      "Name: count, dtype: int64\n",
      "\n",
      "Massimo: 522\n",
      "Minimo: 511\n",
      "Media: 516.542\n",
      "Varianza: 15.321557557557561\n"
     ]
    }
   ],
   "source": [
    "# Cifratura\n",
    "data = a128a_lowsize[\"64B-E\"]\n",
    "\n",
    "print_data(data)"
   ]
  },
  {
   "cell_type": "code",
   "execution_count": 29,
   "metadata": {},
   "outputs": [
    {
     "name": "stdout",
     "output_type": "stream",
     "text": [
      "64B-D\n",
      "1060    563\n",
      "1059    411\n",
      "1061     18\n",
      "1062      8\n",
      "Name: count, dtype: int64\n",
      "\n",
      "Massimo: 1062\n",
      "Minimo: 1059\n",
      "Media: 1059.623\n",
      "Varianza: 0.3191901901901902\n"
     ]
    }
   ],
   "source": [
    "# Decifratura\n",
    "data = a128a_lowsize[\"64B-D\"]\n",
    "\n",
    "print_data(data)"
   ]
  },
  {
   "attachments": {},
   "cell_type": "markdown",
   "metadata": {},
   "source": [
    "### Bi32_armv6m"
   ]
  },
  {
   "cell_type": "code",
   "execution_count": 30,
   "metadata": {},
   "outputs": [],
   "source": [
    "with open(path.format(\"bi32_armv6m\"), \"r\") as f:\n",
    "    a128a_bi32 = pd.read_csv(f, delimiter=\";\")"
   ]
  },
  {
   "attachments": {},
   "cell_type": "markdown",
   "metadata": {},
   "source": [
    "#### PT vuoto"
   ]
  },
  {
   "cell_type": "code",
   "execution_count": 31,
   "metadata": {},
   "outputs": [
    {
     "name": "stdout",
     "output_type": "stream",
     "text": [
      "0B-E\n",
      "129    606\n",
      "130    135\n",
      "131    121\n",
      "136     67\n",
      "137     54\n",
      "132     16\n",
      "138      1\n",
      "Name: count, dtype: int64\n",
      "\n",
      "Massimo: 138\n",
      "Minimo: 129\n",
      "Media: 130.335\n",
      "Varianza: 5.8065815815815816\n"
     ]
    }
   ],
   "source": [
    "# Cifratura\n",
    "data = a128a_bi32[\"0B-E\"]\n",
    "\n",
    "print_data(data)"
   ]
  },
  {
   "cell_type": "code",
   "execution_count": 32,
   "metadata": {},
   "outputs": [
    {
     "name": "stdout",
     "output_type": "stream",
     "text": [
      "0B-D\n",
      "261    395\n",
      "263    229\n",
      "262    133\n",
      "268    107\n",
      "269     97\n",
      "264     36\n",
      "270      3\n",
      "Name: count, dtype: int64\n",
      "\n",
      "Massimo: 270\n",
      "Minimo: 261\n",
      "Media: 263.251\n",
      "Varianza: 8.008007007007006\n"
     ]
    }
   ],
   "source": [
    "# Decifratura\n",
    "data = a128a_bi32[\"0B-D\"]\n",
    "\n",
    "print_data(data)"
   ]
  },
  {
   "attachments": {},
   "cell_type": "markdown",
   "metadata": {},
   "source": [
    "#### PT 1 byte"
   ]
  },
  {
   "cell_type": "code",
   "execution_count": 33,
   "metadata": {},
   "outputs": [
    {
     "name": "stdout",
     "output_type": "stream",
     "text": [
      "1B-E\n",
      "176    707\n",
      "183    125\n",
      "178    112\n",
      "184     38\n",
      "177     18\n",
      "Name: count, dtype: int64\n",
      "\n",
      "Massimo: 184\n",
      "Minimo: 176\n",
      "Media: 177.421\n",
      "Varianza: 7.0107697697697695\n"
     ]
    }
   ],
   "source": [
    "# Cifratura\n",
    "data = a128a_bi32[\"1B-E\"]\n",
    "\n",
    "print_data(data)"
   ]
  },
  {
   "cell_type": "code",
   "execution_count": 34,
   "metadata": {},
   "outputs": [
    {
     "name": "stdout",
     "output_type": "stream",
     "text": [
      "1B-D\n",
      "359    365\n",
      "357    243\n",
      "364    209\n",
      "365    134\n",
      "358     41\n",
      "360      7\n",
      "361      1\n",
      "Name: count, dtype: int64\n",
      "\n",
      "Massimo: 365\n",
      "Minimo: 357\n",
      "Media: 360.331\n",
      "Varianza: 9.31074974974975\n"
     ]
    }
   ],
   "source": [
    "# Cifratura\n",
    "data = a128a_bi32[\"1B-D\"]\n",
    "\n",
    "print_data(data)"
   ]
  },
  {
   "attachments": {},
   "cell_type": "markdown",
   "metadata": {},
   "source": [
    "#### PT 16 byte"
   ]
  },
  {
   "cell_type": "code",
   "execution_count": 35,
   "metadata": {},
   "outputs": [
    {
     "name": "stdout",
     "output_type": "stream",
     "text": [
      "16B-E\n",
      "253    256\n",
      "252    240\n",
      "260    174\n",
      "254    159\n",
      "255     95\n",
      "259     70\n",
      "261      6\n",
      "Name: count, dtype: int64\n",
      "\n",
      "Massimo: 261\n",
      "Minimo: 252\n",
      "Media: 254.795\n",
      "Varianza: 8.995970970970971\n"
     ]
    }
   ],
   "source": [
    "# Cifratura\n",
    "data = a128a_bi32[\"16B-E\"]\n",
    "\n",
    "print_data(data)"
   ]
  },
  {
   "cell_type": "code",
   "execution_count": 36,
   "metadata": {},
   "outputs": [
    {
     "name": "stdout",
     "output_type": "stream",
     "text": [
      "16B-D\n",
      "514    308\n",
      "520    268\n",
      "515    142\n",
      "519    117\n",
      "512     57\n",
      "513     53\n",
      "521     34\n",
      "522     21\n",
      "Name: count, dtype: int64\n",
      "\n",
      "Massimo: 522\n",
      "Minimo: 512\n",
      "Media: 516.574\n",
      "Varianza: 9.389913913913912\n"
     ]
    }
   ],
   "source": [
    "# Decifratura\n",
    "data = a128a_bi32[\"16B-D\"]\n",
    "\n",
    "print_data(data)"
   ]
  },
  {
   "attachments": {},
   "cell_type": "markdown",
   "metadata": {},
   "source": [
    "#### PT 32 byte"
   ]
  },
  {
   "cell_type": "code",
   "execution_count": 37,
   "metadata": {},
   "outputs": [
    {
     "name": "stdout",
     "output_type": "stream",
     "text": [
      "32B-E\n",
      "341    318\n",
      "339    204\n",
      "347    162\n",
      "346    155\n",
      "340     84\n",
      "342     75\n",
      "348      2\n",
      "Name: count, dtype: int64\n",
      "\n",
      "Massimo: 348\n",
      "Minimo: 339\n",
      "Media: 342.344\n",
      "Varianza: 8.98264664664665\n"
     ]
    }
   ],
   "source": [
    "# Cifratura\n",
    "data = a128a_bi32[\"32B-E\"]\n",
    "\n",
    "print_data(data)"
   ]
  },
  {
   "cell_type": "code",
   "execution_count": 38,
   "metadata": {},
   "outputs": [
    {
     "name": "stdout",
     "output_type": "stream",
     "text": [
      "32B-D\n",
      "693    323\n",
      "700    254\n",
      "698    247\n",
      "699     94\n",
      "701     51\n",
      "692     31\n",
      "Name: count, dtype: int64\n",
      "\n",
      "Massimo: 701\n",
      "Minimo: 692\n",
      "Media: 696.954\n",
      "Varianza: 9.675559559559558\n"
     ]
    }
   ],
   "source": [
    "# Decifratura\n",
    "data = a128a_bi32[\"32B-D\"]\n",
    "\n",
    "print_data(data)"
   ]
  },
  {
   "attachments": {},
   "cell_type": "markdown",
   "metadata": {},
   "source": [
    "#### PT 48 byte"
   ]
  },
  {
   "cell_type": "code",
   "execution_count": 39,
   "metadata": {},
   "outputs": [
    {
     "name": "stdout",
     "output_type": "stream",
     "text": [
      "48B-E\n",
      "428    384\n",
      "433    313\n",
      "434    150\n",
      "426    114\n",
      "427     24\n",
      "435     11\n",
      "436      3\n",
      "437      1\n",
      "Name: count, dtype: int64\n",
      "\n",
      "Massimo: 437\n",
      "Minimo: 426\n",
      "Media: 430.323\n",
      "Varianza: 9.1298008008008\n"
     ]
    }
   ],
   "source": [
    "# Cifratura\n",
    "data = a128a_bi32[\"48B-E\"]\n",
    "\n",
    "print_data(data)"
   ]
  },
  {
   "cell_type": "code",
   "execution_count": 40,
   "metadata": {},
   "outputs": [
    {
     "name": "stdout",
     "output_type": "stream",
     "text": [
      "48B-D\n",
      "879    514\n",
      "878    199\n",
      "871     95\n",
      "872     87\n",
      "877     61\n",
      "880     26\n",
      "876     18\n",
      "Name: count, dtype: int64\n",
      "\n",
      "Massimo: 880\n",
      "Minimo: 871\n",
      "Media: 877.282\n",
      "Varianza: 8.030506506506505\n"
     ]
    }
   ],
   "source": [
    "# Decifratura\n",
    "data = a128a_bi32[\"48B-D\"]\n",
    "\n",
    "print_data(data)"
   ]
  },
  {
   "attachments": {},
   "cell_type": "markdown",
   "metadata": {},
   "source": [
    "#### PT 64 byte"
   ]
  },
  {
   "cell_type": "code",
   "execution_count": 41,
   "metadata": {},
   "outputs": [
    {
     "name": "stdout",
     "output_type": "stream",
     "text": [
      "64B-E\n",
      "520    385\n",
      "515    350\n",
      "514    106\n",
      "522     79\n",
      "521     50\n",
      "513     24\n",
      "523      4\n",
      "512      2\n",
      "Name: count, dtype: int64\n",
      "\n",
      "Massimo: 523\n",
      "Minimo: 512\n",
      "Media: 517.65\n",
      "Varianza: 8.758258258258259\n"
     ]
    }
   ],
   "source": [
    "# Cifratura\n",
    "data = a128a_bi32[\"64B-E\"]\n",
    "\n",
    "print_data(data)"
   ]
  },
  {
   "cell_type": "code",
   "execution_count": 42,
   "metadata": {},
   "outputs": [
    {
     "name": "stdout",
     "output_type": "stream",
     "text": [
      "64B-D\n",
      "1057    624\n",
      "1058    317\n",
      "1059     48\n",
      "1060     11\n",
      "Name: count, dtype: int64\n",
      "\n",
      "Massimo: 1060\n",
      "Minimo: 1057\n",
      "Media: 1057.446\n",
      "Varianza: 0.40949349349349357\n"
     ]
    }
   ],
   "source": [
    "# Decifratura\n",
    "data = a128a_bi32[\"64B-D\"]\n",
    "\n",
    "print_data(data)"
   ]
  },
  {
   "attachments": {},
   "cell_type": "markdown",
   "metadata": {},
   "source": [
    "### Ref"
   ]
  },
  {
   "cell_type": "code",
   "execution_count": 43,
   "metadata": {},
   "outputs": [],
   "source": [
    "with open(path.format(\"ref\"), \"r\") as f:\n",
    "    a128a_ref = pd.read_csv(f, delimiter=\";\")"
   ]
  },
  {
   "attachments": {},
   "cell_type": "markdown",
   "metadata": {},
   "source": [
    "#### PT vuoto"
   ]
  },
  {
   "cell_type": "code",
   "execution_count": 44,
   "metadata": {},
   "outputs": [
    {
     "name": "stdout",
     "output_type": "stream",
     "text": [
      "0B-E\n",
      "173    709\n",
      "175    125\n",
      "180     45\n",
      "174     42\n",
      "182     31\n",
      "181     20\n",
      "183     15\n",
      "176     13\n",
      "Name: count, dtype: int64\n",
      "\n",
      "Massimo: 183\n",
      "Minimo: 173\n",
      "Media: 174.235\n",
      "Varianza: 6.636411411411413\n"
     ]
    }
   ],
   "source": [
    "# Cifratura\n",
    "data = a128a_ref[\"0B-E\"]\n",
    "\n",
    "print_data(data)"
   ]
  },
  {
   "cell_type": "code",
   "execution_count": 45,
   "metadata": {},
   "outputs": [
    {
     "name": "stdout",
     "output_type": "stream",
     "text": [
      "0B-D\n",
      "369    444\n",
      "378    163\n",
      "371    156\n",
      "376    111\n",
      "368     63\n",
      "370     25\n",
      "379     21\n",
      "377     17\n",
      "Name: count, dtype: int64\n",
      "\n",
      "Massimo: 379\n",
      "Minimo: 368\n",
      "Media: 371.864\n",
      "Varianza: 14.353857857857856\n"
     ]
    }
   ],
   "source": [
    "# Decifratura\n",
    "data = a128a_ref[\"0B-D\"]\n",
    "\n",
    "print_data(data)"
   ]
  },
  {
   "attachments": {},
   "cell_type": "markdown",
   "metadata": {},
   "source": [
    "#### PT 1 byte"
   ]
  },
  {
   "cell_type": "code",
   "execution_count": 46,
   "metadata": {},
   "outputs": [
    {
     "name": "stdout",
     "output_type": "stream",
     "text": [
      "1B-E\n",
      "225    538\n",
      "224    151\n",
      "234    123\n",
      "232     73\n",
      "227     61\n",
      "226     23\n",
      "235     15\n",
      "233     13\n",
      "231      3\n",
      "Name: count, dtype: int64\n",
      "\n",
      "Massimo: 235\n",
      "Minimo: 224\n",
      "Media: 226.884\n",
      "Varianza: 12.861405405405405\n"
     ]
    }
   ],
   "source": [
    "# Cifratura\n",
    "data = a128a_ref[\"1B-E\"]\n",
    "\n",
    "print_data(data)"
   ]
  },
  {
   "cell_type": "code",
   "execution_count": 47,
   "metadata": {},
   "outputs": [
    {
     "name": "stdout",
     "output_type": "stream",
     "text": [
      "1B-D\n",
      "473    262\n",
      "483    169\n",
      "482    153\n",
      "474    136\n",
      "475    105\n",
      "481     71\n",
      "480     55\n",
      "476     43\n",
      "484      6\n",
      "Name: count, dtype: int64\n",
      "\n",
      "Massimo: 484\n",
      "Minimo: 473\n",
      "Media: 477.561\n",
      "Varianza: 17.41569469469469\n"
     ]
    }
   ],
   "source": [
    "# Decifratura\n",
    "data = a128a_ref[\"1B-D\"]\n",
    "\n",
    "print_data(data)"
   ]
  },
  {
   "attachments": {},
   "cell_type": "markdown",
   "metadata": {},
   "source": [
    "#### PT 16 byte"
   ]
  },
  {
   "cell_type": "code",
   "execution_count": 48,
   "metadata": {},
   "outputs": [
    {
     "name": "stdout",
     "output_type": "stream",
     "text": [
      "16B-E\n",
      "348    487\n",
      "357    214\n",
      "350     98\n",
      "355     81\n",
      "347     64\n",
      "358     28\n",
      "349     18\n",
      "356     10\n",
      "Name: count, dtype: int64\n",
      "\n",
      "Massimo: 358\n",
      "Minimo: 347\n",
      "Media: 351.003\n",
      "Varianza: 16.215206206206208\n"
     ]
    }
   ],
   "source": [
    "# Cifratura\n",
    "data = a128a_ref[\"16B-E\"]\n",
    "\n",
    "print_data(data)"
   ]
  },
  {
   "cell_type": "code",
   "execution_count": 49,
   "metadata": {},
   "outputs": [
    {
     "name": "stdout",
     "output_type": "stream",
     "text": [
      "16B-D\n",
      "734    289\n",
      "733    270\n",
      "726    136\n",
      "724     99\n",
      "732     55\n",
      "725     53\n",
      "731     51\n",
      "727     36\n",
      "735     11\n",
      "Name: count, dtype: int64\n",
      "\n",
      "Massimo: 735\n",
      "Minimo: 724\n",
      "Media: 730.671\n",
      "Varianza: 14.553312312312313\n"
     ]
    }
   ],
   "source": [
    "# Decifratura\n",
    "data = a128a_ref[\"16B-D\"]\n",
    "\n",
    "print_data(data)"
   ]
  },
  {
   "attachments": {},
   "cell_type": "markdown",
   "metadata": {},
   "source": [
    "#### PT 32 byte"
   ]
  },
  {
   "cell_type": "code",
   "execution_count": 50,
   "metadata": {},
   "outputs": [
    {
     "name": "stdout",
     "output_type": "stream",
     "text": [
      "32B-E\n",
      "472    238\n",
      "481    186\n",
      "482    179\n",
      "473    127\n",
      "480     85\n",
      "474     76\n",
      "479     65\n",
      "475     36\n",
      "483      8\n",
      "Name: count, dtype: int64\n",
      "\n",
      "Massimo: 483\n",
      "Minimo: 472\n",
      "Media: 477.074\n",
      "Varianza: 17.586110110110106\n"
     ]
    }
   ],
   "source": [
    "# Cifratura\n",
    "data = a128a_ref[\"32B-E\"]\n",
    "\n",
    "print_data(data)"
   ]
  },
  {
   "cell_type": "code",
   "execution_count": 51,
   "metadata": {},
   "outputs": [
    {
     "name": "stdout",
     "output_type": "stream",
     "text": [
      "32B-D\n",
      "988    713\n",
      "989    237\n",
      "981     31\n",
      "986     13\n",
      "987      3\n",
      "990      3\n",
      "Name: count, dtype: int64\n",
      "\n",
      "Massimo: 990\n",
      "Minimo: 981\n",
      "Media: 987.997\n",
      "Varianza: 1.8248158158158159\n"
     ]
    }
   ],
   "source": [
    "# Decifratura\n",
    "data = a128a_ref[\"32B-D\"]\n",
    "\n",
    "print_data(data)"
   ]
  },
  {
   "attachments": {},
   "cell_type": "markdown",
   "metadata": {},
   "source": [
    "#### PT 48 byte"
   ]
  },
  {
   "cell_type": "code",
   "execution_count": 52,
   "metadata": {},
   "outputs": [
    {
     "name": "stdout",
     "output_type": "stream",
     "text": [
      "48B-E\n",
      "606    453\n",
      "597    236\n",
      "604    124\n",
      "599     55\n",
      "596     52\n",
      "607     43\n",
      "605     23\n",
      "598     14\n",
      "Name: count, dtype: int64\n",
      "\n",
      "Massimo: 607\n",
      "Minimo: 596\n",
      "Media: 602.631\n",
      "Varianza: 17.135974974974975\n"
     ]
    }
   ],
   "source": [
    "# Cifratura\n",
    "data = a128a_ref[\"48B-E\"]\n",
    "\n",
    "print_data(data)"
   ]
  },
  {
   "cell_type": "code",
   "execution_count": 53,
   "metadata": {},
   "outputs": [
    {
     "name": "stdout",
     "output_type": "stream",
     "text": [
      "48B-D\n",
      "1243    529\n",
      "1250    120\n",
      "1245    108\n",
      "1252     68\n",
      "1242     63\n",
      "1244     55\n",
      "1251     27\n",
      "1253     21\n",
      "1246      8\n",
      "1254      1\n",
      "Name: count, dtype: int64\n",
      "\n",
      "Massimo: 1254\n",
      "Minimo: 1242\n",
      "Media: 1245.121\n",
      "Varianza: 11.47183083083083\n"
     ]
    }
   ],
   "source": [
    "# Decifratura\n",
    "data = a128a_ref[\"48B-D\"]\n",
    "\n",
    "print_data(data)"
   ]
  },
  {
   "attachments": {},
   "cell_type": "markdown",
   "metadata": {},
   "source": [
    "#### PT 64 byte"
   ]
  },
  {
   "cell_type": "code",
   "execution_count": 54,
   "metadata": {},
   "outputs": [
    {
     "name": "stdout",
     "output_type": "stream",
     "text": [
      "64B-E\n",
      "731    324\n",
      "730    268\n",
      "721    155\n",
      "723     64\n",
      "722     54\n",
      "729     48\n",
      "728     46\n",
      "724     24\n",
      "732     17\n",
      "Name: count, dtype: int64\n",
      "\n",
      "Massimo: 732\n",
      "Minimo: 721\n",
      "Media: 727.799\n",
      "Varianza: 15.806405405405405\n"
     ]
    }
   ],
   "source": [
    "# Cifratura\n",
    "data = a128a_ref[\"64B-E\"]\n",
    "\n",
    "print_data(data)"
   ]
  },
  {
   "cell_type": "code",
   "execution_count": 55,
   "metadata": {},
   "outputs": [
    {
     "name": "stdout",
     "output_type": "stream",
     "text": [
      "64B-D\n",
      "1507    253\n",
      "1498    231\n",
      "1497    148\n",
      "1500     91\n",
      "1505     87\n",
      "1499     87\n",
      "1506     61\n",
      "1508     27\n",
      "1504     11\n",
      "1501      4\n",
      "Name: count, dtype: int64\n",
      "\n",
      "Massimo: 1508\n",
      "Minimo: 1497\n",
      "Media: 1501.843\n",
      "Varianza: 17.639990990990995\n"
     ]
    }
   ],
   "source": [
    "# Decifratura\n",
    "data = a128a_ref[\"64B-D\"]\n",
    "\n",
    "print_data(data)"
   ]
  }
 ],
 "metadata": {
  "kernelspec": {
   "display_name": "Python 3",
   "language": "python",
   "name": "python3"
  },
  "language_info": {
   "codemirror_mode": {
    "name": "ipython",
    "version": 3
   },
   "file_extension": ".py",
   "mimetype": "text/x-python",
   "name": "python",
   "nbconvert_exporter": "python",
   "pygments_lexer": "ipython3",
   "version": "3.11.2"
  },
  "orig_nbformat": 4
 },
 "nbformat": 4,
 "nbformat_minor": 2
}
