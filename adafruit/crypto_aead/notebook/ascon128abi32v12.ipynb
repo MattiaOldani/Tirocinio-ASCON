{
 "cells": [
  {
   "attachments": {},
   "cell_type": "markdown",
   "metadata": {},
   "source": [
    "# Analisi dei dati raccolti"
   ]
  },
  {
   "attachments": {},
   "cell_type": "markdown",
   "metadata": {},
   "source": [
    "## Setup"
   ]
  },
  {
   "cell_type": "code",
   "execution_count": 14,
   "metadata": {},
   "outputs": [],
   "source": [
    "import pandas as pd"
   ]
  },
  {
   "cell_type": "code",
   "execution_count": 15,
   "metadata": {},
   "outputs": [],
   "source": [
    "def print_data(series: pd.Series) -> None:\n",
    "    print(series.value_counts())\n",
    "    print()\n",
    "    print(f\"Massimo: {series.max()}\\nMinimo: {series.min()}\\nMedia: {series.mean()}\\nVarianza: {series.var()}\")"
   ]
  },
  {
   "attachments": {},
   "cell_type": "markdown",
   "metadata": {},
   "source": [
    "## Ascon128abi32v12"
   ]
  },
  {
   "cell_type": "code",
   "execution_count": 16,
   "metadata": {},
   "outputs": [],
   "source": [
    "path = \"../ascon128abi32v12/data/{}.csv\""
   ]
  },
  {
   "attachments": {},
   "cell_type": "markdown",
   "metadata": {},
   "source": [
    "### Bi32_armv6m"
   ]
  },
  {
   "cell_type": "code",
   "execution_count": 17,
   "metadata": {},
   "outputs": [],
   "source": [
    "with open(path.format(\"bi32_armv6m\"), \"r\") as f:\n",
    "    a128abi32_bi32 = pd.read_csv(f, delimiter=\";\")"
   ]
  },
  {
   "attachments": {},
   "cell_type": "markdown",
   "metadata": {},
   "source": [
    "#### PT vuoto"
   ]
  },
  {
   "cell_type": "code",
   "execution_count": 18,
   "metadata": {},
   "outputs": [
    {
     "name": "stdout",
     "output_type": "stream",
     "text": [
      "0B-E\n",
      "119    468\n",
      "118    335\n",
      "126     75\n",
      "120     57\n",
      "121     49\n",
      "125     15\n",
      "127      1\n",
      "Name: count, dtype: int64\n",
      "\n",
      "Massimo: 127\n",
      "Minimo: 118\n",
      "Media: 119.443\n",
      "Varianza: 4.675426426426425\n"
     ]
    }
   ],
   "source": [
    "# Cifratura\n",
    "data = a128abi32_bi32[\"0B-E\"]\n",
    "\n",
    "print_data(data)"
   ]
  },
  {
   "cell_type": "code",
   "execution_count": 19,
   "metadata": {},
   "outputs": [
    {
     "name": "stdout",
     "output_type": "stream",
     "text": [
      "0B-D\n",
      "238    308\n",
      "245    240\n",
      "240    189\n",
      "237    146\n",
      "239     88\n",
      "246     21\n",
      "244      8\n",
      "Name: count, dtype: int64\n",
      "\n",
      "Massimo: 246\n",
      "Minimo: 237\n",
      "Media: 240.216\n",
      "Varianza: 9.480824824824825\n"
     ]
    }
   ],
   "source": [
    "# Decifratura\n",
    "data = a128abi32_bi32[\"0B-D\"]\n",
    "\n",
    "print_data(data)"
   ]
  },
  {
   "attachments": {},
   "cell_type": "markdown",
   "metadata": {},
   "source": [
    "#### PT 1 byte"
   ]
  },
  {
   "cell_type": "code",
   "execution_count": 20,
   "metadata": {},
   "outputs": [
    {
     "name": "stdout",
     "output_type": "stream",
     "text": [
      "1B-E\n",
      "160    572\n",
      "159    164\n",
      "162    135\n",
      "167     84\n",
      "161     41\n",
      "168      4\n",
      "Name: count, dtype: int64\n",
      "\n",
      "Massimo: 168\n",
      "Minimo: 159\n",
      "Media: 160.767\n",
      "Varianza: 4.533244244244244\n"
     ]
    }
   ],
   "source": [
    "# Cifratura\n",
    "data = a128abi32_bi32[\"1B-E\"]\n",
    "\n",
    "print_data(data)"
   ]
  },
  {
   "cell_type": "code",
   "execution_count": 21,
   "metadata": {},
   "outputs": [
    {
     "name": "stdout",
     "output_type": "stream",
     "text": [
      "1B-D\n",
      "324    272\n",
      "331    258\n",
      "326    180\n",
      "323    147\n",
      "325     95\n",
      "330     42\n",
      "332      6\n",
      "Name: count, dtype: int64\n",
      "\n",
      "Massimo: 332\n",
      "Minimo: 323\n",
      "Media: 326.414\n",
      "Varianza: 9.682286286286285\n"
     ]
    }
   ],
   "source": [
    "# Cifratura\n",
    "data = a128abi32_bi32[\"1B-D\"]\n",
    "\n",
    "print_data(data)"
   ]
  },
  {
   "attachments": {},
   "cell_type": "markdown",
   "metadata": {},
   "source": [
    "#### PT 16 byte"
   ]
  },
  {
   "cell_type": "code",
   "execution_count": 22,
   "metadata": {},
   "outputs": [
    {
     "name": "stdout",
     "output_type": "stream",
     "text": [
      "16B-E\n",
      "232    355\n",
      "234    200\n",
      "231    164\n",
      "239    160\n",
      "233    100\n",
      "238     13\n",
      "240      8\n",
      "Name: count, dtype: int64\n",
      "\n",
      "Massimo: 240\n",
      "Minimo: 231\n",
      "Media: 233.598\n",
      "Varianza: 7.337733733733731\n"
     ]
    }
   ],
   "source": [
    "# Cifratura\n",
    "data = a128abi32_bi32[\"16B-E\"]\n",
    "\n",
    "print_data(data)"
   ]
  },
  {
   "cell_type": "code",
   "execution_count": 23,
   "metadata": {},
   "outputs": [
    {
     "name": "stdout",
     "output_type": "stream",
     "text": [
      "16B-D\n",
      "471    318\n",
      "469    225\n",
      "477    117\n",
      "476    114\n",
      "472    103\n",
      "470     74\n",
      "478     27\n",
      "479     20\n",
      "480      2\n",
      "Name: count, dtype: int64\n",
      "\n",
      "Massimo: 480\n",
      "Minimo: 469\n",
      "Media: 472.218\n",
      "Varianza: 9.429905905905908\n"
     ]
    }
   ],
   "source": [
    "# Decifratura\n",
    "data = a128abi32_bi32[\"16B-D\"]\n",
    "\n",
    "print_data(data)"
   ]
  },
  {
   "attachments": {},
   "cell_type": "markdown",
   "metadata": {},
   "source": [
    "#### PT 32 byte"
   ]
  },
  {
   "cell_type": "code",
   "execution_count": 24,
   "metadata": {},
   "outputs": [
    {
     "name": "stdout",
     "output_type": "stream",
     "text": [
      "32B-E\n",
      "308    448\n",
      "310    324\n",
      "315    132\n",
      "316     57\n",
      "309     28\n",
      "317      7\n",
      "318      4\n",
      "Name: count, dtype: int64\n",
      "\n",
      "Massimo: 318\n",
      "Minimo: 308\n",
      "Media: 310.159\n",
      "Varianza: 7.753472472472472\n"
     ]
    }
   ],
   "source": [
    "# Cifratura\n",
    "data = a128abi32_bi32[\"32B-E\"]\n",
    "\n",
    "print_data(data)"
   ]
  },
  {
   "cell_type": "code",
   "execution_count": 25,
   "metadata": {},
   "outputs": [
    {
     "name": "stdout",
     "output_type": "stream",
     "text": [
      "32B-D\n",
      "629    358\n",
      "634    253\n",
      "636    177\n",
      "635     95\n",
      "637     70\n",
      "627     44\n",
      "628      3\n",
      "Name: count, dtype: int64\n",
      "\n",
      "Massimo: 637\n",
      "Minimo: 627\n",
      "Media: 632.543\n",
      "Varianza: 10.534685685685684\n"
     ]
    }
   ],
   "source": [
    "# Decifratura\n",
    "data = a128abi32_bi32[\"32B-D\"]\n",
    "\n",
    "print_data(data)"
   ]
  },
  {
   "attachments": {},
   "cell_type": "markdown",
   "metadata": {},
   "source": [
    "#### PT 48 byte"
   ]
  },
  {
   "cell_type": "code",
   "execution_count": 26,
   "metadata": {},
   "outputs": [
    {
     "name": "stdout",
     "output_type": "stream",
     "text": [
      "48B-E\n",
      "386    254\n",
      "392    228\n",
      "391    165\n",
      "384    121\n",
      "387     99\n",
      "385     74\n",
      "394     34\n",
      "393     24\n",
      "395      1\n",
      "Name: count, dtype: int64\n",
      "\n",
      "Massimo: 395\n",
      "Minimo: 384\n",
      "Media: 388.425\n",
      "Varianza: 10.552927927927929\n"
     ]
    }
   ],
   "source": [
    "# Cifratura\n",
    "data = a128abi32_bi32[\"48B-E\"]\n",
    "\n",
    "print_data(data)"
   ]
  },
  {
   "cell_type": "code",
   "execution_count": 27,
   "metadata": {},
   "outputs": [
    {
     "name": "stdout",
     "output_type": "stream",
     "text": [
      "48B-D\n",
      "794    458\n",
      "787    282\n",
      "792    119\n",
      "786     84\n",
      "795     40\n",
      "793     17\n",
      "Name: count, dtype: int64\n",
      "\n",
      "Massimo: 795\n",
      "Minimo: 786\n",
      "Media: 791.139\n",
      "Varianza: 11.55323223223223\n"
     ]
    }
   ],
   "source": [
    "# Decifratura\n",
    "data = a128abi32_bi32[\"48B-D\"]\n",
    "\n",
    "print_data(data)"
   ]
  },
  {
   "attachments": {},
   "cell_type": "markdown",
   "metadata": {},
   "source": [
    "#### PT 64 byte"
   ]
  },
  {
   "cell_type": "code",
   "execution_count": 28,
   "metadata": {},
   "outputs": [
    {
     "name": "stdout",
     "output_type": "stream",
     "text": [
      "64B-E\n",
      "461    224\n",
      "463    202\n",
      "468    185\n",
      "462    125\n",
      "470    108\n",
      "460     95\n",
      "469     38\n",
      "467     12\n",
      "471     11\n",
      "Name: count, dtype: int64\n",
      "\n",
      "Massimo: 471\n",
      "Minimo: 460\n",
      "Media: 464.187\n",
      "Varianza: 12.66069169169169\n"
     ]
    }
   ],
   "source": [
    "# Cifratura\n",
    "data = a128abi32_bi32[\"64B-E\"]\n",
    "\n",
    "print_data(data)"
   ]
  },
  {
   "cell_type": "code",
   "execution_count": 29,
   "metadata": {},
   "outputs": [
    {
     "name": "stdout",
     "output_type": "stream",
     "text": [
      "64B-D\n",
      "952    584\n",
      "951    164\n",
      "945    121\n",
      "944     93\n",
      "953     21\n",
      "950     17\n",
      "Name: count, dtype: int64\n",
      "\n",
      "Massimo: 953\n",
      "Minimo: 944\n",
      "Media: 950.232\n",
      "Varianza: 9.017193193193195\n"
     ]
    }
   ],
   "source": [
    "# Decifratura\n",
    "data = a128abi32_bi32[\"64B-D\"]\n",
    "\n",
    "print_data(data)"
   ]
  },
  {
   "attachments": {},
   "cell_type": "markdown",
   "metadata": {},
   "source": [
    "### Ref"
   ]
  },
  {
   "cell_type": "code",
   "execution_count": 30,
   "metadata": {},
   "outputs": [],
   "source": [
    "with open(path.format(\"ref\"), \"r\") as f:\n",
    "    a128abi32_ref = pd.read_csv(f, delimiter=\";\")"
   ]
  },
  {
   "attachments": {},
   "cell_type": "markdown",
   "metadata": {},
   "source": [
    "#### PT vuoto"
   ]
  },
  {
   "cell_type": "code",
   "execution_count": 31,
   "metadata": {},
   "outputs": [
    {
     "name": "stdout",
     "output_type": "stream",
     "text": [
      "0B-E\n",
      "169    494\n",
      "170    344\n",
      "179     75\n",
      "178     74\n",
      "176      8\n",
      "171      2\n",
      "177      2\n",
      "180      1\n",
      "Name: count, dtype: int64\n",
      "\n",
      "Massimo: 180\n",
      "Minimo: 169\n",
      "Media: 170.847\n",
      "Varianza: 11.086677677677677\n"
     ]
    }
   ],
   "source": [
    "# Cifratura\n",
    "data = a128abi32_ref[\"0B-E\"]\n",
    "\n",
    "print_data(data)"
   ]
  },
  {
   "cell_type": "code",
   "execution_count": 32,
   "metadata": {},
   "outputs": [
    {
     "name": "stdout",
     "output_type": "stream",
     "text": [
      "0B-D\n",
      "386    329\n",
      "387    323\n",
      "396    191\n",
      "395    137\n",
      "389      9\n",
      "388      6\n",
      "397      5\n",
      "Name: count, dtype: int64\n",
      "\n",
      "Massimo: 397\n",
      "Minimo: 386\n",
      "Media: 389.56\n",
      "Varianza: 18.574974974974978\n"
     ]
    }
   ],
   "source": [
    "# Decifratura\n",
    "data = a128abi32_ref[\"0B-D\"]\n",
    "\n",
    "print_data(data)"
   ]
  },
  {
   "attachments": {},
   "cell_type": "markdown",
   "metadata": {},
   "source": [
    "#### PT 1 byte"
   ]
  },
  {
   "cell_type": "code",
   "execution_count": 33,
   "metadata": {},
   "outputs": [
    {
     "name": "stdout",
     "output_type": "stream",
     "text": [
      "1B-E\n",
      "218    662\n",
      "227    206\n",
      "217     68\n",
      "220     26\n",
      "225     14\n",
      "228     13\n",
      "226      7\n",
      "219      3\n",
      "221      1\n",
      "Name: count, dtype: int64\n",
      "\n",
      "Massimo: 228\n",
      "Minimo: 217\n",
      "Media: 220.128\n",
      "Varianza: 14.790406406406406\n"
     ]
    }
   ],
   "source": [
    "# Cifratura\n",
    "data = a128abi32_ref[\"1B-E\"]\n",
    "\n",
    "print_data(data)"
   ]
  },
  {
   "cell_type": "code",
   "execution_count": 34,
   "metadata": {},
   "outputs": [
    {
     "name": "stdout",
     "output_type": "stream",
     "text": [
      "1B-D\n",
      "485    316\n",
      "494    295\n",
      "484    221\n",
      "493    143\n",
      "486     10\n",
      "495      9\n",
      "487      6\n",
      "Name: count, dtype: int64\n",
      "\n",
      "Massimo: 495\n",
      "Minimo: 484\n",
      "Media: 488.69\n",
      "Varianza: 20.606506506506506\n"
     ]
    }
   ],
   "source": [
    "# Decifratura\n",
    "data = a128abi32_ref[\"1B-D\"]\n",
    "\n",
    "print_data(data)"
   ]
  },
  {
   "attachments": {},
   "cell_type": "markdown",
   "metadata": {},
   "source": [
    "#### PT 16 byte"
   ]
  },
  {
   "cell_type": "code",
   "execution_count": 35,
   "metadata": {},
   "outputs": [
    {
     "name": "stdout",
     "output_type": "stream",
     "text": [
      "16B-E\n",
      "334    442\n",
      "335    218\n",
      "343    171\n",
      "344    125\n",
      "336     17\n",
      "341     10\n",
      "342     10\n",
      "345      4\n",
      "337      3\n",
      "Name: count, dtype: int64\n",
      "\n",
      "Massimo: 345\n",
      "Minimo: 334\n",
      "Media: 337.244\n",
      "Varianza: 17.772236236236235\n"
     ]
    }
   ],
   "source": [
    "# Cifratura\n",
    "data = a128abi32_ref[\"16B-E\"]\n",
    "\n",
    "print_data(data)"
   ]
  },
  {
   "cell_type": "code",
   "execution_count": 36,
   "metadata": {},
   "outputs": [
    {
     "name": "stdout",
     "output_type": "stream",
     "text": [
      "16B-D\n",
      "730    603\n",
      "721    318\n",
      "731     62\n",
      "720     10\n",
      "729      6\n",
      "723      1\n",
      "Name: count, dtype: int64\n",
      "\n",
      "Massimo: 731\n",
      "Minimo: 720\n",
      "Media: 727.087\n",
      "Varianza: 18.407838838838835\n"
     ]
    }
   ],
   "source": [
    "# Decifratura\n",
    "data = a128abi32_ref[\"16B-D\"]\n",
    "\n",
    "print_data(data)"
   ]
  },
  {
   "attachments": {},
   "cell_type": "markdown",
   "metadata": {},
   "source": [
    "#### PT 32 byte"
   ]
  },
  {
   "cell_type": "code",
   "execution_count": 37,
   "metadata": {},
   "outputs": [
    {
     "name": "stdout",
     "output_type": "stream",
     "text": [
      "32B-E\n",
      "452    395\n",
      "461    332\n",
      "462    153\n",
      "453     78\n",
      "460     17\n",
      "459     17\n",
      "454      6\n",
      "455      2\n",
      "Name: count, dtype: int64\n",
      "\n",
      "Massimo: 462\n",
      "Minimo: 452\n",
      "Media: 456.869\n",
      "Varianza: 20.546385385385385\n"
     ]
    }
   ],
   "source": [
    "# Cifratura\n",
    "data = a128abi32_ref[\"32B-E\"]\n",
    "\n",
    "print_data(data)"
   ]
  },
  {
   "cell_type": "code",
   "execution_count": 38,
   "metadata": {},
   "outputs": [
    {
     "name": "stdout",
     "output_type": "stream",
     "text": [
      "32B-D\n",
      "970    544\n",
      "971    413\n",
      "963     18\n",
      "961     12\n",
      "964      7\n",
      "962      3\n",
      "972      3\n",
      "Name: count, dtype: int64\n",
      "\n",
      "Massimo: 972\n",
      "Minimo: 961\n",
      "Media: 970.119\n",
      "Varianza: 2.71155055055055\n"
     ]
    }
   ],
   "source": [
    "# Decifratura\n",
    "data = a128abi32_ref[\"32B-D\"]\n",
    "\n",
    "print_data(data)"
   ]
  },
  {
   "attachments": {},
   "cell_type": "markdown",
   "metadata": {},
   "source": [
    "#### PT 48 byte"
   ]
  },
  {
   "cell_type": "code",
   "execution_count": 39,
   "metadata": {},
   "outputs": [
    {
     "name": "stdout",
     "output_type": "stream",
     "text": [
      "48B-E\n",
      "579    449\n",
      "570    336\n",
      "580    116\n",
      "572     57\n",
      "571     21\n",
      "577      8\n",
      "573      8\n",
      "578      5\n",
      "Name: count, dtype: int64\n",
      "\n",
      "Massimo: 580\n",
      "Minimo: 570\n",
      "Media: 575.456\n",
      "Varianza: 19.253317317317315\n"
     ]
    }
   ],
   "source": [
    "# Cifratura\n",
    "data = a128abi32_ref[\"48B-E\"]\n",
    "\n",
    "print_data(data)"
   ]
  },
  {
   "cell_type": "code",
   "execution_count": 40,
   "metadata": {},
   "outputs": [
    {
     "name": "stdout",
     "output_type": "stream",
     "text": [
      "48B-D\n",
      "1211    566\n",
      "1210    224\n",
      "1220    135\n",
      "1219     29\n",
      "1212     29\n",
      "1221     11\n",
      "1213      6\n",
      "Name: count, dtype: int64\n",
      "\n",
      "Massimo: 1221\n",
      "Minimo: 1210\n",
      "Media: 1212.374\n",
      "Varianza: 12.292416416416412\n"
     ]
    }
   ],
   "source": [
    "# Decifratura\n",
    "data = a128abi32_ref[\"48B-D\"]\n",
    "\n",
    "print_data(data)"
   ]
  },
  {
   "attachments": {},
   "cell_type": "markdown",
   "metadata": {},
   "source": [
    "#### PT 64 byte"
   ]
  },
  {
   "cell_type": "code",
   "execution_count": 41,
   "metadata": {},
   "outputs": [
    {
     "name": "stdout",
     "output_type": "stream",
     "text": [
      "64B-E\n",
      "697    613\n",
      "688    263\n",
      "698     74\n",
      "687     30\n",
      "696     16\n",
      "695      4\n",
      "Name: count, dtype: int64\n",
      "\n",
      "Massimo: 698\n",
      "Minimo: 687\n",
      "Media: 694.383\n",
      "Varianza: 17.57788888888889\n"
     ]
    }
   ],
   "source": [
    "# Cifratura\n",
    "data = a128abi32_ref[\"64B-E\"]\n",
    "\n",
    "print_data(data)"
   ]
  },
  {
   "cell_type": "code",
   "execution_count": 42,
   "metadata": {},
   "outputs": [
    {
     "name": "stdout",
     "output_type": "stream",
     "text": [
      "64B-D\n",
      "1451    476\n",
      "1460    323\n",
      "1461     91\n",
      "1452     72\n",
      "1453     24\n",
      "1459      6\n",
      "1450      5\n",
      "1454      3\n",
      "Name: count, dtype: int64\n",
      "\n",
      "Massimo: 1461\n",
      "Minimo: 1450\n",
      "Media: 1454.989\n",
      "Varianza: 19.954833833833835\n"
     ]
    }
   ],
   "source": [
    "# Decifratura\n",
    "data = a128abi32_ref[\"64B-D\"]\n",
    "\n",
    "print_data(data)"
   ]
  }
 ],
 "metadata": {
  "kernelspec": {
   "display_name": "Python 3",
   "language": "python",
   "name": "python3"
  },
  "language_info": {
   "codemirror_mode": {
    "name": "ipython",
    "version": 3
   },
   "file_extension": ".py",
   "mimetype": "text/x-python",
   "name": "python",
   "nbconvert_exporter": "python",
   "pygments_lexer": "ipython3",
   "version": "3.11.2"
  },
  "orig_nbformat": 4
 },
 "nbformat": 4,
 "nbformat_minor": 2
}
