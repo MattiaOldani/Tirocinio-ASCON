{
 "cells": [
  {
   "attachments": {},
   "cell_type": "markdown",
   "metadata": {},
   "source": [
    "# Analisi dei dati raccolti"
   ]
  },
  {
   "attachments": {},
   "cell_type": "markdown",
   "metadata": {},
   "source": [
    "## Setup"
   ]
  },
  {
   "cell_type": "code",
   "execution_count": 1,
   "metadata": {},
   "outputs": [],
   "source": [
    "import pandas as pd"
   ]
  },
  {
   "cell_type": "code",
   "execution_count": 2,
   "metadata": {},
   "outputs": [],
   "source": [
    "def print_data(series: pd.Series) -> None:\n",
    "    print(series.value_counts())\n",
    "    print()\n",
    "    print(f\"Massimo: {series.max()}\\nMinimo: {series.min()}\\nMedia: {series.mean()}\\nVarianza: {series.var()}\")"
   ]
  },
  {
   "attachments": {},
   "cell_type": "markdown",
   "metadata": {},
   "source": [
    "## Ascon128abi32v12"
   ]
  },
  {
   "cell_type": "code",
   "execution_count": 3,
   "metadata": {},
   "outputs": [],
   "source": [
    "path = \"../ascon128abi32v12/data/{}.csv\""
   ]
  },
  {
   "attachments": {},
   "cell_type": "markdown",
   "metadata": {},
   "source": [
    "### Bi32_armv7m"
   ]
  },
  {
   "cell_type": "code",
   "execution_count": 4,
   "metadata": {},
   "outputs": [],
   "source": [
    "with open(path.format(\"bi32_armv7m\"), \"r\") as f:\n",
    "    a128abi32_bi32 = pd.read_csv(f, delimiter=\";\")"
   ]
  },
  {
   "attachments": {},
   "cell_type": "markdown",
   "metadata": {},
   "source": [
    "#### PT vuoto"
   ]
  },
  {
   "cell_type": "code",
   "execution_count": 5,
   "metadata": {},
   "outputs": [
    {
     "name": "stdout",
     "output_type": "stream",
     "text": [
      "0B-E\n",
      "35    960\n",
      "37     40\n",
      "Name: count, dtype: int64\n",
      "\n",
      "Massimo: 37\n",
      "Minimo: 35\n",
      "Media: 35.08\n",
      "Varianza: 0.15375375375375377\n"
     ]
    }
   ],
   "source": [
    "# Cifratura\n",
    "data = a128abi32_bi32[\"0B-E\"]\n",
    "\n",
    "print_data(data)"
   ]
  },
  {
   "cell_type": "code",
   "execution_count": 6,
   "metadata": {},
   "outputs": [
    {
     "name": "stdout",
     "output_type": "stream",
     "text": [
      "0B-D\n",
      "72    917\n",
      "73     80\n",
      "71      3\n",
      "Name: count, dtype: int64\n",
      "\n",
      "Massimo: 73\n",
      "Minimo: 71\n",
      "Media: 72.077\n",
      "Varianza: 0.07714814814814816\n"
     ]
    }
   ],
   "source": [
    "# Decifratura\n",
    "data = a128abi32_bi32[\"0B-D\"]\n",
    "\n",
    "print_data(data)"
   ]
  },
  {
   "attachments": {},
   "cell_type": "markdown",
   "metadata": {},
   "source": [
    "#### PT 1 byte"
   ]
  },
  {
   "cell_type": "code",
   "execution_count": 7,
   "metadata": {},
   "outputs": [
    {
     "name": "stdout",
     "output_type": "stream",
     "text": [
      "1B-E\n",
      "48    919\n",
      "50     80\n",
      "49      1\n",
      "Name: count, dtype: int64\n",
      "\n",
      "Massimo: 50\n",
      "Minimo: 48\n",
      "Media: 48.161\n",
      "Varianza: 0.2953743743743742\n"
     ]
    }
   ],
   "source": [
    "# Cifratura\n",
    "data = a128abi32_bi32[\"1B-E\"]\n",
    "\n",
    "print_data(data)"
   ]
  },
  {
   "cell_type": "code",
   "execution_count": 8,
   "metadata": {},
   "outputs": [
    {
     "name": "stdout",
     "output_type": "stream",
     "text": [
      "1B-D\n",
      "100    918\n",
      "101     81\n",
      "99       1\n",
      "Name: count, dtype: int64\n",
      "\n",
      "Massimo: 101\n",
      "Minimo: 99\n",
      "Media: 100.08\n",
      "Varianza: 0.0756756756756757\n"
     ]
    }
   ],
   "source": [
    "# Cifratura\n",
    "data = a128abi32_bi32[\"1B-D\"]\n",
    "\n",
    "print_data(data)"
   ]
  },
  {
   "attachments": {},
   "cell_type": "markdown",
   "metadata": {},
   "source": [
    "#### PT 16 byte"
   ]
  },
  {
   "cell_type": "code",
   "execution_count": 9,
   "metadata": {},
   "outputs": [
    {
     "name": "stdout",
     "output_type": "stream",
     "text": [
      "16B-E\n",
      "67    918\n",
      "68     80\n",
      "66      2\n",
      "Name: count, dtype: int64\n",
      "\n",
      "Massimo: 68\n",
      "Minimo: 66\n",
      "Media: 67.078\n",
      "Varianza: 0.07599199199199196\n"
     ]
    }
   ],
   "source": [
    "# Cifratura\n",
    "data = a128abi32_bi32[\"16B-E\"]\n",
    "\n",
    "print_data(data)"
   ]
  },
  {
   "cell_type": "code",
   "execution_count": 10,
   "metadata": {},
   "outputs": [
    {
     "name": "stdout",
     "output_type": "stream",
     "text": [
      "16B-D\n",
      "136    878\n",
      "137    122\n",
      "Name: count, dtype: int64\n",
      "\n",
      "Massimo: 137\n",
      "Minimo: 136\n",
      "Media: 136.122\n",
      "Varianza: 0.10722322322322324\n"
     ]
    }
   ],
   "source": [
    "# Decifratura\n",
    "data = a128abi32_bi32[\"16B-D\"]\n",
    "\n",
    "print_data(data)"
   ]
  },
  {
   "attachments": {},
   "cell_type": "markdown",
   "metadata": {},
   "source": [
    "#### PT 32 byte"
   ]
  },
  {
   "cell_type": "code",
   "execution_count": 11,
   "metadata": {},
   "outputs": [
    {
     "name": "stdout",
     "output_type": "stream",
     "text": [
      "32B-E\n",
      "87    880\n",
      "88    120\n",
      "Name: count, dtype: int64\n",
      "\n",
      "Massimo: 88\n",
      "Minimo: 87\n",
      "Media: 87.12\n",
      "Varianza: 0.1057057057057057\n"
     ]
    }
   ],
   "source": [
    "# Cifratura\n",
    "data = a128abi32_bi32[\"32B-E\"]\n",
    "\n",
    "print_data(data)"
   ]
  },
  {
   "cell_type": "code",
   "execution_count": 12,
   "metadata": {},
   "outputs": [
    {
     "name": "stdout",
     "output_type": "stream",
     "text": [
      "32B-D\n",
      "177    839\n",
      "178    159\n",
      "176      2\n",
      "Name: count, dtype: int64\n",
      "\n",
      "Massimo: 178\n",
      "Minimo: 176\n",
      "Media: 177.157\n",
      "Varianza: 0.13648748748748743\n"
     ]
    }
   ],
   "source": [
    "# Decifratura\n",
    "data = a128abi32_bi32[\"32B-D\"]\n",
    "\n",
    "print_data(data)"
   ]
  },
  {
   "attachments": {},
   "cell_type": "markdown",
   "metadata": {},
   "source": [
    "#### PT 48 byte"
   ]
  },
  {
   "cell_type": "code",
   "execution_count": 13,
   "metadata": {},
   "outputs": [
    {
     "name": "stdout",
     "output_type": "stream",
     "text": [
      "48B-E\n",
      "107    878\n",
      "109    120\n",
      "108      2\n",
      "Name: count, dtype: int64\n",
      "\n",
      "Massimo: 109\n",
      "Minimo: 107\n",
      "Media: 107.242\n",
      "Varianza: 0.42385985985985997\n"
     ]
    }
   ],
   "source": [
    "# Cifratura\n",
    "data = a128abi32_bi32[\"48B-E\"]\n",
    "\n",
    "print_data(data)"
   ]
  },
  {
   "cell_type": "code",
   "execution_count": 14,
   "metadata": {},
   "outputs": [
    {
     "name": "stdout",
     "output_type": "stream",
     "text": [
      "48B-D\n",
      "219    800\n",
      "220    200\n",
      "Name: count, dtype: int64\n",
      "\n",
      "Massimo: 220\n",
      "Minimo: 219\n",
      "Media: 219.2\n",
      "Varianza: 0.1601601601601602\n"
     ]
    }
   ],
   "source": [
    "# Decifratura\n",
    "data = a128abi32_bi32[\"48B-D\"]\n",
    "\n",
    "print_data(data)"
   ]
  },
  {
   "attachments": {},
   "cell_type": "markdown",
   "metadata": {},
   "source": [
    "#### PT 64 byte"
   ]
  },
  {
   "cell_type": "code",
   "execution_count": 15,
   "metadata": {},
   "outputs": [
    {
     "name": "stdout",
     "output_type": "stream",
     "text": [
      "64B-E\n",
      "128    839\n",
      "129    159\n",
      "127      2\n",
      "Name: count, dtype: int64\n",
      "\n",
      "Massimo: 129\n",
      "Minimo: 127\n",
      "Media: 128.157\n",
      "Varianza: 0.13648748748748743\n"
     ]
    }
   ],
   "source": [
    "# Cifratura\n",
    "data = a128abi32_bi32[\"64B-E\"]\n",
    "\n",
    "print_data(data)"
   ]
  },
  {
   "cell_type": "code",
   "execution_count": 16,
   "metadata": {},
   "outputs": [
    {
     "name": "stdout",
     "output_type": "stream",
     "text": [
      "64B-D\n",
      "260    758\n",
      "261    202\n",
      "262     40\n",
      "Name: count, dtype: int64\n",
      "\n",
      "Massimo: 262\n",
      "Minimo: 260\n",
      "Media: 260.282\n",
      "Varianza: 0.2827587587587589\n"
     ]
    }
   ],
   "source": [
    "# Decifratura\n",
    "data = a128abi32_bi32[\"64B-D\"]\n",
    "\n",
    "print_data(data)"
   ]
  },
  {
   "attachments": {},
   "cell_type": "markdown",
   "metadata": {},
   "source": [
    "### Ref"
   ]
  },
  {
   "cell_type": "code",
   "execution_count": 17,
   "metadata": {},
   "outputs": [],
   "source": [
    "with open(path.format(\"ref\"), \"r\") as f:\n",
    "    a128abi32_ref = pd.read_csv(f, delimiter=\";\")"
   ]
  },
  {
   "attachments": {},
   "cell_type": "markdown",
   "metadata": {},
   "source": [
    "#### PT vuoto"
   ]
  },
  {
   "cell_type": "code",
   "execution_count": 18,
   "metadata": {},
   "outputs": [
    {
     "name": "stdout",
     "output_type": "stream",
     "text": [
      "0B-E\n",
      "294    717\n",
      "295    279\n",
      "293      4\n",
      "Name: count, dtype: int64\n",
      "\n",
      "Massimo: 295\n",
      "Minimo: 293\n",
      "Media: 294.275\n",
      "Varianza: 0.20758258258258258\n"
     ]
    }
   ],
   "source": [
    "# Cifratura\n",
    "data = a128abi32_ref[\"0B-E\"]\n",
    "\n",
    "print_data(data)"
   ]
  },
  {
   "cell_type": "code",
   "execution_count": 19,
   "metadata": {},
   "outputs": [
    {
     "name": "stdout",
     "output_type": "stream",
     "text": [
      "0B-D\n",
      "593    559\n",
      "592    440\n",
      "591      1\n",
      "Name: count, dtype: int64\n",
      "\n",
      "Massimo: 593\n",
      "Minimo: 591\n",
      "Media: 592.558\n",
      "Varianza: 0.2488848848848848\n"
     ]
    }
   ],
   "source": [
    "# Decifratura\n",
    "data = a128abi32_ref[\"0B-D\"]\n",
    "\n",
    "print_data(data)"
   ]
  },
  {
   "attachments": {},
   "cell_type": "markdown",
   "metadata": {},
   "source": [
    "#### PT 1 byte"
   ]
  },
  {
   "cell_type": "code",
   "execution_count": 20,
   "metadata": {},
   "outputs": [
    {
     "name": "stdout",
     "output_type": "stream",
     "text": [
      "1B-E\n",
      "383    601\n",
      "384    399\n",
      "Name: count, dtype: int64\n",
      "\n",
      "Massimo: 384\n",
      "Minimo: 383\n",
      "Media: 383.399\n",
      "Varianza: 0.2400390390390391\n"
     ]
    }
   ],
   "source": [
    "# Cifratura\n",
    "data = a128abi32_ref[\"1B-E\"]\n",
    "\n",
    "print_data(data)"
   ]
  },
  {
   "cell_type": "code",
   "execution_count": 21,
   "metadata": {},
   "outputs": [
    {
     "name": "stdout",
     "output_type": "stream",
     "text": [
      "1B-D\n",
      "773    759\n",
      "772    238\n",
      "774      3\n",
      "Name: count, dtype: int64\n",
      "\n",
      "Massimo: 774\n",
      "Minimo: 772\n",
      "Media: 772.765\n",
      "Varianza: 0.18596096096096093\n"
     ]
    }
   ],
   "source": [
    "# Decifratura\n",
    "data = a128abi32_ref[\"1B-D\"]\n",
    "\n",
    "print_data(data)"
   ]
  },
  {
   "attachments": {},
   "cell_type": "markdown",
   "metadata": {},
   "source": [
    "#### PT 16 byte"
   ]
  },
  {
   "cell_type": "code",
   "execution_count": 22,
   "metadata": {},
   "outputs": [
    {
     "name": "stdout",
     "output_type": "stream",
     "text": [
      "16B-E\n",
      "584    602\n",
      "583    397\n",
      "582      1\n",
      "Name: count, dtype: int64\n",
      "\n",
      "Massimo: 584\n",
      "Minimo: 582\n",
      "Media: 583.601\n",
      "Varianza: 0.24204104104104107\n"
     ]
    }
   ],
   "source": [
    "# Cifratura\n",
    "data = a128abi32_ref[\"16B-E\"]\n",
    "\n",
    "print_data(data)"
   ]
  },
  {
   "cell_type": "code",
   "execution_count": 23,
   "metadata": {},
   "outputs": [
    {
     "name": "stdout",
     "output_type": "stream",
     "text": [
      "16B-D\n",
      "1174    562\n",
      "1175    278\n",
      "1176    160\n",
      "Name: count, dtype: int64\n",
      "\n",
      "Massimo: 1176\n",
      "Minimo: 1174\n",
      "Media: 1174.598\n",
      "Varianza: 0.5609569569569569\n"
     ]
    }
   ],
   "source": [
    "# Decifratura\n",
    "data = a128abi32_ref[\"16B-D\"]\n",
    "\n",
    "print_data(data)"
   ]
  },
  {
   "attachments": {},
   "cell_type": "markdown",
   "metadata": {},
   "source": [
    "#### PT 32 byte"
   ]
  },
  {
   "cell_type": "code",
   "execution_count": 24,
   "metadata": {},
   "outputs": [
    {
     "name": "stdout",
     "output_type": "stream",
     "text": [
      "32B-E\n",
      "786    757\n",
      "784    200\n",
      "785     41\n",
      "787      2\n",
      "Name: count, dtype: int64\n",
      "\n",
      "Massimo: 787\n",
      "Minimo: 784\n",
      "Media: 785.561\n",
      "Varianza: 0.6509299299299299\n"
     ]
    }
   ],
   "source": [
    "# Cifratura\n",
    "data = a128abi32_ref[\"32B-E\"]\n",
    "\n",
    "print_data(data)"
   ]
  },
  {
   "cell_type": "code",
   "execution_count": 25,
   "metadata": {},
   "outputs": [
    {
     "name": "stdout",
     "output_type": "stream",
     "text": [
      "32B-D\n",
      "1580    558\n",
      "1579    441\n",
      "1581      1\n",
      "Name: count, dtype: int64\n",
      "\n",
      "Massimo: 1581\n",
      "Minimo: 1579\n",
      "Media: 1579.56\n",
      "Varianza: 0.24864864864864863\n"
     ]
    }
   ],
   "source": [
    "# Decifratura\n",
    "data = a128abi32_ref[\"32B-D\"]\n",
    "\n",
    "print_data(data)"
   ]
  },
  {
   "attachments": {},
   "cell_type": "markdown",
   "metadata": {},
   "source": [
    "#### PT 48 byte"
   ]
  },
  {
   "cell_type": "code",
   "execution_count": 26,
   "metadata": {},
   "outputs": [
    {
     "name": "stdout",
     "output_type": "stream",
     "text": [
      "48B-E\n",
      "987    997\n",
      "988      3\n",
      "Name: count, dtype: int64\n",
      "\n",
      "Massimo: 988\n",
      "Minimo: 987\n",
      "Media: 987.003\n",
      "Varianza: 0.0029939939939939942\n"
     ]
    }
   ],
   "source": [
    "# Cifratura\n",
    "data = a128abi32_ref[\"48B-E\"]\n",
    "\n",
    "print_data(data)"
   ]
  },
  {
   "cell_type": "code",
   "execution_count": 27,
   "metadata": {},
   "outputs": [
    {
     "name": "stdout",
     "output_type": "stream",
     "text": [
      "48B-D\n",
      "1984    957\n",
      "1983     40\n",
      "1985      3\n",
      "Name: count, dtype: int64\n",
      "\n",
      "Massimo: 1985\n",
      "Minimo: 1983\n",
      "Media: 1983.963\n",
      "Varianza: 0.04167267267267266\n"
     ]
    }
   ],
   "source": [
    "# Decifratura\n",
    "data = a128abi32_ref[\"48B-D\"]\n",
    "\n",
    "print_data(data)"
   ]
  },
  {
   "attachments": {},
   "cell_type": "markdown",
   "metadata": {},
   "source": [
    "#### PT 64 byte"
   ]
  },
  {
   "cell_type": "code",
   "execution_count": 28,
   "metadata": {},
   "outputs": [
    {
     "name": "stdout",
     "output_type": "stream",
     "text": [
      "64B-E\n",
      "1190    800\n",
      "1191    200\n",
      "Name: count, dtype: int64\n",
      "\n",
      "Massimo: 1191\n",
      "Minimo: 1190\n",
      "Media: 1190.2\n",
      "Varianza: 0.16016016016016021\n"
     ]
    }
   ],
   "source": [
    "# Cifratura\n",
    "data = a128abi32_ref[\"64B-E\"]\n",
    "\n",
    "print_data(data)"
   ]
  },
  {
   "cell_type": "code",
   "execution_count": 29,
   "metadata": {},
   "outputs": [
    {
     "name": "stdout",
     "output_type": "stream",
     "text": [
      "64B-D\n",
      "2390    559\n",
      "2391    360\n",
      "2389     79\n",
      "2392      2\n",
      "Name: count, dtype: int64\n",
      "\n",
      "Massimo: 2392\n",
      "Minimo: 2389\n",
      "Media: 2390.285\n",
      "Varianza: 0.3661411411411412\n"
     ]
    }
   ],
   "source": [
    "# Decifratura\n",
    "data = a128abi32_ref[\"64B-D\"]\n",
    "\n",
    "print_data(data)"
   ]
  }
 ],
 "metadata": {
  "kernelspec": {
   "display_name": "Python 3",
   "language": "python",
   "name": "python3"
  },
  "language_info": {
   "codemirror_mode": {
    "name": "ipython",
    "version": 3
   },
   "file_extension": ".py",
   "mimetype": "text/x-python",
   "name": "python",
   "nbconvert_exporter": "python",
   "pygments_lexer": "ipython3",
   "version": "3.11.2"
  },
  "orig_nbformat": 4
 },
 "nbformat": 4,
 "nbformat_minor": 2
}
