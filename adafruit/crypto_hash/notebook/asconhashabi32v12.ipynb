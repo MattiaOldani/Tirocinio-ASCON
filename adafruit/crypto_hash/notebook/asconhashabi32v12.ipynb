{
 "cells": [
  {
   "attachments": {},
   "cell_type": "markdown",
   "metadata": {},
   "source": [
    "# Analisi dei dati raccolti"
   ]
  },
  {
   "attachments": {},
   "cell_type": "markdown",
   "metadata": {},
   "source": [
    "## Setup"
   ]
  },
  {
   "cell_type": "code",
   "execution_count": 1,
   "metadata": {},
   "outputs": [],
   "source": [
    "import pandas as pd"
   ]
  },
  {
   "cell_type": "code",
   "execution_count": 2,
   "metadata": {},
   "outputs": [],
   "source": [
    "def print_data(series: pd.Series) -> None:\n",
    "    print(series.value_counts())\n",
    "    print()\n",
    "    print(f\"Massimo: {series.max()}\\nMinimo: {series.min()}\\nMedia: {series.mean()}\\nVarianza: {series.var()}\")"
   ]
  },
  {
   "attachments": {},
   "cell_type": "markdown",
   "metadata": {},
   "source": [
    "## Asconhashabi32v12"
   ]
  },
  {
   "cell_type": "code",
   "execution_count": 3,
   "metadata": {},
   "outputs": [],
   "source": [
    "path = \"../asconhashabi32v12/data/{}.csv\""
   ]
  },
  {
   "attachments": {},
   "cell_type": "markdown",
   "metadata": {},
   "source": [
    "### Bi32_armv6m"
   ]
  },
  {
   "cell_type": "code",
   "execution_count": 4,
   "metadata": {},
   "outputs": [],
   "source": [
    "with open(path.format(\"bi32_armv6m\"), \"r\") as f:\n",
    "    ahabi32_bi32 = pd.read_csv(f, delimiter=\";\")"
   ]
  },
  {
   "attachments": {},
   "cell_type": "markdown",
   "metadata": {},
   "source": [
    "#### PT vuoto"
   ]
  },
  {
   "cell_type": "code",
   "execution_count": 5,
   "metadata": {},
   "outputs": [
    {
     "name": "stdout",
     "output_type": "stream",
     "text": [
      "0B\n",
      "182    552\n",
      "184    197\n",
      "189    159\n",
      "190     57\n",
      "183     24\n",
      "181      9\n",
      "185      2\n",
      "Name: count, dtype: int64\n",
      "\n",
      "Massimo: 190\n",
      "Minimo: 181\n",
      "Media: 183.984\n",
      "Varianza: 8.350094094094095\n"
     ]
    }
   ],
   "source": [
    "# Generazione hash\n",
    "data = ahabi32_bi32[\"0B\"]\n",
    "\n",
    "print_data(data)"
   ]
  },
  {
   "attachments": {},
   "cell_type": "markdown",
   "metadata": {},
   "source": [
    "#### PT 8 byte"
   ]
  },
  {
   "cell_type": "code",
   "execution_count": 6,
   "metadata": {},
   "outputs": [
    {
     "name": "stdout",
     "output_type": "stream",
     "text": [
      "8B\n",
      "218    357\n",
      "219    254\n",
      "220    126\n",
      "226    121\n",
      "221     77\n",
      "225     63\n",
      "227      2\n",
      "Name: count, dtype: int64\n",
      "\n",
      "Massimo: 227\n",
      "Minimo: 218\n",
      "Media: 220.164\n",
      "Varianza: 7.768872872872872\n"
     ]
    }
   ],
   "source": [
    "# Generazione hash\n",
    "data = ahabi32_bi32[\"8B\"]\n",
    "\n",
    "print_data(data)"
   ]
  },
  {
   "attachments": {},
   "cell_type": "markdown",
   "metadata": {},
   "source": [
    "#### PT 16 byte"
   ]
  },
  {
   "cell_type": "code",
   "execution_count": 7,
   "metadata": {},
   "outputs": [
    {
     "name": "stdout",
     "output_type": "stream",
     "text": [
      "16B\n",
      "255    449\n",
      "262    215\n",
      "257    196\n",
      "254     77\n",
      "256     36\n",
      "263     25\n",
      "258      1\n",
      "264      1\n",
      "Name: count, dtype: int64\n",
      "\n",
      "Massimo: 264\n",
      "Minimo: 254\n",
      "Media: 257.068\n",
      "Varianza: 8.85423023023023\n"
     ]
    }
   ],
   "source": [
    "# Generazione hash\n",
    "data = ahabi32_bi32[\"16B\"]\n",
    "\n",
    "print_data(data)"
   ]
  },
  {
   "attachments": {},
   "cell_type": "markdown",
   "metadata": {},
   "source": [
    "#### PT 32 byte"
   ]
  },
  {
   "cell_type": "code",
   "execution_count": 8,
   "metadata": {},
   "outputs": [
    {
     "name": "stdout",
     "output_type": "stream",
     "text": [
      "32B\n",
      "328    321\n",
      "335    227\n",
      "330    177\n",
      "327    127\n",
      "329     97\n",
      "336     19\n",
      "337     18\n",
      "334     13\n",
      "338      1\n",
      "Name: count, dtype: int64\n",
      "\n",
      "Massimo: 338\n",
      "Minimo: 327\n",
      "Media: 330.315\n",
      "Varianza: 9.947722722722721\n"
     ]
    }
   ],
   "source": [
    "# Generazione hash\n",
    "data = ahabi32_bi32[\"32B\"]\n",
    "\n",
    "print_data(data)"
   ]
  },
  {
   "attachments": {},
   "cell_type": "markdown",
   "metadata": {},
   "source": [
    "#### PT 64 byte"
   ]
  },
  {
   "cell_type": "code",
   "execution_count": 9,
   "metadata": {},
   "outputs": [
    {
     "name": "stdout",
     "output_type": "stream",
     "text": [
      "64B\n",
      "473    189\n",
      "474    181\n",
      "475    158\n",
      "481    156\n",
      "476    119\n",
      "483     80\n",
      "480     69\n",
      "482     45\n",
      "484      3\n",
      "Name: count, dtype: int64\n",
      "\n",
      "Massimo: 484\n",
      "Minimo: 473\n",
      "Media: 476.823\n",
      "Varianza: 12.654325325325324\n"
     ]
    }
   ],
   "source": [
    "# Generazione hash\n",
    "data = ahabi32_bi32[\"64B\"]\n",
    "\n",
    "print_data(data)"
   ]
  },
  {
   "attachments": {},
   "cell_type": "markdown",
   "metadata": {},
   "source": [
    "#### PT 128 byte"
   ]
  },
  {
   "cell_type": "code",
   "execution_count": 10,
   "metadata": {},
   "outputs": [
    {
     "name": "stdout",
     "output_type": "stream",
     "text": [
      "128B\n",
      "774    403\n",
      "767    217\n",
      "772    202\n",
      "775    104\n",
      "773     63\n",
      "766     11\n",
      "Name: count, dtype: int64\n",
      "\n",
      "Massimo: 775\n",
      "Minimo: 766\n",
      "Media: 772.03\n",
      "Varianza: 8.439539539539542\n"
     ]
    }
   ],
   "source": [
    "# Generazione hash\n",
    "data = ahabi32_bi32[\"128B\"]\n",
    "\n",
    "print_data(data)"
   ]
  },
  {
   "attachments": {},
   "cell_type": "markdown",
   "metadata": {},
   "source": [
    "#### PT 256 byte"
   ]
  },
  {
   "cell_type": "code",
   "execution_count": 11,
   "metadata": {},
   "outputs": [
    {
     "name": "stdout",
     "output_type": "stream",
     "text": [
      "256B\n",
      "1357    390\n",
      "1359    219\n",
      "1364    130\n",
      "1365    114\n",
      "1358     94\n",
      "1360     35\n",
      "1366     12\n",
      "1367      5\n",
      "1368      1\n",
      "Name: count, dtype: int64\n",
      "\n",
      "Massimo: 1368\n",
      "Minimo: 1357\n",
      "Media: 1359.628\n",
      "Varianza: 9.647263263263264\n"
     ]
    }
   ],
   "source": [
    "# Generazione hash\n",
    "data = ahabi32_bi32[\"256B\"]\n",
    "\n",
    "print_data(data)"
   ]
  },
  {
   "attachments": {},
   "cell_type": "markdown",
   "metadata": {},
   "source": [
    "#### PT 512 byte"
   ]
  },
  {
   "cell_type": "code",
   "execution_count": 12,
   "metadata": {},
   "outputs": [
    {
     "name": "stdout",
     "output_type": "stream",
     "text": [
      "512B\n",
      "2534    177\n",
      "2532    147\n",
      "2541    141\n",
      "2540    135\n",
      "2542    118\n",
      "2539     99\n",
      "2533     85\n",
      "2535     79\n",
      "2543     17\n",
      "2536      2\n",
      "Name: count, dtype: int64\n",
      "\n",
      "Massimo: 2543\n",
      "Minimo: 2532\n",
      "Media: 2537.093\n",
      "Varianza: 14.38073173173173\n"
     ]
    }
   ],
   "source": [
    "# Generazione hash\n",
    "data = ahabi32_bi32[\"512B\"]\n",
    "\n",
    "print_data(data)"
   ]
  },
  {
   "attachments": {},
   "cell_type": "markdown",
   "metadata": {},
   "source": [
    "#### PT 1024 byte"
   ]
  },
  {
   "cell_type": "code",
   "execution_count": 13,
   "metadata": {},
   "outputs": [
    {
     "name": "stdout",
     "output_type": "stream",
     "text": [
      "1024B\n",
      "4892    441\n",
      "4891    142\n",
      "4893    122\n",
      "4890    114\n",
      "4885     96\n",
      "4884     56\n",
      "4889     16\n",
      "4886     13\n",
      "Name: count, dtype: int64\n",
      "\n",
      "Massimo: 4893\n",
      "Minimo: 4884\n",
      "Media: 4890.506\n",
      "Varianza: 7.39535935935936\n"
     ]
    }
   ],
   "source": [
    "# Generazione hash\n",
    "data = ahabi32_bi32[\"1024B\"]\n",
    "\n",
    "print_data(data)"
   ]
  },
  {
   "attachments": {},
   "cell_type": "markdown",
   "metadata": {},
   "source": [
    "### Ref"
   ]
  },
  {
   "cell_type": "code",
   "execution_count": 14,
   "metadata": {},
   "outputs": [],
   "source": [
    "with open(path.format(\"ref\"), \"r\") as f:\n",
    "    ahabi32_ref = pd.read_csv(f, delimiter=\";\")"
   ]
  },
  {
   "attachments": {},
   "cell_type": "markdown",
   "metadata": {},
   "source": [
    "#### PT vuoto"
   ]
  },
  {
   "cell_type": "code",
   "execution_count": 15,
   "metadata": {},
   "outputs": [
    {
     "name": "stdout",
     "output_type": "stream",
     "text": [
      "0B\n",
      "310    438\n",
      "317    313\n",
      "312    123\n",
      "309     54\n",
      "318     40\n",
      "311     32\n",
      "Name: count, dtype: int64\n",
      "\n",
      "Massimo: 318\n",
      "Minimo: 309\n",
      "Media: 312.735\n",
      "Varianza: 11.005780780780782\n"
     ]
    }
   ],
   "source": [
    "# Generazione hash\n",
    "data = ahabi32_ref[\"0B\"]\n",
    "\n",
    "print_data(data)"
   ]
  },
  {
   "attachments": {},
   "cell_type": "markdown",
   "metadata": {},
   "source": [
    "#### PT 8 byte"
   ]
  },
  {
   "cell_type": "code",
   "execution_count": 16,
   "metadata": {},
   "outputs": [
    {
     "name": "stdout",
     "output_type": "stream",
     "text": [
      "8B\n",
      "362    290\n",
      "368    231\n",
      "363    157\n",
      "367    124\n",
      "360    115\n",
      "361     75\n",
      "369      7\n",
      "364      1\n",
      "Name: count, dtype: int64\n",
      "\n",
      "Massimo: 369\n",
      "Minimo: 360\n",
      "Media: 363.909\n",
      "Varianza: 8.819538538538538\n"
     ]
    }
   ],
   "source": [
    "# Generazione hash\n",
    "data = ahabi32_ref[\"8B\"]\n",
    "\n",
    "print_data(data)"
   ]
  },
  {
   "attachments": {},
   "cell_type": "markdown",
   "metadata": {},
   "source": [
    "#### PT 16 byte"
   ]
  },
  {
   "cell_type": "code",
   "execution_count": 17,
   "metadata": {},
   "outputs": [
    {
     "name": "stdout",
     "output_type": "stream",
     "text": [
      "16B\n",
      "418    346\n",
      "413    296\n",
      "411    197\n",
      "419    115\n",
      "412     38\n",
      "420      6\n",
      "421      1\n",
      "414      1\n",
      "Name: count, dtype: int64\n",
      "\n",
      "Massimo: 421\n",
      "Minimo: 411\n",
      "Media: 415.039\n",
      "Varianza: 9.827306306306305\n"
     ]
    }
   ],
   "source": [
    "# Generazione hash\n",
    "data = ahabi32_ref[\"16B\"]\n",
    "\n",
    "print_data(data)"
   ]
  },
  {
   "attachments": {},
   "cell_type": "markdown",
   "metadata": {},
   "source": [
    "#### PT 32 byte"
   ]
  },
  {
   "cell_type": "code",
   "execution_count": 18,
   "metadata": {},
   "outputs": [
    {
     "name": "stdout",
     "output_type": "stream",
     "text": [
      "32B\n",
      "521    231\n",
      "512    202\n",
      "514    200\n",
      "519    158\n",
      "520     77\n",
      "522     75\n",
      "513     53\n",
      "515      4\n",
      "Name: count, dtype: int64\n",
      "\n",
      "Massimo: 522\n",
      "Minimo: 512\n",
      "Media: 517.016\n",
      "Varianza: 14.624368368368371\n"
     ]
    }
   ],
   "source": [
    "# Generazione hash\n",
    "data = ahabi32_ref[\"32B\"]\n",
    "\n",
    "print_data(data)"
   ]
  },
  {
   "attachments": {},
   "cell_type": "markdown",
   "metadata": {},
   "source": [
    "#### PT 64 byte"
   ]
  },
  {
   "cell_type": "code",
   "execution_count": 19,
   "metadata": {},
   "outputs": [
    {
     "name": "stdout",
     "output_type": "stream",
     "text": [
      "64B\n",
      "724    346\n",
      "723    331\n",
      "716    137\n",
      "722     80\n",
      "721     59\n",
      "717     43\n",
      "725      4\n",
      "Name: count, dtype: int64\n",
      "\n",
      "Massimo: 725\n",
      "Minimo: 716\n",
      "Media: 721.939\n",
      "Varianza: 7.8211001001001\n"
     ]
    }
   ],
   "source": [
    "# Generazione hash\n",
    "data = ahabi32_ref[\"64B\"]\n",
    "\n",
    "print_data(data)"
   ]
  },
  {
   "attachments": {},
   "cell_type": "markdown",
   "metadata": {},
   "source": [
    "#### PT 128 byte"
   ]
  },
  {
   "cell_type": "code",
   "execution_count": 20,
   "metadata": {},
   "outputs": [
    {
     "name": "stdout",
     "output_type": "stream",
     "text": [
      "128B\n",
      "1128    641\n",
      "1130    209\n",
      "1129     79\n",
      "1127     32\n",
      "1135     22\n",
      "1136      9\n",
      "1131      8\n",
      "Name: count, dtype: int64\n",
      "\n",
      "Massimo: 1136\n",
      "Minimo: 1127\n",
      "Media: 1128.715\n",
      "Varianza: 2.1639389389389385\n"
     ]
    }
   ],
   "source": [
    "# Generazione hash\n",
    "data = ahabi32_ref[\"128B\"]\n",
    "\n",
    "print_data(data)"
   ]
  },
  {
   "attachments": {},
   "cell_type": "markdown",
   "metadata": {},
   "source": [
    "#### PT 256 byte"
   ]
  },
  {
   "cell_type": "code",
   "execution_count": 21,
   "metadata": {},
   "outputs": [
    {
     "name": "stdout",
     "output_type": "stream",
     "text": [
      "256B\n",
      "1946    714\n",
      "1947    120\n",
      "1944    114\n",
      "1945     31\n",
      "1939     18\n",
      "1938      3\n",
      "Name: count, dtype: int64\n",
      "\n",
      "Massimo: 1947\n",
      "Minimo: 1938\n",
      "Media: 1945.711\n",
      "Varianza: 1.5990780780780776\n"
     ]
    }
   ],
   "source": [
    "# Generazione hash\n",
    "data = ahabi32_ref[\"256B\"]\n",
    "\n",
    "print_data(data)"
   ]
  },
  {
   "attachments": {},
   "cell_type": "markdown",
   "metadata": {},
   "source": [
    "#### PT 512 byte"
   ]
  },
  {
   "cell_type": "code",
   "execution_count": 22,
   "metadata": {},
   "outputs": [
    {
     "name": "stdout",
     "output_type": "stream",
     "text": [
      "512B\n",
      "3582    207\n",
      "3575    173\n",
      "3581    167\n",
      "3580    157\n",
      "3583    153\n",
      "3573     69\n",
      "3574     38\n",
      "3576     34\n",
      "3584      1\n",
      "3577      1\n",
      "Name: count, dtype: int64\n",
      "\n",
      "Massimo: 3584\n",
      "Minimo: 3573\n",
      "Media: 3579.329\n",
      "Varianza: 11.576335335335333\n"
     ]
    }
   ],
   "source": [
    "# Generazione hash\n",
    "data = ahabi32_ref[\"512B\"]\n",
    "\n",
    "print_data(data)"
   ]
  },
  {
   "attachments": {},
   "cell_type": "markdown",
   "metadata": {},
   "source": [
    "#### PT 1024 byte"
   ]
  },
  {
   "cell_type": "code",
   "execution_count": 23,
   "metadata": {},
   "outputs": [
    {
     "name": "stdout",
     "output_type": "stream",
     "text": [
      "1024B\n",
      "6846    459\n",
      "6845    244\n",
      "6839     93\n",
      "6838     84\n",
      "6847     48\n",
      "6844     41\n",
      "6843     18\n",
      "6840     13\n",
      "Name: count, dtype: int64\n",
      "\n",
      "Massimo: 6847\n",
      "Minimo: 6838\n",
      "Media: 6844.267\n",
      "Varianza: 8.023734734734735\n"
     ]
    }
   ],
   "source": [
    "# Generazione hash\n",
    "data = ahabi32_ref[\"1024B\"]\n",
    "\n",
    "print_data(data)"
   ]
  }
 ],
 "metadata": {
  "kernelspec": {
   "display_name": "Python 3",
   "language": "python",
   "name": "python3"
  },
  "language_info": {
   "codemirror_mode": {
    "name": "ipython",
    "version": 3
   },
   "file_extension": ".py",
   "mimetype": "text/x-python",
   "name": "python",
   "nbconvert_exporter": "python",
   "pygments_lexer": "ipython3",
   "version": "3.11.2"
  },
  "orig_nbformat": 4
 },
 "nbformat": 4,
 "nbformat_minor": 2
}
