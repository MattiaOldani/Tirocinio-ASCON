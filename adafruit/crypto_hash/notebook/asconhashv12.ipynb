{
 "cells": [
  {
   "attachments": {},
   "cell_type": "markdown",
   "metadata": {},
   "source": [
    "# Analisi dei dati raccolti"
   ]
  },
  {
   "attachments": {},
   "cell_type": "markdown",
   "metadata": {},
   "source": [
    "## Setup"
   ]
  },
  {
   "cell_type": "code",
   "execution_count": 1,
   "metadata": {},
   "outputs": [],
   "source": [
    "import pandas as pd"
   ]
  },
  {
   "cell_type": "code",
   "execution_count": 2,
   "metadata": {},
   "outputs": [],
   "source": [
    "def print_data(series: pd.Series) -> None:\n",
    "    print(series.value_counts())\n",
    "    print()\n",
    "    print(f\"Massimo: {series.max()}\\nMinimo: {series.min()}\\nMedia: {series.mean()}\\nVarianza: {series.var()}\")"
   ]
  },
  {
   "attachments": {},
   "cell_type": "markdown",
   "metadata": {},
   "source": [
    "## Asconhashv12"
   ]
  },
  {
   "cell_type": "code",
   "execution_count": 3,
   "metadata": {},
   "outputs": [],
   "source": [
    "path = \"../asconhashv12/data/{}.csv\""
   ]
  },
  {
   "attachments": {},
   "cell_type": "markdown",
   "metadata": {},
   "source": [
    "### Armv6m"
   ]
  },
  {
   "cell_type": "code",
   "execution_count": 4,
   "metadata": {},
   "outputs": [],
   "source": [
    "with open(path.format(\"armv6m\"), \"r\") as f:\n",
    "    ah_armv6m = pd.read_csv(f, delimiter=\";\")"
   ]
  },
  {
   "attachments": {},
   "cell_type": "markdown",
   "metadata": {},
   "source": [
    "#### PT vuoto"
   ]
  },
  {
   "cell_type": "code",
   "execution_count": 5,
   "metadata": {},
   "outputs": [
    {
     "name": "stdout",
     "output_type": "stream",
     "text": [
      "0B\n",
      "235    468\n",
      "234    173\n",
      "242    169\n",
      "237    114\n",
      "236     55\n",
      "241     13\n",
      "243      8\n",
      "Name: count, dtype: int64\n",
      "\n",
      "Massimo: 243\n",
      "Minimo: 234\n",
      "Media: 236.435\n",
      "Varianza: 7.893668668668668\n"
     ]
    }
   ],
   "source": [
    "# Generazione hash\n",
    "data = ah_armv6m[\"0B\"]\n",
    "\n",
    "print_data(data)"
   ]
  },
  {
   "attachments": {},
   "cell_type": "markdown",
   "metadata": {},
   "source": [
    "#### PT 8 byte"
   ]
  },
  {
   "cell_type": "code",
   "execution_count": 6,
   "metadata": {},
   "outputs": [
    {
     "name": "stdout",
     "output_type": "stream",
     "text": [
      "8B\n",
      "290    265\n",
      "288    240\n",
      "296    150\n",
      "289    149\n",
      "295    124\n",
      "291     70\n",
      "297      2\n",
      "Name: count, dtype: int64\n",
      "\n",
      "Massimo: 297\n",
      "Minimo: 288\n",
      "Media: 290.975\n",
      "Varianza: 8.83521021021021\n"
     ]
    }
   ],
   "source": [
    "# Generazione hash\n",
    "data = ah_armv6m[\"8B\"]\n",
    "\n",
    "print_data(data)"
   ]
  },
  {
   "attachments": {},
   "cell_type": "markdown",
   "metadata": {},
   "source": [
    "#### PT 16 byte"
   ]
  },
  {
   "cell_type": "code",
   "execution_count": 7,
   "metadata": {},
   "outputs": [
    {
     "name": "stdout",
     "output_type": "stream",
     "text": [
      "16B\n",
      "342    333\n",
      "344    319\n",
      "349    205\n",
      "343     63\n",
      "350     58\n",
      "341     21\n",
      "345      1\n",
      "Name: count, dtype: int64\n",
      "\n",
      "Massimo: 350\n",
      "Minimo: 341\n",
      "Media: 344.582\n",
      "Varianza: 8.467743743743744\n"
     ]
    }
   ],
   "source": [
    "# Generazione hash\n",
    "data = ah_armv6m[\"16B\"]\n",
    "\n",
    "print_data(data)"
   ]
  },
  {
   "attachments": {},
   "cell_type": "markdown",
   "metadata": {},
   "source": [
    "#### PT 32 byte"
   ]
  },
  {
   "cell_type": "code",
   "execution_count": 8,
   "metadata": {},
   "outputs": [
    {
     "name": "stdout",
     "output_type": "stream",
     "text": [
      "32B\n",
      "451    395\n",
      "456    224\n",
      "449    165\n",
      "457    129\n",
      "450     40\n",
      "458     20\n",
      "452     15\n",
      "459     12\n",
      "Name: count, dtype: int64\n",
      "\n",
      "Massimo: 459\n",
      "Minimo: 449\n",
      "Media: 452.775\n",
      "Varianza: 9.56594094094094\n"
     ]
    }
   ],
   "source": [
    "# Generazione hash\n",
    "data = ah_armv6m[\"32B\"]\n",
    "\n",
    "print_data(data)"
   ]
  },
  {
   "attachments": {},
   "cell_type": "markdown",
   "metadata": {},
   "source": [
    "#### PT 64 byte"
   ]
  },
  {
   "cell_type": "code",
   "execution_count": 9,
   "metadata": {},
   "outputs": [
    {
     "name": "stdout",
     "output_type": "stream",
     "text": [
      "64B\n",
      "671    240\n",
      "665    210\n",
      "673    178\n",
      "666    176\n",
      "672    119\n",
      "670     72\n",
      "674      5\n",
      "Name: count, dtype: int64\n",
      "\n",
      "Massimo: 674\n",
      "Minimo: 665\n",
      "Media: 669.278\n",
      "Varianza: 9.95266866866867\n"
     ]
    }
   ],
   "source": [
    "# Generazione hash\n",
    "data = ah_armv6m[\"64B\"]\n",
    "\n",
    "print_data(data)"
   ]
  },
  {
   "attachments": {},
   "cell_type": "markdown",
   "metadata": {},
   "source": [
    "#### PT 128 byte"
   ]
  },
  {
   "cell_type": "code",
   "execution_count": 10,
   "metadata": {},
   "outputs": [
    {
     "name": "stdout",
     "output_type": "stream",
     "text": [
      "128B\n",
      "1101    405\n",
      "1102    390\n",
      "1109     69\n",
      "1103     59\n",
      "1104     44\n",
      "1108     24\n",
      "1110      6\n",
      "1105      3\n",
      "Name: count, dtype: int64\n",
      "\n",
      "Massimo: 1110\n",
      "Minimo: 1101\n",
      "Media: 1102.426\n",
      "Varianza: 5.119643643643644\n"
     ]
    }
   ],
   "source": [
    "# Generazione hash\n",
    "data = ah_armv6m[\"128B\"]\n",
    "\n",
    "print_data(data)"
   ]
  },
  {
   "attachments": {},
   "cell_type": "markdown",
   "metadata": {},
   "source": [
    "#### PT 256 byte"
   ]
  },
  {
   "cell_type": "code",
   "execution_count": 11,
   "metadata": {},
   "outputs": [
    {
     "name": "stdout",
     "output_type": "stream",
     "text": [
      "256B\n",
      "1968    670\n",
      "1969    285\n",
      "1966     23\n",
      "1967     16\n",
      "1961      5\n",
      "1970      1\n",
      "Name: count, dtype: int64\n",
      "\n",
      "Massimo: 1970\n",
      "Minimo: 1961\n",
      "Media: 1968.19\n",
      "Varianza: 0.6065065065065065\n"
     ]
    }
   ],
   "source": [
    "# Generazione hash\n",
    "data = ah_armv6m[\"256B\"]\n",
    "\n",
    "print_data(data)"
   ]
  },
  {
   "attachments": {},
   "cell_type": "markdown",
   "metadata": {},
   "source": [
    "#### PT 512 byte"
   ]
  },
  {
   "cell_type": "code",
   "execution_count": 12,
   "metadata": {},
   "outputs": [
    {
     "name": "stdout",
     "output_type": "stream",
     "text": [
      "512B\n",
      "3702    292\n",
      "3695    190\n",
      "3700    177\n",
      "3701    145\n",
      "3694    116\n",
      "3703     37\n",
      "3699     27\n",
      "3696     16\n",
      "Name: count, dtype: int64\n",
      "\n",
      "Massimo: 3703\n",
      "Minimo: 3694\n",
      "Media: 3699.103\n",
      "Varianza: 10.060451451451453\n"
     ]
    }
   ],
   "source": [
    "# Generazione hash\n",
    "data = ah_armv6m[\"512B\"]\n",
    "\n",
    "print_data(data)"
   ]
  },
  {
   "attachments": {},
   "cell_type": "markdown",
   "metadata": {},
   "source": [
    "#### PT 1024 byte"
   ]
  },
  {
   "cell_type": "code",
   "execution_count": 13,
   "metadata": {},
   "outputs": [
    {
     "name": "stdout",
     "output_type": "stream",
     "text": [
      "1024B\n",
      "7160    480\n",
      "7159    161\n",
      "7161    125\n",
      "7162    125\n",
      "7167     64\n",
      "7168     24\n",
      "7163     11\n",
      "7166     10\n",
      "Name: count, dtype: int64\n",
      "\n",
      "Massimo: 7168\n",
      "Minimo: 7159\n",
      "Media: 7160.947\n",
      "Varianza: 5.025216216216215\n"
     ]
    }
   ],
   "source": [
    "# Generazione hash\n",
    "data = ah_armv6m[\"1024B\"]\n",
    "\n",
    "print_data(data)"
   ]
  },
  {
   "attachments": {},
   "cell_type": "markdown",
   "metadata": {},
   "source": [
    "### Armv6m_lowsize"
   ]
  },
  {
   "cell_type": "code",
   "execution_count": 14,
   "metadata": {},
   "outputs": [],
   "source": [
    "with open(path.format(\"armv6m_lowsize\"), \"r\") as f:\n",
    "    ah_lowsize = pd.read_csv(f, delimiter=\";\")"
   ]
  },
  {
   "attachments": {},
   "cell_type": "markdown",
   "metadata": {},
   "source": [
    "#### PT vuoto"
   ]
  },
  {
   "cell_type": "code",
   "execution_count": 15,
   "metadata": {},
   "outputs": [
    {
     "name": "stdout",
     "output_type": "stream",
     "text": [
      "0B\n",
      "238    593\n",
      "237    366\n",
      "247     18\n",
      "240      8\n",
      "239      8\n",
      "246      7\n",
      "Name: count, dtype: int64\n",
      "\n",
      "Massimo: 247\n",
      "Minimo: 237\n",
      "Media: 237.876\n",
      "Varianza: 2.298922922922923\n"
     ]
    }
   ],
   "source": [
    "# Generazione hash\n",
    "data = ah_lowsize[\"0B\"]\n",
    "\n",
    "print_data(data)"
   ]
  },
  {
   "attachments": {},
   "cell_type": "markdown",
   "metadata": {},
   "source": [
    "#### PT 8 byte"
   ]
  },
  {
   "cell_type": "code",
   "execution_count": 16,
   "metadata": {},
   "outputs": [
    {
     "name": "stdout",
     "output_type": "stream",
     "text": [
      "8B\n",
      "301    366\n",
      "292    247\n",
      "302    173\n",
      "293    105\n",
      "300     55\n",
      "299     54\n",
      "Name: count, dtype: int64\n",
      "\n",
      "Massimo: 302\n",
      "Minimo: 292\n",
      "Media: 297.947\n",
      "Varianza: 17.868059059059064\n"
     ]
    }
   ],
   "source": [
    "# Generazione hash\n",
    "data = ah_lowsize[\"8B\"]\n",
    "\n",
    "print_data(data)"
   ]
  },
  {
   "attachments": {},
   "cell_type": "markdown",
   "metadata": {},
   "source": [
    "#### PT 16 byte"
   ]
  },
  {
   "cell_type": "code",
   "execution_count": 17,
   "metadata": {},
   "outputs": [
    {
     "name": "stdout",
     "output_type": "stream",
     "text": [
      "16B\n",
      "356    428\n",
      "347    317\n",
      "357    121\n",
      "349     81\n",
      "348     27\n",
      "354     13\n",
      "355     12\n",
      "358      1\n",
      "Name: count, dtype: int64\n",
      "\n",
      "Massimo: 358\n",
      "Minimo: 347\n",
      "Media: 352.449\n",
      "Varianza: 18.97237137137137\n"
     ]
    }
   ],
   "source": [
    "# Generazione hash\n",
    "data = ah_lowsize[\"16B\"]\n",
    "\n",
    "print_data(data)"
   ]
  },
  {
   "attachments": {},
   "cell_type": "markdown",
   "metadata": {},
   "source": [
    "#### PT 32 byte"
   ]
  },
  {
   "cell_type": "code",
   "execution_count": 18,
   "metadata": {},
   "outputs": [
    {
     "name": "stdout",
     "output_type": "stream",
     "text": [
      "32B\n",
      "457    449\n",
      "456    362\n",
      "466     88\n",
      "465     52\n",
      "458     15\n",
      "459     15\n",
      "464      9\n",
      "467      9\n",
      "463      1\n",
      "Name: count, dtype: int64\n",
      "\n",
      "Massimo: 467\n",
      "Minimo: 456\n",
      "Media: 458.05\n",
      "Varianza: 11.178678678678677\n"
     ]
    }
   ],
   "source": [
    "# Generazione hash\n",
    "data = ah_lowsize[\"32B\"]\n",
    "\n",
    "print_data(data)"
   ]
  },
  {
   "attachments": {},
   "cell_type": "markdown",
   "metadata": {},
   "source": [
    "#### PT 64 byte"
   ]
  },
  {
   "cell_type": "code",
   "execution_count": 19,
   "metadata": {},
   "outputs": [
    {
     "name": "stdout",
     "output_type": "stream",
     "text": [
      "64B\n",
      "675    301\n",
      "676    221\n",
      "685    218\n",
      "684    186\n",
      "677     48\n",
      "678     24\n",
      "679      2\n",
      "Name: count, dtype: int64\n",
      "\n",
      "Massimo: 685\n",
      "Minimo: 675\n",
      "Media: 679.251\n",
      "Varianza: 19.47547447447447\n"
     ]
    }
   ],
   "source": [
    "# Generazione hash\n",
    "data = ah_lowsize[\"64B\"]\n",
    "\n",
    "print_data(data)"
   ]
  },
  {
   "attachments": {},
   "cell_type": "markdown",
   "metadata": {},
   "source": [
    "#### PT 128 byte"
   ]
  },
  {
   "cell_type": "code",
   "execution_count": 20,
   "metadata": {},
   "outputs": [
    {
     "name": "stdout",
     "output_type": "stream",
     "text": [
      "128B\n",
      "1122    671\n",
      "1123    286\n",
      "1131     15\n",
      "1132      9\n",
      "1129      9\n",
      "1130      5\n",
      "1124      4\n",
      "1125      1\n",
      "Name: count, dtype: int64\n",
      "\n",
      "Massimo: 1132\n",
      "Minimo: 1122\n",
      "Media: 1122.625\n",
      "Varianza: 2.799174174174174\n"
     ]
    }
   ],
   "source": [
    "# Generazione hash\n",
    "data = ah_lowsize[\"128B\"]\n",
    "\n",
    "print_data(data)"
   ]
  },
  {
   "attachments": {},
   "cell_type": "markdown",
   "metadata": {},
   "source": [
    "#### PT 256 byte"
   ]
  },
  {
   "cell_type": "code",
   "execution_count": 21,
   "metadata": {},
   "outputs": [
    {
     "name": "stdout",
     "output_type": "stream",
     "text": [
      "256B\n",
      "2007    712\n",
      "2008    222\n",
      "2006     54\n",
      "2009      8\n",
      "2010      4\n",
      "Name: count, dtype: int64\n",
      "\n",
      "Massimo: 2010\n",
      "Minimo: 2006\n",
      "Media: 2007.196\n",
      "Varianza: 0.30588988988988997\n"
     ]
    }
   ],
   "source": [
    "# Generazione hash\n",
    "data = ah_lowsize[\"256B\"]\n",
    "\n",
    "print_data(data)"
   ]
  },
  {
   "attachments": {},
   "cell_type": "markdown",
   "metadata": {},
   "source": [
    "#### PT 512 byte"
   ]
  },
  {
   "cell_type": "code",
   "execution_count": 22,
   "metadata": {},
   "outputs": [
    {
     "name": "stdout",
     "output_type": "stream",
     "text": [
      "512B\n",
      "3777    536\n",
      "3776    351\n",
      "3775     64\n",
      "3778     49\n",
      "Name: count, dtype: int64\n",
      "\n",
      "Massimo: 3778\n",
      "Minimo: 3775\n",
      "Media: 3776.57\n",
      "Varianza: 0.47157157157157154\n"
     ]
    }
   ],
   "source": [
    "# Generazione hash\n",
    "data = ah_lowsize[\"512B\"]\n",
    "\n",
    "print_data(data)"
   ]
  },
  {
   "attachments": {},
   "cell_type": "markdown",
   "metadata": {},
   "source": [
    "#### PT 1024 byte"
   ]
  },
  {
   "cell_type": "code",
   "execution_count": 23,
   "metadata": {},
   "outputs": [
    {
     "name": "stdout",
     "output_type": "stream",
     "text": [
      "1024B\n",
      "7307    484\n",
      "7306    217\n",
      "7308     86\n",
      "7305     73\n",
      "7304     54\n",
      "7309     32\n",
      "7316     28\n",
      "7314      9\n",
      "7315      8\n",
      "7317      6\n",
      "7313      2\n",
      "7310      1\n",
      "Name: count, dtype: int64\n",
      "\n",
      "Massimo: 7317\n",
      "Minimo: 7304\n",
      "Media: 7307.079\n",
      "Varianza: 5.10986886886887\n"
     ]
    }
   ],
   "source": [
    "# Generazione hash\n",
    "data = ah_lowsize[\"1024B\"]\n",
    "\n",
    "print_data(data)"
   ]
  },
  {
   "attachments": {},
   "cell_type": "markdown",
   "metadata": {},
   "source": [
    "### Bi32_armv6m"
   ]
  },
  {
   "cell_type": "code",
   "execution_count": 24,
   "metadata": {},
   "outputs": [],
   "source": [
    "with open(path.format(\"bi32_armv6m\"), \"r\") as f:\n",
    "    ah_bi32 = pd.read_csv(f, delimiter=\";\")"
   ]
  },
  {
   "attachments": {},
   "cell_type": "markdown",
   "metadata": {},
   "source": [
    "#### PT vuoto"
   ]
  },
  {
   "cell_type": "code",
   "execution_count": 25,
   "metadata": {},
   "outputs": [
    {
     "name": "stdout",
     "output_type": "stream",
     "text": [
      "0B\n",
      "240    386\n",
      "239    183\n",
      "247    162\n",
      "242    136\n",
      "241     81\n",
      "249     21\n",
      "246     16\n",
      "248     14\n",
      "250      1\n",
      "Name: count, dtype: int64\n",
      "\n",
      "Massimo: 250\n",
      "Minimo: 239\n",
      "Media: 241.711\n",
      "Varianza: 9.100579579579579\n"
     ]
    }
   ],
   "source": [
    "# Generazione hash\n",
    "data = ah_bi32[\"0B\"]\n",
    "\n",
    "print_data(data)"
   ]
  },
  {
   "attachments": {},
   "cell_type": "markdown",
   "metadata": {},
   "source": [
    "#### PT 8 byte"
   ]
  },
  {
   "cell_type": "code",
   "execution_count": 26,
   "metadata": {},
   "outputs": [
    {
     "name": "stdout",
     "output_type": "stream",
     "text": [
      "8B\n",
      "294    410\n",
      "301    174\n",
      "296    154\n",
      "303     98\n",
      "293     85\n",
      "295     45\n",
      "302     28\n",
      "304      6\n",
      "Name: count, dtype: int64\n",
      "\n",
      "Massimo: 304\n",
      "Minimo: 293\n",
      "Media: 296.652\n",
      "Varianza: 12.581477477477474\n"
     ]
    }
   ],
   "source": [
    "# Generazione hash\n",
    "data = ah_bi32[\"8B\"]\n",
    "\n",
    "print_data(data)"
   ]
  },
  {
   "attachments": {},
   "cell_type": "markdown",
   "metadata": {},
   "source": [
    "#### PT 16 byte"
   ]
  },
  {
   "cell_type": "code",
   "execution_count": 27,
   "metadata": {},
   "outputs": [
    {
     "name": "stdout",
     "output_type": "stream",
     "text": [
      "16B\n",
      "348    417\n",
      "350    220\n",
      "355    157\n",
      "357    116\n",
      "358     41\n",
      "356     32\n",
      "349     17\n",
      "Name: count, dtype: int64\n",
      "\n",
      "Massimo: 358\n",
      "Minimo: 348\n",
      "Media: 351.266\n",
      "Varianza: 13.480724724724729\n"
     ]
    }
   ],
   "source": [
    "# Generazione hash\n",
    "data = ah_bi32[\"16B\"]\n",
    "\n",
    "print_data(data)"
   ]
  },
  {
   "attachments": {},
   "cell_type": "markdown",
   "metadata": {},
   "source": [
    "#### PT 32 byte"
   ]
  },
  {
   "cell_type": "code",
   "execution_count": 28,
   "metadata": {},
   "outputs": [
    {
     "name": "stdout",
     "output_type": "stream",
     "text": [
      "32B\n",
      "456    244\n",
      "458    155\n",
      "457    122\n",
      "465    110\n",
      "466    106\n",
      "464    106\n",
      "463     82\n",
      "459     69\n",
      "467      4\n",
      "460      2\n",
      "Name: count, dtype: int64\n",
      "\n",
      "Massimo: 467\n",
      "Minimo: 456\n",
      "Media: 460.163\n",
      "Varianza: 14.875306306306305\n"
     ]
    }
   ],
   "source": [
    "# Generazione hash\n",
    "data = ah_bi32[\"32B\"]\n",
    "\n",
    "print_data(data)"
   ]
  },
  {
   "attachments": {},
   "cell_type": "markdown",
   "metadata": {},
   "source": [
    "#### PT 64 byte"
   ]
  },
  {
   "cell_type": "code",
   "execution_count": 29,
   "metadata": {},
   "outputs": [
    {
     "name": "stdout",
     "output_type": "stream",
     "text": [
      "64B\n",
      "682    371\n",
      "675    194\n",
      "680    136\n",
      "673    130\n",
      "683     96\n",
      "681     51\n",
      "674     19\n",
      "676      3\n",
      "Name: count, dtype: int64\n",
      "\n",
      "Massimo: 683\n",
      "Minimo: 673\n",
      "Media: 679.075\n",
      "Varianza: 13.508883883883886\n"
     ]
    }
   ],
   "source": [
    "# Generazione hash\n",
    "data = ah_bi32[\"64B\"]\n",
    "\n",
    "print_data(data)"
   ]
  },
  {
   "attachments": {},
   "cell_type": "markdown",
   "metadata": {},
   "source": [
    "#### PT 128 byte"
   ]
  },
  {
   "cell_type": "code",
   "execution_count": 30,
   "metadata": {},
   "outputs": [
    {
     "name": "stdout",
     "output_type": "stream",
     "text": [
      "128B\n",
      "1116    416\n",
      "1115    371\n",
      "1123     69\n",
      "1117     64\n",
      "1122     38\n",
      "1118     30\n",
      "1124     10\n",
      "1119      2\n",
      "Name: count, dtype: int64\n",
      "\n",
      "Massimo: 1124\n",
      "Minimo: 1115\n",
      "Media: 1116.55\n",
      "Varianza: 5.665165165165167\n"
     ]
    }
   ],
   "source": [
    "# Generazione hash\n",
    "data = ah_bi32[\"128B\"]\n",
    "\n",
    "print_data(data)"
   ]
  },
  {
   "attachments": {},
   "cell_type": "markdown",
   "metadata": {},
   "source": [
    "#### PT 256 byte"
   ]
  },
  {
   "cell_type": "code",
   "execution_count": 31,
   "metadata": {},
   "outputs": [
    {
     "name": "stdout",
     "output_type": "stream",
     "text": [
      "256B\n",
      "1991    621\n",
      "1992    343\n",
      "1984     17\n",
      "1993     10\n",
      "1985      5\n",
      "1989      2\n",
      "1990      2\n",
      "Name: count, dtype: int64\n",
      "\n",
      "Massimo: 1993\n",
      "Minimo: 1984\n",
      "Media: 1991.208\n",
      "Varianza: 1.3641001001001003\n"
     ]
    }
   ],
   "source": [
    "# Generazione hash\n",
    "data = ah_bi32[\"256B\"]\n",
    "\n",
    "print_data(data)"
   ]
  },
  {
   "attachments": {},
   "cell_type": "markdown",
   "metadata": {},
   "source": [
    "#### PT 512 byte"
   ]
  },
  {
   "cell_type": "code",
   "execution_count": 32,
   "metadata": {},
   "outputs": [
    {
     "name": "stdout",
     "output_type": "stream",
     "text": [
      "512B\n",
      "3743    423\n",
      "3741    142\n",
      "3736    124\n",
      "3744    113\n",
      "3742     69\n",
      "3734     60\n",
      "3735     46\n",
      "3737     13\n",
      "3733     10\n",
      "Name: count, dtype: int64\n",
      "\n",
      "Massimo: 3744\n",
      "Minimo: 3733\n",
      "Media: 3740.806\n",
      "Varianza: 11.295659659659663\n"
     ]
    }
   ],
   "source": [
    "# Generazione hash\n",
    "data = ah_bi32[\"512B\"]\n",
    "\n",
    "print_data(data)"
   ]
  },
  {
   "attachments": {},
   "cell_type": "markdown",
   "metadata": {},
   "source": [
    "#### PT 1024 byte"
   ]
  },
  {
   "cell_type": "code",
   "execution_count": 33,
   "metadata": {},
   "outputs": [
    {
     "name": "stdout",
     "output_type": "stream",
     "text": [
      "1024B\n",
      "7237    331\n",
      "7238    256\n",
      "7239    135\n",
      "7245    118\n",
      "7240     87\n",
      "7244     50\n",
      "7246     16\n",
      "7247      7\n",
      "Name: count, dtype: int64\n",
      "\n",
      "Massimo: 7247\n",
      "Minimo: 7237\n",
      "Media: 7239.295\n",
      "Varianza: 8.31829329329329\n"
     ]
    }
   ],
   "source": [
    "# Generazione hash\n",
    "data = ah_bi32[\"1024B\"]\n",
    "\n",
    "print_data(data)"
   ]
  },
  {
   "attachments": {},
   "cell_type": "markdown",
   "metadata": {},
   "source": [
    "### Ref"
   ]
  },
  {
   "cell_type": "code",
   "execution_count": 34,
   "metadata": {},
   "outputs": [],
   "source": [
    "with open(path.format(\"ref\"), \"r\") as f:\n",
    "    ah_ref = pd.read_csv(f, delimiter=\";\")"
   ]
  },
  {
   "attachments": {},
   "cell_type": "markdown",
   "metadata": {},
   "source": [
    "#### PT vuoto"
   ]
  },
  {
   "cell_type": "code",
   "execution_count": 35,
   "metadata": {},
   "outputs": [
    {
     "name": "stdout",
     "output_type": "stream",
     "text": [
      "0B\n",
      "387    444\n",
      "396    183\n",
      "394    111\n",
      "388     77\n",
      "397     67\n",
      "389     60\n",
      "395     56\n",
      "390      2\n",
      "Name: count, dtype: int64\n",
      "\n",
      "Massimo: 397\n",
      "Minimo: 387\n",
      "Media: 390.745\n",
      "Varianza: 16.872847847847847\n"
     ]
    }
   ],
   "source": [
    "# Generazione hash\n",
    "data = ah_ref[\"0B\"]\n",
    "\n",
    "print_data(data)"
   ]
  },
  {
   "attachments": {},
   "cell_type": "markdown",
   "metadata": {},
   "source": [
    "#### PT 8 byte"
   ]
  },
  {
   "cell_type": "code",
   "execution_count": 36,
   "metadata": {},
   "outputs": [
    {
     "name": "stdout",
     "output_type": "stream",
     "text": [
      "8B\n",
      "465    465\n",
      "474    283\n",
      "467    156\n",
      "472     25\n",
      "464     23\n",
      "466     20\n",
      "475     17\n",
      "473     10\n",
      "468      1\n",
      "Name: count, dtype: int64\n",
      "\n",
      "Massimo: 475\n",
      "Minimo: 464\n",
      "Media: 468.284\n",
      "Varianza: 16.39573973973974\n"
     ]
    }
   ],
   "source": [
    "# Generazione hash\n",
    "data = ah_ref[\"8B\"]\n",
    "\n",
    "print_data(data)"
   ]
  },
  {
   "attachments": {},
   "cell_type": "markdown",
   "metadata": {},
   "source": [
    "#### PT 16 byte"
   ]
  },
  {
   "cell_type": "code",
   "execution_count": 37,
   "metadata": {},
   "outputs": [
    {
     "name": "stdout",
     "output_type": "stream",
     "text": [
      "16B\n",
      "552    347\n",
      "543    271\n",
      "545    105\n",
      "550     95\n",
      "542     60\n",
      "551     59\n",
      "544     41\n",
      "553     22\n",
      "Name: count, dtype: int64\n",
      "\n",
      "Massimo: 553\n",
      "Minimo: 542\n",
      "Media: 547.671\n",
      "Varianza: 17.458217217217214\n"
     ]
    }
   ],
   "source": [
    "# Generazione hash\n",
    "data = ah_ref[\"16B\"]\n",
    "\n",
    "print_data(data)"
   ]
  },
  {
   "attachments": {},
   "cell_type": "markdown",
   "metadata": {},
   "source": [
    "#### PT 32 byte"
   ]
  },
  {
   "cell_type": "code",
   "execution_count": 38,
   "metadata": {},
   "outputs": [
    {
     "name": "stdout",
     "output_type": "stream",
     "text": [
      "32B\n",
      "708    362\n",
      "707    203\n",
      "706    115\n",
      "700     92\n",
      "701     73\n",
      "698     54\n",
      "699     52\n",
      "705     34\n",
      "709     15\n",
      "Name: count, dtype: int64\n",
      "\n",
      "Massimo: 709\n",
      "Minimo: 698\n",
      "Media: 705.225\n",
      "Varianza: 12.372747747747749\n"
     ]
    }
   ],
   "source": [
    "# Generazione hash\n",
    "data = ah_ref[\"32B\"]\n",
    "\n",
    "print_data(data)"
   ]
  },
  {
   "attachments": {},
   "cell_type": "markdown",
   "metadata": {},
   "source": [
    "#### PT 64 byte"
   ]
  },
  {
   "cell_type": "code",
   "execution_count": 39,
   "metadata": {},
   "outputs": [
    {
     "name": "stdout",
     "output_type": "stream",
     "text": [
      "64B\n",
      "1019    891\n",
      "1020     58\n",
      "1021     31\n",
      "1027      6\n",
      "1022      6\n",
      "1026      5\n",
      "1018      2\n",
      "1028      1\n",
      "Name: count, dtype: int64\n",
      "\n",
      "Massimo: 1028\n",
      "Minimo: 1018\n",
      "Media: 1019.228\n",
      "Varianza: 0.8969129129129126\n"
     ]
    }
   ],
   "source": [
    "# Generazione hash\n",
    "data = ah_ref[\"64B\"]\n",
    "\n",
    "print_data(data)"
   ]
  },
  {
   "attachments": {},
   "cell_type": "markdown",
   "metadata": {},
   "source": [
    "#### PT 128 byte"
   ]
  },
  {
   "cell_type": "code",
   "execution_count": 40,
   "metadata": {},
   "outputs": [
    {
     "name": "stdout",
     "output_type": "stream",
     "text": [
      "128B\n",
      "1651    479\n",
      "1649    136\n",
      "1642    130\n",
      "1644    103\n",
      "1650     53\n",
      "1643     37\n",
      "1652     37\n",
      "1641     22\n",
      "1645      3\n",
      "Name: count, dtype: int64\n",
      "\n",
      "Massimo: 1652\n",
      "Minimo: 1641\n",
      "Media: 1648.287\n",
      "Varianza: 13.540171171171174\n"
     ]
    }
   ],
   "source": [
    "# Generazione hash\n",
    "data = ah_ref[\"128B\"]\n",
    "\n",
    "print_data(data)"
   ]
  },
  {
   "attachments": {},
   "cell_type": "markdown",
   "metadata": {},
   "source": [
    "#### PT 256 byte"
   ]
  },
  {
   "cell_type": "code",
   "execution_count": 41,
   "metadata": {},
   "outputs": [
    {
     "name": "stdout",
     "output_type": "stream",
     "text": [
      "256B\n",
      "2906    580\n",
      "2905    242\n",
      "2907     76\n",
      "2904     52\n",
      "2898     15\n",
      "2899     14\n",
      "2903     14\n",
      "2897      3\n",
      "2896      3\n",
      "2900      1\n",
      "Name: count, dtype: int64\n",
      "\n",
      "Massimo: 2907\n",
      "Minimo: 2896\n",
      "Media: 2905.407\n",
      "Varianza: 2.5278788788788784\n"
     ]
    }
   ],
   "source": [
    "# Generazione hash\n",
    "data = ah_ref[\"256B\"]\n",
    "\n",
    "print_data(data)"
   ]
  },
  {
   "attachments": {},
   "cell_type": "markdown",
   "metadata": {},
   "source": [
    "#### PT 512 byte"
   ]
  },
  {
   "cell_type": "code",
   "execution_count": 42,
   "metadata": {},
   "outputs": [
    {
     "name": "stdout",
     "output_type": "stream",
     "text": [
      "512B\n",
      "5415    283\n",
      "5416    224\n",
      "5425    137\n",
      "5424    116\n",
      "5417     85\n",
      "5423     80\n",
      "5422     45\n",
      "5418     20\n",
      "5426      7\n",
      "5414      3\n",
      "Name: count, dtype: int64\n",
      "\n",
      "Massimo: 5426\n",
      "Minimo: 5414\n",
      "Media: 5418.897\n",
      "Varianza: 16.845236236236236\n"
     ]
    }
   ],
   "source": [
    "# Generazione hash\n",
    "data = ah_ref[\"512B\"]\n",
    "\n",
    "print_data(data)"
   ]
  },
  {
   "attachments": {},
   "cell_type": "markdown",
   "metadata": {},
   "source": [
    "#### PT 1024 byte"
   ]
  },
  {
   "cell_type": "code",
   "execution_count": 43,
   "metadata": {},
   "outputs": [
    {
     "name": "stdout",
     "output_type": "stream",
     "text": [
      "1024B\n",
      "10444    253\n",
      "10453    211\n",
      "10451    111\n",
      "10443    110\n",
      "10446    106\n",
      "10452     88\n",
      "10445     68\n",
      "10450     27\n",
      "10454     17\n",
      "10441      3\n",
      "10447      2\n",
      "10440      2\n",
      "10449      2\n",
      "Name: count, dtype: int64\n",
      "\n",
      "Massimo: 10454\n",
      "Minimo: 10440\n",
      "Media: 10447.881\n",
      "Varianza: 16.517356356356355\n"
     ]
    }
   ],
   "source": [
    "# Generazione hash\n",
    "data = ah_ref[\"1024B\"]\n",
    "\n",
    "print_data(data)"
   ]
  }
 ],
 "metadata": {
  "kernelspec": {
   "display_name": "Python 3",
   "language": "python",
   "name": "python3"
  },
  "language_info": {
   "codemirror_mode": {
    "name": "ipython",
    "version": 3
   },
   "file_extension": ".py",
   "mimetype": "text/x-python",
   "name": "python",
   "nbconvert_exporter": "python",
   "pygments_lexer": "ipython3",
   "version": "3.11.2"
  },
  "orig_nbformat": 4
 },
 "nbformat": 4,
 "nbformat_minor": 2
}
