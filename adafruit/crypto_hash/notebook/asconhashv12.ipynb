{
 "cells": [
  {
   "attachments": {},
   "cell_type": "markdown",
   "metadata": {},
   "source": [
    "# Analisi dei dati raccolti"
   ]
  },
  {
   "attachments": {},
   "cell_type": "markdown",
   "metadata": {},
   "source": [
    "## Setup"
   ]
  },
  {
   "cell_type": "code",
   "execution_count": 1,
   "metadata": {},
   "outputs": [],
   "source": [
    "import pandas as pd"
   ]
  },
  {
   "cell_type": "code",
   "execution_count": 2,
   "metadata": {},
   "outputs": [],
   "source": [
    "def print_data(series: pd.Series) -> None:\n",
    "    print(series.value_counts())\n",
    "    print()\n",
    "    print(f\"Massimo: {series.max()}\\nMinimo: {series.min()}\\nMedia: {series.mean()}\\nVarianza: {series.var()}\")"
   ]
  },
  {
   "attachments": {},
   "cell_type": "markdown",
   "metadata": {},
   "source": [
    "## Asconhashv12"
   ]
  },
  {
   "cell_type": "code",
   "execution_count": 3,
   "metadata": {},
   "outputs": [],
   "source": [
    "path = \"../asconhashv12/data/{}.csv\""
   ]
  },
  {
   "attachments": {},
   "cell_type": "markdown",
   "metadata": {},
   "source": [
    "### Armv7m"
   ]
  },
  {
   "cell_type": "code",
   "execution_count": 4,
   "metadata": {},
   "outputs": [],
   "source": [
    "with open(path.format(\"armv7m\"), \"r\") as f:\n",
    "    ah_armv7m = pd.read_csv(f, delimiter=\";\")"
   ]
  },
  {
   "attachments": {},
   "cell_type": "markdown",
   "metadata": {},
   "source": [
    "#### PT vuoto"
   ]
  },
  {
   "cell_type": "code",
   "execution_count": 5,
   "metadata": {},
   "outputs": [
    {
     "name": "stdout",
     "output_type": "stream",
     "text": [
      "0B\n",
      "86    918\n",
      "87     79\n",
      "85      3\n",
      "Name: count, dtype: int64\n",
      "\n",
      "Massimo: 87\n",
      "Minimo: 85\n",
      "Media: 86.076\n",
      "Varianza: 0.07630030030030029\n"
     ]
    }
   ],
   "source": [
    "# Generazione hash\n",
    "data = ah_armv7m[\"0B\"]\n",
    "\n",
    "print_data(data)"
   ]
  },
  {
   "attachments": {},
   "cell_type": "markdown",
   "metadata": {},
   "source": [
    "#### PT 8 byte"
   ]
  },
  {
   "cell_type": "code",
   "execution_count": 6,
   "metadata": {},
   "outputs": [
    {
     "name": "stdout",
     "output_type": "stream",
     "text": [
      "8B\n",
      "106    876\n",
      "107    121\n",
      "105      3\n",
      "Name: count, dtype: int64\n",
      "\n",
      "Massimo: 107\n",
      "Minimo: 105\n",
      "Media: 106.118\n",
      "Varianza: 0.11018618618618618\n"
     ]
    }
   ],
   "source": [
    "# Generazione hash\n",
    "data = ah_armv7m[\"8B\"]\n",
    "\n",
    "print_data(data)"
   ]
  },
  {
   "attachments": {},
   "cell_type": "markdown",
   "metadata": {},
   "source": [
    "#### PT 16 byte"
   ]
  },
  {
   "cell_type": "code",
   "execution_count": 7,
   "metadata": {},
   "outputs": [
    {
     "name": "stdout",
     "output_type": "stream",
     "text": [
      "16B\n",
      "125    839\n",
      "127    121\n",
      "126     40\n",
      "Name: count, dtype: int64\n",
      "\n",
      "Massimo: 127\n",
      "Minimo: 125\n",
      "Media: 125.282\n",
      "Varianza: 0.444920920920921\n"
     ]
    }
   ],
   "source": [
    "# Generazione hash\n",
    "data = ah_armv7m[\"16B\"]\n",
    "\n",
    "print_data(data)"
   ]
  },
  {
   "attachments": {},
   "cell_type": "markdown",
   "metadata": {},
   "source": [
    "#### PT 32 byte"
   ]
  },
  {
   "cell_type": "code",
   "execution_count": 8,
   "metadata": {},
   "outputs": [
    {
     "name": "stdout",
     "output_type": "stream",
     "text": [
      "32B\n",
      "165    838\n",
      "166    161\n",
      "167      1\n",
      "Name: count, dtype: int64\n",
      "\n",
      "Massimo: 167\n",
      "Minimo: 165\n",
      "Media: 165.163\n",
      "Varianza: 0.13856956956956956\n"
     ]
    }
   ],
   "source": [
    "# Generazione hash\n",
    "data = ah_armv7m[\"32B\"]\n",
    "\n",
    "print_data(data)"
   ]
  },
  {
   "attachments": {},
   "cell_type": "markdown",
   "metadata": {},
   "source": [
    "#### PT 64 byte"
   ]
  },
  {
   "cell_type": "code",
   "execution_count": 9,
   "metadata": {},
   "outputs": [
    {
     "name": "stdout",
     "output_type": "stream",
     "text": [
      "64B\n",
      "244    760\n",
      "245    239\n",
      "243      1\n",
      "Name: count, dtype: int64\n",
      "\n",
      "Massimo: 245\n",
      "Minimo: 243\n",
      "Media: 244.238\n",
      "Varianza: 0.18353953953953953\n"
     ]
    }
   ],
   "source": [
    "# Generazione hash\n",
    "data = ah_armv7m[\"64B\"]\n",
    "\n",
    "print_data(data)"
   ]
  },
  {
   "attachments": {},
   "cell_type": "markdown",
   "metadata": {},
   "source": [
    "#### PT 128 byte"
   ]
  },
  {
   "cell_type": "code",
   "execution_count": 10,
   "metadata": {},
   "outputs": [
    {
     "name": "stdout",
     "output_type": "stream",
     "text": [
      "128B\n",
      "402    599\n",
      "404    360\n",
      "403     40\n",
      "405      1\n",
      "Name: count, dtype: int64\n",
      "\n",
      "Massimo: 405\n",
      "Minimo: 402\n",
      "Media: 402.763\n",
      "Varianza: 0.9077387387387388\n"
     ]
    }
   ],
   "source": [
    "# Generazione hash\n",
    "data = ah_armv7m[\"128B\"]\n",
    "\n",
    "print_data(data)"
   ]
  },
  {
   "attachments": {},
   "cell_type": "markdown",
   "metadata": {},
   "source": [
    "#### PT 256 byte"
   ]
  },
  {
   "cell_type": "code",
   "execution_count": 11,
   "metadata": {},
   "outputs": [
    {
     "name": "stdout",
     "output_type": "stream",
     "text": [
      "256B\n",
      "720    719\n",
      "719    281\n",
      "Name: count, dtype: int64\n",
      "\n",
      "Massimo: 720\n",
      "Minimo: 719\n",
      "Media: 719.719\n",
      "Varianza: 0.20224124124124118\n"
     ]
    }
   ],
   "source": [
    "# Generazione hash\n",
    "data = ah_armv7m[\"256B\"]\n",
    "\n",
    "print_data(data)"
   ]
  },
  {
   "attachments": {},
   "cell_type": "markdown",
   "metadata": {},
   "source": [
    "#### PT 512 byte"
   ]
  },
  {
   "cell_type": "code",
   "execution_count": 12,
   "metadata": {},
   "outputs": [
    {
     "name": "stdout",
     "output_type": "stream",
     "text": [
      "512B\n",
      "1354    518\n",
      "1356    360\n",
      "1355    122\n",
      "Name: count, dtype: int64\n",
      "\n",
      "Massimo: 1356\n",
      "Minimo: 1354\n",
      "Media: 1354.842\n",
      "Varianza: 0.8538898898898897\n"
     ]
    }
   ],
   "source": [
    "# Generazione hash\n",
    "data = ah_armv7m[\"512B\"]\n",
    "\n",
    "print_data(data)"
   ]
  },
  {
   "attachments": {},
   "cell_type": "markdown",
   "metadata": {},
   "source": [
    "#### PT 1024 byte"
   ]
  },
  {
   "cell_type": "code",
   "execution_count": 13,
   "metadata": {},
   "outputs": [
    {
     "name": "stdout",
     "output_type": "stream",
     "text": [
      "1024B\n",
      "2624    640\n",
      "2623    358\n",
      "2626      1\n",
      "2625      1\n",
      "Name: count, dtype: int64\n",
      "\n",
      "Massimo: 2626\n",
      "Minimo: 2623\n",
      "Media: 2623.645\n",
      "Varianza: 0.23721221221221211\n"
     ]
    }
   ],
   "source": [
    "# Generazione hash\n",
    "data = ah_armv7m[\"1024B\"]\n",
    "\n",
    "print_data(data)"
   ]
  },
  {
   "attachments": {},
   "cell_type": "markdown",
   "metadata": {},
   "source": [
    "### Armv7m_lowsize"
   ]
  },
  {
   "cell_type": "code",
   "execution_count": 14,
   "metadata": {},
   "outputs": [],
   "source": [
    "with open(path.format(\"armv7m_lowsize\"), \"r\") as f:\n",
    "    ah_lowsize = pd.read_csv(f, delimiter=\";\")"
   ]
  },
  {
   "attachments": {},
   "cell_type": "markdown",
   "metadata": {},
   "source": [
    "#### PT vuoto"
   ]
  },
  {
   "cell_type": "code",
   "execution_count": 15,
   "metadata": {},
   "outputs": [
    {
     "name": "stdout",
     "output_type": "stream",
     "text": [
      "0B\n",
      "70    918\n",
      "71     81\n",
      "72      1\n",
      "Name: count, dtype: int64\n",
      "\n",
      "Massimo: 72\n",
      "Minimo: 70\n",
      "Media: 70.083\n",
      "Varianza: 0.07818918918918918\n"
     ]
    }
   ],
   "source": [
    "# Generazione hash\n",
    "data = ah_lowsize[\"0B\"]\n",
    "\n",
    "print_data(data)"
   ]
  },
  {
   "attachments": {},
   "cell_type": "markdown",
   "metadata": {},
   "source": [
    "#### PT 8 byte"
   ]
  },
  {
   "cell_type": "code",
   "execution_count": 16,
   "metadata": {},
   "outputs": [
    {
     "name": "stdout",
     "output_type": "stream",
     "text": [
      "8B\n",
      "87    880\n",
      "88    120\n",
      "Name: count, dtype: int64\n",
      "\n",
      "Massimo: 88\n",
      "Minimo: 87\n",
      "Media: 87.12\n",
      "Varianza: 0.1057057057057057\n"
     ]
    }
   ],
   "source": [
    "# Generazione hash\n",
    "data = ah_lowsize[\"8B\"]\n",
    "\n",
    "print_data(data)"
   ]
  },
  {
   "attachments": {},
   "cell_type": "markdown",
   "metadata": {},
   "source": [
    "#### PT 16 byte"
   ]
  },
  {
   "cell_type": "code",
   "execution_count": 17,
   "metadata": {},
   "outputs": [
    {
     "name": "stdout",
     "output_type": "stream",
     "text": [
      "16B\n",
      "103    840\n",
      "105    121\n",
      "104     39\n",
      "Name: count, dtype: int64\n",
      "\n",
      "Massimo: 105\n",
      "Minimo: 103\n",
      "Media: 103.281\n",
      "Varianza: 0.4444834834834834\n"
     ]
    }
   ],
   "source": [
    "# Generazione hash\n",
    "data = ah_lowsize[\"16B\"]\n",
    "\n",
    "print_data(data)"
   ]
  },
  {
   "attachments": {},
   "cell_type": "markdown",
   "metadata": {},
   "source": [
    "#### PT 32 byte"
   ]
  },
  {
   "cell_type": "code",
   "execution_count": 18,
   "metadata": {},
   "outputs": [
    {
     "name": "stdout",
     "output_type": "stream",
     "text": [
      "32B\n",
      "136    479\n",
      "137    361\n",
      "138    160\n",
      "Name: count, dtype: int64\n",
      "\n",
      "Massimo: 138\n",
      "Minimo: 136\n",
      "Media: 136.681\n",
      "Varianza: 0.5377767767767768\n"
     ]
    }
   ],
   "source": [
    "# Generazione hash\n",
    "data = ah_lowsize[\"32B\"]\n",
    "\n",
    "print_data(data)"
   ]
  },
  {
   "attachments": {},
   "cell_type": "markdown",
   "metadata": {},
   "source": [
    "#### PT 64 byte"
   ]
  },
  {
   "cell_type": "code",
   "execution_count": 19,
   "metadata": {},
   "outputs": [
    {
     "name": "stdout",
     "output_type": "stream",
     "text": [
      "64B\n",
      "203    800\n",
      "204    198\n",
      "202      2\n",
      "Name: count, dtype: int64\n",
      "\n",
      "Massimo: 204\n",
      "Minimo: 202\n",
      "Media: 203.196\n",
      "Varianza: 0.16174574574574574\n"
     ]
    }
   ],
   "source": [
    "# Generazione hash\n",
    "data = ah_lowsize[\"64B\"]\n",
    "\n",
    "print_data(data)"
   ]
  },
  {
   "attachments": {},
   "cell_type": "markdown",
   "metadata": {},
   "source": [
    "#### PT 128 byte"
   ]
  },
  {
   "cell_type": "code",
   "execution_count": 20,
   "metadata": {},
   "outputs": [
    {
     "name": "stdout",
     "output_type": "stream",
     "text": [
      "128B\n",
      "335    637\n",
      "336    361\n",
      "338      1\n",
      "337      1\n",
      "Name: count, dtype: int64\n",
      "\n",
      "Massimo: 338\n",
      "Minimo: 335\n",
      "Media: 335.366\n",
      "Varianza: 0.2402842842842843\n"
     ]
    }
   ],
   "source": [
    "# Generazione hash\n",
    "data = ah_lowsize[\"128B\"]\n",
    "\n",
    "print_data(data)"
   ]
  },
  {
   "attachments": {},
   "cell_type": "markdown",
   "metadata": {},
   "source": [
    "#### PT 256 byte"
   ]
  },
  {
   "cell_type": "code",
   "execution_count": 21,
   "metadata": {},
   "outputs": [
    {
     "name": "stdout",
     "output_type": "stream",
     "text": [
      "256B\n",
      "601    600\n",
      "600    399\n",
      "602      1\n",
      "Name: count, dtype: int64\n",
      "\n",
      "Massimo: 602\n",
      "Minimo: 600\n",
      "Media: 600.602\n",
      "Varianza: 0.24183783783783785\n"
     ]
    }
   ],
   "source": [
    "# Generazione hash\n",
    "data = ah_lowsize[\"256B\"]\n",
    "\n",
    "print_data(data)"
   ]
  },
  {
   "attachments": {},
   "cell_type": "markdown",
   "metadata": {},
   "source": [
    "#### PT 512 byte"
   ]
  },
  {
   "cell_type": "code",
   "execution_count": 22,
   "metadata": {},
   "outputs": [
    {
     "name": "stdout",
     "output_type": "stream",
     "text": [
      "512B\n",
      "1132    840\n",
      "1133    159\n",
      "1131      1\n",
      "Name: count, dtype: int64\n",
      "\n",
      "Massimo: 1133\n",
      "Minimo: 1131\n",
      "Media: 1132.158\n",
      "Varianza: 0.13517117117117117\n"
     ]
    }
   ],
   "source": [
    "# Generazione hash\n",
    "data = ah_lowsize[\"512B\"]\n",
    "\n",
    "print_data(data)"
   ]
  },
  {
   "attachments": {},
   "cell_type": "markdown",
   "metadata": {},
   "source": [
    "#### PT 1024 byte"
   ]
  },
  {
   "cell_type": "code",
   "execution_count": 23,
   "metadata": {},
   "outputs": [
    {
     "name": "stdout",
     "output_type": "stream",
     "text": [
      "1024B\n",
      "2193    798\n",
      "2194    201\n",
      "2195      1\n",
      "Name: count, dtype: int64\n",
      "\n",
      "Massimo: 2195\n",
      "Minimo: 2193\n",
      "Media: 2193.203\n",
      "Varianza: 0.1639549549549549\n"
     ]
    }
   ],
   "source": [
    "# Generazione hash\n",
    "data = ah_lowsize[\"1024B\"]\n",
    "\n",
    "print_data(data)"
   ]
  },
  {
   "attachments": {},
   "cell_type": "markdown",
   "metadata": {},
   "source": [
    "### Armv7m_small"
   ]
  },
  {
   "cell_type": "code",
   "execution_count": 24,
   "metadata": {},
   "outputs": [],
   "source": [
    "with open(path.format(\"armv7m_small\"), \"r\") as f:\n",
    "    ah_small = pd.read_csv(f, delimiter=\";\")"
   ]
  },
  {
   "cell_type": "markdown",
   "metadata": {},
   "source": [
    "#### PT vuoto"
   ]
  },
  {
   "cell_type": "code",
   "execution_count": 25,
   "metadata": {},
   "outputs": [
    {
     "name": "stdout",
     "output_type": "stream",
     "text": [
      "0B\n",
      "70    917\n",
      "71     43\n",
      "72     40\n",
      "Name: count, dtype: int64\n",
      "\n",
      "Massimo: 72\n",
      "Minimo: 70\n",
      "Media: 70.123\n",
      "Varianza: 0.18805905905905906\n"
     ]
    }
   ],
   "source": [
    "# Generazione hash\n",
    "data = ah_small[\"0B\"]\n",
    "\n",
    "print_data(data)"
   ]
  },
  {
   "attachments": {},
   "cell_type": "markdown",
   "metadata": {},
   "source": [
    "#### PT 8 byte"
   ]
  },
  {
   "cell_type": "code",
   "execution_count": 26,
   "metadata": {},
   "outputs": [
    {
     "name": "stdout",
     "output_type": "stream",
     "text": [
      "8B\n",
      "87    880\n",
      "88    120\n",
      "Name: count, dtype: int64\n",
      "\n",
      "Massimo: 88\n",
      "Minimo: 87\n",
      "Media: 87.12\n",
      "Varianza: 0.1057057057057057\n"
     ]
    }
   ],
   "source": [
    "# Generazione hash\n",
    "data = ah_small[\"8B\"]\n",
    "\n",
    "print_data(data)"
   ]
  },
  {
   "attachments": {},
   "cell_type": "markdown",
   "metadata": {},
   "source": [
    "#### PT 16 byte"
   ]
  },
  {
   "cell_type": "code",
   "execution_count": 27,
   "metadata": {},
   "outputs": [
    {
     "name": "stdout",
     "output_type": "stream",
     "text": [
      "16B\n",
      "103    839\n",
      "105     81\n",
      "104     80\n",
      "Name: count, dtype: int64\n",
      "\n",
      "Massimo: 105\n",
      "Minimo: 103\n",
      "Media: 103.242\n",
      "Varianza: 0.3457817817817818\n"
     ]
    }
   ],
   "source": [
    "# Generazione hash\n",
    "data = ah_small[\"16B\"]\n",
    "\n",
    "print_data(data)"
   ]
  },
  {
   "attachments": {},
   "cell_type": "markdown",
   "metadata": {},
   "source": [
    "#### PT 32 byte"
   ]
  },
  {
   "cell_type": "code",
   "execution_count": 28,
   "metadata": {},
   "outputs": [
    {
     "name": "stdout",
     "output_type": "stream",
     "text": [
      "32B\n",
      "136    758\n",
      "138    160\n",
      "137     82\n",
      "Name: count, dtype: int64\n",
      "\n",
      "Massimo: 138\n",
      "Minimo: 136\n",
      "Media: 136.402\n",
      "Varianza: 0.5609569569569569\n"
     ]
    }
   ],
   "source": [
    "# Generazione hash\n",
    "data = ah_small[\"32B\"]\n",
    "\n",
    "print_data(data)"
   ]
  },
  {
   "attachments": {},
   "cell_type": "markdown",
   "metadata": {},
   "source": [
    "#### PT 64 byte"
   ]
  },
  {
   "cell_type": "code",
   "execution_count": 29,
   "metadata": {},
   "outputs": [
    {
     "name": "stdout",
     "output_type": "stream",
     "text": [
      "64B\n",
      "203    760\n",
      "204    198\n",
      "202     42\n",
      "Name: count, dtype: int64\n",
      "\n",
      "Massimo: 204\n",
      "Minimo: 202\n",
      "Media: 203.156\n",
      "Varianza: 0.21587987987987983\n"
     ]
    }
   ],
   "source": [
    "# Generazione hash\n",
    "data = ah_small[\"64B\"]\n",
    "\n",
    "print_data(data)"
   ]
  },
  {
   "attachments": {},
   "cell_type": "markdown",
   "metadata": {},
   "source": [
    "#### PT 128 byte"
   ]
  },
  {
   "cell_type": "code",
   "execution_count": 30,
   "metadata": {},
   "outputs": [
    {
     "name": "stdout",
     "output_type": "stream",
     "text": [
      "128B\n",
      "335    637\n",
      "336    361\n",
      "338      1\n",
      "337      1\n",
      "Name: count, dtype: int64\n",
      "\n",
      "Massimo: 338\n",
      "Minimo: 335\n",
      "Media: 335.366\n",
      "Varianza: 0.2402842842842843\n"
     ]
    }
   ],
   "source": [
    "# Generazione hash\n",
    "data = ah_small[\"128B\"]\n",
    "\n",
    "print_data(data)"
   ]
  },
  {
   "attachments": {},
   "cell_type": "markdown",
   "metadata": {},
   "source": [
    "#### PT 256 byte"
   ]
  },
  {
   "cell_type": "code",
   "execution_count": 31,
   "metadata": {},
   "outputs": [
    {
     "name": "stdout",
     "output_type": "stream",
     "text": [
      "256B\n",
      "601    600\n",
      "600    399\n",
      "602      1\n",
      "Name: count, dtype: int64\n",
      "\n",
      "Massimo: 602\n",
      "Minimo: 600\n",
      "Media: 600.602\n",
      "Varianza: 0.24183783783783785\n"
     ]
    }
   ],
   "source": [
    "# Generazione hash\n",
    "data = ah_small[\"256B\"]\n",
    "\n",
    "print_data(data)"
   ]
  },
  {
   "attachments": {},
   "cell_type": "markdown",
   "metadata": {},
   "source": [
    "#### PT 512 byte"
   ]
  },
  {
   "cell_type": "code",
   "execution_count": 32,
   "metadata": {},
   "outputs": [
    {
     "name": "stdout",
     "output_type": "stream",
     "text": [
      "512B\n",
      "1132    801\n",
      "1133    159\n",
      "1131     40\n",
      "Name: count, dtype: int64\n",
      "\n",
      "Massimo: 1133\n",
      "Minimo: 1131\n",
      "Media: 1132.119\n",
      "Varianza: 0.18502402402402401\n"
     ]
    }
   ],
   "source": [
    "# Generazione hash\n",
    "data = ah_small[\"512B\"]\n",
    "\n",
    "print_data(data)"
   ]
  },
  {
   "attachments": {},
   "cell_type": "markdown",
   "metadata": {},
   "source": [
    "#### PT 1024 byte"
   ]
  },
  {
   "cell_type": "code",
   "execution_count": 33,
   "metadata": {},
   "outputs": [
    {
     "name": "stdout",
     "output_type": "stream",
     "text": [
      "1024B\n",
      "2193    798\n",
      "2194    201\n",
      "2195      1\n",
      "Name: count, dtype: int64\n",
      "\n",
      "Massimo: 2195\n",
      "Minimo: 2193\n",
      "Media: 2193.203\n",
      "Varianza: 0.1639549549549549\n"
     ]
    }
   ],
   "source": [
    "# Generazione hash\n",
    "data = ah_small[\"1024B\"]\n",
    "\n",
    "print_data(data)"
   ]
  },
  {
   "attachments": {},
   "cell_type": "markdown",
   "metadata": {},
   "source": [
    "### Bi32_armv7m"
   ]
  },
  {
   "cell_type": "code",
   "execution_count": 34,
   "metadata": {},
   "outputs": [],
   "source": [
    "with open(path.format(\"bi32_armv7m\"), \"r\") as f:\n",
    "    ah_bi32 = pd.read_csv(f, delimiter=\";\")"
   ]
  },
  {
   "attachments": {},
   "cell_type": "markdown",
   "metadata": {},
   "source": [
    "#### PT vuoto"
   ]
  },
  {
   "cell_type": "code",
   "execution_count": 35,
   "metadata": {},
   "outputs": [
    {
     "name": "stdout",
     "output_type": "stream",
     "text": [
      "0B\n",
      "71    920\n",
      "72     80\n",
      "Name: count, dtype: int64\n",
      "\n",
      "Massimo: 72\n",
      "Minimo: 71\n",
      "Media: 71.08\n",
      "Varianza: 0.0736736736736737\n"
     ]
    }
   ],
   "source": [
    "# Generazione hash\n",
    "data = ah_bi32[\"0B\"]\n",
    "\n",
    "print_data(data)"
   ]
  },
  {
   "attachments": {},
   "cell_type": "markdown",
   "metadata": {},
   "source": [
    "#### PT 8 byte"
   ]
  },
  {
   "cell_type": "code",
   "execution_count": 36,
   "metadata": {},
   "outputs": [
    {
     "name": "stdout",
     "output_type": "stream",
     "text": [
      "8B\n",
      "86    918\n",
      "87     82\n",
      "Name: count, dtype: int64\n",
      "\n",
      "Massimo: 87\n",
      "Minimo: 86\n",
      "Media: 86.082\n",
      "Varianza: 0.07535135135135136\n"
     ]
    }
   ],
   "source": [
    "# Generazione hash\n",
    "data = ah_bi32[\"8B\"]\n",
    "\n",
    "print_data(data)"
   ]
  },
  {
   "attachments": {},
   "cell_type": "markdown",
   "metadata": {},
   "source": [
    "#### PT 16 byte"
   ]
  },
  {
   "cell_type": "code",
   "execution_count": 37,
   "metadata": {},
   "outputs": [
    {
     "name": "stdout",
     "output_type": "stream",
     "text": [
      "16B\n",
      "102    878\n",
      "103    122\n",
      "Name: count, dtype: int64\n",
      "\n",
      "Massimo: 103\n",
      "Minimo: 102\n",
      "Media: 102.122\n",
      "Varianza: 0.10722322322322322\n"
     ]
    }
   ],
   "source": [
    "# Generazione hash\n",
    "data = ah_bi32[\"16B\"]\n",
    "\n",
    "print_data(data)"
   ]
  },
  {
   "attachments": {},
   "cell_type": "markdown",
   "metadata": {},
   "source": [
    "#### PT 32 byte"
   ]
  },
  {
   "cell_type": "code",
   "execution_count": 38,
   "metadata": {},
   "outputs": [
    {
     "name": "stdout",
     "output_type": "stream",
     "text": [
      "32B\n",
      "132    881\n",
      "133    119\n",
      "Name: count, dtype: int64\n",
      "\n",
      "Massimo: 133\n",
      "Minimo: 132\n",
      "Media: 132.119\n",
      "Varianza: 0.10494394394394395\n"
     ]
    }
   ],
   "source": [
    "# Generazione hash\n",
    "data = ah_bi32[\"32B\"]\n",
    "\n",
    "print_data(data)"
   ]
  },
  {
   "attachments": {},
   "cell_type": "markdown",
   "metadata": {},
   "source": [
    "#### PT 64 byte"
   ]
  },
  {
   "cell_type": "code",
   "execution_count": 39,
   "metadata": {},
   "outputs": [
    {
     "name": "stdout",
     "output_type": "stream",
     "text": [
      "64B\n",
      "193    799\n",
      "194    201\n",
      "Name: count, dtype: int64\n",
      "\n",
      "Massimo: 194\n",
      "Minimo: 193\n",
      "Media: 193.201\n",
      "Varianza: 0.16075975975975976\n"
     ]
    }
   ],
   "source": [
    "# Generazione hash\n",
    "data = ah_bi32[\"64B\"]\n",
    "\n",
    "print_data(data)"
   ]
  },
  {
   "attachments": {},
   "cell_type": "markdown",
   "metadata": {},
   "source": [
    "#### PT 128 byte"
   ]
  },
  {
   "cell_type": "code",
   "execution_count": 40,
   "metadata": {},
   "outputs": [
    {
     "name": "stdout",
     "output_type": "stream",
     "text": [
      "128B\n",
      "315    681\n",
      "316    319\n",
      "Name: count, dtype: int64\n",
      "\n",
      "Massimo: 316\n",
      "Minimo: 315\n",
      "Media: 315.319\n",
      "Varianza: 0.21745645645645648\n"
     ]
    }
   ],
   "source": [
    "# Generazione hash\n",
    "data = ah_bi32[\"128B\"]\n",
    "\n",
    "print_data(data)"
   ]
  },
  {
   "attachments": {},
   "cell_type": "markdown",
   "metadata": {},
   "source": [
    "#### PT 256 byte"
   ]
  },
  {
   "cell_type": "code",
   "execution_count": 41,
   "metadata": {},
   "outputs": [
    {
     "name": "stdout",
     "output_type": "stream",
     "text": [
      "256B\n",
      "560    557\n",
      "559    440\n",
      "562      2\n",
      "561      1\n",
      "Name: count, dtype: int64\n",
      "\n",
      "Massimo: 562\n",
      "Minimo: 559\n",
      "Media: 559.565\n",
      "Varianza: 0.260035035035035\n"
     ]
    }
   ],
   "source": [
    "# Generazione hash\n",
    "data = ah_bi32[\"256B\"]\n",
    "\n",
    "print_data(data)"
   ]
  },
  {
   "attachments": {},
   "cell_type": "markdown",
   "metadata": {},
   "source": [
    "#### PT 512 byte"
   ]
  },
  {
   "cell_type": "code",
   "execution_count": 42,
   "metadata": {},
   "outputs": [
    {
     "name": "stdout",
     "output_type": "stream",
     "text": [
      "512B\n",
      "1050    679\n",
      "1049    321\n",
      "Name: count, dtype: int64\n",
      "\n",
      "Massimo: 1050\n",
      "Minimo: 1049\n",
      "Media: 1049.679\n",
      "Varianza: 0.2181771771771771\n"
     ]
    }
   ],
   "source": [
    "# Generazione hash\n",
    "data = ah_bi32[\"512B\"]\n",
    "\n",
    "print_data(data)"
   ]
  },
  {
   "attachments": {},
   "cell_type": "markdown",
   "metadata": {},
   "source": [
    "#### PT 1024 byte"
   ]
  },
  {
   "cell_type": "code",
   "execution_count": 43,
   "metadata": {},
   "outputs": [
    {
     "name": "stdout",
     "output_type": "stream",
     "text": [
      "1024B\n",
      "2028    958\n",
      "2029     40\n",
      "2027      2\n",
      "Name: count, dtype: int64\n",
      "\n",
      "Massimo: 2029\n",
      "Minimo: 2027\n",
      "Media: 2028.038\n",
      "Varianza: 0.040596596596596576\n"
     ]
    }
   ],
   "source": [
    "# Generazione hash\n",
    "data = ah_bi32[\"1024B\"]\n",
    "\n",
    "print_data(data)"
   ]
  },
  {
   "attachments": {},
   "cell_type": "markdown",
   "metadata": {},
   "source": [
    "### Ref"
   ]
  },
  {
   "cell_type": "code",
   "execution_count": 44,
   "metadata": {},
   "outputs": [],
   "source": [
    "with open(path.format(\"ref\"), \"r\") as f:\n",
    "    ah_ref = pd.read_csv(f, delimiter=\";\")"
   ]
  },
  {
   "attachments": {},
   "cell_type": "markdown",
   "metadata": {},
   "source": [
    "#### PT vuoto"
   ]
  },
  {
   "cell_type": "code",
   "execution_count": 45,
   "metadata": {},
   "outputs": [
    {
     "name": "stdout",
     "output_type": "stream",
     "text": [
      "0B\n",
      "300    680\n",
      "301    320\n",
      "Name: count, dtype: int64\n",
      "\n",
      "Massimo: 301\n",
      "Minimo: 300\n",
      "Media: 300.32\n",
      "Varianza: 0.2178178178178179\n"
     ]
    }
   ],
   "source": [
    "# Generazione hash\n",
    "data = ah_ref[\"0B\"]\n",
    "\n",
    "print_data(data)"
   ]
  },
  {
   "attachments": {},
   "cell_type": "markdown",
   "metadata": {},
   "source": [
    "#### PT 8 byte"
   ]
  },
  {
   "cell_type": "code",
   "execution_count": 46,
   "metadata": {},
   "outputs": [
    {
     "name": "stdout",
     "output_type": "stream",
     "text": [
      "8B\n",
      "361    638\n",
      "362    360\n",
      "363      2\n",
      "Name: count, dtype: int64\n",
      "\n",
      "Massimo: 363\n",
      "Minimo: 361\n",
      "Media: 361.364\n",
      "Varianza: 0.2357397397397397\n"
     ]
    }
   ],
   "source": [
    "# Generazione hash\n",
    "data = ah_ref[\"8B\"]\n",
    "\n",
    "print_data(data)"
   ]
  },
  {
   "attachments": {},
   "cell_type": "markdown",
   "metadata": {},
   "source": [
    "#### PT 16 byte"
   ]
  },
  {
   "cell_type": "code",
   "execution_count": 47,
   "metadata": {},
   "outputs": [
    {
     "name": "stdout",
     "output_type": "stream",
     "text": [
      "16B\n",
      "422    480\n",
      "424    398\n",
      "423    122\n",
      "Name: count, dtype: int64\n",
      "\n",
      "Massimo: 424\n",
      "Minimo: 422\n",
      "Media: 422.918\n",
      "Varianza: 0.872148148148148\n"
     ]
    }
   ],
   "source": [
    "# Generazione hash\n",
    "data = ah_ref[\"16B\"]\n",
    "\n",
    "print_data(data)"
   ]
  },
  {
   "attachments": {},
   "cell_type": "markdown",
   "metadata": {},
   "source": [
    "#### PT 32 byte"
   ]
  },
  {
   "cell_type": "code",
   "execution_count": 48,
   "metadata": {},
   "outputs": [
    {
     "name": "stdout",
     "output_type": "stream",
     "text": [
      "32B\n",
      "546    520\n",
      "545    478\n",
      "547      2\n",
      "Name: count, dtype: int64\n",
      "\n",
      "Massimo: 547\n",
      "Minimo: 545\n",
      "Media: 545.524\n",
      "Varianza: 0.25367767767767774\n"
     ]
    }
   ],
   "source": [
    "# Generazione hash\n",
    "data = ah_ref[\"32B\"]\n",
    "\n",
    "print_data(data)"
   ]
  },
  {
   "attachments": {},
   "cell_type": "markdown",
   "metadata": {},
   "source": [
    "#### PT 64 byte"
   ]
  },
  {
   "cell_type": "code",
   "execution_count": 49,
   "metadata": {},
   "outputs": [
    {
     "name": "stdout",
     "output_type": "stream",
     "text": [
      "64B\n",
      "791    758\n",
      "790    239\n",
      "792      3\n",
      "Name: count, dtype: int64\n",
      "\n",
      "Massimo: 792\n",
      "Minimo: 790\n",
      "Media: 790.764\n",
      "Varianza: 0.18649049049049052\n"
     ]
    }
   ],
   "source": [
    "# Generazione hash\n",
    "data = ah_ref[\"64B\"]\n",
    "\n",
    "print_data(data)"
   ]
  },
  {
   "attachments": {},
   "cell_type": "markdown",
   "metadata": {},
   "source": [
    "#### PT 128 byte"
   ]
  },
  {
   "cell_type": "code",
   "execution_count": 50,
   "metadata": {},
   "outputs": [
    {
     "name": "stdout",
     "output_type": "stream",
     "text": [
      "128B\n",
      "1282    718\n",
      "1283    279\n",
      "1281      3\n",
      "Name: count, dtype: int64\n",
      "\n",
      "Massimo: 1283\n",
      "Minimo: 1281\n",
      "Media: 1282.276\n",
      "Varianza: 0.20603003003002998\n"
     ]
    }
   ],
   "source": [
    "# Generazione hash\n",
    "data = ah_ref[\"128B\"]\n",
    "\n",
    "print_data(data)"
   ]
  },
  {
   "attachments": {},
   "cell_type": "markdown",
   "metadata": {},
   "source": [
    "#### PT 256 byte"
   ]
  },
  {
   "cell_type": "code",
   "execution_count": 51,
   "metadata": {},
   "outputs": [
    {
     "name": "stdout",
     "output_type": "stream",
     "text": [
      "256B\n",
      "2263    758\n",
      "2264    241\n",
      "2265      1\n",
      "Name: count, dtype: int64\n",
      "\n",
      "Massimo: 2265\n",
      "Minimo: 2263\n",
      "Media: 2263.243\n",
      "Varianza: 0.18613713713713717\n"
     ]
    }
   ],
   "source": [
    "# Generazione hash\n",
    "data = ah_ref[\"256B\"]\n",
    "\n",
    "print_data(data)"
   ]
  },
  {
   "attachments": {},
   "cell_type": "markdown",
   "metadata": {},
   "source": [
    "#### PT 512 byte"
   ]
  },
  {
   "cell_type": "code",
   "execution_count": 52,
   "metadata": {},
   "outputs": [
    {
     "name": "stdout",
     "output_type": "stream",
     "text": [
      "512B\n",
      "4226    799\n",
      "4227    200\n",
      "4229      1\n",
      "Name: count, dtype: int64\n",
      "\n",
      "Massimo: 4229\n",
      "Minimo: 4226\n",
      "Media: 4226.203\n",
      "Varianza: 0.16795895895895896\n"
     ]
    }
   ],
   "source": [
    "# Generazione hash\n",
    "data = ah_ref[\"512B\"]\n",
    "\n",
    "print_data(data)"
   ]
  },
  {
   "attachments": {},
   "cell_type": "markdown",
   "metadata": {},
   "source": [
    "#### PT 1024 byte"
   ]
  },
  {
   "cell_type": "code",
   "execution_count": 53,
   "metadata": {},
   "outputs": [
    {
     "name": "stdout",
     "output_type": "stream",
     "text": [
      "1024B\n",
      "8151    877\n",
      "8152    121\n",
      "8153      2\n",
      "Name: count, dtype: int64\n",
      "\n",
      "Massimo: 8153\n",
      "Minimo: 8151\n",
      "Media: 8151.125\n",
      "Varianza: 0.11348848848848848\n"
     ]
    }
   ],
   "source": [
    "# Generazione hash\n",
    "data = ah_ref[\"1024B\"]\n",
    "\n",
    "print_data(data)"
   ]
  }
 ],
 "metadata": {
  "kernelspec": {
   "display_name": "Python 3",
   "language": "python",
   "name": "python3"
  },
  "language_info": {
   "codemirror_mode": {
    "name": "ipython",
    "version": 3
   },
   "file_extension": ".py",
   "mimetype": "text/x-python",
   "name": "python",
   "nbconvert_exporter": "python",
   "pygments_lexer": "ipython3",
   "version": "3.11.2"
  },
  "orig_nbformat": 4
 },
 "nbformat": 4,
 "nbformat_minor": 2
}
