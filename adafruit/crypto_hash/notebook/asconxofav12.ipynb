{
 "cells": [
  {
   "attachments": {},
   "cell_type": "markdown",
   "metadata": {},
   "source": [
    "# Analisi dei dati raccolti"
   ]
  },
  {
   "attachments": {},
   "cell_type": "markdown",
   "metadata": {},
   "source": [
    "## Setup"
   ]
  },
  {
   "cell_type": "code",
   "execution_count": 1,
   "metadata": {},
   "outputs": [],
   "source": [
    "import pandas as pd"
   ]
  },
  {
   "cell_type": "code",
   "execution_count": 2,
   "metadata": {},
   "outputs": [],
   "source": [
    "def print_data(series: pd.Series) -> None:\n",
    "    print(series.value_counts())\n",
    "    print()\n",
    "    print(f\"Massimo: {series.max()}\\nMinimo: {series.min()}\\nMedia: {series.mean()}\\nVarianza: {series.var()}\")"
   ]
  },
  {
   "attachments": {},
   "cell_type": "markdown",
   "metadata": {},
   "source": [
    "## Asconxofav12"
   ]
  },
  {
   "cell_type": "code",
   "execution_count": 3,
   "metadata": {},
   "outputs": [],
   "source": [
    "path = \"../asconxofav12/data/{}.csv\""
   ]
  },
  {
   "attachments": {},
   "cell_type": "markdown",
   "metadata": {},
   "source": [
    "### Armv6m"
   ]
  },
  {
   "cell_type": "code",
   "execution_count": 4,
   "metadata": {},
   "outputs": [],
   "source": [
    "with open(path.format(\"armv6m\"), \"r\") as f:\n",
    "    axofa_armv6m = pd.read_csv(f, delimiter=\";\")"
   ]
  },
  {
   "attachments": {},
   "cell_type": "markdown",
   "metadata": {},
   "source": [
    "#### PT vuoto"
   ]
  },
  {
   "cell_type": "code",
   "execution_count": 5,
   "metadata": {},
   "outputs": [
    {
     "name": "stdout",
     "output_type": "stream",
     "text": [
      "0B\n",
      "185    503\n",
      "187    211\n",
      "192    181\n",
      "193     57\n",
      "186     35\n",
      "184     12\n",
      "188      1\n",
      "Name: count, dtype: int64\n",
      "\n",
      "Massimo: 193\n",
      "Minimo: 184\n",
      "Media: 187.171\n",
      "Varianza: 8.71247147147147\n"
     ]
    }
   ],
   "source": [
    "# Generazione hash\n",
    "data = axofa_armv6m[\"0B\"]\n",
    "\n",
    "print_data(data)"
   ]
  },
  {
   "attachments": {},
   "cell_type": "markdown",
   "metadata": {},
   "source": [
    "#### PT 8 byte"
   ]
  },
  {
   "cell_type": "code",
   "execution_count": 6,
   "metadata": {},
   "outputs": [
    {
     "name": "stdout",
     "output_type": "stream",
     "text": [
      "8B\n",
      "222    635\n",
      "224    172\n",
      "229     80\n",
      "223     67\n",
      "230     38\n",
      "231      5\n",
      "232      2\n",
      "225      1\n",
      "Name: count, dtype: int64\n",
      "\n",
      "Massimo: 232\n",
      "Minimo: 222\n",
      "Media: 223.343\n",
      "Varianza: 5.923274274274273\n"
     ]
    }
   ],
   "source": [
    "# Generazione hash\n",
    "data = axofa_armv6m[\"8B\"]\n",
    "\n",
    "print_data(data)"
   ]
  },
  {
   "attachments": {},
   "cell_type": "markdown",
   "metadata": {},
   "source": [
    "#### PT 16 byte"
   ]
  },
  {
   "cell_type": "code",
   "execution_count": 7,
   "metadata": {},
   "outputs": [
    {
     "name": "stdout",
     "output_type": "stream",
     "text": [
      "16B\n",
      "259    557\n",
      "261    124\n",
      "260    111\n",
      "266    106\n",
      "267     70\n",
      "262     14\n",
      "268     13\n",
      "269      5\n",
      "Name: count, dtype: int64\n",
      "\n",
      "Massimo: 269\n",
      "Minimo: 259\n",
      "Media: 260.87\n",
      "Varianza: 8.471571571571568\n"
     ]
    }
   ],
   "source": [
    "# Generazione hash\n",
    "data = axofa_armv6m[\"16B\"]\n",
    "\n",
    "print_data(data)"
   ]
  },
  {
   "attachments": {},
   "cell_type": "markdown",
   "metadata": {},
   "source": [
    "#### PT 32 byte"
   ]
  },
  {
   "cell_type": "code",
   "execution_count": 8,
   "metadata": {},
   "outputs": [
    {
     "name": "stdout",
     "output_type": "stream",
     "text": [
      "32B\n",
      "333    170\n",
      "342    166\n",
      "341    157\n",
      "343    139\n",
      "334    114\n",
      "335    106\n",
      "340    101\n",
      "336     42\n",
      "344      4\n",
      "337      1\n",
      "Name: count, dtype: int64\n",
      "\n",
      "Massimo: 344\n",
      "Minimo: 333\n",
      "Media: 338.347\n",
      "Varianza: 15.183774774774776\n"
     ]
    }
   ],
   "source": [
    "# Generazione hash\n",
    "data = axofa_armv6m[\"32B\"]\n",
    "\n",
    "print_data(data)"
   ]
  },
  {
   "attachments": {},
   "cell_type": "markdown",
   "metadata": {},
   "source": [
    "#### PT 64 byte"
   ]
  },
  {
   "cell_type": "code",
   "execution_count": 9,
   "metadata": {},
   "outputs": [
    {
     "name": "stdout",
     "output_type": "stream",
     "text": [
      "64B\n",
      "484    278\n",
      "491    251\n",
      "482    157\n",
      "489    124\n",
      "483    114\n",
      "490     39\n",
      "481     25\n",
      "492     12\n",
      "Name: count, dtype: int64\n",
      "\n",
      "Massimo: 492\n",
      "Minimo: 481\n",
      "Media: 486.204\n",
      "Varianza: 13.69407807807808\n"
     ]
    }
   ],
   "source": [
    "# Generazione hash\n",
    "data = axofa_armv6m[\"64B\"]\n",
    "\n",
    "print_data(data)"
   ]
  },
  {
   "attachments": {},
   "cell_type": "markdown",
   "metadata": {},
   "source": [
    "#### PT 128 byte"
   ]
  },
  {
   "cell_type": "code",
   "execution_count": 10,
   "metadata": {},
   "outputs": [
    {
     "name": "stdout",
     "output_type": "stream",
     "text": [
      "128B\n",
      "788    524\n",
      "787    214\n",
      "786     89\n",
      "781     75\n",
      "780     52\n",
      "789     20\n",
      "785     13\n",
      "779      7\n",
      "778      6\n",
      "Name: count, dtype: int64\n",
      "\n",
      "Massimo: 789\n",
      "Minimo: 778\n",
      "Media: 786.525\n",
      "Varianza: 6.708083083083083\n"
     ]
    }
   ],
   "source": [
    "# Generazione hash\n",
    "data = axofa_armv6m[\"128B\"]\n",
    "\n",
    "print_data(data)"
   ]
  },
  {
   "attachments": {},
   "cell_type": "markdown",
   "metadata": {},
   "source": [
    "#### PT 256 byte"
   ]
  },
  {
   "cell_type": "code",
   "execution_count": 11,
   "metadata": {},
   "outputs": [
    {
     "name": "stdout",
     "output_type": "stream",
     "text": [
      "256B\n",
      "1383    260\n",
      "1384    134\n",
      "1391    128\n",
      "1381    120\n",
      "1390    112\n",
      "1382     97\n",
      "1389     90\n",
      "1388     56\n",
      "1392      2\n",
      "1385      1\n",
      "Name: count, dtype: int64\n",
      "\n",
      "Massimo: 1392\n",
      "Minimo: 1381\n",
      "Media: 1385.445\n",
      "Varianza: 13.232207207207209\n"
     ]
    }
   ],
   "source": [
    "# Generazione hash\n",
    "data = axofa_armv6m[\"256B\"]\n",
    "\n",
    "print_data(data)"
   ]
  },
  {
   "attachments": {},
   "cell_type": "markdown",
   "metadata": {},
   "source": [
    "#### PT 512 byte"
   ]
  },
  {
   "cell_type": "code",
   "execution_count": 12,
   "metadata": {},
   "outputs": [
    {
     "name": "stdout",
     "output_type": "stream",
     "text": [
      "512B\n",
      "2587    305\n",
      "2580    266\n",
      "2579    108\n",
      "2585     92\n",
      "2578     81\n",
      "2586     64\n",
      "2588     29\n",
      "2581     27\n",
      "2577     27\n",
      "2584      1\n",
      "Name: count, dtype: int64\n",
      "\n",
      "Massimo: 2588\n",
      "Minimo: 2577\n",
      "Media: 2582.891\n",
      "Varianza: 13.7788978978979\n"
     ]
    }
   ],
   "source": [
    "# Generazione hash\n",
    "data = axofa_armv6m[\"512B\"]\n",
    "\n",
    "print_data(data)"
   ]
  },
  {
   "attachments": {},
   "cell_type": "markdown",
   "metadata": {},
   "source": [
    "#### PT 1024 byte"
   ]
  },
  {
   "cell_type": "code",
   "execution_count": 13,
   "metadata": {},
   "outputs": [
    {
     "name": "stdout",
     "output_type": "stream",
     "text": [
      "1024B\n",
      "4980    656\n",
      "4979    197\n",
      "4981    103\n",
      "4973     25\n",
      "4972     11\n",
      "4978      8\n",
      "Name: count, dtype: int64\n",
      "\n",
      "Massimo: 4981\n",
      "Minimo: 4972\n",
      "Media: 4979.627\n",
      "Varianza: 2.123994994994996\n"
     ]
    }
   ],
   "source": [
    "# Generazione hash\n",
    "data = axofa_armv6m[\"1024B\"]\n",
    "\n",
    "print_data(data)"
   ]
  },
  {
   "attachments": {},
   "cell_type": "markdown",
   "metadata": {},
   "source": [
    "### Armv6m_lowsize"
   ]
  },
  {
   "cell_type": "code",
   "execution_count": 14,
   "metadata": {},
   "outputs": [],
   "source": [
    "with open(path.format(\"armv6m_lowsize\"), \"r\") as f:\n",
    "    axofa_lowsize = pd.read_csv(f, delimiter=\";\")"
   ]
  },
  {
   "attachments": {},
   "cell_type": "markdown",
   "metadata": {},
   "source": [
    "#### PT vuoto"
   ]
  },
  {
   "cell_type": "code",
   "execution_count": 15,
   "metadata": {},
   "outputs": [
    {
     "name": "stdout",
     "output_type": "stream",
     "text": [
      "0B\n",
      "188    475\n",
      "187    318\n",
      "197     83\n",
      "196     46\n",
      "189     28\n",
      "195     22\n",
      "190     19\n",
      "198      5\n",
      "194      4\n",
      "Name: count, dtype: int64\n",
      "\n",
      "Massimo: 198\n",
      "Minimo: 187\n",
      "Media: 189.091\n",
      "Varianza: 10.63135035035035\n"
     ]
    }
   ],
   "source": [
    "# Generazione hash\n",
    "data = axofa_lowsize[\"0B\"]\n",
    "\n",
    "print_data(data)"
   ]
  },
  {
   "attachments": {},
   "cell_type": "markdown",
   "metadata": {},
   "source": [
    "#### PT 8 byte"
   ]
  },
  {
   "cell_type": "code",
   "execution_count": 16,
   "metadata": {},
   "outputs": [
    {
     "name": "stdout",
     "output_type": "stream",
     "text": [
      "8B\n",
      "226    481\n",
      "225    252\n",
      "235    139\n",
      "234     52\n",
      "233     29\n",
      "228     22\n",
      "227     16\n",
      "232      5\n",
      "236      4\n",
      "Name: count, dtype: int64\n",
      "\n",
      "Massimo: 236\n",
      "Minimo: 225\n",
      "Media: 227.748\n",
      "Varianza: 13.902398398398395\n"
     ]
    }
   ],
   "source": [
    "# Generazione hash\n",
    "data = axofa_lowsize[\"8B\"]\n",
    "\n",
    "print_data(data)"
   ]
  },
  {
   "attachments": {},
   "cell_type": "markdown",
   "metadata": {},
   "source": [
    "#### PT 16 byte"
   ]
  },
  {
   "cell_type": "code",
   "execution_count": 17,
   "metadata": {},
   "outputs": [
    {
     "name": "stdout",
     "output_type": "stream",
     "text": [
      "16B\n",
      "264    515\n",
      "263    209\n",
      "273    143\n",
      "272     47\n",
      "271     31\n",
      "266     30\n",
      "265     18\n",
      "274      6\n",
      "270      1\n",
      "Name: count, dtype: int64\n",
      "\n",
      "Massimo: 274\n",
      "Minimo: 263\n",
      "Media: 265.815\n",
      "Varianza: 13.812587587587585\n"
     ]
    }
   ],
   "source": [
    "# Generazione hash\n",
    "data = axofa_lowsize[\"16B\"]\n",
    "\n",
    "print_data(data)"
   ]
  },
  {
   "attachments": {},
   "cell_type": "markdown",
   "metadata": {},
   "source": [
    "#### PT 32 byte"
   ]
  },
  {
   "cell_type": "code",
   "execution_count": 18,
   "metadata": {},
   "outputs": [
    {
     "name": "stdout",
     "output_type": "stream",
     "text": [
      "32B\n",
      "340    551\n",
      "349    256\n",
      "339     98\n",
      "347     31\n",
      "342     26\n",
      "348     23\n",
      "350     11\n",
      "341      4\n",
      "Name: count, dtype: int64\n",
      "\n",
      "Massimo: 350\n",
      "Minimo: 339\n",
      "Media: 342.773\n",
      "Varianza: 17.360831831831835\n"
     ]
    }
   ],
   "source": [
    "# Generazione hash\n",
    "data = axofa_lowsize[\"32B\"]\n",
    "\n",
    "print_data(data)"
   ]
  },
  {
   "attachments": {},
   "cell_type": "markdown",
   "metadata": {},
   "source": [
    "#### PT 64 byte"
   ]
  },
  {
   "cell_type": "code",
   "execution_count": 19,
   "metadata": {},
   "outputs": [
    {
     "name": "stdout",
     "output_type": "stream",
     "text": [
      "64B\n",
      "492    421\n",
      "501    373\n",
      "502     96\n",
      "493     51\n",
      "494     39\n",
      "499     13\n",
      "500      6\n",
      "495      1\n",
      "Name: count, dtype: int64\n",
      "\n",
      "Massimo: 502\n",
      "Minimo: 492\n",
      "Media: 496.588\n",
      "Varianza: 20.020276276276274\n"
     ]
    }
   ],
   "source": [
    "# Generazione hash\n",
    "data = axofa_lowsize[\"64B\"]\n",
    "\n",
    "print_data(data)"
   ]
  },
  {
   "attachments": {},
   "cell_type": "markdown",
   "metadata": {},
   "source": [
    "#### PT 128 byte"
   ]
  },
  {
   "cell_type": "code",
   "execution_count": 20,
   "metadata": {},
   "outputs": [
    {
     "name": "stdout",
     "output_type": "stream",
     "text": [
      "128B\n",
      "806    484\n",
      "805    241\n",
      "797    102\n",
      "796     87\n",
      "798     29\n",
      "807     23\n",
      "799     18\n",
      "804     11\n",
      "803      5\n",
      "Name: count, dtype: int64\n",
      "\n",
      "Massimo: 807\n",
      "Minimo: 796\n",
      "Media: 803.599\n",
      "Varianza: 14.302501501501503\n"
     ]
    }
   ],
   "source": [
    "# Generazione hash\n",
    "data = axofa_lowsize[\"128B\"]\n",
    "\n",
    "print_data(data)"
   ]
  },
  {
   "attachments": {},
   "cell_type": "markdown",
   "metadata": {},
   "source": [
    "#### PT 256 byte"
   ]
  },
  {
   "cell_type": "code",
   "execution_count": 21,
   "metadata": {},
   "outputs": [
    {
     "name": "stdout",
     "output_type": "stream",
     "text": [
      "256B\n",
      "1415    333\n",
      "1424    281\n",
      "1414    188\n",
      "1423     97\n",
      "1416     41\n",
      "1417     30\n",
      "1422     15\n",
      "1425     14\n",
      "1418      1\n",
      "Name: count, dtype: int64\n",
      "\n",
      "Massimo: 1425\n",
      "Minimo: 1414\n",
      "Media: 1418.466\n",
      "Varianza: 19.468312312312314\n"
     ]
    }
   ],
   "source": [
    "# Generazione hash\n",
    "data = axofa_lowsize[\"256B\"]\n",
    "\n",
    "print_data(data)"
   ]
  },
  {
   "attachments": {},
   "cell_type": "markdown",
   "metadata": {},
   "source": [
    "#### PT 512 byte"
   ]
  },
  {
   "cell_type": "code",
   "execution_count": 22,
   "metadata": {},
   "outputs": [
    {
     "name": "stdout",
     "output_type": "stream",
     "text": [
      "512B\n",
      "2651    495\n",
      "2642    184\n",
      "2650    103\n",
      "2641     68\n",
      "2652     67\n",
      "2649     45\n",
      "2643     23\n",
      "2644     12\n",
      "2648      3\n",
      "Name: count, dtype: int64\n",
      "\n",
      "Massimo: 2652\n",
      "Minimo: 2641\n",
      "Media: 2648.261\n",
      "Varianza: 16.655534534534535\n"
     ]
    }
   ],
   "source": [
    "# Generazione hash\n",
    "data = axofa_lowsize[\"512B\"]\n",
    "\n",
    "print_data(data)"
   ]
  },
  {
   "attachments": {},
   "cell_type": "markdown",
   "metadata": {},
   "source": [
    "#### PT 1024 byte"
   ]
  },
  {
   "cell_type": "code",
   "execution_count": 23,
   "metadata": {},
   "outputs": [
    {
     "name": "stdout",
     "output_type": "stream",
     "text": [
      "1024B\n",
      "5105    622\n",
      "5106    184\n",
      "5114     45\n",
      "5104     39\n",
      "5107     34\n",
      "5115     20\n",
      "5112     19\n",
      "5103     19\n",
      "5113     16\n",
      "5108      2\n",
      "Name: count, dtype: int64\n",
      "\n",
      "Massimo: 5115\n",
      "Minimo: 5103\n",
      "Media: 5106.047\n",
      "Varianza: 6.963754754754756\n"
     ]
    }
   ],
   "source": [
    "# Generazione hash\n",
    "data = axofa_lowsize[\"1024B\"]\n",
    "\n",
    "print_data(data)"
   ]
  },
  {
   "attachments": {},
   "cell_type": "markdown",
   "metadata": {},
   "source": [
    "### Bi32_armv6m"
   ]
  },
  {
   "cell_type": "code",
   "execution_count": 24,
   "metadata": {},
   "outputs": [],
   "source": [
    "with open(path.format(\"bi32_armv6m\"), \"r\") as f:\n",
    "    axofa_bi32 = pd.read_csv(f, delimiter=\";\")"
   ]
  },
  {
   "attachments": {},
   "cell_type": "markdown",
   "metadata": {},
   "source": [
    "#### PT vuoto"
   ]
  },
  {
   "cell_type": "code",
   "execution_count": 25,
   "metadata": {},
   "outputs": [
    {
     "name": "stdout",
     "output_type": "stream",
     "text": [
      "0B\n",
      "191    519\n",
      "193    179\n",
      "192    119\n",
      "198     94\n",
      "199     63\n",
      "194     24\n",
      "200      2\n",
      "Name: count, dtype: int64\n",
      "\n",
      "Massimo: 200\n",
      "Minimo: 191\n",
      "Media: 192.729\n",
      "Varianza: 6.868427427427428\n"
     ]
    }
   ],
   "source": [
    "# Generazione hash\n",
    "data = axofa_bi32[\"0B\"]\n",
    "\n",
    "print_data(data)"
   ]
  },
  {
   "attachments": {},
   "cell_type": "markdown",
   "metadata": {},
   "source": [
    "#### PT 8 byte"
   ]
  },
  {
   "cell_type": "code",
   "execution_count": 26,
   "metadata": {},
   "outputs": [
    {
     "name": "stdout",
     "output_type": "stream",
     "text": [
      "8B\n",
      "229    380\n",
      "230    157\n",
      "237    149\n",
      "231    142\n",
      "236    100\n",
      "232     67\n",
      "238      5\n",
      "Name: count, dtype: int64\n",
      "\n",
      "Massimo: 238\n",
      "Minimo: 229\n",
      "Media: 231.579\n",
      "Varianza: 9.527286286286284\n"
     ]
    }
   ],
   "source": [
    "# Generazione hash\n",
    "data = axofa_bi32[\"8B\"]\n",
    "\n",
    "print_data(data)"
   ]
  },
  {
   "attachments": {},
   "cell_type": "markdown",
   "metadata": {},
   "source": [
    "#### PT 16 byte"
   ]
  },
  {
   "cell_type": "code",
   "execution_count": 27,
   "metadata": {},
   "outputs": [
    {
     "name": "stdout",
     "output_type": "stream",
     "text": [
      "16B\n",
      "268    265\n",
      "267    256\n",
      "269    166\n",
      "275    135\n",
      "270    115\n",
      "274     55\n",
      "276      7\n",
      "271      1\n",
      "Name: count, dtype: int64\n",
      "\n",
      "Massimo: 276\n",
      "Minimo: 267\n",
      "Media: 269.474\n",
      "Varianza: 7.769093093093093\n"
     ]
    }
   ],
   "source": [
    "# Generazione hash\n",
    "data = axofa_bi32[\"16B\"]\n",
    "\n",
    "print_data(data)"
   ]
  },
  {
   "attachments": {},
   "cell_type": "markdown",
   "metadata": {},
   "source": [
    "#### PT 32 byte"
   ]
  },
  {
   "cell_type": "code",
   "execution_count": 28,
   "metadata": {},
   "outputs": [
    {
     "name": "stdout",
     "output_type": "stream",
     "text": [
      "32B\n",
      "351    359\n",
      "346    257\n",
      "344    215\n",
      "345     88\n",
      "352     46\n",
      "343     34\n",
      "347      1\n",
      "Name: count, dtype: int64\n",
      "\n",
      "Massimo: 352\n",
      "Minimo: 343\n",
      "Media: 347.452\n",
      "Varianza: 9.787483483483483\n"
     ]
    }
   ],
   "source": [
    "# Generazione hash\n",
    "data = axofa_bi32[\"32B\"]\n",
    "\n",
    "print_data(data)"
   ]
  },
  {
   "attachments": {},
   "cell_type": "markdown",
   "metadata": {},
   "source": [
    "#### PT 64 byte"
   ]
  },
  {
   "cell_type": "code",
   "execution_count": 29,
   "metadata": {},
   "outputs": [
    {
     "name": "stdout",
     "output_type": "stream",
     "text": [
      "64B\n",
      "504    314\n",
      "498    232\n",
      "499    169\n",
      "503    136\n",
      "506     47\n",
      "505     40\n",
      "496     30\n",
      "497     28\n",
      "507      4\n",
      "Name: count, dtype: int64\n",
      "\n",
      "Massimo: 507\n",
      "Minimo: 496\n",
      "Media: 501.337\n",
      "Varianza: 9.186617617617618\n"
     ]
    }
   ],
   "source": [
    "# Generazione hash\n",
    "data = axofa_bi32[\"64B\"]\n",
    "\n",
    "print_data(data)"
   ]
  },
  {
   "attachments": {},
   "cell_type": "markdown",
   "metadata": {},
   "source": [
    "#### PT 128 byte"
   ]
  },
  {
   "cell_type": "code",
   "execution_count": 30,
   "metadata": {},
   "outputs": [
    {
     "name": "stdout",
     "output_type": "stream",
     "text": [
      "128B\n",
      "811    531\n",
      "804    179\n",
      "809    174\n",
      "803     54\n",
      "810     31\n",
      "812     31\n",
      "Name: count, dtype: int64\n",
      "\n",
      "Massimo: 812\n",
      "Minimo: 803\n",
      "Media: 808.967\n",
      "Varianza: 8.860771771771772\n"
     ]
    }
   ],
   "source": [
    "# Generazione hash\n",
    "data = axofa_bi32[\"128B\"]\n",
    "\n",
    "print_data(data)"
   ]
  },
  {
   "attachments": {},
   "cell_type": "markdown",
   "metadata": {},
   "source": [
    "#### PT 256 byte"
   ]
  },
  {
   "cell_type": "code",
   "execution_count": 31,
   "metadata": {},
   "outputs": [
    {
     "name": "stdout",
     "output_type": "stream",
     "text": [
      "256B\n",
      "1429    381\n",
      "1424    241\n",
      "1423    149\n",
      "1422     88\n",
      "1428     52\n",
      "1421     38\n",
      "1430     35\n",
      "1425     13\n",
      "1432      2\n",
      "1431      1\n",
      "Name: count, dtype: int64\n",
      "\n",
      "Massimo: 1432\n",
      "Minimo: 1421\n",
      "Media: 1425.92\n",
      "Varianza: 8.97257257257257\n"
     ]
    }
   ],
   "source": [
    "# Generazione hash\n",
    "data = axofa_bi32[\"256B\"]\n",
    "\n",
    "print_data(data)"
   ]
  },
  {
   "attachments": {},
   "cell_type": "markdown",
   "metadata": {},
   "source": [
    "#### PT 512 byte"
   ]
  },
  {
   "cell_type": "code",
   "execution_count": 32,
   "metadata": {},
   "outputs": [
    {
     "name": "stdout",
     "output_type": "stream",
     "text": [
      "512B\n",
      "2654    226\n",
      "2661    203\n",
      "2660    188\n",
      "2659    179\n",
      "2662    152\n",
      "2655     45\n",
      "2663      7\n",
      "Name: count, dtype: int64\n",
      "\n",
      "Massimo: 2663\n",
      "Minimo: 2654\n",
      "Media: 2658.768\n",
      "Varianza: 8.804980980980984\n"
     ]
    }
   ],
   "source": [
    "# Generazione hash\n",
    "data = axofa_bi32[\"512B\"]\n",
    "\n",
    "print_data(data)"
   ]
  },
  {
   "attachments": {},
   "cell_type": "markdown",
   "metadata": {},
   "source": [
    "#### PT 1024 byte"
   ]
  },
  {
   "cell_type": "code",
   "execution_count": 33,
   "metadata": {},
   "outputs": [
    {
     "name": "stdout",
     "output_type": "stream",
     "text": [
      "1024B\n",
      "5122    365\n",
      "5123    343\n",
      "5130    102\n",
      "5124     77\n",
      "5129     51\n",
      "5125     43\n",
      "5131     18\n",
      "5126      1\n",
      "Name: count, dtype: int64\n",
      "\n",
      "Massimo: 5131\n",
      "Minimo: 5122\n",
      "Media: 5123.965\n",
      "Varianza: 7.68546046046046\n"
     ]
    }
   ],
   "source": [
    "# Generazione hash\n",
    "data = axofa_bi32[\"1024B\"]\n",
    "\n",
    "print_data(data)"
   ]
  },
  {
   "attachments": {},
   "cell_type": "markdown",
   "metadata": {},
   "source": [
    "### Ref"
   ]
  },
  {
   "cell_type": "code",
   "execution_count": 34,
   "metadata": {},
   "outputs": [],
   "source": [
    "with open(path.format(\"ref\"), \"r\") as f:\n",
    "    axofa_ref = pd.read_csv(f, delimiter=\";\")"
   ]
  },
  {
   "attachments": {},
   "cell_type": "markdown",
   "metadata": {},
   "source": [
    "#### PT vuoto"
   ]
  },
  {
   "cell_type": "code",
   "execution_count": 35,
   "metadata": {},
   "outputs": [
    {
     "name": "stdout",
     "output_type": "stream",
     "text": [
      "0B\n",
      "314    386\n",
      "316    341\n",
      "321    165\n",
      "322     81\n",
      "315     22\n",
      "317      5\n",
      "Name: count, dtype: int64\n",
      "\n",
      "Massimo: 322\n",
      "Minimo: 314\n",
      "Media: 316.522\n",
      "Varianza: 8.347863863863864\n"
     ]
    }
   ],
   "source": [
    "# Generazione hash\n",
    "data = axofa_ref[\"0B\"]\n",
    "\n",
    "print_data(data)"
   ]
  },
  {
   "attachments": {},
   "cell_type": "markdown",
   "metadata": {},
   "source": [
    "#### PT 8 byte"
   ]
  },
  {
   "cell_type": "code",
   "execution_count": 36,
   "metadata": {},
   "outputs": [
    {
     "name": "stdout",
     "output_type": "stream",
     "text": [
      "8B\n",
      "369    377\n",
      "367    331\n",
      "374    159\n",
      "375     91\n",
      "368     25\n",
      "376     10\n",
      "377      5\n",
      "370      2\n",
      "Name: count, dtype: int64\n",
      "\n",
      "Massimo: 377\n",
      "Minimo: 367\n",
      "Media: 369.766\n",
      "Varianza: 8.83407807807808\n"
     ]
    }
   ],
   "source": [
    "# Generazione hash\n",
    "data = axofa_ref[\"8B\"]\n",
    "\n",
    "print_data(data)"
   ]
  },
  {
   "attachments": {},
   "cell_type": "markdown",
   "metadata": {},
   "source": [
    "#### PT 16 byte"
   ]
  },
  {
   "cell_type": "code",
   "execution_count": 37,
   "metadata": {},
   "outputs": [
    {
     "name": "stdout",
     "output_type": "stream",
     "text": [
      "16B\n",
      "422    301\n",
      "427    272\n",
      "420    155\n",
      "428    153\n",
      "429     63\n",
      "430     22\n",
      "421     20\n",
      "423     13\n",
      "431      1\n",
      "Name: count, dtype: int64\n",
      "\n",
      "Massimo: 431\n",
      "Minimo: 420\n",
      "Media: 424.587\n",
      "Varianza: 10.855286286286287\n"
     ]
    }
   ],
   "source": [
    "# Generazione hash\n",
    "data = axofa_ref[\"16B\"]\n",
    "\n",
    "print_data(data)"
   ]
  },
  {
   "attachments": {},
   "cell_type": "markdown",
   "metadata": {},
   "source": [
    "#### PT 32 byte"
   ]
  },
  {
   "cell_type": "code",
   "execution_count": 38,
   "metadata": {},
   "outputs": [
    {
     "name": "stdout",
     "output_type": "stream",
     "text": [
      "32B\n",
      "528    365\n",
      "533    252\n",
      "534    157\n",
      "535     98\n",
      "536     47\n",
      "526     39\n",
      "529     36\n",
      "527      6\n",
      "Name: count, dtype: int64\n",
      "\n",
      "Massimo: 536\n",
      "Minimo: 526\n",
      "Media: 531.216\n",
      "Varianza: 9.62697097097097\n"
     ]
    }
   ],
   "source": [
    "# Generazione hash\n",
    "data = axofa_ref[\"32B\"]\n",
    "\n",
    "print_data(data)"
   ]
  },
  {
   "attachments": {},
   "cell_type": "markdown",
   "metadata": {},
   "source": [
    "#### PT 64 byte"
   ]
  },
  {
   "cell_type": "code",
   "execution_count": 39,
   "metadata": {},
   "outputs": [
    {
     "name": "stdout",
     "output_type": "stream",
     "text": [
      "64B\n",
      "747    276\n",
      "748    207\n",
      "740    179\n",
      "745    162\n",
      "746    127\n",
      "741     45\n",
      "749      4\n",
      "Name: count, dtype: int64\n",
      "\n",
      "Massimo: 749\n",
      "Minimo: 740\n",
      "Media: 745.241\n",
      "Varianza: 8.303222222222221\n"
     ]
    }
   ],
   "source": [
    "# Generazione hash\n",
    "data = axofa_ref[\"64B\"]\n",
    "\n",
    "print_data(data)"
   ]
  },
  {
   "attachments": {},
   "cell_type": "markdown",
   "metadata": {},
   "source": [
    "#### PT 128 byte"
   ]
  },
  {
   "cell_type": "code",
   "execution_count": 40,
   "metadata": {},
   "outputs": [
    {
     "name": "stdout",
     "output_type": "stream",
     "text": [
      "128B\n",
      "1172    352\n",
      "1171    273\n",
      "1179    149\n",
      "1174     92\n",
      "1173     81\n",
      "1178     32\n",
      "1180     14\n",
      "1175      7\n",
      "Name: count, dtype: int64\n",
      "\n",
      "Massimo: 1180\n",
      "Minimo: 1171\n",
      "Media: 1173.36\n",
      "Varianza: 8.292692692692691\n"
     ]
    }
   ],
   "source": [
    "# Generazione hash\n",
    "data = axofa_ref[\"128B\"]\n",
    "\n",
    "print_data(data)"
   ]
  },
  {
   "attachments": {},
   "cell_type": "markdown",
   "metadata": {},
   "source": [
    "#### PT 256 byte"
   ]
  },
  {
   "cell_type": "code",
   "execution_count": 41,
   "metadata": {},
   "outputs": [
    {
     "name": "stdout",
     "output_type": "stream",
     "text": [
      "256B\n",
      "2029    830\n",
      "2030    136\n",
      "2031     25\n",
      "2032      5\n",
      "2036      2\n",
      "2028      1\n",
      "2037      1\n",
      "Name: count, dtype: int64\n",
      "\n",
      "Massimo: 2037\n",
      "Minimo: 2028\n",
      "Media: 2029.222\n",
      "Varianza: 0.39511111111111125\n"
     ]
    }
   ],
   "source": [
    "# Generazione hash\n",
    "data = axofa_ref[\"256B\"]\n",
    "\n",
    "print_data(data)"
   ]
  },
  {
   "attachments": {},
   "cell_type": "markdown",
   "metadata": {},
   "source": [
    "#### PT 512 byte"
   ]
  },
  {
   "cell_type": "code",
   "execution_count": 42,
   "metadata": {},
   "outputs": [
    {
     "name": "stdout",
     "output_type": "stream",
     "text": [
      "512B\n",
      "3744    346\n",
      "3742    206\n",
      "3737    179\n",
      "3745    117\n",
      "3743     99\n",
      "3736     31\n",
      "3738     21\n",
      "3746      1\n",
      "Name: count, dtype: int64\n",
      "\n",
      "Massimo: 3746\n",
      "Minimo: 3736\n",
      "Media: 3741.981\n",
      "Varianza: 8.487126126126128\n"
     ]
    }
   ],
   "source": [
    "# Generazione hash\n",
    "data = axofa_ref[\"512B\"]\n",
    "\n",
    "print_data(data)"
   ]
  },
  {
   "attachments": {},
   "cell_type": "markdown",
   "metadata": {},
   "source": [
    "#### PT 1024 byte"
   ]
  },
  {
   "cell_type": "code",
   "execution_count": 43,
   "metadata": {},
   "outputs": [
    {
     "name": "stdout",
     "output_type": "stream",
     "text": [
      "1024B\n",
      "7165    418\n",
      "7166    212\n",
      "7172     98\n",
      "7173     90\n",
      "7167     82\n",
      "7164     55\n",
      "7168     44\n",
      "7169      1\n",
      "Name: count, dtype: int64\n",
      "\n",
      "Massimo: 7173\n",
      "Minimo: 7164\n",
      "Media: 7166.863\n",
      "Varianza: 8.106337337337337\n"
     ]
    }
   ],
   "source": [
    "# Generazione hash\n",
    "data = axofa_ref[\"1024B\"]\n",
    "\n",
    "print_data(data)"
   ]
  }
 ],
 "metadata": {
  "kernelspec": {
   "display_name": "Python 3",
   "language": "python",
   "name": "python3"
  },
  "language_info": {
   "codemirror_mode": {
    "name": "ipython",
    "version": 3
   },
   "file_extension": ".py",
   "mimetype": "text/x-python",
   "name": "python",
   "nbconvert_exporter": "python",
   "pygments_lexer": "ipython3",
   "version": "3.11.2"
  },
  "orig_nbformat": 4
 },
 "nbformat": 4,
 "nbformat_minor": 2
}
