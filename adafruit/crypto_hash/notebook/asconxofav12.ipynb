{
 "cells": [
  {
   "attachments": {},
   "cell_type": "markdown",
   "metadata": {},
   "source": [
    "# Analisi dei dati raccolti"
   ]
  },
  {
   "attachments": {},
   "cell_type": "markdown",
   "metadata": {},
   "source": [
    "## Setup"
   ]
  },
  {
   "cell_type": "code",
   "execution_count": 1,
   "metadata": {},
   "outputs": [],
   "source": [
    "import pandas as pd"
   ]
  },
  {
   "cell_type": "code",
   "execution_count": 2,
   "metadata": {},
   "outputs": [],
   "source": [
    "def print_data(series: pd.Series) -> None:\n",
    "    print(series.value_counts())\n",
    "    print()\n",
    "    print(f\"Massimo: {series.max()}\\nMinimo: {series.min()}\\nMedia: {series.mean()}\\nVarianza: {series.var()}\")"
   ]
  },
  {
   "attachments": {},
   "cell_type": "markdown",
   "metadata": {},
   "source": [
    "## Asconxofav12"
   ]
  },
  {
   "cell_type": "code",
   "execution_count": 3,
   "metadata": {},
   "outputs": [],
   "source": [
    "path = \"../asconxofav12/data/{}.csv\""
   ]
  },
  {
   "attachments": {},
   "cell_type": "markdown",
   "metadata": {},
   "source": [
    "### Armv7m"
   ]
  },
  {
   "cell_type": "code",
   "execution_count": 4,
   "metadata": {},
   "outputs": [],
   "source": [
    "with open(path.format(\"armv7m\"), \"r\") as f:\n",
    "    axofa_armv7m = pd.read_csv(f, delimiter=\";\")"
   ]
  },
  {
   "attachments": {},
   "cell_type": "markdown",
   "metadata": {},
   "source": [
    "#### PT vuoto"
   ]
  },
  {
   "cell_type": "code",
   "execution_count": 5,
   "metadata": {},
   "outputs": [
    {
     "name": "stdout",
     "output_type": "stream",
     "text": [
      "0B\n",
      "69    800\n",
      "70    199\n",
      "71      1\n",
      "Name: count, dtype: int64\n",
      "\n",
      "Massimo: 71\n",
      "Minimo: 69\n",
      "Media: 69.201\n",
      "Varianza: 0.16276176176176174\n"
     ]
    }
   ],
   "source": [
    "# Generazione hash\n",
    "data = axofa_armv7m[\"0B\"]\n",
    "\n",
    "print_data(data)"
   ]
  },
  {
   "attachments": {},
   "cell_type": "markdown",
   "metadata": {},
   "source": [
    "#### PT 8 byte"
   ]
  },
  {
   "cell_type": "code",
   "execution_count": 6,
   "metadata": {},
   "outputs": [
    {
     "name": "stdout",
     "output_type": "stream",
     "text": [
      "8B\n",
      "84    796\n",
      "85    199\n",
      "83      5\n",
      "Name: count, dtype: int64\n",
      "\n",
      "Massimo: 85\n",
      "Minimo: 83\n",
      "Media: 84.194\n",
      "Varianza: 0.16653053053053052\n"
     ]
    }
   ],
   "source": [
    "# Generazione hash\n",
    "data = axofa_armv7m[\"8B\"]\n",
    "\n",
    "print_data(data)"
   ]
  },
  {
   "attachments": {},
   "cell_type": "markdown",
   "metadata": {},
   "source": [
    "#### PT 16 byte"
   ]
  },
  {
   "cell_type": "code",
   "execution_count": 7,
   "metadata": {},
   "outputs": [
    {
     "name": "stdout",
     "output_type": "stream",
     "text": [
      "16B\n",
      "98    801\n",
      "99    199\n",
      "Name: count, dtype: int64\n",
      "\n",
      "Massimo: 99\n",
      "Minimo: 98\n",
      "Media: 98.199\n",
      "Varianza: 0.1595585585585586\n"
     ]
    }
   ],
   "source": [
    "# Generazione hash\n",
    "data = axofa_armv7m[\"16B\"]\n",
    "\n",
    "print_data(data)"
   ]
  },
  {
   "attachments": {},
   "cell_type": "markdown",
   "metadata": {},
   "source": [
    "#### PT 32 byte"
   ]
  },
  {
   "cell_type": "code",
   "execution_count": 8,
   "metadata": {},
   "outputs": [
    {
     "name": "stdout",
     "output_type": "stream",
     "text": [
      "32B\n",
      "126    801\n",
      "127    199\n",
      "Name: count, dtype: int64\n",
      "\n",
      "Massimo: 127\n",
      "Minimo: 126\n",
      "Media: 126.199\n",
      "Varianza: 0.1595585585585586\n"
     ]
    }
   ],
   "source": [
    "# Generazione hash\n",
    "data = axofa_armv7m[\"32B\"]\n",
    "\n",
    "print_data(data)"
   ]
  },
  {
   "attachments": {},
   "cell_type": "markdown",
   "metadata": {},
   "source": [
    "#### PT 64 byte"
   ]
  },
  {
   "cell_type": "code",
   "execution_count": 9,
   "metadata": {},
   "outputs": [
    {
     "name": "stdout",
     "output_type": "stream",
     "text": [
      "64B\n",
      "184    799\n",
      "185    199\n",
      "183      2\n",
      "Name: count, dtype: int64\n",
      "\n",
      "Massimo: 185\n",
      "Minimo: 183\n",
      "Media: 184.197\n",
      "Varianza: 0.16235335335335332\n"
     ]
    }
   ],
   "source": [
    "# Generazione hash\n",
    "data = axofa_armv7m[\"64B\"]\n",
    "\n",
    "print_data(data)"
   ]
  },
  {
   "attachments": {},
   "cell_type": "markdown",
   "metadata": {},
   "source": [
    "#### PT 128 byte"
   ]
  },
  {
   "cell_type": "code",
   "execution_count": 10,
   "metadata": {},
   "outputs": [
    {
     "name": "stdout",
     "output_type": "stream",
     "text": [
      "128B\n",
      "298    600\n",
      "299    399\n",
      "300      1\n",
      "Name: count, dtype: int64\n",
      "\n",
      "Massimo: 300\n",
      "Minimo: 298\n",
      "Media: 298.401\n",
      "Varianza: 0.24244144144144134\n"
     ]
    }
   ],
   "source": [
    "# Generazione hash\n",
    "data = axofa_armv7m[\"128B\"]\n",
    "\n",
    "print_data(data)"
   ]
  },
  {
   "attachments": {},
   "cell_type": "markdown",
   "metadata": {},
   "source": [
    "#### PT 256 byte"
   ]
  },
  {
   "cell_type": "code",
   "execution_count": 11,
   "metadata": {},
   "outputs": [
    {
     "name": "stdout",
     "output_type": "stream",
     "text": [
      "256B\n",
      "528    600\n",
      "527    398\n",
      "529      1\n",
      "526      1\n",
      "Name: count, dtype: int64\n",
      "\n",
      "Massimo: 529\n",
      "Minimo: 526\n",
      "Media: 527.601\n",
      "Varianza: 0.24404304304304308\n"
     ]
    }
   ],
   "source": [
    "# Generazione hash\n",
    "data = axofa_armv7m[\"256B\"]\n",
    "\n",
    "print_data(data)"
   ]
  },
  {
   "attachments": {},
   "cell_type": "markdown",
   "metadata": {},
   "source": [
    "#### PT 512 byte"
   ]
  },
  {
   "cell_type": "code",
   "execution_count": 12,
   "metadata": {},
   "outputs": [
    {
     "name": "stdout",
     "output_type": "stream",
     "text": [
      "512B\n",
      "987    997\n",
      "986      3\n",
      "Name: count, dtype: int64\n",
      "\n",
      "Massimo: 987\n",
      "Minimo: 986\n",
      "Media: 986.997\n",
      "Varianza: 0.0029939939939939942\n"
     ]
    }
   ],
   "source": [
    "# Generazione hash\n",
    "data = axofa_armv7m[\"512B\"]\n",
    "\n",
    "print_data(data)"
   ]
  },
  {
   "attachments": {},
   "cell_type": "markdown",
   "metadata": {},
   "source": [
    "#### PT 1024 byte"
   ]
  },
  {
   "cell_type": "code",
   "execution_count": 13,
   "metadata": {},
   "outputs": [
    {
     "name": "stdout",
     "output_type": "stream",
     "text": [
      "1024B\n",
      "1903    797\n",
      "1902    202\n",
      "1904      1\n",
      "Name: count, dtype: int64\n",
      "\n",
      "Massimo: 1904\n",
      "Minimo: 1902\n",
      "Media: 1902.799\n",
      "Varianza: 0.16276176176176174\n"
     ]
    }
   ],
   "source": [
    "# Generazione hash\n",
    "data = axofa_armv7m[\"1024B\"]\n",
    "\n",
    "print_data(data)"
   ]
  },
  {
   "attachments": {},
   "cell_type": "markdown",
   "metadata": {},
   "source": [
    "### Armv7m_lowsize"
   ]
  },
  {
   "cell_type": "code",
   "execution_count": 14,
   "metadata": {},
   "outputs": [],
   "source": [
    "with open(path.format(\"armv7m_lowsize\"), \"r\") as f:\n",
    "    axofa_lowsize = pd.read_csv(f, delimiter=\";\")"
   ]
  },
  {
   "attachments": {},
   "cell_type": "markdown",
   "metadata": {},
   "source": [
    "#### PT vuoto"
   ]
  },
  {
   "cell_type": "code",
   "execution_count": 15,
   "metadata": {},
   "outputs": [
    {
     "name": "stdout",
     "output_type": "stream",
     "text": [
      "0B\n",
      "56    799\n",
      "55    200\n",
      "57      1\n",
      "Name: count, dtype: int64\n",
      "\n",
      "Massimo: 57\n",
      "Minimo: 55\n",
      "Media: 55.801\n",
      "Varianza: 0.16156056056056062\n"
     ]
    }
   ],
   "source": [
    "# Generazione hash\n",
    "data = axofa_lowsize[\"0B\"]\n",
    "\n",
    "print_data(data)"
   ]
  },
  {
   "attachments": {},
   "cell_type": "markdown",
   "metadata": {},
   "source": [
    "#### PT 8 byte"
   ]
  },
  {
   "cell_type": "code",
   "execution_count": 16,
   "metadata": {},
   "outputs": [
    {
     "name": "stdout",
     "output_type": "stream",
     "text": [
      "8B\n",
      "67    798\n",
      "68    201\n",
      "69      1\n",
      "Name: count, dtype: int64\n",
      "\n",
      "Massimo: 69\n",
      "Minimo: 67\n",
      "Media: 67.203\n",
      "Varianza: 0.1639549549549549\n"
     ]
    }
   ],
   "source": [
    "# Generazione hash\n",
    "data = axofa_lowsize[\"8B\"]\n",
    "\n",
    "print_data(data)"
   ]
  },
  {
   "attachments": {},
   "cell_type": "markdown",
   "metadata": {},
   "source": [
    "#### PT 16 byte"
   ]
  },
  {
   "cell_type": "code",
   "execution_count": 17,
   "metadata": {},
   "outputs": [
    {
     "name": "stdout",
     "output_type": "stream",
     "text": [
      "16B\n",
      "79    801\n",
      "80    199\n",
      "Name: count, dtype: int64\n",
      "\n",
      "Massimo: 80\n",
      "Minimo: 79\n",
      "Media: 79.199\n",
      "Varianza: 0.1595585585585586\n"
     ]
    }
   ],
   "source": [
    "# Generazione hash\n",
    "data = axofa_lowsize[\"16B\"]\n",
    "\n",
    "print_data(data)"
   ]
  },
  {
   "attachments": {},
   "cell_type": "markdown",
   "metadata": {},
   "source": [
    "#### PT 32 byte"
   ]
  },
  {
   "cell_type": "code",
   "execution_count": 18,
   "metadata": {},
   "outputs": [
    {
     "name": "stdout",
     "output_type": "stream",
     "text": [
      "32B\n",
      "103    997\n",
      "102      3\n",
      "Name: count, dtype: int64\n",
      "\n",
      "Massimo: 103\n",
      "Minimo: 102\n",
      "Media: 102.997\n",
      "Varianza: 0.002993993993993996\n"
     ]
    }
   ],
   "source": [
    "# Generazione hash\n",
    "data = axofa_lowsize[\"32B\"]\n",
    "\n",
    "print_data(data)"
   ]
  },
  {
   "attachments": {},
   "cell_type": "markdown",
   "metadata": {},
   "source": [
    "#### PT 64 byte"
   ]
  },
  {
   "cell_type": "code",
   "execution_count": 19,
   "metadata": {},
   "outputs": [
    {
     "name": "stdout",
     "output_type": "stream",
     "text": [
      "64B\n",
      "149    799\n",
      "150    200\n",
      "151      1\n",
      "Name: count, dtype: int64\n",
      "\n",
      "Massimo: 151\n",
      "Minimo: 149\n",
      "Media: 149.202\n",
      "Varianza: 0.16335935935935933\n"
     ]
    }
   ],
   "source": [
    "# Generazione hash\n",
    "data = axofa_lowsize[\"64B\"]\n",
    "\n",
    "print_data(data)"
   ]
  },
  {
   "attachments": {},
   "cell_type": "markdown",
   "metadata": {},
   "source": [
    "#### PT 128 byte"
   ]
  },
  {
   "cell_type": "code",
   "execution_count": 20,
   "metadata": {},
   "outputs": [
    {
     "name": "stdout",
     "output_type": "stream",
     "text": [
      "128B\n",
      "243    599\n",
      "244    399\n",
      "242      1\n",
      "245      1\n",
      "Name: count, dtype: int64\n",
      "\n",
      "Massimo: 245\n",
      "Minimo: 242\n",
      "Media: 243.4\n",
      "Varianza: 0.24424424424424424\n"
     ]
    }
   ],
   "source": [
    "# Generazione hash\n",
    "data = axofa_lowsize[\"128B\"]\n",
    "\n",
    "print_data(data)"
   ]
  },
  {
   "attachments": {},
   "cell_type": "markdown",
   "metadata": {},
   "source": [
    "#### PT 256 byte"
   ]
  },
  {
   "cell_type": "code",
   "execution_count": 21,
   "metadata": {},
   "outputs": [
    {
     "name": "stdout",
     "output_type": "stream",
     "text": [
      "256B\n",
      "430    598\n",
      "431    402\n",
      "Name: count, dtype: int64\n",
      "\n",
      "Massimo: 431\n",
      "Minimo: 430\n",
      "Media: 430.402\n",
      "Varianza: 0.24063663663663665\n"
     ]
    }
   ],
   "source": [
    "# Generazione hash\n",
    "data = axofa_lowsize[\"256B\"]\n",
    "\n",
    "print_data(data)"
   ]
  },
  {
   "attachments": {},
   "cell_type": "markdown",
   "metadata": {},
   "source": [
    "#### PT 512 byte"
   ]
  },
  {
   "cell_type": "code",
   "execution_count": 22,
   "metadata": {},
   "outputs": [
    {
     "name": "stdout",
     "output_type": "stream",
     "text": [
      "512B\n",
      "805    799\n",
      "804    199\n",
      "806      1\n",
      "807      1\n",
      "Name: count, dtype: int64\n",
      "\n",
      "Massimo: 807\n",
      "Minimo: 804\n",
      "Media: 804.804\n",
      "Varianza: 0.16574974974974982\n"
     ]
    }
   ],
   "source": [
    "# Generazione hash\n",
    "data = axofa_lowsize[\"512B\"]\n",
    "\n",
    "print_data(data)"
   ]
  },
  {
   "attachments": {},
   "cell_type": "markdown",
   "metadata": {},
   "source": [
    "#### PT 1024 byte"
   ]
  },
  {
   "cell_type": "code",
   "execution_count": 23,
   "metadata": {},
   "outputs": [
    {
     "name": "stdout",
     "output_type": "stream",
     "text": [
      "1024B\n",
      "1556    597\n",
      "1554    400\n",
      "1555      2\n",
      "1557      1\n",
      "Name: count, dtype: int64\n",
      "\n",
      "Massimo: 1557\n",
      "Minimo: 1554\n",
      "Media: 1555.199\n",
      "Varianza: 0.9623613613613615\n"
     ]
    }
   ],
   "source": [
    "# Generazione hash\n",
    "data = axofa_lowsize[\"1024B\"]\n",
    "\n",
    "print_data(data)"
   ]
  },
  {
   "attachments": {},
   "cell_type": "markdown",
   "metadata": {},
   "source": [
    "### Armv7m_small"
   ]
  },
  {
   "cell_type": "code",
   "execution_count": 24,
   "metadata": {},
   "outputs": [],
   "source": [
    "with open(path.format(\"armv7m_small\"), \"r\") as f:\n",
    "    axofa_small = pd.read_csv(f, delimiter=\";\")"
   ]
  },
  {
   "cell_type": "markdown",
   "metadata": {},
   "source": [
    "#### PT vuoto"
   ]
  },
  {
   "cell_type": "code",
   "execution_count": 25,
   "metadata": {},
   "outputs": [
    {
     "name": "stdout",
     "output_type": "stream",
     "text": [
      "0B\n",
      "56    998\n",
      "55      1\n",
      "57      1\n",
      "Name: count, dtype: int64\n",
      "\n",
      "Massimo: 57\n",
      "Minimo: 55\n",
      "Media: 56.0\n",
      "Varianza: 0.002002002002002002\n"
     ]
    }
   ],
   "source": [
    "# Generazione hash\n",
    "data = axofa_small[\"0B\"]\n",
    "\n",
    "print_data(data)"
   ]
  },
  {
   "attachments": {},
   "cell_type": "markdown",
   "metadata": {},
   "source": [
    "#### PT 8 byte"
   ]
  },
  {
   "cell_type": "code",
   "execution_count": 26,
   "metadata": {},
   "outputs": [
    {
     "name": "stdout",
     "output_type": "stream",
     "text": [
      "8B\n",
      "68    799\n",
      "67    201\n",
      "Name: count, dtype: int64\n",
      "\n",
      "Massimo: 68\n",
      "Minimo: 67\n",
      "Media: 67.799\n",
      "Varianza: 0.16075975975975976\n"
     ]
    }
   ],
   "source": [
    "# Generazione hash\n",
    "data = axofa_small[\"8B\"]\n",
    "\n",
    "print_data(data)"
   ]
  },
  {
   "attachments": {},
   "cell_type": "markdown",
   "metadata": {},
   "source": [
    "#### PT 16 byte"
   ]
  },
  {
   "cell_type": "code",
   "execution_count": 27,
   "metadata": {},
   "outputs": [
    {
     "name": "stdout",
     "output_type": "stream",
     "text": [
      "16B\n",
      "79    801\n",
      "80    199\n",
      "Name: count, dtype: int64\n",
      "\n",
      "Massimo: 80\n",
      "Minimo: 79\n",
      "Media: 79.199\n",
      "Varianza: 0.1595585585585586\n"
     ]
    }
   ],
   "source": [
    "# Generazione hash\n",
    "data = axofa_small[\"16B\"]\n",
    "\n",
    "print_data(data)"
   ]
  },
  {
   "attachments": {},
   "cell_type": "markdown",
   "metadata": {},
   "source": [
    "#### PT 32 byte"
   ]
  },
  {
   "cell_type": "code",
   "execution_count": 28,
   "metadata": {},
   "outputs": [
    {
     "name": "stdout",
     "output_type": "stream",
     "text": [
      "32B\n",
      "103    998\n",
      "102      2\n",
      "Name: count, dtype: int64\n",
      "\n",
      "Massimo: 103\n",
      "Minimo: 102\n",
      "Media: 102.998\n",
      "Varianza: 0.001997997997997999\n"
     ]
    }
   ],
   "source": [
    "# Generazione hash\n",
    "data = axofa_small[\"32B\"]\n",
    "\n",
    "print_data(data)"
   ]
  },
  {
   "attachments": {},
   "cell_type": "markdown",
   "metadata": {},
   "source": [
    "#### PT 64 byte"
   ]
  },
  {
   "cell_type": "code",
   "execution_count": 29,
   "metadata": {},
   "outputs": [
    {
     "name": "stdout",
     "output_type": "stream",
     "text": [
      "64B\n",
      "149    797\n",
      "150    203\n",
      "Name: count, dtype: int64\n",
      "\n",
      "Massimo: 150\n",
      "Minimo: 149\n",
      "Media: 149.203\n",
      "Varianza: 0.1619529529529529\n"
     ]
    }
   ],
   "source": [
    "# Generazione hash\n",
    "data = axofa_small[\"64B\"]\n",
    "\n",
    "print_data(data)"
   ]
  },
  {
   "attachments": {},
   "cell_type": "markdown",
   "metadata": {},
   "source": [
    "#### PT 128 byte"
   ]
  },
  {
   "cell_type": "code",
   "execution_count": 30,
   "metadata": {},
   "outputs": [
    {
     "name": "stdout",
     "output_type": "stream",
     "text": [
      "128B\n",
      "243    599\n",
      "244    399\n",
      "245      2\n",
      "Name: count, dtype: int64\n",
      "\n",
      "Massimo: 245\n",
      "Minimo: 243\n",
      "Media: 243.403\n",
      "Varianza: 0.2448358358358358\n"
     ]
    }
   ],
   "source": [
    "# Generazione hash\n",
    "data = axofa_small[\"128B\"]\n",
    "\n",
    "print_data(data)"
   ]
  },
  {
   "attachments": {},
   "cell_type": "markdown",
   "metadata": {},
   "source": [
    "#### PT 256 byte"
   ]
  },
  {
   "cell_type": "code",
   "execution_count": 31,
   "metadata": {},
   "outputs": [
    {
     "name": "stdout",
     "output_type": "stream",
     "text": [
      "256B\n",
      "430    598\n",
      "431    402\n",
      "Name: count, dtype: int64\n",
      "\n",
      "Massimo: 431\n",
      "Minimo: 430\n",
      "Media: 430.402\n",
      "Varianza: 0.24063663663663665\n"
     ]
    }
   ],
   "source": [
    "# Generazione hash\n",
    "data = axofa_small[\"256B\"]\n",
    "\n",
    "print_data(data)"
   ]
  },
  {
   "attachments": {},
   "cell_type": "markdown",
   "metadata": {},
   "source": [
    "#### PT 512 byte"
   ]
  },
  {
   "cell_type": "code",
   "execution_count": 32,
   "metadata": {},
   "outputs": [
    {
     "name": "stdout",
     "output_type": "stream",
     "text": [
      "512B\n",
      "805    799\n",
      "804    199\n",
      "806      2\n",
      "Name: count, dtype: int64\n",
      "\n",
      "Massimo: 806\n",
      "Minimo: 804\n",
      "Media: 804.803\n",
      "Varianza: 0.16235335335335332\n"
     ]
    }
   ],
   "source": [
    "# Generazione hash\n",
    "data = axofa_small[\"512B\"]\n",
    "\n",
    "print_data(data)"
   ]
  },
  {
   "attachments": {},
   "cell_type": "markdown",
   "metadata": {},
   "source": [
    "#### PT 1024 byte"
   ]
  },
  {
   "cell_type": "code",
   "execution_count": 33,
   "metadata": {},
   "outputs": [
    {
     "name": "stdout",
     "output_type": "stream",
     "text": [
      "1024B\n",
      "1556    598\n",
      "1555    401\n",
      "1557      1\n",
      "Name: count, dtype: int64\n",
      "\n",
      "Massimo: 1557\n",
      "Minimo: 1555\n",
      "Media: 1555.6\n",
      "Varianza: 0.24224224224224236\n"
     ]
    }
   ],
   "source": [
    "# Generazione hash\n",
    "data = axofa_small[\"1024B\"]\n",
    "\n",
    "print_data(data)"
   ]
  },
  {
   "attachments": {},
   "cell_type": "markdown",
   "metadata": {},
   "source": [
    "### Bi32_armv7m"
   ]
  },
  {
   "cell_type": "code",
   "execution_count": 34,
   "metadata": {},
   "outputs": [],
   "source": [
    "with open(path.format(\"bi32_armv7m\"), \"r\") as f:\n",
    "    axofa_bi32 = pd.read_csv(f, delimiter=\";\")"
   ]
  },
  {
   "attachments": {},
   "cell_type": "markdown",
   "metadata": {},
   "source": [
    "#### PT vuoto"
   ]
  },
  {
   "cell_type": "code",
   "execution_count": 35,
   "metadata": {},
   "outputs": [
    {
     "name": "stdout",
     "output_type": "stream",
     "text": [
      "0B\n",
      "56    998\n",
      "57      1\n",
      "58      1\n",
      "Name: count, dtype: int64\n",
      "\n",
      "Massimo: 58\n",
      "Minimo: 56\n",
      "Media: 56.003\n",
      "Varianza: 0.004995995995995996\n"
     ]
    }
   ],
   "source": [
    "# Generazione hash\n",
    "data = axofa_bi32[\"0B\"]\n",
    "\n",
    "print_data(data)"
   ]
  },
  {
   "attachments": {},
   "cell_type": "markdown",
   "metadata": {},
   "source": [
    "#### PT 8 byte"
   ]
  },
  {
   "cell_type": "code",
   "execution_count": 36,
   "metadata": {},
   "outputs": [
    {
     "name": "stdout",
     "output_type": "stream",
     "text": [
      "8B\n",
      "67    998\n",
      "68      2\n",
      "Name: count, dtype: int64\n",
      "\n",
      "Massimo: 68\n",
      "Minimo: 67\n",
      "Media: 67.002\n",
      "Varianza: 0.001997997997997999\n"
     ]
    }
   ],
   "source": [
    "# Generazione hash\n",
    "data = axofa_bi32[\"8B\"]\n",
    "\n",
    "print_data(data)"
   ]
  },
  {
   "attachments": {},
   "cell_type": "markdown",
   "metadata": {},
   "source": [
    "#### PT 16 byte"
   ]
  },
  {
   "cell_type": "code",
   "execution_count": 37,
   "metadata": {},
   "outputs": [
    {
     "name": "stdout",
     "output_type": "stream",
     "text": [
      "16B\n",
      "78    796\n",
      "79    204\n",
      "Name: count, dtype: int64\n",
      "\n",
      "Massimo: 79\n",
      "Minimo: 78\n",
      "Media: 78.204\n",
      "Varianza: 0.16254654654654652\n"
     ]
    }
   ],
   "source": [
    "# Generazione hash\n",
    "data = axofa_bi32[\"16B\"]\n",
    "\n",
    "print_data(data)"
   ]
  },
  {
   "attachments": {},
   "cell_type": "markdown",
   "metadata": {},
   "source": [
    "#### PT 32 byte"
   ]
  },
  {
   "cell_type": "code",
   "execution_count": 38,
   "metadata": {},
   "outputs": [
    {
     "name": "stdout",
     "output_type": "stream",
     "text": [
      "32B\n",
      "101    999\n",
      "102      1\n",
      "Name: count, dtype: int64\n",
      "\n",
      "Massimo: 102\n",
      "Minimo: 101\n",
      "Media: 101.001\n",
      "Varianza: 0.0010000000000000002\n"
     ]
    }
   ],
   "source": [
    "# Generazione hash\n",
    "data = axofa_bi32[\"32B\"]\n",
    "\n",
    "print_data(data)"
   ]
  },
  {
   "attachments": {},
   "cell_type": "markdown",
   "metadata": {},
   "source": [
    "#### PT 64 byte"
   ]
  },
  {
   "cell_type": "code",
   "execution_count": 39,
   "metadata": {},
   "outputs": [
    {
     "name": "stdout",
     "output_type": "stream",
     "text": [
      "64B\n",
      "145    598\n",
      "146    402\n",
      "Name: count, dtype: int64\n",
      "\n",
      "Massimo: 146\n",
      "Minimo: 145\n",
      "Media: 145.402\n",
      "Varianza: 0.24063663663663665\n"
     ]
    }
   ],
   "source": [
    "# Generazione hash\n",
    "data = axofa_bi32[\"64B\"]\n",
    "\n",
    "print_data(data)"
   ]
  },
  {
   "attachments": {},
   "cell_type": "markdown",
   "metadata": {},
   "source": [
    "#### PT 128 byte"
   ]
  },
  {
   "cell_type": "code",
   "execution_count": 40,
   "metadata": {},
   "outputs": [
    {
     "name": "stdout",
     "output_type": "stream",
     "text": [
      "128B\n",
      "235    598\n",
      "236    401\n",
      "237      1\n",
      "Name: count, dtype: int64\n",
      "\n",
      "Massimo: 237\n",
      "Minimo: 235\n",
      "Media: 235.403\n",
      "Varianza: 0.24283383383383378\n"
     ]
    }
   ],
   "source": [
    "# Generazione hash\n",
    "data = axofa_bi32[\"128B\"]\n",
    "\n",
    "print_data(data)"
   ]
  },
  {
   "attachments": {},
   "cell_type": "markdown",
   "metadata": {},
   "source": [
    "#### PT 256 byte"
   ]
  },
  {
   "cell_type": "code",
   "execution_count": 41,
   "metadata": {},
   "outputs": [
    {
     "name": "stdout",
     "output_type": "stream",
     "text": [
      "256B\n",
      "414    597\n",
      "415    400\n",
      "416      3\n",
      "Name: count, dtype: int64\n",
      "\n",
      "Massimo: 416\n",
      "Minimo: 414\n",
      "Media: 414.406\n",
      "Varianza: 0.24741141141141137\n"
     ]
    }
   ],
   "source": [
    "# Generazione hash\n",
    "data = axofa_bi32[\"256B\"]\n",
    "\n",
    "print_data(data)"
   ]
  },
  {
   "attachments": {},
   "cell_type": "markdown",
   "metadata": {},
   "source": [
    "#### PT 512 byte"
   ]
  },
  {
   "cell_type": "code",
   "execution_count": 42,
   "metadata": {},
   "outputs": [
    {
     "name": "stdout",
     "output_type": "stream",
     "text": [
      "512B\n",
      "774    798\n",
      "773    200\n",
      "775      2\n",
      "Name: count, dtype: int64\n",
      "\n",
      "Massimo: 775\n",
      "Minimo: 773\n",
      "Media: 773.802\n",
      "Varianza: 0.162958958958959\n"
     ]
    }
   ],
   "source": [
    "# Generazione hash\n",
    "data = axofa_bi32[\"512B\"]\n",
    "\n",
    "print_data(data)"
   ]
  },
  {
   "attachments": {},
   "cell_type": "markdown",
   "metadata": {},
   "source": [
    "#### PT 1024 byte"
   ]
  },
  {
   "cell_type": "code",
   "execution_count": 43,
   "metadata": {},
   "outputs": [
    {
     "name": "stdout",
     "output_type": "stream",
     "text": [
      "1024B\n",
      "1492    599\n",
      "1493    399\n",
      "1495      1\n",
      "1494      1\n",
      "Name: count, dtype: int64\n",
      "\n",
      "Massimo: 1495\n",
      "Minimo: 1492\n",
      "Media: 1492.404\n",
      "Varianza: 0.2490330330330331\n"
     ]
    }
   ],
   "source": [
    "# Generazione hash\n",
    "data = axofa_bi32[\"1024B\"]\n",
    "\n",
    "print_data(data)"
   ]
  },
  {
   "attachments": {},
   "cell_type": "markdown",
   "metadata": {},
   "source": [
    "### Ref"
   ]
  },
  {
   "cell_type": "code",
   "execution_count": 44,
   "metadata": {},
   "outputs": [],
   "source": [
    "with open(path.format(\"ref\"), \"r\") as f:\n",
    "    axofa_ref = pd.read_csv(f, delimiter=\";\")"
   ]
  },
  {
   "attachments": {},
   "cell_type": "markdown",
   "metadata": {},
   "source": [
    "#### PT vuoto"
   ]
  },
  {
   "cell_type": "code",
   "execution_count": 45,
   "metadata": {},
   "outputs": [
    {
     "name": "stdout",
     "output_type": "stream",
     "text": [
      "0B\n",
      "243    600\n",
      "242    200\n",
      "244    200\n",
      "Name: count, dtype: int64\n",
      "\n",
      "Massimo: 244\n",
      "Minimo: 242\n",
      "Media: 243.0\n",
      "Varianza: 0.4004004004004004\n"
     ]
    }
   ],
   "source": [
    "# Generazione hash\n",
    "data = axofa_ref[\"0B\"]\n",
    "\n",
    "print_data(data)"
   ]
  },
  {
   "attachments": {},
   "cell_type": "markdown",
   "metadata": {},
   "source": [
    "#### PT 8 byte"
   ]
  },
  {
   "cell_type": "code",
   "execution_count": 46,
   "metadata": {},
   "outputs": [
    {
     "name": "stdout",
     "output_type": "stream",
     "text": [
      "8B\n",
      "285    599\n",
      "286    200\n",
      "287    200\n",
      "288      1\n",
      "Name: count, dtype: int64\n",
      "\n",
      "Massimo: 288\n",
      "Minimo: 285\n",
      "Media: 285.603\n",
      "Varianza: 0.6460370370370371\n"
     ]
    }
   ],
   "source": [
    "# Generazione hash\n",
    "data = axofa_ref[\"8B\"]\n",
    "\n",
    "print_data(data)"
   ]
  },
  {
   "attachments": {},
   "cell_type": "markdown",
   "metadata": {},
   "source": [
    "#### PT 16 byte"
   ]
  },
  {
   "cell_type": "code",
   "execution_count": 47,
   "metadata": {},
   "outputs": [
    {
     "name": "stdout",
     "output_type": "stream",
     "text": [
      "16B\n",
      "328    798\n",
      "329    202\n",
      "Name: count, dtype: int64\n",
      "\n",
      "Massimo: 329\n",
      "Minimo: 328\n",
      "Media: 328.202\n",
      "Varianza: 0.16135735735735732\n"
     ]
    }
   ],
   "source": [
    "# Generazione hash\n",
    "data = axofa_ref[\"16B\"]\n",
    "\n",
    "print_data(data)"
   ]
  },
  {
   "attachments": {},
   "cell_type": "markdown",
   "metadata": {},
   "source": [
    "#### PT 32 byte"
   ]
  },
  {
   "cell_type": "code",
   "execution_count": 48,
   "metadata": {},
   "outputs": [
    {
     "name": "stdout",
     "output_type": "stream",
     "text": [
      "32B\n",
      "414    597\n",
      "415    401\n",
      "417      1\n",
      "413      1\n",
      "Name: count, dtype: int64\n",
      "\n",
      "Massimo: 417\n",
      "Minimo: 413\n",
      "Media: 414.403\n",
      "Varianza: 0.24883983983983993\n"
     ]
    }
   ],
   "source": [
    "# Generazione hash\n",
    "data = axofa_ref[\"32B\"]\n",
    "\n",
    "print_data(data)"
   ]
  },
  {
   "attachments": {},
   "cell_type": "markdown",
   "metadata": {},
   "source": [
    "#### PT 64 byte"
   ]
  },
  {
   "cell_type": "code",
   "execution_count": 49,
   "metadata": {},
   "outputs": [
    {
     "name": "stdout",
     "output_type": "stream",
     "text": [
      "64B\n",
      "586    599\n",
      "585    400\n",
      "584      1\n",
      "Name: count, dtype: int64\n",
      "\n",
      "Massimo: 586\n",
      "Minimo: 584\n",
      "Media: 585.598\n",
      "Varianza: 0.2426386386386387\n"
     ]
    }
   ],
   "source": [
    "# Generazione hash\n",
    "data = axofa_ref[\"64B\"]\n",
    "\n",
    "print_data(data)"
   ]
  },
  {
   "attachments": {},
   "cell_type": "markdown",
   "metadata": {},
   "source": [
    "#### PT 128 byte"
   ]
  },
  {
   "cell_type": "code",
   "execution_count": 50,
   "metadata": {},
   "outputs": [
    {
     "name": "stdout",
     "output_type": "stream",
     "text": [
      "128B\n",
      "929    999\n",
      "927      1\n",
      "Name: count, dtype: int64\n",
      "\n",
      "Massimo: 929\n",
      "Minimo: 927\n",
      "Media: 928.998\n",
      "Varianza: 0.0039999999999999975\n"
     ]
    }
   ],
   "source": [
    "# Generazione hash\n",
    "data = axofa_ref[\"128B\"]\n",
    "\n",
    "print_data(data)"
   ]
  },
  {
   "attachments": {},
   "cell_type": "markdown",
   "metadata": {},
   "source": [
    "#### PT 256 byte"
   ]
  },
  {
   "cell_type": "code",
   "execution_count": 51,
   "metadata": {},
   "outputs": [
    {
     "name": "stdout",
     "output_type": "stream",
     "text": [
      "256B\n",
      "1614    599\n",
      "1613    399\n",
      "1615      2\n",
      "Name: count, dtype: int64\n",
      "\n",
      "Massimo: 1615\n",
      "Minimo: 1613\n",
      "Media: 1613.603\n",
      "Varianza: 0.24363463463463456\n"
     ]
    }
   ],
   "source": [
    "# Generazione hash\n",
    "data = axofa_ref[\"256B\"]\n",
    "\n",
    "print_data(data)"
   ]
  },
  {
   "attachments": {},
   "cell_type": "markdown",
   "metadata": {},
   "source": [
    "#### PT 512 byte"
   ]
  },
  {
   "cell_type": "code",
   "execution_count": 52,
   "metadata": {},
   "outputs": [
    {
     "name": "stdout",
     "output_type": "stream",
     "text": [
      "512B\n",
      "2985    999\n",
      "2984      1\n",
      "Name: count, dtype: int64\n",
      "\n",
      "Massimo: 2985\n",
      "Minimo: 2984\n",
      "Media: 2984.999\n",
      "Varianza: 0.0009999999999999994\n"
     ]
    }
   ],
   "source": [
    "# Generazione hash\n",
    "data = axofa_ref[\"512B\"]\n",
    "\n",
    "print_data(data)"
   ]
  },
  {
   "attachments": {},
   "cell_type": "markdown",
   "metadata": {},
   "source": [
    "#### PT 1024 byte"
   ]
  },
  {
   "cell_type": "code",
   "execution_count": 53,
   "metadata": {},
   "outputs": [
    {
     "name": "stdout",
     "output_type": "stream",
     "text": [
      "1024B\n",
      "5726    599\n",
      "5725    399\n",
      "5728      2\n",
      "Name: count, dtype: int64\n",
      "\n",
      "Massimo: 5728\n",
      "Minimo: 5725\n",
      "Media: 5725.605\n",
      "Varianza: 0.25122622622622615\n"
     ]
    }
   ],
   "source": [
    "# Generazione hash\n",
    "data = axofa_ref[\"1024B\"]\n",
    "\n",
    "print_data(data)"
   ]
  }
 ],
 "metadata": {
  "kernelspec": {
   "display_name": "Python 3",
   "language": "python",
   "name": "python3"
  },
  "language_info": {
   "codemirror_mode": {
    "name": "ipython",
    "version": 3
   },
   "file_extension": ".py",
   "mimetype": "text/x-python",
   "name": "python",
   "nbconvert_exporter": "python",
   "pygments_lexer": "ipython3",
   "version": "3.11.2"
  },
  "orig_nbformat": 4
 },
 "nbformat": 4,
 "nbformat_minor": 2
}
