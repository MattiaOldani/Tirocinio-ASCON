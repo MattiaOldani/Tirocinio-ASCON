{
 "cells": [
  {
   "attachments": {},
   "cell_type": "markdown",
   "metadata": {},
   "source": [
    "# Analisi dei dati raccolti"
   ]
  },
  {
   "attachments": {},
   "cell_type": "markdown",
   "metadata": {},
   "source": [
    "## Setup"
   ]
  },
  {
   "cell_type": "code",
   "execution_count": 1,
   "metadata": {},
   "outputs": [],
   "source": [
    "import pandas as pd"
   ]
  },
  {
   "cell_type": "code",
   "execution_count": 2,
   "metadata": {},
   "outputs": [],
   "source": [
    "def print_data(series: pd.Series) -> None:\n",
    "    print(series.value_counts())\n",
    "    print()\n",
    "    print(f\"Massimo: {series.max()}\\nMinimo: {series.min()}\\nMedia: {series.mean()}\\nVarianza: {series.var()}\")"
   ]
  },
  {
   "attachments": {},
   "cell_type": "markdown",
   "metadata": {},
   "source": [
    "## Asconhashbi32v12"
   ]
  },
  {
   "cell_type": "code",
   "execution_count": 3,
   "metadata": {},
   "outputs": [],
   "source": [
    "path = \"../asconhashbi32v12/data/{}.csv\""
   ]
  },
  {
   "attachments": {},
   "cell_type": "markdown",
   "metadata": {},
   "source": [
    "### Bi32_armv6m"
   ]
  },
  {
   "cell_type": "code",
   "execution_count": 4,
   "metadata": {},
   "outputs": [],
   "source": [
    "with open(path.format(\"bi32_armv6m\"), \"r\") as f:\n",
    "    ahbi32_bi32 = pd.read_csv(f, delimiter=\";\")"
   ]
  },
  {
   "attachments": {},
   "cell_type": "markdown",
   "metadata": {},
   "source": [
    "#### PT vuoto"
   ]
  },
  {
   "cell_type": "code",
   "execution_count": 5,
   "metadata": {},
   "outputs": [
    {
     "name": "stdout",
     "output_type": "stream",
     "text": [
      "0B\n",
      "231    347\n",
      "230    254\n",
      "238    123\n",
      "233    119\n",
      "232    116\n",
      "237     30\n",
      "239      9\n",
      "234      2\n",
      "Name: count, dtype: int64\n",
      "\n",
      "Massimo: 239\n",
      "Minimo: 230\n",
      "Media: 232.219\n",
      "Varianza: 7.068107107107108\n"
     ]
    }
   ],
   "source": [
    "# Generazione hash\n",
    "data = ahbi32_bi32[\"0B\"]\n",
    "\n",
    "print_data(data)"
   ]
  },
  {
   "attachments": {},
   "cell_type": "markdown",
   "metadata": {},
   "source": [
    "#### PT 8 byte"
   ]
  },
  {
   "cell_type": "code",
   "execution_count": 6,
   "metadata": {},
   "outputs": [
    {
     "name": "stdout",
     "output_type": "stream",
     "text": [
      "8B\n",
      "283    455\n",
      "285    266\n",
      "290    162\n",
      "291     81\n",
      "284     36\n",
      "Name: count, dtype: int64\n",
      "\n",
      "Massimo: 291\n",
      "Minimo: 283\n",
      "Media: 285.35\n",
      "Varianza: 8.708208208208209\n"
     ]
    }
   ],
   "source": [
    "# Generazione hash\n",
    "data = ahbi32_bi32[\"8B\"]\n",
    "\n",
    "print_data(data)"
   ]
  },
  {
   "attachments": {},
   "cell_type": "markdown",
   "metadata": {},
   "source": [
    "#### PT 16 byte"
   ]
  },
  {
   "cell_type": "code",
   "execution_count": 7,
   "metadata": {},
   "outputs": [
    {
     "name": "stdout",
     "output_type": "stream",
     "text": [
      "16B\n",
      "337    230\n",
      "343    221\n",
      "336    159\n",
      "335    158\n",
      "338    113\n",
      "342    110\n",
      "344      8\n",
      "339      1\n",
      "Name: count, dtype: int64\n",
      "\n",
      "Massimo: 344\n",
      "Minimo: 335\n",
      "Media: 338.572\n",
      "Varianza: 9.544360360360361\n"
     ]
    }
   ],
   "source": [
    "# Generazione hash\n",
    "data = ahbi32_bi32[\"16B\"]\n",
    "\n",
    "print_data(data)"
   ]
  },
  {
   "attachments": {},
   "cell_type": "markdown",
   "metadata": {},
   "source": [
    "#### PT 32 byte"
   ]
  },
  {
   "cell_type": "code",
   "execution_count": 8,
   "metadata": {},
   "outputs": [
    {
     "name": "stdout",
     "output_type": "stream",
     "text": [
      "32B\n",
      "442    386\n",
      "448    223\n",
      "447    175\n",
      "443    121\n",
      "440     52\n",
      "441     36\n",
      "449      7\n",
      "Name: count, dtype: int64\n",
      "\n",
      "Massimo: 449\n",
      "Minimo: 440\n",
      "Media: 444.243\n",
      "Varianza: 8.08803903903904\n"
     ]
    }
   ],
   "source": [
    "# Generazione hash\n",
    "data = ahbi32_bi32[\"32B\"]\n",
    "\n",
    "print_data(data)"
   ]
  },
  {
   "attachments": {},
   "cell_type": "markdown",
   "metadata": {},
   "source": [
    "#### PT 64 byte"
   ]
  },
  {
   "cell_type": "code",
   "execution_count": 9,
   "metadata": {},
   "outputs": [
    {
     "name": "stdout",
     "output_type": "stream",
     "text": [
      "64B\n",
      "652    290\n",
      "659    283\n",
      "657    226\n",
      "658    116\n",
      "660     82\n",
      "651      2\n",
      "653      1\n",
      "Name: count, dtype: int64\n",
      "\n",
      "Massimo: 660\n",
      "Minimo: 651\n",
      "Media: 656.462\n",
      "Varianza: 9.043599599599599\n"
     ]
    }
   ],
   "source": [
    "# Generazione hash\n",
    "data = ahbi32_bi32[\"64B\"]\n",
    "\n",
    "print_data(data)"
   ]
  },
  {
   "attachments": {},
   "cell_type": "markdown",
   "metadata": {},
   "source": [
    "#### PT 128 byte"
   ]
  },
  {
   "cell_type": "code",
   "execution_count": 10,
   "metadata": {},
   "outputs": [
    {
     "name": "stdout",
     "output_type": "stream",
     "text": [
      "128B\n",
      "1079    640\n",
      "1078    264\n",
      "1080     41\n",
      "1081     28\n",
      "1086     25\n",
      "1082      1\n",
      "1085      1\n",
      "Name: count, dtype: int64\n",
      "\n",
      "Massimo: 1086\n",
      "Minimo: 1078\n",
      "Media: 1079.017\n",
      "Varianza: 1.6883993993993995\n"
     ]
    }
   ],
   "source": [
    "# Generazione hash\n",
    "data = ahbi32_bi32[\"128B\"]\n",
    "\n",
    "print_data(data)"
   ]
  },
  {
   "attachments": {},
   "cell_type": "markdown",
   "metadata": {},
   "source": [
    "#### PT 256 byte"
   ]
  },
  {
   "cell_type": "code",
   "execution_count": 11,
   "metadata": {},
   "outputs": [
    {
     "name": "stdout",
     "output_type": "stream",
     "text": [
      "256B\n",
      "1927    627\n",
      "1926    181\n",
      "1925     57\n",
      "1928     53\n",
      "1920     41\n",
      "1919     27\n",
      "1924     13\n",
      "1921      1\n",
      "Name: count, dtype: int64\n",
      "\n",
      "Massimo: 1928\n",
      "Minimo: 1919\n",
      "Media: 1926.21\n",
      "Varianza: 3.7316316316316307\n"
     ]
    }
   ],
   "source": [
    "# Generazione hash\n",
    "data = ahbi32_bi32[\"256B\"]\n",
    "\n",
    "print_data(data)"
   ]
  },
  {
   "attachments": {},
   "cell_type": "markdown",
   "metadata": {},
   "source": [
    "#### PT 512 byte"
   ]
  },
  {
   "cell_type": "code",
   "execution_count": 12,
   "metadata": {},
   "outputs": [
    {
     "name": "stdout",
     "output_type": "stream",
     "text": [
      "512B\n",
      "3621    333\n",
      "3616    268\n",
      "3623    146\n",
      "3615    103\n",
      "3622     83\n",
      "3624     38\n",
      "3617     28\n",
      "3620      1\n",
      "Name: count, dtype: int64\n",
      "\n",
      "Massimo: 3624\n",
      "Minimo: 3615\n",
      "Media: 3619.418\n",
      "Varianza: 9.372648648648651\n"
     ]
    }
   ],
   "source": [
    "# Generazione hash\n",
    "data = ahbi32_bi32[\"512B\"]\n",
    "\n",
    "print_data(data)"
   ]
  },
  {
   "attachments": {},
   "cell_type": "markdown",
   "metadata": {},
   "source": [
    "#### PT 1024 byte"
   ]
  },
  {
   "cell_type": "code",
   "execution_count": 13,
   "metadata": {},
   "outputs": [
    {
     "name": "stdout",
     "output_type": "stream",
     "text": [
      "1024B\n",
      "7006    571\n",
      "7007    422\n",
      "7008      6\n",
      "7009      1\n",
      "Name: count, dtype: int64\n",
      "\n",
      "Massimo: 7009\n",
      "Minimo: 7006\n",
      "Media: 7006.437\n",
      "Varianza: 0.2642952952952954\n"
     ]
    }
   ],
   "source": [
    "# Generazione hash\n",
    "data = ahbi32_bi32[\"1024B\"]\n",
    "\n",
    "print_data(data)"
   ]
  },
  {
   "attachments": {},
   "cell_type": "markdown",
   "metadata": {},
   "source": [
    "### Ref"
   ]
  },
  {
   "cell_type": "code",
   "execution_count": 14,
   "metadata": {},
   "outputs": [],
   "source": [
    "with open(path.format(\"ref\"), \"r\") as f:\n",
    "    ahbi32_ref = pd.read_csv(f, delimiter=\";\")"
   ]
  },
  {
   "attachments": {},
   "cell_type": "markdown",
   "metadata": {},
   "source": [
    "#### PT vuoto"
   ]
  },
  {
   "cell_type": "code",
   "execution_count": 15,
   "metadata": {},
   "outputs": [
    {
     "name": "stdout",
     "output_type": "stream",
     "text": [
      "0B\n",
      "392    218\n",
      "398    215\n",
      "393    173\n",
      "390    164\n",
      "391    133\n",
      "397     72\n",
      "399     18\n",
      "400      7\n",
      "Name: count, dtype: int64\n",
      "\n",
      "Massimo: 400\n",
      "Minimo: 390\n",
      "Media: 393.544\n",
      "Varianza: 9.457521521521524\n"
     ]
    }
   ],
   "source": [
    "# Generazione hash\n",
    "data = ahbi32_ref[\"0B\"]\n",
    "\n",
    "print_data(data)"
   ]
  },
  {
   "attachments": {},
   "cell_type": "markdown",
   "metadata": {},
   "source": [
    "#### PT 8 byte"
   ]
  },
  {
   "cell_type": "code",
   "execution_count": 16,
   "metadata": {},
   "outputs": [
    {
     "name": "stdout",
     "output_type": "stream",
     "text": [
      "8B\n",
      "467    410\n",
      "472    265\n",
      "473    144\n",
      "465    109\n",
      "474     37\n",
      "468     20\n",
      "475      8\n",
      "466      7\n",
      "Name: count, dtype: int64\n",
      "\n",
      "Massimo: 475\n",
      "Minimo: 465\n",
      "Media: 469.307\n",
      "Varianza: 9.284035035035036\n"
     ]
    }
   ],
   "source": [
    "# Generazione hash\n",
    "data = ahbi32_ref[\"8B\"]\n",
    "\n",
    "print_data(data)"
   ]
  },
  {
   "attachments": {},
   "cell_type": "markdown",
   "metadata": {},
   "source": [
    "#### PT 16 byte"
   ]
  },
  {
   "cell_type": "code",
   "execution_count": 17,
   "metadata": {},
   "outputs": [
    {
     "name": "stdout",
     "output_type": "stream",
     "text": [
      "16B\n",
      "547    367\n",
      "542    260\n",
      "541    140\n",
      "549    117\n",
      "540     41\n",
      "548     32\n",
      "546     27\n",
      "539     10\n",
      "550      5\n",
      "543      1\n",
      "Name: count, dtype: int64\n",
      "\n",
      "Massimo: 550\n",
      "Minimo: 539\n",
      "Media: 544.743\n",
      "Varianza: 9.692643643643644\n"
     ]
    }
   ],
   "source": [
    "# Generazione hash\n",
    "data = ahbi32_ref[\"16B\"]\n",
    "\n",
    "print_data(data)"
   ]
  },
  {
   "attachments": {},
   "cell_type": "markdown",
   "metadata": {},
   "source": [
    "#### PT 32 byte"
   ]
  },
  {
   "cell_type": "code",
   "execution_count": 18,
   "metadata": {},
   "outputs": [
    {
     "name": "stdout",
     "output_type": "stream",
     "text": [
      "32B\n",
      "698    293\n",
      "691    281\n",
      "696    255\n",
      "697     70\n",
      "699     68\n",
      "690     29\n",
      "689      4\n",
      "Name: count, dtype: int64\n",
      "\n",
      "Massimo: 699\n",
      "Minimo: 689\n",
      "Media: 695.253\n",
      "Varianza: 9.570561561561563\n"
     ]
    }
   ],
   "source": [
    "# Generazione hash\n",
    "data = ahbi32_ref[\"32B\"]\n",
    "\n",
    "print_data(data)"
   ]
  },
  {
   "attachments": {},
   "cell_type": "markdown",
   "metadata": {},
   "source": [
    "#### PT 64 byte"
   ]
  },
  {
   "cell_type": "code",
   "execution_count": 19,
   "metadata": {},
   "outputs": [
    {
     "name": "stdout",
     "output_type": "stream",
     "text": [
      "64B\n",
      "997    611\n",
      "996    353\n",
      "998     27\n",
      "990      4\n",
      "989      3\n",
      "995      2\n",
      "Name: count, dtype: int64\n",
      "\n",
      "Massimo: 998\n",
      "Minimo: 989\n",
      "Media: 996.618\n",
      "Varianza: 0.6307067067067065\n"
     ]
    }
   ],
   "source": [
    "# Generazione hash\n",
    "data = ahbi32_ref[\"64B\"]\n",
    "\n",
    "print_data(data)"
   ]
  },
  {
   "attachments": {},
   "cell_type": "markdown",
   "metadata": {},
   "source": [
    "#### PT 128 byte"
   ]
  },
  {
   "cell_type": "code",
   "execution_count": 20,
   "metadata": {},
   "outputs": [
    {
     "name": "stdout",
     "output_type": "stream",
     "text": [
      "128B\n",
      "1601    304\n",
      "1596    234\n",
      "1595    168\n",
      "1603    116\n",
      "1602     73\n",
      "1600     56\n",
      "1594     20\n",
      "1597     12\n",
      "1604      9\n",
      "1593      8\n",
      "Name: count, dtype: int64\n",
      "\n",
      "Massimo: 1604\n",
      "Minimo: 1593\n",
      "Media: 1598.846\n",
      "Varianza: 9.62590990990991\n"
     ]
    }
   ],
   "source": [
    "# Generazione hash\n",
    "data = ahbi32_ref[\"128B\"]\n",
    "\n",
    "print_data(data)"
   ]
  },
  {
   "attachments": {},
   "cell_type": "markdown",
   "metadata": {},
   "source": [
    "#### PT 256 byte"
   ]
  },
  {
   "cell_type": "code",
   "execution_count": 21,
   "metadata": {},
   "outputs": [
    {
     "name": "stdout",
     "output_type": "stream",
     "text": [
      "256B\n",
      "2806    547\n",
      "2804    139\n",
      "2807    106\n",
      "2799     91\n",
      "2805     63\n",
      "2798     40\n",
      "2800     14\n",
      "Name: count, dtype: int64\n",
      "\n",
      "Massimo: 2807\n",
      "Minimo: 2798\n",
      "Media: 2804.724\n",
      "Varianza: 6.626450450450452\n"
     ]
    }
   ],
   "source": [
    "# Generazione hash\n",
    "data = ahbi32_ref[\"256B\"]\n",
    "\n",
    "print_data(data)"
   ]
  },
  {
   "attachments": {},
   "cell_type": "markdown",
   "metadata": {},
   "source": [
    "#### PT 512 byte"
   ]
  },
  {
   "cell_type": "code",
   "execution_count": 22,
   "metadata": {},
   "outputs": [
    {
     "name": "stdout",
     "output_type": "stream",
     "text": [
      "512B\n",
      "5213    305\n",
      "5212    282\n",
      "5214    150\n",
      "5215    115\n",
      "5220     82\n",
      "5219     50\n",
      "5221     13\n",
      "5216      3\n",
      "Name: count, dtype: int64\n",
      "\n",
      "Massimo: 5221\n",
      "Minimo: 5212\n",
      "Media: 5214.085\n",
      "Varianza: 6.398173173173173\n"
     ]
    }
   ],
   "source": [
    "# Generazione hash\n",
    "data = ahbi32_ref[\"512B\"]\n",
    "\n",
    "print_data(data)"
   ]
  },
  {
   "attachments": {},
   "cell_type": "markdown",
   "metadata": {},
   "source": [
    "#### PT 1024 byte"
   ]
  },
  {
   "cell_type": "code",
   "execution_count": 24,
   "metadata": {},
   "outputs": [
    {
     "name": "stdout",
     "output_type": "stream",
     "text": [
      "1024B\n",
      "10035    579\n",
      "10034    371\n",
      "10036     25\n",
      "10037     20\n",
      "10033      4\n",
      "10038      1\n",
      "Name: count, dtype: int64\n",
      "\n",
      "Massimo: 10038\n",
      "Minimo: 10033\n",
      "Media: 10034.689\n",
      "Varianza: 0.40468368368368374\n"
     ]
    }
   ],
   "source": [
    "# Generazione hash\n",
    "data = ahbi32_ref[\"1024B\"]\n",
    "\n",
    "print_data(data)"
   ]
  }
 ],
 "metadata": {
  "kernelspec": {
   "display_name": "Python 3",
   "language": "python",
   "name": "python3"
  },
  "language_info": {
   "codemirror_mode": {
    "name": "ipython",
    "version": 3
   },
   "file_extension": ".py",
   "mimetype": "text/x-python",
   "name": "python",
   "nbconvert_exporter": "python",
   "pygments_lexer": "ipython3",
   "version": "3.11.2"
  },
  "orig_nbformat": 4
 },
 "nbformat": 4,
 "nbformat_minor": 2
}
