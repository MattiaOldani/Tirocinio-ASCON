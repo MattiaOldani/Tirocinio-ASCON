{
 "cells": [
  {
   "attachments": {},
   "cell_type": "markdown",
   "metadata": {},
   "source": [
    "# Analisi dei dati raccolti"
   ]
  },
  {
   "attachments": {},
   "cell_type": "markdown",
   "metadata": {},
   "source": [
    "## Setup"
   ]
  },
  {
   "cell_type": "code",
   "execution_count": 5,
   "metadata": {},
   "outputs": [],
   "source": [
    "import pandas as pd"
   ]
  },
  {
   "cell_type": "code",
   "execution_count": 6,
   "metadata": {},
   "outputs": [],
   "source": [
    "def print_data(series: pd.Series) -> None:\n",
    "    print(series.value_counts())\n",
    "    print()\n",
    "    print(f\"Massimo: {series.max()}\\nMinimo: {series.min()}\\nMedia: {series.mean()}\\nVarianza: {series.var()}\")"
   ]
  },
  {
   "attachments": {},
   "cell_type": "markdown",
   "metadata": {},
   "source": [
    "## Asconhashbi32v12"
   ]
  },
  {
   "cell_type": "code",
   "execution_count": 7,
   "metadata": {},
   "outputs": [],
   "source": [
    "path = \"../asconhashbi32v12/data/{}.csv\""
   ]
  },
  {
   "attachments": {},
   "cell_type": "markdown",
   "metadata": {},
   "source": [
    "### Bi32_armv7m"
   ]
  },
  {
   "cell_type": "code",
   "execution_count": 8,
   "metadata": {},
   "outputs": [],
   "source": [
    "with open(path.format(\"bi32_armv7m\"), \"r\") as f:\n",
    "    ahbi32_bi32 = pd.read_csv(f, delimiter=\";\")"
   ]
  },
  {
   "attachments": {},
   "cell_type": "markdown",
   "metadata": {},
   "source": [
    "#### PT vuoto"
   ]
  },
  {
   "cell_type": "code",
   "execution_count": 9,
   "metadata": {},
   "outputs": [
    {
     "name": "stdout",
     "output_type": "stream",
     "text": [
      "0B\n",
      "66    800\n",
      "67    200\n",
      "Name: count, dtype: int64\n",
      "\n",
      "Massimo: 67\n",
      "Minimo: 66\n",
      "Media: 66.2\n",
      "Varianza: 0.1601601601601601\n"
     ]
    }
   ],
   "source": [
    "# Generazione hash\n",
    "data = ahbi32_bi32[\"0B\"]\n",
    "\n",
    "print_data(data)"
   ]
  },
  {
   "attachments": {},
   "cell_type": "markdown",
   "metadata": {},
   "source": [
    "#### PT 8 byte"
   ]
  },
  {
   "cell_type": "code",
   "execution_count": 10,
   "metadata": {},
   "outputs": [
    {
     "name": "stdout",
     "output_type": "stream",
     "text": [
      "8B\n",
      "80    997\n",
      "82      2\n",
      "81      1\n",
      "Name: count, dtype: int64\n",
      "\n",
      "Massimo: 82\n",
      "Minimo: 80\n",
      "Media: 80.005\n",
      "Varianza: 0.008983983983983984\n"
     ]
    }
   ],
   "source": [
    "# Generazione hash\n",
    "data = ahbi32_bi32[\"8B\"]\n",
    "\n",
    "print_data(data)"
   ]
  },
  {
   "attachments": {},
   "cell_type": "markdown",
   "metadata": {},
   "source": [
    "#### PT 16 byte"
   ]
  },
  {
   "cell_type": "code",
   "execution_count": 11,
   "metadata": {},
   "outputs": [
    {
     "name": "stdout",
     "output_type": "stream",
     "text": [
      "16B\n",
      "95    997\n",
      "96      2\n",
      "94      1\n",
      "Name: count, dtype: int64\n",
      "\n",
      "Massimo: 96\n",
      "Minimo: 94\n",
      "Media: 95.001\n",
      "Varianza: 0.0030020020020020007\n"
     ]
    }
   ],
   "source": [
    "# Generazione hash\n",
    "data = ahbi32_bi32[\"16B\"]\n",
    "\n",
    "print_data(data)"
   ]
  },
  {
   "attachments": {},
   "cell_type": "markdown",
   "metadata": {},
   "source": [
    "#### PT 32 byte"
   ]
  },
  {
   "cell_type": "code",
   "execution_count": 12,
   "metadata": {},
   "outputs": [
    {
     "name": "stdout",
     "output_type": "stream",
     "text": [
      "32B\n",
      "123    799\n",
      "124    200\n",
      "125      1\n",
      "Name: count, dtype: int64\n",
      "\n",
      "Massimo: 125\n",
      "Minimo: 123\n",
      "Media: 123.202\n",
      "Varianza: 0.16335935935935933\n"
     ]
    }
   ],
   "source": [
    "# Generazione hash\n",
    "data = ahbi32_bi32[\"32B\"]\n",
    "\n",
    "print_data(data)"
   ]
  },
  {
   "attachments": {},
   "cell_type": "markdown",
   "metadata": {},
   "source": [
    "#### PT 64 byte"
   ]
  },
  {
   "cell_type": "code",
   "execution_count": 13,
   "metadata": {},
   "outputs": [
    {
     "name": "stdout",
     "output_type": "stream",
     "text": [
      "64B\n",
      "180    798\n",
      "181    201\n",
      "182      1\n",
      "Name: count, dtype: int64\n",
      "\n",
      "Massimo: 182\n",
      "Minimo: 180\n",
      "Media: 180.203\n",
      "Varianza: 0.1639549549549549\n"
     ]
    }
   ],
   "source": [
    "# Generazione hash\n",
    "data = ahbi32_bi32[\"64B\"]\n",
    "\n",
    "print_data(data)"
   ]
  },
  {
   "attachments": {},
   "cell_type": "markdown",
   "metadata": {},
   "source": [
    "#### PT 128 byte"
   ]
  },
  {
   "cell_type": "code",
   "execution_count": 14,
   "metadata": {},
   "outputs": [
    {
     "name": "stdout",
     "output_type": "stream",
     "text": [
      "128B\n",
      "294    797\n",
      "295    201\n",
      "296      2\n",
      "Name: count, dtype: int64\n",
      "\n",
      "Massimo: 296\n",
      "Minimo: 294\n",
      "Media: 294.205\n",
      "Varianza: 0.16714214214214215\n"
     ]
    }
   ],
   "source": [
    "# Generazione hash\n",
    "data = ahbi32_bi32[\"128B\"]\n",
    "\n",
    "print_data(data)"
   ]
  },
  {
   "attachments": {},
   "cell_type": "markdown",
   "metadata": {},
   "source": [
    "#### PT 256 byte"
   ]
  },
  {
   "cell_type": "code",
   "execution_count": 15,
   "metadata": {},
   "outputs": [
    {
     "name": "stdout",
     "output_type": "stream",
     "text": [
      "256B\n",
      "524    400\n",
      "523    399\n",
      "522    199\n",
      "525      2\n",
      "Name: count, dtype: int64\n",
      "\n",
      "Massimo: 525\n",
      "Minimo: 522\n",
      "Media: 523.205\n",
      "Varianza: 0.5655405405405405\n"
     ]
    }
   ],
   "source": [
    "# Generazione hash\n",
    "data = ahbi32_bi32[\"256B\"]\n",
    "\n",
    "print_data(data)"
   ]
  },
  {
   "attachments": {},
   "cell_type": "markdown",
   "metadata": {},
   "source": [
    "#### PT 512 byte"
   ]
  },
  {
   "cell_type": "code",
   "execution_count": 16,
   "metadata": {},
   "outputs": [
    {
     "name": "stdout",
     "output_type": "stream",
     "text": [
      "512B\n",
      "981    997\n",
      "982      3\n",
      "Name: count, dtype: int64\n",
      "\n",
      "Massimo: 982\n",
      "Minimo: 981\n",
      "Media: 981.003\n",
      "Varianza: 0.0029939939939939942\n"
     ]
    }
   ],
   "source": [
    "# Generazione hash\n",
    "data = ahbi32_bi32[\"512B\"]\n",
    "\n",
    "print_data(data)"
   ]
  },
  {
   "attachments": {},
   "cell_type": "markdown",
   "metadata": {},
   "source": [
    "#### PT 1024 byte"
   ]
  },
  {
   "cell_type": "code",
   "execution_count": 17,
   "metadata": {},
   "outputs": [
    {
     "name": "stdout",
     "output_type": "stream",
     "text": [
      "1024B\n",
      "1895    997\n",
      "1897      3\n",
      "Name: count, dtype: int64\n",
      "\n",
      "Massimo: 1897\n",
      "Minimo: 1895\n",
      "Media: 1895.006\n",
      "Varianza: 0.011975975975975977\n"
     ]
    }
   ],
   "source": [
    "# Generazione hash\n",
    "data = ahbi32_bi32[\"1024B\"]\n",
    "\n",
    "print_data(data)"
   ]
  },
  {
   "attachments": {},
   "cell_type": "markdown",
   "metadata": {},
   "source": [
    "### Ref"
   ]
  },
  {
   "cell_type": "code",
   "execution_count": 18,
   "metadata": {},
   "outputs": [],
   "source": [
    "with open(path.format(\"ref\"), \"r\") as f:\n",
    "    ahbi32_ref = pd.read_csv(f, delimiter=\";\")"
   ]
  },
  {
   "attachments": {},
   "cell_type": "markdown",
   "metadata": {},
   "source": [
    "#### PT vuoto"
   ]
  },
  {
   "cell_type": "code",
   "execution_count": 19,
   "metadata": {},
   "outputs": [
    {
     "name": "stdout",
     "output_type": "stream",
     "text": [
      "0B\n",
      "640    510\n",
      "639    362\n",
      "638     86\n",
      "641     39\n",
      "637      3\n",
      "Name: count, dtype: int64\n",
      "\n",
      "Massimo: 641\n",
      "Minimo: 637\n",
      "Media: 639.496\n",
      "Varianza: 0.5185025025025026\n"
     ]
    }
   ],
   "source": [
    "# Generazione hash\n",
    "data = ahbi32_ref[\"0B\"]\n",
    "\n",
    "print_data(data)"
   ]
  },
  {
   "attachments": {},
   "cell_type": "markdown",
   "metadata": {},
   "source": [
    "#### PT 8 byte"
   ]
  },
  {
   "cell_type": "code",
   "execution_count": 20,
   "metadata": {},
   "outputs": [
    {
     "name": "stdout",
     "output_type": "stream",
     "text": [
      "8B\n",
      "768    673\n",
      "767    197\n",
      "766    118\n",
      "769     12\n",
      "Name: count, dtype: int64\n",
      "\n",
      "Massimo: 769\n",
      "Minimo: 766\n",
      "Media: 767.579\n",
      "Varianza: 0.5042632632632632\n"
     ]
    }
   ],
   "source": [
    "# Generazione hash\n",
    "data = ahbi32_ref[\"8B\"]\n",
    "\n",
    "print_data(data)"
   ]
  },
  {
   "attachments": {},
   "cell_type": "markdown",
   "metadata": {},
   "source": [
    "#### PT 16 byte"
   ]
  },
  {
   "cell_type": "code",
   "execution_count": 21,
   "metadata": {},
   "outputs": [
    {
     "name": "stdout",
     "output_type": "stream",
     "text": [
      "16B\n",
      "897    443\n",
      "896    432\n",
      "895    117\n",
      "898      8\n",
      "Name: count, dtype: int64\n",
      "\n",
      "Massimo: 898\n",
      "Minimo: 895\n",
      "Media: 896.342\n",
      "Varianza: 0.47551151151151155\n"
     ]
    }
   ],
   "source": [
    "# Generazione hash\n",
    "data = ahbi32_ref[\"16B\"]\n",
    "\n",
    "print_data(data)"
   ]
  },
  {
   "attachments": {},
   "cell_type": "markdown",
   "metadata": {},
   "source": [
    "#### PT 32 byte"
   ]
  },
  {
   "cell_type": "code",
   "execution_count": 22,
   "metadata": {},
   "outputs": [
    {
     "name": "stdout",
     "output_type": "stream",
     "text": [
      "32B\n",
      "1155    744\n",
      "1156    212\n",
      "1157     44\n",
      "Name: count, dtype: int64\n",
      "\n",
      "Massimo: 1157\n",
      "Minimo: 1155\n",
      "Media: 1155.3\n",
      "Varianza: 0.2982982982982982\n"
     ]
    }
   ],
   "source": [
    "# Generazione hash\n",
    "data = ahbi32_ref[\"32B\"]\n",
    "\n",
    "print_data(data)"
   ]
  },
  {
   "attachments": {},
   "cell_type": "markdown",
   "metadata": {},
   "source": [
    "#### PT 64 byte"
   ]
  },
  {
   "cell_type": "code",
   "execution_count": 23,
   "metadata": {},
   "outputs": [
    {
     "name": "stdout",
     "output_type": "stream",
     "text": [
      "64B\n",
      "1671    638\n",
      "1670    283\n",
      "1672     79\n",
      "Name: count, dtype: int64\n",
      "\n",
      "Massimo: 1672\n",
      "Minimo: 1670\n",
      "Media: 1670.796\n",
      "Varianza: 0.3207047047047046\n"
     ]
    }
   ],
   "source": [
    "# Generazione hash\n",
    "data = ahbi32_ref[\"64B\"]\n",
    "\n",
    "print_data(data)"
   ]
  },
  {
   "attachments": {},
   "cell_type": "markdown",
   "metadata": {},
   "source": [
    "#### PT 128 byte"
   ]
  },
  {
   "cell_type": "code",
   "execution_count": 24,
   "metadata": {},
   "outputs": [
    {
     "name": "stdout",
     "output_type": "stream",
     "text": [
      "128B\n",
      "2704    633\n",
      "2703    246\n",
      "2702    121\n",
      "Name: count, dtype: int64\n",
      "\n",
      "Massimo: 2704\n",
      "Minimo: 2702\n",
      "Media: 2703.512\n",
      "Varianza: 0.49234834834834834\n"
     ]
    }
   ],
   "source": [
    "# Generazione hash\n",
    "data = ahbi32_ref[\"128B\"]\n",
    "\n",
    "print_data(data)"
   ]
  },
  {
   "attachments": {},
   "cell_type": "markdown",
   "metadata": {},
   "source": [
    "#### PT 256 byte"
   ]
  },
  {
   "cell_type": "code",
   "execution_count": 25,
   "metadata": {},
   "outputs": [
    {
     "name": "stdout",
     "output_type": "stream",
     "text": [
      "256B\n",
      "4768    554\n",
      "4767    235\n",
      "4769    205\n",
      "4770      6\n",
      "Name: count, dtype: int64\n",
      "\n",
      "Massimo: 4770\n",
      "Minimo: 4767\n",
      "Media: 4767.982\n",
      "Varianza: 0.46414014014014005\n"
     ]
    }
   ],
   "source": [
    "# Generazione hash\n",
    "data = ahbi32_ref[\"256B\"]\n",
    "\n",
    "print_data(data)"
   ]
  },
  {
   "attachments": {},
   "cell_type": "markdown",
   "metadata": {},
   "source": [
    "#### PT 512 byte"
   ]
  },
  {
   "cell_type": "code",
   "execution_count": 26,
   "metadata": {},
   "outputs": [
    {
     "name": "stdout",
     "output_type": "stream",
     "text": [
      "512B\n",
      "8898    873\n",
      "8897    118\n",
      "8899      8\n",
      "8900      1\n",
      "Name: count, dtype: int64\n",
      "\n",
      "Massimo: 8900\n",
      "Minimo: 8897\n",
      "Media: 8897.892\n",
      "Varianza: 0.11845445445445445\n"
     ]
    }
   ],
   "source": [
    "# Generazione hash\n",
    "data = ahbi32_ref[\"512B\"]\n",
    "\n",
    "print_data(data)"
   ]
  },
  {
   "attachments": {},
   "cell_type": "markdown",
   "metadata": {},
   "source": [
    "#### PT 1024 byte"
   ]
  },
  {
   "cell_type": "code",
   "execution_count": 27,
   "metadata": {},
   "outputs": [
    {
     "name": "stdout",
     "output_type": "stream",
     "text": [
      "1024B\n",
      "17158    786\n",
      "17159    208\n",
      "17157      6\n",
      "Name: count, dtype: int64\n",
      "\n",
      "Massimo: 17159\n",
      "Minimo: 17157\n",
      "Media: 17158.202\n",
      "Varianza: 0.17336936936936934\n"
     ]
    }
   ],
   "source": [
    "# Generazione hash\n",
    "data = ahbi32_ref[\"1024B\"]\n",
    "\n",
    "print_data(data)"
   ]
  }
 ],
 "metadata": {
  "kernelspec": {
   "display_name": "Python 3",
   "language": "python",
   "name": "python3"
  },
  "language_info": {
   "codemirror_mode": {
    "name": "ipython",
    "version": 3
   },
   "file_extension": ".py",
   "mimetype": "text/x-python",
   "name": "python",
   "nbconvert_exporter": "python",
   "pygments_lexer": "ipython3",
   "version": "3.11.2"
  },
  "orig_nbformat": 4
 },
 "nbformat": 4,
 "nbformat_minor": 2
}
