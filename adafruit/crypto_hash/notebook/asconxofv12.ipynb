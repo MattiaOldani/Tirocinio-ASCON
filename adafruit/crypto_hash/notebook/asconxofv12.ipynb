{
 "cells": [
  {
   "attachments": {},
   "cell_type": "markdown",
   "metadata": {},
   "source": [
    "# Analisi dei dati raccolti"
   ]
  },
  {
   "attachments": {},
   "cell_type": "markdown",
   "metadata": {},
   "source": [
    "## Setup"
   ]
  },
  {
   "cell_type": "code",
   "execution_count": 1,
   "metadata": {},
   "outputs": [],
   "source": [
    "import pandas as pd"
   ]
  },
  {
   "cell_type": "code",
   "execution_count": 2,
   "metadata": {},
   "outputs": [],
   "source": [
    "def print_data(series: pd.Series) -> None:\n",
    "    print(series.value_counts())\n",
    "    print()\n",
    "    print(f\"Massimo: {series.max()}\\nMinimo: {series.min()}\\nMedia: {series.mean()}\\nVarianza: {series.var()}\")"
   ]
  },
  {
   "attachments": {},
   "cell_type": "markdown",
   "metadata": {},
   "source": [
    "## Asconxofv12"
   ]
  },
  {
   "cell_type": "code",
   "execution_count": 3,
   "metadata": {},
   "outputs": [],
   "source": [
    "path = \"../asconxofv12/data/{}.csv\""
   ]
  },
  {
   "attachments": {},
   "cell_type": "markdown",
   "metadata": {},
   "source": [
    "### Armv6m"
   ]
  },
  {
   "cell_type": "code",
   "execution_count": 4,
   "metadata": {},
   "outputs": [],
   "source": [
    "with open(path.format(\"armv6m\"), \"r\") as f:\n",
    "    axof_armv6m = pd.read_csv(f, delimiter=\";\")"
   ]
  },
  {
   "attachments": {},
   "cell_type": "markdown",
   "metadata": {},
   "source": [
    "#### PT vuoto"
   ]
  },
  {
   "cell_type": "code",
   "execution_count": 5,
   "metadata": {},
   "outputs": [
    {
     "name": "stdout",
     "output_type": "stream",
     "text": [
      "0B\n",
      "235    513\n",
      "234    183\n",
      "237     90\n",
      "244     88\n",
      "242     63\n",
      "236     38\n",
      "243     19\n",
      "241      4\n",
      "245      2\n",
      "Name: count, dtype: int64\n",
      "\n",
      "Massimo: 245\n",
      "Minimo: 234\n",
      "Media: 236.464\n",
      "Varianza: 10.222926926926927\n"
     ]
    }
   ],
   "source": [
    "# Generazione hash\n",
    "data = axof_armv6m[\"0B\"]\n",
    "\n",
    "print_data(data)"
   ]
  },
  {
   "attachments": {},
   "cell_type": "markdown",
   "metadata": {},
   "source": [
    "#### PT 8 byte"
   ]
  },
  {
   "cell_type": "code",
   "execution_count": 6,
   "metadata": {},
   "outputs": [
    {
     "name": "stdout",
     "output_type": "stream",
     "text": [
      "8B\n",
      "288    414\n",
      "289    177\n",
      "290     98\n",
      "297     85\n",
      "298     74\n",
      "296     63\n",
      "295     61\n",
      "291     26\n",
      "299      2\n",
      "Name: count, dtype: int64\n",
      "\n",
      "Massimo: 299\n",
      "Minimo: 288\n",
      "Media: 290.909\n",
      "Varianza: 13.902621621621623\n"
     ]
    }
   ],
   "source": [
    "# Generazione hash\n",
    "data = axof_armv6m[\"8B\"]\n",
    "\n",
    "print_data(data)"
   ]
  },
  {
   "attachments": {},
   "cell_type": "markdown",
   "metadata": {},
   "source": [
    "#### PT 16 byte"
   ]
  },
  {
   "cell_type": "code",
   "execution_count": 7,
   "metadata": {},
   "outputs": [
    {
     "name": "stdout",
     "output_type": "stream",
     "text": [
      "16B\n",
      "342    553\n",
      "351    204\n",
      "344     94\n",
      "349     64\n",
      "341     28\n",
      "350     26\n",
      "343     19\n",
      "352     12\n",
      "Name: count, dtype: int64\n",
      "\n",
      "Massimo: 352\n",
      "Minimo: 341\n",
      "Media: 344.791\n",
      "Varianza: 15.172491491491488\n"
     ]
    }
   ],
   "source": [
    "# Generazione hash\n",
    "data = axof_armv6m[\"16B\"]\n",
    "\n",
    "print_data(data)"
   ]
  },
  {
   "attachments": {},
   "cell_type": "markdown",
   "metadata": {},
   "source": [
    "#### PT 32 byte"
   ]
  },
  {
   "cell_type": "code",
   "execution_count": 8,
   "metadata": {},
   "outputs": [
    {
     "name": "stdout",
     "output_type": "stream",
     "text": [
      "32B\n",
      "449    411\n",
      "458    221\n",
      "451    120\n",
      "459     88\n",
      "450     66\n",
      "456     56\n",
      "457     36\n",
      "452      2\n",
      "Name: count, dtype: int64\n",
      "\n",
      "Massimo: 459\n",
      "Minimo: 449\n",
      "Media: 452.861\n",
      "Varianza: 17.4231021021021\n"
     ]
    }
   ],
   "source": [
    "# Generazione hash\n",
    "data = axof_armv6m[\"32B\"]\n",
    "\n",
    "print_data(data)"
   ]
  },
  {
   "attachments": {},
   "cell_type": "markdown",
   "metadata": {},
   "source": [
    "#### PT 64 byte"
   ]
  },
  {
   "cell_type": "code",
   "execution_count": 9,
   "metadata": {},
   "outputs": [
    {
     "name": "stdout",
     "output_type": "stream",
     "text": [
      "64B\n",
      "673    317\n",
      "672    171\n",
      "664    118\n",
      "671     96\n",
      "665     89\n",
      "663     87\n",
      "666     73\n",
      "670     34\n",
      "674     15\n",
      "Name: count, dtype: int64\n",
      "\n",
      "Massimo: 674\n",
      "Minimo: 663\n",
      "Media: 669.395\n",
      "Varianza: 15.426401401401407\n"
     ]
    }
   ],
   "source": [
    "# Generazione hash\n",
    "data = axof_armv6m[\"64B\"]\n",
    "\n",
    "print_data(data)"
   ]
  },
  {
   "attachments": {},
   "cell_type": "markdown",
   "metadata": {},
   "source": [
    "#### PT 128 byte"
   ]
  },
  {
   "cell_type": "code",
   "execution_count": 10,
   "metadata": {},
   "outputs": [
    {
     "name": "stdout",
     "output_type": "stream",
     "text": [
      "128B\n",
      "1101    428\n",
      "1102    383\n",
      "1103     74\n",
      "1104     40\n",
      "1109     39\n",
      "1111     14\n",
      "1108     12\n",
      "1110     10\n",
      "Name: count, dtype: int64\n",
      "\n",
      "Massimo: 1111\n",
      "Minimo: 1101\n",
      "Media: 1102.277\n",
      "Varianza: 4.706977977977979\n"
     ]
    }
   ],
   "source": [
    "# Generazione hash\n",
    "data = axof_armv6m[\"128B\"]\n",
    "\n",
    "print_data(data)"
   ]
  },
  {
   "attachments": {},
   "cell_type": "markdown",
   "metadata": {},
   "source": [
    "#### PT 256 byte"
   ]
  },
  {
   "cell_type": "code",
   "execution_count": 11,
   "metadata": {},
   "outputs": [
    {
     "name": "stdout",
     "output_type": "stream",
     "text": [
      "256B\n",
      "1968    698\n",
      "1969    249\n",
      "1961     17\n",
      "1967     16\n",
      "1966     16\n",
      "1959      3\n",
      "1962      1\n",
      "Name: count, dtype: int64\n",
      "\n",
      "Massimo: 1969\n",
      "Minimo: 1959\n",
      "Media: 1968.049\n",
      "Varianza: 1.440039039039039\n"
     ]
    }
   ],
   "source": [
    "# Generazione hash\n",
    "data = axof_armv6m[\"256B\"]\n",
    "\n",
    "print_data(data)"
   ]
  },
  {
   "attachments": {},
   "cell_type": "markdown",
   "metadata": {},
   "source": [
    "#### PT 512 byte"
   ]
  },
  {
   "cell_type": "code",
   "execution_count": 12,
   "metadata": {},
   "outputs": [
    {
     "name": "stdout",
     "output_type": "stream",
     "text": [
      "512B\n",
      "3702    388\n",
      "3701    138\n",
      "3693    108\n",
      "3700    100\n",
      "3695     78\n",
      "3694     65\n",
      "3703     51\n",
      "3692     45\n",
      "3699     18\n",
      "3696      8\n",
      "3691      1\n",
      "Name: count, dtype: int64\n",
      "\n",
      "Massimo: 3703\n",
      "Minimo: 3691\n",
      "Media: 3699.112\n",
      "Varianza: 14.06351951951952\n"
     ]
    }
   ],
   "source": [
    "# Generazione hash\n",
    "data = axof_armv6m[\"512B\"]\n",
    "\n",
    "print_data(data)"
   ]
  },
  {
   "attachments": {},
   "cell_type": "markdown",
   "metadata": {},
   "source": [
    "#### PT 1024 byte"
   ]
  },
  {
   "cell_type": "code",
   "execution_count": 13,
   "metadata": {},
   "outputs": [
    {
     "name": "stdout",
     "output_type": "stream",
     "text": [
      "1024B\n",
      "7160    479\n",
      "7159    178\n",
      "7161    135\n",
      "7162     77\n",
      "7167     55\n",
      "7169     30\n",
      "7168     22\n",
      "7170     10\n",
      "7158      5\n",
      "7163      5\n",
      "7166      4\n",
      "Name: count, dtype: int64\n",
      "\n",
      "Massimo: 7170\n",
      "Minimo: 7158\n",
      "Media: 7161.071\n",
      "Varianza: 7.223182182182182\n"
     ]
    }
   ],
   "source": [
    "# Generazione hash\n",
    "data = axof_armv6m[\"1024B\"]\n",
    "\n",
    "print_data(data)"
   ]
  },
  {
   "attachments": {},
   "cell_type": "markdown",
   "metadata": {},
   "source": [
    "### Armv6m_lowsize"
   ]
  },
  {
   "cell_type": "code",
   "execution_count": 14,
   "metadata": {},
   "outputs": [],
   "source": [
    "with open(path.format(\"armv6m_lowsize\"), \"r\") as f:\n",
    "    axof_lowsize = pd.read_csv(f, delimiter=\";\")"
   ]
  },
  {
   "attachments": {},
   "cell_type": "markdown",
   "metadata": {},
   "source": [
    "#### PT vuoto"
   ]
  },
  {
   "cell_type": "code",
   "execution_count": 15,
   "metadata": {},
   "outputs": [
    {
     "name": "stdout",
     "output_type": "stream",
     "text": [
      "0B\n",
      "239    386\n",
      "240    358\n",
      "238    148\n",
      "237     98\n",
      "245      4\n",
      "241      3\n",
      "244      2\n",
      "246      1\n",
      "Name: count, dtype: int64\n",
      "\n",
      "Massimo: 246\n",
      "Minimo: 237\n",
      "Media: 239.061\n",
      "Varianza: 1.1504294294294293\n"
     ]
    }
   ],
   "source": [
    "# Generazione hash\n",
    "data = axof_lowsize[\"0B\"]\n",
    "\n",
    "print_data(data)"
   ]
  },
  {
   "attachments": {},
   "cell_type": "markdown",
   "metadata": {},
   "source": [
    "#### PT 8 byte"
   ]
  },
  {
   "cell_type": "code",
   "execution_count": 16,
   "metadata": {},
   "outputs": [
    {
     "name": "stdout",
     "output_type": "stream",
     "text": [
      "8B\n",
      "300    500\n",
      "299    285\n",
      "301     59\n",
      "294     58\n",
      "292     43\n",
      "293     29\n",
      "302     13\n",
      "295     13\n",
      "Name: count, dtype: int64\n",
      "\n",
      "Massimo: 302\n",
      "Minimo: 292\n",
      "Media: 298.84\n",
      "Varianza: 5.642042042042043\n"
     ]
    }
   ],
   "source": [
    "# Generazione hash\n",
    "data = axof_lowsize[\"8B\"]\n",
    "\n",
    "print_data(data)"
   ]
  },
  {
   "attachments": {},
   "cell_type": "markdown",
   "metadata": {},
   "source": [
    "#### PT 16 byte"
   ]
  },
  {
   "cell_type": "code",
   "execution_count": 17,
   "metadata": {},
   "outputs": [
    {
     "name": "stdout",
     "output_type": "stream",
     "text": [
      "16B\n",
      "347    424\n",
      "354    377\n",
      "355    146\n",
      "348     32\n",
      "349     21\n",
      "Name: count, dtype: int64\n",
      "\n",
      "Massimo: 355\n",
      "Minimo: 347\n",
      "Media: 350.881\n",
      "Varianza: 12.88372272272272\n"
     ]
    }
   ],
   "source": [
    "# Generazione hash\n",
    "data = axof_lowsize[\"16B\"]\n",
    "\n",
    "print_data(data)"
   ]
  },
  {
   "attachments": {},
   "cell_type": "markdown",
   "metadata": {},
   "source": [
    "#### PT 32 byte"
   ]
  },
  {
   "cell_type": "code",
   "execution_count": 18,
   "metadata": {},
   "outputs": [
    {
     "name": "stdout",
     "output_type": "stream",
     "text": [
      "32B\n",
      "457    267\n",
      "458    258\n",
      "456    239\n",
      "459    176\n",
      "464     38\n",
      "463     19\n",
      "466      2\n",
      "465      1\n",
      "Name: count, dtype: int64\n",
      "\n",
      "Massimo: 466\n",
      "Minimo: 456\n",
      "Media: 457.777\n",
      "Varianza: 3.3726436436436433\n"
     ]
    }
   ],
   "source": [
    "# Generazione hash\n",
    "data = axof_lowsize[\"32B\"]\n",
    "\n",
    "print_data(data)"
   ]
  },
  {
   "attachments": {},
   "cell_type": "markdown",
   "metadata": {},
   "source": [
    "#### PT 64 byte"
   ]
  },
  {
   "cell_type": "code",
   "execution_count": 19,
   "metadata": {},
   "outputs": [
    {
     "name": "stdout",
     "output_type": "stream",
     "text": [
      "64B\n",
      "677    535\n",
      "678    251\n",
      "683     57\n",
      "682     38\n",
      "675     37\n",
      "676     29\n",
      "685     27\n",
      "684     26\n",
      "Name: count, dtype: int64\n",
      "\n",
      "Massimo: 685\n",
      "Minimo: 675\n",
      "Media: 678.078\n",
      "Varianza: 5.275191191191191\n"
     ]
    }
   ],
   "source": [
    "# Generazione hash\n",
    "data = axof_lowsize[\"64B\"]\n",
    "\n",
    "print_data(data)"
   ]
  },
  {
   "attachments": {},
   "cell_type": "markdown",
   "metadata": {},
   "source": [
    "#### PT 128 byte"
   ]
  },
  {
   "cell_type": "code",
   "execution_count": 20,
   "metadata": {},
   "outputs": [
    {
     "name": "stdout",
     "output_type": "stream",
     "text": [
      "128B\n",
      "1123    276\n",
      "1124    273\n",
      "1122    263\n",
      "1125    178\n",
      "1130      4\n",
      "1129      3\n",
      "1126      2\n",
      "1131      1\n",
      "Name: count, dtype: int64\n",
      "\n",
      "Massimo: 1131\n",
      "Minimo: 1122\n",
      "Media: 1123.426\n",
      "Varianza: 1.4539779779779778\n"
     ]
    }
   ],
   "source": [
    "# Generazione hash\n",
    "data = axof_lowsize[\"128B\"]\n",
    "\n",
    "print_data(data)"
   ]
  },
  {
   "attachments": {},
   "cell_type": "markdown",
   "metadata": {},
   "source": [
    "#### PT 256 byte"
   ]
  },
  {
   "cell_type": "code",
   "execution_count": 21,
   "metadata": {},
   "outputs": [
    {
     "name": "stdout",
     "output_type": "stream",
     "text": [
      "256B\n",
      "2007    920\n",
      "2008     80\n",
      "Name: count, dtype: int64\n",
      "\n",
      "Massimo: 2008\n",
      "Minimo: 2007\n",
      "Media: 2007.08\n",
      "Varianza: 0.07367367367367365\n"
     ]
    }
   ],
   "source": [
    "# Generazione hash\n",
    "data = axof_lowsize[\"256B\"]\n",
    "\n",
    "print_data(data)"
   ]
  },
  {
   "attachments": {},
   "cell_type": "markdown",
   "metadata": {},
   "source": [
    "#### PT 512 byte"
   ]
  },
  {
   "cell_type": "code",
   "execution_count": 22,
   "metadata": {},
   "outputs": [
    {
     "name": "stdout",
     "output_type": "stream",
     "text": [
      "512B\n",
      "3777    360\n",
      "3775    279\n",
      "3776    236\n",
      "3774     84\n",
      "3778     39\n",
      "3769      2\n",
      "Name: count, dtype: int64\n",
      "\n",
      "Massimo: 3778\n",
      "Minimo: 3769\n",
      "Media: 3775.977\n",
      "Varianza: 1.2297007007007008\n"
     ]
    }
   ],
   "source": [
    "# Generazione hash\n",
    "data = axof_lowsize[\"512B\"]\n",
    "\n",
    "print_data(data)"
   ]
  },
  {
   "attachments": {},
   "cell_type": "markdown",
   "metadata": {},
   "source": [
    "#### PT 1024 byte"
   ]
  },
  {
   "cell_type": "code",
   "execution_count": 23,
   "metadata": {},
   "outputs": [
    {
     "name": "stdout",
     "output_type": "stream",
     "text": [
      "1024B\n",
      "7307    611\n",
      "7306    272\n",
      "7308     77\n",
      "7314     25\n",
      "7313      8\n",
      "7315      5\n",
      "7309      2\n",
      "Name: count, dtype: int64\n",
      "\n",
      "Massimo: 7315\n",
      "Minimo: 7306\n",
      "Media: 7307.072\n",
      "Varianza: 2.187003003003003\n"
     ]
    }
   ],
   "source": [
    "# Generazione hash\n",
    "data = axof_lowsize[\"1024B\"]\n",
    "\n",
    "print_data(data)"
   ]
  },
  {
   "attachments": {},
   "cell_type": "markdown",
   "metadata": {},
   "source": [
    "### Bi32_armv6m"
   ]
  },
  {
   "cell_type": "code",
   "execution_count": 24,
   "metadata": {},
   "outputs": [],
   "source": [
    "with open(path.format(\"bi32_armv6m\"), \"r\") as f:\n",
    "    axof_bi32 = pd.read_csv(f, delimiter=\";\")"
   ]
  },
  {
   "attachments": {},
   "cell_type": "markdown",
   "metadata": {},
   "source": [
    "#### PT vuoto"
   ]
  },
  {
   "cell_type": "code",
   "execution_count": 25,
   "metadata": {},
   "outputs": [
    {
     "name": "stdout",
     "output_type": "stream",
     "text": [
      "0B\n",
      "240    401\n",
      "239    193\n",
      "247    175\n",
      "242    138\n",
      "241     55\n",
      "246     35\n",
      "248      2\n",
      "243      1\n",
      "Name: count, dtype: int64\n",
      "\n",
      "Massimo: 248\n",
      "Minimo: 239\n",
      "Media: 241.592\n",
      "Varianza: 8.245781781781783\n"
     ]
    }
   ],
   "source": [
    "# Generazione hash\n",
    "data = axof_bi32[\"0B\"]\n",
    "\n",
    "print_data(data)"
   ]
  },
  {
   "attachments": {},
   "cell_type": "markdown",
   "metadata": {},
   "source": [
    "#### PT 8 byte"
   ]
  },
  {
   "cell_type": "code",
   "execution_count": 26,
   "metadata": {},
   "outputs": [
    {
     "name": "stdout",
     "output_type": "stream",
     "text": [
      "8B\n",
      "294    339\n",
      "301    312\n",
      "296    201\n",
      "293     75\n",
      "295     57\n",
      "302     16\n",
      "Name: count, dtype: int64\n",
      "\n",
      "Massimo: 302\n",
      "Minimo: 293\n",
      "Media: 296.696\n",
      "Varianza: 9.989573573573573\n"
     ]
    }
   ],
   "source": [
    "# Generazione hash\n",
    "data = axof_bi32[\"8B\"]\n",
    "\n",
    "print_data(data)"
   ]
  },
  {
   "attachments": {},
   "cell_type": "markdown",
   "metadata": {},
   "source": [
    "#### PT 16 byte"
   ]
  },
  {
   "cell_type": "code",
   "execution_count": 27,
   "metadata": {},
   "outputs": [
    {
     "name": "stdout",
     "output_type": "stream",
     "text": [
      "16B\n",
      "350    339\n",
      "348    312\n",
      "355    246\n",
      "356     77\n",
      "349     25\n",
      "357      1\n",
      "Name: count, dtype: int64\n",
      "\n",
      "Massimo: 357\n",
      "Minimo: 348\n",
      "Media: 351.05\n",
      "Varianza: 9.150650650650649\n"
     ]
    }
   ],
   "source": [
    "# Generazione hash\n",
    "data = axof_bi32[\"16B\"]\n",
    "\n",
    "print_data(data)"
   ]
  },
  {
   "attachments": {},
   "cell_type": "markdown",
   "metadata": {},
   "source": [
    "#### PT 32 byte"
   ]
  },
  {
   "cell_type": "code",
   "execution_count": 28,
   "metadata": {},
   "outputs": [
    {
     "name": "stdout",
     "output_type": "stream",
     "text": [
      "32B\n",
      "458    353\n",
      "464    220\n",
      "463    180\n",
      "459    122\n",
      "456     77\n",
      "457     36\n",
      "465     12\n",
      "Name: count, dtype: int64\n",
      "\n",
      "Massimo: 465\n",
      "Minimo: 456\n",
      "Media: 460.236\n",
      "Varianza: 8.482786786786788\n"
     ]
    }
   ],
   "source": [
    "# Generazione hash\n",
    "data = axof_bi32[\"32B\"]\n",
    "\n",
    "print_data(data)"
   ]
  },
  {
   "attachments": {},
   "cell_type": "markdown",
   "metadata": {},
   "source": [
    "#### PT 64 byte"
   ]
  },
  {
   "cell_type": "code",
   "execution_count": 29,
   "metadata": {},
   "outputs": [
    {
     "name": "stdout",
     "output_type": "stream",
     "text": [
      "64B\n",
      "675    356\n",
      "682    267\n",
      "680    215\n",
      "683     80\n",
      "681     59\n",
      "674     23\n",
      "Name: count, dtype: int64\n",
      "\n",
      "Massimo: 683\n",
      "Minimo: 674\n",
      "Media: 678.915\n",
      "Varianza: 10.408183183183182\n"
     ]
    }
   ],
   "source": [
    "# Generazione hash\n",
    "data = axof_bi32[\"64B\"]\n",
    "\n",
    "print_data(data)"
   ]
  },
  {
   "attachments": {},
   "cell_type": "markdown",
   "metadata": {},
   "source": [
    "#### PT 128 byte"
   ]
  },
  {
   "cell_type": "code",
   "execution_count": 30,
   "metadata": {},
   "outputs": [
    {
     "name": "stdout",
     "output_type": "stream",
     "text": [
      "128B\n",
      "1116    370\n",
      "1115    347\n",
      "1123     94\n",
      "1117     90\n",
      "1118     47\n",
      "1122     36\n",
      "1124     13\n",
      "1119      2\n",
      "1120      1\n",
      "Name: count, dtype: int64\n",
      "\n",
      "Massimo: 1124\n",
      "Minimo: 1115\n",
      "Media: 1116.825\n",
      "Varianza: 6.719094094094096\n"
     ]
    }
   ],
   "source": [
    "# Generazione hash\n",
    "data = axof_bi32[\"128B\"]\n",
    "\n",
    "print_data(data)"
   ]
  },
  {
   "attachments": {},
   "cell_type": "markdown",
   "metadata": {},
   "source": [
    "#### PT 256 byte"
   ]
  },
  {
   "cell_type": "code",
   "execution_count": 31,
   "metadata": {},
   "outputs": [
    {
     "name": "stdout",
     "output_type": "stream",
     "text": [
      "256B\n",
      "1991    561\n",
      "1992    369\n",
      "1984     26\n",
      "1989     18\n",
      "1993     15\n",
      "1990      8\n",
      "1985      3\n",
      "Name: count, dtype: int64\n",
      "\n",
      "Massimo: 1993\n",
      "Minimo: 1984\n",
      "Media: 1991.155\n",
      "Varianza: 1.8688438438438446\n"
     ]
    }
   ],
   "source": [
    "# Generazione hash\n",
    "data = axof_bi32[\"256B\"]\n",
    "\n",
    "print_data(data)"
   ]
  },
  {
   "attachments": {},
   "cell_type": "markdown",
   "metadata": {},
   "source": [
    "#### PT 512 byte"
   ]
  },
  {
   "cell_type": "code",
   "execution_count": 32,
   "metadata": {},
   "outputs": [
    {
     "name": "stdout",
     "output_type": "stream",
     "text": [
      "512B\n",
      "3743    426\n",
      "3736    177\n",
      "3741    158\n",
      "3744     92\n",
      "3742     69\n",
      "3735     45\n",
      "3737     31\n",
      "3740      2\n",
      "Name: count, dtype: int64\n",
      "\n",
      "Massimo: 3744\n",
      "Minimo: 3735\n",
      "Media: 3740.916\n",
      "Varianza: 9.146090090090093\n"
     ]
    }
   ],
   "source": [
    "# Generazione hash\n",
    "data = axof_bi32[\"512B\"]\n",
    "\n",
    "print_data(data)"
   ]
  },
  {
   "attachments": {},
   "cell_type": "markdown",
   "metadata": {},
   "source": [
    "#### PT 1024 byte"
   ]
  },
  {
   "cell_type": "code",
   "execution_count": 33,
   "metadata": {},
   "outputs": [
    {
     "name": "stdout",
     "output_type": "stream",
     "text": [
      "1024B\n",
      "7237    314\n",
      "7238    244\n",
      "7239    153\n",
      "7245    106\n",
      "7240     94\n",
      "7244     77\n",
      "7246     11\n",
      "7241      1\n",
      "Name: count, dtype: int64\n",
      "\n",
      "Massimo: 7246\n",
      "Minimo: 7237\n",
      "Media: 7239.322\n",
      "Varianza: 7.782098098098096\n"
     ]
    }
   ],
   "source": [
    "# Generazione hash\n",
    "data = axof_bi32[\"1024B\"]\n",
    "\n",
    "print_data(data)"
   ]
  },
  {
   "attachments": {},
   "cell_type": "markdown",
   "metadata": {},
   "source": [
    "### Ref"
   ]
  },
  {
   "cell_type": "code",
   "execution_count": 34,
   "metadata": {},
   "outputs": [],
   "source": [
    "with open(path.format(\"ref\"), \"r\") as f:\n",
    "    axof_ref = pd.read_csv(f, delimiter=\";\")"
   ]
  },
  {
   "attachments": {},
   "cell_type": "markdown",
   "metadata": {},
   "source": [
    "#### PT vuoto"
   ]
  },
  {
   "cell_type": "code",
   "execution_count": 35,
   "metadata": {},
   "outputs": [
    {
     "name": "stdout",
     "output_type": "stream",
     "text": [
      "0B\n",
      "386    238\n",
      "388    167\n",
      "387    132\n",
      "394    128\n",
      "393    108\n",
      "395     80\n",
      "396     72\n",
      "389     70\n",
      "397      5\n",
      "Name: count, dtype: int64\n",
      "\n",
      "Massimo: 397\n",
      "Minimo: 386\n",
      "Media: 389.951\n",
      "Varianza: 13.602201201201199\n"
     ]
    }
   ],
   "source": [
    "# Generazione hash\n",
    "data = axof_ref[\"0B\"]\n",
    "\n",
    "print_data(data)"
   ]
  },
  {
   "attachments": {},
   "cell_type": "markdown",
   "metadata": {},
   "source": [
    "#### PT 8 byte"
   ]
  },
  {
   "cell_type": "code",
   "execution_count": 36,
   "metadata": {},
   "outputs": [
    {
     "name": "stdout",
     "output_type": "stream",
     "text": [
      "8B\n",
      "466    254\n",
      "464    252\n",
      "473    144\n",
      "471    129\n",
      "474     82\n",
      "472     71\n",
      "465     44\n",
      "467     22\n",
      "475      2\n",
      "Name: count, dtype: int64\n",
      "\n",
      "Massimo: 475\n",
      "Minimo: 464\n",
      "Media: 468.227\n",
      "Varianza: 14.375846846846846\n"
     ]
    }
   ],
   "source": [
    "# Generazione hash\n",
    "data = axof_ref[\"8B\"]\n",
    "\n",
    "print_data(data)"
   ]
  },
  {
   "attachments": {},
   "cell_type": "markdown",
   "metadata": {},
   "source": [
    "#### PT 16 byte"
   ]
  },
  {
   "cell_type": "code",
   "execution_count": 37,
   "metadata": {},
   "outputs": [
    {
     "name": "stdout",
     "output_type": "stream",
     "text": [
      "16B\n",
      "544    249\n",
      "551    228\n",
      "549    201\n",
      "542    170\n",
      "552     59\n",
      "550     56\n",
      "543     28\n",
      "541      9\n",
      "Name: count, dtype: int64\n",
      "\n",
      "Massimo: 552\n",
      "Minimo: 541\n",
      "Media: 547.014\n",
      "Varianza: 13.707511511511507\n"
     ]
    }
   ],
   "source": [
    "# Generazione hash\n",
    "data = axof_ref[\"16B\"]\n",
    "\n",
    "print_data(data)"
   ]
  },
  {
   "attachments": {},
   "cell_type": "markdown",
   "metadata": {},
   "source": [
    "#### PT 32 byte"
   ]
  },
  {
   "cell_type": "code",
   "execution_count": 38,
   "metadata": {},
   "outputs": [
    {
     "name": "stdout",
     "output_type": "stream",
     "text": [
      "32B\n",
      "707    334\n",
      "705    189\n",
      "700    135\n",
      "699    116\n",
      "706    115\n",
      "704     40\n",
      "698     29\n",
      "697     23\n",
      "708     19\n",
      "Name: count, dtype: int64\n",
      "\n",
      "Massimo: 708\n",
      "Minimo: 697\n",
      "Media: 704.042\n",
      "Varianza: 11.199435435435438\n"
     ]
    }
   ],
   "source": [
    "# Generazione hash\n",
    "data = axof_ref[\"32B\"]\n",
    "\n",
    "print_data(data)"
   ]
  },
  {
   "attachments": {},
   "cell_type": "markdown",
   "metadata": {},
   "source": [
    "#### PT 64 byte"
   ]
  },
  {
   "cell_type": "code",
   "execution_count": 39,
   "metadata": {},
   "outputs": [
    {
     "name": "stdout",
     "output_type": "stream",
     "text": [
      "64B\n",
      "1018    898\n",
      "1019     54\n",
      "1026     16\n",
      "1020     14\n",
      "1017     12\n",
      "1025      3\n",
      "1021      3\n",
      "Name: count, dtype: int64\n",
      "\n",
      "Massimo: 1026\n",
      "Minimo: 1017\n",
      "Media: 1018.228\n",
      "Varianza: 1.269285285285285\n"
     ]
    }
   ],
   "source": [
    "# Generazione hash\n",
    "data = axof_ref[\"64B\"]\n",
    "\n",
    "print_data(data)"
   ]
  },
  {
   "attachments": {},
   "cell_type": "markdown",
   "metadata": {},
   "source": [
    "#### PT 128 byte"
   ]
  },
  {
   "cell_type": "code",
   "execution_count": 40,
   "metadata": {},
   "outputs": [
    {
     "name": "stdout",
     "output_type": "stream",
     "text": [
      "128B\n",
      "1650    250\n",
      "1648    174\n",
      "1642    141\n",
      "1649    133\n",
      "1643    117\n",
      "1641     56\n",
      "1647     54\n",
      "1640     42\n",
      "1651     28\n",
      "1644      5\n",
      "Name: count, dtype: int64\n",
      "\n",
      "Massimo: 1651\n",
      "Minimo: 1640\n",
      "Media: 1646.484\n",
      "Varianza: 12.666410410410412\n"
     ]
    }
   ],
   "source": [
    "# Generazione hash\n",
    "data = axof_ref[\"128B\"]\n",
    "\n",
    "print_data(data)"
   ]
  },
  {
   "attachments": {},
   "cell_type": "markdown",
   "metadata": {},
   "source": [
    "#### PT 256 byte"
   ]
  },
  {
   "cell_type": "code",
   "execution_count": 41,
   "metadata": {},
   "outputs": [
    {
     "name": "stdout",
     "output_type": "stream",
     "text": [
      "256B\n",
      "2904    617\n",
      "2903    122\n",
      "2905     89\n",
      "2902     78\n",
      "2897     58\n",
      "2896     24\n",
      "2901      7\n",
      "2895      2\n",
      "2898      2\n",
      "2906      1\n",
      "Name: count, dtype: int64\n",
      "\n",
      "Massimo: 2906\n",
      "Minimo: 2895\n",
      "Media: 2903.164\n",
      "Varianza: 4.507611611611611\n"
     ]
    }
   ],
   "source": [
    "# Generazione hash\n",
    "data = axof_ref[\"256B\"]\n",
    "\n",
    "print_data(data)"
   ]
  },
  {
   "attachments": {},
   "cell_type": "markdown",
   "metadata": {},
   "source": [
    "#### PT 512 byte"
   ]
  },
  {
   "cell_type": "code",
   "execution_count": 42,
   "metadata": {},
   "outputs": [
    {
     "name": "stdout",
     "output_type": "stream",
     "text": [
      "512B\n",
      "5412    210\n",
      "5413    171\n",
      "5414    150\n",
      "5420    121\n",
      "5422     92\n",
      "5419     91\n",
      "5421     86\n",
      "5415     70\n",
      "5423      9\n",
      "Name: count, dtype: int64\n",
      "\n",
      "Massimo: 5423\n",
      "Minimo: 5412\n",
      "Media: 5416.079\n",
      "Varianza: 14.234993993993996\n"
     ]
    }
   ],
   "source": [
    "# Generazione hash\n",
    "data = axof_ref[\"512B\"]\n",
    "\n",
    "print_data(data)"
   ]
  },
  {
   "attachments": {},
   "cell_type": "markdown",
   "metadata": {},
   "source": [
    "#### PT 1024 byte"
   ]
  },
  {
   "cell_type": "code",
   "execution_count": 43,
   "metadata": {},
   "outputs": [
    {
     "name": "stdout",
     "output_type": "stream",
     "text": [
      "1024B\n",
      "10446    202\n",
      "10440    164\n",
      "10439    152\n",
      "10438    144\n",
      "10441    131\n",
      "10448     93\n",
      "10445     71\n",
      "10447     39\n",
      "10449      2\n",
      "10437      2\n",
      "Name: count, dtype: int64\n",
      "\n",
      "Massimo: 10449\n",
      "Minimo: 10437\n",
      "Media: 10442.287\n",
      "Varianza: 12.731362362362361\n"
     ]
    }
   ],
   "source": [
    "# Generazione hash\n",
    "data = axof_ref[\"1024B\"]\n",
    "\n",
    "print_data(data)"
   ]
  }
 ],
 "metadata": {
  "kernelspec": {
   "display_name": "Python 3",
   "language": "python",
   "name": "python3"
  },
  "language_info": {
   "codemirror_mode": {
    "name": "ipython",
    "version": 3
   },
   "file_extension": ".py",
   "mimetype": "text/x-python",
   "name": "python",
   "nbconvert_exporter": "python",
   "pygments_lexer": "ipython3",
   "version": "3.11.2"
  },
  "orig_nbformat": 4
 },
 "nbformat": 4,
 "nbformat_minor": 2
}
