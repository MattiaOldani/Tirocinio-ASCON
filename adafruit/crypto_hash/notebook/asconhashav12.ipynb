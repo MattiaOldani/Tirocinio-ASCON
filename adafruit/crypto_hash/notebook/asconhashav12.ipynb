{
 "cells": [
  {
   "attachments": {},
   "cell_type": "markdown",
   "metadata": {},
   "source": [
    "# Analisi dei dati raccolti"
   ]
  },
  {
   "attachments": {},
   "cell_type": "markdown",
   "metadata": {},
   "source": [
    "## Setup"
   ]
  },
  {
   "cell_type": "code",
   "execution_count": 1,
   "metadata": {},
   "outputs": [],
   "source": [
    "import pandas as pd"
   ]
  },
  {
   "cell_type": "code",
   "execution_count": 2,
   "metadata": {},
   "outputs": [],
   "source": [
    "def print_data(series: pd.Series) -> None:\n",
    "    print(series.value_counts())\n",
    "    print()\n",
    "    print(f\"Massimo: {series.max()}\\nMinimo: {series.min()}\\nMedia: {series.mean()}\\nVarianza: {series.var()}\")"
   ]
  },
  {
   "attachments": {},
   "cell_type": "markdown",
   "metadata": {},
   "source": [
    "## Asconhashav12"
   ]
  },
  {
   "cell_type": "code",
   "execution_count": 3,
   "metadata": {},
   "outputs": [],
   "source": [
    "path = \"../asconhashav12/data/{}.csv\""
   ]
  },
  {
   "attachments": {},
   "cell_type": "markdown",
   "metadata": {},
   "source": [
    "### Armv6m"
   ]
  },
  {
   "cell_type": "code",
   "execution_count": 4,
   "metadata": {},
   "outputs": [],
   "source": [
    "with open(path.format(\"armv6m\"), \"r\") as f:\n",
    "    aha_armv6m = pd.read_csv(f, delimiter=\";\")"
   ]
  },
  {
   "attachments": {},
   "cell_type": "markdown",
   "metadata": {},
   "source": [
    "#### PT vuoto"
   ]
  },
  {
   "cell_type": "code",
   "execution_count": 5,
   "metadata": {},
   "outputs": [
    {
     "name": "stdout",
     "output_type": "stream",
     "text": [
      "0B\n",
      "185    801\n",
      "187     71\n",
      "192     48\n",
      "194     43\n",
      "186     12\n",
      "193     12\n",
      "184      9\n",
      "195      4\n",
      "Name: count, dtype: int64\n",
      "\n",
      "Massimo: 195\n",
      "Minimo: 184\n",
      "Media: 186.004\n",
      "Varianza: 6.306290290290292\n"
     ]
    }
   ],
   "source": [
    "# Generazione hash\n",
    "data = aha_armv6m[\"0B\"]\n",
    "\n",
    "print_data(data)"
   ]
  },
  {
   "attachments": {},
   "cell_type": "markdown",
   "metadata": {},
   "source": [
    "#### PT 8 byte"
   ]
  },
  {
   "cell_type": "code",
   "execution_count": 6,
   "metadata": {},
   "outputs": [
    {
     "name": "stdout",
     "output_type": "stream",
     "text": [
      "8B\n",
      "222    772\n",
      "223     58\n",
      "231     53\n",
      "224     48\n",
      "229     34\n",
      "232     22\n",
      "230     13\n",
      "Name: count, dtype: int64\n",
      "\n",
      "Massimo: 232\n",
      "Minimo: 222\n",
      "Media: 223.193\n",
      "Varianza: 7.825576576576576\n"
     ]
    }
   ],
   "source": [
    "# Generazione hash\n",
    "data = aha_armv6m[\"8B\"]\n",
    "\n",
    "print_data(data)"
   ]
  },
  {
   "attachments": {},
   "cell_type": "markdown",
   "metadata": {},
   "source": [
    "#### PT 16 byte"
   ]
  },
  {
   "cell_type": "code",
   "execution_count": 7,
   "metadata": {},
   "outputs": [
    {
     "name": "stdout",
     "output_type": "stream",
     "text": [
      "16B\n",
      "261    406\n",
      "259    339\n",
      "260     73\n",
      "268     68\n",
      "269     45\n",
      "262     29\n",
      "266     21\n",
      "267     18\n",
      "270      1\n",
      "Name: count, dtype: int64\n",
      "\n",
      "Massimo: 270\n",
      "Minimo: 259\n",
      "Media: 261.336\n",
      "Varianza: 8.819923923923922\n"
     ]
    }
   ],
   "source": [
    "# Generazione hash\n",
    "data = aha_armv6m[\"16B\"]\n",
    "\n",
    "print_data(data)"
   ]
  },
  {
   "attachments": {},
   "cell_type": "markdown",
   "metadata": {},
   "source": [
    "#### PT 32 byte"
   ]
  },
  {
   "cell_type": "code",
   "execution_count": 8,
   "metadata": {},
   "outputs": [
    {
     "name": "stdout",
     "output_type": "stream",
     "text": [
      "32B\n",
      "341    281\n",
      "340    187\n",
      "333    183\n",
      "334     91\n",
      "343     80\n",
      "335     75\n",
      "342     71\n",
      "336     31\n",
      "344      1\n",
      "Name: count, dtype: int64\n",
      "\n",
      "Massimo: 344\n",
      "Minimo: 333\n",
      "Media: 338.341\n",
      "Varianza: 13.175894894894896\n"
     ]
    }
   ],
   "source": [
    "# Generazione hash\n",
    "data = aha_armv6m[\"32B\"]\n",
    "\n",
    "print_data(data)"
   ]
  },
  {
   "attachments": {},
   "cell_type": "markdown",
   "metadata": {},
   "source": [
    "#### PT 64 byte"
   ]
  },
  {
   "cell_type": "code",
   "execution_count": 9,
   "metadata": {},
   "outputs": [
    {
     "name": "stdout",
     "output_type": "stream",
     "text": [
      "64B\n",
      "482    508\n",
      "491    212\n",
      "481    125\n",
      "489     54\n",
      "484     49\n",
      "490     30\n",
      "492     12\n",
      "483     10\n",
      "Name: count, dtype: int64\n",
      "\n",
      "Massimo: 492\n",
      "Minimo: 481\n",
      "Media: 484.629\n",
      "Varianza: 16.37373273273273\n"
     ]
    }
   ],
   "source": [
    "# Generazione hash\n",
    "data = aha_armv6m[\"64B\"]\n",
    "\n",
    "print_data(data)"
   ]
  },
  {
   "attachments": {},
   "cell_type": "markdown",
   "metadata": {},
   "source": [
    "#### PT 128 byte"
   ]
  },
  {
   "cell_type": "code",
   "execution_count": 10,
   "metadata": {},
   "outputs": [
    {
     "name": "stdout",
     "output_type": "stream",
     "text": [
      "128B\n",
      "788    587\n",
      "787    226\n",
      "786     40\n",
      "781     35\n",
      "779     31\n",
      "780     25\n",
      "789     25\n",
      "778     25\n",
      "785      6\n",
      "Name: count, dtype: int64\n",
      "\n",
      "Massimo: 789\n",
      "Minimo: 778\n",
      "Media: 786.727\n",
      "Varianza: 7.177648648648648\n"
     ]
    }
   ],
   "source": [
    "# Generazione hash\n",
    "data = aha_armv6m[\"128B\"]\n",
    "\n",
    "print_data(data)"
   ]
  },
  {
   "attachments": {},
   "cell_type": "markdown",
   "metadata": {},
   "source": [
    "#### PT 256 byte"
   ]
  },
  {
   "cell_type": "code",
   "execution_count": 11,
   "metadata": {},
   "outputs": [
    {
     "name": "stdout",
     "output_type": "stream",
     "text": [
      "256B\n",
      "1381    377\n",
      "1382    300\n",
      "1390    103\n",
      "1391    103\n",
      "1383     42\n",
      "1389     34\n",
      "1388     23\n",
      "1384     12\n",
      "1392      6\n",
      "Name: count, dtype: int64\n",
      "\n",
      "Massimo: 1392\n",
      "Minimo: 1381\n",
      "Media: 1383.876\n",
      "Varianza: 14.991615615615613\n"
     ]
    }
   ],
   "source": [
    "# Generazione hash\n",
    "data = aha_armv6m[\"256B\"]\n",
    "\n",
    "print_data(data)"
   ]
  },
  {
   "attachments": {},
   "cell_type": "markdown",
   "metadata": {},
   "source": [
    "#### PT 512 byte"
   ]
  },
  {
   "cell_type": "code",
   "execution_count": 12,
   "metadata": {},
   "outputs": [
    {
     "name": "stdout",
     "output_type": "stream",
     "text": [
      "512B\n",
      "2578    420\n",
      "2587    237\n",
      "2577    115\n",
      "2579     58\n",
      "2586     48\n",
      "2585     48\n",
      "2580     42\n",
      "2588     31\n",
      "2584      1\n",
      "Name: count, dtype: int64\n",
      "\n",
      "Massimo: 2588\n",
      "Minimo: 2577\n",
      "Media: 2581.196\n",
      "Varianza: 17.90148548548548\n"
     ]
    }
   ],
   "source": [
    "# Generazione hash\n",
    "data = aha_armv6m[\"512B\"]\n",
    "\n",
    "print_data(data)"
   ]
  },
  {
   "attachments": {},
   "cell_type": "markdown",
   "metadata": {},
   "source": [
    "#### PT 1024 byte"
   ]
  },
  {
   "cell_type": "code",
   "execution_count": 13,
   "metadata": {},
   "outputs": [
    {
     "name": "stdout",
     "output_type": "stream",
     "text": [
      "1024B\n",
      "4980    621\n",
      "4979    234\n",
      "4981    112\n",
      "4973     18\n",
      "4972     11\n",
      "4978      3\n",
      "4977      1\n",
      "Name: count, dtype: int64\n",
      "\n",
      "Massimo: 4981\n",
      "Minimo: 4972\n",
      "Media: 4979.655\n",
      "Varianza: 1.8358108108108113\n"
     ]
    }
   ],
   "source": [
    "# Generazione hash\n",
    "data = aha_armv6m[\"1024B\"]\n",
    "\n",
    "print_data(data)"
   ]
  },
  {
   "attachments": {},
   "cell_type": "markdown",
   "metadata": {},
   "source": [
    "### Armv6m_lowsize"
   ]
  },
  {
   "cell_type": "code",
   "execution_count": 14,
   "metadata": {},
   "outputs": [],
   "source": [
    "with open(path.format(\"armv6m_lowsize\"), \"r\") as f:\n",
    "    aha_lowsize = pd.read_csv(f, delimiter=\";\")"
   ]
  },
  {
   "attachments": {},
   "cell_type": "markdown",
   "metadata": {},
   "source": [
    "#### PT vuoto"
   ]
  },
  {
   "cell_type": "code",
   "execution_count": 15,
   "metadata": {},
   "outputs": [
    {
     "name": "stdout",
     "output_type": "stream",
     "text": [
      "0B\n",
      "188    475\n",
      "187    306\n",
      "197     75\n",
      "196     57\n",
      "195     27\n",
      "190     23\n",
      "189     21\n",
      "194      9\n",
      "198      5\n",
      "199      1\n",
      "191      1\n",
      "Name: count, dtype: int64\n",
      "\n",
      "Massimo: 199\n",
      "Minimo: 187\n",
      "Media: 189.199\n",
      "Varianza: 10.99239139139139\n"
     ]
    }
   ],
   "source": [
    "# Generazione hash\n",
    "data = aha_lowsize[\"0B\"]\n",
    "\n",
    "print_data(data)"
   ]
  },
  {
   "attachments": {},
   "cell_type": "markdown",
   "metadata": {},
   "source": [
    "#### PT 8 byte"
   ]
  },
  {
   "cell_type": "code",
   "execution_count": 16,
   "metadata": {},
   "outputs": [
    {
     "name": "stdout",
     "output_type": "stream",
     "text": [
      "8B\n",
      "226    474\n",
      "225    265\n",
      "235    124\n",
      "234     44\n",
      "228     28\n",
      "233     28\n",
      "227     25\n",
      "232      6\n",
      "236      6\n",
      "Name: count, dtype: int64\n",
      "\n",
      "Massimo: 236\n",
      "Minimo: 225\n",
      "Media: 227.576\n",
      "Varianza: 12.979203203203202\n"
     ]
    }
   ],
   "source": [
    "# Generazione hash\n",
    "data = aha_lowsize[\"8B\"]\n",
    "\n",
    "print_data(data)"
   ]
  },
  {
   "attachments": {},
   "cell_type": "markdown",
   "metadata": {},
   "source": [
    "#### PT 16 byte"
   ]
  },
  {
   "cell_type": "code",
   "execution_count": 17,
   "metadata": {},
   "outputs": [
    {
     "name": "stdout",
     "output_type": "stream",
     "text": [
      "16B\n",
      "264    524\n",
      "263    200\n",
      "273    139\n",
      "272     45\n",
      "266     40\n",
      "271     23\n",
      "265     18\n",
      "274      7\n",
      "270      3\n",
      "267      1\n",
      "Name: count, dtype: int64\n",
      "\n",
      "Massimo: 274\n",
      "Minimo: 263\n",
      "Media: 265.761\n",
      "Varianza: 13.373252252252255\n"
     ]
    }
   ],
   "source": [
    "# Generazione hash\n",
    "data = aha_lowsize[\"16B\"]\n",
    "\n",
    "print_data(data)"
   ]
  },
  {
   "attachments": {},
   "cell_type": "markdown",
   "metadata": {},
   "source": [
    "#### PT 32 byte"
   ]
  },
  {
   "cell_type": "code",
   "execution_count": 18,
   "metadata": {},
   "outputs": [
    {
     "name": "stdout",
     "output_type": "stream",
     "text": [
      "32B\n",
      "340    530\n",
      "349    230\n",
      "339    102\n",
      "347     44\n",
      "342     44\n",
      "348     27\n",
      "341     13\n",
      "350     10\n",
      "Name: count, dtype: int64\n",
      "\n",
      "Massimo: 350\n",
      "Minimo: 339\n",
      "Media: 342.693\n",
      "Varianza: 16.569320320320323\n"
     ]
    }
   ],
   "source": [
    "# Generazione hash\n",
    "data = aha_lowsize[\"32B\"]\n",
    "\n",
    "print_data(data)"
   ]
  },
  {
   "attachments": {},
   "cell_type": "markdown",
   "metadata": {},
   "source": [
    "#### PT 64 byte"
   ]
  },
  {
   "cell_type": "code",
   "execution_count": 19,
   "metadata": {},
   "outputs": [
    {
     "name": "stdout",
     "output_type": "stream",
     "text": [
      "64B\n",
      "492    421\n",
      "501    366\n",
      "502     95\n",
      "493     49\n",
      "494     33\n",
      "499     20\n",
      "500     14\n",
      "503      1\n",
      "495      1\n",
      "Name: count, dtype: int64\n",
      "\n",
      "Massimo: 503\n",
      "Minimo: 492\n",
      "Media: 496.625\n",
      "Varianza: 19.96233733733734\n"
     ]
    }
   ],
   "source": [
    "# Generazione hash\n",
    "data = aha_lowsize[\"64B\"]\n",
    "\n",
    "print_data(data)"
   ]
  },
  {
   "attachments": {},
   "cell_type": "markdown",
   "metadata": {},
   "source": [
    "#### PT 128 byte"
   ]
  },
  {
   "cell_type": "code",
   "execution_count": 20,
   "metadata": {},
   "outputs": [
    {
     "name": "stdout",
     "output_type": "stream",
     "text": [
      "128B\n",
      "806    461\n",
      "805    241\n",
      "797    109\n",
      "796     68\n",
      "799     40\n",
      "798     33\n",
      "804     24\n",
      "807     19\n",
      "803      5\n",
      "Name: count, dtype: int64\n",
      "\n",
      "Massimo: 807\n",
      "Minimo: 796\n",
      "Media: 803.51\n",
      "Varianza: 13.915815815815817\n"
     ]
    }
   ],
   "source": [
    "# Generazione hash\n",
    "data = aha_lowsize[\"128B\"]\n",
    "\n",
    "print_data(data)"
   ]
  },
  {
   "attachments": {},
   "cell_type": "markdown",
   "metadata": {},
   "source": [
    "#### PT 256 byte"
   ]
  },
  {
   "cell_type": "code",
   "execution_count": 21,
   "metadata": {},
   "outputs": [
    {
     "name": "stdout",
     "output_type": "stream",
     "text": [
      "256B\n",
      "1415    350\n",
      "1424    236\n",
      "1414    193\n",
      "1423    107\n",
      "1416     38\n",
      "1417     29\n",
      "1425     25\n",
      "1422     21\n",
      "1421      1\n",
      "Name: count, dtype: int64\n",
      "\n",
      "Massimo: 1425\n",
      "Minimo: 1414\n",
      "Media: 1418.286\n",
      "Varianza: 19.0973013013013\n"
     ]
    }
   ],
   "source": [
    "# Generazione hash\n",
    "data = aha_lowsize[\"256B\"]\n",
    "\n",
    "print_data(data)"
   ]
  },
  {
   "attachments": {},
   "cell_type": "markdown",
   "metadata": {},
   "source": [
    "#### PT 512 byte"
   ]
  },
  {
   "cell_type": "code",
   "execution_count": 22,
   "metadata": {},
   "outputs": [
    {
     "name": "stdout",
     "output_type": "stream",
     "text": [
      "512B\n",
      "2651    463\n",
      "2642    167\n",
      "2650    119\n",
      "2641     72\n",
      "2649     59\n",
      "2652     57\n",
      "2643     35\n",
      "2644     25\n",
      "2648      2\n",
      "2645      1\n",
      "Name: count, dtype: int64\n",
      "\n",
      "Massimo: 2652\n",
      "Minimo: 2641\n",
      "Media: 2648.13\n",
      "Varianza: 16.437537537537537\n"
     ]
    }
   ],
   "source": [
    "# Generazione hash\n",
    "data = aha_lowsize[\"512B\"]\n",
    "\n",
    "print_data(data)"
   ]
  },
  {
   "attachments": {},
   "cell_type": "markdown",
   "metadata": {},
   "source": [
    "#### PT 1024 byte"
   ]
  },
  {
   "cell_type": "code",
   "execution_count": 23,
   "metadata": {},
   "outputs": [
    {
     "name": "stdout",
     "output_type": "stream",
     "text": [
      "1024B\n",
      "5105    601\n",
      "5106    174\n",
      "5114     45\n",
      "5104     42\n",
      "5112     30\n",
      "5103     29\n",
      "5113     28\n",
      "5107     27\n",
      "5115     22\n",
      "5108      2\n",
      "Name: count, dtype: int64\n",
      "\n",
      "Massimo: 5115\n",
      "Minimo: 5103\n",
      "Media: 5106.193\n",
      "Varianza: 8.149900900900903\n"
     ]
    }
   ],
   "source": [
    "# Generazione hash\n",
    "data = aha_lowsize[\"1024B\"]\n",
    "\n",
    "print_data(data)"
   ]
  },
  {
   "attachments": {},
   "cell_type": "markdown",
   "metadata": {},
   "source": [
    "### Bi32_armv6m"
   ]
  },
  {
   "cell_type": "code",
   "execution_count": 24,
   "metadata": {},
   "outputs": [],
   "source": [
    "with open(path.format(\"bi32_armv6m\"), \"r\") as f:\n",
    "    aha_bi32 = pd.read_csv(f, delimiter=\";\")"
   ]
  },
  {
   "attachments": {},
   "cell_type": "markdown",
   "metadata": {},
   "source": [
    "#### PT vuoto"
   ]
  },
  {
   "cell_type": "code",
   "execution_count": 25,
   "metadata": {},
   "outputs": [
    {
     "name": "stdout",
     "output_type": "stream",
     "text": [
      "0B\n",
      "191    574\n",
      "193    172\n",
      "192    106\n",
      "198     77\n",
      "199     48\n",
      "194     22\n",
      "200      1\n",
      "Name: count, dtype: int64\n",
      "\n",
      "Massimo: 200\n",
      "Minimo: 191\n",
      "Media: 192.448\n",
      "Varianza: 5.827123123123123\n"
     ]
    }
   ],
   "source": [
    "# Generazione hash\n",
    "data = aha_bi32[\"0B\"]\n",
    "\n",
    "print_data(data)"
   ]
  },
  {
   "attachments": {},
   "cell_type": "markdown",
   "metadata": {},
   "source": [
    "#### PT 8 byte"
   ]
  },
  {
   "cell_type": "code",
   "execution_count": 26,
   "metadata": {},
   "outputs": [
    {
     "name": "stdout",
     "output_type": "stream",
     "text": [
      "8B\n",
      "229    361\n",
      "231    155\n",
      "230    154\n",
      "237    143\n",
      "236    102\n",
      "232     79\n",
      "238      6\n",
      "Name: count, dtype: int64\n",
      "\n",
      "Massimo: 238\n",
      "Minimo: 229\n",
      "Media: 231.613\n",
      "Varianza: 9.30253353353353\n"
     ]
    }
   ],
   "source": [
    "# Generazione hash\n",
    "data = aha_bi32[\"8B\"]\n",
    "\n",
    "print_data(data)"
   ]
  },
  {
   "attachments": {},
   "cell_type": "markdown",
   "metadata": {},
   "source": [
    "#### PT 16 byte"
   ]
  },
  {
   "cell_type": "code",
   "execution_count": 27,
   "metadata": {},
   "outputs": [
    {
     "name": "stdout",
     "output_type": "stream",
     "text": [
      "16B\n",
      "268    268\n",
      "267    264\n",
      "269    145\n",
      "270    131\n",
      "275    116\n",
      "274     51\n",
      "276     17\n",
      "277      7\n",
      "271      1\n",
      "Name: count, dtype: int64\n",
      "\n",
      "Massimo: 277\n",
      "Minimo: 267\n",
      "Media: 269.463\n",
      "Varianza: 7.984615615615618\n"
     ]
    }
   ],
   "source": [
    "# Generazione hash\n",
    "data = aha_bi32[\"16B\"]\n",
    "\n",
    "print_data(data)"
   ]
  },
  {
   "attachments": {},
   "cell_type": "markdown",
   "metadata": {},
   "source": [
    "#### PT 32 byte"
   ]
  },
  {
   "cell_type": "code",
   "execution_count": 28,
   "metadata": {},
   "outputs": [
    {
     "name": "stdout",
     "output_type": "stream",
     "text": [
      "32B\n",
      "351    351\n",
      "344    249\n",
      "346    190\n",
      "345     65\n",
      "353     62\n",
      "343     46\n",
      "352     28\n",
      "354      9\n",
      "Name: count, dtype: int64\n",
      "\n",
      "Massimo: 354\n",
      "Minimo: 343\n",
      "Media: 347.728\n",
      "Varianza: 11.897913913913916\n"
     ]
    }
   ],
   "source": [
    "# Generazione hash\n",
    "data = aha_bi32[\"32B\"]\n",
    "\n",
    "print_data(data)"
   ]
  },
  {
   "attachments": {},
   "cell_type": "markdown",
   "metadata": {},
   "source": [
    "#### PT 64 byte"
   ]
  },
  {
   "cell_type": "code",
   "execution_count": 29,
   "metadata": {},
   "outputs": [
    {
     "name": "stdout",
     "output_type": "stream",
     "text": [
      "64B\n",
      "504    279\n",
      "498    186\n",
      "499    172\n",
      "503    107\n",
      "506     77\n",
      "505     63\n",
      "497     58\n",
      "496     55\n",
      "507      2\n",
      "500      1\n",
      "Name: count, dtype: int64\n",
      "\n",
      "Massimo: 507\n",
      "Minimo: 496\n",
      "Media: 501.29\n",
      "Varianza: 10.536436436436434\n"
     ]
    }
   ],
   "source": [
    "# Generazione hash\n",
    "data = aha_bi32[\"64B\"]\n",
    "\n",
    "print_data(data)"
   ]
  },
  {
   "attachments": {},
   "cell_type": "markdown",
   "metadata": {},
   "source": [
    "#### PT 128 byte"
   ]
  },
  {
   "cell_type": "code",
   "execution_count": 30,
   "metadata": {},
   "outputs": [
    {
     "name": "stdout",
     "output_type": "stream",
     "text": [
      "128B\n",
      "811    509\n",
      "804    197\n",
      "809    187\n",
      "803     46\n",
      "812     33\n",
      "810     28\n",
      "Name: count, dtype: int64\n",
      "\n",
      "Massimo: 812\n",
      "Minimo: 803\n",
      "Media: 808.884\n",
      "Varianza: 8.937481481481484\n"
     ]
    }
   ],
   "source": [
    "# Generazione hash\n",
    "data = aha_bi32[\"128B\"]\n",
    "\n",
    "print_data(data)"
   ]
  },
  {
   "attachments": {},
   "cell_type": "markdown",
   "metadata": {},
   "source": [
    "#### PT 256 byte"
   ]
  },
  {
   "cell_type": "code",
   "execution_count": 31,
   "metadata": {},
   "outputs": [
    {
     "name": "stdout",
     "output_type": "stream",
     "text": [
      "256B\n",
      "1429    284\n",
      "1422    175\n",
      "1424    138\n",
      "1431    113\n",
      "1423    110\n",
      "1421     94\n",
      "1430     43\n",
      "1428     27\n",
      "1432     11\n",
      "1425      5\n",
      "Name: count, dtype: int64\n",
      "\n",
      "Massimo: 1432\n",
      "Minimo: 1421\n",
      "Media: 1425.928\n",
      "Varianza: 13.278094094094097\n"
     ]
    }
   ],
   "source": [
    "# Generazione hash\n",
    "data = aha_bi32[\"256B\"]\n",
    "\n",
    "print_data(data)"
   ]
  },
  {
   "attachments": {},
   "cell_type": "markdown",
   "metadata": {},
   "source": [
    "#### PT 512 byte"
   ]
  },
  {
   "cell_type": "code",
   "execution_count": 32,
   "metadata": {},
   "outputs": [
    {
     "name": "stdout",
     "output_type": "stream",
     "text": [
      "512B\n",
      "2661    251\n",
      "2654    190\n",
      "2659    183\n",
      "2662    162\n",
      "2660    138\n",
      "2655     47\n",
      "2652     19\n",
      "2663      6\n",
      "2653      4\n",
      "Name: count, dtype: int64\n",
      "\n",
      "Massimo: 2663\n",
      "Minimo: 2652\n",
      "Media: 2658.855\n",
      "Varianza: 9.261236236236238\n"
     ]
    }
   ],
   "source": [
    "# Generazione hash\n",
    "data = aha_bi32[\"512B\"]\n",
    "\n",
    "print_data(data)"
   ]
  },
  {
   "attachments": {},
   "cell_type": "markdown",
   "metadata": {},
   "source": [
    "#### PT 1024 byte"
   ]
  },
  {
   "cell_type": "code",
   "execution_count": 33,
   "metadata": {},
   "outputs": [
    {
     "name": "stdout",
     "output_type": "stream",
     "text": [
      "1024B\n",
      "5122    308\n",
      "5123    305\n",
      "5130    124\n",
      "5124    107\n",
      "5125     74\n",
      "5129     59\n",
      "5131     22\n",
      "5126      1\n",
      "Name: count, dtype: int64\n",
      "\n",
      "Massimo: 5131\n",
      "Minimo: 5122\n",
      "Media: 5124.348\n",
      "Varianza: 8.519415415415414\n"
     ]
    }
   ],
   "source": [
    "# Generazione hash\n",
    "data = aha_bi32[\"1024B\"]\n",
    "\n",
    "print_data(data)"
   ]
  },
  {
   "attachments": {},
   "cell_type": "markdown",
   "metadata": {},
   "source": [
    "### Ref"
   ]
  },
  {
   "cell_type": "code",
   "execution_count": 34,
   "metadata": {},
   "outputs": [],
   "source": [
    "with open(path.format(\"ref\"), \"r\") as f:\n",
    "    aha_ref = pd.read_csv(f, delimiter=\";\")"
   ]
  },
  {
   "attachments": {},
   "cell_type": "markdown",
   "metadata": {},
   "source": [
    "#### PT vuoto"
   ]
  },
  {
   "cell_type": "code",
   "execution_count": 35,
   "metadata": {},
   "outputs": [
    {
     "name": "stdout",
     "output_type": "stream",
     "text": [
      "0B\n",
      "314    415\n",
      "316    233\n",
      "321    128\n",
      "322     94\n",
      "315     64\n",
      "323     36\n",
      "317     21\n",
      "324      9\n",
      "Name: count, dtype: int64\n",
      "\n",
      "Massimo: 324\n",
      "Minimo: 314\n",
      "Media: 316.655\n",
      "Varianza: 10.250225225225227\n"
     ]
    }
   ],
   "source": [
    "# Generazione hash\n",
    "data = aha_ref[\"0B\"]\n",
    "\n",
    "print_data(data)"
   ]
  },
  {
   "attachments": {},
   "cell_type": "markdown",
   "metadata": {},
   "source": [
    "#### PT 8 byte"
   ]
  },
  {
   "cell_type": "code",
   "execution_count": 36,
   "metadata": {},
   "outputs": [
    {
     "name": "stdout",
     "output_type": "stream",
     "text": [
      "8B\n",
      "367    325\n",
      "369    320\n",
      "374    129\n",
      "375    101\n",
      "368     48\n",
      "376     33\n",
      "370     28\n",
      "377     15\n",
      "378      1\n",
      "Name: count, dtype: int64\n",
      "\n",
      "Massimo: 378\n",
      "Minimo: 367\n",
      "Media: 369.941\n",
      "Varianza: 10.019538538538539\n"
     ]
    }
   ],
   "source": [
    "# Generazione hash\n",
    "data = aha_ref[\"8B\"]\n",
    "\n",
    "print_data(data)"
   ]
  },
  {
   "attachments": {},
   "cell_type": "markdown",
   "metadata": {},
   "source": [
    "#### PT 16 byte"
   ]
  },
  {
   "cell_type": "code",
   "execution_count": 37,
   "metadata": {},
   "outputs": [
    {
     "name": "stdout",
     "output_type": "stream",
     "text": [
      "16B\n",
      "420    263\n",
      "422    207\n",
      "427    174\n",
      "428    113\n",
      "429    109\n",
      "430     58\n",
      "421     42\n",
      "423     33\n",
      "431      1\n",
      "Name: count, dtype: int64\n",
      "\n",
      "Massimo: 431\n",
      "Minimo: 420\n",
      "Media: 424.249\n",
      "Varianza: 13.63463363363363\n"
     ]
    }
   ],
   "source": [
    "# Generazione hash\n",
    "data = aha_ref[\"16B\"]\n",
    "\n",
    "print_data(data)"
   ]
  },
  {
   "attachments": {},
   "cell_type": "markdown",
   "metadata": {},
   "source": [
    "#### PT 32 byte"
   ]
  },
  {
   "cell_type": "code",
   "execution_count": 38,
   "metadata": {},
   "outputs": [
    {
     "name": "stdout",
     "output_type": "stream",
     "text": [
      "32B\n",
      "528    218\n",
      "526    164\n",
      "535    155\n",
      "533    134\n",
      "534    123\n",
      "536    121\n",
      "529     41\n",
      "527     40\n",
      "537      4\n",
      "Name: count, dtype: int64\n",
      "\n",
      "Massimo: 537\n",
      "Minimo: 526\n",
      "Media: 531.17\n",
      "Varianza: 14.143243243243246\n"
     ]
    }
   ],
   "source": [
    "# Generazione hash\n",
    "data = aha_ref[\"32B\"]\n",
    "\n",
    "print_data(data)"
   ]
  },
  {
   "attachments": {},
   "cell_type": "markdown",
   "metadata": {},
   "source": [
    "#### PT 64 byte"
   ]
  },
  {
   "cell_type": "code",
   "execution_count": 39,
   "metadata": {},
   "outputs": [
    {
     "name": "stdout",
     "output_type": "stream",
     "text": [
      "64B\n",
      "747    272\n",
      "748    244\n",
      "740    177\n",
      "746    133\n",
      "745     99\n",
      "741     53\n",
      "749     10\n",
      "738     10\n",
      "739      2\n",
      "Name: count, dtype: int64\n",
      "\n",
      "Massimo: 749\n",
      "Minimo: 738\n",
      "Media: 745.27\n",
      "Varianza: 9.348448448448451\n"
     ]
    }
   ],
   "source": [
    "# Generazione hash\n",
    "data = aha_ref[\"64B\"]\n",
    "\n",
    "print_data(data)"
   ]
  },
  {
   "attachments": {},
   "cell_type": "markdown",
   "metadata": {},
   "source": [
    "#### PT 128 byte"
   ]
  },
  {
   "cell_type": "code",
   "execution_count": 40,
   "metadata": {},
   "outputs": [
    {
     "name": "stdout",
     "output_type": "stream",
     "text": [
      "128B\n",
      "1172    401\n",
      "1171    224\n",
      "1179    130\n",
      "1174    103\n",
      "1173     89\n",
      "1178     29\n",
      "1180     18\n",
      "1175      6\n",
      "Name: count, dtype: int64\n",
      "\n",
      "Massimo: 1180\n",
      "Minimo: 1171\n",
      "Media: 1173.317\n",
      "Varianza: 7.61812912912913\n"
     ]
    }
   ],
   "source": [
    "# Generazione hash\n",
    "data = aha_ref[\"128B\"]\n",
    "\n",
    "print_data(data)"
   ]
  },
  {
   "attachments": {},
   "cell_type": "markdown",
   "metadata": {},
   "source": [
    "#### PT 256 byte"
   ]
  },
  {
   "cell_type": "code",
   "execution_count": 41,
   "metadata": {},
   "outputs": [
    {
     "name": "stdout",
     "output_type": "stream",
     "text": [
      "256B\n",
      "2029    744\n",
      "2030    230\n",
      "2031     17\n",
      "2032      4\n",
      "2037      3\n",
      "2036      2\n",
      "Name: count, dtype: int64\n",
      "\n",
      "Massimo: 2037\n",
      "Minimo: 2029\n",
      "Media: 2029.314\n",
      "Varianza: 0.5259299299299299\n"
     ]
    }
   ],
   "source": [
    "# Generazione hash\n",
    "data = aha_ref[\"256B\"]\n",
    "\n",
    "print_data(data)"
   ]
  },
  {
   "attachments": {},
   "cell_type": "markdown",
   "metadata": {},
   "source": [
    "#### PT 512 byte"
   ]
  },
  {
   "cell_type": "code",
   "execution_count": 42,
   "metadata": {},
   "outputs": [
    {
     "name": "stdout",
     "output_type": "stream",
     "text": [
      "512B\n",
      "3744    339\n",
      "3737    184\n",
      "3745    182\n",
      "3742    151\n",
      "3743     70\n",
      "3736     31\n",
      "3738     28\n",
      "3735     14\n",
      "3734      1\n",
      "Name: count, dtype: int64\n",
      "\n",
      "Massimo: 3745\n",
      "Minimo: 3734\n",
      "Media: 3741.97\n",
      "Varianza: 9.987087087087085\n"
     ]
    }
   ],
   "source": [
    "# Generazione hash\n",
    "data = aha_ref[\"512B\"]\n",
    "\n",
    "print_data(data)"
   ]
  },
  {
   "attachments": {},
   "cell_type": "markdown",
   "metadata": {},
   "source": [
    "#### PT 1024 byte"
   ]
  },
  {
   "cell_type": "code",
   "execution_count": 43,
   "metadata": {},
   "outputs": [
    {
     "name": "stdout",
     "output_type": "stream",
     "text": [
      "1024B\n",
      "7165    407\n",
      "7166    239\n",
      "7173    104\n",
      "7167     90\n",
      "7172     76\n",
      "7168     57\n",
      "7164     26\n",
      "7174      1\n",
      "Name: count, dtype: int64\n",
      "\n",
      "Massimo: 7174\n",
      "Minimo: 7164\n",
      "Media: 7166.937\n",
      "Varianza: 7.854885885885885\n"
     ]
    }
   ],
   "source": [
    "# Generazione hash\n",
    "data = aha_ref[\"1024B\"]\n",
    "\n",
    "print_data(data)"
   ]
  }
 ],
 "metadata": {
  "kernelspec": {
   "display_name": "Python 3",
   "language": "python",
   "name": "python3"
  },
  "language_info": {
   "codemirror_mode": {
    "name": "ipython",
    "version": 3
   },
   "file_extension": ".py",
   "mimetype": "text/x-python",
   "name": "python",
   "nbconvert_exporter": "python",
   "pygments_lexer": "ipython3",
   "version": "3.11.2"
  },
  "orig_nbformat": 4
 },
 "nbformat": 4,
 "nbformat_minor": 2
}
