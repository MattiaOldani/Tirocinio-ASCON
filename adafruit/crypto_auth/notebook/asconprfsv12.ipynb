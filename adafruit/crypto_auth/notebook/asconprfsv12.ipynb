{
 "cells": [
  {
   "attachments": {},
   "cell_type": "markdown",
   "metadata": {},
   "source": [
    "# Analisi dei dati raccolti"
   ]
  },
  {
   "attachments": {},
   "cell_type": "markdown",
   "metadata": {},
   "source": [
    "## Setup"
   ]
  },
  {
   "cell_type": "code",
   "execution_count": 1,
   "metadata": {},
   "outputs": [],
   "source": [
    "import pandas as pd"
   ]
  },
  {
   "cell_type": "code",
   "execution_count": 2,
   "metadata": {},
   "outputs": [],
   "source": [
    "def print_data(series: pd.Series) -> None:\n",
    "    print(series.value_counts())\n",
    "    print()\n",
    "    print(f\"Massimo: {series.max()}\\nMinimo: {series.min()}\\nMedia: {series.mean()}\\nVarianza: {series.var()}\")"
   ]
  },
  {
   "attachments": {},
   "cell_type": "markdown",
   "metadata": {},
   "source": [
    "## Asconprfsv12"
   ]
  },
  {
   "cell_type": "code",
   "execution_count": 3,
   "metadata": {},
   "outputs": [],
   "source": [
    "path = \"../asconprfsv12/data/{}.csv\""
   ]
  },
  {
   "attachments": {},
   "cell_type": "markdown",
   "metadata": {},
   "source": [
    "### Armv6m"
   ]
  },
  {
   "cell_type": "code",
   "execution_count": 4,
   "metadata": {},
   "outputs": [],
   "source": [
    "with open(path.format(\"armv6m\"), \"r\") as f:\n",
    "    aprfs_armv6m = pd.read_csv(f, delimiter=\";\")"
   ]
  },
  {
   "attachments": {},
   "cell_type": "markdown",
   "metadata": {},
   "source": [
    "#### PT vuoto"
   ]
  },
  {
   "cell_type": "code",
   "execution_count": 5,
   "metadata": {},
   "outputs": [
    {
     "name": "stdout",
     "output_type": "stream",
     "text": [
      "0B-A\n",
      "62    707\n",
      "61    179\n",
      "64     66\n",
      "69     26\n",
      "63     21\n",
      "70      1\n",
      "Name: count, dtype: int64\n",
      "\n",
      "Massimo: 70\n",
      "Minimo: 61\n",
      "Media: 62.164\n",
      "Varianza: 1.776880880880881\n"
     ]
    }
   ],
   "source": [
    "# Generazione tag\n",
    "data = aprfs_armv6m[\"0B-A\"]\n",
    "\n",
    "print_data(data)"
   ]
  },
  {
   "cell_type": "code",
   "execution_count": 6,
   "metadata": {},
   "outputs": [
    {
     "name": "stdout",
     "output_type": "stream",
     "text": [
      "0B-V\n",
      "130    578\n",
      "131    245\n",
      "132     92\n",
      "133     27\n",
      "138     22\n",
      "140     15\n",
      "139     11\n",
      "137     10\n",
      "Name: count, dtype: int64\n",
      "\n",
      "Massimo: 140\n",
      "Minimo: 130\n",
      "Media: 131.005\n",
      "Varianza: 4.139114114114114\n"
     ]
    }
   ],
   "source": [
    "# Verifica tag\n",
    "data = aprfs_armv6m[\"0B-V\"]\n",
    "\n",
    "print_data(data)"
   ]
  },
  {
   "attachments": {},
   "cell_type": "markdown",
   "metadata": {},
   "source": [
    "#### PT 8 byte"
   ]
  },
  {
   "cell_type": "code",
   "execution_count": 7,
   "metadata": {},
   "outputs": [
    {
     "name": "stdout",
     "output_type": "stream",
     "text": [
      "8B-A\n",
      "63    454\n",
      "64    412\n",
      "65     67\n",
      "66     35\n",
      "71     23\n",
      "70      7\n",
      "67      1\n",
      "72      1\n",
      "Name: count, dtype: int64\n",
      "\n",
      "Massimo: 72\n",
      "Minimo: 63\n",
      "Media: 63.897\n",
      "Varianza: 2.104495495495496\n"
     ]
    }
   ],
   "source": [
    "# Generazione tag\n",
    "data = aprfs_armv6m[\"8B-A\"]\n",
    "\n",
    "print_data(data)"
   ]
  },
  {
   "cell_type": "code",
   "execution_count": 8,
   "metadata": {},
   "outputs": [
    {
     "name": "stdout",
     "output_type": "stream",
     "text": [
      "8B-V\n",
      "134    491\n",
      "133    334\n",
      "136     60\n",
      "135     53\n",
      "143     28\n",
      "141     23\n",
      "142      5\n",
      "140      4\n",
      "144      2\n",
      "Name: count, dtype: int64\n",
      "\n",
      "Massimo: 144\n",
      "Minimo: 133\n",
      "Media: 134.336\n",
      "Varianza: 4.577681681681681\n"
     ]
    }
   ],
   "source": [
    "# Verifica tag\n",
    "data = aprfs_armv6m[\"8B-V\"]\n",
    "\n",
    "print_data(data)"
   ]
  },
  {
   "attachments": {},
   "cell_type": "markdown",
   "metadata": {},
   "source": [
    "#### PT 16 byte"
   ]
  },
  {
   "cell_type": "code",
   "execution_count": 9,
   "metadata": {},
   "outputs": [
    {
     "name": "stdout",
     "output_type": "stream",
     "text": [
      "16B-A\n",
      "64    659\n",
      "65    203\n",
      "66     90\n",
      "71     20\n",
      "67     15\n",
      "72     12\n",
      "73      1\n",
      "Name: count, dtype: int64\n",
      "\n",
      "Massimo: 73\n",
      "Minimo: 64\n",
      "Media: 64.673\n",
      "Varianza: 2.076147147147148\n"
     ]
    }
   ],
   "source": [
    "# Generazione tag\n",
    "data = aprfs_armv6m[\"16B-A\"]\n",
    "\n",
    "print_data(data)"
   ]
  },
  {
   "cell_type": "code",
   "execution_count": 10,
   "metadata": {},
   "outputs": [
    {
     "name": "stdout",
     "output_type": "stream",
     "text": [
      "16B-V\n",
      "135    650\n",
      "137    139\n",
      "136    132\n",
      "144     21\n",
      "143     19\n",
      "142     19\n",
      "138     11\n",
      "145      9\n",
      "Name: count, dtype: int64\n",
      "\n",
      "Massimo: 145\n",
      "Minimo: 135\n",
      "Media: 136.007\n",
      "Varianza: 4.525476476476475\n"
     ]
    }
   ],
   "source": [
    "# Verifica tag\n",
    "data = aprfs_armv6m[\"16B-V\"]\n",
    "\n",
    "print_data(data)"
   ]
  },
  {
   "attachments": {},
   "cell_type": "markdown",
   "metadata": {},
   "source": [
    "### Bi32_armv6m"
   ]
  },
  {
   "cell_type": "code",
   "execution_count": 11,
   "metadata": {},
   "outputs": [],
   "source": [
    "with open(path.format(\"bi32_armv6m\"), \"r\") as f:\n",
    "    aprfs_bi32 = pd.read_csv(f, delimiter=\";\")"
   ]
  },
  {
   "attachments": {},
   "cell_type": "markdown",
   "metadata": {},
   "source": [
    "#### PT vuoto"
   ]
  },
  {
   "cell_type": "code",
   "execution_count": 12,
   "metadata": {},
   "outputs": [
    {
     "name": "stdout",
     "output_type": "stream",
     "text": [
      "0B-A\n",
      "68     1254\n",
      "69      561\n",
      "92      201\n",
      "93      100\n",
      "76       42\n",
      "77       41\n",
      "70       36\n",
      "75       35\n",
      "94       19\n",
      "78       19\n",
      "100      17\n",
      "99       12\n",
      "71       10\n",
      "95        6\n",
      "72        1\n",
      "101       1\n",
      "79        1\n",
      "Name: count, dtype: int64\n",
      "\n",
      "Massimo: 101\n",
      "Minimo: 68\n",
      "Media: 72.56154499151104\n",
      "Varianza: 79.4293316247265\n"
     ]
    }
   ],
   "source": [
    "# Generazione tag\n",
    "data = aprfs_bi32[\"0B-A\"]\n",
    "\n",
    "print_data(data)"
   ]
  },
  {
   "cell_type": "code",
   "execution_count": 13,
   "metadata": {},
   "outputs": [
    {
     "name": "stdout",
     "output_type": "stream",
     "text": [
      "0B-V\n",
      "143    843\n",
      "144    804\n",
      "191    155\n",
      "192    126\n",
      "145     84\n",
      "153     72\n",
      "151     54\n",
      "146     54\n",
      "152     51\n",
      "150     34\n",
      "193     26\n",
      "199     24\n",
      "194     16\n",
      "198      9\n",
      "154      4\n",
      "Name: count, dtype: int64\n",
      "\n",
      "Massimo: 199\n",
      "Minimo: 143\n",
      "Media: 151.74193548387098\n",
      "Varianza: 300.324881857407\n"
     ]
    }
   ],
   "source": [
    "# Verifica tag\n",
    "data = aprfs_bi32[\"0B-V\"]\n",
    "\n",
    "print_data(data)"
   ]
  },
  {
   "attachments": {},
   "cell_type": "markdown",
   "metadata": {},
   "source": [
    "#### PT 8 byte"
   ]
  },
  {
   "cell_type": "code",
   "execution_count": 14,
   "metadata": {},
   "outputs": [
    {
     "name": "stdout",
     "output_type": "stream",
     "text": [
      "8B-A\n",
      "72     1064\n",
      "71      727\n",
      "96      155\n",
      "97      153\n",
      "79       51\n",
      "81       43\n",
      "73       42\n",
      "74       31\n",
      "78       22\n",
      "80       19\n",
      "104      18\n",
      "98       14\n",
      "99       10\n",
      "103       4\n",
      "105       2\n",
      "82        1\n",
      "Name: count, dtype: int64\n",
      "\n",
      "Massimo: 105\n",
      "Minimo: 71\n",
      "Media: 75.97283531409168\n",
      "Varianza: 84.03832758390737\n"
     ]
    }
   ],
   "source": [
    "# Generazione tag\n",
    "data = aprfs_bi32[\"8B-A\"]\n",
    "\n",
    "print_data(data)"
   ]
  },
  {
   "cell_type": "code",
   "execution_count": 15,
   "metadata": {},
   "outputs": [
    {
     "name": "stdout",
     "output_type": "stream",
     "text": [
      "8B-V\n",
      "150    1614\n",
      "200     209\n",
      "152     110\n",
      "157     104\n",
      "199      68\n",
      "151      65\n",
      "159      52\n",
      "158      38\n",
      "202      33\n",
      "207      22\n",
      "201      17\n",
      "160      17\n",
      "208       6\n",
      "206       1\n",
      "Name: count, dtype: int64\n",
      "\n",
      "Massimo: 208\n",
      "Minimo: 150\n",
      "Media: 158.47962648556876\n",
      "Varianza: 322.1036187139309\n"
     ]
    }
   ],
   "source": [
    "# Verifica tag\n",
    "data = aprfs_bi32[\"8B-V\"]\n",
    "\n",
    "print_data(data)"
   ]
  },
  {
   "attachments": {},
   "cell_type": "markdown",
   "metadata": {},
   "source": [
    "#### PT 16 byte"
   ]
  },
  {
   "cell_type": "code",
   "execution_count": 16,
   "metadata": {},
   "outputs": [
    {
     "name": "stdout",
     "output_type": "stream",
     "text": [
      "16B-A\n",
      "74     1690\n",
      "100     185\n",
      "101     116\n",
      "83      100\n",
      "81       78\n",
      "76       46\n",
      "73       37\n",
      "82       21\n",
      "108      21\n",
      "102      15\n",
      "75       14\n",
      "84       12\n",
      "107       9\n",
      "103       9\n",
      "77        2\n",
      "104       1\n",
      "Name: count, dtype: int64\n",
      "\n",
      "Massimo: 108\n",
      "Minimo: 73\n",
      "Media: 78.86969439728354\n",
      "Varianza: 94.59829986410448\n"
     ]
    }
   ],
   "source": [
    "# Generazione tag\n",
    "data = aprfs_bi32[\"16B-A\"]\n",
    "\n",
    "print_data(data)"
   ]
  },
  {
   "cell_type": "code",
   "execution_count": 17,
   "metadata": {},
   "outputs": [
    {
     "name": "stdout",
     "output_type": "stream",
     "text": [
      "16B-V\n",
      "155    1398\n",
      "154     275\n",
      "208     160\n",
      "207     115\n",
      "157      87\n",
      "164      85\n",
      "162      84\n",
      "156      46\n",
      "215      34\n",
      "163      21\n",
      "210      19\n",
      "209      17\n",
      "214       9\n",
      "165       3\n",
      "216       2\n",
      "158       1\n",
      "Name: count, dtype: int64\n",
      "\n",
      "Massimo: 216\n",
      "Minimo: 154\n",
      "Media: 163.75\n",
      "Varianza: 365.8427813163482\n"
     ]
    }
   ],
   "source": [
    "# Verifica tag\n",
    "data = aprfs_bi32[\"16B-V\"]\n",
    "\n",
    "print_data(data)"
   ]
  },
  {
   "attachments": {},
   "cell_type": "markdown",
   "metadata": {},
   "source": [
    "### Ref"
   ]
  },
  {
   "cell_type": "code",
   "execution_count": 18,
   "metadata": {},
   "outputs": [],
   "source": [
    "with open(path.format(\"ref\"), \"r\") as f:\n",
    "    aprfs_ref = pd.read_csv(f, delimiter=\";\")"
   ]
  },
  {
   "attachments": {},
   "cell_type": "markdown",
   "metadata": {},
   "source": [
    "#### PT vuoto"
   ]
  },
  {
   "cell_type": "code",
   "execution_count": 19,
   "metadata": {},
   "outputs": [
    {
     "name": "stdout",
     "output_type": "stream",
     "text": [
      "0B-A\n",
      "92     531\n",
      "93     339\n",
      "100     81\n",
      "99      37\n",
      "94       6\n",
      "101      4\n",
      "95       2\n",
      "Name: count, dtype: int64\n",
      "\n",
      "Massimo: 101\n",
      "Minimo: 92\n",
      "Media: 93.3\n",
      "Varianza: 6.018018018018018\n"
     ]
    }
   ],
   "source": [
    "# Generazione tag\n",
    "data = aprfs_ref[\"0B-A\"]\n",
    "\n",
    "print_data(data)"
   ]
  },
  {
   "cell_type": "code",
   "execution_count": 20,
   "metadata": {},
   "outputs": [
    {
     "name": "stdout",
     "output_type": "stream",
     "text": [
      "0B-V\n",
      "191    397\n",
      "192    296\n",
      "193    141\n",
      "194     86\n",
      "199     62\n",
      "198     15\n",
      "200      3\n",
      "Name: count, dtype: int64\n",
      "\n",
      "Massimo: 200\n",
      "Minimo: 191\n",
      "Media: 192.464\n",
      "Varianza: 4.4411451451451445\n"
     ]
    }
   ],
   "source": [
    "# Verifica tag\n",
    "data = aprfs_ref[\"0B-V\"]\n",
    "\n",
    "print_data(data)"
   ]
  },
  {
   "attachments": {},
   "cell_type": "markdown",
   "metadata": {},
   "source": [
    "#### PT 8 byte"
   ]
  },
  {
   "cell_type": "code",
   "execution_count": 21,
   "metadata": {},
   "outputs": [
    {
     "name": "stdout",
     "output_type": "stream",
     "text": [
      "8B-A\n",
      "97     442\n",
      "96     403\n",
      "104     73\n",
      "99      27\n",
      "103     26\n",
      "98      26\n",
      "105      3\n",
      "Name: count, dtype: int64\n",
      "\n",
      "Massimo: 105\n",
      "Minimo: 96\n",
      "Media: 97.368\n",
      "Varianza: 5.111687687687689\n"
     ]
    }
   ],
   "source": [
    "# Generazione tag\n",
    "data = aprfs_ref[\"8B-A\"]\n",
    "\n",
    "print_data(data)"
   ]
  },
  {
   "cell_type": "code",
   "execution_count": 22,
   "metadata": {},
   "outputs": [
    {
     "name": "stdout",
     "output_type": "stream",
     "text": [
      "8B-V\n",
      "200    495\n",
      "199    184\n",
      "202    151\n",
      "207     81\n",
      "201     78\n",
      "208      5\n",
      "206      4\n",
      "209      2\n",
      "Name: count, dtype: int64\n",
      "\n",
      "Massimo: 209\n",
      "Minimo: 199\n",
      "Media: 200.845\n",
      "Varianza: 4.7517267267267265\n"
     ]
    }
   ],
   "source": [
    "# Verifica tag\n",
    "data = aprfs_ref[\"8B-V\"]\n",
    "\n",
    "print_data(data)"
   ]
  },
  {
   "attachments": {},
   "cell_type": "markdown",
   "metadata": {},
   "source": [
    "#### PT 16 byte"
   ]
  },
  {
   "cell_type": "code",
   "execution_count": 23,
   "metadata": {},
   "outputs": [
    {
     "name": "stdout",
     "output_type": "stream",
     "text": [
      "16B-A\n",
      "100    500\n",
      "101    377\n",
      "108     66\n",
      "107     26\n",
      "102     16\n",
      "103     11\n",
      "109      3\n",
      "110      1\n",
      "Name: count, dtype: int64\n",
      "\n",
      "Massimo: 110\n",
      "Minimo: 100\n",
      "Media: 101.189\n",
      "Varianza: 4.972251251251252\n"
     ]
    }
   ],
   "source": [
    "# Generazione tag\n",
    "data = aprfs_ref[\"16B-A\"]\n",
    "\n",
    "print_data(data)"
   ]
  },
  {
   "cell_type": "code",
   "execution_count": 24,
   "metadata": {},
   "outputs": [
    {
     "name": "stdout",
     "output_type": "stream",
     "text": [
      "16B-V\n",
      "208    343\n",
      "207    315\n",
      "210    124\n",
      "209    104\n",
      "215     85\n",
      "214     20\n",
      "216      5\n",
      "217      4\n",
      "Name: count, dtype: int64\n",
      "\n",
      "Massimo: 217\n",
      "Minimo: 207\n",
      "Media: 208.828\n",
      "Varianza: 5.7641801801801815\n"
     ]
    }
   ],
   "source": [
    "# Verifica tag\n",
    "data = aprfs_ref[\"16B-V\"]\n",
    "\n",
    "print_data(data)"
   ]
  }
 ],
 "metadata": {
  "kernelspec": {
   "display_name": "Python 3",
   "language": "python",
   "name": "python3"
  },
  "language_info": {
   "codemirror_mode": {
    "name": "ipython",
    "version": 3
   },
   "file_extension": ".py",
   "mimetype": "text/x-python",
   "name": "python",
   "nbconvert_exporter": "python",
   "pygments_lexer": "ipython3",
   "version": "3.11.2"
  },
  "orig_nbformat": 4
 },
 "nbformat": 4,
 "nbformat_minor": 2
}
