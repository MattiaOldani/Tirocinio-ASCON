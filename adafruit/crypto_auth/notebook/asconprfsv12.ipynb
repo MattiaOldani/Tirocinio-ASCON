{
 "cells": [
  {
   "attachments": {},
   "cell_type": "markdown",
   "metadata": {},
   "source": [
    "# Analisi dei dati raccolti"
   ]
  },
  {
   "attachments": {},
   "cell_type": "markdown",
   "metadata": {},
   "source": [
    "## Setup"
   ]
  },
  {
   "cell_type": "code",
   "execution_count": 21,
   "metadata": {},
   "outputs": [],
   "source": [
    "import pandas as pd"
   ]
  },
  {
   "cell_type": "code",
   "execution_count": 22,
   "metadata": {},
   "outputs": [],
   "source": [
    "def print_data(series: pd.Series) -> None:\n",
    "    print(series.value_counts())\n",
    "    print()\n",
    "    print(f\"Massimo: {series.max()}\\nMinimo: {series.min()}\\nMedia: {series.mean()}\\nVarianza: {series.var()}\")"
   ]
  },
  {
   "attachments": {},
   "cell_type": "markdown",
   "metadata": {},
   "source": [
    "## Asconprfsv12"
   ]
  },
  {
   "cell_type": "code",
   "execution_count": 23,
   "metadata": {},
   "outputs": [],
   "source": [
    "path = \"../asconprfsv12/data/{}.csv\""
   ]
  },
  {
   "attachments": {},
   "cell_type": "markdown",
   "metadata": {},
   "source": [
    "### Armv7m"
   ]
  },
  {
   "cell_type": "code",
   "execution_count": 24,
   "metadata": {},
   "outputs": [],
   "source": [
    "with open(path.format(\"armv7m\"), \"r\") as f:\n",
    "    aprfs_armv7m = pd.read_csv(f, delimiter=\";\")"
   ]
  },
  {
   "attachments": {},
   "cell_type": "markdown",
   "metadata": {},
   "source": [
    "#### PT vuoto"
   ]
  },
  {
   "cell_type": "code",
   "execution_count": 25,
   "metadata": {},
   "outputs": [
    {
     "name": "stdout",
     "output_type": "stream",
     "text": [
      "0B-A\n",
      "24    877\n",
      "25     83\n",
      "26     40\n",
      "Name: count, dtype: int64\n",
      "\n",
      "Massimo: 26\n",
      "Minimo: 24\n",
      "Media: 24.163\n",
      "Varianza: 0.21664764764764774\n"
     ]
    }
   ],
   "source": [
    "# Generazione tag\n",
    "data = aprfs_armv7m[\"0B-A\"]\n",
    "\n",
    "print_data(data)"
   ]
  },
  {
   "cell_type": "code",
   "execution_count": 26,
   "metadata": {},
   "outputs": [
    {
     "name": "stdout",
     "output_type": "stream",
     "text": [
      "0B-V\n",
      "56    959\n",
      "57     40\n",
      "55      1\n",
      "Name: count, dtype: int64\n",
      "\n",
      "Massimo: 57\n",
      "Minimo: 55\n",
      "Media: 56.039\n",
      "Varianza: 0.03951851851851851\n"
     ]
    }
   ],
   "source": [
    "# Verifica tag\n",
    "data = aprfs_armv7m[\"0B-V\"]\n",
    "\n",
    "print_data(data)"
   ]
  },
  {
   "attachments": {},
   "cell_type": "markdown",
   "metadata": {},
   "source": [
    "#### PT 8 byte"
   ]
  },
  {
   "cell_type": "code",
   "execution_count": 27,
   "metadata": {},
   "outputs": [
    {
     "name": "stdout",
     "output_type": "stream",
     "text": [
      "8B-A\n",
      "25    960\n",
      "26     40\n",
      "Name: count, dtype: int64\n",
      "\n",
      "Massimo: 26\n",
      "Minimo: 25\n",
      "Media: 25.04\n",
      "Varianza: 0.038438438438438444\n"
     ]
    }
   ],
   "source": [
    "# Generazione tag\n",
    "data = aprfs_armv7m[\"8B-A\"]\n",
    "\n",
    "print_data(data)"
   ]
  },
  {
   "cell_type": "code",
   "execution_count": 28,
   "metadata": {},
   "outputs": [
    {
     "name": "stdout",
     "output_type": "stream",
     "text": [
      "8B-V\n",
      "57    960\n",
      "58     40\n",
      "Name: count, dtype: int64\n",
      "\n",
      "Massimo: 58\n",
      "Minimo: 57\n",
      "Media: 57.04\n",
      "Varianza: 0.038438438438438444\n"
     ]
    }
   ],
   "source": [
    "# Verifica tag\n",
    "data = aprfs_armv7m[\"8B-V\"]\n",
    "\n",
    "print_data(data)"
   ]
  },
  {
   "attachments": {},
   "cell_type": "markdown",
   "metadata": {},
   "source": [
    "#### PT 16 byte"
   ]
  },
  {
   "cell_type": "code",
   "execution_count": 29,
   "metadata": {},
   "outputs": [
    {
     "name": "stdout",
     "output_type": "stream",
     "text": [
      "16B-A\n",
      "25    959\n",
      "26     41\n",
      "Name: count, dtype: int64\n",
      "\n",
      "Massimo: 26\n",
      "Minimo: 25\n",
      "Media: 25.041\n",
      "Varianza: 0.03935835835835836\n"
     ]
    }
   ],
   "source": [
    "# Generazione tag\n",
    "data = aprfs_armv7m[\"16B-A\"]\n",
    "\n",
    "print_data(data)"
   ]
  },
  {
   "cell_type": "code",
   "execution_count": 30,
   "metadata": {},
   "outputs": [
    {
     "name": "stdout",
     "output_type": "stream",
     "text": [
      "16B-V\n",
      "57    957\n",
      "59     40\n",
      "58      3\n",
      "Name: count, dtype: int64\n",
      "\n",
      "Massimo: 59\n",
      "Minimo: 57\n",
      "Media: 57.083\n",
      "Varianza: 0.15626726726726725\n"
     ]
    }
   ],
   "source": [
    "# Verifica tag\n",
    "data = aprfs_armv7m[\"16B-V\"]\n",
    "\n",
    "print_data(data)"
   ]
  },
  {
   "attachments": {},
   "cell_type": "markdown",
   "metadata": {},
   "source": [
    "### Armv7m_small"
   ]
  },
  {
   "cell_type": "code",
   "execution_count": 31,
   "metadata": {},
   "outputs": [],
   "source": [
    "with open(path.format(\"armv7m_small\"), \"r\") as f:\n",
    "    aprfs_small = pd.read_csv(f, delimiter=\";\")"
   ]
  },
  {
   "cell_type": "markdown",
   "metadata": {},
   "source": [
    "#### PT vuoto"
   ]
  },
  {
   "cell_type": "code",
   "execution_count": 32,
   "metadata": {},
   "outputs": [
    {
     "name": "stdout",
     "output_type": "stream",
     "text": [
      "0B-A\n",
      "22    836\n",
      "21    164\n",
      "Name: count, dtype: int64\n",
      "\n",
      "Massimo: 22\n",
      "Minimo: 21\n",
      "Media: 21.836\n",
      "Varianza: 0.1372412412412413\n"
     ]
    }
   ],
   "source": [
    "# Generazione tag\n",
    "data = aprfs_small[\"0B-A\"]\n",
    "\n",
    "print_data(data)"
   ]
  },
  {
   "cell_type": "code",
   "execution_count": 33,
   "metadata": {},
   "outputs": [
    {
     "name": "stdout",
     "output_type": "stream",
     "text": [
      "0B-V\n",
      "47    958\n",
      "49     40\n",
      "48      2\n",
      "Name: count, dtype: int64\n",
      "\n",
      "Massimo: 49\n",
      "Minimo: 47\n",
      "Media: 47.082\n",
      "Varianza: 0.15543143143143145\n"
     ]
    }
   ],
   "source": [
    "# Verifica tag\n",
    "data = aprfs_small[\"0B-V\"]\n",
    "\n",
    "print_data(data)"
   ]
  },
  {
   "attachments": {},
   "cell_type": "markdown",
   "metadata": {},
   "source": [
    "#### PT 8 byte"
   ]
  },
  {
   "cell_type": "code",
   "execution_count": 34,
   "metadata": {},
   "outputs": [
    {
     "name": "stdout",
     "output_type": "stream",
     "text": [
      "8B-A\n",
      "22    999\n",
      "21      1\n",
      "Name: count, dtype: int64\n",
      "\n",
      "Massimo: 22\n",
      "Minimo: 21\n",
      "Media: 21.999\n",
      "Varianza: 0.0010000000000000005\n"
     ]
    }
   ],
   "source": [
    "# Generazione tag\n",
    "data = aprfs_small[\"8B-A\"]\n",
    "\n",
    "print_data(data)"
   ]
  },
  {
   "cell_type": "code",
   "execution_count": 35,
   "metadata": {},
   "outputs": [
    {
     "name": "stdout",
     "output_type": "stream",
     "text": [
      "8B-V\n",
      "48    959\n",
      "49     41\n",
      "Name: count, dtype: int64\n",
      "\n",
      "Massimo: 49\n",
      "Minimo: 48\n",
      "Media: 48.041\n",
      "Varianza: 0.039358358358358346\n"
     ]
    }
   ],
   "source": [
    "# Verifica tag\n",
    "data = aprfs_small[\"8B-V\"]\n",
    "\n",
    "print_data(data)"
   ]
  },
  {
   "attachments": {},
   "cell_type": "markdown",
   "metadata": {},
   "source": [
    "#### PT 16 byte"
   ]
  },
  {
   "cell_type": "code",
   "execution_count": 36,
   "metadata": {},
   "outputs": [
    {
     "name": "stdout",
     "output_type": "stream",
     "text": [
      "16B-A\n",
      "22    999\n",
      "21      1\n",
      "Name: count, dtype: int64\n",
      "\n",
      "Massimo: 22\n",
      "Minimo: 21\n",
      "Media: 21.999\n",
      "Varianza: 0.0010000000000000005\n"
     ]
    }
   ],
   "source": [
    "# Generazione tag\n",
    "data = aprfs_small[\"16B-A\"]\n",
    "\n",
    "print_data(data)"
   ]
  },
  {
   "cell_type": "code",
   "execution_count": 37,
   "metadata": {},
   "outputs": [
    {
     "name": "stdout",
     "output_type": "stream",
     "text": [
      "16B-V\n",
      "48    957\n",
      "50     40\n",
      "49      3\n",
      "Name: count, dtype: int64\n",
      "\n",
      "Massimo: 50\n",
      "Minimo: 48\n",
      "Media: 48.083\n",
      "Varianza: 0.15626726726726725\n"
     ]
    }
   ],
   "source": [
    "# Verifica tag\n",
    "data = aprfs_small[\"16B-V\"]\n",
    "\n",
    "print_data(data)"
   ]
  },
  {
   "attachments": {},
   "cell_type": "markdown",
   "metadata": {},
   "source": [
    "### Bi32_armv7m"
   ]
  },
  {
   "cell_type": "code",
   "execution_count": 38,
   "metadata": {},
   "outputs": [],
   "source": [
    "with open(path.format(\"bi32_armv7m\"), \"r\") as f:\n",
    "    aprfs_bi32 = pd.read_csv(f, delimiter=\";\")"
   ]
  },
  {
   "attachments": {},
   "cell_type": "markdown",
   "metadata": {},
   "source": [
    "#### PT vuoto"
   ]
  },
  {
   "cell_type": "code",
   "execution_count": 39,
   "metadata": {},
   "outputs": [
    {
     "name": "stdout",
     "output_type": "stream",
     "text": [
      "0B-A\n",
      "23    953\n",
      "25     40\n",
      "24      7\n",
      "Name: count, dtype: int64\n",
      "\n",
      "Massimo: 25\n",
      "Minimo: 23\n",
      "Media: 23.087\n",
      "Varianza: 0.1595905905905907\n"
     ]
    }
   ],
   "source": [
    "# Generazione tag\n",
    "data = aprfs_bi32[\"0B-A\"]\n",
    "\n",
    "print_data(data)"
   ]
  },
  {
   "cell_type": "code",
   "execution_count": 40,
   "metadata": {},
   "outputs": [
    {
     "name": "stdout",
     "output_type": "stream",
     "text": [
      "0B-V\n",
      "50    958\n",
      "52     40\n",
      "51      2\n",
      "Name: count, dtype: int64\n",
      "\n",
      "Massimo: 52\n",
      "Minimo: 50\n",
      "Media: 50.082\n",
      "Varianza: 0.15543143143143145\n"
     ]
    }
   ],
   "source": [
    "# Verifica tag\n",
    "data = aprfs_bi32[\"0B-V\"]\n",
    "\n",
    "print_data(data)"
   ]
  },
  {
   "attachments": {},
   "cell_type": "markdown",
   "metadata": {},
   "source": [
    "#### PT 8 byte"
   ]
  },
  {
   "cell_type": "code",
   "execution_count": 41,
   "metadata": {},
   "outputs": [
    {
     "name": "stdout",
     "output_type": "stream",
     "text": [
      "8B-A\n",
      "25    719\n",
      "24    241\n",
      "26     40\n",
      "Name: count, dtype: int64\n",
      "\n",
      "Massimo: 26\n",
      "Minimo: 24\n",
      "Media: 24.799\n",
      "Varianza: 0.24083983983983984\n"
     ]
    }
   ],
   "source": [
    "# Generazione tag\n",
    "data = aprfs_bi32[\"8B-A\"]\n",
    "\n",
    "print_data(data)"
   ]
  },
  {
   "cell_type": "code",
   "execution_count": 42,
   "metadata": {},
   "outputs": [
    {
     "name": "stdout",
     "output_type": "stream",
     "text": [
      "8B-V\n",
      "53    956\n",
      "54     41\n",
      "52      3\n",
      "Name: count, dtype: int64\n",
      "\n",
      "Massimo: 54\n",
      "Minimo: 52\n",
      "Media: 53.038\n",
      "Varianza: 0.04259859859859861\n"
     ]
    }
   ],
   "source": [
    "# Verifica tag\n",
    "data = aprfs_bi32[\"8B-V\"]\n",
    "\n",
    "print_data(data)"
   ]
  },
  {
   "attachments": {},
   "cell_type": "markdown",
   "metadata": {},
   "source": [
    "#### PT 16 byte"
   ]
  },
  {
   "cell_type": "code",
   "execution_count": 43,
   "metadata": {},
   "outputs": [
    {
     "name": "stdout",
     "output_type": "stream",
     "text": [
      "16B-A\n",
      "26    717\n",
      "25    244\n",
      "27     39\n",
      "Name: count, dtype: int64\n",
      "\n",
      "Massimo: 27\n",
      "Minimo: 25\n",
      "Media: 25.795\n",
      "Varianza: 0.24121621621621625\n"
     ]
    }
   ],
   "source": [
    "# Generazione tag\n",
    "data = aprfs_bi32[\"16B-A\"]\n",
    "\n",
    "print_data(data)"
   ]
  },
  {
   "cell_type": "code",
   "execution_count": 44,
   "metadata": {},
   "outputs": [
    {
     "name": "stdout",
     "output_type": "stream",
     "text": [
      "16B-V\n",
      "54    956\n",
      "55     42\n",
      "53      2\n",
      "Name: count, dtype: int64\n",
      "\n",
      "Massimo: 55\n",
      "Minimo: 53\n",
      "Media: 54.04\n",
      "Varianza: 0.04244244244244244\n"
     ]
    }
   ],
   "source": [
    "# Verifica tag\n",
    "data = aprfs_bi32[\"16B-V\"]\n",
    "\n",
    "print_data(data)"
   ]
  },
  {
   "attachments": {},
   "cell_type": "markdown",
   "metadata": {},
   "source": [
    "### Ref"
   ]
  },
  {
   "cell_type": "code",
   "execution_count": 45,
   "metadata": {},
   "outputs": [],
   "source": [
    "with open(path.format(\"ref\"), \"r\") as f:\n",
    "    aprfs_ref = pd.read_csv(f, delimiter=\";\")"
   ]
  },
  {
   "attachments": {},
   "cell_type": "markdown",
   "metadata": {},
   "source": [
    "#### PT vuoto"
   ]
  },
  {
   "cell_type": "code",
   "execution_count": 46,
   "metadata": {},
   "outputs": [
    {
     "name": "stdout",
     "output_type": "stream",
     "text": [
      "0B-A\n",
      "77    718\n",
      "78    242\n",
      "79     40\n",
      "Name: count, dtype: int64\n",
      "\n",
      "Massimo: 79\n",
      "Minimo: 77\n",
      "Media: 77.322\n",
      "Varianza: 0.29861461461461464\n"
     ]
    }
   ],
   "source": [
    "# Generazione tag\n",
    "data = aprfs_ref[\"0B-A\"]\n",
    "\n",
    "print_data(data)"
   ]
  },
  {
   "cell_type": "code",
   "execution_count": 47,
   "metadata": {},
   "outputs": [
    {
     "name": "stdout",
     "output_type": "stream",
     "text": [
      "0B-V\n",
      "162    839\n",
      "163    159\n",
      "161      2\n",
      "Name: count, dtype: int64\n",
      "\n",
      "Massimo: 163\n",
      "Minimo: 161\n",
      "Media: 162.157\n",
      "Varianza: 0.13648748748748743\n"
     ]
    }
   ],
   "source": [
    "# Verifica tag\n",
    "data = aprfs_ref[\"0B-V\"]\n",
    "\n",
    "print_data(data)"
   ]
  },
  {
   "attachments": {},
   "cell_type": "markdown",
   "metadata": {},
   "source": [
    "#### PT 8 byte"
   ]
  },
  {
   "cell_type": "code",
   "execution_count": 48,
   "metadata": {},
   "outputs": [
    {
     "name": "stdout",
     "output_type": "stream",
     "text": [
      "8B-A\n",
      "83    919\n",
      "84     81\n",
      "Name: count, dtype: int64\n",
      "\n",
      "Massimo: 84\n",
      "Minimo: 83\n",
      "Media: 83.081\n",
      "Varianza: 0.07451351351351351\n"
     ]
    }
   ],
   "source": [
    "# Generazione tag\n",
    "data = aprfs_ref[\"8B-A\"]\n",
    "\n",
    "print_data(data)"
   ]
  },
  {
   "cell_type": "code",
   "execution_count": 49,
   "metadata": {},
   "outputs": [
    {
     "name": "stdout",
     "output_type": "stream",
     "text": [
      "8B-V\n",
      "173    838\n",
      "174    162\n",
      "Name: count, dtype: int64\n",
      "\n",
      "Massimo: 174\n",
      "Minimo: 173\n",
      "Media: 173.162\n",
      "Varianza: 0.13589189189189188\n"
     ]
    }
   ],
   "source": [
    "# Verifica tag\n",
    "data = aprfs_ref[\"8B-V\"]\n",
    "\n",
    "print_data(data)"
   ]
  },
  {
   "attachments": {},
   "cell_type": "markdown",
   "metadata": {},
   "source": [
    "#### PT 16 byte"
   ]
  },
  {
   "cell_type": "code",
   "execution_count": 50,
   "metadata": {},
   "outputs": [
    {
     "name": "stdout",
     "output_type": "stream",
     "text": [
      "16B-A\n",
      "88    915\n",
      "89     84\n",
      "90      1\n",
      "Name: count, dtype: int64\n",
      "\n",
      "Massimo: 90\n",
      "Minimo: 88\n",
      "Media: 88.086\n",
      "Varianza: 0.08068468468468469\n"
     ]
    }
   ],
   "source": [
    "# Generazione tag\n",
    "data = aprfs_ref[\"16B-A\"]\n",
    "\n",
    "print_data(data)"
   ]
  },
  {
   "cell_type": "code",
   "execution_count": 51,
   "metadata": {},
   "outputs": [
    {
     "name": "stdout",
     "output_type": "stream",
     "text": [
      "16B-V\n",
      "184    839\n",
      "185    161\n",
      "Name: count, dtype: int64\n",
      "\n",
      "Massimo: 185\n",
      "Minimo: 184\n",
      "Media: 184.161\n",
      "Varianza: 0.1352142142142142\n"
     ]
    }
   ],
   "source": [
    "# Verifica tag\n",
    "data = aprfs_ref[\"16B-V\"]\n",
    "\n",
    "print_data(data)"
   ]
  }
 ],
 "metadata": {
  "kernelspec": {
   "display_name": "Python 3",
   "language": "python",
   "name": "python3"
  },
  "language_info": {
   "codemirror_mode": {
    "name": "ipython",
    "version": 3
   },
   "file_extension": ".py",
   "mimetype": "text/x-python",
   "name": "python",
   "nbconvert_exporter": "python",
   "pygments_lexer": "ipython3",
   "version": "3.11.2"
  },
  "orig_nbformat": 4
 },
 "nbformat": 4,
 "nbformat_minor": 2
}
