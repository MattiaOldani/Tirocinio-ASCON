{
 "cells": [
  {
   "attachments": {},
   "cell_type": "markdown",
   "metadata": {},
   "source": [
    "# Analisi dei dati raccolti"
   ]
  },
  {
   "attachments": {},
   "cell_type": "markdown",
   "metadata": {},
   "source": [
    "## Setup"
   ]
  },
  {
   "cell_type": "code",
   "execution_count": 1,
   "metadata": {},
   "outputs": [],
   "source": [
    "import pandas as pd"
   ]
  },
  {
   "cell_type": "code",
   "execution_count": 2,
   "metadata": {},
   "outputs": [],
   "source": [
    "def print_data(series: pd.Series) -> None:\n",
    "    print(series.value_counts())\n",
    "    print()\n",
    "    print(f\"Massimo: {series.max()}\\nMinimo: {series.min()}\\nMedia: {series.mean()}\\nVarianza: {series.var()}\")"
   ]
  },
  {
   "attachments": {},
   "cell_type": "markdown",
   "metadata": {},
   "source": [
    "## Asconprfav12"
   ]
  },
  {
   "cell_type": "code",
   "execution_count": 3,
   "metadata": {},
   "outputs": [],
   "source": [
    "path = \"../asconprfav12/data/{}.csv\""
   ]
  },
  {
   "attachments": {},
   "cell_type": "markdown",
   "metadata": {},
   "source": [
    "### Armv6m"
   ]
  },
  {
   "cell_type": "code",
   "execution_count": 4,
   "metadata": {},
   "outputs": [],
   "source": [
    "with open(path.format(\"armv6m\"), \"r\") as f:\n",
    "    aprfa_armv6m = pd.read_csv(f, delimiter=\";\")"
   ]
  },
  {
   "attachments": {},
   "cell_type": "markdown",
   "metadata": {},
   "source": [
    "#### PT vuoto"
   ]
  },
  {
   "cell_type": "code",
   "execution_count": 5,
   "metadata": {},
   "outputs": [
    {
     "name": "stdout",
     "output_type": "stream",
     "text": [
      "0B-A\n",
      "115    763\n",
      "117    102\n",
      "122     81\n",
      "123     25\n",
      "114     14\n",
      "116      9\n",
      "124      5\n",
      "125      1\n",
      "Name: count, dtype: int64\n",
      "\n",
      "Massimo: 125\n",
      "Minimo: 114\n",
      "Media: 116.021\n",
      "Varianza: 5.468027027027026\n"
     ]
    }
   ],
   "source": [
    "# Generazione tag\n",
    "data = aprfa_armv6m[\"0B-A\"]\n",
    "\n",
    "print_data(data)"
   ]
  },
  {
   "cell_type": "code",
   "execution_count": 6,
   "metadata": {},
   "outputs": [
    {
     "name": "stdout",
     "output_type": "stream",
     "text": [
      "0B-V\n",
      "236    395\n",
      "238    174\n",
      "237    155\n",
      "243     94\n",
      "244     89\n",
      "239     59\n",
      "245     23\n",
      "246     10\n",
      "247      1\n",
      "Name: count, dtype: int64\n",
      "\n",
      "Massimo: 247\n",
      "Minimo: 236\n",
      "Media: 238.368\n",
      "Varianza: 9.069645645645647\n"
     ]
    }
   ],
   "source": [
    "# Verifica tag\n",
    "data = aprfa_armv6m[\"0B-V\"]\n",
    "\n",
    "print_data(data)"
   ]
  },
  {
   "attachments": {},
   "cell_type": "markdown",
   "metadata": {},
   "source": [
    "#### PT 8 byte"
   ]
  },
  {
   "cell_type": "code",
   "execution_count": 7,
   "metadata": {},
   "outputs": [
    {
     "name": "stdout",
     "output_type": "stream",
     "text": [
      "8B-A\n",
      "117    512\n",
      "118    278\n",
      "125     96\n",
      "124     81\n",
      "119     17\n",
      "120      7\n",
      "126      7\n",
      "127      2\n",
      "Name: count, dtype: int64\n",
      "\n",
      "Massimo: 127\n",
      "Minimo: 117\n",
      "Media: 118.751\n",
      "Varianza: 8.23123023023023\n"
     ]
    }
   ],
   "source": [
    "# Generazione tag\n",
    "data = aprfa_armv6m[\"8B-A\"]\n",
    "\n",
    "print_data(data)"
   ]
  },
  {
   "cell_type": "code",
   "execution_count": 8,
   "metadata": {},
   "outputs": [
    {
     "name": "stdout",
     "output_type": "stream",
     "text": [
      "8B-V\n",
      "241    557\n",
      "243    186\n",
      "248    133\n",
      "249     54\n",
      "250     38\n",
      "242     16\n",
      "251     16\n",
      "Name: count, dtype: int64\n",
      "\n",
      "Massimo: 251\n",
      "Minimo: 241\n",
      "Media: 243.253\n",
      "Varianza: 10.34533633633634\n"
     ]
    }
   ],
   "source": [
    "# Verifica tag\n",
    "data = aprfa_armv6m[\"8B-V\"]\n",
    "\n",
    "print_data(data)"
   ]
  },
  {
   "attachments": {},
   "cell_type": "markdown",
   "metadata": {},
   "source": [
    "#### PT 16 byte"
   ]
  },
  {
   "cell_type": "code",
   "execution_count": 9,
   "metadata": {},
   "outputs": [
    {
     "name": "stdout",
     "output_type": "stream",
     "text": [
      "16B-A\n",
      "120    569\n",
      "119    195\n",
      "122    124\n",
      "121     57\n",
      "127     42\n",
      "126      5\n",
      "129      5\n",
      "123      1\n",
      "128      1\n",
      "130      1\n",
      "Name: count, dtype: int64\n",
      "\n",
      "Massimo: 130\n",
      "Minimo: 119\n",
      "Media: 120.5\n",
      "Varianza: 3.3173173173173174\n"
     ]
    }
   ],
   "source": [
    "# Generazione tag\n",
    "data = aprfa_armv6m[\"16B-A\"]\n",
    "\n",
    "print_data(data)"
   ]
  },
  {
   "cell_type": "code",
   "execution_count": 10,
   "metadata": {},
   "outputs": [
    {
     "name": "stdout",
     "output_type": "stream",
     "text": [
      "16B-V\n",
      "246    537\n",
      "245    184\n",
      "255     96\n",
      "253     90\n",
      "248     51\n",
      "247     23\n",
      "254     10\n",
      "256      7\n",
      "252      2\n",
      "Name: count, dtype: int64\n",
      "\n",
      "Massimo: 256\n",
      "Minimo: 245\n",
      "Media: 247.597\n",
      "Varianza: 11.470061061061061\n"
     ]
    }
   ],
   "source": [
    "# Verifica tag\n",
    "data = aprfa_armv6m[\"16B-V\"]\n",
    "\n",
    "print_data(data)"
   ]
  },
  {
   "attachments": {},
   "cell_type": "markdown",
   "metadata": {},
   "source": [
    "#### PT 32 byte"
   ]
  },
  {
   "cell_type": "code",
   "execution_count": 11,
   "metadata": {},
   "outputs": [
    {
     "name": "stdout",
     "output_type": "stream",
     "text": [
      "32B-A\n",
      "125    399\n",
      "124    395\n",
      "126     90\n",
      "127     54\n",
      "132     44\n",
      "131     13\n",
      "134      3\n",
      "133      2\n",
      "Name: count, dtype: int64\n",
      "\n",
      "Massimo: 134\n",
      "Minimo: 124\n",
      "Media: 125.232\n",
      "Varianza: 3.645821821821822\n"
     ]
    }
   ],
   "source": [
    "# Generazione tag\n",
    "data = aprfa_armv6m[\"32B-A\"]\n",
    "\n",
    "print_data(data)"
   ]
  },
  {
   "cell_type": "code",
   "execution_count": 12,
   "metadata": {},
   "outputs": [
    {
     "name": "stdout",
     "output_type": "stream",
     "text": [
      "32B-V\n",
      "255    479\n",
      "256    184\n",
      "257    181\n",
      "258     51\n",
      "262     40\n",
      "263     32\n",
      "264     24\n",
      "265      8\n",
      "266      1\n",
      "Name: count, dtype: int64\n",
      "\n",
      "Massimo: 266\n",
      "Minimo: 255\n",
      "Media: 256.542\n",
      "Varianza: 5.868104104104103\n"
     ]
    }
   ],
   "source": [
    "# Verifica tag\n",
    "data = aprfa_armv6m[\"32B-V\"]\n",
    "\n",
    "print_data(data)"
   ]
  },
  {
   "attachments": {},
   "cell_type": "markdown",
   "metadata": {},
   "source": [
    "#### PT 64 byte"
   ]
  },
  {
   "cell_type": "code",
   "execution_count": 13,
   "metadata": {},
   "outputs": [
    {
     "name": "stdout",
     "output_type": "stream",
     "text": [
      "64B-A\n",
      "170    521\n",
      "169    176\n",
      "177    122\n",
      "172     81\n",
      "179     47\n",
      "171     35\n",
      "178      9\n",
      "180      5\n",
      "176      4\n",
      "Name: count, dtype: int64\n",
      "\n",
      "Massimo: 180\n",
      "Minimo: 169\n",
      "Media: 171.444\n",
      "Varianza: 9.46432832832833\n"
     ]
    }
   ],
   "source": [
    "# Generazione tag\n",
    "data = aprfa_armv6m[\"64B-A\"]\n",
    "\n",
    "print_data(data)"
   ]
  },
  {
   "cell_type": "code",
   "execution_count": 14,
   "metadata": {},
   "outputs": [
    {
     "name": "stdout",
     "output_type": "stream",
     "text": [
      "64B-V\n",
      "346    514\n",
      "355    205\n",
      "345    105\n",
      "348     72\n",
      "353     66\n",
      "347     19\n",
      "354     10\n",
      "356      9\n",
      "Name: count, dtype: int64\n",
      "\n",
      "Massimo: 356\n",
      "Minimo: 345\n",
      "Media: 348.535\n",
      "Varianza: 15.380155155155157\n"
     ]
    }
   ],
   "source": [
    "# Verifica tag\n",
    "data = aprfa_armv6m[\"64B-V\"]\n",
    "\n",
    "print_data(data)"
   ]
  },
  {
   "attachments": {},
   "cell_type": "markdown",
   "metadata": {},
   "source": [
    "#### PT 128 byte"
   ]
  },
  {
   "cell_type": "code",
   "execution_count": 15,
   "metadata": {},
   "outputs": [
    {
     "name": "stdout",
     "output_type": "stream",
     "text": [
      "128B-A\n",
      "260    451\n",
      "261    178\n",
      "262     99\n",
      "269     92\n",
      "270     83\n",
      "268     35\n",
      "267     33\n",
      "263     28\n",
      "271      1\n",
      "Name: count, dtype: int64\n",
      "\n",
      "Massimo: 271\n",
      "Minimo: 260\n",
      "Media: 262.64\n",
      "Varianza: 13.599999999999998\n"
     ]
    }
   ],
   "source": [
    "# Generazione tag\n",
    "data = aprfa_armv6m[\"128B-A\"]\n",
    "\n",
    "print_data(data)"
   ]
  },
  {
   "cell_type": "code",
   "execution_count": 16,
   "metadata": {},
   "outputs": [
    {
     "name": "stdout",
     "output_type": "stream",
     "text": [
      "128B-V\n",
      "527    329\n",
      "536    263\n",
      "529    183\n",
      "534     96\n",
      "526     46\n",
      "528     34\n",
      "537     32\n",
      "535     17\n",
      "Name: count, dtype: int64\n",
      "\n",
      "Massimo: 537\n",
      "Minimo: 526\n",
      "Media: 530.849\n",
      "Varianza: 16.308507507507507\n"
     ]
    }
   ],
   "source": [
    "# Verifica tag\n",
    "data = aprfa_armv6m[\"128B-V\"]\n",
    "\n",
    "print_data(data)"
   ]
  },
  {
   "attachments": {},
   "cell_type": "markdown",
   "metadata": {},
   "source": [
    "#### PT 256 byte"
   ]
  },
  {
   "cell_type": "code",
   "execution_count": 17,
   "metadata": {},
   "outputs": [
    {
     "name": "stdout",
     "output_type": "stream",
     "text": [
      "256B-A\n",
      "406    287\n",
      "415    211\n",
      "405    164\n",
      "413    152\n",
      "414     62\n",
      "408     46\n",
      "412     37\n",
      "407     32\n",
      "416      9\n",
      "Name: count, dtype: int64\n",
      "\n",
      "Massimo: 416\n",
      "Minimo: 405\n",
      "Media: 409.731\n",
      "Varianza: 17.215854854854854\n"
     ]
    }
   ],
   "source": [
    "# Generazione tag\n",
    "data = aprfa_armv6m[\"256B-A\"]\n",
    "\n",
    "print_data(data)"
   ]
  },
  {
   "cell_type": "code",
   "execution_count": 18,
   "metadata": {},
   "outputs": [
    {
     "name": "stdout",
     "output_type": "stream",
     "text": [
      "256B-V\n",
      "827    502\n",
      "826    202\n",
      "819     95\n",
      "820     92\n",
      "825     49\n",
      "818     22\n",
      "828     19\n",
      "817     10\n",
      "824      9\n",
      "Name: count, dtype: int64\n",
      "\n",
      "Massimo: 828\n",
      "Minimo: 817\n",
      "Media: 824.99\n",
      "Varianza: 9.83773773773774\n"
     ]
    }
   ],
   "source": [
    "# Verifica tag\n",
    "data = aprfa_armv6m[\"256B-V\"]\n",
    "\n",
    "print_data(data)"
   ]
  },
  {
   "attachments": {},
   "cell_type": "markdown",
   "metadata": {},
   "source": [
    "#### PT 512 byte"
   ]
  },
  {
   "cell_type": "code",
   "execution_count": 19,
   "metadata": {},
   "outputs": [
    {
     "name": "stdout",
     "output_type": "stream",
     "text": [
      "512B-A\n",
      "705    323\n",
      "706    230\n",
      "698    131\n",
      "703     96\n",
      "704     89\n",
      "696     77\n",
      "697     24\n",
      "699     21\n",
      "707      9\n",
      "Name: count, dtype: int64\n",
      "\n",
      "Massimo: 707\n",
      "Minimo: 696\n",
      "Media: 703.039\n",
      "Varianza: 11.853332332332332\n"
     ]
    }
   ],
   "source": [
    "# Generazione tag\n",
    "data = aprfa_armv6m[\"512B-A\"]\n",
    "\n",
    "print_data(data)"
   ]
  },
  {
   "cell_type": "code",
   "execution_count": 20,
   "metadata": {},
   "outputs": [
    {
     "name": "stdout",
     "output_type": "stream",
     "text": [
      "512B-V\n",
      "1408    449\n",
      "1417    219\n",
      "1415    110\n",
      "1410     89\n",
      "1418     42\n",
      "1409     32\n",
      "1416     28\n",
      "1407     20\n",
      "1411     11\n",
      "Name: count, dtype: int64\n",
      "\n",
      "Massimo: 1418\n",
      "Minimo: 1407\n",
      "Media: 1411.608\n",
      "Varianza: 16.626962962962967\n"
     ]
    }
   ],
   "source": [
    "# Verifica tag\n",
    "data = aprfa_armv6m[\"512B-V\"]\n",
    "\n",
    "print_data(data)"
   ]
  },
  {
   "attachments": {},
   "cell_type": "markdown",
   "metadata": {},
   "source": [
    "#### PT 1024 byte"
   ]
  },
  {
   "cell_type": "code",
   "execution_count": 21,
   "metadata": {},
   "outputs": [
    {
     "name": "stdout",
     "output_type": "stream",
     "text": [
      "1024B-A\n",
      "1322    332\n",
      "1323    274\n",
      "1332    142\n",
      "1331     78\n",
      "1330     52\n",
      "1329     49\n",
      "1324     48\n",
      "1325     18\n",
      "1333      6\n",
      "1326      1\n",
      "Name: count, dtype: int64\n",
      "\n",
      "Massimo: 1333\n",
      "Minimo: 1322\n",
      "Media: 1325.375\n",
      "Varianza: 16.24261761761762\n"
     ]
    }
   ],
   "source": [
    "# Generazione tag\n",
    "data = aprfa_armv6m[\"1024B-A\"]\n",
    "\n",
    "print_data(data)"
   ]
  },
  {
   "cell_type": "code",
   "execution_count": 22,
   "metadata": {},
   "outputs": [
    {
     "name": "stdout",
     "output_type": "stream",
     "text": [
      "1024B-V\n",
      "2660    300\n",
      "2661    202\n",
      "2651    180\n",
      "2653    179\n",
      "2654     44\n",
      "2652     41\n",
      "2658     26\n",
      "2659     23\n",
      "2662      5\n",
      "Name: count, dtype: int64\n",
      "\n",
      "Massimo: 2662\n",
      "Minimo: 2651\n",
      "Media: 2656.672\n",
      "Varianza: 16.849265265265263\n"
     ]
    }
   ],
   "source": [
    "# Verifica tag\n",
    "data = aprfa_armv6m[\"1024B-V\"]\n",
    "\n",
    "print_data(data)"
   ]
  },
  {
   "attachments": {},
   "cell_type": "markdown",
   "metadata": {},
   "source": [
    "### Bi32_armv6m"
   ]
  },
  {
   "cell_type": "code",
   "execution_count": 23,
   "metadata": {},
   "outputs": [],
   "source": [
    "with open(path.format(\"bi32_armv6m\"), \"r\") as f:\n",
    "    aprfa_bi32 = pd.read_csv(f, delimiter=\";\")"
   ]
  },
  {
   "attachments": {},
   "cell_type": "markdown",
   "metadata": {},
   "source": [
    "#### PT vuoto"
   ]
  },
  {
   "cell_type": "code",
   "execution_count": 24,
   "metadata": {},
   "outputs": [
    {
     "name": "stdout",
     "output_type": "stream",
     "text": [
      "0B-A\n",
      "120    468\n",
      "121    275\n",
      "122     86\n",
      "128     77\n",
      "127     47\n",
      "123     46\n",
      "129      1\n",
      "Name: count, dtype: int64\n",
      "\n",
      "Massimo: 129\n",
      "Minimo: 120\n",
      "Media: 121.539\n",
      "Varianza: 5.982461461461461\n"
     ]
    }
   ],
   "source": [
    "# Generazione tag\n",
    "data = aprfa_bi32[\"0B-A\"]\n",
    "\n",
    "print_data(data)"
   ]
  },
  {
   "cell_type": "code",
   "execution_count": 25,
   "metadata": {},
   "outputs": [
    {
     "name": "stdout",
     "output_type": "stream",
     "text": [
      "0B-V\n",
      "247    522\n",
      "249    229\n",
      "254    132\n",
      "255     64\n",
      "248     51\n",
      "256      1\n",
      "257      1\n",
      "Name: count, dtype: int64\n",
      "\n",
      "Massimo: 257\n",
      "Minimo: 247\n",
      "Media: 248.964\n",
      "Varianza: 7.862566566566565\n"
     ]
    }
   ],
   "source": [
    "# Verifica tag\n",
    "data = aprfa_bi32[\"0B-V\"]\n",
    "\n",
    "print_data(data)"
   ]
  },
  {
   "attachments": {},
   "cell_type": "markdown",
   "metadata": {},
   "source": [
    "#### PT 8 byte"
   ]
  },
  {
   "cell_type": "code",
   "execution_count": 26,
   "metadata": {},
   "outputs": [
    {
     "name": "stdout",
     "output_type": "stream",
     "text": [
      "8B-A\n",
      "125    427\n",
      "124    351\n",
      "126     74\n",
      "132     69\n",
      "127     50\n",
      "131     26\n",
      "133      3\n",
      "Name: count, dtype: int64\n",
      "\n",
      "Massimo: 133\n",
      "Minimo: 124\n",
      "Media: 125.486\n",
      "Varianza: 4.9027067067067085\n"
     ]
    }
   ],
   "source": [
    "# Generazione tag\n",
    "data = aprfa_bi32[\"8B-A\"]\n",
    "\n",
    "print_data(data)"
   ]
  },
  {
   "cell_type": "code",
   "execution_count": 27,
   "metadata": {},
   "outputs": [
    {
     "name": "stdout",
     "output_type": "stream",
     "text": [
      "8B-V\n",
      "255    318\n",
      "257    234\n",
      "256    212\n",
      "263     89\n",
      "258     74\n",
      "262     64\n",
      "264      7\n",
      "265      2\n",
      "Name: count, dtype: int64\n",
      "\n",
      "Massimo: 265\n",
      "Minimo: 255\n",
      "Media: 257.145\n",
      "Varianza: 6.818793793793795\n"
     ]
    }
   ],
   "source": [
    "# Verifica tag\n",
    "data = aprfa_bi32[\"8B-V\"]\n",
    "\n",
    "print_data(data)"
   ]
  },
  {
   "attachments": {},
   "cell_type": "markdown",
   "metadata": {},
   "source": [
    "#### PT 16 byte"
   ]
  },
  {
   "cell_type": "code",
   "execution_count": 28,
   "metadata": {},
   "outputs": [
    {
     "name": "stdout",
     "output_type": "stream",
     "text": [
      "16B-A\n",
      "129    555\n",
      "128    212\n",
      "136     94\n",
      "131     69\n",
      "130     57\n",
      "135     13\n",
      "Name: count, dtype: int64\n",
      "\n",
      "Massimo: 136\n",
      "Minimo: 128\n",
      "Media: 129.719\n",
      "Varianza: 5.107146146146148\n"
     ]
    }
   ],
   "source": [
    "# Generazione tag\n",
    "data = aprfa_bi32[\"16B-A\"]\n",
    "\n",
    "print_data(data)"
   ]
  },
  {
   "cell_type": "code",
   "execution_count": 29,
   "metadata": {},
   "outputs": [
    {
     "name": "stdout",
     "output_type": "stream",
     "text": [
      "16B-V\n",
      "264    411\n",
      "266    169\n",
      "271    157\n",
      "263    140\n",
      "265    102\n",
      "270     10\n",
      "272      9\n",
      "273      1\n",
      "267      1\n",
      "Name: count, dtype: int64\n",
      "\n",
      "Massimo: 273\n",
      "Minimo: 263\n",
      "Media: 265.543\n",
      "Varianza: 7.263414414414415\n"
     ]
    }
   ],
   "source": [
    "# Verifica tag\n",
    "data = aprfa_bi32[\"16B-V\"]\n",
    "\n",
    "print_data(data)"
   ]
  },
  {
   "attachments": {},
   "cell_type": "markdown",
   "metadata": {},
   "source": [
    "#### PT 32 byte"
   ]
  },
  {
   "cell_type": "code",
   "execution_count": 30,
   "metadata": {},
   "outputs": [
    {
     "name": "stdout",
     "output_type": "stream",
     "text": [
      "32B-A\n",
      "137    724\n",
      "139    116\n",
      "144     70\n",
      "138     50\n",
      "145     39\n",
      "140      1\n",
      "Name: count, dtype: int64\n",
      "\n",
      "Massimo: 145\n",
      "Minimo: 137\n",
      "Media: 138.087\n",
      "Varianza: 5.272703703703704\n"
     ]
    }
   ],
   "source": [
    "# Generazione tag\n",
    "data = aprfa_bi32[\"32B-A\"]\n",
    "\n",
    "print_data(data)"
   ]
  },
  {
   "cell_type": "code",
   "execution_count": 31,
   "metadata": {},
   "outputs": [
    {
     "name": "stdout",
     "output_type": "stream",
     "text": [
      "32B-V\n",
      "280    271\n",
      "281    224\n",
      "282    189\n",
      "288    136\n",
      "287     92\n",
      "283     79\n",
      "289      5\n",
      "290      3\n",
      "284      1\n",
      "Name: count, dtype: int64\n",
      "\n",
      "Massimo: 290\n",
      "Minimo: 280\n",
      "Media: 282.65\n",
      "Varianza: 8.61011011011011\n"
     ]
    }
   ],
   "source": [
    "# Verifica tag\n",
    "data = aprfa_bi32[\"32B-V\"]\n",
    "\n",
    "print_data(data)"
   ]
  },
  {
   "attachments": {},
   "cell_type": "markdown",
   "metadata": {},
   "source": [
    "#### PT 64 byte"
   ]
  },
  {
   "cell_type": "code",
   "execution_count": 32,
   "metadata": {},
   "outputs": [
    {
     "name": "stdout",
     "output_type": "stream",
     "text": [
      "64B-A\n",
      "188    325\n",
      "189    270\n",
      "190    139\n",
      "196    106\n",
      "195     89\n",
      "191     62\n",
      "197      9\n",
      "Name: count, dtype: int64\n",
      "\n",
      "Massimo: 197\n",
      "Minimo: 188\n",
      "Media: 190.286\n",
      "Varianza: 8.040244244244244\n"
     ]
    }
   ],
   "source": [
    "# Generazione tag\n",
    "data = aprfa_bi32[\"64B-A\"]\n",
    "\n",
    "print_data(data)"
   ]
  },
  {
   "cell_type": "code",
   "execution_count": 33,
   "metadata": {},
   "outputs": [
    {
     "name": "stdout",
     "output_type": "stream",
     "text": [
      "64B-V\n",
      "383    326\n",
      "385    261\n",
      "390    142\n",
      "391     91\n",
      "392     72\n",
      "384     69\n",
      "393     28\n",
      "386     11\n",
      "Name: count, dtype: int64\n",
      "\n",
      "Massimo: 393\n",
      "Minimo: 383\n",
      "Media: 386.274\n",
      "Varianza: 11.918842842842842\n"
     ]
    }
   ],
   "source": [
    "# Verifica tag\n",
    "data = aprfa_bi32[\"64B-V\"]\n",
    "\n",
    "print_data(data)"
   ]
  },
  {
   "attachments": {},
   "cell_type": "markdown",
   "metadata": {},
   "source": [
    "#### PT 128 byte"
   ]
  },
  {
   "cell_type": "code",
   "execution_count": 34,
   "metadata": {},
   "outputs": [
    {
     "name": "stdout",
     "output_type": "stream",
     "text": [
      "128B-A\n",
      "291    306\n",
      "293    299\n",
      "298    190\n",
      "299    130\n",
      "292     54\n",
      "294     19\n",
      "300      1\n",
      "301      1\n",
      "Name: count, dtype: int64\n",
      "\n",
      "Massimo: 301\n",
      "Minimo: 291\n",
      "Media: 294.098\n",
      "Varianza: 9.644040040040037\n"
     ]
    }
   ],
   "source": [
    "# Generazione tag\n",
    "data = aprfa_bi32[\"128B-A\"]\n",
    "\n",
    "print_data(data)"
   ]
  },
  {
   "cell_type": "code",
   "execution_count": 35,
   "metadata": {},
   "outputs": [
    {
     "name": "stdout",
     "output_type": "stream",
     "text": [
      "128B-V\n",
      "596    232\n",
      "591    189\n",
      "598    179\n",
      "590    150\n",
      "589     88\n",
      "597     65\n",
      "588     51\n",
      "595     36\n",
      "599     10\n",
      "Name: count, dtype: int64\n",
      "\n",
      "Massimo: 599\n",
      "Minimo: 588\n",
      "Media: 593.548\n",
      "Varianza: 12.608304304304307\n"
     ]
    }
   ],
   "source": [
    "# Verifica tag\n",
    "data = aprfa_bi32[\"128B-V\"]\n",
    "\n",
    "print_data(data)"
   ]
  },
  {
   "attachments": {},
   "cell_type": "markdown",
   "metadata": {},
   "source": [
    "#### PT 256 byte"
   ]
  },
  {
   "cell_type": "code",
   "execution_count": 36,
   "metadata": {},
   "outputs": [
    {
     "name": "stdout",
     "output_type": "stream",
     "text": [
      "256B-A\n",
      "464    280\n",
      "462    252\n",
      "469    224\n",
      "471    103\n",
      "470     60\n",
      "463     58\n",
      "461     13\n",
      "472     10\n",
      "Name: count, dtype: int64\n",
      "\n",
      "Massimo: 472\n",
      "Minimo: 461\n",
      "Media: 465.68\n",
      "Varianza: 11.819419419419415\n"
     ]
    }
   ],
   "source": [
    "# Generazione tag\n",
    "data = aprfa_bi32[\"256B-A\"]\n",
    "\n",
    "print_data(data)"
   ]
  },
  {
   "cell_type": "code",
   "execution_count": 37,
   "metadata": {},
   "outputs": [
    {
     "name": "stdout",
     "output_type": "stream",
     "text": [
      "256B-V\n",
      "939    537\n",
      "940    311\n",
      "932    115\n",
      "937     20\n",
      "933      9\n",
      "938      6\n",
      "941      2\n",
      "Name: count, dtype: int64\n",
      "\n",
      "Massimo: 941\n",
      "Minimo: 932\n",
      "Media: 938.41\n",
      "Varianza: 6.021921921921922\n"
     ]
    }
   ],
   "source": [
    "# Verifica tag\n",
    "data = aprfa_bi32[\"256B-V\"]\n",
    "\n",
    "print_data(data)"
   ]
  },
  {
   "attachments": {},
   "cell_type": "markdown",
   "metadata": {},
   "source": [
    "#### PT 512 byte"
   ]
  },
  {
   "cell_type": "code",
   "execution_count": 38,
   "metadata": {},
   "outputs": [
    {
     "name": "stdout",
     "output_type": "stream",
     "text": [
      "512B-A\n",
      "813    389\n",
      "812    225\n",
      "811    148\n",
      "805    105\n",
      "806     83\n",
      "810     43\n",
      "814      7\n",
      "Name: count, dtype: int64\n",
      "\n",
      "Massimo: 814\n",
      "Minimo: 805\n",
      "Media: 810.936\n",
      "Varianza: 7.74564964964965\n"
     ]
    }
   ],
   "source": [
    "# Generazione tag\n",
    "data = aprfa_bi32[\"512B-A\"]\n",
    "\n",
    "print_data(data)"
   ]
  },
  {
   "cell_type": "code",
   "execution_count": 39,
   "metadata": {},
   "outputs": [
    {
     "name": "stdout",
     "output_type": "stream",
     "text": [
      "512B-V\n",
      "1624    195\n",
      "1632    175\n",
      "1630    170\n",
      "1625    138\n",
      "1631    127\n",
      "1629     68\n",
      "1622     57\n",
      "1623     51\n",
      "1633     18\n",
      "1626      1\n",
      "Name: count, dtype: int64\n",
      "\n",
      "Massimo: 1633\n",
      "Minimo: 1622\n",
      "Media: 1627.786\n",
      "Varianza: 12.801005005005003\n"
     ]
    }
   ],
   "source": [
    "# Verifica tag\n",
    "data = aprfa_bi32[\"512B-V\"]\n",
    "\n",
    "print_data(data)"
   ]
  },
  {
   "attachments": {},
   "cell_type": "markdown",
   "metadata": {},
   "source": [
    "#### PT 1024 byte"
   ]
  },
  {
   "cell_type": "code",
   "execution_count": 40,
   "metadata": {},
   "outputs": [
    {
     "name": "stdout",
     "output_type": "stream",
     "text": [
      "1024B-A\n",
      "1538    182\n",
      "1540    161\n",
      "1532    156\n",
      "1539    113\n",
      "1530    102\n",
      "1531    102\n",
      "1533     89\n",
      "1537     83\n",
      "1541      7\n",
      "1534      5\n",
      "Name: count, dtype: int64\n",
      "\n",
      "Massimo: 1541\n",
      "Minimo: 1530\n",
      "Media: 1535.442\n",
      "Varianza: 13.820456456456458\n"
     ]
    }
   ],
   "source": [
    "# Generazione tag\n",
    "data = aprfa_bi32[\"1024B-A\"]\n",
    "\n",
    "print_data(data)"
   ]
  },
  {
   "cell_type": "code",
   "execution_count": 41,
   "metadata": {},
   "outputs": [
    {
     "name": "stdout",
     "output_type": "stream",
     "text": [
      "1024B-V\n",
      "3077    463\n",
      "3076    433\n",
      "3078     67\n",
      "3079     37\n",
      "Name: count, dtype: int64\n",
      "\n",
      "Massimo: 3079\n",
      "Minimo: 3076\n",
      "Media: 3076.708\n",
      "Varianza: 0.5632992992992992\n"
     ]
    }
   ],
   "source": [
    "# Verifica tag\n",
    "data = aprfa_bi32[\"1024B-V\"]\n",
    "\n",
    "print_data(data)"
   ]
  },
  {
   "attachments": {},
   "cell_type": "markdown",
   "metadata": {},
   "source": [
    "### Ref"
   ]
  },
  {
   "cell_type": "code",
   "execution_count": 42,
   "metadata": {},
   "outputs": [],
   "source": [
    "with open(path.format(\"ref\"), \"r\") as f:\n",
    "    aprfa_ref = pd.read_csv(f, delimiter=\";\")"
   ]
  },
  {
   "attachments": {},
   "cell_type": "markdown",
   "metadata": {},
   "source": [
    "#### PT vuoto"
   ]
  },
  {
   "cell_type": "code",
   "execution_count": 43,
   "metadata": {},
   "outputs": [
    {
     "name": "stdout",
     "output_type": "stream",
     "text": [
      "0B-A\n",
      "167    701\n",
      "169    120\n",
      "174     66\n",
      "166     58\n",
      "168     30\n",
      "175     25\n",
      "Name: count, dtype: int64\n",
      "\n",
      "Massimo: 175\n",
      "Minimo: 166\n",
      "Media: 167.874\n",
      "Varianza: 4.6427667667667665\n"
     ]
    }
   ],
   "source": [
    "# Generazione tag\n",
    "data = aprfa_ref[\"0B-A\"]\n",
    "\n",
    "print_data(data)"
   ]
  },
  {
   "cell_type": "code",
   "execution_count": 44,
   "metadata": {},
   "outputs": [
    {
     "name": "stdout",
     "output_type": "stream",
     "text": [
      "0B-V\n",
      "342    397\n",
      "340    226\n",
      "347    122\n",
      "348     75\n",
      "341     63\n",
      "343     60\n",
      "349     31\n",
      "350     24\n",
      "346      2\n",
      "Name: count, dtype: int64\n",
      "\n",
      "Massimo: 350\n",
      "Minimo: 340\n",
      "Media: 343.022\n",
      "Varianza: 8.828344344344345\n"
     ]
    }
   ],
   "source": [
    "# Verifica tag\n",
    "data = aprfa_ref[\"0B-V\"]\n",
    "\n",
    "print_data(data)"
   ]
  },
  {
   "attachments": {},
   "cell_type": "markdown",
   "metadata": {},
   "source": [
    "#### PT 8 byte"
   ]
  },
  {
   "cell_type": "code",
   "execution_count": 45,
   "metadata": {},
   "outputs": [
    {
     "name": "stdout",
     "output_type": "stream",
     "text": [
      "8B-A\n",
      "172    536\n",
      "173    209\n",
      "174    118\n",
      "179     57\n",
      "180     54\n",
      "175     23\n",
      "181      3\n",
      "Name: count, dtype: int64\n",
      "\n",
      "Massimo: 181\n",
      "Minimo: 172\n",
      "Media: 173.372\n",
      "Varianza: 5.503119119119119\n"
     ]
    }
   ],
   "source": [
    "# Generazione tag\n",
    "data = aprfa_ref[\"8B-A\"]\n",
    "\n",
    "print_data(data)"
   ]
  },
  {
   "cell_type": "code",
   "execution_count": 46,
   "metadata": {},
   "outputs": [
    {
     "name": "stdout",
     "output_type": "stream",
     "text": [
      "8B-V\n",
      "353    337\n",
      "351    261\n",
      "358    147\n",
      "352    109\n",
      "360     71\n",
      "350     44\n",
      "359     27\n",
      "361      3\n",
      "354      1\n",
      "Name: count, dtype: int64\n",
      "\n",
      "Massimo: 361\n",
      "Minimo: 350\n",
      "Media: 353.656\n",
      "Varianza: 9.447111111111113\n"
     ]
    }
   ],
   "source": [
    "# Verifica tag\n",
    "data = aprfa_ref[\"8B-V\"]\n",
    "\n",
    "print_data(data)"
   ]
  },
  {
   "attachments": {},
   "cell_type": "markdown",
   "metadata": {},
   "source": [
    "#### PT 16 byte"
   ]
  },
  {
   "cell_type": "code",
   "execution_count": 47,
   "metadata": {},
   "outputs": [
    {
     "name": "stdout",
     "output_type": "stream",
     "text": [
      "16B-A\n",
      "178    434\n",
      "177    299\n",
      "185    109\n",
      "180     75\n",
      "179     56\n",
      "184     21\n",
      "186      6\n",
      "Name: count, dtype: int64\n",
      "\n",
      "Massimo: 186\n",
      "Minimo: 177\n",
      "Media: 178.844\n",
      "Varianza: 6.4300940940940965\n"
     ]
    }
   ],
   "source": [
    "# Generazione tag\n",
    "data = aprfa_ref[\"16B-A\"]\n",
    "\n",
    "print_data(data)"
   ]
  },
  {
   "cell_type": "code",
   "execution_count": 48,
   "metadata": {},
   "outputs": [
    {
     "name": "stdout",
     "output_type": "stream",
     "text": [
      "16B-V\n",
      "363    255\n",
      "364    182\n",
      "362    162\n",
      "361    152\n",
      "369    117\n",
      "371     56\n",
      "370     41\n",
      "368     34\n",
      "365      1\n",
      "Name: count, dtype: int64\n",
      "\n",
      "Massimo: 371\n",
      "Minimo: 361\n",
      "Media: 364.325\n",
      "Varianza: 9.86524024024024\n"
     ]
    }
   ],
   "source": [
    "# Verifica tag\n",
    "data = aprfa_ref[\"16B-V\"]\n",
    "\n",
    "print_data(data)"
   ]
  },
  {
   "attachments": {},
   "cell_type": "markdown",
   "metadata": {},
   "source": [
    "#### PT 32 byte"
   ]
  },
  {
   "cell_type": "code",
   "execution_count": 49,
   "metadata": {},
   "outputs": [
    {
     "name": "stdout",
     "output_type": "stream",
     "text": [
      "32B-A\n",
      "188    509\n",
      "189    210\n",
      "190    112\n",
      "196     73\n",
      "195     71\n",
      "191     23\n",
      "197      2\n",
      "Name: count, dtype: int64\n",
      "\n",
      "Massimo: 197\n",
      "Minimo: 188\n",
      "Media: 189.602\n",
      "Varianza: 6.618214214214213\n"
     ]
    }
   ],
   "source": [
    "# Generazione tag\n",
    "data = aprfa_ref[\"32B-A\"]\n",
    "\n",
    "print_data(data)"
   ]
  },
  {
   "cell_type": "code",
   "execution_count": 50,
   "metadata": {},
   "outputs": [
    {
     "name": "stdout",
     "output_type": "stream",
     "text": [
      "32B-V\n",
      "383    269\n",
      "385    244\n",
      "392    184\n",
      "390    146\n",
      "384     83\n",
      "382     34\n",
      "391     23\n",
      "393     15\n",
      "386      2\n",
      "Name: count, dtype: int64\n",
      "\n",
      "Massimo: 393\n",
      "Minimo: 382\n",
      "Media: 386.555\n",
      "Varianza: 13.516491491491493\n"
     ]
    }
   ],
   "source": [
    "# Verifica tag\n",
    "data = aprfa_ref[\"32B-V\"]\n",
    "\n",
    "print_data(data)"
   ]
  },
  {
   "attachments": {},
   "cell_type": "markdown",
   "metadata": {},
   "source": [
    "#### PT 64 byte"
   ]
  },
  {
   "cell_type": "code",
   "execution_count": 51,
   "metadata": {},
   "outputs": [
    {
     "name": "stdout",
     "output_type": "stream",
     "text": [
      "64B-A\n",
      "259    499\n",
      "266    180\n",
      "261    177\n",
      "260     59\n",
      "258     43\n",
      "267     40\n",
      "262      2\n",
      "Name: count, dtype: int64\n",
      "\n",
      "Massimo: 267\n",
      "Minimo: 258\n",
      "Media: 260.956\n",
      "Varianza: 8.390454454454456\n"
     ]
    }
   ],
   "source": [
    "# Generazione tag\n",
    "data = aprfa_ref[\"64B-A\"]\n",
    "\n",
    "print_data(data)"
   ]
  },
  {
   "cell_type": "code",
   "execution_count": 52,
   "metadata": {},
   "outputs": [
    {
     "name": "stdout",
     "output_type": "stream",
     "text": [
      "64B-V\n",
      "533    224\n",
      "526    194\n",
      "524    171\n",
      "531    159\n",
      "532    120\n",
      "534     90\n",
      "525     31\n",
      "527     11\n",
      "Name: count, dtype: int64\n",
      "\n",
      "Massimo: 534\n",
      "Minimo: 524\n",
      "Media: 529.441\n",
      "Varianza: 13.93044944944945\n"
     ]
    }
   ],
   "source": [
    "# Verifica tag\n",
    "data = aprfa_ref[\"64B-V\"]\n",
    "\n",
    "print_data(data)"
   ]
  },
  {
   "attachments": {},
   "cell_type": "markdown",
   "metadata": {},
   "source": [
    "#### PT 128 byte"
   ]
  },
  {
   "cell_type": "code",
   "execution_count": 53,
   "metadata": {},
   "outputs": [
    {
     "name": "stdout",
     "output_type": "stream",
     "text": [
      "128B-A\n",
      "409    240\n",
      "400    190\n",
      "402    160\n",
      "407    130\n",
      "410    114\n",
      "408     90\n",
      "401     61\n",
      "403     15\n",
      "Name: count, dtype: int64\n",
      "\n",
      "Massimo: 410\n",
      "Minimo: 400\n",
      "Media: 405.356\n",
      "Varianza: 15.134398398398401\n"
     ]
    }
   ],
   "source": [
    "# Generazione tag\n",
    "data = aprfa_ref[\"128B-A\"]\n",
    "\n",
    "print_data(data)"
   ]
  },
  {
   "cell_type": "code",
   "execution_count": 54,
   "metadata": {},
   "outputs": [
    {
     "name": "stdout",
     "output_type": "stream",
     "text": [
      "128B-V\n",
      "816    367\n",
      "809    284\n",
      "808    137\n",
      "814    116\n",
      "815     69\n",
      "817     23\n",
      "813      4\n",
      "Name: count, dtype: int64\n",
      "\n",
      "Massimo: 817\n",
      "Minimo: 808\n",
      "Media: 812.626\n",
      "Varianza: 11.904028028028028\n"
     ]
    }
   ],
   "source": [
    "# Verifica tag\n",
    "data = aprfa_ref[\"128B-V\"]\n",
    "\n",
    "print_data(data)"
   ]
  },
  {
   "attachments": {},
   "cell_type": "markdown",
   "metadata": {},
   "source": [
    "#### PT 256 byte"
   ]
  },
  {
   "cell_type": "code",
   "execution_count": 55,
   "metadata": {},
   "outputs": [
    {
     "name": "stdout",
     "output_type": "stream",
     "text": [
      "256B-A\n",
      "643    329\n",
      "642    237\n",
      "641    137\n",
      "635    107\n",
      "636     63\n",
      "640     60\n",
      "633     35\n",
      "634     27\n",
      "644      5\n",
      "Name: count, dtype: int64\n",
      "\n",
      "Massimo: 644\n",
      "Minimo: 633\n",
      "Media: 640.424\n",
      "Varianza: 10.326550550550548\n"
     ]
    }
   ],
   "source": [
    "# Generazione tag\n",
    "data = aprfa_ref[\"256B-A\"]\n",
    "\n",
    "print_data(data)"
   ]
  },
  {
   "cell_type": "code",
   "execution_count": 56,
   "metadata": {},
   "outputs": [
    {
     "name": "stdout",
     "output_type": "stream",
     "text": [
      "256B-V\n",
      "1282    364\n",
      "1283    312\n",
      "1284    116\n",
      "1290     82\n",
      "1285     51\n",
      "1289     44\n",
      "1291     17\n",
      "1292     14\n",
      "Name: count, dtype: int64\n",
      "\n",
      "Massimo: 1292\n",
      "Minimo: 1282\n",
      "Media: 1283.954\n",
      "Varianza: 7.605489489489488\n"
     ]
    }
   ],
   "source": [
    "# Verifica tag\n",
    "data = aprfa_ref[\"256B-V\"]\n",
    "\n",
    "print_data(data)"
   ]
  },
  {
   "attachments": {},
   "cell_type": "markdown",
   "metadata": {},
   "source": [
    "#### PT 512 byte"
   ]
  },
  {
   "cell_type": "code",
   "execution_count": 57,
   "metadata": {},
   "outputs": [
    {
     "name": "stdout",
     "output_type": "stream",
     "text": [
      "512B-A\n",
      "1109    675\n",
      "1110    172\n",
      "1111     57\n",
      "1117     45\n",
      "1116     42\n",
      "1112      7\n",
      "1118      2\n",
      "Name: count, dtype: int64\n",
      "\n",
      "Massimo: 1118\n",
      "Minimo: 1109\n",
      "Media: 1109.979\n",
      "Varianza: 4.609168168168167\n"
     ]
    }
   ],
   "source": [
    "# Generazione tag\n",
    "data = aprfa_ref[\"512B-A\"]\n",
    "\n",
    "print_data(data)"
   ]
  },
  {
   "cell_type": "code",
   "execution_count": 58,
   "metadata": {},
   "outputs": [
    {
     "name": "stdout",
     "output_type": "stream",
     "text": [
      "512B-V\n",
      "2225    288\n",
      "2232    285\n",
      "2224    154\n",
      "2226    105\n",
      "2227     70\n",
      "2231     60\n",
      "2233     36\n",
      "2228      2\n",
      "Name: count, dtype: int64\n",
      "\n",
      "Massimo: 2233\n",
      "Minimo: 2224\n",
      "Media: 2227.74\n",
      "Varianza: 11.48988988988989\n"
     ]
    }
   ],
   "source": [
    "# Verifica tag\n",
    "data = aprfa_ref[\"512B-V\"]\n",
    "\n",
    "print_data(data)"
   ]
  },
  {
   "attachments": {},
   "cell_type": "markdown",
   "metadata": {},
   "source": [
    "#### PT 1024 byte"
   ]
  },
  {
   "cell_type": "code",
   "execution_count": 59,
   "metadata": {},
   "outputs": [
    {
     "name": "stdout",
     "output_type": "stream",
     "text": [
      "1024B-A\n",
      "2101    513\n",
      "2100    251\n",
      "2102     82\n",
      "2103     68\n",
      "2108     64\n",
      "2109     13\n",
      "2107      8\n",
      "2104      1\n",
      "Name: count, dtype: int64\n",
      "\n",
      "Massimo: 2109\n",
      "Minimo: 2100\n",
      "Media: 2101.57\n",
      "Varianza: 4.549649649649648\n"
     ]
    }
   ],
   "source": [
    "# Generazione tag\n",
    "data = aprfa_ref[\"1024B-A\"]\n",
    "\n",
    "print_data(data)"
   ]
  },
  {
   "cell_type": "code",
   "execution_count": 60,
   "metadata": {},
   "outputs": [
    {
     "name": "stdout",
     "output_type": "stream",
     "text": [
      "1024B-V\n",
      "4208    303\n",
      "4210    229\n",
      "4209    143\n",
      "4207    131\n",
      "4215    130\n",
      "4216     30\n",
      "4214     17\n",
      "4211     17\n",
      "Name: count, dtype: int64\n",
      "\n",
      "Massimo: 4216\n",
      "Minimo: 4207\n",
      "Media: 4209.773\n",
      "Varianza: 7.108579579579577\n"
     ]
    }
   ],
   "source": [
    "# Verifica tag\n",
    "data = aprfa_ref[\"1024B-V\"]\n",
    "\n",
    "print_data(data)"
   ]
  }
 ],
 "metadata": {
  "kernelspec": {
   "display_name": "Python 3",
   "language": "python",
   "name": "python3"
  },
  "language_info": {
   "codemirror_mode": {
    "name": "ipython",
    "version": 3
   },
   "file_extension": ".py",
   "mimetype": "text/x-python",
   "name": "python",
   "nbconvert_exporter": "python",
   "pygments_lexer": "ipython3",
   "version": "3.11.2"
  },
  "orig_nbformat": 4
 },
 "nbformat": 4,
 "nbformat_minor": 2
}
