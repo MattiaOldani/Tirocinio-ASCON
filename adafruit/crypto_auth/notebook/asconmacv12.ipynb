{
 "cells": [
  {
   "attachments": {},
   "cell_type": "markdown",
   "metadata": {},
   "source": [
    "# Analisi dei dati raccolti"
   ]
  },
  {
   "attachments": {},
   "cell_type": "markdown",
   "metadata": {},
   "source": [
    "## Setup"
   ]
  },
  {
   "cell_type": "code",
   "execution_count": 1,
   "metadata": {},
   "outputs": [],
   "source": [
    "import pandas as pd"
   ]
  },
  {
   "cell_type": "code",
   "execution_count": 2,
   "metadata": {},
   "outputs": [],
   "source": [
    "def print_data(series: pd.Series) -> None:\n",
    "    print(series.value_counts())\n",
    "    print()\n",
    "    print(f\"Massimo: {series.max()}\\nMinimo: {series.min()}\\nMedia: {series.mean()}\\nVarianza: {series.var()}\")"
   ]
  },
  {
   "attachments": {},
   "cell_type": "markdown",
   "metadata": {},
   "source": [
    "## Asconmacv12"
   ]
  },
  {
   "cell_type": "code",
   "execution_count": 3,
   "metadata": {},
   "outputs": [],
   "source": [
    "path = \"../asconmacv12/data/{}.csv\""
   ]
  },
  {
   "attachments": {},
   "cell_type": "markdown",
   "metadata": {},
   "source": [
    "### Armv6m"
   ]
  },
  {
   "cell_type": "code",
   "execution_count": 4,
   "metadata": {},
   "outputs": [],
   "source": [
    "with open(path.format(\"armv6m\"), \"r\") as f:\n",
    "    amac_armv6m = pd.read_csv(f, delimiter=\";\")"
   ]
  },
  {
   "attachments": {},
   "cell_type": "markdown",
   "metadata": {},
   "source": [
    "#### PT vuoto"
   ]
  },
  {
   "cell_type": "code",
   "execution_count": 5,
   "metadata": {},
   "outputs": [
    {
     "name": "stdout",
     "output_type": "stream",
     "text": [
      "0B-A\n",
      "115    661\n",
      "116    205\n",
      "124     44\n",
      "117     41\n",
      "125     37\n",
      "118     10\n",
      "126      1\n",
      "123      1\n",
      "Name: count, dtype: int64\n",
      "\n",
      "Massimo: 126\n",
      "Minimo: 115\n",
      "Media: 116.102\n",
      "Varianza: 6.700296296296293\n"
     ]
    }
   ],
   "source": [
    "# Generazione tag\n",
    "data = amac_armv6m[\"0B-A\"]\n",
    "\n",
    "print_data(data)"
   ]
  },
  {
   "cell_type": "code",
   "execution_count": 6,
   "metadata": {},
   "outputs": [
    {
     "name": "stdout",
     "output_type": "stream",
     "text": [
      "0B-V\n",
      "237    604\n",
      "246    189\n",
      "236    127\n",
      "239     41\n",
      "238     18\n",
      "247      8\n",
      "245      7\n",
      "244      6\n",
      "Name: count, dtype: int64\n",
      "\n",
      "Massimo: 247\n",
      "Minimo: 236\n",
      "Media: 238.852\n",
      "Varianza: 13.743839839839842\n"
     ]
    }
   ],
   "source": [
    "# Verifica tag\n",
    "data = amac_armv6m[\"0B-V\"]\n",
    "\n",
    "print_data(data)"
   ]
  },
  {
   "attachments": {},
   "cell_type": "markdown",
   "metadata": {},
   "source": [
    "#### PT 8 byte"
   ]
  },
  {
   "cell_type": "code",
   "execution_count": 7,
   "metadata": {},
   "outputs": [
    {
     "name": "stdout",
     "output_type": "stream",
     "text": [
      "8B-A\n",
      "118    524\n",
      "117    305\n",
      "127     71\n",
      "125     41\n",
      "126     23\n",
      "119     12\n",
      "124     11\n",
      "120      8\n",
      "128      4\n",
      "121      1\n",
      "Name: count, dtype: int64\n",
      "\n",
      "Massimo: 128\n",
      "Minimo: 117\n",
      "Media: 118.942\n",
      "Varianza: 9.508144144144147\n"
     ]
    }
   ],
   "source": [
    "# Generazione tag\n",
    "data = amac_armv6m[\"8B-A\"]\n",
    "\n",
    "print_data(data)"
   ]
  },
  {
   "cell_type": "code",
   "execution_count": 8,
   "metadata": {},
   "outputs": [
    {
     "name": "stdout",
     "output_type": "stream",
     "text": [
      "8B-V\n",
      "242    430\n",
      "241    354\n",
      "251    117\n",
      "250     40\n",
      "243     27\n",
      "244     23\n",
      "252      8\n",
      "249      1\n",
      "Name: count, dtype: int64\n",
      "\n",
      "Massimo: 252\n",
      "Minimo: 241\n",
      "Media: 243.179\n",
      "Varianza: 11.980939939939939\n"
     ]
    }
   ],
   "source": [
    "# Verifica tag\n",
    "data = amac_armv6m[\"8B-V\"]\n",
    "\n",
    "print_data(data)"
   ]
  },
  {
   "attachments": {},
   "cell_type": "markdown",
   "metadata": {},
   "source": [
    "#### PT 16 byte"
   ]
  },
  {
   "cell_type": "code",
   "execution_count": 9,
   "metadata": {},
   "outputs": [
    {
     "name": "stdout",
     "output_type": "stream",
     "text": [
      "16B-A\n",
      "120    872\n",
      "129     58\n",
      "122     27\n",
      "130     16\n",
      "127     15\n",
      "128     11\n",
      "121      1\n",
      "Name: count, dtype: int64\n",
      "\n",
      "Massimo: 130\n",
      "Minimo: 120\n",
      "Media: 120.93\n",
      "Varianza: 6.988088088088085\n"
     ]
    }
   ],
   "source": [
    "# Generazione tag\n",
    "data = amac_armv6m[\"16B-A\"]\n",
    "\n",
    "print_data(data)"
   ]
  },
  {
   "cell_type": "code",
   "execution_count": 10,
   "metadata": {},
   "outputs": [
    {
     "name": "stdout",
     "output_type": "stream",
     "text": [
      "16B-V\n",
      "246    542\n",
      "247    250\n",
      "255     87\n",
      "256     82\n",
      "248     21\n",
      "249     12\n",
      "257      4\n",
      "253      2\n",
      "Name: count, dtype: int64\n",
      "\n",
      "Massimo: 257\n",
      "Minimo: 246\n",
      "Media: 247.989\n",
      "Varianza: 12.327206206206206\n"
     ]
    }
   ],
   "source": [
    "# Verifica tag\n",
    "data = amac_armv6m[\"16B-V\"]\n",
    "\n",
    "print_data(data)"
   ]
  },
  {
   "attachments": {},
   "cell_type": "markdown",
   "metadata": {},
   "source": [
    "#### PT 32 byte"
   ]
  },
  {
   "cell_type": "code",
   "execution_count": 11,
   "metadata": {},
   "outputs": [
    {
     "name": "stdout",
     "output_type": "stream",
     "text": [
      "32B-A\n",
      "177    626\n",
      "178    158\n",
      "186     98\n",
      "187     52\n",
      "179     26\n",
      "184     22\n",
      "185      9\n",
      "180      8\n",
      "188      1\n",
      "Name: count, dtype: int64\n",
      "\n",
      "Massimo: 188\n",
      "Minimo: 177\n",
      "Media: 178.873\n",
      "Varianza: 11.750621621621622\n"
     ]
    }
   ],
   "source": [
    "# Generazione tag\n",
    "data = amac_armv6m[\"32B-A\"]\n",
    "\n",
    "print_data(data)"
   ]
  },
  {
   "cell_type": "code",
   "execution_count": 12,
   "metadata": {},
   "outputs": [
    {
     "name": "stdout",
     "output_type": "stream",
     "text": [
      "32B-V\n",
      "361    443\n",
      "360    230\n",
      "370    223\n",
      "369     40\n",
      "363     35\n",
      "362     16\n",
      "371     10\n",
      "364      2\n",
      "368      1\n",
      "Name: count, dtype: int64\n",
      "\n",
      "Massimo: 371\n",
      "Minimo: 360\n",
      "Media: 363.296\n",
      "Varianza: 16.821205205205203\n"
     ]
    }
   ],
   "source": [
    "# Verifica tag\n",
    "data = amac_armv6m[\"32B-V\"]\n",
    "\n",
    "print_data(data)"
   ]
  },
  {
   "attachments": {},
   "cell_type": "markdown",
   "metadata": {},
   "source": [
    "#### PT 64 byte"
   ]
  },
  {
   "cell_type": "code",
   "execution_count": 13,
   "metadata": {},
   "outputs": [
    {
     "name": "stdout",
     "output_type": "stream",
     "text": [
      "64B-A\n",
      "239    641\n",
      "248    179\n",
      "240     70\n",
      "249     69\n",
      "246     23\n",
      "247     11\n",
      "241      6\n",
      "250      1\n",
      "Name: count, dtype: int64\n",
      "\n",
      "Massimo: 250\n",
      "Minimo: 239\n",
      "Media: 241.643\n",
      "Varianza: 16.476027027027033\n"
     ]
    }
   ],
   "source": [
    "# Generazione tag\n",
    "data = amac_armv6m[\"64B-A\"]\n",
    "\n",
    "print_data(data)"
   ]
  },
  {
   "cell_type": "code",
   "execution_count": 14,
   "metadata": {},
   "outputs": [
    {
     "name": "stdout",
     "output_type": "stream",
     "text": [
      "64B-V\n",
      "485    311\n",
      "494    256\n",
      "484    244\n",
      "493    103\n",
      "487     38\n",
      "486     24\n",
      "495     22\n",
      "492      2\n",
      "Name: count, dtype: int64\n",
      "\n",
      "Massimo: 495\n",
      "Minimo: 484\n",
      "Media: 488.218\n",
      "Varianza: 19.71018618618619\n"
     ]
    }
   ],
   "source": [
    "# Verifica tag\n",
    "data = amac_armv6m[\"64B-V\"]\n",
    "\n",
    "print_data(data)"
   ]
  },
  {
   "attachments": {},
   "cell_type": "markdown",
   "metadata": {},
   "source": [
    "#### PT 128 byte"
   ]
  },
  {
   "cell_type": "code",
   "execution_count": 15,
   "metadata": {},
   "outputs": [
    {
     "name": "stdout",
     "output_type": "stream",
     "text": [
      "128B-A\n",
      "363    617\n",
      "372    228\n",
      "370     55\n",
      "373     52\n",
      "365     26\n",
      "371     20\n",
      "366      1\n",
      "364      1\n",
      "Name: count, dtype: int64\n",
      "\n",
      "Massimo: 373\n",
      "Minimo: 363\n",
      "Media: 366.173\n",
      "Varianza: 17.70677777777778\n"
     ]
    }
   ],
   "source": [
    "# Generazione tag\n",
    "data = amac_armv6m[\"128B-A\"]\n",
    "\n",
    "print_data(data)"
   ]
  },
  {
   "cell_type": "code",
   "execution_count": 16,
   "metadata": {},
   "outputs": [
    {
     "name": "stdout",
     "output_type": "stream",
     "text": [
      "128B-V\n",
      "741    378\n",
      "742    319\n",
      "732    188\n",
      "733     84\n",
      "734     12\n",
      "743     10\n",
      "735      9\n",
      "Name: count, dtype: int64\n",
      "\n",
      "Massimo: 743\n",
      "Minimo: 732\n",
      "Media: 738.837\n",
      "Varianza: 17.213644644644642\n"
     ]
    }
   ],
   "source": [
    "# Verifica tag\n",
    "data = amac_armv6m[\"128B-V\"]\n",
    "\n",
    "print_data(data)"
   ]
  },
  {
   "attachments": {},
   "cell_type": "markdown",
   "metadata": {},
   "source": [
    "#### PT 256 byte"
   ]
  },
  {
   "cell_type": "code",
   "execution_count": 17,
   "metadata": {},
   "outputs": [
    {
     "name": "stdout",
     "output_type": "stream",
     "text": [
      "256B-A\n",
      "620    505\n",
      "611    230\n",
      "610     78\n",
      "619     59\n",
      "618     47\n",
      "613     36\n",
      "621     28\n",
      "612     15\n",
      "617      2\n",
      "Name: count, dtype: int64\n",
      "\n",
      "Massimo: 621\n",
      "Minimo: 610\n",
      "Media: 616.647\n",
      "Varianza: 18.222613613613614\n"
     ]
    }
   ],
   "source": [
    "# Generazione tag\n",
    "data = amac_armv6m[\"256B-A\"]\n",
    "\n",
    "print_data(data)"
   ]
  },
  {
   "cell_type": "code",
   "execution_count": 18,
   "metadata": {},
   "outputs": [
    {
     "name": "stdout",
     "output_type": "stream",
     "text": [
      "256B-V\n",
      "1237    704\n",
      "1246    151\n",
      "1238     43\n",
      "1247     39\n",
      "1236     38\n",
      "1239     14\n",
      "1245      5\n",
      "1240      4\n",
      "1244      2\n",
      "Name: count, dtype: int64\n",
      "\n",
      "Massimo: 1247\n",
      "Minimo: 1236\n",
      "Media: 1238.848\n",
      "Varianza: 13.320216216216217\n"
     ]
    }
   ],
   "source": [
    "# Verifica tag\n",
    "data = amac_armv6m[\"256B-V\"]\n",
    "\n",
    "print_data(data)"
   ]
  },
  {
   "attachments": {},
   "cell_type": "markdown",
   "metadata": {},
   "source": [
    "#### PT 512 byte"
   ]
  },
  {
   "cell_type": "code",
   "execution_count": 19,
   "metadata": {},
   "outputs": [
    {
     "name": "stdout",
     "output_type": "stream",
     "text": [
      "512B-A\n",
      "1115    464\n",
      "1116    338\n",
      "1125     43\n",
      "1123     38\n",
      "1117     37\n",
      "1124     33\n",
      "1122     21\n",
      "1118     21\n",
      "1126      3\n",
      "1119      2\n",
      "Name: count, dtype: int64\n",
      "\n",
      "Massimo: 1126\n",
      "Minimo: 1115\n",
      "Media: 1116.694\n",
      "Varianza: 8.643007007007007\n"
     ]
    }
   ],
   "source": [
    "# Generazione tag\n",
    "data = amac_armv6m[\"512B-A\"]\n",
    "\n",
    "print_data(data)"
   ]
  },
  {
   "cell_type": "code",
   "execution_count": 20,
   "metadata": {},
   "outputs": [
    {
     "name": "stdout",
     "output_type": "stream",
     "text": [
      "512B-V\n",
      "2237    605\n",
      "2238    186\n",
      "2246     78\n",
      "2247     63\n",
      "2239     32\n",
      "2236     21\n",
      "2240      7\n",
      "2245      6\n",
      "2248      2\n",
      "Name: count, dtype: int64\n",
      "\n",
      "Massimo: 2248\n",
      "Minimo: 2236\n",
      "Media: 2238.652\n",
      "Varianza: 10.92381981981982\n"
     ]
    }
   ],
   "source": [
    "# Verifica tag\n",
    "data = amac_armv6m[\"512B-V\"]\n",
    "\n",
    "print_data(data)"
   ]
  },
  {
   "attachments": {},
   "cell_type": "markdown",
   "metadata": {},
   "source": [
    "#### PT 1024 byte"
   ]
  },
  {
   "cell_type": "code",
   "execution_count": 21,
   "metadata": {},
   "outputs": [
    {
     "name": "stdout",
     "output_type": "stream",
     "text": [
      "1024B-A\n",
      "2116    472\n",
      "2115    329\n",
      "2125     63\n",
      "2117     57\n",
      "2118     24\n",
      "2123     20\n",
      "2124     18\n",
      "2122      8\n",
      "2126      5\n",
      "2114      3\n",
      "2119      1\n",
      "Name: count, dtype: int64\n",
      "\n",
      "Massimo: 2126\n",
      "Minimo: 2114\n",
      "Media: 2116.722\n",
      "Varianza: 8.012728728728726\n"
     ]
    }
   ],
   "source": [
    "# Generazione tag\n",
    "data = amac_armv6m[\"1024B-A\"]\n",
    "\n",
    "print_data(data)"
   ]
  },
  {
   "cell_type": "code",
   "execution_count": 22,
   "metadata": {},
   "outputs": [
    {
     "name": "stdout",
     "output_type": "stream",
     "text": [
      "1024B-V\n",
      "4238    340\n",
      "4237    298\n",
      "4247    150\n",
      "4246     60\n",
      "4239     58\n",
      "4248     37\n",
      "4240     20\n",
      "4236     19\n",
      "4245     11\n",
      "4241      4\n",
      "4244      3\n",
      "Name: count, dtype: int64\n",
      "\n",
      "Massimo: 4248\n",
      "Minimo: 4236\n",
      "Media: 4240.069\n",
      "Varianza: 16.620859859859863\n"
     ]
    }
   ],
   "source": [
    "# Verifica tag\n",
    "data = amac_armv6m[\"1024B-V\"]\n",
    "\n",
    "print_data(data)"
   ]
  },
  {
   "attachments": {},
   "cell_type": "markdown",
   "metadata": {},
   "source": [
    "### Bi32_armv6m"
   ]
  },
  {
   "cell_type": "code",
   "execution_count": 23,
   "metadata": {},
   "outputs": [],
   "source": [
    "with open(path.format(\"bi32_armv6m\"), \"r\") as f:\n",
    "    amac_bi32 = pd.read_csv(f, delimiter=\";\")"
   ]
  },
  {
   "attachments": {},
   "cell_type": "markdown",
   "metadata": {},
   "source": [
    "#### PT vuoto"
   ]
  },
  {
   "cell_type": "code",
   "execution_count": 24,
   "metadata": {},
   "outputs": [
    {
     "name": "stdout",
     "output_type": "stream",
     "text": [
      "0B-A\n",
      "120    443\n",
      "121    268\n",
      "122    123\n",
      "128     78\n",
      "123     46\n",
      "127     38\n",
      "129      4\n",
      "Name: count, dtype: int64\n",
      "\n",
      "Massimo: 129\n",
      "Minimo: 120\n",
      "Media: 121.578\n",
      "Varianza: 5.867783783783784\n"
     ]
    }
   ],
   "source": [
    "# Generazione tag\n",
    "data = amac_bi32[\"0B-A\"]\n",
    "\n",
    "print_data(data)"
   ]
  },
  {
   "cell_type": "code",
   "execution_count": 25,
   "metadata": {},
   "outputs": [
    {
     "name": "stdout",
     "output_type": "stream",
     "text": [
      "0B-V\n",
      "247    484\n",
      "249    216\n",
      "254    170\n",
      "255     83\n",
      "248     47\n",
      "Name: count, dtype: int64\n",
      "\n",
      "Massimo: 255\n",
      "Minimo: 247\n",
      "Media: 249.333\n",
      "Varianza: 9.11923023023023\n"
     ]
    }
   ],
   "source": [
    "# Verifica tag\n",
    "data = amac_bi32[\"0B-V\"]\n",
    "\n",
    "print_data(data)"
   ]
  },
  {
   "attachments": {},
   "cell_type": "markdown",
   "metadata": {},
   "source": [
    "#### PT 8 byte"
   ]
  },
  {
   "cell_type": "code",
   "execution_count": 26,
   "metadata": {},
   "outputs": [
    {
     "name": "stdout",
     "output_type": "stream",
     "text": [
      "8B-A\n",
      "125    417\n",
      "124    336\n",
      "126     77\n",
      "132     72\n",
      "127     69\n",
      "131     27\n",
      "133      2\n",
      "Name: count, dtype: int64\n",
      "\n",
      "Massimo: 133\n",
      "Minimo: 124\n",
      "Media: 125.561\n",
      "Varianza: 5.007286286286285\n"
     ]
    }
   ],
   "source": [
    "# Generazione tag\n",
    "data = amac_bi32[\"8B-A\"]\n",
    "\n",
    "print_data(data)"
   ]
  },
  {
   "cell_type": "code",
   "execution_count": 27,
   "metadata": {},
   "outputs": [
    {
     "name": "stdout",
     "output_type": "stream",
     "text": [
      "8B-V\n",
      "255    327\n",
      "257    217\n",
      "256    215\n",
      "263     93\n",
      "258     80\n",
      "262     65\n",
      "264      2\n",
      "259      1\n",
      "Name: count, dtype: int64\n",
      "\n",
      "Massimo: 264\n",
      "Minimo: 255\n",
      "Media: 257.11\n",
      "Varianza: 6.672572572572573\n"
     ]
    }
   ],
   "source": [
    "# Verifica tag\n",
    "data = amac_bi32[\"8B-V\"]\n",
    "\n",
    "print_data(data)"
   ]
  },
  {
   "attachments": {},
   "cell_type": "markdown",
   "metadata": {},
   "source": [
    "#### PT 16 byte"
   ]
  },
  {
   "cell_type": "code",
   "execution_count": 28,
   "metadata": {},
   "outputs": [
    {
     "name": "stdout",
     "output_type": "stream",
     "text": [
      "16B-A\n",
      "129    487\n",
      "128    199\n",
      "136    129\n",
      "131     84\n",
      "130     84\n",
      "135     10\n",
      "137      7\n",
      "Name: count, dtype: int64\n",
      "\n",
      "Massimo: 137\n",
      "Minimo: 128\n",
      "Media: 130.072\n",
      "Varianza: 6.605421421421422\n"
     ]
    }
   ],
   "source": [
    "# Generazione tag\n",
    "data = amac_bi32[\"16B-A\"]\n",
    "\n",
    "print_data(data)"
   ]
  },
  {
   "cell_type": "code",
   "execution_count": 29,
   "metadata": {},
   "outputs": [
    {
     "name": "stdout",
     "output_type": "stream",
     "text": [
      "16B-V\n",
      "264    375\n",
      "271    203\n",
      "266    158\n",
      "263    145\n",
      "265    100\n",
      "270     10\n",
      "272      9\n",
      "Name: count, dtype: int64\n",
      "\n",
      "Massimo: 272\n",
      "Minimo: 263\n",
      "Media: 265.824\n",
      "Varianza: 8.441465465465466\n"
     ]
    }
   ],
   "source": [
    "# Verifica tag\n",
    "data = amac_bi32[\"16B-V\"]\n",
    "\n",
    "print_data(data)"
   ]
  },
  {
   "attachments": {},
   "cell_type": "markdown",
   "metadata": {},
   "source": [
    "#### PT 32 byte"
   ]
  },
  {
   "cell_type": "code",
   "execution_count": 30,
   "metadata": {},
   "outputs": [
    {
     "name": "stdout",
     "output_type": "stream",
     "text": [
      "32B-A\n",
      "188    478\n",
      "195    178\n",
      "187    150\n",
      "190    111\n",
      "189     63\n",
      "194     12\n",
      "196      8\n",
      "Name: count, dtype: int64\n",
      "\n",
      "Massimo: 196\n",
      "Minimo: 187\n",
      "Media: 189.517\n",
      "Varianza: 8.02974074074074\n"
     ]
    }
   ],
   "source": [
    "# Generazione tag\n",
    "data = amac_bi32[\"32B-A\"]\n",
    "\n",
    "print_data(data)"
   ]
  },
  {
   "cell_type": "code",
   "execution_count": 31,
   "metadata": {},
   "outputs": [
    {
     "name": "stdout",
     "output_type": "stream",
     "text": [
      "32B-V\n",
      "389    312\n",
      "384    277\n",
      "382    233\n",
      "383    113\n",
      "381     41\n",
      "390     24\n",
      "Name: count, dtype: int64\n",
      "\n",
      "Massimo: 390\n",
      "Minimo: 381\n",
      "Media: 385.002\n",
      "Varianza: 9.083079079079079\n"
     ]
    }
   ],
   "source": [
    "# Verifica tag\n",
    "data = amac_bi32[\"32B-V\"]\n",
    "\n",
    "print_data(data)"
   ]
  },
  {
   "attachments": {},
   "cell_type": "markdown",
   "metadata": {},
   "source": [
    "#### PT 64 byte"
   ]
  },
  {
   "cell_type": "code",
   "execution_count": 32,
   "metadata": {},
   "outputs": [
    {
     "name": "stdout",
     "output_type": "stream",
     "text": [
      "64B-A\n",
      "255    399\n",
      "257    242\n",
      "262    203\n",
      "263     90\n",
      "256     65\n",
      "258      1\n",
      "Name: count, dtype: int64\n",
      "\n",
      "Massimo: 263\n",
      "Minimo: 255\n",
      "Media: 257.693\n",
      "Varianza: 9.506257257257257\n"
     ]
    }
   ],
   "source": [
    "# Generazione tag\n",
    "data = amac_bi32[\"64B-A\"]\n",
    "\n",
    "print_data(data)"
   ]
  },
  {
   "cell_type": "code",
   "execution_count": 33,
   "metadata": {},
   "outputs": [
    {
     "name": "stdout",
     "output_type": "stream",
     "text": [
      "64B-V\n",
      "524    341\n",
      "518    270\n",
      "519    229\n",
      "523     88\n",
      "525     29\n",
      "517     18\n",
      "516     13\n",
      "526     12\n",
      "Name: count, dtype: int64\n",
      "\n",
      "Massimo: 526\n",
      "Minimo: 516\n",
      "Media: 520.97\n",
      "Varianza: 8.151251251251253\n"
     ]
    }
   ],
   "source": [
    "# Verifica tag\n",
    "data = amac_bi32[\"64B-V\"]\n",
    "\n",
    "print_data(data)"
   ]
  },
  {
   "attachments": {},
   "cell_type": "markdown",
   "metadata": {},
   "source": [
    "#### PT 128 byte"
   ]
  },
  {
   "cell_type": "code",
   "execution_count": 34,
   "metadata": {},
   "outputs": [
    {
     "name": "stdout",
     "output_type": "stream",
     "text": [
      "128B-A\n",
      "397    349\n",
      "392    299\n",
      "390    190\n",
      "391    100\n",
      "398     38\n",
      "389     23\n",
      "393      1\n",
      "Name: count, dtype: int64\n",
      "\n",
      "Massimo: 398\n",
      "Minimo: 389\n",
      "Media: 393.425\n",
      "Varianza: 9.139514514514515\n"
     ]
    }
   ],
   "source": [
    "# Generazione tag\n",
    "data = amac_bi32[\"128B-A\"]\n",
    "\n",
    "print_data(data)"
   ]
  },
  {
   "cell_type": "code",
   "execution_count": 35,
   "metadata": {},
   "outputs": [
    {
     "name": "stdout",
     "output_type": "stream",
     "text": [
      "128B-V\n",
      "795    412\n",
      "788    238\n",
      "793    160\n",
      "796    108\n",
      "794     78\n",
      "787      4\n",
      "Name: count, dtype: int64\n",
      "\n",
      "Massimo: 796\n",
      "Minimo: 787\n",
      "Media: 793.012\n",
      "Varianza: 8.800656656656658\n"
     ]
    }
   ],
   "source": [
    "# Verifica tag\n",
    "data = amac_bi32[\"128B-V\"]\n",
    "\n",
    "print_data(data)"
   ]
  },
  {
   "attachments": {},
   "cell_type": "markdown",
   "metadata": {},
   "source": [
    "#### PT 256 byte"
   ]
  },
  {
   "cell_type": "code",
   "execution_count": 36,
   "metadata": {},
   "outputs": [
    {
     "name": "stdout",
     "output_type": "stream",
     "text": [
      "256B-A\n",
      "661    284\n",
      "667    199\n",
      "668    156\n",
      "666    143\n",
      "669    135\n",
      "662     77\n",
      "670      6\n",
      "Name: count, dtype: int64\n",
      "\n",
      "Massimo: 670\n",
      "Minimo: 661\n",
      "Media: 665.212\n",
      "Varianza: 9.85491091091091\n"
     ]
    }
   ],
   "source": [
    "# Generazione tag\n",
    "data = amac_bi32[\"256B-A\"]\n",
    "\n",
    "print_data(data)"
   ]
  },
  {
   "cell_type": "code",
   "execution_count": 37,
   "metadata": {},
   "outputs": [
    {
     "name": "stdout",
     "output_type": "stream",
     "text": [
      "256B-V\n",
      "1336    337\n",
      "1334    311\n",
      "1341    136\n",
      "1342    136\n",
      "1335     62\n",
      "1337     18\n",
      "Name: count, dtype: int64\n",
      "\n",
      "Massimo: 1342\n",
      "Minimo: 1334\n",
      "Media: 1336.83\n",
      "Varianza: 8.940040040040039\n"
     ]
    }
   ],
   "source": [
    "# Verifica tag\n",
    "data = amac_bi32[\"256B-V\"]\n",
    "\n",
    "print_data(data)"
   ]
  },
  {
   "attachments": {},
   "cell_type": "markdown",
   "metadata": {},
   "source": [
    "#### PT 512 byte"
   ]
  },
  {
   "cell_type": "code",
   "execution_count": 38,
   "metadata": {},
   "outputs": [
    {
     "name": "stdout",
     "output_type": "stream",
     "text": [
      "512B-A\n",
      "1207    310\n",
      "1208    296\n",
      "1215    152\n",
      "1209    105\n",
      "1214     71\n",
      "1210     60\n",
      "1216      5\n",
      "1211      1\n",
      "Name: count, dtype: int64\n",
      "\n",
      "Massimo: 1216\n",
      "Minimo: 1207\n",
      "Media: 1209.448\n",
      "Varianza: 8.900196196196198\n"
     ]
    }
   ],
   "source": [
    "# Generazione tag\n",
    "data = amac_bi32[\"512B-A\"]\n",
    "\n",
    "print_data(data)"
   ]
  },
  {
   "cell_type": "code",
   "execution_count": 39,
   "metadata": {},
   "outputs": [
    {
     "name": "stdout",
     "output_type": "stream",
     "text": [
      "512B-V\n",
      "2423    401\n",
      "2429    159\n",
      "2428    157\n",
      "2421    130\n",
      "2424     89\n",
      "2422     58\n",
      "2430      6\n",
      "Name: count, dtype: int64\n",
      "\n",
      "Massimo: 2430\n",
      "Minimo: 2421\n",
      "Media: 2424.552\n",
      "Varianza: 8.209505505505504\n"
     ]
    }
   ],
   "source": [
    "# Verifica tag\n",
    "data = amac_bi32[\"512B-V\"]\n",
    "\n",
    "print_data(data)"
   ]
  },
  {
   "attachments": {},
   "cell_type": "markdown",
   "metadata": {},
   "source": [
    "#### PT 1024 byte"
   ]
  },
  {
   "cell_type": "code",
   "execution_count": 40,
   "metadata": {},
   "outputs": [
    {
     "name": "stdout",
     "output_type": "stream",
     "text": [
      "1024B-A\n",
      "2302    240\n",
      "2295    194\n",
      "2296    176\n",
      "2297    151\n",
      "2294    144\n",
      "2301     62\n",
      "2303     29\n",
      "2298      4\n",
      "Name: count, dtype: int64\n",
      "\n",
      "Massimo: 2303\n",
      "Minimo: 2294\n",
      "Media: 2297.63\n",
      "Varianza: 9.901001001001\n"
     ]
    }
   ],
   "source": [
    "# Generazione tag\n",
    "data = amac_bi32[\"1024B-A\"]\n",
    "\n",
    "print_data(data)"
   ]
  },
  {
   "cell_type": "code",
   "execution_count": 41,
   "metadata": {},
   "outputs": [
    {
     "name": "stdout",
     "output_type": "stream",
     "text": [
      "1024B-V\n",
      "4603    251\n",
      "4597    247\n",
      "4598    216\n",
      "4602    112\n",
      "4604     84\n",
      "4605     83\n",
      "4606      6\n",
      "4599      1\n",
      "Name: count, dtype: int64\n",
      "\n",
      "Massimo: 4606\n",
      "Minimo: 4597\n",
      "Media: 4600.59\n",
      "Varianza: 9.090990990990989\n"
     ]
    }
   ],
   "source": [
    "# Verifica tag\n",
    "data = amac_bi32[\"1024B-V\"]\n",
    "\n",
    "print_data(data)"
   ]
  },
  {
   "attachments": {},
   "cell_type": "markdown",
   "metadata": {},
   "source": [
    "### Ref"
   ]
  },
  {
   "cell_type": "code",
   "execution_count": 42,
   "metadata": {},
   "outputs": [],
   "source": [
    "with open(path.format(\"ref\"), \"r\") as f:\n",
    "    amac_ref = pd.read_csv(f, delimiter=\";\")"
   ]
  },
  {
   "attachments": {},
   "cell_type": "markdown",
   "metadata": {},
   "source": [
    "#### PT vuoto"
   ]
  },
  {
   "cell_type": "code",
   "execution_count": 43,
   "metadata": {},
   "outputs": [
    {
     "name": "stdout",
     "output_type": "stream",
     "text": [
      "0B-A\n",
      "168    393\n",
      "169    373\n",
      "176     88\n",
      "170     72\n",
      "171     44\n",
      "175     29\n",
      "177      1\n",
      "Name: count, dtype: int64\n",
      "\n",
      "Massimo: 177\n",
      "Minimo: 168\n",
      "Media: 169.565\n",
      "Varianza: 5.747522522522522\n"
     ]
    }
   ],
   "source": [
    "# Generazione tag\n",
    "data = amac_ref[\"0B-A\"]\n",
    "\n",
    "print_data(data)"
   ]
  },
  {
   "cell_type": "code",
   "execution_count": 44,
   "metadata": {},
   "outputs": [
    {
     "name": "stdout",
     "output_type": "stream",
     "text": [
      "0B-V\n",
      "343    314\n",
      "345    201\n",
      "344    160\n",
      "351    140\n",
      "350    110\n",
      "346     71\n",
      "352      4\n",
      "Name: count, dtype: int64\n",
      "\n",
      "Massimo: 352\n",
      "Minimo: 343\n",
      "Media: 345.701\n",
      "Varianza: 8.990589589589588\n"
     ]
    }
   ],
   "source": [
    "# Verifica tag\n",
    "data = amac_ref[\"0B-V\"]\n",
    "\n",
    "print_data(data)"
   ]
  },
  {
   "attachments": {},
   "cell_type": "markdown",
   "metadata": {},
   "source": [
    "#### PT 8 byte"
   ]
  },
  {
   "cell_type": "code",
   "execution_count": 45,
   "metadata": {},
   "outputs": [
    {
     "name": "stdout",
     "output_type": "stream",
     "text": [
      "8B-A\n",
      "174    566\n",
      "181    153\n",
      "173    141\n",
      "176     82\n",
      "175     49\n",
      "182      5\n",
      "180      4\n",
      "Name: count, dtype: int64\n",
      "\n",
      "Massimo: 182\n",
      "Minimo: 173\n",
      "Media: 175.207\n",
      "Varianza: 7.029180180180181\n"
     ]
    }
   ],
   "source": [
    "# Generazione tag\n",
    "data = amac_ref[\"8B-A\"]\n",
    "\n",
    "print_data(data)"
   ]
  },
  {
   "cell_type": "code",
   "execution_count": 46,
   "metadata": {},
   "outputs": [
    {
     "name": "stdout",
     "output_type": "stream",
     "text": [
      "8B-V\n",
      "354    436\n",
      "356    220\n",
      "361    191\n",
      "362     58\n",
      "355     50\n",
      "353     43\n",
      "357      2\n",
      "Name: count, dtype: int64\n",
      "\n",
      "Massimo: 362\n",
      "Minimo: 353\n",
      "Media: 356.254\n",
      "Varianza: 8.990474474474475\n"
     ]
    }
   ],
   "source": [
    "# Verifica tag\n",
    "data = amac_ref[\"8B-V\"]\n",
    "\n",
    "print_data(data)"
   ]
  },
  {
   "attachments": {},
   "cell_type": "markdown",
   "metadata": {},
   "source": [
    "#### PT 16 byte"
   ]
  },
  {
   "cell_type": "code",
   "execution_count": 47,
   "metadata": {},
   "outputs": [
    {
     "name": "stdout",
     "output_type": "stream",
     "text": [
      "16B-A\n",
      "179    649\n",
      "181    121\n",
      "186    108\n",
      "187     65\n",
      "180     56\n",
      "182      1\n",
      "Name: count, dtype: int64\n",
      "\n",
      "Massimo: 187\n",
      "Minimo: 179\n",
      "Media: 180.577\n",
      "Varianza: 7.521592592592593\n"
     ]
    }
   ],
   "source": [
    "# Generazione tag\n",
    "data = amac_ref[\"16B-A\"]\n",
    "\n",
    "print_data(data)"
   ]
  },
  {
   "cell_type": "code",
   "execution_count": 48,
   "metadata": {},
   "outputs": [
    {
     "name": "stdout",
     "output_type": "stream",
     "text": [
      "16B-V\n",
      "364    243\n",
      "365    221\n",
      "372    170\n",
      "366    168\n",
      "367    116\n",
      "371     74\n",
      "373      7\n",
      "370      1\n",
      "Name: count, dtype: int64\n",
      "\n",
      "Massimo: 373\n",
      "Minimo: 364\n",
      "Media: 366.852\n",
      "Varianza: 8.921017017017016\n"
     ]
    }
   ],
   "source": [
    "# Verifica tag\n",
    "data = amac_ref[\"16B-V\"]\n",
    "\n",
    "print_data(data)"
   ]
  },
  {
   "attachments": {},
   "cell_type": "markdown",
   "metadata": {},
   "source": [
    "#### PT 32 byte"
   ]
  },
  {
   "cell_type": "code",
   "execution_count": 49,
   "metadata": {},
   "outputs": [
    {
     "name": "stdout",
     "output_type": "stream",
     "text": [
      "32B-A\n",
      "263    292\n",
      "270    235\n",
      "271    215\n",
      "265    141\n",
      "264     88\n",
      "266     29\n",
      "Name: count, dtype: int64\n",
      "\n",
      "Massimo: 271\n",
      "Minimo: 263\n",
      "Media: 266.822\n",
      "Varianza: 11.591907907907906\n"
     ]
    }
   ],
   "source": [
    "# Generazione tag\n",
    "data = amac_ref[\"32B-A\"]\n",
    "\n",
    "print_data(data)"
   ]
  },
  {
   "cell_type": "code",
   "execution_count": 50,
   "metadata": {},
   "outputs": [
    {
     "name": "stdout",
     "output_type": "stream",
     "text": [
      "32B-V\n",
      "535    429\n",
      "540    284\n",
      "534    200\n",
      "542     44\n",
      "533     24\n",
      "541     13\n",
      "532      3\n",
      "543      2\n",
      "539      1\n",
      "Name: count, dtype: int64\n",
      "\n",
      "Massimo: 543\n",
      "Minimo: 532\n",
      "Media: 536.569\n",
      "Varianza: 7.7369759759759775\n"
     ]
    }
   ],
   "source": [
    "# Verifica tag\n",
    "data = amac_ref[\"32B-V\"]\n",
    "\n",
    "print_data(data)"
   ]
  },
  {
   "attachments": {},
   "cell_type": "markdown",
   "metadata": {},
   "source": [
    "#### PT 64 byte"
   ]
  },
  {
   "cell_type": "code",
   "execution_count": 51,
   "metadata": {},
   "outputs": [
    {
     "name": "stdout",
     "output_type": "stream",
     "text": [
      "64B-A\n",
      "358    332\n",
      "360    302\n",
      "365    237\n",
      "359     63\n",
      "366     41\n",
      "357     21\n",
      "361      4\n",
      "Name: count, dtype: int64\n",
      "\n",
      "Massimo: 366\n",
      "Minimo: 357\n",
      "Media: 360.645\n",
      "Varianza: 8.577552552552556\n"
     ]
    }
   ],
   "source": [
    "# Generazione tag\n",
    "data = amac_ref[\"64B-A\"]\n",
    "\n",
    "print_data(data)"
   ]
  },
  {
   "cell_type": "code",
   "execution_count": 52,
   "metadata": {},
   "outputs": [
    {
     "name": "stdout",
     "output_type": "stream",
     "text": [
      "64B-V\n",
      "724    215\n",
      "731    206\n",
      "729    198\n",
      "730    196\n",
      "732    143\n",
      "725     40\n",
      "733      2\n",
      "Name: count, dtype: int64\n",
      "\n",
      "Massimo: 733\n",
      "Minimo: 724\n",
      "Media: 728.81\n",
      "Varianza: 8.326226226226227\n"
     ]
    }
   ],
   "source": [
    "# Verifica tag\n",
    "data = amac_ref[\"64B-V\"]\n",
    "\n",
    "print_data(data)"
   ]
  },
  {
   "attachments": {},
   "cell_type": "markdown",
   "metadata": {},
   "source": [
    "#### PT 128 byte"
   ]
  },
  {
   "cell_type": "code",
   "execution_count": 53,
   "metadata": {},
   "outputs": [
    {
     "name": "stdout",
     "output_type": "stream",
     "text": [
      "128B-A\n",
      "555    374\n",
      "549    217\n",
      "554    179\n",
      "550    102\n",
      "557     63\n",
      "556     50\n",
      "548      7\n",
      "547      7\n",
      "558      1\n",
      "Name: count, dtype: int64\n",
      "\n",
      "Massimo: 558\n",
      "Minimo: 547\n",
      "Media: 553.083\n",
      "Varianza: 7.97608708708709\n"
     ]
    }
   ],
   "source": [
    "# Generazione tag\n",
    "data = amac_ref[\"128B-A\"]\n",
    "\n",
    "print_data(data)"
   ]
  },
  {
   "cell_type": "code",
   "execution_count": 54,
   "metadata": {},
   "outputs": [
    {
     "name": "stdout",
     "output_type": "stream",
     "text": [
      "128B-V\n",
      "1110    603\n",
      "1111    290\n",
      "1112     62\n",
      "1113     22\n",
      "1118     14\n",
      "1117      8\n",
      "1119      1\n",
      "Name: count, dtype: int64\n",
      "\n",
      "Massimo: 1119\n",
      "Minimo: 1110\n",
      "Media: 1110.657\n",
      "Varianza: 1.675026026026026\n"
     ]
    }
   ],
   "source": [
    "# Verifica tag\n",
    "data = amac_ref[\"128B-V\"]\n",
    "\n",
    "print_data(data)"
   ]
  },
  {
   "attachments": {},
   "cell_type": "markdown",
   "metadata": {},
   "source": [
    "#### PT 256 byte"
   ]
  },
  {
   "cell_type": "code",
   "execution_count": 55,
   "metadata": {},
   "outputs": [
    {
     "name": "stdout",
     "output_type": "stream",
     "text": [
      "256B-A\n",
      "936    443\n",
      "935    430\n",
      "928     69\n",
      "929     19\n",
      "934     18\n",
      "933     11\n",
      "937     10\n",
      "Name: count, dtype: int64\n",
      "\n",
      "Massimo: 937\n",
      "Minimo: 928\n",
      "Media: 934.826\n",
      "Varianza: 4.584308308308309\n"
     ]
    }
   ],
   "source": [
    "# Generazione tag\n",
    "data = amac_ref[\"256B-A\"]\n",
    "\n",
    "print_data(data)"
   ]
  },
  {
   "cell_type": "code",
   "execution_count": 56,
   "metadata": {},
   "outputs": [
    {
     "name": "stdout",
     "output_type": "stream",
     "text": [
      "256B-V\n",
      "1877    516\n",
      "1878    237\n",
      "1870    133\n",
      "1875     56\n",
      "1876     45\n",
      "1871     12\n",
      "1879      1\n",
      "Name: count, dtype: int64\n",
      "\n",
      "Massimo: 1879\n",
      "Minimo: 1870\n",
      "Media: 1876.079\n",
      "Varianza: 6.617376376376376\n"
     ]
    }
   ],
   "source": [
    "# Verifica tag\n",
    "data = amac_ref[\"256B-V\"]\n",
    "\n",
    "print_data(data)"
   ]
  },
  {
   "attachments": {},
   "cell_type": "markdown",
   "metadata": {},
   "source": [
    "#### PT 512 byte"
   ]
  },
  {
   "cell_type": "code",
   "execution_count": 57,
   "metadata": {},
   "outputs": [
    {
     "name": "stdout",
     "output_type": "stream",
     "text": [
      "512B-A\n",
      "1695    276\n",
      "1702    253\n",
      "1703    195\n",
      "1701    109\n",
      "1700     84\n",
      "1696     77\n",
      "1704      6\n",
      "Name: count, dtype: int64\n",
      "\n",
      "Massimo: 1704\n",
      "Minimo: 1695\n",
      "Media: 1699.536\n",
      "Varianza: 10.899603603603602\n"
     ]
    }
   ],
   "source": [
    "# Generazione tag\n",
    "data = amac_ref[\"512B-A\"]\n",
    "\n",
    "print_data(data)"
   ]
  },
  {
   "cell_type": "code",
   "execution_count": 58,
   "metadata": {},
   "outputs": [
    {
     "name": "stdout",
     "output_type": "stream",
     "text": [
      "512B-V\n",
      "3409    335\n",
      "3404    236\n",
      "3410    185\n",
      "3402    151\n",
      "3403     52\n",
      "3405     34\n",
      "3411      5\n",
      "3401      1\n",
      "3408      1\n",
      "Name: count, dtype: int64\n",
      "\n",
      "Massimo: 3411\n",
      "Minimo: 3401\n",
      "Media: 3406.501\n",
      "Varianza: 9.749748748748749\n"
     ]
    }
   ],
   "source": [
    "# Verifica tag\n",
    "data = amac_ref[\"512B-V\"]\n",
    "\n",
    "print_data(data)"
   ]
  },
  {
   "attachments": {},
   "cell_type": "markdown",
   "metadata": {},
   "source": [
    "#### PT 1024 byte"
   ]
  },
  {
   "cell_type": "code",
   "execution_count": 59,
   "metadata": {},
   "outputs": [
    {
     "name": "stdout",
     "output_type": "stream",
     "text": [
      "1024B-A\n",
      "3227    461\n",
      "3228    195\n",
      "3229    145\n",
      "3234     87\n",
      "3235     75\n",
      "3230     33\n",
      "3236      4\n",
      "Name: count, dtype: int64\n",
      "\n",
      "Massimo: 3236\n",
      "Minimo: 3227\n",
      "Media: 3228.829\n",
      "Varianza: 7.1208798798798805\n"
     ]
    }
   ],
   "source": [
    "# Generazione tag\n",
    "data = amac_ref[\"1024B-A\"]\n",
    "\n",
    "print_data(data)"
   ]
  },
  {
   "cell_type": "code",
   "execution_count": 60,
   "metadata": {},
   "outputs": [
    {
     "name": "stdout",
     "output_type": "stream",
     "text": [
      "1024B-V\n",
      "6468    382\n",
      "6463    222\n",
      "6469    161\n",
      "6462     98\n",
      "6467     43\n",
      "6461     42\n",
      "6464     35\n",
      "6460     14\n",
      "6470      3\n",
      "Name: count, dtype: int64\n",
      "\n",
      "Massimo: 6470\n",
      "Minimo: 6460\n",
      "Media: 6465.88\n",
      "Varianza: 8.321921921921918\n"
     ]
    }
   ],
   "source": [
    "# Verifica tag\n",
    "data = amac_ref[\"1024B-V\"]\n",
    "\n",
    "print_data(data)"
   ]
  }
 ],
 "metadata": {
  "kernelspec": {
   "display_name": "Python 3",
   "language": "python",
   "name": "python3"
  },
  "language_info": {
   "codemirror_mode": {
    "name": "ipython",
    "version": 3
   },
   "file_extension": ".py",
   "mimetype": "text/x-python",
   "name": "python",
   "nbconvert_exporter": "python",
   "pygments_lexer": "ipython3",
   "version": "3.11.2"
  },
  "orig_nbformat": 4
 },
 "nbformat": 4,
 "nbformat_minor": 2
}
