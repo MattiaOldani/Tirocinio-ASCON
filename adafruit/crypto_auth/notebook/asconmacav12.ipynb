{
 "cells": [
  {
   "attachments": {},
   "cell_type": "markdown",
   "metadata": {},
   "source": [
    "# Analisi dei dati raccolti"
   ]
  },
  {
   "attachments": {},
   "cell_type": "markdown",
   "metadata": {},
   "source": [
    "## Setup"
   ]
  },
  {
   "cell_type": "code",
   "execution_count": 1,
   "metadata": {},
   "outputs": [],
   "source": [
    "import pandas as pd"
   ]
  },
  {
   "cell_type": "code",
   "execution_count": 2,
   "metadata": {},
   "outputs": [],
   "source": [
    "def print_data(series: pd.Series) -> None:\n",
    "    print(series.value_counts())\n",
    "    print()\n",
    "    print(f\"Massimo: {series.max()}\\nMinimo: {series.min()}\\nMedia: {series.mean()}\\nVarianza: {series.var()}\")"
   ]
  },
  {
   "attachments": {},
   "cell_type": "markdown",
   "metadata": {},
   "source": [
    "## Asconmacav12"
   ]
  },
  {
   "cell_type": "code",
   "execution_count": 3,
   "metadata": {},
   "outputs": [],
   "source": [
    "path = \"../asconmacav12/data/{}.csv\""
   ]
  },
  {
   "attachments": {},
   "cell_type": "markdown",
   "metadata": {},
   "source": [
    "### Armv7m"
   ]
  },
  {
   "cell_type": "code",
   "execution_count": 4,
   "metadata": {},
   "outputs": [],
   "source": [
    "with open(path.format(\"armv6m\"), \"r\") as f:\n",
    "    amaca_armv6m = pd.read_csv(f, delimiter=\";\")"
   ]
  },
  {
   "attachments": {},
   "cell_type": "markdown",
   "metadata": {},
   "source": [
    "#### PT vuoto"
   ]
  },
  {
   "cell_type": "code",
   "execution_count": 5,
   "metadata": {},
   "outputs": [
    {
     "name": "stdout",
     "output_type": "stream",
     "text": [
      "0B-A\n",
      "115    597\n",
      "116    211\n",
      "122     62\n",
      "117     60\n",
      "123     55\n",
      "118     13\n",
      "124      2\n",
      "Name: count, dtype: int64\n",
      "\n",
      "Massimo: 124\n",
      "Minimo: 115\n",
      "Media: 116.262\n",
      "Varianza: 5.701057057057058\n"
     ]
    }
   ],
   "source": [
    "# Generazione tag\n",
    "data = amaca_armv6m[\"0B-A\"]\n",
    "\n",
    "print_data(data)"
   ]
  },
  {
   "cell_type": "code",
   "execution_count": 6,
   "metadata": {},
   "outputs": [
    {
     "name": "stdout",
     "output_type": "stream",
     "text": [
      "0B-V\n",
      "237    472\n",
      "244    187\n",
      "239    157\n",
      "236    113\n",
      "238     51\n",
      "245     20\n",
      "Name: count, dtype: int64\n",
      "\n",
      "Massimo: 245\n",
      "Minimo: 236\n",
      "Media: 238.721\n",
      "Varianza: 8.28144044044044\n"
     ]
    }
   ],
   "source": [
    "# Verifica tag\n",
    "data = amaca_armv6m[\"0B-V\"]\n",
    "\n",
    "print_data(data)"
   ]
  },
  {
   "attachments": {},
   "cell_type": "markdown",
   "metadata": {},
   "source": [
    "#### PT 8 byte"
   ]
  },
  {
   "cell_type": "code",
   "execution_count": 7,
   "metadata": {},
   "outputs": [
    {
     "name": "stdout",
     "output_type": "stream",
     "text": [
      "8B-A\n",
      "118    407\n",
      "117    230\n",
      "125    153\n",
      "120    106\n",
      "119     62\n",
      "124     32\n",
      "126     10\n",
      "Name: count, dtype: int64\n",
      "\n",
      "Massimo: 126\n",
      "Minimo: 117\n",
      "Media: 119.387\n",
      "Varianza: 8.08932032032032\n"
     ]
    }
   ],
   "source": [
    "# Generazione tag\n",
    "data = amaca_armv6m[\"8B-A\"]\n",
    "\n",
    "print_data(data)"
   ]
  },
  {
   "cell_type": "code",
   "execution_count": 8,
   "metadata": {},
   "outputs": [
    {
     "name": "stdout",
     "output_type": "stream",
     "text": [
      "8B-V\n",
      "242    297\n",
      "241    197\n",
      "249    174\n",
      "244    148\n",
      "243    126\n",
      "248     56\n",
      "250      2\n",
      "Name: count, dtype: int64\n",
      "\n",
      "Massimo: 250\n",
      "Minimo: 241\n",
      "Media: 243.795\n",
      "Varianza: 8.371346346346346\n"
     ]
    }
   ],
   "source": [
    "# Verifica tag\n",
    "data = amaca_armv6m[\"8B-V\"]\n",
    "\n",
    "print_data(data)"
   ]
  },
  {
   "attachments": {},
   "cell_type": "markdown",
   "metadata": {},
   "source": [
    "#### PT 16 byte"
   ]
  },
  {
   "cell_type": "code",
   "execution_count": 9,
   "metadata": {},
   "outputs": [
    {
     "name": "stdout",
     "output_type": "stream",
     "text": [
      "16B-A\n",
      "120    746\n",
      "122    173\n",
      "127     44\n",
      "128     27\n",
      "121      8\n",
      "123      2\n",
      "Name: count, dtype: int64\n",
      "\n",
      "Massimo: 128\n",
      "Minimo: 120\n",
      "Media: 120.884\n",
      "Varianza: 3.824368368368368\n"
     ]
    }
   ],
   "source": [
    "# Generazione tag\n",
    "data = amaca_armv6m[\"16B-A\"]\n",
    "\n",
    "print_data(data)"
   ]
  },
  {
   "cell_type": "code",
   "execution_count": 10,
   "metadata": {},
   "outputs": [
    {
     "name": "stdout",
     "output_type": "stream",
     "text": [
      "16B-V\n",
      "246    377\n",
      "248    180\n",
      "247    167\n",
      "254    124\n",
      "253     87\n",
      "249     61\n",
      "255      4\n",
      "Name: count, dtype: int64\n",
      "\n",
      "Massimo: 255\n",
      "Minimo: 246\n",
      "Media: 248.347\n",
      "Varianza: 8.45905005005005\n"
     ]
    }
   ],
   "source": [
    "# Verifica tag\n",
    "data = amaca_armv6m[\"16B-V\"]\n",
    "\n",
    "print_data(data)"
   ]
  },
  {
   "attachments": {},
   "cell_type": "markdown",
   "metadata": {},
   "source": [
    "#### PT 32 byte"
   ]
  },
  {
   "cell_type": "code",
   "execution_count": 11,
   "metadata": {},
   "outputs": [
    {
     "name": "stdout",
     "output_type": "stream",
     "text": [
      "32B-A\n",
      "125    566\n",
      "124    200\n",
      "127     99\n",
      "132     77\n",
      "126     49\n",
      "131      6\n",
      "133      3\n",
      "Name: count, dtype: int64\n",
      "\n",
      "Massimo: 133\n",
      "Minimo: 124\n",
      "Media: 125.646\n",
      "Varianza: 4.413097097097096\n"
     ]
    }
   ],
   "source": [
    "# Generazione tag\n",
    "data = amaca_armv6m[\"32B-A\"]\n",
    "\n",
    "print_data(data)"
   ]
  },
  {
   "cell_type": "code",
   "execution_count": 12,
   "metadata": {},
   "outputs": [
    {
     "name": "stdout",
     "output_type": "stream",
     "text": [
      "32B-V\n",
      "256    459\n",
      "258    220\n",
      "263    130\n",
      "255    103\n",
      "257     81\n",
      "264      7\n",
      "Name: count, dtype: int64\n",
      "\n",
      "Massimo: 264\n",
      "Minimo: 255\n",
      "Media: 257.384\n",
      "Varianza: 5.9725165165165155\n"
     ]
    }
   ],
   "source": [
    "# Verifica tag\n",
    "data = amaca_armv6m[\"32B-V\"]\n",
    "\n",
    "print_data(data)"
   ]
  },
  {
   "attachments": {},
   "cell_type": "markdown",
   "metadata": {},
   "source": [
    "#### PT 64 byte"
   ]
  },
  {
   "cell_type": "code",
   "execution_count": 13,
   "metadata": {},
   "outputs": [
    {
     "name": "stdout",
     "output_type": "stream",
     "text": [
      "64B-A\n",
      "170    678\n",
      "172    144\n",
      "177    113\n",
      "178     39\n",
      "171     26\n",
      "Name: count, dtype: int64\n",
      "\n",
      "Massimo: 178\n",
      "Minimo: 170\n",
      "Media: 171.417\n",
      "Varianza: 6.633744744744746\n"
     ]
    }
   ],
   "source": [
    "# Generazione tag\n",
    "data = amaca_armv6m[\"64B-A\"]\n",
    "\n",
    "print_data(data)"
   ]
  },
  {
   "cell_type": "code",
   "execution_count": 14,
   "metadata": {},
   "outputs": [
    {
     "name": "stdout",
     "output_type": "stream",
     "text": [
      "64B-V\n",
      "348    243\n",
      "346    236\n",
      "354    174\n",
      "347    144\n",
      "353    109\n",
      "349     90\n",
      "355      4\n",
      "Name: count, dtype: int64\n",
      "\n",
      "Massimo: 355\n",
      "Minimo: 346\n",
      "Media: 349.091\n",
      "Varianza: 9.1819009009009\n"
     ]
    }
   ],
   "source": [
    "# Verifica tag\n",
    "data = amaca_armv6m[\"64B-V\"]\n",
    "\n",
    "print_data(data)"
   ]
  },
  {
   "attachments": {},
   "cell_type": "markdown",
   "metadata": {},
   "source": [
    "#### PT 128 byte"
   ]
  },
  {
   "cell_type": "code",
   "execution_count": 15,
   "metadata": {},
   "outputs": [
    {
     "name": "stdout",
     "output_type": "stream",
     "text": [
      "128B-A\n",
      "261    254\n",
      "260    222\n",
      "268    173\n",
      "263    145\n",
      "262    136\n",
      "267     61\n",
      "269      9\n",
      "Name: count, dtype: int64\n",
      "\n",
      "Massimo: 269\n",
      "Minimo: 260\n",
      "Media: 262.853\n",
      "Varianza: 8.762153153153152\n"
     ]
    }
   ],
   "source": [
    "# Generazione tag\n",
    "data = amaca_armv6m[\"128B-A\"]\n",
    "\n",
    "print_data(data)"
   ]
  },
  {
   "cell_type": "code",
   "execution_count": 16,
   "metadata": {},
   "outputs": [
    {
     "name": "stdout",
     "output_type": "stream",
     "text": [
      "128B-V\n",
      "529    272\n",
      "535    214\n",
      "530    145\n",
      "534     97\n",
      "527     79\n",
      "537     71\n",
      "528     68\n",
      "536     50\n",
      "538      4\n",
      "Name: count, dtype: int64\n",
      "\n",
      "Massimo: 538\n",
      "Minimo: 527\n",
      "Media: 531.642\n",
      "Varianza: 11.006842842842845\n"
     ]
    }
   ],
   "source": [
    "# Verifica tag\n",
    "data = amaca_armv6m[\"128B-V\"]\n",
    "\n",
    "print_data(data)"
   ]
  },
  {
   "attachments": {},
   "cell_type": "markdown",
   "metadata": {},
   "source": [
    "#### PT 256 byte"
   ]
  },
  {
   "cell_type": "code",
   "execution_count": 17,
   "metadata": {},
   "outputs": [
    {
     "name": "stdout",
     "output_type": "stream",
     "text": [
      "256B-A\n",
      "413    399\n",
      "408    312\n",
      "406    147\n",
      "414     62\n",
      "407     58\n",
      "405     20\n",
      "409      2\n",
      "Name: count, dtype: int64\n",
      "\n",
      "Massimo: 414\n",
      "Minimo: 405\n",
      "Media: 409.957\n",
      "Varianza: 9.214365365365364\n"
     ]
    }
   ],
   "source": [
    "# Generazione tag\n",
    "data = amaca_armv6m[\"256B-A\"]\n",
    "\n",
    "print_data(data)"
   ]
  },
  {
   "cell_type": "code",
   "execution_count": 18,
   "metadata": {},
   "outputs": [
    {
     "name": "stdout",
     "output_type": "stream",
     "text": [
      "256B-V\n",
      "827    432\n",
      "820    229\n",
      "828    151\n",
      "825    125\n",
      "826     58\n",
      "829      4\n",
      "821      1\n",
      "Name: count, dtype: int64\n",
      "\n",
      "Massimo: 829\n",
      "Minimo: 820\n",
      "Media: 825.242\n",
      "Varianza: 8.900336336336338\n"
     ]
    }
   ],
   "source": [
    "# Verifica tag\n",
    "data = amaca_armv6m[\"256B-V\"]\n",
    "\n",
    "print_data(data)"
   ]
  },
  {
   "attachments": {},
   "cell_type": "markdown",
   "metadata": {},
   "source": [
    "#### PT 512 byte"
   ]
  },
  {
   "cell_type": "code",
   "execution_count": 19,
   "metadata": {},
   "outputs": [
    {
     "name": "stdout",
     "output_type": "stream",
     "text": [
      "512B-A\n",
      "706    262\n",
      "704    243\n",
      "705    142\n",
      "698    128\n",
      "699    122\n",
      "703     88\n",
      "707     15\n",
      "Name: count, dtype: int64\n",
      "\n",
      "Massimo: 707\n",
      "Minimo: 698\n",
      "Media: 703.245\n",
      "Varianza: 8.509484484484483\n"
     ]
    }
   ],
   "source": [
    "# Generazione tag\n",
    "data = amaca_armv6m[\"512B-A\"]\n",
    "\n",
    "print_data(data)"
   ]
  },
  {
   "cell_type": "code",
   "execution_count": 20,
   "metadata": {},
   "outputs": [
    {
     "name": "stdout",
     "output_type": "stream",
     "text": [
      "512B-V\n",
      "1416    241\n",
      "1410    200\n",
      "1411    171\n",
      "1409    136\n",
      "1408    122\n",
      "1415    104\n",
      "1417     21\n",
      "1412      5\n",
      "Name: count, dtype: int64\n",
      "\n",
      "Massimo: 1417\n",
      "Minimo: 1408\n",
      "Media: 1411.914\n",
      "Varianza: 9.466070070070069\n"
     ]
    }
   ],
   "source": [
    "# Verifica tag\n",
    "data = amaca_armv6m[\"512B-V\"]\n",
    "\n",
    "print_data(data)"
   ]
  },
  {
   "attachments": {},
   "cell_type": "markdown",
   "metadata": {},
   "source": [
    "#### PT 1024 byte"
   ]
  },
  {
   "cell_type": "code",
   "execution_count": 21,
   "metadata": {},
   "outputs": [
    {
     "name": "stdout",
     "output_type": "stream",
     "text": [
      "1024B-A\n",
      "1330    265\n",
      "1323    238\n",
      "1325    212\n",
      "1324    119\n",
      "1322     93\n",
      "1329     40\n",
      "1331     28\n",
      "1326      5\n",
      "Name: count, dtype: int64\n",
      "\n",
      "Massimo: 1331\n",
      "Minimo: 1322\n",
      "Media: 1325.784\n",
      "Varianza: 9.580924924924926\n"
     ]
    }
   ],
   "source": [
    "# Generazione tag\n",
    "data = amaca_armv6m[\"1024B-A\"]\n",
    "\n",
    "print_data(data)"
   ]
  },
  {
   "cell_type": "code",
   "execution_count": 22,
   "metadata": {},
   "outputs": [
    {
     "name": "stdout",
     "output_type": "stream",
     "text": [
      "1024B-V\n",
      "2659    329\n",
      "2654    256\n",
      "2653    155\n",
      "2661    106\n",
      "2660     79\n",
      "2658     37\n",
      "2662     20\n",
      "2655     18\n",
      "Name: count, dtype: int64\n",
      "\n",
      "Massimo: 2662\n",
      "Minimo: 2653\n",
      "Media: 2657.032\n",
      "Varianza: 9.124100100100103\n"
     ]
    }
   ],
   "source": [
    "# Verifica tag\n",
    "data = amaca_armv6m[\"1024B-V\"]\n",
    "\n",
    "print_data(data)"
   ]
  },
  {
   "attachments": {},
   "cell_type": "markdown",
   "metadata": {},
   "source": [
    "### Bi32_armv6m"
   ]
  },
  {
   "cell_type": "code",
   "execution_count": 23,
   "metadata": {},
   "outputs": [],
   "source": [
    "with open(path.format(\"bi32_armv6m\"), \"r\") as f:\n",
    "    amaca_bi32 = pd.read_csv(f, delimiter=\";\")"
   ]
  },
  {
   "attachments": {},
   "cell_type": "markdown",
   "metadata": {},
   "source": [
    "#### PT vuoto"
   ]
  },
  {
   "cell_type": "code",
   "execution_count": 24,
   "metadata": {},
   "outputs": [
    {
     "name": "stdout",
     "output_type": "stream",
     "text": [
      "0B-A\n",
      "120    450\n",
      "121    320\n",
      "122     84\n",
      "128     67\n",
      "127     48\n",
      "123     29\n",
      "129      2\n",
      "Name: count, dtype: int64\n",
      "\n",
      "Massimo: 129\n",
      "Minimo: 120\n",
      "Media: 121.465\n",
      "Varianza: 5.578353353353354\n"
     ]
    }
   ],
   "source": [
    "# Generazione tag\n",
    "data = amaca_bi32[\"0B-A\"]\n",
    "\n",
    "print_data(data)"
   ]
  },
  {
   "cell_type": "code",
   "execution_count": 25,
   "metadata": {},
   "outputs": [
    {
     "name": "stdout",
     "output_type": "stream",
     "text": [
      "0B-V\n",
      "247    498\n",
      "249    248\n",
      "254    133\n",
      "255     72\n",
      "248     48\n",
      "250      1\n",
      "Name: count, dtype: int64\n",
      "\n",
      "Massimo: 255\n",
      "Minimo: 247\n",
      "Media: 249.054\n",
      "Varianza: 7.963047047047046\n"
     ]
    }
   ],
   "source": [
    "# Verifica tag\n",
    "data = amaca_bi32[\"0B-V\"]\n",
    "\n",
    "print_data(data)"
   ]
  },
  {
   "attachments": {},
   "cell_type": "markdown",
   "metadata": {},
   "source": [
    "#### PT 8 byte"
   ]
  },
  {
   "cell_type": "code",
   "execution_count": 26,
   "metadata": {},
   "outputs": [
    {
     "name": "stdout",
     "output_type": "stream",
     "text": [
      "8B-A\n",
      "125    409\n",
      "124    379\n",
      "132     73\n",
      "126     73\n",
      "127     40\n",
      "131     23\n",
      "128      2\n",
      "133      1\n",
      "Name: count, dtype: int64\n",
      "\n",
      "Massimo: 133\n",
      "Minimo: 124\n",
      "Media: 125.437\n",
      "Varianza: 4.912943943943943\n"
     ]
    }
   ],
   "source": [
    "# Generazione tag\n",
    "data = amaca_bi32[\"8B-A\"]\n",
    "\n",
    "print_data(data)"
   ]
  },
  {
   "cell_type": "code",
   "execution_count": 27,
   "metadata": {},
   "outputs": [
    {
     "name": "stdout",
     "output_type": "stream",
     "text": [
      "8B-V\n",
      "255    342\n",
      "256    253\n",
      "257    148\n",
      "263    127\n",
      "258     72\n",
      "262     53\n",
      "264      5\n",
      "Name: count, dtype: int64\n",
      "\n",
      "Massimo: 264\n",
      "Minimo: 255\n",
      "Media: 257.197\n",
      "Varianza: 7.803994994994997\n"
     ]
    }
   ],
   "source": [
    "# Verifica tag\n",
    "data = amaca_bi32[\"8B-V\"]\n",
    "\n",
    "print_data(data)"
   ]
  },
  {
   "attachments": {},
   "cell_type": "markdown",
   "metadata": {},
   "source": [
    "#### PT 16 byte"
   ]
  },
  {
   "cell_type": "code",
   "execution_count": 28,
   "metadata": {},
   "outputs": [
    {
     "name": "stdout",
     "output_type": "stream",
     "text": [
      "16B-A\n",
      "129    524\n",
      "128    220\n",
      "136     94\n",
      "130     74\n",
      "131     73\n",
      "135     10\n",
      "137      4\n",
      "132      1\n",
      "Name: count, dtype: int64\n",
      "\n",
      "Massimo: 137\n",
      "Minimo: 128\n",
      "Media: 129.753\n",
      "Varianza: 5.255246246246247\n"
     ]
    }
   ],
   "source": [
    "# Generazione tag\n",
    "data = amaca_bi32[\"16B-A\"]\n",
    "\n",
    "print_data(data)"
   ]
  },
  {
   "cell_type": "code",
   "execution_count": 29,
   "metadata": {},
   "outputs": [
    {
     "name": "stdout",
     "output_type": "stream",
     "text": [
      "16B-V\n",
      "264    415\n",
      "266    165\n",
      "271    162\n",
      "263    141\n",
      "265    102\n",
      "272      8\n",
      "270      7\n",
      "Name: count, dtype: int64\n",
      "\n",
      "Massimo: 272\n",
      "Minimo: 263\n",
      "Media: 265.531\n",
      "Varianza: 7.268307307307308\n"
     ]
    }
   ],
   "source": [
    "# Verifica tag\n",
    "data = amaca_bi32[\"16B-V\"]\n",
    "\n",
    "print_data(data)"
   ]
  },
  {
   "attachments": {},
   "cell_type": "markdown",
   "metadata": {},
   "source": [
    "#### PT 32 byte"
   ]
  },
  {
   "cell_type": "code",
   "execution_count": 30,
   "metadata": {},
   "outputs": [
    {
     "name": "stdout",
     "output_type": "stream",
     "text": [
      "32B-A\n",
      "137    723\n",
      "139    118\n",
      "144     85\n",
      "138     45\n",
      "145     29\n",
      "Name: count, dtype: int64\n",
      "\n",
      "Massimo: 145\n",
      "Minimo: 137\n",
      "Media: 138.108\n",
      "Varianza: 5.315651651651652\n"
     ]
    }
   ],
   "source": [
    "# Generazione tag\n",
    "data = amaca_bi32[\"32B-A\"]\n",
    "\n",
    "print_data(data)"
   ]
  },
  {
   "cell_type": "code",
   "execution_count": 31,
   "metadata": {},
   "outputs": [
    {
     "name": "stdout",
     "output_type": "stream",
     "text": [
      "32B-V\n",
      "280    262\n",
      "281    228\n",
      "282    204\n",
      "288    165\n",
      "287     78\n",
      "283     58\n",
      "289      4\n",
      "284      1\n",
      "Name: count, dtype: int64\n",
      "\n",
      "Massimo: 289\n",
      "Minimo: 280\n",
      "Media: 282.716\n",
      "Varianza: 8.920264264264265\n"
     ]
    }
   ],
   "source": [
    "# Verifica tag\n",
    "data = amaca_bi32[\"32B-V\"]\n",
    "\n",
    "print_data(data)"
   ]
  },
  {
   "attachments": {},
   "cell_type": "markdown",
   "metadata": {},
   "source": [
    "#### PT 64 byte"
   ]
  },
  {
   "cell_type": "code",
   "execution_count": 32,
   "metadata": {},
   "outputs": [
    {
     "name": "stdout",
     "output_type": "stream",
     "text": [
      "64B-A\n",
      "188    330\n",
      "189    258\n",
      "190    138\n",
      "196    130\n",
      "195     74\n",
      "191     66\n",
      "197      4\n",
      "Name: count, dtype: int64\n",
      "\n",
      "Massimo: 197\n",
      "Minimo: 188\n",
      "Media: 190.326\n",
      "Varianza: 8.271995995995994\n"
     ]
    }
   ],
   "source": [
    "# Generazione tag\n",
    "data = amaca_bi32[\"64B-A\"]\n",
    "\n",
    "print_data(data)"
   ]
  },
  {
   "cell_type": "code",
   "execution_count": 33,
   "metadata": {},
   "outputs": [
    {
     "name": "stdout",
     "output_type": "stream",
     "text": [
      "64B-V\n",
      "385    399\n",
      "390    211\n",
      "383    196\n",
      "391    137\n",
      "384     44\n",
      "386     12\n",
      "392      1\n",
      "Name: count, dtype: int64\n",
      "\n",
      "Massimo: 392\n",
      "Minimo: 383\n",
      "Media: 386.46\n",
      "Varianza: 8.973373373373372\n"
     ]
    }
   ],
   "source": [
    "# Verifica tag\n",
    "data = amaca_bi32[\"64B-V\"]\n",
    "\n",
    "print_data(data)"
   ]
  },
  {
   "attachments": {},
   "cell_type": "markdown",
   "metadata": {},
   "source": [
    "#### PT 128 byte"
   ]
  },
  {
   "cell_type": "code",
   "execution_count": 34,
   "metadata": {},
   "outputs": [
    {
     "name": "stdout",
     "output_type": "stream",
     "text": [
      "128B-A\n",
      "291    333\n",
      "293    269\n",
      "298    169\n",
      "299    140\n",
      "292     76\n",
      "294     12\n",
      "300      1\n",
      "Name: count, dtype: int64\n",
      "\n",
      "Massimo: 300\n",
      "Minimo: 291\n",
      "Media: 293.962\n",
      "Varianza: 9.818374374374374\n"
     ]
    }
   ],
   "source": [
    "# Generazione tag\n",
    "data = amaca_bi32[\"128B-A\"]\n",
    "\n",
    "print_data(data)"
   ]
  },
  {
   "cell_type": "code",
   "execution_count": 35,
   "metadata": {},
   "outputs": [
    {
     "name": "stdout",
     "output_type": "stream",
     "text": [
      "128B-V\n",
      "596    319\n",
      "591    251\n",
      "590    223\n",
      "598    103\n",
      "595     55\n",
      "597     45\n",
      "599      4\n",
      "Name: count, dtype: int64\n",
      "\n",
      "Massimo: 599\n",
      "Minimo: 590\n",
      "Media: 593.615\n",
      "Varianza: 9.171946946946948\n"
     ]
    }
   ],
   "source": [
    "# Verifica tag\n",
    "data = amaca_bi32[\"128B-V\"]\n",
    "\n",
    "print_data(data)"
   ]
  },
  {
   "attachments": {},
   "cell_type": "markdown",
   "metadata": {},
   "source": [
    "#### PT 256 byte"
   ]
  },
  {
   "cell_type": "code",
   "execution_count": 36,
   "metadata": {},
   "outputs": [
    {
     "name": "stdout",
     "output_type": "stream",
     "text": [
      "256B-A\n",
      "464    408\n",
      "469    312\n",
      "462    113\n",
      "470     78\n",
      "463     77\n",
      "471      8\n",
      "461      2\n",
      "465      1\n",
      "472      1\n",
      "Name: count, dtype: int64\n",
      "\n",
      "Massimo: 472\n",
      "Minimo: 461\n",
      "Media: 465.784\n",
      "Varianza: 8.43778178178178\n"
     ]
    }
   ],
   "source": [
    "# Generazione tag\n",
    "data = amaca_bi32[\"256B-A\"]\n",
    "\n",
    "print_data(data)"
   ]
  },
  {
   "cell_type": "code",
   "execution_count": 37,
   "metadata": {},
   "outputs": [
    {
     "name": "stdout",
     "output_type": "stream",
     "text": [
      "256B-V\n",
      "939    543\n",
      "940    298\n",
      "932    109\n",
      "938     17\n",
      "933     15\n",
      "937     13\n",
      "941      5\n",
      "Name: count, dtype: int64\n",
      "\n",
      "Massimo: 941\n",
      "Minimo: 932\n",
      "Media: 938.412\n",
      "Varianza: 5.928184184184185\n"
     ]
    }
   ],
   "source": [
    "# Verifica tag\n",
    "data = amaca_bi32[\"256B-V\"]\n",
    "\n",
    "print_data(data)"
   ]
  },
  {
   "attachments": {},
   "cell_type": "markdown",
   "metadata": {},
   "source": [
    "#### PT 512 byte"
   ]
  },
  {
   "cell_type": "code",
   "execution_count": 38,
   "metadata": {},
   "outputs": [
    {
     "name": "stdout",
     "output_type": "stream",
     "text": [
      "512B-A\n",
      "813    371\n",
      "812    249\n",
      "811    133\n",
      "805    121\n",
      "806     64\n",
      "810     48\n",
      "814     14\n",
      "Name: count, dtype: int64\n",
      "\n",
      "Massimo: 814\n",
      "Minimo: 805\n",
      "Media: 810.939\n",
      "Varianza: 7.867146146146147\n"
     ]
    }
   ],
   "source": [
    "# Generazione tag\n",
    "data = amaca_bi32[\"512B-A\"]\n",
    "\n",
    "print_data(data)"
   ]
  },
  {
   "cell_type": "code",
   "execution_count": 39,
   "metadata": {},
   "outputs": [
    {
     "name": "stdout",
     "output_type": "stream",
     "text": [
      "512B-V\n",
      "1624    280\n",
      "1630    253\n",
      "1625    176\n",
      "1632    114\n",
      "1629     89\n",
      "1631     80\n",
      "1633      5\n",
      "1626      3\n",
      "Name: count, dtype: int64\n",
      "\n",
      "Massimo: 1633\n",
      "Minimo: 1624\n",
      "Media: 1627.662\n",
      "Varianza: 9.741497497497498\n"
     ]
    }
   ],
   "source": [
    "# Verifica tag\n",
    "data = amaca_bi32[\"512B-V\"]\n",
    "\n",
    "print_data(data)"
   ]
  },
  {
   "attachments": {},
   "cell_type": "markdown",
   "metadata": {},
   "source": [
    "#### PT 1024 byte"
   ]
  },
  {
   "cell_type": "code",
   "execution_count": 40,
   "metadata": {},
   "outputs": [
    {
     "name": "stdout",
     "output_type": "stream",
     "text": [
      "1024B-A\n",
      "1538    276\n",
      "1532    268\n",
      "1533    195\n",
      "1537    111\n",
      "1540     75\n",
      "1539     65\n",
      "1541      7\n",
      "1534      3\n",
      "Name: count, dtype: int64\n",
      "\n",
      "Massimo: 1541\n",
      "Minimo: 1532\n",
      "Media: 1535.53\n",
      "Varianza: 9.01811811811812\n"
     ]
    }
   ],
   "source": [
    "# Generazione tag\n",
    "data = amaca_bi32[\"1024B-A\"]\n",
    "\n",
    "print_data(data)"
   ]
  },
  {
   "cell_type": "code",
   "execution_count": 41,
   "metadata": {},
   "outputs": [
    {
     "name": "stdout",
     "output_type": "stream",
     "text": [
      "1024B-V\n",
      "3077    451\n",
      "3076    430\n",
      "3078     77\n",
      "3079     42\n",
      "Name: count, dtype: int64\n",
      "\n",
      "Massimo: 3079\n",
      "Minimo: 3076\n",
      "Media: 3076.731\n",
      "Varianza: 0.6032422422422421\n"
     ]
    }
   ],
   "source": [
    "# Verifica tag\n",
    "data = amaca_bi32[\"1024B-V\"]\n",
    "\n",
    "print_data(data)"
   ]
  },
  {
   "attachments": {},
   "cell_type": "markdown",
   "metadata": {},
   "source": [
    "### Ref"
   ]
  },
  {
   "cell_type": "code",
   "execution_count": 42,
   "metadata": {},
   "outputs": [],
   "source": [
    "with open(path.format(\"ref\"), \"r\") as f:\n",
    "    amaca_ref = pd.read_csv(f, delimiter=\";\")"
   ]
  },
  {
   "attachments": {},
   "cell_type": "markdown",
   "metadata": {},
   "source": [
    "#### PT vuoto"
   ]
  },
  {
   "cell_type": "code",
   "execution_count": 43,
   "metadata": {},
   "outputs": [
    {
     "name": "stdout",
     "output_type": "stream",
     "text": [
      "0B-A\n",
      "169    289\n",
      "168    242\n",
      "167    213\n",
      "170    170\n",
      "175     64\n",
      "174     20\n",
      "176      1\n",
      "171      1\n",
      "Name: count, dtype: int64\n",
      "\n",
      "Massimo: 176\n",
      "Minimo: 167\n",
      "Media: 168.995\n",
      "Varianza: 4.1251001001001\n"
     ]
    }
   ],
   "source": [
    "# Generazione tag\n",
    "data = amaca_ref[\"0B-A\"]\n",
    "\n",
    "print_data(data)"
   ]
  },
  {
   "cell_type": "code",
   "execution_count": 44,
   "metadata": {},
   "outputs": [
    {
     "name": "stdout",
     "output_type": "stream",
     "text": [
      "0B-V\n",
      "341    390\n",
      "342    198\n",
      "343    156\n",
      "349    118\n",
      "348    103\n",
      "344     31\n",
      "350      4\n",
      "Name: count, dtype: int64\n",
      "\n",
      "Massimo: 350\n",
      "Minimo: 341\n",
      "Media: 343.304\n",
      "Varianza: 8.72430830830831\n"
     ]
    }
   ],
   "source": [
    "# Verifica tag\n",
    "data = amaca_ref[\"0B-V\"]\n",
    "\n",
    "print_data(data)"
   ]
  },
  {
   "attachments": {},
   "cell_type": "markdown",
   "metadata": {},
   "source": [
    "#### PT 8 byte"
   ]
  },
  {
   "cell_type": "code",
   "execution_count": 45,
   "metadata": {},
   "outputs": [
    {
     "name": "stdout",
     "output_type": "stream",
     "text": [
      "8B-A\n",
      "173    363\n",
      "175    315\n",
      "174    131\n",
      "180    101\n",
      "172     78\n",
      "181     11\n",
      "176      1\n",
      "Name: count, dtype: int64\n",
      "\n",
      "Massimo: 181\n",
      "Minimo: 172\n",
      "Media: 174.481\n",
      "Varianza: 4.942581581581581\n"
     ]
    }
   ],
   "source": [
    "# Generazione tag\n",
    "data = amaca_ref[\"8B-A\"]\n",
    "\n",
    "print_data(data)"
   ]
  },
  {
   "cell_type": "code",
   "execution_count": 46,
   "metadata": {},
   "outputs": [
    {
     "name": "stdout",
     "output_type": "stream",
     "text": [
      "8B-V\n",
      "352    574\n",
      "354    172\n",
      "359    166\n",
      "360     62\n",
      "353     24\n",
      "355      2\n",
      "Name: count, dtype: int64\n",
      "\n",
      "Massimo: 360\n",
      "Minimo: 352\n",
      "Media: 354.032\n",
      "Varianza: 8.711687687687688\n"
     ]
    }
   ],
   "source": [
    "# Verifica tag\n",
    "data = amaca_ref[\"8B-V\"]\n",
    "\n",
    "print_data(data)"
   ]
  },
  {
   "attachments": {},
   "cell_type": "markdown",
   "metadata": {},
   "source": [
    "#### PT 16 byte"
   ]
  },
  {
   "cell_type": "code",
   "execution_count": 47,
   "metadata": {},
   "outputs": [
    {
     "name": "stdout",
     "output_type": "stream",
     "text": [
      "16B-A\n",
      "180    406\n",
      "178    376\n",
      "179     73\n",
      "185     69\n",
      "186     52\n",
      "181     24\n",
      "Name: count, dtype: int64\n",
      "\n",
      "Massimo: 186\n",
      "Minimo: 178\n",
      "Media: 179.856\n",
      "Varianza: 5.182446446446446\n"
     ]
    }
   ],
   "source": [
    "# Generazione tag\n",
    "data = amaca_ref[\"16B-A\"]\n",
    "\n",
    "print_data(data)"
   ]
  },
  {
   "cell_type": "code",
   "execution_count": 48,
   "metadata": {},
   "outputs": [
    {
     "name": "stdout",
     "output_type": "stream",
     "text": [
      "16B-V\n",
      "363    350\n",
      "370    214\n",
      "362    189\n",
      "365    127\n",
      "364     85\n",
      "369     21\n",
      "371     14\n",
      "Name: count, dtype: int64\n",
      "\n",
      "Massimo: 371\n",
      "Minimo: 362\n",
      "Media: 364.886\n",
      "Varianza: 9.372376376376376\n"
     ]
    }
   ],
   "source": [
    "# Verifica tag\n",
    "data = amaca_ref[\"16B-V\"]\n",
    "\n",
    "print_data(data)"
   ]
  },
  {
   "attachments": {},
   "cell_type": "markdown",
   "metadata": {},
   "source": [
    "#### PT 32 byte"
   ]
  },
  {
   "cell_type": "code",
   "execution_count": 49,
   "metadata": {},
   "outputs": [
    {
     "name": "stdout",
     "output_type": "stream",
     "text": [
      "32B-A\n",
      "189    396\n",
      "191    281\n",
      "190    120\n",
      "196    117\n",
      "188     73\n",
      "197     13\n",
      "Name: count, dtype: int64\n",
      "\n",
      "Massimo: 197\n",
      "Minimo: 188\n",
      "Media: 190.532\n",
      "Varianza: 5.540516516516517\n"
     ]
    }
   ],
   "source": [
    "# Generazione tag\n",
    "data = amaca_ref[\"32B-A\"]\n",
    "\n",
    "print_data(data)"
   ]
  },
  {
   "cell_type": "code",
   "execution_count": 50,
   "metadata": {},
   "outputs": [
    {
     "name": "stdout",
     "output_type": "stream",
     "text": [
      "32B-V\n",
      "384    340\n",
      "391    322\n",
      "386    213\n",
      "392    103\n",
      "385     21\n",
      "387      1\n",
      "Name: count, dtype: int64\n",
      "\n",
      "Massimo: 392\n",
      "Minimo: 384\n",
      "Media: 387.528\n",
      "Varianza: 10.816032032032032\n"
     ]
    }
   ],
   "source": [
    "# Verifica tag\n",
    "data = amaca_ref[\"32B-V\"]\n",
    "\n",
    "print_data(data)"
   ]
  },
  {
   "attachments": {},
   "cell_type": "markdown",
   "metadata": {},
   "source": [
    "#### PT 64 byte"
   ]
  },
  {
   "cell_type": "code",
   "execution_count": 51,
   "metadata": {},
   "outputs": [
    {
     "name": "stdout",
     "output_type": "stream",
     "text": [
      "64B-A\n",
      "261    281\n",
      "260    200\n",
      "259    183\n",
      "262    158\n",
      "267    118\n",
      "266     56\n",
      "268      4\n",
      "Name: count, dtype: int64\n",
      "\n",
      "Massimo: 268\n",
      "Minimo: 259\n",
      "Media: 261.608\n",
      "Varianza: 6.570906906906906\n"
     ]
    }
   ],
   "source": [
    "# Generazione tag\n",
    "data = amaca_ref[\"64B-A\"]\n",
    "\n",
    "print_data(data)"
   ]
  },
  {
   "cell_type": "code",
   "execution_count": 52,
   "metadata": {},
   "outputs": [
    {
     "name": "stdout",
     "output_type": "stream",
     "text": [
      "64B-V\n",
      "533    320\n",
      "527    288\n",
      "532    280\n",
      "528     68\n",
      "534     16\n",
      "525     13\n",
      "535     11\n",
      "526      4\n",
      "Name: count, dtype: int64\n",
      "\n",
      "Massimo: 535\n",
      "Minimo: 525\n",
      "Media: 530.558\n",
      "Varianza: 7.480116116116118\n"
     ]
    }
   ],
   "source": [
    "# Verifica tag\n",
    "data = amaca_ref[\"64B-V\"]\n",
    "\n",
    "print_data(data)"
   ]
  },
  {
   "attachments": {},
   "cell_type": "markdown",
   "metadata": {},
   "source": [
    "#### PT 128 byte"
   ]
  },
  {
   "cell_type": "code",
   "execution_count": 53,
   "metadata": {},
   "outputs": [
    {
     "name": "stdout",
     "output_type": "stream",
     "text": [
      "128B-A\n",
      "408    566\n",
      "403    175\n",
      "402     96\n",
      "401     87\n",
      "409     33\n",
      "400     25\n",
      "407     18\n",
      "Name: count, dtype: int64\n",
      "\n",
      "Massimo: 409\n",
      "Minimo: 400\n",
      "Media: 405.755\n",
      "Varianza: 8.713688688688688\n"
     ]
    }
   ],
   "source": [
    "# Generazione tag\n",
    "data = amaca_ref[\"128B-A\"]\n",
    "\n",
    "print_data(data)"
   ]
  },
  {
   "cell_type": "code",
   "execution_count": 54,
   "metadata": {},
   "outputs": [
    {
     "name": "stdout",
     "output_type": "stream",
     "text": [
      "128B-V\n",
      "817    367\n",
      "810    339\n",
      "809    122\n",
      "815    112\n",
      "816     35\n",
      "818     25\n",
      "Name: count, dtype: int64\n",
      "\n",
      "Massimo: 818\n",
      "Minimo: 809\n",
      "Media: 813.417\n",
      "Varianza: 12.101212212212214\n"
     ]
    }
   ],
   "source": [
    "# Verifica tag\n",
    "data = amaca_ref[\"128B-V\"]\n",
    "\n",
    "print_data(data)"
   ]
  },
  {
   "attachments": {},
   "cell_type": "markdown",
   "metadata": {},
   "source": [
    "#### PT 256 byte"
   ]
  },
  {
   "cell_type": "code",
   "execution_count": 55,
   "metadata": {},
   "outputs": [
    {
     "name": "stdout",
     "output_type": "stream",
     "text": [
      "256B-A\n",
      "643    436\n",
      "636    213\n",
      "641    197\n",
      "642     73\n",
      "644     71\n",
      "635      9\n",
      "637      1\n",
      "Name: count, dtype: int64\n",
      "\n",
      "Massimo: 644\n",
      "Minimo: 635\n",
      "Media: 641.035\n",
      "Varianza: 8.127902902902902\n"
     ]
    }
   ],
   "source": [
    "# Generazione tag\n",
    "data = amaca_ref[\"256B-A\"]\n",
    "\n",
    "print_data(data)"
   ]
  },
  {
   "cell_type": "code",
   "execution_count": 56,
   "metadata": {},
   "outputs": [
    {
     "name": "stdout",
     "output_type": "stream",
     "text": [
      "256B-V\n",
      "1284    349\n",
      "1283    264\n",
      "1285    124\n",
      "1286    109\n",
      "1291    107\n",
      "1290     34\n",
      "1292     10\n",
      "1287      3\n",
      "Name: count, dtype: int64\n",
      "\n",
      "Massimo: 1292\n",
      "Minimo: 1283\n",
      "Media: 1285.12\n",
      "Varianza: 6.7103103103103106\n"
     ]
    }
   ],
   "source": [
    "# Verifica tag\n",
    "data = amaca_ref[\"256B-V\"]\n",
    "\n",
    "print_data(data)"
   ]
  },
  {
   "attachments": {},
   "cell_type": "markdown",
   "metadata": {},
   "source": [
    "#### PT 512 byte"
   ]
  },
  {
   "cell_type": "code",
   "execution_count": 57,
   "metadata": {},
   "outputs": [
    {
     "name": "stdout",
     "output_type": "stream",
     "text": [
      "512B-A\n",
      "1110    604\n",
      "1109    211\n",
      "1117     70\n",
      "1112     57\n",
      "1111     41\n",
      "1118     13\n",
      "1116      3\n",
      "1113      1\n",
      "Name: count, dtype: int64\n",
      "\n",
      "Massimo: 1118\n",
      "Minimo: 1109\n",
      "Media: 1110.559\n",
      "Varianza: 4.551070070070069\n"
     ]
    }
   ],
   "source": [
    "# Generazione tag\n",
    "data = amaca_ref[\"512B-A\"]\n",
    "\n",
    "print_data(data)"
   ]
  },
  {
   "cell_type": "code",
   "execution_count": 58,
   "metadata": {},
   "outputs": [
    {
     "name": "stdout",
     "output_type": "stream",
     "text": [
      "512B-V\n",
      "2233    355\n",
      "2226    289\n",
      "2228    108\n",
      "2225     90\n",
      "2227     78\n",
      "2234     46\n",
      "2232     27\n",
      "2229      7\n",
      "Name: count, dtype: int64\n",
      "\n",
      "Massimo: 2234\n",
      "Minimo: 2225\n",
      "Media: 2229.24\n",
      "Varianza: 11.487887887887888\n"
     ]
    }
   ],
   "source": [
    "# Verifica tag\n",
    "data = amaca_ref[\"512B-V\"]\n",
    "\n",
    "print_data(data)"
   ]
  },
  {
   "attachments": {},
   "cell_type": "markdown",
   "metadata": {},
   "source": [
    "#### PT 1024 byte"
   ]
  },
  {
   "cell_type": "code",
   "execution_count": 59,
   "metadata": {},
   "outputs": [
    {
     "name": "stdout",
     "output_type": "stream",
     "text": [
      "1024B-A\n",
      "2101    618\n",
      "2102    223\n",
      "2103     65\n",
      "2109     44\n",
      "2108     36\n",
      "2104     12\n",
      "2110      2\n",
      "Name: count, dtype: int64\n",
      "\n",
      "Massimo: 2110\n",
      "Minimo: 2101\n",
      "Media: 2102.011\n",
      "Varianza: 4.315194194194194\n"
     ]
    }
   ],
   "source": [
    "# Generazione tag\n",
    "data = amaca_ref[\"1024B-A\"]\n",
    "\n",
    "print_data(data)"
   ]
  },
  {
   "cell_type": "code",
   "execution_count": 60,
   "metadata": {},
   "outputs": [
    {
     "name": "stdout",
     "output_type": "stream",
     "text": [
      "1024B-V\n",
      "4209    506\n",
      "4210    126\n",
      "4216    118\n",
      "4208    107\n",
      "4211     78\n",
      "4217     45\n",
      "4212     11\n",
      "4215      9\n",
      "Name: count, dtype: int64\n",
      "\n",
      "Massimo: 4217\n",
      "Minimo: 4208\n",
      "Media: 4210.448\n",
      "Varianza: 7.540836836836835\n"
     ]
    }
   ],
   "source": [
    "# Verifica tag\n",
    "data = amaca_ref[\"1024B-V\"]\n",
    "\n",
    "print_data(data)"
   ]
  }
 ],
 "metadata": {
  "kernelspec": {
   "display_name": "Python 3",
   "language": "python",
   "name": "python3"
  },
  "language_info": {
   "codemirror_mode": {
    "name": "ipython",
    "version": 3
   },
   "file_extension": ".py",
   "mimetype": "text/x-python",
   "name": "python",
   "nbconvert_exporter": "python",
   "pygments_lexer": "ipython3",
   "version": "3.11.2"
  },
  "orig_nbformat": 4
 },
 "nbformat": 4,
 "nbformat_minor": 2
}
