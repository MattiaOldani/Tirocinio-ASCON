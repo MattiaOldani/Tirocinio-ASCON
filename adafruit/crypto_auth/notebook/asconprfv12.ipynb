{
 "cells": [
  {
   "attachments": {},
   "cell_type": "markdown",
   "metadata": {},
   "source": [
    "# Analisi dei dati raccolti"
   ]
  },
  {
   "attachments": {},
   "cell_type": "markdown",
   "metadata": {},
   "source": [
    "## Setup"
   ]
  },
  {
   "cell_type": "code",
   "execution_count": 74,
   "metadata": {},
   "outputs": [],
   "source": [
    "import pandas as pd"
   ]
  },
  {
   "cell_type": "code",
   "execution_count": 75,
   "metadata": {},
   "outputs": [],
   "source": [
    "def print_data(series: pd.Series) -> None:\n",
    "    print(series.value_counts())\n",
    "    print()\n",
    "    print(f\"Massimo: {series.max()}\\nMinimo: {series.min()}\\nMedia: {series.mean()}\\nVarianza: {series.var()}\")"
   ]
  },
  {
   "attachments": {},
   "cell_type": "markdown",
   "metadata": {},
   "source": [
    "## Asconprfv12"
   ]
  },
  {
   "cell_type": "code",
   "execution_count": 76,
   "metadata": {},
   "outputs": [],
   "source": [
    "path = \"../asconprfv12/data/{}.csv\""
   ]
  },
  {
   "attachments": {},
   "cell_type": "markdown",
   "metadata": {},
   "source": [
    "### Armv7m"
   ]
  },
  {
   "cell_type": "code",
   "execution_count": 77,
   "metadata": {},
   "outputs": [],
   "source": [
    "with open(path.format(\"armv7m\"), \"r\") as f:\n",
    "    aprf_armv7m = pd.read_csv(f, delimiter=\";\")"
   ]
  },
  {
   "attachments": {},
   "cell_type": "markdown",
   "metadata": {},
   "source": [
    "#### PT vuoto"
   ]
  },
  {
   "cell_type": "code",
   "execution_count": 78,
   "metadata": {},
   "outputs": [
    {
     "name": "stdout",
     "output_type": "stream",
     "text": [
      "0B-A\n",
      "45    959\n",
      "46     40\n",
      "44      1\n",
      "Name: count, dtype: int64\n",
      "\n",
      "Massimo: 46\n",
      "Minimo: 44\n",
      "Media: 45.039\n",
      "Varianza: 0.03951851851851851\n"
     ]
    }
   ],
   "source": [
    "# Generazione tag\n",
    "data = aprf_armv7m[\"0B-A\"]\n",
    "\n",
    "print_data(data)"
   ]
  },
  {
   "cell_type": "code",
   "execution_count": 79,
   "metadata": {},
   "outputs": [
    {
     "name": "stdout",
     "output_type": "stream",
     "text": [
      "0B-V\n",
      "93    918\n",
      "94     81\n",
      "95      1\n",
      "Name: count, dtype: int64\n",
      "\n",
      "Massimo: 95\n",
      "Minimo: 93\n",
      "Media: 93.083\n",
      "Varianza: 0.07818918918918917\n"
     ]
    }
   ],
   "source": [
    "# Verifica tag\n",
    "data = aprf_armv7m[\"0B-V\"]\n",
    "\n",
    "print_data(data)"
   ]
  },
  {
   "attachments": {},
   "cell_type": "markdown",
   "metadata": {},
   "source": [
    "#### PT 8 byte"
   ]
  },
  {
   "cell_type": "code",
   "execution_count": 80,
   "metadata": {},
   "outputs": [
    {
     "name": "stdout",
     "output_type": "stream",
     "text": [
      "8B-A\n",
      "45    960\n",
      "46     40\n",
      "Name: count, dtype: int64\n",
      "\n",
      "Massimo: 46\n",
      "Minimo: 45\n",
      "Media: 45.04\n",
      "Varianza: 0.038438438438438444\n"
     ]
    }
   ],
   "source": [
    "# Generazione tag\n",
    "data = aprf_armv7m[\"8B-A\"]\n",
    "\n",
    "print_data(data)"
   ]
  },
  {
   "cell_type": "code",
   "execution_count": 81,
   "metadata": {},
   "outputs": [
    {
     "name": "stdout",
     "output_type": "stream",
     "text": [
      "8B-V\n",
      "94    918\n",
      "95     82\n",
      "Name: count, dtype: int64\n",
      "\n",
      "Massimo: 95\n",
      "Minimo: 94\n",
      "Media: 94.082\n",
      "Varianza: 0.07535135135135136\n"
     ]
    }
   ],
   "source": [
    "# Verifica tag\n",
    "data = aprf_armv7m[\"8B-V\"]\n",
    "\n",
    "print_data(data)"
   ]
  },
  {
   "attachments": {},
   "cell_type": "markdown",
   "metadata": {},
   "source": [
    "#### PT 16 byte"
   ]
  },
  {
   "cell_type": "code",
   "execution_count": 82,
   "metadata": {},
   "outputs": [
    {
     "name": "stdout",
     "output_type": "stream",
     "text": [
      "16B-A\n",
      "46    959\n",
      "47     40\n",
      "45      1\n",
      "Name: count, dtype: int64\n",
      "\n",
      "Massimo: 47\n",
      "Minimo: 45\n",
      "Media: 46.039\n",
      "Varianza: 0.03951851851851851\n"
     ]
    }
   ],
   "source": [
    "# Generazione tag\n",
    "data = aprf_armv7m[\"16B-A\"]\n",
    "\n",
    "print_data(data)"
   ]
  },
  {
   "cell_type": "code",
   "execution_count": 83,
   "metadata": {},
   "outputs": [
    {
     "name": "stdout",
     "output_type": "stream",
     "text": [
      "16B-V\n",
      "95    919\n",
      "97     80\n",
      "96      1\n",
      "Name: count, dtype: int64\n",
      "\n",
      "Massimo: 97\n",
      "Minimo: 95\n",
      "Media: 95.161\n",
      "Varianza: 0.2953743743743742\n"
     ]
    }
   ],
   "source": [
    "# Verifica tag\n",
    "data = aprf_armv7m[\"16B-V\"]\n",
    "\n",
    "print_data(data)"
   ]
  },
  {
   "attachments": {},
   "cell_type": "markdown",
   "metadata": {},
   "source": [
    "#### PT 32 byte"
   ]
  },
  {
   "cell_type": "code",
   "execution_count": 84,
   "metadata": {},
   "outputs": [
    {
     "name": "stdout",
     "output_type": "stream",
     "text": [
      "32B-A\n",
      "66    918\n",
      "67     82\n",
      "Name: count, dtype: int64\n",
      "\n",
      "Massimo: 67\n",
      "Minimo: 66\n",
      "Media: 66.082\n",
      "Varianza: 0.07535135135135136\n"
     ]
    }
   ],
   "source": [
    "# Generazione tag\n",
    "data = aprf_armv7m[\"32B-A\"]\n",
    "\n",
    "print_data(data)"
   ]
  },
  {
   "cell_type": "code",
   "execution_count": 85,
   "metadata": {},
   "outputs": [
    {
     "name": "stdout",
     "output_type": "stream",
     "text": [
      "32B-V\n",
      "136    879\n",
      "138    120\n",
      "137      1\n",
      "Name: count, dtype: int64\n",
      "\n",
      "Massimo: 138\n",
      "Minimo: 136\n",
      "Media: 136.241\n",
      "Varianza: 0.4233423423423423\n"
     ]
    }
   ],
   "source": [
    "# Verifica tag\n",
    "data = aprf_armv7m[\"32B-V\"]\n",
    "\n",
    "print_data(data)"
   ]
  },
  {
   "attachments": {},
   "cell_type": "markdown",
   "metadata": {},
   "source": [
    "#### PT 64 byte"
   ]
  },
  {
   "cell_type": "code",
   "execution_count": 86,
   "metadata": {},
   "outputs": [
    {
     "name": "stdout",
     "output_type": "stream",
     "text": [
      "64B-A\n",
      "88    920\n",
      "89     80\n",
      "Name: count, dtype: int64\n",
      "\n",
      "Massimo: 89\n",
      "Minimo: 88\n",
      "Media: 88.08\n",
      "Varianza: 0.0736736736736737\n"
     ]
    }
   ],
   "source": [
    "# Generazione tag\n",
    "data = aprf_armv7m[\"64B-A\"]\n",
    "\n",
    "print_data(data)"
   ]
  },
  {
   "cell_type": "code",
   "execution_count": 87,
   "metadata": {},
   "outputs": [
    {
     "name": "stdout",
     "output_type": "stream",
     "text": [
      "64B-V\n",
      "180    798\n",
      "181    201\n",
      "182      1\n",
      "Name: count, dtype: int64\n",
      "\n",
      "Massimo: 182\n",
      "Minimo: 180\n",
      "Media: 180.203\n",
      "Varianza: 0.1639549549549549\n"
     ]
    }
   ],
   "source": [
    "# Verifica tag\n",
    "data = aprf_armv7m[\"64B-V\"]\n",
    "\n",
    "print_data(data)"
   ]
  },
  {
   "attachments": {},
   "cell_type": "markdown",
   "metadata": {},
   "source": [
    "#### PT 128 byte"
   ]
  },
  {
   "cell_type": "code",
   "execution_count": 88,
   "metadata": {},
   "outputs": [
    {
     "name": "stdout",
     "output_type": "stream",
     "text": [
      "128B-A\n",
      "131    878\n",
      "132    122\n",
      "Name: count, dtype: int64\n",
      "\n",
      "Massimo: 132\n",
      "Minimo: 131\n",
      "Media: 131.122\n",
      "Varianza: 0.10722322322322324\n"
     ]
    }
   ],
   "source": [
    "# Generazione tag\n",
    "data = aprf_armv7m[\"128B-A\"]\n",
    "\n",
    "print_data(data)"
   ]
  },
  {
   "cell_type": "code",
   "execution_count": 89,
   "metadata": {},
   "outputs": [
    {
     "name": "stdout",
     "output_type": "stream",
     "text": [
      "128B-V\n",
      "266    719\n",
      "268    280\n",
      "267      1\n",
      "Name: count, dtype: int64\n",
      "\n",
      "Massimo: 268\n",
      "Minimo: 266\n",
      "Media: 266.561\n",
      "Varianza: 0.8070860860860859\n"
     ]
    }
   ],
   "source": [
    "# Verifica tag\n",
    "data = aprf_armv7m[\"128B-V\"]\n",
    "\n",
    "print_data(data)"
   ]
  },
  {
   "attachments": {},
   "cell_type": "markdown",
   "metadata": {},
   "source": [
    "#### PT 256 byte"
   ]
  },
  {
   "cell_type": "code",
   "execution_count": 90,
   "metadata": {},
   "outputs": [
    {
     "name": "stdout",
     "output_type": "stream",
     "text": [
      "256B-A\n",
      "218    799\n",
      "219    201\n",
      "Name: count, dtype: int64\n",
      "\n",
      "Massimo: 219\n",
      "Minimo: 218\n",
      "Media: 218.201\n",
      "Varianza: 0.16075975975975976\n"
     ]
    }
   ],
   "source": [
    "# Generazione tag\n",
    "data = aprf_armv7m[\"256B-A\"]\n",
    "\n",
    "print_data(data)"
   ]
  },
  {
   "cell_type": "code",
   "execution_count": 91,
   "metadata": {},
   "outputs": [
    {
     "name": "stdout",
     "output_type": "stream",
     "text": [
      "256B-V\n",
      "440    560\n",
      "441    440\n",
      "Name: count, dtype: int64\n",
      "\n",
      "Massimo: 441\n",
      "Minimo: 440\n",
      "Media: 440.44\n",
      "Varianza: 0.24664664664664673\n"
     ]
    }
   ],
   "source": [
    "# Verifica tag\n",
    "data = aprf_armv7m[\"256B-V\"]\n",
    "\n",
    "print_data(data)"
   ]
  },
  {
   "attachments": {},
   "cell_type": "markdown",
   "metadata": {},
   "source": [
    "#### PT 512 byte"
   ]
  },
  {
   "cell_type": "code",
   "execution_count": 92,
   "metadata": {},
   "outputs": [
    {
     "name": "stdout",
     "output_type": "stream",
     "text": [
      "512B-A\n",
      "391    599\n",
      "392    400\n",
      "393      1\n",
      "Name: count, dtype: int64\n",
      "\n",
      "Massimo: 393\n",
      "Minimo: 391\n",
      "Media: 391.402\n",
      "Varianza: 0.24263863863863866\n"
     ]
    }
   ],
   "source": [
    "# Generazione tag\n",
    "data = aprf_armv7m[\"512B-A\"]\n",
    "\n",
    "print_data(data)"
   ]
  },
  {
   "cell_type": "code",
   "execution_count": 93,
   "metadata": {},
   "outputs": [
    {
     "name": "stdout",
     "output_type": "stream",
     "text": [
      "512B-V\n",
      "788    798\n",
      "786    200\n",
      "789      1\n",
      "787      1\n",
      "Name: count, dtype: int64\n",
      "\n",
      "Massimo: 789\n",
      "Minimo: 786\n",
      "Media: 787.6\n",
      "Varianza: 0.6426426426426427\n"
     ]
    }
   ],
   "source": [
    "# Verifica tag\n",
    "data = aprf_armv7m[\"512B-V\"]\n",
    "\n",
    "print_data(data)"
   ]
  },
  {
   "attachments": {},
   "cell_type": "markdown",
   "metadata": {},
   "source": [
    "#### PT 1024 byte"
   ]
  },
  {
   "cell_type": "code",
   "execution_count": 94,
   "metadata": {},
   "outputs": [
    {
     "name": "stdout",
     "output_type": "stream",
     "text": [
      "1024B-A\n",
      "739    718\n",
      "738    281\n",
      "740      1\n",
      "Name: count, dtype: int64\n",
      "\n",
      "Massimo: 740\n",
      "Minimo: 738\n",
      "Media: 738.72\n",
      "Varianza: 0.2038038038038038\n"
     ]
    }
   ],
   "source": [
    "# Generazione tag\n",
    "data = aprf_armv7m[\"1024B-A\"]\n",
    "\n",
    "print_data(data)"
   ]
  },
  {
   "cell_type": "code",
   "execution_count": 95,
   "metadata": {},
   "outputs": [
    {
     "name": "stdout",
     "output_type": "stream",
     "text": [
      "1024B-V\n",
      "1482    520\n",
      "1483    479\n",
      "1485      1\n",
      "Name: count, dtype: int64\n",
      "\n",
      "Massimo: 1485\n",
      "Minimo: 1482\n",
      "Media: 1482.482\n",
      "Varianza: 0.25593193193193187\n"
     ]
    }
   ],
   "source": [
    "# Verifica tag\n",
    "data = aprf_armv7m[\"1024B-V\"]\n",
    "\n",
    "print_data(data)"
   ]
  },
  {
   "attachments": {},
   "cell_type": "markdown",
   "metadata": {},
   "source": [
    "### Armv7m_small"
   ]
  },
  {
   "cell_type": "code",
   "execution_count": 96,
   "metadata": {},
   "outputs": [],
   "source": [
    "with open(path.format(\"armv7m_small\"), \"r\") as f:\n",
    "    aprf_small = pd.read_csv(f, delimiter=\";\")"
   ]
  },
  {
   "cell_type": "markdown",
   "metadata": {},
   "source": [
    "#### PT vuoto"
   ]
  },
  {
   "cell_type": "code",
   "execution_count": 97,
   "metadata": {},
   "outputs": [
    {
     "name": "stdout",
     "output_type": "stream",
     "text": [
      "0B-A\n",
      "39    960\n",
      "40     40\n",
      "Name: count, dtype: int64\n",
      "\n",
      "Massimo: 40\n",
      "Minimo: 39\n",
      "Media: 39.04\n",
      "Varianza: 0.038438438438438444\n"
     ]
    }
   ],
   "source": [
    "# Generazione tag\n",
    "data = aprf_small[\"0B-A\"]\n",
    "\n",
    "print_data(data)"
   ]
  },
  {
   "cell_type": "code",
   "execution_count": 98,
   "metadata": {},
   "outputs": [
    {
     "name": "stdout",
     "output_type": "stream",
     "text": [
      "0B-V\n",
      "81    919\n",
      "82     41\n",
      "83     40\n",
      "Name: count, dtype: int64\n",
      "\n",
      "Massimo: 83\n",
      "Minimo: 81\n",
      "Media: 81.121\n",
      "Varianza: 0.18654554554554556\n"
     ]
    }
   ],
   "source": [
    "# Verifica tag\n",
    "data = aprf_small[\"0B-V\"]\n",
    "\n",
    "print_data(data)"
   ]
  },
  {
   "attachments": {},
   "cell_type": "markdown",
   "metadata": {},
   "source": [
    "#### PT 8 byte"
   ]
  },
  {
   "cell_type": "code",
   "execution_count": 99,
   "metadata": {},
   "outputs": [
    {
     "name": "stdout",
     "output_type": "stream",
     "text": [
      "8B-A\n",
      "39    960\n",
      "40     40\n",
      "Name: count, dtype: int64\n",
      "\n",
      "Massimo: 40\n",
      "Minimo: 39\n",
      "Media: 39.04\n",
      "Varianza: 0.038438438438438444\n"
     ]
    }
   ],
   "source": [
    "# Generazione tag\n",
    "data = aprf_small[\"8B-A\"]\n",
    "\n",
    "print_data(data)"
   ]
  },
  {
   "cell_type": "code",
   "execution_count": 100,
   "metadata": {},
   "outputs": [
    {
     "name": "stdout",
     "output_type": "stream",
     "text": [
      "8B-V\n",
      "82    917\n",
      "84     80\n",
      "83      3\n",
      "Name: count, dtype: int64\n",
      "\n",
      "Massimo: 84\n",
      "Minimo: 82\n",
      "Media: 82.163\n",
      "Varianza: 0.29672772772772765\n"
     ]
    }
   ],
   "source": [
    "# Verifica tag\n",
    "data = aprf_small[\"8B-V\"]\n",
    "\n",
    "print_data(data)"
   ]
  },
  {
   "attachments": {},
   "cell_type": "markdown",
   "metadata": {},
   "source": [
    "#### PT 16 byte"
   ]
  },
  {
   "cell_type": "code",
   "execution_count": 101,
   "metadata": {},
   "outputs": [
    {
     "name": "stdout",
     "output_type": "stream",
     "text": [
      "16B-A\n",
      "40    920\n",
      "39     41\n",
      "41     39\n",
      "Name: count, dtype: int64\n",
      "\n",
      "Massimo: 41\n",
      "Minimo: 39\n",
      "Media: 39.998\n",
      "Varianza: 0.08007607607607611\n"
     ]
    }
   ],
   "source": [
    "# Generazione tag\n",
    "data = aprf_small[\"16B-A\"]\n",
    "\n",
    "print_data(data)"
   ]
  },
  {
   "cell_type": "code",
   "execution_count": 102,
   "metadata": {},
   "outputs": [
    {
     "name": "stdout",
     "output_type": "stream",
     "text": [
      "16B-V\n",
      "83    918\n",
      "85     81\n",
      "84      1\n",
      "Name: count, dtype: int64\n",
      "\n",
      "Massimo: 85\n",
      "Minimo: 83\n",
      "Media: 83.163\n",
      "Varianza: 0.2987297297297297\n"
     ]
    }
   ],
   "source": [
    "# Verifica tag\n",
    "data = aprf_small[\"16B-V\"]\n",
    "\n",
    "print_data(data)"
   ]
  },
  {
   "attachments": {},
   "cell_type": "markdown",
   "metadata": {},
   "source": [
    "#### PT 32 byte"
   ]
  },
  {
   "cell_type": "code",
   "execution_count": 103,
   "metadata": {},
   "outputs": [
    {
     "name": "stdout",
     "output_type": "stream",
     "text": [
      "32B-A\n",
      "57    959\n",
      "58     41\n",
      "Name: count, dtype: int64\n",
      "\n",
      "Massimo: 58\n",
      "Minimo: 57\n",
      "Media: 57.041\n",
      "Varianza: 0.039358358358358346\n"
     ]
    }
   ],
   "source": [
    "# Generazione tag\n",
    "data = aprf_small[\"32B-A\"]\n",
    "\n",
    "print_data(data)"
   ]
  },
  {
   "cell_type": "code",
   "execution_count": 104,
   "metadata": {},
   "outputs": [
    {
     "name": "stdout",
     "output_type": "stream",
     "text": [
      "32B-V\n",
      "118    878\n",
      "120    121\n",
      "119      1\n",
      "Name: count, dtype: int64\n",
      "\n",
      "Massimo: 120\n",
      "Minimo: 118\n",
      "Media: 118.243\n",
      "Varianza: 0.4263773773773774\n"
     ]
    }
   ],
   "source": [
    "# Verifica tag\n",
    "data = aprf_small[\"32B-V\"]\n",
    "\n",
    "print_data(data)"
   ]
  },
  {
   "attachments": {},
   "cell_type": "markdown",
   "metadata": {},
   "source": [
    "#### PT 64 byte"
   ]
  },
  {
   "cell_type": "code",
   "execution_count": 105,
   "metadata": {},
   "outputs": [
    {
     "name": "stdout",
     "output_type": "stream",
     "text": [
      "64B-A\n",
      "75    520\n",
      "76    400\n",
      "77     80\n",
      "Name: count, dtype: int64\n",
      "\n",
      "Massimo: 77\n",
      "Minimo: 75\n",
      "Media: 75.56\n",
      "Varianza: 0.4068068068068069\n"
     ]
    }
   ],
   "source": [
    "# Generazione tag\n",
    "data = aprf_small[\"64B-A\"]\n",
    "\n",
    "print_data(data)"
   ]
  },
  {
   "cell_type": "code",
   "execution_count": 106,
   "metadata": {},
   "outputs": [
    {
     "name": "stdout",
     "output_type": "stream",
     "text": [
      "64B-V\n",
      "155    839\n",
      "157    161\n",
      "Name: count, dtype: int64\n",
      "\n",
      "Massimo: 157\n",
      "Minimo: 155\n",
      "Media: 155.322\n",
      "Varianza: 0.5408568568568569\n"
     ]
    }
   ],
   "source": [
    "# Verifica tag\n",
    "data = aprf_small[\"64B-V\"]\n",
    "\n",
    "print_data(data)"
   ]
  },
  {
   "attachments": {},
   "cell_type": "markdown",
   "metadata": {},
   "source": [
    "#### PT 128 byte"
   ]
  },
  {
   "cell_type": "code",
   "execution_count": 107,
   "metadata": {},
   "outputs": [
    {
     "name": "stdout",
     "output_type": "stream",
     "text": [
      "128B-A\n",
      "112    638\n",
      "113    242\n",
      "114    120\n",
      "Name: count, dtype: int64\n",
      "\n",
      "Massimo: 114\n",
      "Minimo: 112\n",
      "Media: 112.482\n",
      "Varianza: 0.49016616616616615\n"
     ]
    }
   ],
   "source": [
    "# Generazione tag\n",
    "data = aprf_small[\"128B-A\"]\n",
    "\n",
    "print_data(data)"
   ]
  },
  {
   "cell_type": "code",
   "execution_count": 108,
   "metadata": {},
   "outputs": [
    {
     "name": "stdout",
     "output_type": "stream",
     "text": [
      "128B-V\n",
      "229    759\n",
      "231    241\n",
      "Name: count, dtype: int64\n",
      "\n",
      "Massimo: 231\n",
      "Minimo: 229\n",
      "Media: 229.482\n",
      "Varianza: 0.7324084084084086\n"
     ]
    }
   ],
   "source": [
    "# Verifica tag\n",
    "data = aprf_small[\"128B-V\"]\n",
    "\n",
    "print_data(data)"
   ]
  },
  {
   "attachments": {},
   "cell_type": "markdown",
   "metadata": {},
   "source": [
    "#### PT 256 byte"
   ]
  },
  {
   "cell_type": "code",
   "execution_count": 109,
   "metadata": {},
   "outputs": [
    {
     "name": "stdout",
     "output_type": "stream",
     "text": [
      "256B-A\n",
      "186    559\n",
      "187    239\n",
      "188    202\n",
      "Name: count, dtype: int64\n",
      "\n",
      "Massimo: 188\n",
      "Minimo: 186\n",
      "Media: 186.643\n",
      "Varianza: 0.6341851851851852\n"
     ]
    }
   ],
   "source": [
    "# Generazione tag\n",
    "data = aprf_small[\"256B-A\"]\n",
    "\n",
    "print_data(data)"
   ]
  },
  {
   "cell_type": "code",
   "execution_count": 110,
   "metadata": {},
   "outputs": [
    {
     "name": "stdout",
     "output_type": "stream",
     "text": [
      "256B-V\n",
      "377    639\n",
      "378    361\n",
      "Name: count, dtype: int64\n",
      "\n",
      "Massimo: 378\n",
      "Minimo: 377\n",
      "Media: 377.361\n",
      "Varianza: 0.23090990990990995\n"
     ]
    }
   ],
   "source": [
    "# Verifica tag\n",
    "data = aprf_small[\"256B-V\"]\n",
    "\n",
    "print_data(data)"
   ]
  },
  {
   "attachments": {},
   "cell_type": "markdown",
   "metadata": {},
   "source": [
    "#### PT 512 byte"
   ]
  },
  {
   "cell_type": "code",
   "execution_count": 111,
   "metadata": {},
   "outputs": [
    {
     "name": "stdout",
     "output_type": "stream",
     "text": [
      "512B-A\n",
      "334    479\n",
      "336    321\n",
      "335    199\n",
      "337      1\n",
      "Name: count, dtype: int64\n",
      "\n",
      "Massimo: 337\n",
      "Minimo: 334\n",
      "Media: 334.844\n",
      "Varianza: 0.7804444444444444\n"
     ]
    }
   ],
   "source": [
    "# Generazione tag\n",
    "data = aprf_small[\"512B-A\"]\n",
    "\n",
    "print_data(data)"
   ]
  },
  {
   "cell_type": "code",
   "execution_count": 112,
   "metadata": {},
   "outputs": [
    {
     "name": "stdout",
     "output_type": "stream",
     "text": [
      "512B-V\n",
      "674    679\n",
      "673    320\n",
      "675      1\n",
      "Name: count, dtype: int64\n",
      "\n",
      "Massimo: 675\n",
      "Minimo: 673\n",
      "Media: 673.681\n",
      "Varianza: 0.21945845845845843\n"
     ]
    }
   ],
   "source": [
    "# Verifica tag\n",
    "data = aprf_small[\"512B-V\"]\n",
    "\n",
    "print_data(data)"
   ]
  },
  {
   "attachments": {},
   "cell_type": "markdown",
   "metadata": {},
   "source": [
    "#### PT 1024 byte"
   ]
  },
  {
   "cell_type": "code",
   "execution_count": 113,
   "metadata": {},
   "outputs": [
    {
     "name": "stdout",
     "output_type": "stream",
     "text": [
      "1024B-A\n",
      "631    639\n",
      "630    360\n",
      "632      1\n",
      "Name: count, dtype: int64\n",
      "\n",
      "Massimo: 632\n",
      "Minimo: 630\n",
      "Media: 630.641\n",
      "Varianza: 0.23235135135135143\n"
     ]
    }
   ],
   "source": [
    "# Generazione tag\n",
    "data = aprf_small[\"1024B-A\"]\n",
    "\n",
    "print_data(data)"
   ]
  },
  {
   "cell_type": "code",
   "execution_count": 114,
   "metadata": {},
   "outputs": [
    {
     "name": "stdout",
     "output_type": "stream",
     "text": [
      "1024B-V\n",
      "1267    719\n",
      "1268    281\n",
      "Name: count, dtype: int64\n",
      "\n",
      "Massimo: 1268\n",
      "Minimo: 1267\n",
      "Media: 1267.281\n",
      "Varianza: 0.20224124124124124\n"
     ]
    }
   ],
   "source": [
    "# Verifica tag\n",
    "data = aprf_small[\"1024B-V\"]\n",
    "\n",
    "print_data(data)"
   ]
  },
  {
   "attachments": {},
   "cell_type": "markdown",
   "metadata": {},
   "source": [
    "### Bi32_armv7m"
   ]
  },
  {
   "cell_type": "code",
   "execution_count": 115,
   "metadata": {},
   "outputs": [],
   "source": [
    "with open(path.format(\"bi32_armv7m\"), \"r\") as f:\n",
    "    aprf_bi32 = pd.read_csv(f, delimiter=\";\")"
   ]
  },
  {
   "attachments": {},
   "cell_type": "markdown",
   "metadata": {},
   "source": [
    "#### PT vuoto"
   ]
  },
  {
   "cell_type": "code",
   "execution_count": 116,
   "metadata": {},
   "outputs": [
    {
     "name": "stdout",
     "output_type": "stream",
     "text": [
      "0B-A\n",
      "37    919\n",
      "36     41\n",
      "38     40\n",
      "Name: count, dtype: int64\n",
      "\n",
      "Massimo: 38\n",
      "Minimo: 36\n",
      "Media: 36.999\n",
      "Varianza: 0.08108008008008008\n"
     ]
    }
   ],
   "source": [
    "# Generazione tag\n",
    "data = aprf_bi32[\"0B-A\"]\n",
    "\n",
    "print_data(data)"
   ]
  },
  {
   "cell_type": "code",
   "execution_count": 117,
   "metadata": {},
   "outputs": [
    {
     "name": "stdout",
     "output_type": "stream",
     "text": [
      "0B-V\n",
      "77    918\n",
      "78     80\n",
      "76      2\n",
      "Name: count, dtype: int64\n",
      "\n",
      "Massimo: 78\n",
      "Minimo: 76\n",
      "Media: 77.078\n",
      "Varianza: 0.07599199199199196\n"
     ]
    }
   ],
   "source": [
    "# Verifica tag\n",
    "data = aprf_bi32[\"0B-V\"]\n",
    "\n",
    "print_data(data)"
   ]
  },
  {
   "attachments": {},
   "cell_type": "markdown",
   "metadata": {},
   "source": [
    "#### PT 8 byte"
   ]
  },
  {
   "cell_type": "code",
   "execution_count": 118,
   "metadata": {},
   "outputs": [
    {
     "name": "stdout",
     "output_type": "stream",
     "text": [
      "8B-A\n",
      "38    958\n",
      "39     42\n",
      "Name: count, dtype: int64\n",
      "\n",
      "Massimo: 39\n",
      "Minimo: 38\n",
      "Media: 38.042\n",
      "Varianza: 0.040276276276276265\n"
     ]
    }
   ],
   "source": [
    "# Generazione tag\n",
    "data = aprf_bi32[\"8B-A\"]\n",
    "\n",
    "print_data(data)"
   ]
  },
  {
   "cell_type": "code",
   "execution_count": 119,
   "metadata": {},
   "outputs": [
    {
     "name": "stdout",
     "output_type": "stream",
     "text": [
      "8B-V\n",
      "80    919\n",
      "81     80\n",
      "79      1\n",
      "Name: count, dtype: int64\n",
      "\n",
      "Massimo: 81\n",
      "Minimo: 79\n",
      "Media: 80.079\n",
      "Varianza: 0.07483383383383382\n"
     ]
    }
   ],
   "source": [
    "# Verifica tag\n",
    "data = aprf_bi32[\"8B-V\"]\n",
    "\n",
    "print_data(data)"
   ]
  },
  {
   "attachments": {},
   "cell_type": "markdown",
   "metadata": {},
   "source": [
    "#### PT 16 byte"
   ]
  },
  {
   "cell_type": "code",
   "execution_count": 120,
   "metadata": {},
   "outputs": [
    {
     "name": "stdout",
     "output_type": "stream",
     "text": [
      "16B-A\n",
      "40    960\n",
      "41     40\n",
      "Name: count, dtype: int64\n",
      "\n",
      "Massimo: 41\n",
      "Minimo: 40\n",
      "Media: 40.04\n",
      "Varianza: 0.038438438438438444\n"
     ]
    }
   ],
   "source": [
    "# Generazione tag\n",
    "data = aprf_bi32[\"16B-A\"]\n",
    "\n",
    "print_data(data)"
   ]
  },
  {
   "cell_type": "code",
   "execution_count": 121,
   "metadata": {},
   "outputs": [
    {
     "name": "stdout",
     "output_type": "stream",
     "text": [
      "16B-V\n",
      "83    920\n",
      "84     80\n",
      "Name: count, dtype: int64\n",
      "\n",
      "Massimo: 84\n",
      "Minimo: 83\n",
      "Media: 83.08\n",
      "Varianza: 0.0736736736736737\n"
     ]
    }
   ],
   "source": [
    "# Verifica tag\n",
    "data = aprf_bi32[\"16B-V\"]\n",
    "\n",
    "print_data(data)"
   ]
  },
  {
   "attachments": {},
   "cell_type": "markdown",
   "metadata": {},
   "source": [
    "#### PT 32 byte"
   ]
  },
  {
   "cell_type": "code",
   "execution_count": 122,
   "metadata": {},
   "outputs": [
    {
     "name": "stdout",
     "output_type": "stream",
     "text": [
      "32B-A\n",
      "58    960\n",
      "59     40\n",
      "Name: count, dtype: int64\n",
      "\n",
      "Massimo: 59\n",
      "Minimo: 58\n",
      "Media: 58.04\n",
      "Varianza: 0.038438438438438444\n"
     ]
    }
   ],
   "source": [
    "# Generazione tag\n",
    "data = aprf_bi32[\"32B-A\"]\n",
    "\n",
    "print_data(data)"
   ]
  },
  {
   "cell_type": "code",
   "execution_count": 123,
   "metadata": {},
   "outputs": [
    {
     "name": "stdout",
     "output_type": "stream",
     "text": [
      "32B-V\n",
      "119    879\n",
      "120    121\n",
      "Name: count, dtype: int64\n",
      "\n",
      "Massimo: 120\n",
      "Minimo: 119\n",
      "Media: 119.121\n",
      "Varianza: 0.10646546546546544\n"
     ]
    }
   ],
   "source": [
    "# Verifica tag\n",
    "data = aprf_bi32[\"32B-V\"]\n",
    "\n",
    "print_data(data)"
   ]
  },
  {
   "attachments": {},
   "cell_type": "markdown",
   "metadata": {},
   "source": [
    "#### PT 64 byte"
   ]
  },
  {
   "cell_type": "code",
   "execution_count": 124,
   "metadata": {},
   "outputs": [
    {
     "name": "stdout",
     "output_type": "stream",
     "text": [
      "64B-A\n",
      "79    920\n",
      "80     80\n",
      "Name: count, dtype: int64\n",
      "\n",
      "Massimo: 80\n",
      "Minimo: 79\n",
      "Media: 79.08\n",
      "Varianza: 0.0736736736736737\n"
     ]
    }
   ],
   "source": [
    "# Generazione tag\n",
    "data = aprf_bi32[\"64B-A\"]\n",
    "\n",
    "print_data(data)"
   ]
  },
  {
   "cell_type": "code",
   "execution_count": 125,
   "metadata": {},
   "outputs": [
    {
     "name": "stdout",
     "output_type": "stream",
     "text": [
      "64B-V\n",
      "162    839\n",
      "163    160\n",
      "161      1\n",
      "Name: count, dtype: int64\n",
      "\n",
      "Massimo: 163\n",
      "Minimo: 161\n",
      "Media: 162.159\n",
      "Varianza: 0.1358548548548549\n"
     ]
    }
   ],
   "source": [
    "# Verifica tag\n",
    "data = aprf_bi32[\"64B-V\"]\n",
    "\n",
    "print_data(data)"
   ]
  },
  {
   "attachments": {},
   "cell_type": "markdown",
   "metadata": {},
   "source": [
    "#### PT 128 byte"
   ]
  },
  {
   "cell_type": "code",
   "execution_count": 126,
   "metadata": {},
   "outputs": [
    {
     "name": "stdout",
     "output_type": "stream",
     "text": [
      "128B-A\n",
      "121    719\n",
      "122    200\n",
      "123     81\n",
      "Name: count, dtype: int64\n",
      "\n",
      "Massimo: 123\n",
      "Minimo: 121\n",
      "Media: 121.362\n",
      "Varianza: 0.39334934934934945\n"
     ]
    }
   ],
   "source": [
    "# Generazione tag\n",
    "data = aprf_bi32[\"128B-A\"]\n",
    "\n",
    "print_data(data)"
   ]
  },
  {
   "cell_type": "code",
   "execution_count": 127,
   "metadata": {},
   "outputs": [
    {
     "name": "stdout",
     "output_type": "stream",
     "text": [
      "128B-V\n",
      "247    760\n",
      "248    240\n",
      "Name: count, dtype: int64\n",
      "\n",
      "Massimo: 248\n",
      "Minimo: 247\n",
      "Media: 247.24\n",
      "Varianza: 0.18258258258258253\n"
     ]
    }
   ],
   "source": [
    "# Verifica tag\n",
    "data = aprf_bi32[\"128B-V\"]\n",
    "\n",
    "print_data(data)"
   ]
  },
  {
   "attachments": {},
   "cell_type": "markdown",
   "metadata": {},
   "source": [
    "#### PT 256 byte"
   ]
  },
  {
   "cell_type": "code",
   "execution_count": 128,
   "metadata": {},
   "outputs": [
    {
     "name": "stdout",
     "output_type": "stream",
     "text": [
      "256B-A\n",
      "206    639\n",
      "208    201\n",
      "207    160\n",
      "Name: count, dtype: int64\n",
      "\n",
      "Massimo: 208\n",
      "Minimo: 206\n",
      "Media: 206.562\n",
      "Varianza: 0.6488048048048046\n"
     ]
    }
   ],
   "source": [
    "# Generazione tag\n",
    "data = aprf_bi32[\"256B-A\"]\n",
    "\n",
    "print_data(data)"
   ]
  },
  {
   "cell_type": "code",
   "execution_count": 129,
   "metadata": {},
   "outputs": [
    {
     "name": "stdout",
     "output_type": "stream",
     "text": [
      "256B-V\n",
      "417    600\n",
      "418    400\n",
      "Name: count, dtype: int64\n",
      "\n",
      "Massimo: 418\n",
      "Minimo: 417\n",
      "Media: 417.4\n",
      "Varianza: 0.2402402402402403\n"
     ]
    }
   ],
   "source": [
    "# Verifica tag\n",
    "data = aprf_bi32[\"256B-V\"]\n",
    "\n",
    "print_data(data)"
   ]
  },
  {
   "attachments": {},
   "cell_type": "markdown",
   "metadata": {},
   "source": [
    "#### PT 512 byte"
   ]
  },
  {
   "cell_type": "code",
   "execution_count": 130,
   "metadata": {},
   "outputs": [
    {
     "name": "stdout",
     "output_type": "stream",
     "text": [
      "512B-A\n",
      "376    480\n",
      "378    321\n",
      "377    199\n",
      "Name: count, dtype: int64\n",
      "\n",
      "Massimo: 378\n",
      "Minimo: 376\n",
      "Media: 376.841\n",
      "Varianza: 0.7764954954954958\n"
     ]
    }
   ],
   "source": [
    "# Generazione tag\n",
    "data = aprf_bi32[\"512B-A\"]\n",
    "\n",
    "print_data(data)"
   ]
  },
  {
   "cell_type": "code",
   "execution_count": 131,
   "metadata": {},
   "outputs": [
    {
     "name": "stdout",
     "output_type": "stream",
     "text": [
      "512B-V\n",
      "758    758\n",
      "757    241\n",
      "759      1\n",
      "Name: count, dtype: int64\n",
      "\n",
      "Massimo: 759\n",
      "Minimo: 757\n",
      "Media: 757.76\n",
      "Varianza: 0.18458458458458454\n"
     ]
    }
   ],
   "source": [
    "# Verifica tag\n",
    "data = aprf_bi32[\"512B-V\"]\n",
    "\n",
    "print_data(data)"
   ]
  },
  {
   "attachments": {},
   "cell_type": "markdown",
   "metadata": {},
   "source": [
    "#### PT 1024 byte"
   ]
  },
  {
   "cell_type": "code",
   "execution_count": 132,
   "metadata": {},
   "outputs": [
    {
     "name": "stdout",
     "output_type": "stream",
     "text": [
      "1024B-A\n",
      "718    719\n",
      "717    200\n",
      "716     80\n",
      "719      1\n",
      "Name: count, dtype: int64\n",
      "\n",
      "Massimo: 719\n",
      "Minimo: 716\n",
      "Media: 717.641\n",
      "Varianza: 0.3925115115115114\n"
     ]
    }
   ],
   "source": [
    "# Generazione tag\n",
    "data = aprf_bi32[\"1024B-A\"]\n",
    "\n",
    "print_data(data)"
   ]
  },
  {
   "cell_type": "code",
   "execution_count": 133,
   "metadata": {},
   "outputs": [
    {
     "name": "stdout",
     "output_type": "stream",
     "text": [
      "1024B-V\n",
      "1439    560\n",
      "1440    440\n",
      "Name: count, dtype: int64\n",
      "\n",
      "Massimo: 1440\n",
      "Minimo: 1439\n",
      "Media: 1439.44\n",
      "Varianza: 0.24664664664664662\n"
     ]
    }
   ],
   "source": [
    "# Verifica tag\n",
    "data = aprf_bi32[\"1024B-V\"]\n",
    "\n",
    "print_data(data)"
   ]
  },
  {
   "attachments": {},
   "cell_type": "markdown",
   "metadata": {},
   "source": [
    "### Ref"
   ]
  },
  {
   "cell_type": "code",
   "execution_count": 134,
   "metadata": {},
   "outputs": [],
   "source": [
    "with open(path.format(\"ref\"), \"r\") as f:\n",
    "    aprf_ref = pd.read_csv(f, delimiter=\";\")"
   ]
  },
  {
   "attachments": {},
   "cell_type": "markdown",
   "metadata": {},
   "source": [
    "#### PT vuoto"
   ]
  },
  {
   "cell_type": "code",
   "execution_count": 135,
   "metadata": {},
   "outputs": [
    {
     "name": "stdout",
     "output_type": "stream",
     "text": [
      "0B-A\n",
      "136    879\n",
      "137    120\n",
      "135      1\n",
      "Name: count, dtype: int64\n",
      "\n",
      "Massimo: 137\n",
      "Minimo: 135\n",
      "Media: 136.119\n",
      "Varianza: 0.10694594594594597\n"
     ]
    }
   ],
   "source": [
    "# Generazione tag\n",
    "data = aprf_ref[\"0B-A\"]\n",
    "\n",
    "print_data(data)"
   ]
  },
  {
   "cell_type": "code",
   "execution_count": 136,
   "metadata": {},
   "outputs": [
    {
     "name": "stdout",
     "output_type": "stream",
     "text": [
      "0B-V\n",
      "275    718\n",
      "276    241\n",
      "277     40\n",
      "278      1\n",
      "Name: count, dtype: int64\n",
      "\n",
      "Massimo: 278\n",
      "Minimo: 275\n",
      "Media: 275.324\n",
      "Varianza: 0.3053293293293292\n"
     ]
    }
   ],
   "source": [
    "# Verifica tag\n",
    "data = aprf_ref[\"0B-V\"]\n",
    "\n",
    "print_data(data)"
   ]
  },
  {
   "attachments": {},
   "cell_type": "markdown",
   "metadata": {},
   "source": [
    "#### PT 8 byte"
   ]
  },
  {
   "cell_type": "code",
   "execution_count": 137,
   "metadata": {},
   "outputs": [
    {
     "name": "stdout",
     "output_type": "stream",
     "text": [
      "8B-A\n",
      "141    641\n",
      "142    239\n",
      "143    120\n",
      "Name: count, dtype: int64\n",
      "\n",
      "Massimo: 143\n",
      "Minimo: 141\n",
      "Media: 141.479\n",
      "Varianza: 0.4900490490490489\n"
     ]
    }
   ],
   "source": [
    "# Generazione tag\n",
    "data = aprf_ref[\"8B-A\"]\n",
    "\n",
    "print_data(data)"
   ]
  },
  {
   "cell_type": "code",
   "execution_count": 138,
   "metadata": {},
   "outputs": [
    {
     "name": "stdout",
     "output_type": "stream",
     "text": [
      "8B-V\n",
      "287    720\n",
      "288    200\n",
      "289     80\n",
      "Name: count, dtype: int64\n",
      "\n",
      "Massimo: 289\n",
      "Minimo: 287\n",
      "Media: 287.36\n",
      "Varianza: 0.39079079079079077\n"
     ]
    }
   ],
   "source": [
    "# Verifica tag\n",
    "data = aprf_ref[\"8B-V\"]\n",
    "\n",
    "print_data(data)"
   ]
  },
  {
   "attachments": {},
   "cell_type": "markdown",
   "metadata": {},
   "source": [
    "#### PT 16 byte"
   ]
  },
  {
   "cell_type": "code",
   "execution_count": 139,
   "metadata": {},
   "outputs": [
    {
     "name": "stdout",
     "output_type": "stream",
     "text": [
      "16B-A\n",
      "147    478\n",
      "148    401\n",
      "149    121\n",
      "Name: count, dtype: int64\n",
      "\n",
      "Massimo: 149\n",
      "Minimo: 147\n",
      "Media: 147.643\n",
      "Varianza: 0.4720230230230231\n"
     ]
    }
   ],
   "source": [
    "# Generazione tag\n",
    "data = aprf_ref[\"16B-A\"]\n",
    "\n",
    "print_data(data)"
   ]
  },
  {
   "cell_type": "code",
   "execution_count": 140,
   "metadata": {},
   "outputs": [
    {
     "name": "stdout",
     "output_type": "stream",
     "text": [
      "16B-V\n",
      "299    718\n",
      "300    161\n",
      "301    121\n",
      "Name: count, dtype: int64\n",
      "\n",
      "Massimo: 301\n",
      "Minimo: 299\n",
      "Media: 299.403\n",
      "Varianza: 0.48307407407407416\n"
     ]
    }
   ],
   "source": [
    "# Verifica tag\n",
    "data = aprf_ref[\"16B-V\"]\n",
    "\n",
    "print_data(data)"
   ]
  },
  {
   "attachments": {},
   "cell_type": "markdown",
   "metadata": {},
   "source": [
    "#### PT 32 byte"
   ]
  },
  {
   "cell_type": "code",
   "execution_count": 141,
   "metadata": {},
   "outputs": [
    {
     "name": "stdout",
     "output_type": "stream",
     "text": [
      "32B-A\n",
      "215    798\n",
      "216    162\n",
      "217     40\n",
      "Name: count, dtype: int64\n",
      "\n",
      "Massimo: 217\n",
      "Minimo: 215\n",
      "Media: 215.242\n",
      "Varianza: 0.2636996996996997\n"
     ]
    }
   ],
   "source": [
    "# Generazione tag\n",
    "data = aprf_ref[\"32B-A\"]\n",
    "\n",
    "print_data(data)"
   ]
  },
  {
   "cell_type": "code",
   "execution_count": 142,
   "metadata": {},
   "outputs": [
    {
     "name": "stdout",
     "output_type": "stream",
     "text": [
      "32B-V\n",
      "435    559\n",
      "436    401\n",
      "437     40\n",
      "Name: count, dtype: int64\n",
      "\n",
      "Massimo: 437\n",
      "Minimo: 435\n",
      "Media: 435.481\n",
      "Varianza: 0.329968968968969\n"
     ]
    }
   ],
   "source": [
    "# Verifica tag\n",
    "data = aprf_ref[\"32B-V\"]\n",
    "\n",
    "print_data(data)"
   ]
  },
  {
   "attachments": {},
   "cell_type": "markdown",
   "metadata": {},
   "source": [
    "#### PT 64 byte"
   ]
  },
  {
   "cell_type": "code",
   "execution_count": 143,
   "metadata": {},
   "outputs": [
    {
     "name": "stdout",
     "output_type": "stream",
     "text": [
      "64B-A\n",
      "295    721\n",
      "296    279\n",
      "Name: count, dtype: int64\n",
      "\n",
      "Massimo: 296\n",
      "Minimo: 295\n",
      "Media: 295.279\n",
      "Varianza: 0.20136036036036034\n"
     ]
    }
   ],
   "source": [
    "# Generazione tag\n",
    "data = aprf_ref[\"64B-A\"]\n",
    "\n",
    "print_data(data)"
   ]
  },
  {
   "cell_type": "code",
   "execution_count": 144,
   "metadata": {},
   "outputs": [
    {
     "name": "stdout",
     "output_type": "stream",
     "text": [
      "64B-V\n",
      "596    559\n",
      "594    240\n",
      "595    200\n",
      "597      1\n",
      "Name: count, dtype: int64\n",
      "\n",
      "Massimo: 597\n",
      "Minimo: 594\n",
      "Media: 595.321\n",
      "Varianza: 0.7006596596596597\n"
     ]
    }
   ],
   "source": [
    "# Verifica tag\n",
    "data = aprf_ref[\"64B-V\"]\n",
    "\n",
    "print_data(data)"
   ]
  },
  {
   "attachments": {},
   "cell_type": "markdown",
   "metadata": {},
   "source": [
    "#### PT 128 byte"
   ]
  },
  {
   "cell_type": "code",
   "execution_count": 145,
   "metadata": {},
   "outputs": [
    {
     "name": "stdout",
     "output_type": "stream",
     "text": [
      "128B-A\n",
      "455    558\n",
      "456    442\n",
      "Name: count, dtype: int64\n",
      "\n",
      "Massimo: 456\n",
      "Minimo: 455\n",
      "Media: 455.442\n",
      "Varianza: 0.24688288288288282\n"
     ]
    }
   ],
   "source": [
    "# Generazione tag\n",
    "data = aprf_ref[\"128B-A\"]\n",
    "\n",
    "print_data(data)"
   ]
  },
  {
   "cell_type": "code",
   "execution_count": 146,
   "metadata": {},
   "outputs": [
    {
     "name": "stdout",
     "output_type": "stream",
     "text": [
      "128B-V\n",
      "915    878\n",
      "914    120\n",
      "917      2\n",
      "Name: count, dtype: int64\n",
      "\n",
      "Massimo: 917\n",
      "Minimo: 914\n",
      "Media: 914.884\n",
      "Varianza: 0.11465865865865865\n"
     ]
    }
   ],
   "source": [
    "# Verifica tag\n",
    "data = aprf_ref[\"128B-V\"]\n",
    "\n",
    "print_data(data)"
   ]
  },
  {
   "attachments": {},
   "cell_type": "markdown",
   "metadata": {},
   "source": [
    "#### PT 256 byte"
   ]
  },
  {
   "cell_type": "code",
   "execution_count": 147,
   "metadata": {},
   "outputs": [
    {
     "name": "stdout",
     "output_type": "stream",
     "text": [
      "256B-A\n",
      "775    759\n",
      "774    240\n",
      "776      1\n",
      "Name: count, dtype: int64\n",
      "\n",
      "Massimo: 776\n",
      "Minimo: 774\n",
      "Media: 774.761\n",
      "Varianza: 0.18406306306306303\n"
     ]
    }
   ],
   "source": [
    "# Generazione tag\n",
    "data = aprf_ref[\"256B-A\"]\n",
    "\n",
    "print_data(data)"
   ]
  },
  {
   "cell_type": "code",
   "execution_count": 148,
   "metadata": {},
   "outputs": [
    {
     "name": "stdout",
     "output_type": "stream",
     "text": [
      "256B-V\n",
      "1556    520\n",
      "1555    440\n",
      "1557     40\n",
      "Name: count, dtype: int64\n",
      "\n",
      "Massimo: 1557\n",
      "Minimo: 1555\n",
      "Media: 1555.6\n",
      "Varianza: 0.32032032032032043\n"
     ]
    }
   ],
   "source": [
    "# Verifica tag\n",
    "data = aprf_ref[\"256B-V\"]\n",
    "\n",
    "print_data(data)"
   ]
  },
  {
   "attachments": {},
   "cell_type": "markdown",
   "metadata": {},
   "source": [
    "#### PT 512 byte"
   ]
  },
  {
   "cell_type": "code",
   "execution_count": 149,
   "metadata": {},
   "outputs": [
    {
     "name": "stdout",
     "output_type": "stream",
     "text": [
      "512B-A\n",
      "1415    599\n",
      "1416    400\n",
      "1417      1\n",
      "Name: count, dtype: int64\n",
      "\n",
      "Massimo: 1417\n",
      "Minimo: 1415\n",
      "Media: 1415.402\n",
      "Varianza: 0.24263863863863866\n"
     ]
    }
   ],
   "source": [
    "# Generazione tag\n",
    "data = aprf_ref[\"512B-A\"]\n",
    "\n",
    "print_data(data)"
   ]
  },
  {
   "cell_type": "code",
   "execution_count": 150,
   "metadata": {},
   "outputs": [
    {
     "name": "stdout",
     "output_type": "stream",
     "text": [
      "512B-V\n",
      "2836    798\n",
      "2835    201\n",
      "2838      1\n",
      "Name: count, dtype: int64\n",
      "\n",
      "Massimo: 2838\n",
      "Minimo: 2835\n",
      "Media: 2835.801\n",
      "Varianza: 0.1655645645645645\n"
     ]
    }
   ],
   "source": [
    "# Verifica tag\n",
    "data = aprf_ref[\"512B-V\"]\n",
    "\n",
    "print_data(data)"
   ]
  },
  {
   "attachments": {},
   "cell_type": "markdown",
   "metadata": {},
   "source": [
    "#### PT 1024 byte"
   ]
  },
  {
   "cell_type": "code",
   "execution_count": 151,
   "metadata": {},
   "outputs": [
    {
     "name": "stdout",
     "output_type": "stream",
     "text": [
      "1024B-A\n",
      "2696    679\n",
      "2695    320\n",
      "2697      1\n",
      "Name: count, dtype: int64\n",
      "\n",
      "Massimo: 2697\n",
      "Minimo: 2695\n",
      "Media: 2695.681\n",
      "Varianza: 0.2194584584584585\n"
     ]
    }
   ],
   "source": [
    "# Generazione tag\n",
    "data = aprf_ref[\"1024B-A\"]\n",
    "\n",
    "print_data(data)"
   ]
  },
  {
   "cell_type": "code",
   "execution_count": 152,
   "metadata": {},
   "outputs": [
    {
     "name": "stdout",
     "output_type": "stream",
     "text": [
      "1024B-V\n",
      "5396    479\n",
      "5398    321\n",
      "5397    200\n",
      "Name: count, dtype: int64\n",
      "\n",
      "Massimo: 5398\n",
      "Minimo: 5396\n",
      "Media: 5396.842\n",
      "Varianza: 0.7758118118118118\n"
     ]
    }
   ],
   "source": [
    "# Verifica tag\n",
    "data = aprf_ref[\"1024B-V\"]\n",
    "\n",
    "print_data(data)"
   ]
  }
 ],
 "metadata": {
  "kernelspec": {
   "display_name": "Python 3",
   "language": "python",
   "name": "python3"
  },
  "language_info": {
   "codemirror_mode": {
    "name": "ipython",
    "version": 3
   },
   "file_extension": ".py",
   "mimetype": "text/x-python",
   "name": "python",
   "nbconvert_exporter": "python",
   "pygments_lexer": "ipython3",
   "version": "3.11.2"
  },
  "orig_nbformat": 4
 },
 "nbformat": 4,
 "nbformat_minor": 2
}
