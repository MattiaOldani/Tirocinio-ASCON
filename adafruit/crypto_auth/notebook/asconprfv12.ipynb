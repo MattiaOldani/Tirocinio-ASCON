{
 "cells": [
  {
   "attachments": {},
   "cell_type": "markdown",
   "metadata": {},
   "source": [
    "# Analisi dei dati raccolti"
   ]
  },
  {
   "attachments": {},
   "cell_type": "markdown",
   "metadata": {},
   "source": [
    "## Setup"
   ]
  },
  {
   "cell_type": "code",
   "execution_count": 1,
   "metadata": {},
   "outputs": [],
   "source": [
    "import pandas as pd"
   ]
  },
  {
   "cell_type": "code",
   "execution_count": 2,
   "metadata": {},
   "outputs": [],
   "source": [
    "def print_data(series: pd.Series) -> None:\n",
    "    print(series.value_counts())\n",
    "    print()\n",
    "    print(f\"Massimo: {series.max()}\\nMinimo: {series.min()}\\nMedia: {series.mean()}\\nVarianza: {series.var()}\")"
   ]
  },
  {
   "attachments": {},
   "cell_type": "markdown",
   "metadata": {},
   "source": [
    "## Asconprfv12"
   ]
  },
  {
   "cell_type": "code",
   "execution_count": 3,
   "metadata": {},
   "outputs": [],
   "source": [
    "path = \"../asconprfv12/data/{}.csv\""
   ]
  },
  {
   "attachments": {},
   "cell_type": "markdown",
   "metadata": {},
   "source": [
    "### Armv6m"
   ]
  },
  {
   "cell_type": "code",
   "execution_count": 4,
   "metadata": {},
   "outputs": [],
   "source": [
    "with open(path.format(\"armv6m\"), \"r\") as f:\n",
    "    aprf_armv6m = pd.read_csv(f, delimiter=\";\")"
   ]
  },
  {
   "attachments": {},
   "cell_type": "markdown",
   "metadata": {},
   "source": [
    "#### PT vuoto"
   ]
  },
  {
   "cell_type": "code",
   "execution_count": 5,
   "metadata": {},
   "outputs": [
    {
     "name": "stdout",
     "output_type": "stream",
     "text": [
      "0B-A\n",
      "115    743\n",
      "117    125\n",
      "122     80\n",
      "123     23\n",
      "114     18\n",
      "116      9\n",
      "118      2\n",
      "Name: count, dtype: int64\n",
      "\n",
      "Massimo: 123\n",
      "Minimo: 114\n",
      "Media: 115.991\n",
      "Varianza: 4.959878878878879\n"
     ]
    }
   ],
   "source": [
    "# Generazione tag\n",
    "data = aprf_armv6m[\"0B-A\"]\n",
    "\n",
    "print_data(data)"
   ]
  },
  {
   "cell_type": "code",
   "execution_count": 6,
   "metadata": {},
   "outputs": [
    {
     "name": "stdout",
     "output_type": "stream",
     "text": [
      "0B-V\n",
      "236    402\n",
      "238    203\n",
      "237    134\n",
      "243    100\n",
      "244     94\n",
      "239     61\n",
      "245      6\n",
      "Name: count, dtype: int64\n",
      "\n",
      "Massimo: 245\n",
      "Minimo: 236\n",
      "Media: 238.229\n",
      "Varianza: 7.936495495495495\n"
     ]
    }
   ],
   "source": [
    "# Verifica tag\n",
    "data = aprf_armv6m[\"0B-V\"]\n",
    "\n",
    "print_data(data)"
   ]
  },
  {
   "attachments": {},
   "cell_type": "markdown",
   "metadata": {},
   "source": [
    "#### PT 8 byte"
   ]
  },
  {
   "cell_type": "code",
   "execution_count": 7,
   "metadata": {},
   "outputs": [
    {
     "name": "stdout",
     "output_type": "stream",
     "text": [
      "8B-A\n",
      "117    489\n",
      "118    242\n",
      "119     89\n",
      "125     78\n",
      "124     57\n",
      "120     40\n",
      "126      5\n",
      "Name: count, dtype: int64\n",
      "\n",
      "Massimo: 126\n",
      "Minimo: 117\n",
      "Media: 118.608\n",
      "Varianza: 6.568904904904905\n"
     ]
    }
   ],
   "source": [
    "# Generazione tag\n",
    "data = aprf_armv6m[\"8B-A\"]\n",
    "\n",
    "print_data(data)"
   ]
  },
  {
   "cell_type": "code",
   "execution_count": 8,
   "metadata": {},
   "outputs": [
    {
     "name": "stdout",
     "output_type": "stream",
     "text": [
      "8B-V\n",
      "241    505\n",
      "243    295\n",
      "248    124\n",
      "249     53\n",
      "242     20\n",
      "244      2\n",
      "250      1\n",
      "Name: count, dtype: int64\n",
      "\n",
      "Massimo: 250\n",
      "Minimo: 241\n",
      "Media: 242.917\n",
      "Varianza: 7.099210210210211\n"
     ]
    }
   ],
   "source": [
    "# Verifica tag\n",
    "data = aprf_armv6m[\"8B-V\"]\n",
    "\n",
    "print_data(data)"
   ]
  },
  {
   "attachments": {},
   "cell_type": "markdown",
   "metadata": {},
   "source": [
    "#### PT 16 byte"
   ]
  },
  {
   "cell_type": "code",
   "execution_count": 9,
   "metadata": {},
   "outputs": [
    {
     "name": "stdout",
     "output_type": "stream",
     "text": [
      "16B-A\n",
      "120    596\n",
      "119    204\n",
      "127     89\n",
      "122     71\n",
      "121     34\n",
      "128      5\n",
      "126      1\n",
      "Name: count, dtype: int64\n",
      "\n",
      "Massimo: 128\n",
      "Minimo: 119\n",
      "Media: 120.641\n",
      "Varianza: 4.832951951951951\n"
     ]
    }
   ],
   "source": [
    "# Generazione tag\n",
    "data = aprf_armv6m[\"16B-A\"]\n",
    "\n",
    "print_data(data)"
   ]
  },
  {
   "cell_type": "code",
   "execution_count": 10,
   "metadata": {},
   "outputs": [
    {
     "name": "stdout",
     "output_type": "stream",
     "text": [
      "16B-V\n",
      "246    430\n",
      "248    192\n",
      "253    152\n",
      "245    128\n",
      "247     80\n",
      "254     11\n",
      "255      3\n",
      "249      2\n",
      "256      1\n",
      "252      1\n",
      "Name: count, dtype: int64\n",
      "\n",
      "Massimo: 256\n",
      "Minimo: 245\n",
      "Media: 247.537\n",
      "Varianza: 7.1698008008008\n"
     ]
    }
   ],
   "source": [
    "# Verifica tag\n",
    "data = aprf_armv6m[\"16B-V\"]\n",
    "\n",
    "print_data(data)"
   ]
  },
  {
   "attachments": {},
   "cell_type": "markdown",
   "metadata": {},
   "source": [
    "#### PT 32 byte"
   ]
  },
  {
   "cell_type": "code",
   "execution_count": 11,
   "metadata": {},
   "outputs": [
    {
     "name": "stdout",
     "output_type": "stream",
     "text": [
      "32B-A\n",
      "177    602\n",
      "179    146\n",
      "184    139\n",
      "176     58\n",
      "185     32\n",
      "178     22\n",
      "180      1\n",
      "Name: count, dtype: int64\n",
      "\n",
      "Massimo: 185\n",
      "Minimo: 176\n",
      "Media: 178.488\n",
      "Varianza: 7.325181181181183\n"
     ]
    }
   ],
   "source": [
    "# Generazione tag\n",
    "data = aprf_armv6m[\"32B-A\"]\n",
    "\n",
    "print_data(data)"
   ]
  },
  {
   "cell_type": "code",
   "execution_count": 12,
   "metadata": {},
   "outputs": [
    {
     "name": "stdout",
     "output_type": "stream",
     "text": [
      "32B-V\n",
      "360    366\n",
      "362    232\n",
      "367    130\n",
      "368     85\n",
      "361     74\n",
      "369     49\n",
      "363     32\n",
      "370     30\n",
      "364      1\n",
      "371      1\n",
      "Name: count, dtype: int64\n",
      "\n",
      "Massimo: 371\n",
      "Minimo: 360\n",
      "Media: 362.98\n",
      "Varianza: 11.33693693693694\n"
     ]
    }
   ],
   "source": [
    "# Verifica tag\n",
    "data = aprf_armv6m[\"32B-V\"]\n",
    "\n",
    "print_data(data)"
   ]
  },
  {
   "attachments": {},
   "cell_type": "markdown",
   "metadata": {},
   "source": [
    "#### PT 64 byte"
   ]
  },
  {
   "cell_type": "code",
   "execution_count": 13,
   "metadata": {},
   "outputs": [
    {
     "name": "stdout",
     "output_type": "stream",
     "text": [
      "64B-A\n",
      "239    443\n",
      "246    231\n",
      "241    173\n",
      "238     64\n",
      "240     43\n",
      "247     40\n",
      "248      5\n",
      "242      1\n",
      "Name: count, dtype: int64\n",
      "\n",
      "Massimo: 248\n",
      "Minimo: 238\n",
      "Media: 241.31\n",
      "Varianza: 9.765665665665669\n"
     ]
    }
   ],
   "source": [
    "# Generazione tag\n",
    "data = aprf_armv6m[\"64B-A\"]\n",
    "\n",
    "print_data(data)"
   ]
  },
  {
   "cell_type": "code",
   "execution_count": 14,
   "metadata": {},
   "outputs": [
    {
     "name": "stdout",
     "output_type": "stream",
     "text": [
      "64B-V\n",
      "486    304\n",
      "484    293\n",
      "493    151\n",
      "491    140\n",
      "492     60\n",
      "494     39\n",
      "485     12\n",
      "487      1\n",
      "Name: count, dtype: int64\n",
      "\n",
      "Massimo: 494\n",
      "Minimo: 484\n",
      "Media: 487.832\n",
      "Varianza: 13.39717317317317\n"
     ]
    }
   ],
   "source": [
    "# Verifica tag\n",
    "data = aprf_armv6m[\"64B-V\"]\n",
    "\n",
    "print_data(data)"
   ]
  },
  {
   "attachments": {},
   "cell_type": "markdown",
   "metadata": {},
   "source": [
    "#### PT 128 byte"
   ]
  },
  {
   "cell_type": "code",
   "execution_count": 15,
   "metadata": {},
   "outputs": [
    {
     "name": "stdout",
     "output_type": "stream",
     "text": [
      "128B-A\n",
      "363    255\n",
      "370    230\n",
      "365    169\n",
      "362    121\n",
      "364     99\n",
      "372     91\n",
      "371     17\n",
      "369     11\n",
      "373      7\n",
      "Name: count, dtype: int64\n",
      "\n",
      "Massimo: 373\n",
      "Minimo: 362\n",
      "Media: 366.017\n",
      "Varianza: 12.631342342342345\n"
     ]
    }
   ],
   "source": [
    "# Generazione tag\n",
    "data = aprf_armv6m[\"128B-A\"]\n",
    "\n",
    "print_data(data)"
   ]
  },
  {
   "cell_type": "code",
   "execution_count": 16,
   "metadata": {},
   "outputs": [
    {
     "name": "stdout",
     "output_type": "stream",
     "text": [
      "128B-V\n",
      "741    445\n",
      "734    204\n",
      "739    181\n",
      "733     78\n",
      "740     38\n",
      "742     23\n",
      "732     20\n",
      "738      5\n",
      "731      5\n",
      "735      1\n",
      "Name: count, dtype: int64\n",
      "\n",
      "Massimo: 742\n",
      "Minimo: 731\n",
      "Media: 738.32\n",
      "Varianza: 10.802402402402405\n"
     ]
    }
   ],
   "source": [
    "# Verifica tag\n",
    "data = aprf_armv6m[\"128B-V\"]\n",
    "\n",
    "print_data(data)"
   ]
  },
  {
   "attachments": {},
   "cell_type": "markdown",
   "metadata": {},
   "source": [
    "#### PT 256 byte"
   ]
  },
  {
   "cell_type": "code",
   "execution_count": 17,
   "metadata": {},
   "outputs": [
    {
     "name": "stdout",
     "output_type": "stream",
     "text": [
      "256B-A\n",
      "620    223\n",
      "618    209\n",
      "612    159\n",
      "613    138\n",
      "619    115\n",
      "617     73\n",
      "611     39\n",
      "610     31\n",
      "621     13\n",
      "Name: count, dtype: int64\n",
      "\n",
      "Massimo: 621\n",
      "Minimo: 610\n",
      "Media: 616.362\n",
      "Varianza: 11.594550550550549\n"
     ]
    }
   ],
   "source": [
    "# Generazione tag\n",
    "data = aprf_armv6m[\"256B-A\"]\n",
    "\n",
    "print_data(data)"
   ]
  },
  {
   "cell_type": "code",
   "execution_count": 18,
   "metadata": {},
   "outputs": [
    {
     "name": "stdout",
     "output_type": "stream",
     "text": [
      "256B-V\n",
      "1236    296\n",
      "1237    259\n",
      "1244    141\n",
      "1238    140\n",
      "1239     77\n",
      "1243     73\n",
      "1245      7\n",
      "1240      7\n",
      "Name: count, dtype: int64\n",
      "\n",
      "Massimo: 1245\n",
      "Minimo: 1236\n",
      "Media: 1238.5\n",
      "Varianza: 8.55055055055055\n"
     ]
    }
   ],
   "source": [
    "# Verifica tag\n",
    "data = aprf_armv6m[\"256B-V\"]\n",
    "\n",
    "print_data(data)"
   ]
  },
  {
   "attachments": {},
   "cell_type": "markdown",
   "metadata": {},
   "source": [
    "#### PT 512 byte"
   ]
  },
  {
   "cell_type": "code",
   "execution_count": 19,
   "metadata": {},
   "outputs": [
    {
     "name": "stdout",
     "output_type": "stream",
     "text": [
      "512B-A\n",
      "1115    612\n",
      "1116    159\n",
      "1122     77\n",
      "1117     70\n",
      "1123     58\n",
      "1118     24\n",
      "Name: count, dtype: int64\n",
      "\n",
      "Massimo: 1123\n",
      "Minimo: 1115\n",
      "Media: 1116.374\n",
      "Varianza: 6.25838238238238\n"
     ]
    }
   ],
   "source": [
    "# Generazione tag\n",
    "data = aprf_armv6m[\"512B-A\"]\n",
    "\n",
    "print_data(data)"
   ]
  },
  {
   "cell_type": "code",
   "execution_count": 20,
   "metadata": {},
   "outputs": [
    {
     "name": "stdout",
     "output_type": "stream",
     "text": [
      "512B-V\n",
      "2237    373\n",
      "2236    215\n",
      "2239    132\n",
      "2238    126\n",
      "2244    109\n",
      "2245     22\n",
      "2243     18\n",
      "2240      5\n",
      "Name: count, dtype: int64\n",
      "\n",
      "Massimo: 2245\n",
      "Minimo: 2236\n",
      "Media: 2238.237\n",
      "Varianza: 6.7876186186186205\n"
     ]
    }
   ],
   "source": [
    "# Verifica tag\n",
    "data = aprf_armv6m[\"512B-V\"]\n",
    "\n",
    "print_data(data)"
   ]
  },
  {
   "attachments": {},
   "cell_type": "markdown",
   "metadata": {},
   "source": [
    "#### PT 1024 byte"
   ]
  },
  {
   "cell_type": "code",
   "execution_count": 21,
   "metadata": {},
   "outputs": [
    {
     "name": "stdout",
     "output_type": "stream",
     "text": [
      "1024B-A\n",
      "2115    425\n",
      "2116    294\n",
      "2117    120\n",
      "2123     57\n",
      "2118     49\n",
      "2122     47\n",
      "2124      8\n",
      "Name: count, dtype: int64\n",
      "\n",
      "Massimo: 2124\n",
      "Minimo: 2115\n",
      "Media: 2116.538\n",
      "Varianza: 5.454010010010011\n"
     ]
    }
   ],
   "source": [
    "# Generazione tag\n",
    "data = aprf_armv6m[\"1024B-A\"]\n",
    "\n",
    "print_data(data)"
   ]
  },
  {
   "cell_type": "code",
   "execution_count": 22,
   "metadata": {},
   "outputs": [
    {
     "name": "stdout",
     "output_type": "stream",
     "text": [
      "1024B-V\n",
      "4237    398\n",
      "4239    149\n",
      "4244    147\n",
      "4238    132\n",
      "4245    107\n",
      "4240     33\n",
      "4236     30\n",
      "4246      3\n",
      "4247      1\n",
      "Name: count, dtype: int64\n",
      "\n",
      "Massimo: 4247\n",
      "Minimo: 4236\n",
      "Media: 4239.421\n",
      "Varianza: 9.597356356356357\n"
     ]
    }
   ],
   "source": [
    "# Verifica tag\n",
    "data = aprf_armv6m[\"1024B-V\"]\n",
    "\n",
    "print_data(data)"
   ]
  },
  {
   "attachments": {},
   "cell_type": "markdown",
   "metadata": {},
   "source": [
    "### Bi32_armv6m"
   ]
  },
  {
   "cell_type": "code",
   "execution_count": 23,
   "metadata": {},
   "outputs": [],
   "source": [
    "with open(path.format(\"bi32_armv6m\"), \"r\") as f:\n",
    "    aprf_bi32 = pd.read_csv(f, delimiter=\";\")"
   ]
  },
  {
   "attachments": {},
   "cell_type": "markdown",
   "metadata": {},
   "source": [
    "#### PT vuoto"
   ]
  },
  {
   "cell_type": "code",
   "execution_count": 24,
   "metadata": {},
   "outputs": [
    {
     "name": "stdout",
     "output_type": "stream",
     "text": [
      "0B-A\n",
      "120    516\n",
      "121    256\n",
      "128     78\n",
      "122     70\n",
      "127     44\n",
      "123     31\n",
      "129      5\n",
      "Name: count, dtype: int64\n",
      "\n",
      "Massimo: 129\n",
      "Minimo: 120\n",
      "Media: 121.466\n",
      "Varianza: 6.225069069069068\n"
     ]
    }
   ],
   "source": [
    "# Generazione tag\n",
    "data = aprf_bi32[\"0B-A\"]\n",
    "\n",
    "print_data(data)"
   ]
  },
  {
   "cell_type": "code",
   "execution_count": 25,
   "metadata": {},
   "outputs": [
    {
     "name": "stdout",
     "output_type": "stream",
     "text": [
      "0B-V\n",
      "247    563\n",
      "249    141\n",
      "254    104\n",
      "256     65\n",
      "255     54\n",
      "248     53\n",
      "257     19\n",
      "250      1\n",
      "Name: count, dtype: int64\n",
      "\n",
      "Massimo: 257\n",
      "Minimo: 247\n",
      "Media: 249.273\n",
      "Varianza: 11.187658658658657\n"
     ]
    }
   ],
   "source": [
    "# Verifica tag\n",
    "data = aprf_bi32[\"0B-V\"]\n",
    "\n",
    "print_data(data)"
   ]
  },
  {
   "attachments": {},
   "cell_type": "markdown",
   "metadata": {},
   "source": [
    "#### PT 8 byte"
   ]
  },
  {
   "cell_type": "code",
   "execution_count": 26,
   "metadata": {},
   "outputs": [
    {
     "name": "stdout",
     "output_type": "stream",
     "text": [
      "8B-A\n",
      "125    432\n",
      "124    334\n",
      "132     72\n",
      "126     69\n",
      "127     64\n",
      "131     27\n",
      "133      1\n",
      "128      1\n",
      "Name: count, dtype: int64\n",
      "\n",
      "Massimo: 133\n",
      "Minimo: 124\n",
      "Media: 125.54\n",
      "Varianza: 4.945345345345346\n"
     ]
    }
   ],
   "source": [
    "# Generazione tag\n",
    "data = aprf_bi32[\"8B-A\"]\n",
    "\n",
    "print_data(data)"
   ]
  },
  {
   "cell_type": "code",
   "execution_count": 27,
   "metadata": {},
   "outputs": [
    {
     "name": "stdout",
     "output_type": "stream",
     "text": [
      "8B-V\n",
      "255    338\n",
      "256    228\n",
      "257    174\n",
      "263     89\n",
      "258     86\n",
      "262     52\n",
      "264     21\n",
      "265     10\n",
      "259      2\n",
      "Name: count, dtype: int64\n",
      "\n",
      "Massimo: 265\n",
      "Minimo: 255\n",
      "Media: 257.207\n",
      "Varianza: 7.811962962962964\n"
     ]
    }
   ],
   "source": [
    "# Verifica tag\n",
    "data = aprf_bi32[\"8B-V\"]\n",
    "\n",
    "print_data(data)"
   ]
  },
  {
   "attachments": {},
   "cell_type": "markdown",
   "metadata": {},
   "source": [
    "#### PT 16 byte"
   ]
  },
  {
   "cell_type": "code",
   "execution_count": 28,
   "metadata": {},
   "outputs": [
    {
     "name": "stdout",
     "output_type": "stream",
     "text": [
      "16B-A\n",
      "129    486\n",
      "128    219\n",
      "136    154\n",
      "131     77\n",
      "130     46\n",
      "135     16\n",
      "137      2\n",
      "Name: count, dtype: int64\n",
      "\n",
      "Massimo: 137\n",
      "Minimo: 128\n",
      "Media: 130.171\n",
      "Varianza: 7.4592182182182185\n"
     ]
    }
   ],
   "source": [
    "# Generazione tag\n",
    "data = aprf_bi32[\"16B-A\"]\n",
    "\n",
    "print_data(data)"
   ]
  },
  {
   "cell_type": "code",
   "execution_count": 29,
   "metadata": {},
   "outputs": [
    {
     "name": "stdout",
     "output_type": "stream",
     "text": [
      "16B-V\n",
      "264    447\n",
      "263    139\n",
      "266    126\n",
      "271    123\n",
      "265     84\n",
      "273     57\n",
      "272     14\n",
      "270      5\n",
      "267      4\n",
      "274      1\n",
      "Name: count, dtype: int64\n",
      "\n",
      "Massimo: 274\n",
      "Minimo: 263\n",
      "Media: 265.735\n",
      "Varianza: 9.582357357357358\n"
     ]
    }
   ],
   "source": [
    "# Verifica tag\n",
    "data = aprf_bi32[\"16B-V\"]\n",
    "\n",
    "print_data(data)"
   ]
  },
  {
   "attachments": {},
   "cell_type": "markdown",
   "metadata": {},
   "source": [
    "#### PT 32 byte"
   ]
  },
  {
   "cell_type": "code",
   "execution_count": 30,
   "metadata": {},
   "outputs": [
    {
     "name": "stdout",
     "output_type": "stream",
     "text": [
      "32B-A\n",
      "188    502\n",
      "195    172\n",
      "187    145\n",
      "190     99\n",
      "189     58\n",
      "194     12\n",
      "196      8\n",
      "197      3\n",
      "191      1\n",
      "Name: count, dtype: int64\n",
      "\n",
      "Massimo: 197\n",
      "Minimo: 187\n",
      "Media: 189.481\n",
      "Varianza: 8.037676676676677\n"
     ]
    }
   ],
   "source": [
    "# Generazione tag\n",
    "data = aprf_bi32[\"32B-A\"]\n",
    "\n",
    "print_data(data)"
   ]
  },
  {
   "cell_type": "code",
   "execution_count": 31,
   "metadata": {},
   "outputs": [
    {
     "name": "stdout",
     "output_type": "stream",
     "text": [
      "32B-V\n",
      "382    424\n",
      "391    208\n",
      "384    123\n",
      "389     83\n",
      "381     79\n",
      "383     55\n",
      "390     23\n",
      "392      5\n",
      "Name: count, dtype: int64\n",
      "\n",
      "Massimo: 392\n",
      "Minimo: 381\n",
      "Media: 384.909\n",
      "Varianza: 15.065784784784785\n"
     ]
    }
   ],
   "source": [
    "# Verifica tag\n",
    "data = aprf_bi32[\"32B-V\"]\n",
    "\n",
    "print_data(data)"
   ]
  },
  {
   "attachments": {},
   "cell_type": "markdown",
   "metadata": {},
   "source": [
    "#### PT 64 byte"
   ]
  },
  {
   "cell_type": "code",
   "execution_count": 32,
   "metadata": {},
   "outputs": [
    {
     "name": "stdout",
     "output_type": "stream",
     "text": [
      "64B-A\n",
      "255    489\n",
      "257    155\n",
      "262    148\n",
      "263     82\n",
      "256     70\n",
      "264     39\n",
      "265     16\n",
      "258      1\n",
      "Name: count, dtype: int64\n",
      "\n",
      "Massimo: 265\n",
      "Minimo: 255\n",
      "Media: 257.586\n",
      "Varianza: 11.281885885885883\n"
     ]
    }
   ],
   "source": [
    "# Generazione tag\n",
    "data = aprf_bi32[\"64B-A\"]\n",
    "\n",
    "print_data(data)"
   ]
  },
  {
   "cell_type": "code",
   "execution_count": 33,
   "metadata": {},
   "outputs": [
    {
     "name": "stdout",
     "output_type": "stream",
     "text": [
      "64B-V\n",
      "526    228\n",
      "517    201\n",
      "516    143\n",
      "525    108\n",
      "518    104\n",
      "524     99\n",
      "519     85\n",
      "523     25\n",
      "527      7\n",
      "Name: count, dtype: int64\n",
      "\n",
      "Massimo: 527\n",
      "Minimo: 516\n",
      "Media: 520.96\n",
      "Varianza: 16.75315315315315\n"
     ]
    }
   ],
   "source": [
    "# Verifica tag\n",
    "data = aprf_bi32[\"64B-V\"]\n",
    "\n",
    "print_data(data)"
   ]
  },
  {
   "attachments": {},
   "cell_type": "markdown",
   "metadata": {},
   "source": [
    "#### PT 128 byte"
   ]
  },
  {
   "cell_type": "code",
   "execution_count": 34,
   "metadata": {},
   "outputs": [
    {
     "name": "stdout",
     "output_type": "stream",
     "text": [
      "128B-A\n",
      "390    401\n",
      "399    242\n",
      "392    115\n",
      "397    110\n",
      "389     58\n",
      "391     39\n",
      "398     26\n",
      "400      8\n",
      "393      1\n",
      "Name: count, dtype: int64\n",
      "\n",
      "Massimo: 400\n",
      "Minimo: 389\n",
      "Media: 393.45\n",
      "Varianza: 16.135635635635637\n"
     ]
    }
   ],
   "source": [
    "# Generazione tag\n",
    "data = aprf_bi32[\"128B-A\"]\n",
    "\n",
    "print_data(data)"
   ]
  },
  {
   "cell_type": "code",
   "execution_count": 35,
   "metadata": {},
   "outputs": [
    {
     "name": "stdout",
     "output_type": "stream",
     "text": [
      "128B-V\n",
      "795    423\n",
      "788    199\n",
      "793    141\n",
      "796    135\n",
      "794     46\n",
      "786     41\n",
      "787     13\n",
      "789      2\n",
      "Name: count, dtype: int64\n",
      "\n",
      "Massimo: 796\n",
      "Minimo: 786\n",
      "Media: 792.929\n",
      "Varianza: 10.442401401401401\n"
     ]
    }
   ],
   "source": [
    "# Verifica tag\n",
    "data = aprf_bi32[\"128B-V\"]\n",
    "\n",
    "print_data(data)"
   ]
  },
  {
   "attachments": {},
   "cell_type": "markdown",
   "metadata": {},
   "source": [
    "#### PT 256 byte"
   ]
  },
  {
   "cell_type": "code",
   "execution_count": 36,
   "metadata": {},
   "outputs": [
    {
     "name": "stdout",
     "output_type": "stream",
     "text": [
      "256B-A\n",
      "668    261\n",
      "669    253\n",
      "659    137\n",
      "661    115\n",
      "660     65\n",
      "667     62\n",
      "666     54\n",
      "662     44\n",
      "670      8\n",
      "663      1\n",
      "Name: count, dtype: int64\n",
      "\n",
      "Massimo: 670\n",
      "Minimo: 659\n",
      "Media: 665.272\n",
      "Varianza: 15.637653653653654\n"
     ]
    }
   ],
   "source": [
    "# Generazione tag\n",
    "data = aprf_bi32[\"256B-A\"]\n",
    "\n",
    "print_data(data)"
   ]
  },
  {
   "cell_type": "code",
   "execution_count": 37,
   "metadata": {},
   "outputs": [
    {
     "name": "stdout",
     "output_type": "stream",
     "text": [
      "256B-V\n",
      "1334    450\n",
      "1336    145\n",
      "1335    119\n",
      "1343    110\n",
      "1342     59\n",
      "1341     55\n",
      "1344     54\n",
      "1337      8\n",
      "Name: count, dtype: int64\n",
      "\n",
      "Massimo: 1344\n",
      "Minimo: 1334\n",
      "Media: 1336.82\n",
      "Varianza: 13.613213213213214\n"
     ]
    }
   ],
   "source": [
    "# Verifica tag\n",
    "data = aprf_bi32[\"256B-V\"]\n",
    "\n",
    "print_data(data)"
   ]
  },
  {
   "attachments": {},
   "cell_type": "markdown",
   "metadata": {},
   "source": [
    "#### PT 512 byte"
   ]
  },
  {
   "cell_type": "code",
   "execution_count": 38,
   "metadata": {},
   "outputs": [
    {
     "name": "stdout",
     "output_type": "stream",
     "text": [
      "512B-A\n",
      "1207    312\n",
      "1208    309\n",
      "1215    126\n",
      "1209     98\n",
      "1214     86\n",
      "1210     61\n",
      "1216      7\n",
      "1211      1\n",
      "Name: count, dtype: int64\n",
      "\n",
      "Massimo: 1216\n",
      "Minimo: 1207\n",
      "Media: 1209.365\n",
      "Varianza: 8.526301301301302\n"
     ]
    }
   ],
   "source": [
    "# Generazione tag\n",
    "data = aprf_bi32[\"512B-A\"]\n",
    "\n",
    "print_data(data)"
   ]
  },
  {
   "cell_type": "code",
   "execution_count": 39,
   "metadata": {},
   "outputs": [
    {
     "name": "stdout",
     "output_type": "stream",
     "text": [
      "512B-V\n",
      "2421    293\n",
      "2423    177\n",
      "2422    144\n",
      "2430    117\n",
      "2431    102\n",
      "2429     61\n",
      "2428     54\n",
      "2424     51\n",
      "2432      1\n",
      "Name: count, dtype: int64\n",
      "\n",
      "Massimo: 2432\n",
      "Minimo: 2421\n",
      "Media: 2424.601\n",
      "Varianza: 14.706505505505504\n"
     ]
    }
   ],
   "source": [
    "# Verifica tag\n",
    "data = aprf_bi32[\"512B-V\"]\n",
    "\n",
    "print_data(data)"
   ]
  },
  {
   "attachments": {},
   "cell_type": "markdown",
   "metadata": {},
   "source": [
    "#### PT 1024 byte"
   ]
  },
  {
   "cell_type": "code",
   "execution_count": 40,
   "metadata": {},
   "outputs": [
    {
     "name": "stdout",
     "output_type": "stream",
     "text": [
      "1024B-A\n",
      "2295    254\n",
      "2294    205\n",
      "2302    179\n",
      "2296    116\n",
      "2297    104\n",
      "2301     64\n",
      "2304     40\n",
      "2303     31\n",
      "2305      5\n",
      "2298      2\n",
      "Name: count, dtype: int64\n",
      "\n",
      "Massimo: 2305\n",
      "Minimo: 2294\n",
      "Media: 2297.42\n",
      "Varianza: 11.709309309309306\n"
     ]
    }
   ],
   "source": [
    "# Generazione tag\n",
    "data = aprf_bi32[\"1024B-A\"]\n",
    "\n",
    "print_data(data)"
   ]
  },
  {
   "cell_type": "code",
   "execution_count": 41,
   "metadata": {},
   "outputs": [
    {
     "name": "stdout",
     "output_type": "stream",
     "text": [
      "1024B-V\n",
      "4605    208\n",
      "4604    167\n",
      "4597    147\n",
      "4598    126\n",
      "4603    105\n",
      "4596     89\n",
      "4595     81\n",
      "4602     58\n",
      "4606     19\n",
      "Name: count, dtype: int64\n",
      "\n",
      "Massimo: 4606\n",
      "Minimo: 4595\n",
      "Media: 4600.799\n",
      "Varianza: 14.384983983983982\n"
     ]
    }
   ],
   "source": [
    "# Verifica tag\n",
    "data = aprf_bi32[\"1024B-V\"]\n",
    "\n",
    "print_data(data)"
   ]
  },
  {
   "attachments": {},
   "cell_type": "markdown",
   "metadata": {},
   "source": [
    "### Ref"
   ]
  },
  {
   "cell_type": "code",
   "execution_count": 42,
   "metadata": {},
   "outputs": [],
   "source": [
    "with open(path.format(\"ref\"), \"r\") as f:\n",
    "    aprf_ref = pd.read_csv(f, delimiter=\";\")"
   ]
  },
  {
   "attachments": {},
   "cell_type": "markdown",
   "metadata": {},
   "source": [
    "#### PT vuoto"
   ]
  },
  {
   "cell_type": "code",
   "execution_count": 43,
   "metadata": {},
   "outputs": [
    {
     "name": "stdout",
     "output_type": "stream",
     "text": [
      "0B-A\n",
      "168    594\n",
      "170    134\n",
      "175    115\n",
      "167     87\n",
      "169     46\n",
      "176     18\n",
      "177      5\n",
      "171      1\n",
      "Name: count, dtype: int64\n",
      "\n",
      "Massimo: 177\n",
      "Minimo: 167\n",
      "Media: 169.224\n",
      "Varianza: 6.378202202202201\n"
     ]
    }
   ],
   "source": [
    "# Generazione tag\n",
    "data = aprf_ref[\"0B-A\"]\n",
    "\n",
    "print_data(data)"
   ]
  },
  {
   "cell_type": "code",
   "execution_count": 44,
   "metadata": {},
   "outputs": [
    {
     "name": "stdout",
     "output_type": "stream",
     "text": [
      "0B-V\n",
      "342    391\n",
      "344    247\n",
      "349    182\n",
      "350     81\n",
      "351     47\n",
      "343     38\n",
      "352     14\n",
      "Name: count, dtype: int64\n",
      "\n",
      "Massimo: 352\n",
      "Minimo: 342\n",
      "Media: 345.017\n",
      "Varianza: 11.243954954954956\n"
     ]
    }
   ],
   "source": [
    "# Verifica tag\n",
    "data = aprf_ref[\"0B-V\"]\n",
    "\n",
    "print_data(data)"
   ]
  },
  {
   "attachments": {},
   "cell_type": "markdown",
   "metadata": {},
   "source": [
    "#### PT 8 byte"
   ]
  },
  {
   "cell_type": "code",
   "execution_count": 45,
   "metadata": {},
   "outputs": [
    {
     "name": "stdout",
     "output_type": "stream",
     "text": [
      "8B-A\n",
      "173    558\n",
      "175    174\n",
      "180    119\n",
      "174     76\n",
      "181     60\n",
      "182      7\n",
      "183      3\n",
      "176      3\n",
      "Name: count, dtype: int64\n",
      "\n",
      "Massimo: 183\n",
      "Minimo: 173\n",
      "Media: 174.839\n",
      "Varianza: 7.963042042042042\n"
     ]
    }
   ],
   "source": [
    "# Generazione tag\n",
    "data = aprf_ref[\"8B-A\"]\n",
    "\n",
    "print_data(data)"
   ]
  },
  {
   "cell_type": "code",
   "execution_count": 46,
   "metadata": {},
   "outputs": [
    {
     "name": "stdout",
     "output_type": "stream",
     "text": [
      "8B-V\n",
      "353    247\n",
      "360    187\n",
      "352    174\n",
      "354    140\n",
      "355    116\n",
      "362     54\n",
      "359     50\n",
      "361     32\n",
      "Name: count, dtype: int64\n",
      "\n",
      "Massimo: 362\n",
      "Minimo: 352\n",
      "Media: 355.549\n",
      "Varianza: 11.677276276276274\n"
     ]
    }
   ],
   "source": [
    "# Verifica tag\n",
    "data = aprf_ref[\"8B-V\"]\n",
    "\n",
    "print_data(data)"
   ]
  },
  {
   "attachments": {},
   "cell_type": "markdown",
   "metadata": {},
   "source": [
    "#### PT 16 byte"
   ]
  },
  {
   "cell_type": "code",
   "execution_count": 47,
   "metadata": {},
   "outputs": [
    {
     "name": "stdout",
     "output_type": "stream",
     "text": [
      "16B-A\n",
      "178    411\n",
      "179    228\n",
      "180    122\n",
      "186    104\n",
      "185     75\n",
      "181     45\n",
      "187     10\n",
      "188      5\n",
      "Name: count, dtype: int64\n",
      "\n",
      "Massimo: 188\n",
      "Minimo: 178\n",
      "Media: 180.104\n",
      "Varianza: 8.34352752752753\n"
     ]
    }
   ],
   "source": [
    "# Generazione tag\n",
    "data = aprf_ref[\"16B-A\"]\n",
    "\n",
    "print_data(data)"
   ]
  },
  {
   "cell_type": "code",
   "execution_count": 48,
   "metadata": {},
   "outputs": [
    {
     "name": "stdout",
     "output_type": "stream",
     "text": [
      "16B-V\n",
      "363    373\n",
      "365    252\n",
      "370    152\n",
      "371     92\n",
      "372     51\n",
      "364     47\n",
      "373     25\n",
      "366      8\n",
      "Name: count, dtype: int64\n",
      "\n",
      "Massimo: 373\n",
      "Minimo: 363\n",
      "Media: 366.084\n",
      "Varianza: 11.59453853853854\n"
     ]
    }
   ],
   "source": [
    "# Verifica tag\n",
    "data = aprf_ref[\"16B-V\"]\n",
    "\n",
    "print_data(data)"
   ]
  },
  {
   "attachments": {},
   "cell_type": "markdown",
   "metadata": {},
   "source": [
    "#### PT 32 byte"
   ]
  },
  {
   "cell_type": "code",
   "execution_count": 49,
   "metadata": {},
   "outputs": [
    {
     "name": "stdout",
     "output_type": "stream",
     "text": [
      "32B-A\n",
      "262    303\n",
      "270    171\n",
      "264    169\n",
      "263    164\n",
      "269     93\n",
      "265     68\n",
      "271     17\n",
      "272     14\n",
      "273      1\n",
      "Name: count, dtype: int64\n",
      "\n",
      "Massimo: 273\n",
      "Minimo: 262\n",
      "Media: 265.029\n",
      "Varianza: 10.686845845845845\n"
     ]
    }
   ],
   "source": [
    "# Generazione tag\n",
    "data = aprf_ref[\"32B-A\"]\n",
    "\n",
    "print_data(data)"
   ]
  },
  {
   "cell_type": "code",
   "execution_count": 50,
   "metadata": {},
   "outputs": [
    {
     "name": "stdout",
     "output_type": "stream",
     "text": [
      "32B-V\n",
      "533    313\n",
      "538    206\n",
      "531    161\n",
      "540    136\n",
      "539    109\n",
      "541     43\n",
      "532     28\n",
      "534      4\n",
      "Name: count, dtype: int64\n",
      "\n",
      "Massimo: 541\n",
      "Minimo: 531\n",
      "Media: 535.634\n",
      "Varianza: 12.240284284284282\n"
     ]
    }
   ],
   "source": [
    "# Verifica tag\n",
    "data = aprf_ref[\"32B-V\"]\n",
    "\n",
    "print_data(data)"
   ]
  },
  {
   "attachments": {},
   "cell_type": "markdown",
   "metadata": {},
   "source": [
    "#### PT 64 byte"
   ]
  },
  {
   "cell_type": "code",
   "execution_count": 51,
   "metadata": {},
   "outputs": [
    {
     "name": "stdout",
     "output_type": "stream",
     "text": [
      "64B-A\n",
      "357    356\n",
      "364    245\n",
      "359    220\n",
      "366     60\n",
      "358     45\n",
      "365     35\n",
      "356     32\n",
      "367      6\n",
      "360      1\n",
      "Name: count, dtype: int64\n",
      "\n",
      "Massimo: 367\n",
      "Minimo: 356\n",
      "Media: 360.051\n",
      "Varianza: 11.373772772772774\n"
     ]
    }
   ],
   "source": [
    "# Generazione tag\n",
    "data = aprf_ref[\"64B-A\"]\n",
    "\n",
    "print_data(data)"
   ]
  },
  {
   "cell_type": "code",
   "execution_count": 52,
   "metadata": {},
   "outputs": [
    {
     "name": "stdout",
     "output_type": "stream",
     "text": [
      "64B-V\n",
      "729    315\n",
      "722    295\n",
      "727    140\n",
      "730    118\n",
      "728     80\n",
      "720     41\n",
      "723      7\n",
      "721      4\n",
      "Name: count, dtype: int64\n",
      "\n",
      "Massimo: 730\n",
      "Minimo: 720\n",
      "Media: 726.25\n",
      "Varianza: 11.49099099099099\n"
     ]
    }
   ],
   "source": [
    "# Verifica tag\n",
    "data = aprf_ref[\"64B-V\"]\n",
    "\n",
    "print_data(data)"
   ]
  },
  {
   "attachments": {},
   "cell_type": "markdown",
   "metadata": {},
   "source": [
    "#### PT 128 byte"
   ]
  },
  {
   "cell_type": "code",
   "execution_count": 53,
   "metadata": {},
   "outputs": [
    {
     "name": "stdout",
     "output_type": "stream",
     "text": [
      "128B-A\n",
      "548    279\n",
      "553    263\n",
      "555    223\n",
      "546     95\n",
      "547     58\n",
      "554     57\n",
      "556     16\n",
      "545      8\n",
      "549      1\n",
      "Name: count, dtype: int64\n",
      "\n",
      "Massimo: 556\n",
      "Minimo: 545\n",
      "Media: 551.075\n",
      "Varianza: 11.64502002002002\n"
     ]
    }
   ],
   "source": [
    "# Generazione tag\n",
    "data = aprf_ref[\"128B-A\"]\n",
    "\n",
    "print_data(data)"
   ]
  },
  {
   "cell_type": "code",
   "execution_count": 54,
   "metadata": {},
   "outputs": [
    {
     "name": "stdout",
     "output_type": "stream",
     "text": [
      "128B-V\n",
      "1107    565\n",
      "1108    310\n",
      "1109     78\n",
      "1110     23\n",
      "1115     13\n",
      "1114     10\n",
      "1116      1\n",
      "Name: count, dtype: int64\n",
      "\n",
      "Massimo: 1116\n",
      "Minimo: 1107\n",
      "Media: 1107.718\n",
      "Varianza: 1.7181941941941943\n"
     ]
    }
   ],
   "source": [
    "# Verifica tag\n",
    "data = aprf_ref[\"128B-V\"]\n",
    "\n",
    "print_data(data)"
   ]
  },
  {
   "attachments": {},
   "cell_type": "markdown",
   "metadata": {},
   "source": [
    "#### PT 256 byte"
   ]
  },
  {
   "cell_type": "code",
   "execution_count": 55,
   "metadata": {},
   "outputs": [
    {
     "name": "stdout",
     "output_type": "stream",
     "text": [
      "256B-A\n",
      "933    736\n",
      "934    144\n",
      "926     49\n",
      "931     45\n",
      "932     19\n",
      "925      5\n",
      "935      2\n",
      "Name: count, dtype: int64\n",
      "\n",
      "Massimo: 935\n",
      "Minimo: 925\n",
      "Media: 932.656\n",
      "Varianza: 2.9566206206206203\n"
     ]
    }
   ],
   "source": [
    "# Generazione tag\n",
    "data = aprf_ref[\"256B-A\"]\n",
    "\n",
    "print_data(data)"
   ]
  },
  {
   "cell_type": "code",
   "execution_count": 56,
   "metadata": {},
   "outputs": [
    {
     "name": "stdout",
     "output_type": "stream",
     "text": [
      "256B-V\n",
      "1873    427\n",
      "1872    259\n",
      "1871     88\n",
      "1865     84\n",
      "1866     67\n",
      "1870     40\n",
      "1874     33\n",
      "1863      2\n",
      "Name: count, dtype: int64\n",
      "\n",
      "Massimo: 1874\n",
      "Minimo: 1863\n",
      "Media: 1871.317\n",
      "Varianza: 7.03754854854855\n"
     ]
    }
   ],
   "source": [
    "# Verifica tag\n",
    "data = aprf_ref[\"256B-V\"]\n",
    "\n",
    "print_data(data)"
   ]
  },
  {
   "attachments": {},
   "cell_type": "markdown",
   "metadata": {},
   "source": [
    "#### PT 512 byte"
   ]
  },
  {
   "cell_type": "code",
   "execution_count": 57,
   "metadata": {},
   "outputs": [
    {
     "name": "stdout",
     "output_type": "stream",
     "text": [
      "512B-A\n",
      "1691    214\n",
      "1698    204\n",
      "1699    198\n",
      "1697    148\n",
      "1696    105\n",
      "1692     63\n",
      "1689     41\n",
      "1690     22\n",
      "1700      5\n",
      "Name: count, dtype: int64\n",
      "\n",
      "Massimo: 1700\n",
      "Minimo: 1689\n",
      "Media: 1695.429\n",
      "Varianza: 11.670629629629628\n"
     ]
    }
   ],
   "source": [
    "# Generazione tag\n",
    "data = aprf_ref[\"512B-A\"]\n",
    "\n",
    "print_data(data)"
   ]
  },
  {
   "cell_type": "code",
   "execution_count": 58,
   "metadata": {},
   "outputs": [
    {
     "name": "stdout",
     "output_type": "stream",
     "text": [
      "512B-V\n",
      "3396    250\n",
      "3394    212\n",
      "3401    183\n",
      "3402    132\n",
      "3395     72\n",
      "3403     63\n",
      "3397     46\n",
      "3404     38\n",
      "3393      4\n",
      "Name: count, dtype: int64\n",
      "\n",
      "Massimo: 3404\n",
      "Minimo: 3393\n",
      "Media: 3397.99\n",
      "Varianza: 11.8997997997998\n"
     ]
    }
   ],
   "source": [
    "# Verifica tag\n",
    "data = aprf_ref[\"512B-V\"]\n",
    "\n",
    "print_data(data)"
   ]
  },
  {
   "attachments": {},
   "cell_type": "markdown",
   "metadata": {},
   "source": [
    "#### PT 1024 byte"
   ]
  },
  {
   "cell_type": "code",
   "execution_count": 59,
   "metadata": {},
   "outputs": [
    {
     "name": "stdout",
     "output_type": "stream",
     "text": [
      "1024B-A\n",
      "3220    415\n",
      "3222    166\n",
      "3227    134\n",
      "3221    125\n",
      "3219     75\n",
      "3228     52\n",
      "3223     19\n",
      "3229      9\n",
      "3226      3\n",
      "3230      2\n",
      "Name: count, dtype: int64\n",
      "\n",
      "Massimo: 3230\n",
      "Minimo: 3219\n",
      "Media: 3221.912\n",
      "Varianza: 8.318574574574573\n"
     ]
    }
   ],
   "source": [
    "# Generazione tag\n",
    "data = aprf_ref[\"1024B-A\"]\n",
    "\n",
    "print_data(data)"
   ]
  },
  {
   "cell_type": "code",
   "execution_count": 60,
   "metadata": {},
   "outputs": [
    {
     "name": "stdout",
     "output_type": "stream",
     "text": [
      "1024B-V\n",
      "6448    221\n",
      "6454    174\n",
      "6446    157\n",
      "6453    140\n",
      "6449     97\n",
      "6447     93\n",
      "6455     75\n",
      "6456     39\n",
      "6445      1\n",
      "6457      1\n",
      "6450      1\n",
      "6452      1\n",
      "Name: count, dtype: int64\n",
      "\n",
      "Massimo: 6457\n",
      "Minimo: 6445\n",
      "Media: 6450.283\n",
      "Varianza: 11.662573573573578\n"
     ]
    }
   ],
   "source": [
    "# Verifica tag\n",
    "data = aprf_ref[\"1024B-V\"]\n",
    "\n",
    "print_data(data)"
   ]
  }
 ],
 "metadata": {
  "kernelspec": {
   "display_name": "Python 3",
   "language": "python",
   "name": "python3"
  },
  "language_info": {
   "codemirror_mode": {
    "name": "ipython",
    "version": 3
   },
   "file_extension": ".py",
   "mimetype": "text/x-python",
   "name": "python",
   "nbconvert_exporter": "python",
   "pygments_lexer": "ipython3",
   "version": "3.11.2"
  },
  "orig_nbformat": 4
 },
 "nbformat": 4,
 "nbformat_minor": 2
}
